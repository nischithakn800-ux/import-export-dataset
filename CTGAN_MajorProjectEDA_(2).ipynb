{
  "nbformat": 4,
  "nbformat_minor": 0,
  "metadata": {
    "colab": {
      "provenance": [],
      "include_colab_link": true
    },
    "kernelspec": {
      "name": "python3",
      "display_name": "Python 3"
    },
    "language_info": {
      "name": "python"
    }
  },
  "cells": [
    {
      "cell_type": "markdown",
      "metadata": {
        "id": "view-in-github",
        "colab_type": "text"
      },
      "source": [
        "<a href=\"https://colab.research.google.com/github/nischithakn800-ux/import-export-dataset/blob/main/CTGAN_MajorProjectEDA_(2).ipynb\" target=\"_parent\"><img src=\"https://colab.research.google.com/assets/colab-badge.svg\" alt=\"Open In Colab\"/></a>"
      ]
    },
    {
      "cell_type": "markdown",
      "source": [
        "---------------------------\n",
        "\n",
        "# **Project Title:**\n",
        "\n",
        "# **MEDSYNTH: PREDICTIVE ANALYTICS FOR SYNTHETIC PATIENT DATA**\n",
        "\n",
        "\n",
        "-------------------------------------------------------------"
      ],
      "metadata": {
        "id": "_ggLFXLdDizq"
      }
    },
    {
      "cell_type": "markdown",
      "source": [
        "**Project Type :**\n",
        " EDA + Hypothesis Testing + Supervised & Unsupervised Models+ Synthetic data Generation (CTGAN)+ Neural Network + Deployment(streamlit).\n",
        "\n",
        "**Contribution:** Team\n",
        "\n",
        "**Team Members:**\n",
        "\n",
        "\n",
        "1.   Fida Taneem\n",
        "2.   Isha Shrivastava\n",
        "3.   Manthan M Y\n",
        "4.   Nischitha K N\n",
        "5.   Padakandla Venkata Naga Sai Hasini\n",
        "\n",
        "---------------------------------------------------------\n"
      ],
      "metadata": {
        "id": "z3JwGlSbrvlE"
      }
    },
    {
      "cell_type": "markdown",
      "source": [
        "# **Project Summary:**\n",
        "\n",
        "This project delivers an end-to-end machine learning pipeline for synthetic health data, focused on predicting patient multimorbidity risk. The workflow spans from initial data exploration and cleaning to advanced predictive modelling and production deployment. Key steps include:\n",
        "\n",
        "- Comprehensive exploratory data analysis (EDA) to uncover trends, outliers, and relationships in health records.\n",
        "\n",
        "- Rigorous data preprocessing, merging, feature engineering, and encoding to ensure high-quality model-ready datasets.\n",
        "\n",
        "- Robust risk prediction using state-of-the-art classifiers, with special techniques to address class imbalance and ensure fair, reliable identification of multimorbid (high-risk) patients.\n",
        "\n",
        "- Use of CTGAN, a generative neural network, to synthesize additional samples for the underrepresented class—greatly improving model performance on rare and critical cases.\n",
        "\n",
        "- Seamless model deployment, making predictions accessible through user-friendly interfaces suitable for real-world healthcare applications.\n",
        "\n",
        "This pipeline not only advances machine learning methodology with synthetic data augmentation, but also demonstrates practical value by producing actionable predictions to support better patient outcomes in complex clinical environments.\n",
        "\n",
        "------------------------------------------------------"
      ],
      "metadata": {
        "id": "jXSzoCfvrvZN"
      }
    },
    {
      "cell_type": "markdown",
      "source": [
        "\n",
        "\n",
        "### **Objective:**\n",
        "\n",
        "Predict the risk of multimorbidity using synthetic patient data, augmenting rare classes with CTGAN to improve classifier performance and provide robust, scalable healthcare analytics.\n",
        "\n",
        "### **Business Context:**\n",
        "\n",
        "Healthcare providers face rising complexity due to multiple chronic conditions in aging populations.\n",
        "\n",
        "The goal is to develop predictive models for multimorbidity, enhancing care coordination and supporting patient-centered management.\n",
        "\n",
        "\n",
        "------------------------------------------------------"
      ],
      "metadata": {
        "id": "81mQFCgZrvh9"
      }
    },
    {
      "cell_type": "markdown",
      "source": [
        "### **Subject:** Medical\n",
        "\n",
        "### **Data Source**: Synthetic patient records  from the Synthea repository(Kaggle).\n",
        "\n",
        "------------------------------------\n"
      ],
      "metadata": {
        "id": "fd_FgOG-rvep"
      }
    },
    {
      "cell_type": "markdown",
      "source": [
        "**Population:**\n",
        "Synthetic patient records (11 CSV files) representing diverse demographics from Massachusetts, USA, spanning multiple age groups and ethnicities\n",
        "\n",
        "**Total count of patient data:** 1462 records\n",
        "\n",
        "**Key Features:**\n",
        "\n",
        "- Demographics: Age, gender, race, ethnicity\n",
        "\n",
        "- Clinical History: Number of conditions, medications, procedures\n",
        "\n",
        "- Healthcare Utilization: Encounter frequency, total claims amount\n",
        "\n",
        "- Temporal Data: Birth dates, encounter dates, condition onset/resolution\n",
        "\n",
        "\n",
        "---------------------------------------\n",
        "\n",
        "\n"
      ],
      "metadata": {
        "id": "D2ILjapu3j2I"
      }
    },
    {
      "cell_type": "markdown",
      "source": [
        "# **DATA PREPROCESSING**\n",
        "\n",
        "### **1. Data Collection**\n",
        "\n",
        "**Dataset:** Synthetic healthcare data generated by Synthea, comprising multiple tables: patients, conditions, claims, encounters, medications, etc.\n",
        "\n",
        "**Scope:** ~1,462 synthetic patient profiles; each linked to a rich set of medical, demographic, and healthcare utilization variables.\n",
        "\n",
        "**Features:** Demographics (age, gender, race), medical history (number of conditions, medications), financial (total claims), encounters, allergies, and more.\n",
        "\n",
        "\n",
        "### **2. Cleaning**\n",
        "\n",
        "- Standardize column names and patient IDs across tables.\n",
        "\n",
        "- Handle missing values by imputation (median for cost/utilization variables, mode for categorical features).\n",
        "\n",
        "- Remove duplicate patient records and verify consistent linkage across tables.\n",
        "\n",
        "- Convert dates to proper datetime format and derive age, encounter years, etc.\n",
        "\n",
        "- Check and address class imbalance in multimorbidity outcome.\n",
        "\n",
        "### **3. Feature Engineering**\n",
        "\n",
        "- Create age groups (Young <35, Middle 35–60, Senior >60).\n",
        "\n",
        "- Generate risk bins for key numeric variables: high claims, high medication count, frequent encounters.\n",
        "\n",
        "- Aggregate features per patient (e.g., total conditions, total claims, encounter frequency).\n",
        "\n",
        "- Develop interaction features (e.g., age × num_conditions, num_meds × total_claims).\n",
        "\n",
        "- Flag patients meeting high-risk thresholds (e.g., polypharmacy ≥5 meds, high-cost ≥90th percentile claims).\n",
        "\n",
        "----------------------------------------------"
      ],
      "metadata": {
        "id": "r_cR1Yys6Ogy"
      }
    },
    {
      "cell_type": "markdown",
      "source": [
        "# **TECHNIQUES USED**\n",
        "\n",
        "## **1. Univariate Analysis**\n",
        "\n",
        "Histograms: Distribution of claims, age, condition and medication counts.\n",
        "\n",
        "Boxplots: Detection of cost outliers (total_claims), medication outliers (num_meds).\n",
        "\n",
        "Barplots/Countplots: Proportion of multimorbid vs non-multimorbid patients.\n",
        "\n",
        "## **2. Bivariate Analysis**\n",
        "\n",
        "Scatterplots: Age vs total claims, num_conditions vs num_meds.\n",
        "\n",
        "Boxplots by Outcome: Compare claims, meds, conditions between multimorbid and other groups.\n",
        "\n",
        "Violin plots: Visualize distribution differences across multimorbidity status.\n",
        "\n",
        "## **3. Multivariate Analysis**\n",
        "\n",
        "Correlation Heatmap: Reveal relationships between utilization, demographic, and outcome variables (e.g., total_claims correlated with num_conditions and num_meds).\n",
        "\n",
        "Parallel categories plot: Explore categorical interactions among age group, conditions, meds, and claim groups.\n",
        "\n",
        "Cluster analysis (optional): Group patients by medical complexity for stratification.\n",
        "\n",
        "## **4. Hypothesis Testing**\n",
        "\n",
        "T-tests/Mann-Whitney: Compare mean claims/medication counts between multimorbid and non-multimorbid groups.\n",
        "\n",
        "Chi-square tests: Assess associations between age group, gender, and multimorbidity status.\n",
        "\n",
        "## **5. Trend/Pattern Analysis**\n",
        "\n",
        "Age group vs Multimorbidity: Higher prevalence seen in older age groups.\n",
        "\n",
        "Polypharmacy vs Multimorbidity: Patients with many medications are predominantly multimorbid.\n",
        "\n",
        "Claims & Encounters: High healthcare costs and frequent encounters often co-occur with multimorbidity.\n",
        "\n",
        "## **6. Predictive Modelling**\n",
        "Supervised Classification: Used models such as Random Forest, XGBoost, and Neural Networks to predict whether an individual is multimorbid (≥2 conditions). Models evaluated using metrics like accuracy, recall, ROC-AUC, and confusion matrices.\n",
        "\n",
        "\n",
        "\n",
        "## **7. Synthetic Data Generation with CTGAN**\n",
        "Problem Addressed: Imbalanced dataset with far fewer multimorbid cases.\n",
        "\n",
        "Solution: Used CTGAN (Conditional Tabular GAN), a neural network-based generative model, to synthesize realistic artificial patient records for the minority class.\n",
        "\n",
        "\n",
        "## **8. Deployment**\n",
        "Model Export: Saved pre-processing pipeline and trained model artifacts.\n",
        "\n",
        "User Interface:\n",
        " Deployed the predictive pipeline using a web-based dashboard (e.g., Streamlit), enabling interactive risk predictions for new data in real time.\n",
        "\n",
        "Accessibility: The solution is made usable by clinicians and analysts for practical, point-of-care deployments."
      ],
      "metadata": {
        "id": "9jVT29Sv7KBx"
      }
    },
    {
      "cell_type": "markdown",
      "source": [
        "# **GITHUB LINK:**\n",
        "\n",
        "https://github.com/Fidaaz2521/_CTGAN_Major_Project\n",
        "\n",
        "--------------------------------------------"
      ],
      "metadata": {
        "id": "cRHu_32u74Xe"
      }
    },
    {
      "cell_type": "markdown",
      "source": [
        "# **Let's Begin!**"
      ],
      "metadata": {
        "id": "zXFQRbqB74Dr"
      }
    },
    {
      "cell_type": "markdown",
      "source": [
        "# Importing the Libraries"
      ],
      "metadata": {
        "id": "xNpnwIm39g9m"
      }
    },
    {
      "cell_type": "code",
      "source": [
        "import pandas as pd\n",
        "import numpy as np\n",
        "import seaborn as sns\n",
        "import matplotlib.pyplot as plt\n",
        "\n",
        "from datetime import datetime\n",
        "\n",
        "import plotly.express as px\n",
        "import plotly.graph_objects as go\n",
        "from sklearn.preprocessing import LabelEncoder, StandardScaler"
      ],
      "metadata": {
        "id": "F5g62xGz1UEP"
      },
      "execution_count": 1,
      "outputs": []
    },
    {
      "cell_type": "markdown",
      "source": [
        "# Import the Dataset into Colab"
      ],
      "metadata": {
        "id": "80K3JUXq9sC5"
      }
    },
    {
      "cell_type": "code",
      "source": [
        "# Load all files\n",
        "patients = pd.read_csv(\"https://raw.githubusercontent.com/Fidaaz2521/_CTGAN_Major_Project/main/patients.csv\")\n",
        "allergies = pd.read_csv(\"https://raw.githubusercontent.com/Fidaaz2521/_CTGAN_Major_Project/main/allergies.csv\")\n",
        "careplans = pd.read_csv(\"https://raw.githubusercontent.com/Fidaaz2521/_CTGAN_Major_Project/main/careplans.csv\")\n",
        "claims = pd.read_csv(\"https://raw.githubusercontent.com/Fidaaz2521/_CTGAN_Major_Project/main/claims.csv\")\n",
        "conditions = pd.read_csv(\"https://raw.githubusercontent.com/Fidaaz2521/_CTGAN_Major_Project/main/conditions.csv\")\n",
        "encounters = pd.read_csv(\"https://raw.githubusercontent.com/Fidaaz2521/_CTGAN_Major_Project/main/encounters.csv\")\n",
        "immunizations = pd.read_csv(\"https://raw.githubusercontent.com/Fidaaz2521/_CTGAN_Major_Project/main/immunizations.csv\")\n",
        "medications = pd.read_csv(\"https://raw.githubusercontent.com/Fidaaz2521/_CTGAN_Major_Project/main/medications.csv\")\n",
        "observations = pd.read_csv(\"https://raw.githubusercontent.com/Fidaaz2521/_CTGAN_Major_Project/main/observations.csv\")\n",
        "procedures = pd.read_csv(\"https://raw.githubusercontent.com/Fidaaz2521/_CTGAN_Major_Project/main/procedures.csv\")\n",
        "prevalence = pd.read_csv(\"https://raw.githubusercontent.com/Fidaaz2521/_CTGAN_Major_Project/main/all_prevalences.csv\")\n",
        "\n",
        "print(\"Patients:\", patients.shape)\n",
        "print(\"Conditions:\", conditions.shape)\n",
        "print(\"Claims:\", claims.shape)\n"
      ],
      "metadata": {
        "id": "WDu2yrnW1UBe",
        "colab": {
          "base_uri": "https://localhost:8080/"
        },
        "outputId": "ae6bc154-1e07-4b9f-f208-7f669833d6d6"
      },
      "execution_count": 2,
      "outputs": [
        {
          "output_type": "stream",
          "name": "stdout",
          "text": [
            "Patients: (1462, 17)\n",
            "Conditions: (7040, 6)\n",
            "Claims: (20523, 7)\n"
          ]
        }
      ]
    },
    {
      "cell_type": "markdown",
      "source": [
        "# Dictionary of Datasets"
      ],
      "metadata": {
        "id": "lg9pa-Pq94bx"
      }
    },
    {
      "cell_type": "code",
      "source": [
        "datasets = {\n",
        "    \"patients\": patients,\n",
        "    \"allergies\": allergies,\n",
        "    \"careplans\": careplans,\n",
        "    \"claims\": claims,\n",
        "    \"conditions\": conditions,\n",
        "    \"encounters\": encounters,\n",
        "    \"immunizations\": immunizations,\n",
        "    \"medications\": medications,\n",
        "    \"observations\": observations,\n",
        "    \"procedures\": procedures,\n",
        "    \"prevalence\": prevalence\n",
        "}\n",
        "\n"
      ],
      "metadata": {
        "id": "vT_8RXh2jgSM"
      },
      "execution_count": 3,
      "outputs": []
    },
    {
      "cell_type": "markdown",
      "source": [
        "---------------------------------\n",
        "\n",
        "# **Comprehensive Data Overview**\n",
        "\n",
        "    This block gives  a quick health check on each file, spot missing/value and type issues early, and is vital when merging tables."
      ],
      "metadata": {
        "id": "fON1dhc7ankd"
      }
    },
    {
      "cell_type": "code",
      "source": [
        "def comprehensive_data_overview(df, df_name=\"DataFrame\"):\n",
        "\n",
        "    print(\"=\"*60)\n",
        "    print(f\"📊 OVERVIEW OF {df_name.upper()}\")\n",
        "    print(\"=\"*60)\n",
        "\n",
        "    print(f\"Shape: {df.shape}\")\n",
        "    print(\"Columns:\", df.columns.tolist())\n",
        "    print(f\"Memory Usage: {df.memory_usage(deep=True).sum() / 1024**2:.2f} MB\")\n",
        "\n",
        "    dtype_counts = df.dtypes.value_counts()\n",
        "    print(\"Data Types:\")\n",
        "    print(dtype_counts)\n",
        "\n",
        "    missing_data = df.isnull().sum()\n",
        "    missing_percent = (missing_data / len(df)) * 100\n",
        "    missing_df = pd.DataFrame({\n",
        "        'Missing_Count': missing_data,\n",
        "        'Missing_Percentage': missing_percent\n",
        "    }).sort_values('Missing_Percentage', ascending=False)\n",
        "    print(\"Missing Values (Top 10):\")\n",
        "    print(missing_df[missing_df['Missing_Count'] > 0].head(10))\n",
        "\n",
        "    unique_counts = df.nunique().sort_values(ascending=False)\n",
        "    print(\"Unique Count (Top 10):\")\n",
        "    print(unique_counts.head(10))\n",
        "    print(\"\\nSample Data:\")\n",
        "    print(df.head())\n",
        "    print(\"=\"*60)\n",
        "\n",
        "    return missing_df, unique_counts\n",
        "\n",
        "\n"
      ],
      "metadata": {
        "id": "HcaTCsKiXHRZ"
      },
      "execution_count": 4,
      "outputs": []
    },
    {
      "cell_type": "markdown",
      "source": [
        "## Displaying the Comprehensive Data Overview"
      ],
      "metadata": {
        "id": "c6pwQl7G-O7I"
      }
    },
    {
      "cell_type": "code",
      "source": [
        "for name, df in datasets.items():\n",
        "    comprehensive_data_overview(df, name)\n"
      ],
      "metadata": {
        "colab": {
          "base_uri": "https://localhost:8080/"
        },
        "id": "7z9CHetAZrMH",
        "outputId": "a56dc145-9b10-4328-9d76-f759e954d8fa"
      },
      "execution_count": 5,
      "outputs": [
        {
          "output_type": "stream",
          "name": "stdout",
          "text": [
            "============================================================\n",
            "📊 OVERVIEW OF PATIENTS\n",
            "============================================================\n",
            "Shape: (1462, 17)\n",
            "Columns: ['patient', 'birthdate', 'deathdate', 'ssn', 'drivers', 'passport', 'prefix', 'first', 'last', 'suffix', 'maiden', 'marital', 'race', 'ethnicity', 'gender', 'birthplace', 'address']\n",
            "Memory Usage: 1.31 MB\n",
            "Data Types:\n",
            "object    17\n",
            "Name: count, dtype: int64\n",
            "Missing Values (Top 10):\n",
            "           Missing_Count  Missing_Percentage\n",
            "suffix              1417           96.922025\n",
            "maiden              1059           72.435021\n",
            "deathdate           1005           68.741450\n",
            "marital              429           29.343365\n",
            "passport             339           23.187415\n",
            "prefix               296           20.246238\n",
            "drivers              266           18.194254\n",
            "Unique Count (Top 10):\n",
            "patient      1462\n",
            "address      1462\n",
            "ssn          1460\n",
            "birthdate    1431\n",
            "first        1202\n",
            "drivers      1189\n",
            "passport      560\n",
            "last          453\n",
            "deathdate     448\n",
            "maiden        271\n",
            "dtype: int64\n",
            "\n",
            "Sample Data:\n",
            "                                patient   birthdate   deathdate          ssn  \\\n",
            "0  4ee2c837-e60f-4c54-9fdf-8686bc70760b  1929-04-08  2029-11-11  999-78-5976   \n",
            "1  efaf74f9-3de3-45dd-a5d5-26d08e8a3190  2016-12-15  2020-02-19  999-59-9186   \n",
            "2  aaa4c718-2f48-4c13-9ad0-d287cf280824  1943-11-28  2017-10-22  999-43-3780   \n",
            "3  a1851c06-804e-4f31-9d8f-388cd52d4ad0  1954-10-22  2017-10-13  999-53-5542   \n",
            "4  48074b70-4db4-4ab0-b9e8-361bd2ba6216  1935-04-08  2017-09-06  999-34-8549   \n",
            "\n",
            "     drivers    passport prefix      first          last suffix    maiden  \\\n",
            "0        NaN         NaN    NaN  Rosamaria  Pfannerstill    NaN       NaN   \n",
            "1        NaN         NaN    NaN       Loan     Bashirian    NaN       NaN   \n",
            "2  S99992928       FALSE    Mr.     Angelo     Buckridge    NaN       NaN   \n",
            "3  S99975961  X98167138X   Mrs.       Cami         Terry    NaN  Schuster   \n",
            "4  S99997003  X65866752X    Mr.   Giovanni        Russel    NaN       NaN   \n",
            "\n",
            "  marital      race     ethnicity gender        birthplace  \\\n",
            "0     NaN     black     dominican      F  Pittsfield MA US   \n",
            "1     NaN     white      american      F     Medford MA US   \n",
            "2       S     black       african      M  Framingham MA US   \n",
            "3       M     white       english      F      Hudson MA US   \n",
            "4       M  hispanic  puerto_rican      M   Westfield MA US   \n",
            "\n",
            "                                             address  \n",
            "0  18797 Karson Burgs Suite 444 Palmer Town MA 01...  \n",
            "1     301 Eula Radial Suite 298 Brockton MA 02305 US  \n",
            "2        8693 Fred Crossroad New Bedford MA 02746 US  \n",
            "3      344 Olson Road Apt. 936 Attleboro MA 02703 US  \n",
            "4       5780 Corwin Trafficway Dartmouth MA 02714 US  \n",
            "============================================================\n",
            "============================================================\n",
            "📊 OVERVIEW OF ALLERGIES\n",
            "============================================================\n",
            "Shape: (572, 6)\n",
            "Columns: ['START', 'STOP', 'PATIENT', 'ENCOUNTER', 'CODE', 'DESCRIPTION']\n",
            "Memory Usage: 0.18 MB\n",
            "Data Types:\n",
            "object    5\n",
            "int64     1\n",
            "Name: count, dtype: int64\n",
            "Missing Values (Top 10):\n",
            "      Missing_Count  Missing_Percentage\n",
            "STOP            556           97.202797\n",
            "Unique Count (Top 10):\n",
            "START          157\n",
            "PATIENT        157\n",
            "ENCOUNTER      157\n",
            "CODE            15\n",
            "DESCRIPTION     15\n",
            "STOP            11\n",
            "dtype: int64\n",
            "\n",
            "Sample Data:\n",
            "     START STOP                               PATIENT  \\\n",
            "0  3/11/95  NaN  ab6d8296-d3c7-4fef-9215-40b156db67ac   \n",
            "1  3/11/95  NaN  ab6d8296-d3c7-4fef-9215-40b156db67ac   \n",
            "2  3/11/95  NaN  ab6d8296-d3c7-4fef-9215-40b156db67ac   \n",
            "3  3/11/95  NaN  ab6d8296-d3c7-4fef-9215-40b156db67ac   \n",
            "4  3/11/95  NaN  ab6d8296-d3c7-4fef-9215-40b156db67ac   \n",
            "\n",
            "                              ENCOUNTER       CODE               DESCRIPTION  \n",
            "0  9d87c22d-a777-426b-b020-cfa469229f82  425525006  Allergy to dairy product  \n",
            "1  9d87c22d-a777-426b-b020-cfa469229f82  419263009    Allergy to tree pollen  \n",
            "2  9d87c22d-a777-426b-b020-cfa469229f82  418689008   Allergy to grass pollen  \n",
            "3  9d87c22d-a777-426b-b020-cfa469229f82  232347008   Dander (animal) allergy  \n",
            "4  9d87c22d-a777-426b-b020-cfa469229f82  232350006   House dust mite allergy  \n",
            "============================================================\n",
            "============================================================\n",
            "📊 OVERVIEW OF CAREPLANS\n",
            "============================================================\n",
            "Shape: (12125, 9)\n",
            "Columns: ['ID', 'START', 'STOP', 'PATIENT', 'ENCOUNTER', 'CODE', 'DESCRIPTION', 'REASONCODE', 'REASONDESCRIPTION']\n",
            "Memory Usage: 5.95 MB\n",
            "Data Types:\n",
            "object     7\n",
            "int64      1\n",
            "float64    1\n",
            "Name: count, dtype: int64\n",
            "Missing Values (Top 10):\n",
            "                   Missing_Count  Missing_Percentage\n",
            "STOP                        5572           45.954639\n",
            "REASONCODE                  1110            9.154639\n",
            "REASONDESCRIPTION           1110            9.154639\n",
            "Unique Count (Top 10):\n",
            "ID                   3673\n",
            "START                3186\n",
            "ENCOUNTER            2475\n",
            "STOP                 1664\n",
            "PATIENT              1222\n",
            "DESCRIPTION            76\n",
            "CODE                   75\n",
            "REASONCODE             58\n",
            "REASONDESCRIPTION      58\n",
            "dtype: int64\n",
            "\n",
            "Sample Data:\n",
            "                                     ID       START        STOP  \\\n",
            "0  e031962d-d13d-4ede-a449-040417d5e4fb  2009-01-11  2009-04-07   \n",
            "1  e031962d-d13d-4ede-a449-040417d5e4fb  2009-01-11  2009-04-07   \n",
            "2  e031962d-d13d-4ede-a449-040417d5e4fb  2009-01-11  2009-04-07   \n",
            "3  26b879b7-0066-4bd6-b59c-099909720155  2010-10-16  2010-10-23   \n",
            "4  26b879b7-0066-4bd6-b59c-099909720155  2010-10-16  2010-10-23   \n",
            "\n",
            "                                PATIENT                             ENCOUNTER  \\\n",
            "0  71949668-1c2e-43ae-ab0a-64654608defb  4d451e22-a354-40c9-8b33-b6126158666d   \n",
            "1  71949668-1c2e-43ae-ab0a-64654608defb  4d451e22-a354-40c9-8b33-b6126158666d   \n",
            "2  71949668-1c2e-43ae-ab0a-64654608defb  4d451e22-a354-40c9-8b33-b6126158666d   \n",
            "3  71949668-1c2e-43ae-ab0a-64654608defb  bed7ecff-b41c-422b-beac-ea00c8b02837   \n",
            "4  71949668-1c2e-43ae-ab0a-64654608defb  bed7ecff-b41c-422b-beac-ea00c8b02837   \n",
            "\n",
            "              CODE                            DESCRIPTION  REASONCODE  \\\n",
            "0         53950000                    Respiratory therapy  10509002.0   \n",
            "1        304510005       Recommendation to avoid exercise  10509002.0   \n",
            "2        371605008  Deep breathing and coughing exercises  10509002.0   \n",
            "3  869761000000107           Urinary tract infection care  38822007.0   \n",
            "4        223472008               Discussion about hygiene  38822007.0   \n",
            "\n",
            "             REASONDESCRIPTION  \n",
            "0  Acute bronchitis (disorder)  \n",
            "1  Acute bronchitis (disorder)  \n",
            "2  Acute bronchitis (disorder)  \n",
            "3                     Cystitis  \n",
            "4                     Cystitis  \n",
            "============================================================\n",
            "============================================================\n",
            "📊 OVERVIEW OF CLAIMS\n",
            "============================================================\n",
            "Shape: (20523, 7)\n",
            "Columns: ['ID', 'PATIENT', 'BILLABLEPERIOD', 'ORGANIZATION', 'ENCOUNTER', 'DIAGNOSIS', ' TOTAL']\n",
            "Memory Usage: 7.75 MB\n",
            "Data Types:\n",
            "object     5\n",
            "float64    1\n",
            "int64      1\n",
            "Name: count, dtype: int64\n",
            "Missing Values (Top 10):\n",
            "           Missing_Count  Missing_Percentage\n",
            "DIAGNOSIS          20523               100.0\n",
            "Unique Count (Top 10):\n",
            "ID                20523\n",
            "BILLABLEPERIOD     3953\n",
            "PATIENT            1461\n",
            "ENCOUNTER          1461\n",
            "ORGANIZATION          1\n",
            " TOTAL                1\n",
            "DIAGNOSIS             0\n",
            "dtype: int64\n",
            "\n",
            "Sample Data:\n",
            "                                     ID                               PATIENT  \\\n",
            "0  1a9e880e-27a1-4465-8adc-222b1996a14a  71949668-1c2e-43ae-ab0a-64654608defb   \n",
            "1  46c0f5f1-a926-4837-84d8-0603fad8a46f  71949668-1c2e-43ae-ab0a-64654608defb   \n",
            "2  b532157d-4056-436b-963d-6445523ed9b3  71949668-1c2e-43ae-ab0a-64654608defb   \n",
            "3  8bf9cfff-00e5-4714-9d71-927752c71f08  71949668-1c2e-43ae-ab0a-64654608defb   \n",
            "4  5ef9ef1b-6ec5-4cb8-a125-2dcc310bc654  71949668-1c2e-43ae-ab0a-64654608defb   \n",
            "\n",
            "  BILLABLEPERIOD       ORGANIZATION                             ENCOUNTER  \\\n",
            "0     2008-03-11  temp organization  71949668-1c2e-43ae-ab0a-64654608defb   \n",
            "1     2009-01-11  temp organization  71949668-1c2e-43ae-ab0a-64654608defb   \n",
            "2     2009-04-07  temp organization  71949668-1c2e-43ae-ab0a-64654608defb   \n",
            "3     2010-06-04  temp organization  71949668-1c2e-43ae-ab0a-64654608defb   \n",
            "4     2010-10-16  temp organization  71949668-1c2e-43ae-ab0a-64654608defb   \n",
            "\n",
            "   DIAGNOSIS   TOTAL  \n",
            "0        NaN     100  \n",
            "1        NaN     100  \n",
            "2        NaN     100  \n",
            "3        NaN     100  \n",
            "4        NaN     100  \n",
            "============================================================\n",
            "============================================================\n",
            "📊 OVERVIEW OF CONDITIONS\n",
            "============================================================\n",
            "Shape: (7040, 6)\n",
            "Columns: ['START', 'STOP', 'PATIENT', 'ENCOUNTER', 'CODE', 'DESCRIPTION']\n",
            "Memory Usage: 2.40 MB\n",
            "Data Types:\n",
            "object    5\n",
            "int64     1\n",
            "Name: count, dtype: int64\n",
            "Missing Values (Top 10):\n",
            "      Missing_Count  Missing_Percentage\n",
            "STOP           3081           43.764205\n",
            "Unique Count (Top 10):\n",
            "ENCOUNTER      4993\n",
            "START          4710\n",
            "STOP           2449\n",
            "PATIENT        1404\n",
            "CODE            118\n",
            "DESCRIPTION     118\n",
            "dtype: int64\n",
            "\n",
            "Sample Data:\n",
            "        START        STOP                               PATIENT  \\\n",
            "0  2009-01-08  2009-01-21  71949668-1c2e-43ae-ab0a-64654608defb   \n",
            "1  2010-10-16  2010-10-23  71949668-1c2e-43ae-ab0a-64654608defb   \n",
            "2  2013-02-07  2013-02-27  71949668-1c2e-43ae-ab0a-64654608defb   \n",
            "3  2013-10-19  2014-05-17  71949668-1c2e-43ae-ab0a-64654608defb   \n",
            "4  2014-01-28  2014-02-10  71949668-1c2e-43ae-ab0a-64654608defb   \n",
            "\n",
            "                              ENCOUNTER       CODE  \\\n",
            "0  4d451e22-a354-40c9-8b33-b6126158666d   10509002   \n",
            "1  bed7ecff-b41c-422b-beac-ea00c8b02837   38822007   \n",
            "2  6f2e3935-b203-493e-a9c0-f23e847b9798   10509002   \n",
            "3  da4fd626-e74e-4930-91be-7fb3da7ea098   72892002   \n",
            "4  b2e12445-b771-4738-944b-95cf6bbe76eb  195662009   \n",
            "\n",
            "                          DESCRIPTION  \n",
            "0         Acute bronchitis (disorder)  \n",
            "1                            Cystitis  \n",
            "2         Acute bronchitis (disorder)  \n",
            "3                    Normal pregnancy  \n",
            "4  Acute viral pharyngitis (disorder)  \n",
            "============================================================\n",
            "============================================================\n",
            "📊 OVERVIEW OF ENCOUNTERS\n",
            "============================================================\n",
            "Shape: (20524, 7)\n",
            "Columns: ['ID', 'DATE', 'PATIENT', 'CODE', 'DESCRIPTION', 'REASONCODE', 'REASONDESCRIPTION']\n",
            "Memory Usage: 7.02 MB\n",
            "Data Types:\n",
            "object     5\n",
            "int64      1\n",
            "float64    1\n",
            "Name: count, dtype: int64\n",
            "Missing Values (Top 10):\n",
            "                   Missing_Count  Missing_Percentage\n",
            "REASONDESCRIPTION          14736            71.79887\n",
            "REASONCODE                 14736            71.79887\n",
            "Unique Count (Top 10):\n",
            "ID                   20524\n",
            "DATE                  3953\n",
            "PATIENT               1461\n",
            "REASONDESCRIPTION       67\n",
            "REASONCODE              67\n",
            "DESCRIPTION             28\n",
            "CODE                    28\n",
            "dtype: int64\n",
            "\n",
            "Sample Data:\n",
            "                                     ID        DATE  \\\n",
            "0  5114a5b4-64b8-47b2-82a6-0ce24aae0943  2008-03-11   \n",
            "1  4d451e22-a354-40c9-8b33-b6126158666d  2009-01-11   \n",
            "2  bdb926b8-5b6d-4366-bbe9-76fe3f3fbc4f  2009-04-07   \n",
            "3  f45c623f-a5e7-47a0-8cce-cfe19d16c47a  2010-06-04   \n",
            "4  bed7ecff-b41c-422b-beac-ea00c8b02837  2010-10-16   \n",
            "\n",
            "                                PATIENT       CODE  \\\n",
            "0  71949668-1c2e-43ae-ab0a-64654608defb  185349003   \n",
            "1  71949668-1c2e-43ae-ab0a-64654608defb  185345009   \n",
            "2  71949668-1c2e-43ae-ab0a-64654608defb  185349003   \n",
            "3  71949668-1c2e-43ae-ab0a-64654608defb  698314001   \n",
            "4  71949668-1c2e-43ae-ab0a-64654608defb  185345009   \n",
            "\n",
            "                  DESCRIPTION  REASONCODE            REASONDESCRIPTION  \n",
            "0        Outpatient Encounter         NaN                          NaN  \n",
            "1       Encounter for symptom  10509002.0  Acute bronchitis (disorder)  \n",
            "2        Outpatient Encounter         NaN                          NaN  \n",
            "3  Consultation for treatment         NaN                          NaN  \n",
            "4       Encounter for symptom  38822007.0                     Cystitis  \n",
            "============================================================\n",
            "============================================================\n",
            "📊 OVERVIEW OF IMMUNIZATIONS\n",
            "============================================================\n",
            "Shape: (13189, 5)\n",
            "Columns: ['DATE', 'PATIENT', 'ENCOUNTER', 'CODE', 'DESCRIPTION']\n",
            "Memory Usage: 4.04 MB\n",
            "Data Types:\n",
            "object    4\n",
            "int64     1\n",
            "Name: count, dtype: int64\n",
            "Missing Values (Top 10):\n",
            "Empty DataFrame\n",
            "Columns: [Missing_Count, Missing_Percentage]\n",
            "Index: []\n",
            "Unique Count (Top 10):\n",
            "ENCOUNTER      8213\n",
            "DATE           3291\n",
            "PATIENT        1140\n",
            "CODE             16\n",
            "DESCRIPTION      16\n",
            "dtype: int64\n",
            "\n",
            "Sample Data:\n",
            "         DATE                               PATIENT  \\\n",
            "0  2008-03-11  71949668-1c2e-43ae-ab0a-64654608defb   \n",
            "1  2009-04-07  71949668-1c2e-43ae-ab0a-64654608defb   \n",
            "2  2012-07-02  71949668-1c2e-43ae-ab0a-64654608defb   \n",
            "3  2012-07-02  71949668-1c2e-43ae-ab0a-64654608defb   \n",
            "4  2015-05-03  71949668-1c2e-43ae-ab0a-64654608defb   \n",
            "\n",
            "                              ENCOUNTER  CODE  \\\n",
            "0  5114a5b4-64b8-47b2-82a6-0ce24aae0943   140   \n",
            "1  bdb926b8-5b6d-4366-bbe9-76fe3f3fbc4f   140   \n",
            "2  36796523-2672-4680-84c5-2d9a2b080ddb   140   \n",
            "3  36796523-2672-4680-84c5-2d9a2b080ddb   113   \n",
            "4  323e1478-fdbf-4904-80a6-2b7e4526fc22   140   \n",
            "\n",
            "                                         DESCRIPTION  \n",
            "0  Influenza  seasonal  injectable  preservative ...  \n",
            "1  Influenza  seasonal  injectable  preservative ...  \n",
            "2  Influenza  seasonal  injectable  preservative ...  \n",
            "3                       Td (adult) preservative free  \n",
            "4  Influenza  seasonal  injectable  preservative ...  \n",
            "============================================================\n",
            "============================================================\n",
            "📊 OVERVIEW OF MEDICATIONS\n",
            "============================================================\n",
            "Shape: (6048, 8)\n",
            "Columns: ['START', 'STOP', 'PATIENT', 'ENCOUNTER', 'CODE', 'DESCRIPTION', 'REASONCODE', 'REASONDESCRIPTION']\n",
            "Memory Usage: 2.51 MB\n",
            "Data Types:\n",
            "object     6\n",
            "int64      1\n",
            "float64    1\n",
            "Name: count, dtype: int64\n",
            "Missing Values (Top 10):\n",
            "                   Missing_Count  Missing_Percentage\n",
            "STOP                        2686           44.411376\n",
            "REASONDESCRIPTION           2456           40.608466\n",
            "REASONCODE                  2456           40.608466\n",
            "Unique Count (Top 10):\n",
            "START                3967\n",
            "ENCOUNTER            3716\n",
            "STOP                 2053\n",
            "PATIENT              1318\n",
            "DESCRIPTION            97\n",
            "CODE                   96\n",
            "REASONCODE             36\n",
            "REASONDESCRIPTION      36\n",
            "dtype: int64\n",
            "\n",
            "Sample Data:\n",
            "        START        STOP                               PATIENT  \\\n",
            "0  1988-09-05         NaN  71949668-1c2e-43ae-ab0a-64654608defb   \n",
            "1  2007-06-04  2008-06-04  71949668-1c2e-43ae-ab0a-64654608defb   \n",
            "2  2009-01-11  2009-01-21  71949668-1c2e-43ae-ab0a-64654608defb   \n",
            "3  2010-06-04  2011-06-04  71949668-1c2e-43ae-ab0a-64654608defb   \n",
            "4  2010-10-16  2010-10-23  71949668-1c2e-43ae-ab0a-64654608defb   \n",
            "\n",
            "                              ENCOUNTER     CODE  \\\n",
            "0  5114a5b4-64b8-47b2-82a6-0ce24aae0943   834060   \n",
            "1  5114a5b4-64b8-47b2-82a6-0ce24aae0943  1367439   \n",
            "2  4d451e22-a354-40c9-8b33-b6126158666d   608680   \n",
            "3  f45c623f-a5e7-47a0-8cce-cfe19d16c47a   748879   \n",
            "4  bed7ecff-b41c-422b-beac-ea00c8b02837   568530   \n",
            "\n",
            "                                         DESCRIPTION  REASONCODE  \\\n",
            "0                      Penicillin V Potassium 250 MG  43878008.0   \n",
            "1  NuvaRing 0.12/0.015 MG per 24HR 21 Day Vaginal...         NaN   \n",
            "2                               Acetaminophen 160 MG  10509002.0   \n",
            "3                         Levora 0.15/30 28 Day Pack         NaN   \n",
            "4                Nitrofurantoin 5 MG/ML [Furadantin]  38822007.0   \n",
            "\n",
            "                      REASONDESCRIPTION  \n",
            "0  Streptococcal sore throat (disorder)  \n",
            "1                                   NaN  \n",
            "2           Acute bronchitis (disorder)  \n",
            "3                                   NaN  \n",
            "4                              Cystitis  \n",
            "============================================================\n",
            "============================================================\n",
            "📊 OVERVIEW OF OBSERVATIONS\n",
            "============================================================\n",
            "Shape: (79674, 7)\n",
            "Columns: ['DATE', 'PATIENT', 'ENCOUNTER', 'CODE', 'DESCRIPTION', 'VALUE', 'UNITS']\n",
            "Memory Usage: 34.75 MB\n",
            "Data Types:\n",
            "object    7\n",
            "Name: count, dtype: int64\n",
            "Missing Values (Top 10):\n",
            "           Missing_Count  Missing_Percentage\n",
            "ENCOUNTER           2924            3.669955\n",
            "VALUE                455            0.571077\n",
            "UNITS                455            0.571077\n",
            "Unique Count (Top 10):\n",
            "VALUE          12753\n",
            "ENCOUNTER       9908\n",
            "DATE            3710\n",
            "PATIENT         1462\n",
            "CODE              73\n",
            "DESCRIPTION       73\n",
            "UNITS             18\n",
            "dtype: int64\n",
            "\n",
            "Sample Data:\n",
            "         DATE                               PATIENT  \\\n",
            "0  2008-03-11  71949668-1c2e-43ae-ab0a-64654608defb   \n",
            "1  2008-03-11  71949668-1c2e-43ae-ab0a-64654608defb   \n",
            "2  2008-03-11  71949668-1c2e-43ae-ab0a-64654608defb   \n",
            "3  2008-03-11  71949668-1c2e-43ae-ab0a-64654608defb   \n",
            "4  2008-03-11  71949668-1c2e-43ae-ab0a-64654608defb   \n",
            "\n",
            "                              ENCOUNTER     CODE               DESCRIPTION  \\\n",
            "0  5114a5b4-64b8-47b2-82a6-0ce24aae0943   8302-2               Body Height   \n",
            "1  5114a5b4-64b8-47b2-82a6-0ce24aae0943  29463-7               Body Weight   \n",
            "2  5114a5b4-64b8-47b2-82a6-0ce24aae0943  39156-5           Body Mass Index   \n",
            "3  5114a5b4-64b8-47b2-82a6-0ce24aae0943   8480-6   Systolic Blood Pressure   \n",
            "4  5114a5b4-64b8-47b2-82a6-0ce24aae0943   8462-4  Diastolic Blood Pressure   \n",
            "\n",
            "    VALUE  UNITS  \n",
            "0  166.03     cm  \n",
            "1   54.42     kg  \n",
            "2   19.74  kg/m2  \n",
            "3   139.0   mmHg  \n",
            "4    89.0   mmHg  \n",
            "============================================================\n",
            "============================================================\n",
            "📊 OVERVIEW OF PROCEDURES\n",
            "============================================================\n",
            "Shape: (10184, 7)\n",
            "Columns: ['DATE', 'PATIENT', 'ENCOUNTER', 'CODE', 'DESCRIPTION', 'REASONCODE', 'REASONDESCRIPTION']\n",
            "Memory Usage: 3.57 MB\n",
            "Data Types:\n",
            "object     5\n",
            "int64      1\n",
            "float64    1\n",
            "Name: count, dtype: int64\n",
            "Missing Values (Top 10):\n",
            "                   Missing_Count  Missing_Percentage\n",
            "REASONDESCRIPTION           7628           74.901807\n",
            "REASONCODE                  7628           74.901807\n",
            "Unique Count (Top 10):\n",
            "ENCOUNTER            9195\n",
            "DATE                 3371\n",
            "PATIENT              1122\n",
            "CODE                   65\n",
            "DESCRIPTION            65\n",
            "REASONCODE             39\n",
            "REASONDESCRIPTION      39\n",
            "dtype: int64\n",
            "\n",
            "Sample Data:\n",
            "         DATE                               PATIENT  \\\n",
            "0  2013-02-09  71949668-1c2e-43ae-ab0a-64654608defb   \n",
            "1  2013-10-19  71949668-1c2e-43ae-ab0a-64654608defb   \n",
            "2  2014-05-17  71949668-1c2e-43ae-ab0a-64654608defb   \n",
            "3  2014-05-17  71949668-1c2e-43ae-ab0a-64654608defb   \n",
            "4  2016-06-04  71949668-1c2e-43ae-ab0a-64654608defb   \n",
            "\n",
            "                              ENCOUNTER       CODE  \\\n",
            "0  6f2e3935-b203-493e-a9c0-f23e847b9798   23426006   \n",
            "1  da4fd626-e74e-4930-91be-7fb3da7ea098  252160004   \n",
            "2  988f02a3-bf7e-485a-8d26-3378ddc9524c  237001001   \n",
            "3  988f02a3-bf7e-485a-8d26-3378ddc9524c   11466000   \n",
            "4  8ae1f76d-fdf1-40b7-9c9d-66b530701d9d  169553002   \n",
            "\n",
            "                                       DESCRIPTION  REASONCODE  \\\n",
            "0  Measurement of respiratory function (procedure)  10509002.0   \n",
            "1                          Standard pregnancy test  72892002.0   \n",
            "2                            Augmentation of labor  72892002.0   \n",
            "3                                 Cesarean section  72892002.0   \n",
            "4          Insertion of subcutaneous contraceptive         NaN   \n",
            "\n",
            "             REASONDESCRIPTION  \n",
            "0  Acute bronchitis (disorder)  \n",
            "1             Normal pregnancy  \n",
            "2             Normal pregnancy  \n",
            "3             Normal pregnancy  \n",
            "4                          NaN  \n",
            "============================================================\n",
            "============================================================\n",
            "📊 OVERVIEW OF PREVALENCE\n",
            "============================================================\n",
            "Shape: (244, 6)\n",
            "Columns: ['ITEM', 'POPULATION TYPE', 'OCCURRENCES', 'POPULATION COUNT', 'PREVALENCE RATE', 'PREVALENCE PERCENTAGE']\n",
            "Memory Usage: 0.04 MB\n",
            "Data Types:\n",
            "object     2\n",
            "int64      2\n",
            "float64    2\n",
            "Name: count, dtype: int64\n",
            "Missing Values (Top 10):\n",
            "Empty DataFrame\n",
            "Columns: [Missing_Count, Missing_Percentage]\n",
            "Index: []\n",
            "Unique Count (Top 10):\n",
            "ITEM                     244\n",
            "OCCURRENCES              110\n",
            "PREVALENCE PERCENTAGE    110\n",
            "PREVALENCE RATE          110\n",
            "POPULATION TYPE            1\n",
            "POPULATION COUNT           1\n",
            "dtype: int64\n",
            "\n",
            "Sample Data:\n",
            "                                   ITEM POPULATION TYPE  OCCURRENCES  \\\n",
            "0            Viral Sinusitis (Disorder)          LIVING          868   \n",
            "1  Streptococcal Sore Throat (Disorder)          LIVING          487   \n",
            "2                   Laceration Of Thigh          LIVING          117   \n",
            "3    Acute Viral Pharyngitis (Disorder)          LIVING          772   \n",
            "4           Acute Bronchitis (Disorder)          LIVING          749   \n",
            "\n",
            "   POPULATION COUNT  PREVALENCE RATE  PREVALENCE PERCENTAGE  \n",
            "0              1000            0.868                   86.8  \n",
            "1              1000            0.487                   48.7  \n",
            "2              1000            0.117                   11.7  \n",
            "3              1000            0.772                   77.2  \n",
            "4              1000            0.749                   74.9  \n",
            "============================================================\n"
          ]
        }
      ]
    },
    {
      "cell_type": "markdown",
      "source": [
        "**Insight:**\n",
        "\n",
        "\n",
        "\n",
        "This  will print out the size, columns, data types, missing values,common keys and top unique features for every table  loaded.\n",
        "\n",
        "---------------------------------\n",
        "\n"
      ],
      "metadata": {
        "id": "vTii19V-aWEi"
      }
    },
    {
      "cell_type": "markdown",
      "source": [
        "# **Data Preprocessing and Cleaning**"
      ],
      "metadata": {
        "id": "amOrCuZX-3bf"
      }
    },
    {
      "cell_type": "markdown",
      "source": [
        "\n",
        "## **1. Standardize column names**\n"
      ],
      "metadata": {
        "id": "LZKhjDjr-u11"
      }
    },
    {
      "cell_type": "code",
      "source": [
        "\n",
        "def clean_columns(df):\n",
        "    df.columns = (\n",
        "        df.columns.str.strip()\n",
        "                  .str.lower()\n",
        "                  .str.replace(\" \", \"_\")\n",
        "                  .str.replace(\"-\", \"_\")\n",
        "    )\n",
        "    if \"patient\" in df.columns:\n",
        "        df.rename(columns={\"patient\": \"patient_id\"}, inplace=True)\n",
        "    return df\n",
        "\n",
        "for k in datasets:\n",
        "    datasets[k] = clean_columns(datasets[k])\n",
        "\n"
      ],
      "metadata": {
        "id": "uyBq-QFujgOT"
      },
      "execution_count": 6,
      "outputs": []
    },
    {
      "cell_type": "markdown",
      "source": [
        "- This function and loop combination cleans and standardizes the column names in every DataFrame in the datasets dictionary.\n",
        "\n",
        "- It ensures column names in all tables are uniform, easy to type, and ready for downstream merging and manipulation with no naming conflicts or casing errors.\n",
        "\n",
        "------------------"
      ],
      "metadata": {
        "id": "hhgwXIRG_aky"
      }
    },
    {
      "cell_type": "markdown",
      "source": [
        "\n",
        "## **2. Convert date columns**\n"
      ],
      "metadata": {
        "id": "CiOx-YCc_uAS"
      }
    },
    {
      "cell_type": "code",
      "source": [
        "\n",
        "date_cols = [\"birthdate\", \"deathdate\", \"start\", \"stop\", \"date\", \"billableperiod\"]\n",
        "for k, df in datasets.items():\n",
        "    for col in df.columns:\n",
        "        if col in date_cols:\n",
        "            df[col] = pd.to_datetime(df[col], errors=\"coerce\")\n",
        "\n"
      ],
      "metadata": {
        "colab": {
          "base_uri": "https://localhost:8080/"
        },
        "id": "l6ozLx14jgK2",
        "outputId": "7ac04232-19f0-4ec9-b69d-d4ebd2caa082"
      },
      "execution_count": 7,
      "outputs": [
        {
          "output_type": "stream",
          "name": "stderr",
          "text": [
            "/tmp/ipython-input-525049238.py:5: UserWarning: Could not infer format, so each element will be parsed individually, falling back to `dateutil`. To ensure parsing is consistent and as-expected, please specify a format.\n",
            "  df[col] = pd.to_datetime(df[col], errors=\"coerce\")\n",
            "/tmp/ipython-input-525049238.py:5: UserWarning: Could not infer format, so each element will be parsed individually, falling back to `dateutil`. To ensure parsing is consistent and as-expected, please specify a format.\n",
            "  df[col] = pd.to_datetime(df[col], errors=\"coerce\")\n"
          ]
        }
      ]
    },
    {
      "cell_type": "markdown",
      "source": [
        "- This code converts date columns to proper datetime format across all the datasets.\n",
        "\n",
        "- This ensures all date-related columns across  entire dataset are properly formatted as datetime objects, making time-based analysis and calculations possible.\n",
        "\n",
        "-----------------------------------------"
      ],
      "metadata": {
        "id": "guwIjSq1AL-4"
      }
    },
    {
      "cell_type": "markdown",
      "source": [
        "## **3. Handle Missing Values**"
      ],
      "metadata": {
        "id": "LKakFGhcAeXa"
      }
    },
    {
      "cell_type": "code",
      "source": [
        "\n",
        "for k, df in datasets.items():\n",
        "    # Numeric → 0\n",
        "    for col in df.select_dtypes(include=[\"float64\", \"int64\"]).columns:\n",
        "        df[col].fillna(0, inplace=True)\n",
        "    # Text → \"Unknown\"\n",
        "    for col in df.select_dtypes(include=[\"object\"]).columns:\n",
        "        df[col].fillna(\"Unknown\", inplace=True)\n",
        "\n"
      ],
      "metadata": {
        "colab": {
          "base_uri": "https://localhost:8080/"
        },
        "id": "nxUFU7Z_jgHX",
        "outputId": "0aaef50e-447a-4781-c5f4-10f6eca55730"
      },
      "execution_count": 8,
      "outputs": [
        {
          "output_type": "stream",
          "name": "stderr",
          "text": [
            "/tmp/ipython-input-1255799005.py:7: FutureWarning: A value is trying to be set on a copy of a DataFrame or Series through chained assignment using an inplace method.\n",
            "The behavior will change in pandas 3.0. This inplace method will never work because the intermediate object on which we are setting values always behaves as a copy.\n",
            "\n",
            "For example, when doing 'df[col].method(value, inplace=True)', try using 'df.method({col: value}, inplace=True)' or df[col] = df[col].method(value) instead, to perform the operation inplace on the original object.\n",
            "\n",
            "\n",
            "  df[col].fillna(\"Unknown\", inplace=True)\n",
            "/tmp/ipython-input-1255799005.py:4: FutureWarning: A value is trying to be set on a copy of a DataFrame or Series through chained assignment using an inplace method.\n",
            "The behavior will change in pandas 3.0. This inplace method will never work because the intermediate object on which we are setting values always behaves as a copy.\n",
            "\n",
            "For example, when doing 'df[col].method(value, inplace=True)', try using 'df.method({col: value}, inplace=True)' or df[col] = df[col].method(value) instead, to perform the operation inplace on the original object.\n",
            "\n",
            "\n",
            "  df[col].fillna(0, inplace=True)\n",
            "/tmp/ipython-input-1255799005.py:7: FutureWarning: A value is trying to be set on a copy of a DataFrame or Series through chained assignment using an inplace method.\n",
            "The behavior will change in pandas 3.0. This inplace method will never work because the intermediate object on which we are setting values always behaves as a copy.\n",
            "\n",
            "For example, when doing 'df[col].method(value, inplace=True)', try using 'df.method({col: value}, inplace=True)' or df[col] = df[col].method(value) instead, to perform the operation inplace on the original object.\n",
            "\n",
            "\n",
            "  df[col].fillna(\"Unknown\", inplace=True)\n",
            "/tmp/ipython-input-1255799005.py:4: FutureWarning: A value is trying to be set on a copy of a DataFrame or Series through chained assignment using an inplace method.\n",
            "The behavior will change in pandas 3.0. This inplace method will never work because the intermediate object on which we are setting values always behaves as a copy.\n",
            "\n",
            "For example, when doing 'df[col].method(value, inplace=True)', try using 'df.method({col: value}, inplace=True)' or df[col] = df[col].method(value) instead, to perform the operation inplace on the original object.\n",
            "\n",
            "\n",
            "  df[col].fillna(0, inplace=True)\n",
            "/tmp/ipython-input-1255799005.py:7: FutureWarning: A value is trying to be set on a copy of a DataFrame or Series through chained assignment using an inplace method.\n",
            "The behavior will change in pandas 3.0. This inplace method will never work because the intermediate object on which we are setting values always behaves as a copy.\n",
            "\n",
            "For example, when doing 'df[col].method(value, inplace=True)', try using 'df.method({col: value}, inplace=True)' or df[col] = df[col].method(value) instead, to perform the operation inplace on the original object.\n",
            "\n",
            "\n",
            "  df[col].fillna(\"Unknown\", inplace=True)\n",
            "/tmp/ipython-input-1255799005.py:4: FutureWarning: A value is trying to be set on a copy of a DataFrame or Series through chained assignment using an inplace method.\n",
            "The behavior will change in pandas 3.0. This inplace method will never work because the intermediate object on which we are setting values always behaves as a copy.\n",
            "\n",
            "For example, when doing 'df[col].method(value, inplace=True)', try using 'df.method({col: value}, inplace=True)' or df[col] = df[col].method(value) instead, to perform the operation inplace on the original object.\n",
            "\n",
            "\n",
            "  df[col].fillna(0, inplace=True)\n",
            "/tmp/ipython-input-1255799005.py:7: FutureWarning: A value is trying to be set on a copy of a DataFrame or Series through chained assignment using an inplace method.\n",
            "The behavior will change in pandas 3.0. This inplace method will never work because the intermediate object on which we are setting values always behaves as a copy.\n",
            "\n",
            "For example, when doing 'df[col].method(value, inplace=True)', try using 'df.method({col: value}, inplace=True)' or df[col] = df[col].method(value) instead, to perform the operation inplace on the original object.\n",
            "\n",
            "\n",
            "  df[col].fillna(\"Unknown\", inplace=True)\n",
            "/tmp/ipython-input-1255799005.py:4: FutureWarning: A value is trying to be set on a copy of a DataFrame or Series through chained assignment using an inplace method.\n",
            "The behavior will change in pandas 3.0. This inplace method will never work because the intermediate object on which we are setting values always behaves as a copy.\n",
            "\n",
            "For example, when doing 'df[col].method(value, inplace=True)', try using 'df.method({col: value}, inplace=True)' or df[col] = df[col].method(value) instead, to perform the operation inplace on the original object.\n",
            "\n",
            "\n",
            "  df[col].fillna(0, inplace=True)\n",
            "/tmp/ipython-input-1255799005.py:7: FutureWarning: A value is trying to be set on a copy of a DataFrame or Series through chained assignment using an inplace method.\n",
            "The behavior will change in pandas 3.0. This inplace method will never work because the intermediate object on which we are setting values always behaves as a copy.\n",
            "\n",
            "For example, when doing 'df[col].method(value, inplace=True)', try using 'df.method({col: value}, inplace=True)' or df[col] = df[col].method(value) instead, to perform the operation inplace on the original object.\n",
            "\n",
            "\n",
            "  df[col].fillna(\"Unknown\", inplace=True)\n",
            "/tmp/ipython-input-1255799005.py:4: FutureWarning: A value is trying to be set on a copy of a DataFrame or Series through chained assignment using an inplace method.\n",
            "The behavior will change in pandas 3.0. This inplace method will never work because the intermediate object on which we are setting values always behaves as a copy.\n",
            "\n",
            "For example, when doing 'df[col].method(value, inplace=True)', try using 'df.method({col: value}, inplace=True)' or df[col] = df[col].method(value) instead, to perform the operation inplace on the original object.\n",
            "\n",
            "\n",
            "  df[col].fillna(0, inplace=True)\n",
            "/tmp/ipython-input-1255799005.py:7: FutureWarning: A value is trying to be set on a copy of a DataFrame or Series through chained assignment using an inplace method.\n",
            "The behavior will change in pandas 3.0. This inplace method will never work because the intermediate object on which we are setting values always behaves as a copy.\n",
            "\n",
            "For example, when doing 'df[col].method(value, inplace=True)', try using 'df.method({col: value}, inplace=True)' or df[col] = df[col].method(value) instead, to perform the operation inplace on the original object.\n",
            "\n",
            "\n",
            "  df[col].fillna(\"Unknown\", inplace=True)\n",
            "/tmp/ipython-input-1255799005.py:4: FutureWarning: A value is trying to be set on a copy of a DataFrame or Series through chained assignment using an inplace method.\n",
            "The behavior will change in pandas 3.0. This inplace method will never work because the intermediate object on which we are setting values always behaves as a copy.\n",
            "\n",
            "For example, when doing 'df[col].method(value, inplace=True)', try using 'df.method({col: value}, inplace=True)' or df[col] = df[col].method(value) instead, to perform the operation inplace on the original object.\n",
            "\n",
            "\n",
            "  df[col].fillna(0, inplace=True)\n",
            "/tmp/ipython-input-1255799005.py:7: FutureWarning: A value is trying to be set on a copy of a DataFrame or Series through chained assignment using an inplace method.\n",
            "The behavior will change in pandas 3.0. This inplace method will never work because the intermediate object on which we are setting values always behaves as a copy.\n",
            "\n",
            "For example, when doing 'df[col].method(value, inplace=True)', try using 'df.method({col: value}, inplace=True)' or df[col] = df[col].method(value) instead, to perform the operation inplace on the original object.\n",
            "\n",
            "\n",
            "  df[col].fillna(\"Unknown\", inplace=True)\n",
            "/tmp/ipython-input-1255799005.py:4: FutureWarning: A value is trying to be set on a copy of a DataFrame or Series through chained assignment using an inplace method.\n",
            "The behavior will change in pandas 3.0. This inplace method will never work because the intermediate object on which we are setting values always behaves as a copy.\n",
            "\n",
            "For example, when doing 'df[col].method(value, inplace=True)', try using 'df.method({col: value}, inplace=True)' or df[col] = df[col].method(value) instead, to perform the operation inplace on the original object.\n",
            "\n",
            "\n",
            "  df[col].fillna(0, inplace=True)\n",
            "/tmp/ipython-input-1255799005.py:7: FutureWarning: A value is trying to be set on a copy of a DataFrame or Series through chained assignment using an inplace method.\n",
            "The behavior will change in pandas 3.0. This inplace method will never work because the intermediate object on which we are setting values always behaves as a copy.\n",
            "\n",
            "For example, when doing 'df[col].method(value, inplace=True)', try using 'df.method({col: value}, inplace=True)' or df[col] = df[col].method(value) instead, to perform the operation inplace on the original object.\n",
            "\n",
            "\n",
            "  df[col].fillna(\"Unknown\", inplace=True)\n",
            "/tmp/ipython-input-1255799005.py:7: FutureWarning: A value is trying to be set on a copy of a DataFrame or Series through chained assignment using an inplace method.\n",
            "The behavior will change in pandas 3.0. This inplace method will never work because the intermediate object on which we are setting values always behaves as a copy.\n",
            "\n",
            "For example, when doing 'df[col].method(value, inplace=True)', try using 'df.method({col: value}, inplace=True)' or df[col] = df[col].method(value) instead, to perform the operation inplace on the original object.\n",
            "\n",
            "\n",
            "  df[col].fillna(\"Unknown\", inplace=True)\n",
            "/tmp/ipython-input-1255799005.py:4: FutureWarning: A value is trying to be set on a copy of a DataFrame or Series through chained assignment using an inplace method.\n",
            "The behavior will change in pandas 3.0. This inplace method will never work because the intermediate object on which we are setting values always behaves as a copy.\n",
            "\n",
            "For example, when doing 'df[col].method(value, inplace=True)', try using 'df.method({col: value}, inplace=True)' or df[col] = df[col].method(value) instead, to perform the operation inplace on the original object.\n",
            "\n",
            "\n",
            "  df[col].fillna(0, inplace=True)\n",
            "/tmp/ipython-input-1255799005.py:7: FutureWarning: A value is trying to be set on a copy of a DataFrame or Series through chained assignment using an inplace method.\n",
            "The behavior will change in pandas 3.0. This inplace method will never work because the intermediate object on which we are setting values always behaves as a copy.\n",
            "\n",
            "For example, when doing 'df[col].method(value, inplace=True)', try using 'df.method({col: value}, inplace=True)' or df[col] = df[col].method(value) instead, to perform the operation inplace on the original object.\n",
            "\n",
            "\n",
            "  df[col].fillna(\"Unknown\", inplace=True)\n",
            "/tmp/ipython-input-1255799005.py:4: FutureWarning: A value is trying to be set on a copy of a DataFrame or Series through chained assignment using an inplace method.\n",
            "The behavior will change in pandas 3.0. This inplace method will never work because the intermediate object on which we are setting values always behaves as a copy.\n",
            "\n",
            "For example, when doing 'df[col].method(value, inplace=True)', try using 'df.method({col: value}, inplace=True)' or df[col] = df[col].method(value) instead, to perform the operation inplace on the original object.\n",
            "\n",
            "\n",
            "  df[col].fillna(0, inplace=True)\n",
            "/tmp/ipython-input-1255799005.py:7: FutureWarning: A value is trying to be set on a copy of a DataFrame or Series through chained assignment using an inplace method.\n",
            "The behavior will change in pandas 3.0. This inplace method will never work because the intermediate object on which we are setting values always behaves as a copy.\n",
            "\n",
            "For example, when doing 'df[col].method(value, inplace=True)', try using 'df.method({col: value}, inplace=True)' or df[col] = df[col].method(value) instead, to perform the operation inplace on the original object.\n",
            "\n",
            "\n",
            "  df[col].fillna(\"Unknown\", inplace=True)\n"
          ]
        }
      ]
    },
    {
      "cell_type": "markdown",
      "source": [
        "- This  fills missing values (NaNs) in every DataFrame in datasets dictionary using different strategies depending on the column type\n",
        "\n",
        "- It is a practical cleaning step to handle missing values so all datasets are fully populated and ready for analysis or machine learning.\n",
        "\n",
        "\n",
        "-----------------------------------------------"
      ],
      "metadata": {
        "id": "V9TJ07QgAwCb"
      }
    },
    {
      "cell_type": "markdown",
      "source": [
        "\n",
        "## **4. Aggregations per patient (Feature Engineering)**"
      ],
      "metadata": {
        "id": "WD_Jadu5BCMt"
      }
    },
    {
      "cell_type": "code",
      "source": [
        "\n",
        "claims_summary = claims.groupby(\"patient_id\").agg(\n",
        "    total_claims=(\"total\", \"sum\"),\n",
        "    num_claims=(\"total\", \"count\")\n",
        ").reset_index()\n",
        "\n",
        "cond_summary = conditions.groupby(\"patient_id\").agg(\n",
        "    num_conditions=(\"description\", \"count\")\n",
        ").reset_index()\n",
        "\n",
        "med_summary = medications.groupby(\"patient_id\").agg(\n",
        "    num_meds=(\"description\", \"count\")\n",
        ").reset_index()\n",
        "\n",
        "enc_summary = encounters.groupby(\"patient_id\").agg(\n",
        "    num_encounters=(\"id\", \"count\")\n",
        ").reset_index()\n",
        "\n",
        "proc_summary = procedures.groupby(\"patient_id\").agg(\n",
        "    num_procedures=(\"description\", \"count\")\n",
        ").reset_index()\n",
        "\n",
        "obs_summary = observations.groupby(\"patient_id\").agg(\n",
        "    num_observations=(\"value\", \"count\")\n",
        ").reset_index()\n",
        "\n",
        "immu_summary = immunizations.groupby(\"patient_id\").agg(\n",
        "    num_immunizations=(\"description\", \"count\")\n",
        ").reset_index()\n",
        "\n",
        "allergy_summary = allergies.groupby(\"patient_id\").agg(\n",
        "    num_allergies=(\"description\", \"count\")\n",
        ").reset_index()\n",
        "\n",
        "careplan_summary = careplans.groupby(\"patient_id\").agg(\n",
        "    num_careplans=(\"description\", \"count\")\n",
        ").reset_index()\n",
        "\n"
      ],
      "metadata": {
        "id": "Z8v_IgGjjgDc"
      },
      "execution_count": 9,
      "outputs": []
    },
    {
      "cell_type": "markdown",
      "source": [
        "- Aggregates key clinical metrics for each patient by summarizing detailed event tables into high-level features (e.g., total claims, number of conditions, medications, encounters, procedures, and more).\n",
        "\n",
        "- This feature engineering step transforms complex multi-table data into a single, concise patient-level dataset suitable for machine learning and statistical analysis.\n",
        "\n",
        "\n",
        "-------------------------------------"
      ],
      "metadata": {
        "id": "oTOnsP2pBRmT"
      }
    },
    {
      "cell_type": "markdown",
      "source": [
        "\n",
        "## **5. Merge into final dataset**\n"
      ],
      "metadata": {
        "id": "ECL1XlNqCF3a"
      }
    },
    {
      "cell_type": "code",
      "source": [
        "\n",
        "df_final = patients.copy()\n",
        "\n",
        "for summary in [\n",
        "    claims_summary, cond_summary, med_summary, enc_summary,\n",
        "    proc_summary, obs_summary, immu_summary, allergy_summary, careplan_summary\n",
        "]:\n",
        "    df_final = df_final.merge(summary, on=\"patient_id\", how=\"left\")\n",
        "\n",
        "# Fill numeric NaN with 0\n",
        "for col in df_final.select_dtypes(include=[\"float64\", \"int64\"]).columns:\n",
        "    df_final[col].fillna(0, inplace=True)\n",
        "\n"
      ],
      "metadata": {
        "colab": {
          "base_uri": "https://localhost:8080/"
        },
        "id": "hevv3EuNjf_s",
        "outputId": "069a9cf0-c38b-4f4a-ab42-009405d02918"
      },
      "execution_count": 10,
      "outputs": [
        {
          "output_type": "stream",
          "name": "stderr",
          "text": [
            "/tmp/ipython-input-2137516860.py:11: FutureWarning: A value is trying to be set on a copy of a DataFrame or Series through chained assignment using an inplace method.\n",
            "The behavior will change in pandas 3.0. This inplace method will never work because the intermediate object on which we are setting values always behaves as a copy.\n",
            "\n",
            "For example, when doing 'df[col].method(value, inplace=True)', try using 'df.method({col: value}, inplace=True)' or df[col] = df[col].method(value) instead, to perform the operation inplace on the original object.\n",
            "\n",
            "\n",
            "  df_final[col].fillna(0, inplace=True)\n"
          ]
        }
      ]
    },
    {
      "cell_type": "markdown",
      "source": [
        "- Successively merges all patient-level summary tables into a single comprehensive DataFrame, combining demographics with aggregated clinical features (utilization, diagnoses, medications, etc.).\n",
        "\n",
        "-  Any missing numeric values after merging are filled with 0, resulting in a clean, analysis-ready dataset with one row per patient and rich features for modelling"
      ],
      "metadata": {
        "id": "NUEJjoSICTPY"
      }
    },
    {
      "cell_type": "markdown",
      "source": [
        "-----------------------\n",
        "\n",
        "\n",
        "\n",
        "## **6. Add AGE column**\n"
      ],
      "metadata": {
        "id": "8iCFMkleCczy"
      }
    },
    {
      "cell_type": "code",
      "source": [
        "\n",
        "today = pd.to_datetime(\"today\")\n",
        "\n",
        "def calculate_age(row):\n",
        "    if pd.notnull(row[\"deathdate\"]):\n",
        "        ref_date = row[\"deathdate\"]\n",
        "    else:\n",
        "        ref_date = today\n",
        "    if pd.notnull(row[\"birthdate\"]):\n",
        "        return int((ref_date - row[\"birthdate\"]).days // 365.25)\n",
        "    else:\n",
        "        return np.nan\n",
        "\n",
        "df_final[\"age\"] = df_final.apply(calculate_age, axis=1)\n",
        "\n"
      ],
      "metadata": {
        "id": "G_6cMqIWjf7w"
      },
      "execution_count": 11,
      "outputs": []
    },
    {
      "cell_type": "markdown",
      "source": [
        "- Calculates each patient’s age by subtracting their birthdate from their date of death if available, otherwise from today’s date.\n",
        "\n",
        "- Integrates accurate age as a derived feature in the dataset, handling missing values gracefully."
      ],
      "metadata": {
        "id": "JO_FkPktCrUX"
      }
    },
    {
      "cell_type": "markdown",
      "source": [
        "-------------------\n",
        "\n",
        "\n",
        "\n",
        "## **7. Encode categorical columns**\n"
      ],
      "metadata": {
        "id": "IM1hWuJyCy5k"
      }
    },
    {
      "cell_type": "code",
      "source": [
        "\n",
        "categorical_cols = [\"gender\", \"race\", \"ethnicity\", \"marital\", \"prefix\", \"suffix\"]\n",
        "\n",
        "label_encoders = {}\n",
        "for col in categorical_cols:\n",
        "    if col in df_final.columns:\n",
        "        le = LabelEncoder()\n",
        "        df_final[col] = le.fit_transform(df_final[col].astype(str))\n",
        "        label_encoders[col] = dict(zip(le.classes_, le.transform(le.classes_)))\n",
        "\n"
      ],
      "metadata": {
        "id": "7yfahyMu5sdS"
      },
      "execution_count": 12,
      "outputs": []
    },
    {
      "cell_type": "markdown",
      "source": [
        "- Applies label encoding to convert categorical columns (such as gender, race, and marital status) into numeric values required for machine learning algorithms.\n",
        "\n",
        "- Also stores mappings for each column, making it easy to interpret encoded values later or reverse the transformation if needed"
      ],
      "metadata": {
        "id": "Os2EHIYIDC96"
      }
    },
    {
      "cell_type": "markdown",
      "source": [
        "---------------------\n",
        "\n",
        "\n",
        "## **8. Final check**\n"
      ],
      "metadata": {
        "id": "rE1H8_C8DLwq"
      }
    },
    {
      "cell_type": "code",
      "source": [
        "\n",
        "print(\"Final dataset shape:\", df_final.shape)\n",
        "print(\"\\nEncoded column mappings:\")\n",
        "for col, mapping in label_encoders.items():\n",
        "    print(f\"\\n{col}: {mapping}\")\n",
        "\n"
      ],
      "metadata": {
        "colab": {
          "base_uri": "https://localhost:8080/"
        },
        "id": "KyjYc2225sFc",
        "outputId": "10dca184-0f0a-462c-fc69-bd8543059e61"
      },
      "execution_count": 13,
      "outputs": [
        {
          "output_type": "stream",
          "name": "stdout",
          "text": [
            "Final dataset shape: (1462, 28)\n",
            "\n",
            "Encoded column mappings:\n",
            "\n",
            "gender: {'F': np.int64(0), 'M': np.int64(1)}\n",
            "\n",
            "race: {'asian': np.int64(0), 'black': np.int64(1), 'hispanic': np.int64(2), 'white': np.int64(3)}\n",
            "\n",
            "ethnicity: {'african': np.int64(0), 'american': np.int64(1), 'asian_indian': np.int64(2), 'central_american': np.int64(3), 'chinese': np.int64(4), 'dominican': np.int64(5), 'english': np.int64(6), 'french': np.int64(7), 'french_canadian': np.int64(8), 'german': np.int64(9), 'irish': np.int64(10), 'italian': np.int64(11), 'mexican': np.int64(12), 'polish': np.int64(13), 'portuguese': np.int64(14), 'puerto_rican': np.int64(15), 'russian': np.int64(16), 'scottish': np.int64(17), 'swedish': np.int64(18), 'west_indian': np.int64(19)}\n",
            "\n",
            "marital: {'M': np.int64(0), 'S': np.int64(1), 'Unknown': np.int64(2)}\n",
            "\n",
            "prefix: {'Mr.': np.int64(0), 'Mrs.': np.int64(1), 'Ms.': np.int64(2), 'Unknown': np.int64(3)}\n",
            "\n",
            "suffix: {'JD': np.int64(0), 'MD': np.int64(1), 'PhD': np.int64(2), 'Unknown': np.int64(3)}\n"
          ]
        }
      ]
    },
    {
      "cell_type": "markdown",
      "source": [
        "- Displays the shape of the fully merged and feature-engineered dataset, and prints the mappings for each encoded categorical column to ensure transparency and interpretability of engineered features."
      ],
      "metadata": {
        "id": "yedpu0qCDbAi"
      }
    },
    {
      "cell_type": "code",
      "source": [
        "df_final[[\"patient_id\", \"age\", \"gender\", \"race\", \"ethnicity\",\n",
        "          \"total_claims\", \"num_conditions\", \"num_meds\", \"num_encounters\"]].head()"
      ],
      "metadata": {
        "colab": {
          "base_uri": "https://localhost:8080/",
          "height": 206
        },
        "id": "M04BFtb35sAW",
        "outputId": "4b4d29f3-9fca-43d5-dd69-00da6cb2bc54"
      },
      "execution_count": 14,
      "outputs": [
        {
          "output_type": "execute_result",
          "data": {
            "text/plain": [
              "                             patient_id  age  gender  race  ethnicity  \\\n",
              "0  4ee2c837-e60f-4c54-9fdf-8686bc70760b  100       0     1          5   \n",
              "1  efaf74f9-3de3-45dd-a5d5-26d08e8a3190    3       0     3          1   \n",
              "2  aaa4c718-2f48-4c13-9ad0-d287cf280824   73       1     1          0   \n",
              "3  a1851c06-804e-4f31-9d8f-388cd52d4ad0   62       0     3          6   \n",
              "4  48074b70-4db4-4ab0-b9e8-361bd2ba6216   82       1     2         15   \n",
              "\n",
              "   total_claims  num_conditions  num_meds  num_encounters  \n",
              "0         100.0             0.0       0.0             1.0  \n",
              "1         100.0             1.0       0.0             1.0  \n",
              "2        2000.0             9.0       6.0            20.0  \n",
              "3        1600.0            10.0      15.0            16.0  \n",
              "4        1700.0             9.0       7.0            17.0  "
            ],
            "text/html": [
              "\n",
              "  <div id=\"df-366910e2-c25a-4441-b0ca-96c4f826334b\" class=\"colab-df-container\">\n",
              "    <div>\n",
              "<style scoped>\n",
              "    .dataframe tbody tr th:only-of-type {\n",
              "        vertical-align: middle;\n",
              "    }\n",
              "\n",
              "    .dataframe tbody tr th {\n",
              "        vertical-align: top;\n",
              "    }\n",
              "\n",
              "    .dataframe thead th {\n",
              "        text-align: right;\n",
              "    }\n",
              "</style>\n",
              "<table border=\"1\" class=\"dataframe\">\n",
              "  <thead>\n",
              "    <tr style=\"text-align: right;\">\n",
              "      <th></th>\n",
              "      <th>patient_id</th>\n",
              "      <th>age</th>\n",
              "      <th>gender</th>\n",
              "      <th>race</th>\n",
              "      <th>ethnicity</th>\n",
              "      <th>total_claims</th>\n",
              "      <th>num_conditions</th>\n",
              "      <th>num_meds</th>\n",
              "      <th>num_encounters</th>\n",
              "    </tr>\n",
              "  </thead>\n",
              "  <tbody>\n",
              "    <tr>\n",
              "      <th>0</th>\n",
              "      <td>4ee2c837-e60f-4c54-9fdf-8686bc70760b</td>\n",
              "      <td>100</td>\n",
              "      <td>0</td>\n",
              "      <td>1</td>\n",
              "      <td>5</td>\n",
              "      <td>100.0</td>\n",
              "      <td>0.0</td>\n",
              "      <td>0.0</td>\n",
              "      <td>1.0</td>\n",
              "    </tr>\n",
              "    <tr>\n",
              "      <th>1</th>\n",
              "      <td>efaf74f9-3de3-45dd-a5d5-26d08e8a3190</td>\n",
              "      <td>3</td>\n",
              "      <td>0</td>\n",
              "      <td>3</td>\n",
              "      <td>1</td>\n",
              "      <td>100.0</td>\n",
              "      <td>1.0</td>\n",
              "      <td>0.0</td>\n",
              "      <td>1.0</td>\n",
              "    </tr>\n",
              "    <tr>\n",
              "      <th>2</th>\n",
              "      <td>aaa4c718-2f48-4c13-9ad0-d287cf280824</td>\n",
              "      <td>73</td>\n",
              "      <td>1</td>\n",
              "      <td>1</td>\n",
              "      <td>0</td>\n",
              "      <td>2000.0</td>\n",
              "      <td>9.0</td>\n",
              "      <td>6.0</td>\n",
              "      <td>20.0</td>\n",
              "    </tr>\n",
              "    <tr>\n",
              "      <th>3</th>\n",
              "      <td>a1851c06-804e-4f31-9d8f-388cd52d4ad0</td>\n",
              "      <td>62</td>\n",
              "      <td>0</td>\n",
              "      <td>3</td>\n",
              "      <td>6</td>\n",
              "      <td>1600.0</td>\n",
              "      <td>10.0</td>\n",
              "      <td>15.0</td>\n",
              "      <td>16.0</td>\n",
              "    </tr>\n",
              "    <tr>\n",
              "      <th>4</th>\n",
              "      <td>48074b70-4db4-4ab0-b9e8-361bd2ba6216</td>\n",
              "      <td>82</td>\n",
              "      <td>1</td>\n",
              "      <td>2</td>\n",
              "      <td>15</td>\n",
              "      <td>1700.0</td>\n",
              "      <td>9.0</td>\n",
              "      <td>7.0</td>\n",
              "      <td>17.0</td>\n",
              "    </tr>\n",
              "  </tbody>\n",
              "</table>\n",
              "</div>\n",
              "    <div class=\"colab-df-buttons\">\n",
              "\n",
              "  <div class=\"colab-df-container\">\n",
              "    <button class=\"colab-df-convert\" onclick=\"convertToInteractive('df-366910e2-c25a-4441-b0ca-96c4f826334b')\"\n",
              "            title=\"Convert this dataframe to an interactive table.\"\n",
              "            style=\"display:none;\">\n",
              "\n",
              "  <svg xmlns=\"http://www.w3.org/2000/svg\" height=\"24px\" viewBox=\"0 -960 960 960\">\n",
              "    <path d=\"M120-120v-720h720v720H120Zm60-500h600v-160H180v160Zm220 220h160v-160H400v160Zm0 220h160v-160H400v160ZM180-400h160v-160H180v160Zm440 0h160v-160H620v160ZM180-180h160v-160H180v160Zm440 0h160v-160H620v160Z\"/>\n",
              "  </svg>\n",
              "    </button>\n",
              "\n",
              "  <style>\n",
              "    .colab-df-container {\n",
              "      display:flex;\n",
              "      gap: 12px;\n",
              "    }\n",
              "\n",
              "    .colab-df-convert {\n",
              "      background-color: #E8F0FE;\n",
              "      border: none;\n",
              "      border-radius: 50%;\n",
              "      cursor: pointer;\n",
              "      display: none;\n",
              "      fill: #1967D2;\n",
              "      height: 32px;\n",
              "      padding: 0 0 0 0;\n",
              "      width: 32px;\n",
              "    }\n",
              "\n",
              "    .colab-df-convert:hover {\n",
              "      background-color: #E2EBFA;\n",
              "      box-shadow: 0px 1px 2px rgba(60, 64, 67, 0.3), 0px 1px 3px 1px rgba(60, 64, 67, 0.15);\n",
              "      fill: #174EA6;\n",
              "    }\n",
              "\n",
              "    .colab-df-buttons div {\n",
              "      margin-bottom: 4px;\n",
              "    }\n",
              "\n",
              "    [theme=dark] .colab-df-convert {\n",
              "      background-color: #3B4455;\n",
              "      fill: #D2E3FC;\n",
              "    }\n",
              "\n",
              "    [theme=dark] .colab-df-convert:hover {\n",
              "      background-color: #434B5C;\n",
              "      box-shadow: 0px 1px 3px 1px rgba(0, 0, 0, 0.15);\n",
              "      filter: drop-shadow(0px 1px 2px rgba(0, 0, 0, 0.3));\n",
              "      fill: #FFFFFF;\n",
              "    }\n",
              "  </style>\n",
              "\n",
              "    <script>\n",
              "      const buttonEl =\n",
              "        document.querySelector('#df-366910e2-c25a-4441-b0ca-96c4f826334b button.colab-df-convert');\n",
              "      buttonEl.style.display =\n",
              "        google.colab.kernel.accessAllowed ? 'block' : 'none';\n",
              "\n",
              "      async function convertToInteractive(key) {\n",
              "        const element = document.querySelector('#df-366910e2-c25a-4441-b0ca-96c4f826334b');\n",
              "        const dataTable =\n",
              "          await google.colab.kernel.invokeFunction('convertToInteractive',\n",
              "                                                    [key], {});\n",
              "        if (!dataTable) return;\n",
              "\n",
              "        const docLinkHtml = 'Like what you see? Visit the ' +\n",
              "          '<a target=\"_blank\" href=https://colab.research.google.com/notebooks/data_table.ipynb>data table notebook</a>'\n",
              "          + ' to learn more about interactive tables.';\n",
              "        element.innerHTML = '';\n",
              "        dataTable['output_type'] = 'display_data';\n",
              "        await google.colab.output.renderOutput(dataTable, element);\n",
              "        const docLink = document.createElement('div');\n",
              "        docLink.innerHTML = docLinkHtml;\n",
              "        element.appendChild(docLink);\n",
              "      }\n",
              "    </script>\n",
              "  </div>\n",
              "\n",
              "\n",
              "    <div id=\"df-522c031c-1481-4117-a5e0-b8dc303ea5ec\">\n",
              "      <button class=\"colab-df-quickchart\" onclick=\"quickchart('df-522c031c-1481-4117-a5e0-b8dc303ea5ec')\"\n",
              "                title=\"Suggest charts\"\n",
              "                style=\"display:none;\">\n",
              "\n",
              "<svg xmlns=\"http://www.w3.org/2000/svg\" height=\"24px\"viewBox=\"0 0 24 24\"\n",
              "     width=\"24px\">\n",
              "    <g>\n",
              "        <path d=\"M19 3H5c-1.1 0-2 .9-2 2v14c0 1.1.9 2 2 2h14c1.1 0 2-.9 2-2V5c0-1.1-.9-2-2-2zM9 17H7v-7h2v7zm4 0h-2V7h2v10zm4 0h-2v-4h2v4z\"/>\n",
              "    </g>\n",
              "</svg>\n",
              "      </button>\n",
              "\n",
              "<style>\n",
              "  .colab-df-quickchart {\n",
              "      --bg-color: #E8F0FE;\n",
              "      --fill-color: #1967D2;\n",
              "      --hover-bg-color: #E2EBFA;\n",
              "      --hover-fill-color: #174EA6;\n",
              "      --disabled-fill-color: #AAA;\n",
              "      --disabled-bg-color: #DDD;\n",
              "  }\n",
              "\n",
              "  [theme=dark] .colab-df-quickchart {\n",
              "      --bg-color: #3B4455;\n",
              "      --fill-color: #D2E3FC;\n",
              "      --hover-bg-color: #434B5C;\n",
              "      --hover-fill-color: #FFFFFF;\n",
              "      --disabled-bg-color: #3B4455;\n",
              "      --disabled-fill-color: #666;\n",
              "  }\n",
              "\n",
              "  .colab-df-quickchart {\n",
              "    background-color: var(--bg-color);\n",
              "    border: none;\n",
              "    border-radius: 50%;\n",
              "    cursor: pointer;\n",
              "    display: none;\n",
              "    fill: var(--fill-color);\n",
              "    height: 32px;\n",
              "    padding: 0;\n",
              "    width: 32px;\n",
              "  }\n",
              "\n",
              "  .colab-df-quickchart:hover {\n",
              "    background-color: var(--hover-bg-color);\n",
              "    box-shadow: 0 1px 2px rgba(60, 64, 67, 0.3), 0 1px 3px 1px rgba(60, 64, 67, 0.15);\n",
              "    fill: var(--button-hover-fill-color);\n",
              "  }\n",
              "\n",
              "  .colab-df-quickchart-complete:disabled,\n",
              "  .colab-df-quickchart-complete:disabled:hover {\n",
              "    background-color: var(--disabled-bg-color);\n",
              "    fill: var(--disabled-fill-color);\n",
              "    box-shadow: none;\n",
              "  }\n",
              "\n",
              "  .colab-df-spinner {\n",
              "    border: 2px solid var(--fill-color);\n",
              "    border-color: transparent;\n",
              "    border-bottom-color: var(--fill-color);\n",
              "    animation:\n",
              "      spin 1s steps(1) infinite;\n",
              "  }\n",
              "\n",
              "  @keyframes spin {\n",
              "    0% {\n",
              "      border-color: transparent;\n",
              "      border-bottom-color: var(--fill-color);\n",
              "      border-left-color: var(--fill-color);\n",
              "    }\n",
              "    20% {\n",
              "      border-color: transparent;\n",
              "      border-left-color: var(--fill-color);\n",
              "      border-top-color: var(--fill-color);\n",
              "    }\n",
              "    30% {\n",
              "      border-color: transparent;\n",
              "      border-left-color: var(--fill-color);\n",
              "      border-top-color: var(--fill-color);\n",
              "      border-right-color: var(--fill-color);\n",
              "    }\n",
              "    40% {\n",
              "      border-color: transparent;\n",
              "      border-right-color: var(--fill-color);\n",
              "      border-top-color: var(--fill-color);\n",
              "    }\n",
              "    60% {\n",
              "      border-color: transparent;\n",
              "      border-right-color: var(--fill-color);\n",
              "    }\n",
              "    80% {\n",
              "      border-color: transparent;\n",
              "      border-right-color: var(--fill-color);\n",
              "      border-bottom-color: var(--fill-color);\n",
              "    }\n",
              "    90% {\n",
              "      border-color: transparent;\n",
              "      border-bottom-color: var(--fill-color);\n",
              "    }\n",
              "  }\n",
              "</style>\n",
              "\n",
              "      <script>\n",
              "        async function quickchart(key) {\n",
              "          const quickchartButtonEl =\n",
              "            document.querySelector('#' + key + ' button');\n",
              "          quickchartButtonEl.disabled = true;  // To prevent multiple clicks.\n",
              "          quickchartButtonEl.classList.add('colab-df-spinner');\n",
              "          try {\n",
              "            const charts = await google.colab.kernel.invokeFunction(\n",
              "                'suggestCharts', [key], {});\n",
              "          } catch (error) {\n",
              "            console.error('Error during call to suggestCharts:', error);\n",
              "          }\n",
              "          quickchartButtonEl.classList.remove('colab-df-spinner');\n",
              "          quickchartButtonEl.classList.add('colab-df-quickchart-complete');\n",
              "        }\n",
              "        (() => {\n",
              "          let quickchartButtonEl =\n",
              "            document.querySelector('#df-522c031c-1481-4117-a5e0-b8dc303ea5ec button');\n",
              "          quickchartButtonEl.style.display =\n",
              "            google.colab.kernel.accessAllowed ? 'block' : 'none';\n",
              "        })();\n",
              "      </script>\n",
              "    </div>\n",
              "\n",
              "    </div>\n",
              "  </div>\n"
            ],
            "application/vnd.google.colaboratory.intrinsic+json": {
              "type": "dataframe",
              "summary": "{\n  \"name\": \"          \\\"total_claims\\\", \\\"num_conditions\\\", \\\"num_meds\\\", \\\"num_encounters\\\"]]\",\n  \"rows\": 5,\n  \"fields\": [\n    {\n      \"column\": \"patient_id\",\n      \"properties\": {\n        \"dtype\": \"string\",\n        \"num_unique_values\": 5,\n        \"samples\": [\n          \"efaf74f9-3de3-45dd-a5d5-26d08e8a3190\",\n          \"48074b70-4db4-4ab0-b9e8-361bd2ba6216\",\n          \"aaa4c718-2f48-4c13-9ad0-d287cf280824\"\n        ],\n        \"semantic_type\": \"\",\n        \"description\": \"\"\n      }\n    },\n    {\n      \"column\": \"age\",\n      \"properties\": {\n        \"dtype\": \"number\",\n        \"std\": 36,\n        \"min\": 3,\n        \"max\": 100,\n        \"num_unique_values\": 5,\n        \"samples\": [\n          3,\n          82,\n          73\n        ],\n        \"semantic_type\": \"\",\n        \"description\": \"\"\n      }\n    },\n    {\n      \"column\": \"gender\",\n      \"properties\": {\n        \"dtype\": \"number\",\n        \"std\": 0,\n        \"min\": 0,\n        \"max\": 1,\n        \"num_unique_values\": 2,\n        \"samples\": [\n          1,\n          0\n        ],\n        \"semantic_type\": \"\",\n        \"description\": \"\"\n      }\n    },\n    {\n      \"column\": \"race\",\n      \"properties\": {\n        \"dtype\": \"number\",\n        \"std\": 1,\n        \"min\": 1,\n        \"max\": 3,\n        \"num_unique_values\": 3,\n        \"samples\": [\n          1,\n          3\n        ],\n        \"semantic_type\": \"\",\n        \"description\": \"\"\n      }\n    },\n    {\n      \"column\": \"ethnicity\",\n      \"properties\": {\n        \"dtype\": \"number\",\n        \"std\": 5,\n        \"min\": 0,\n        \"max\": 15,\n        \"num_unique_values\": 5,\n        \"samples\": [\n          1,\n          15\n        ],\n        \"semantic_type\": \"\",\n        \"description\": \"\"\n      }\n    },\n    {\n      \"column\": \"total_claims\",\n      \"properties\": {\n        \"dtype\": \"number\",\n        \"std\": 924.6621004453465,\n        \"min\": 100.0,\n        \"max\": 2000.0,\n        \"num_unique_values\": 4,\n        \"samples\": [\n          2000.0,\n          1700.0\n        ],\n        \"semantic_type\": \"\",\n        \"description\": \"\"\n      }\n    },\n    {\n      \"column\": \"num_conditions\",\n      \"properties\": {\n        \"dtype\": \"number\",\n        \"std\": 4.868264577855235,\n        \"min\": 0.0,\n        \"max\": 10.0,\n        \"num_unique_values\": 4,\n        \"samples\": [\n          1.0,\n          10.0\n        ],\n        \"semantic_type\": \"\",\n        \"description\": \"\"\n      }\n    },\n    {\n      \"column\": \"num_meds\",\n      \"properties\": {\n        \"dtype\": \"number\",\n        \"std\": 6.188699378706321,\n        \"min\": 0.0,\n        \"max\": 15.0,\n        \"num_unique_values\": 4,\n        \"samples\": [\n          6.0,\n          7.0\n        ],\n        \"semantic_type\": \"\",\n        \"description\": \"\"\n      }\n    },\n    {\n      \"column\": \"num_encounters\",\n      \"properties\": {\n        \"dtype\": \"number\",\n        \"std\": 9.246621004453464,\n        \"min\": 1.0,\n        \"max\": 20.0,\n        \"num_unique_values\": 4,\n        \"samples\": [\n          20.0,\n          17.0\n        ],\n        \"semantic_type\": \"\",\n        \"description\": \"\"\n      }\n    }\n  ]\n}"
            }
          },
          "metadata": {},
          "execution_count": 14
        }
      ]
    },
    {
      "cell_type": "markdown",
      "source": [
        "- Shows a preview of the final analytical dataset, highlighting key patient-level features such as demographics, clinical history, and healthcare utilization, ready for use in modelling or further analysis.\n",
        "\n",
        "--------------------------------"
      ],
      "metadata": {
        "id": "s9YduTr7Do9g"
      }
    },
    {
      "cell_type": "code",
      "source": [
        "df_final.shape"
      ],
      "metadata": {
        "colab": {
          "base_uri": "https://localhost:8080/"
        },
        "id": "4gk6I0LOpAMQ",
        "outputId": "38a642b3-a669-42af-acea-9af7142594fb"
      },
      "execution_count": 15,
      "outputs": [
        {
          "output_type": "execute_result",
          "data": {
            "text/plain": [
              "(1462, 28)"
            ]
          },
          "metadata": {},
          "execution_count": 15
        }
      ]
    },
    {
      "cell_type": "markdown",
      "source": [
        "-----------------------\n",
        "\n",
        "\n",
        "## **9. Export datasets**\n"
      ],
      "metadata": {
        "id": "cWZ5cbkGD0RW"
      }
    },
    {
      "cell_type": "code",
      "source": [
        "'''\n",
        "# Save cleaned dataset\n",
        "df_final.to_csv(\"cleaned_dataset.csv\", index=False)\n",
        "\n",
        "\n",
        "\n",
        "# For Colab: download files\n",
        "from google.colab import files\n",
        "files.download(\"cleaned_dataset.csv\")\n",
        "'''\n",
        "\n"
      ],
      "metadata": {
        "colab": {
          "base_uri": "https://localhost:8080/",
          "height": 53
        },
        "id": "a_8CUPZolqq4",
        "outputId": "4165c818-5658-4ab3-fb1c-96d8c139811e"
      },
      "execution_count": 16,
      "outputs": [
        {
          "output_type": "execute_result",
          "data": {
            "text/plain": [
              "'\\n# Save cleaned dataset\\ndf_final.to_csv(\"cleaned_dataset.csv\", index=False)\\n\\n\\n\\n# For Colab: download files\\nfrom google.colab import files\\nfiles.download(\"cleaned_dataset.csv\")\\n'"
            ],
            "application/vnd.google.colaboratory.intrinsic+json": {
              "type": "string"
            }
          },
          "metadata": {},
          "execution_count": 16
        }
      ]
    },
    {
      "cell_type": "markdown",
      "source": [
        "------------------------\n",
        "\n",
        "## **10. Outlier Detection And Treatment**"
      ],
      "metadata": {
        "id": "IfRIamcupZai"
      }
    },
    {
      "cell_type": "code",
      "source": [
        "import numpy as np\n",
        "\n",
        "# Copy scaled dataset for outlier treatment\n",
        "df_outliers = df_final.copy()\n",
        "\n",
        "# Detect and treat outliers for numeric columns\n",
        "numeric_cols = df_outliers.select_dtypes(include=[np.number]).columns\n",
        "\n",
        "for col in numeric_cols:\n",
        "    Q1 = df_outliers[col].quantile(0.25)\n",
        "    Q3 = df_outliers[col].quantile(0.75)\n",
        "    IQR = Q3 - Q1\n",
        "    lower_bound = Q1 - 1.5 * IQR\n",
        "    upper_bound = Q3 + 1.5 * IQR\n",
        "\n",
        "    # Winsorization: cap values beyond bounds\n",
        "    df_outliers[col] = np.where(df_outliers[col] < lower_bound, lower_bound,\n",
        "                                np.where(df_outliers[col] > upper_bound, upper_bound, df_outliers[col]))\n",
        "\n",
        "print(\" Outlier treatment completed using IQR capping\")\n"
      ],
      "metadata": {
        "colab": {
          "base_uri": "https://localhost:8080/"
        },
        "id": "gHETH1ZbpgKc",
        "outputId": "08220d49-2113-423d-c91a-6fd5536971cf"
      },
      "execution_count": 17,
      "outputs": [
        {
          "output_type": "stream",
          "name": "stdout",
          "text": [
            " Outlier treatment completed using IQR capping\n"
          ]
        }
      ]
    },
    {
      "cell_type": "markdown",
      "source": [
        "- Performs outlier treatment on all numeric columns using IQR-based winsorization, capping extreme values at calculated lower and upper bounds to reduce the impact of outliers and improve dataset robustness for modelling."
      ],
      "metadata": {
        "id": "0u57UxSZEcXf"
      }
    },
    {
      "cell_type": "markdown",
      "source": [
        "### **Visualize Before and after Capping Plots**"
      ],
      "metadata": {
        "id": "FaKLP_hDEhOh"
      }
    },
    {
      "cell_type": "code",
      "source": [
        "features = [\"age\", \"total_claims\", \"num_conditions\", \"num_meds\"]\n",
        "\n",
        "for col in features:\n",
        "    plt.figure(figsize=(10,4))\n",
        "\n",
        "    plt.subplot(1,2,1)\n",
        "    sns.boxplot(x=df_final[col], color=\"indianred\")\n",
        "    plt.title(f\"{col} - Before Outlier Treatment\")\n",
        "\n",
        "    plt.subplot(1,2,2)\n",
        "    sns.boxplot(x=df_outliers[col], color=\"seagreen\")\n",
        "    plt.title(f\"{col} - After Outlier Treatment\")\n",
        "\n",
        "    plt.tight_layout()\n",
        "    plt.show()\n",
        "\n"
      ],
      "metadata": {
        "colab": {
          "base_uri": "https://localhost:8080/",
          "height": 1000
        },
        "id": "c6j0zuxyp5wb",
        "outputId": "9a9300eb-fbff-40ae-b054-69a0910fb942"
      },
      "execution_count": 18,
      "outputs": [
        {
          "output_type": "display_data",
          "data": {
            "text/plain": [
              "<Figure size 1000x400 with 2 Axes>"
            ],
            "image/png": "[encoded data removed]"
          },
          "metadata": {}
        },
        {
          "output_type": "display_data",
          "data": {
            "text/plain": [
              "<Figure size 1000x400 with 2 Axes>"
            ],
            "image/png": "[encoded data removed]"
          },
          "metadata": {}
        },
        {
          "output_type": "display_data",
          "data": {
            "text/plain": [
              "<Figure size 1000x400 with 2 Axes>"
            ],
            "image/png": "[encoded data removed]"
          },
          "metadata": {}
        },
        {
          "output_type": "display_data",
          "data": {
            "text/plain": [
              "<Figure size 1000x400 with 2 Axes>"
            ],
            "image/png": "[encoded data removed]"
          },
          "metadata": {}
        }
      ]
    },
    {
      "cell_type": "markdown",
      "source": [
        "## **11. Missing Values Heatmap**"
      ],
      "metadata": {
        "id": "EEPUJw6RVNIA"
      }
    },
    {
      "cell_type": "code",
      "source": [
        "import seaborn as sns\n",
        "import matplotlib.pyplot as plt\n",
        "\n",
        "# Heatmap for missing values\n",
        "plt.figure(figsize=(15,6))\n",
        "sns.heatmap(df_final.isnull(), cbar=False, yticklabels=False, cmap='viridis')\n",
        "plt.title('Missing Values Heatmap')\n",
        "plt.show()"
      ],
      "metadata": {
        "colab": {
          "base_uri": "https://localhost:8080/",
          "height": 611
        },
        "id": "BIbc0nEgVFv5",
        "outputId": "f58ae3dd-e2fd-4041-dd46-4f08bade0e5a"
      },
      "execution_count": 19,
      "outputs": [
        {
          "output_type": "display_data",
          "data": {
            "text/plain": [
              "<Figure size 1500x600 with 1 Axes>"
            ],
            "image/png": "[encoded data removed]"
          },
          "metadata": {}
        }
      ]
    },
    {
      "cell_type": "markdown",
      "source": [
        " visualize missing values in  DataFrame, with colored stripes representing locations of NaNs."
      ],
      "metadata": {
        "id": "xwlOHbsBVdwE"
      }
    },
    {
      "cell_type": "markdown",
      "source": [
        "--------------------------------\n",
        "\n",
        "\n",
        "\n",
        "# **Exploratory Data Analysis**"
      ],
      "metadata": {
        "id": "7e0PXjNFExOA"
      }
    },
    {
      "cell_type": "markdown",
      "source": [
        "### Imports and dataframe copying"
      ],
      "metadata": {
        "id": "Qr7dGQwHE9Yc"
      }
    },
    {
      "cell_type": "code",
      "source": [
        "import plotly.express as px\n",
        "import plotly.graph_objects as go\n",
        "import matplotlib.pyplot as plt\n",
        "import seaborn as sns\n",
        "\n",
        "df_plot = df_outliers.copy()\n",
        "\n"
      ],
      "metadata": {
        "id": "uFjlIh5g6p6c"
      },
      "execution_count": 20,
      "outputs": []
    },
    {
      "cell_type": "markdown",
      "source": [
        "## **1. Birth Year Distribution of patients**"
      ],
      "metadata": {
        "id": "v7Uocm0cFUpd"
      }
    },
    {
      "cell_type": "code",
      "source": [
        "\n",
        "\n",
        "plt.figure(figsize=(16,5))\n",
        "sns.histplot(pd.to_datetime(patients['birthdate']).dt.year, bins=30, kde=True)\n",
        "plt.title('Birth Year Distribution (Patients)')\n",
        "plt.xlabel('Year of Birth')\n",
        "plt.ylabel('Count')\n",
        "plt.show()\n",
        "\n"
      ],
      "metadata": {
        "colab": {
          "base_uri": "https://localhost:8080/",
          "height": 403
        },
        "id": "KWgtwz_vbdgX",
        "outputId": "f19d64d3-bd9e-45be-d526-4931b0e7d581"
      },
      "execution_count": 21,
      "outputs": [
        {
          "output_type": "display_data",
          "data": {
            "text/plain": [
              "<Figure size 1600x500 with 1 Axes>"
            ],
            "image/png": "[encoded data removed]"
          },
          "metadata": {}
        }
      ]
    },
    {
      "cell_type": "markdown",
      "source": [
        "**Why chose this plot?**\n",
        "\n",
        "Histogram with KDE is ideal for understanding the continuous distribution of birth years, revealing age demographics, generational patterns, and potential data skewness that could impact predictions.\n",
        "\n",
        "**Insight:**\n",
        "\n",
        "The population covers all major age groups, with peaks in both older adults and young patients—making the dataset robust for multimorbidity analysis and representative of real-world clinical scenarios."
      ],
      "metadata": {
        "id": "PFv1EG4MGjGw"
      }
    },
    {
      "cell_type": "markdown",
      "source": [
        "-----------------------\n",
        "\n",
        "## **2. Patient Age Distribution**"
      ],
      "metadata": {
        "id": "9O3LOTzfG5YX"
      }
    },
    {
      "cell_type": "code",
      "source": [
        "\n",
        "\n",
        "df_final['age'] = 2024 - pd.to_datetime(df_final['birthdate']).dt.year\n",
        "\n",
        "fig = px.histogram(\n",
        "    df_final,\n",
        "    x='age',\n",
        "    nbins=30,\n",
        "    title='Patient Age Distribution ',\n",
        "    labels={'age': 'Age (Years)', 'count': 'Count'}\n",
        ")\n",
        "fig.show()\n"
      ],
      "metadata": {
        "colab": {
          "base_uri": "https://localhost:8080/",
          "height": 542
        },
        "id": "AJhvYb_Z6p3c",
        "outputId": "f3e5c60f-37c3-4373-a4df-933387a16dda"
      },
      "execution_count": 22,
      "outputs": [
        {
          "output_type": "display_data",
          "data": {
            "text/html": [
              "<html>\n",
              "<head><meta charset=\"utf-8\" /></head>\n",
              "<body>\n",
              "    <div>            <script src=\"https://cdnjs.cloudflare.com/ajax/libs/mathjax/2.7.5/MathJax.js?config=TeX-AMS-MML_SVG\"></script><script type=\"text/javascript\">if (window.MathJax && window.MathJax.Hub && window.MathJax.Hub.Config) {window.MathJax.Hub.Config({SVG: {font: \"STIX-Web\"}});}</script>                <script type=\"text/javascript\">window.PlotlyConfig = {MathJaxConfig: 'local'};</script>\n",
              "        <script charset=\"utf-8\" src=\"https://cdn.plot.ly/plotly-2.35.2.min.js\"></script>                <div id=\"5ebadea4-ddc1-44c4-bd89-1ea8750390b9\" class=\"plotly-graph-div\" style=\"height:525px; width:100%;\"></div>            <script type=\"text/javascript\">                                    window.PLOTLYENV=window.PLOTLYENV || {};                                    if (document.getElementById(\"5ebadea4-ddc1-44c4-bd89-1ea8750390b9\")) {                    Plotly.newPlot(                        \"5ebadea4-ddc1-44c4-bd89-1ea8750390b9\",                        [{\"alignmentgroup\":\"True\",\"bingroup\":\"x\",\"hovertemplate\":\"Age (Years)=%{x}\\u003cbr\\u003ecount=%{y}\\u003cextra\\u003e\\u003c\\u002fextra\\u003e\",\"legendgroup\":\"\",\"marker\":{\"color\":\"#636efa\",\"pattern\":{\"shape\":\"\"}},\"name\":\"\",\"nbinsx\":30,\"offsetgroup\":\"\",\"orientation\":\"v\",\"showlegend\":false,\"x\":[95,8,81,70,89,88,86,88,85,69,86,73,83,27,70,68,101,75,59,61,97,100,98,103,83,91,87,57,92,66,62,105,103,78,86,90,105,77,47,91,20,83,89,104,62,65,62,85,78,81,72,82,91,17,52,54,91,103,64,61,65,104,99,96,95,55,107,104,79,97,11,71,74,71,86,30,97,98,96,101,97,100,79,76,76,103,87,100,93,103,60,53,97,94,107,92,95,94,75,97,78,66,52,104,63,88,104,74,95,83,65,55,84,91,96,63,100,78,69,63,95,82,81,74,73,102,104,94,95,102,98,104,18,91,102,62,91,88,67,59,87,97,74,93,99,93,75,104,106,77,53,94,101,106,93,71,106,103,106,65,91,93,108,62,68,104,65,95,96,66,84,94,32,60,88,92,79,103,95,104,104,75,94,105,105,87,69,69,90,96,69,93,103,103,76,89,100,86,73,87,74,94,102,71,94,84,106,98,103,88,97,98,79,97,24,107,29,103,73,107,98,107,80,104,98,98,96,69,39,96,107,83,102,101,87,97,103,92,104,101,105,99,98,63,103,72,104,57,84,80,102,63,93,91,105,90,89,98,86,88,84,89,102,84,94,71,103,104,106,99,75,91,63,70,99,80,82,74,89,87,88,102,92,100,95,106,100,94,106,106,104,83,78,80,88,94,107,96,76,85,90,84,88,65,103,89,76,90,108,95,89,98,81,102,70,85,43,100,97,96,90,104,99,50,81,93,107,92,96,95,98,94,91,44,98,86,81,93,82,101,96,105,100,87,90,82,98,101,78,93,96,97,90,88,107,89,39,84,69,107,87,104,91,71,98,90,96,100,100,108,102,103,98,86,99,97,95,92,95,104,42,98,106,84,88,93,87,101,74,104,96,91,47,99,100,79,105,106,105,96,94,95,96,88,104,81,76,96,106,85,101,91,106,102,88,90,92,104,86,74,107,107,57,106,59,108,83,95,101,89,103,86,67,94,94,79,69,78,89,91,100,107,75,86,87,104,102,77,92,82,106,101,103,87,105,90,92,105,106,106,98,98,99,99,99,99,100,102,104,105,7,7,7,7,7,7,7,7,7,7,7,7,7,7,7,7,7,8,8,8,8,8,8,8,8,8,8,8,8,8,8,8,8,8,8,8,9,9,9,9,9,9,9,9,9,9,9,9,9,9,9,9,10,10,10,10,10,10,10,10,10,10,10,10,10,11,11,11,11,11,11,11,11,11,11,11,11,11,12,12,12,12,12,12,12,12,12,12,12,13,13,13,13,13,13,13,13,13,13,13,13,13,13,14,14,14,14,14,14,14,14,14,14,14,15,15,15,15,15,15,15,15,15,15,15,15,16,16,16,16,16,16,16,16,16,16,16,16,16,16,16,16,16,16,16,16,16,16,16,16,17,17,17,17,17,17,17,17,17,17,17,17,17,17,17,18,18,18,18,18,18,18,18,18,18,18,18,18,18,18,18,19,19,19,19,19,19,19,19,19,19,19,19,19,19,19,20,20,20,20,20,20,20,20,20,20,20,21,21,21,21,21,21,21,21,21,21,22,22,22,22,22,22,22,22,22,22,22,22,22,22,22,22,22,22,22,22,23,23,23,23,23,23,23,23,23,23,23,23,23,23,24,24,24,24,24,24,24,24,24,24,24,24,24,24,25,25,25,25,25,25,25,25,25,25,25,25,25,26,26,26,26,26,26,26,26,26,26,26,26,26,26,26,26,26,26,26,26,27,27,27,27,27,27,27,27,27,27,27,27,27,28,28,28,28,28,28,28,28,28,28,28,28,28,28,28,28,29,29,29,29,29,29,29,29,29,29,29,29,30,30,30,30,30,30,30,30,30,31,31,31,31,31,31,31,31,31,31,31,31,31,31,31,31,31,32,32,32,32,32,32,32,32,32,33,33,33,33,33,33,33,33,33,33,33,33,33,34,34,34,34,34,34,34,34,34,34,34,34,34,34,34,34,35,35,35,35,35,35,35,35,36,36,36,36,36,36,36,36,36,36,36,36,36,37,37,37,37,37,37,37,37,37,37,37,37,37,37,37,38,38,38,38,38,38,38,38,38,38,38,38,38,38,38,38,38,39,39,39,39,39,39,39,39,39,39,39,39,39,39,39,39,39,40,40,40,40,40,40,40,40,40,41,41,41,41,41,41,41,41,41,41,41,41,41,41,41,41,41,41,41,41,42,42,42,42,42,42,42,42,42,42,42,42,43,43,43,43,43,43,43,43,43,43,44,44,44,44,44,44,44,44,44,44,45,45,45,45,45,45,45,45,45,45,45,45,45,45,46,46,46,46,46,46,46,46,46,46,46,47,47,47,47,47,47,47,47,47,47,47,47,47,47,48,48,48,48,48,48,48,48,48,48,48,48,48,49,49,49,49,49,49,49,50,50,50,50,50,50,50,50,50,51,51,51,51,51,51,51,51,51,51,51,51,51,51,51,52,52,52,52,52,52,52,52,52,52,53,53,53,53,53,53,53,53,53,53,53,53,53,53,53,53,53,54,54,54,54,54,54,54,54,54,54,54,54,55,55,55,55,55,55,55,55,55,55,55,55,55,55,56,56,56,56,56,56,56,56,56,56,56,56,56,56,56,56,56,57,57,57,57,57,57,57,57,57,57,57,58,58,58,58,58,58,58,58,58,58,58,58,59,59,59,59,59,59,59,59,59,59,59,59,59,59,60,60,60,60,60,60,60,60,60,60,60,60,60,60,60,61,61,61,61,61,61,61,61,61,61,61,61,61,62,62,62,62,62,62,62,62,62,62,62,62,62,62,62,62,63,63,63,63,63,63,63,63,63,63,63,63,63,63,63,63,64,64,64,64,64,64,64,64,64,64,64,64,65,65,65,65,65,65,65,65,65,65,65,65,66,66,66,66,66,66,67,67,67,67,67,67,67,67,68,68,68,68,68,68,68,68,68,68,68,68,69,69,69,69,69,69,69,69,70,70,70,70,70,70,70,70,70,70,70,70,70,70,70,71,71,71,71,71,71,71,72,72,72,72,72,72,72,72,72,72,72,72,72,73,73,73,73,73,73,73,73,74,74,74,74,74,74,74,74,74,75,75,75,75,75,76,76,76,77,77,77,77,77,77,78,78,78,78,78,78,78,78,78,79,79,79,80,80,80,80,80,80,80,80,80,80,80,80,80,81,81,81,81,81,82,82,82,82,82,82,83,83,83,83,83,83,83,84,84,85,85,85,85,85,85,86,86,86,86,86,86,87,87,87,87,87,87,87,87,88,88,88,89,89,89,89,91,91,91,92,92,92,92,92,93,93,93,94],\"xaxis\":\"x\",\"yaxis\":\"y\",\"type\":\"histogram\"}],                        {\"template\":{\"data\":{\"histogram2dcontour\":[{\"type\":\"histogram2dcontour\",\"colorbar\":{\"outlinewidth\":0,\"ticks\":\"\"},\"colorscale\":[[0.0,\"#0d0887\"],[0.1111111111111111,\"#46039f\"],[0.2222222222222222,\"#7201a8\"],[0.3333333333333333,\"#9c179e\"],[0.4444444444444444,\"#bd3786\"],[0.5555555555555556,\"#d8576b\"],[0.6666666666666666,\"#ed7953\"],[0.7777777777777778,\"#fb9f3a\"],[0.8888888888888888,\"#fdca26\"],[1.0,\"#f0f921\"]]}],\"choropleth\":[{\"type\":\"choropleth\",\"colorbar\":{\"outlinewidth\":0,\"ticks\":\"\"}}],\"histogram2d\":[{\"type\":\"histogram2d\",\"colorbar\":{\"outlinewidth\":0,\"ticks\":\"\"},\"colorscale\":[[0.0,\"#0d0887\"],[0.1111111111111111,\"#46039f\"],[0.2222222222222222,\"#7201a8\"],[0.3333333333333333,\"#9c179e\"],[0.4444444444444444,\"#bd3786\"],[0.5555555555555556,\"#d8576b\"],[0.6666666666666666,\"#ed7953\"],[0.7777777777777778,\"#fb9f3a\"],[0.8888888888888888,\"#fdca26\"],[1.0,\"#f0f921\"]]}],\"heatmap\":[{\"type\":\"heatmap\",\"colorbar\":{\"outlinewidth\":0,\"ticks\":\"\"},\"colorscale\":[[0.0,\"#0d0887\"],[0.1111111111111111,\"#46039f\"],[0.2222222222222222,\"#7201a8\"],[0.3333333333333333,\"#9c179e\"],[0.4444444444444444,\"#bd3786\"],[0.5555555555555556,\"#d8576b\"],[0.6666666666666666,\"#ed7953\"],[0.7777777777777778,\"#fb9f3a\"],[0.8888888888888888,\"#fdca26\"],[1.0,\"#f0f921\"]]}],\"heatmapgl\":[{\"type\":\"heatmapgl\",\"colorbar\":{\"outlinewidth\":0,\"ticks\":\"\"},\"colorscale\":[[0.0,\"#0d0887\"],[0.1111111111111111,\"#46039f\"],[0.2222222222222222,\"#7201a8\"],[0.3333333333333333,\"#9c179e\"],[0.4444444444444444,\"#bd3786\"],[0.5555555555555556,\"#d8576b\"],[0.6666666666666666,\"#ed7953\"],[0.7777777777777778,\"#fb9f3a\"],[0.8888888888888888,\"#fdca26\"],[1.0,\"#f0f921\"]]}],\"contourcarpet\":[{\"type\":\"contourcarpet\",\"colorbar\":{\"outlinewidth\":0,\"ticks\":\"\"}}],\"contour\":[{\"type\":\"contour\",\"colorbar\":{\"outlinewidth\":0,\"ticks\":\"\"},\"colorscale\":[[0.0,\"#0d0887\"],[0.1111111111111111,\"#46039f\"],[0.2222222222222222,\"#7201a8\"],[0.3333333333333333,\"#9c179e\"],[0.4444444444444444,\"#bd3786\"],[0.5555555555555556,\"#d8576b\"],[0.6666666666666666,\"#ed7953\"],[0.7777777777777778,\"#fb9f3a\"],[0.8888888888888888,\"#fdca26\"],[1.0,\"#f0f921\"]]}],\"surface\":[{\"type\":\"surface\",\"colorbar\":{\"outlinewidth\":0,\"ticks\":\"\"},\"colorscale\":[[0.0,\"#0d0887\"],[0.1111111111111111,\"#46039f\"],[0.2222222222222222,\"#7201a8\"],[0.3333333333333333,\"#9c179e\"],[0.4444444444444444,\"#bd3786\"],[0.5555555555555556,\"#d8576b\"],[0.6666666666666666,\"#ed7953\"],[0.7777777777777778,\"#fb9f3a\"],[0.8888888888888888,\"#fdca26\"],[1.0,\"#f0f921\"]]}],\"mesh3d\":[{\"type\":\"mesh3d\",\"colorbar\":{\"outlinewidth\":0,\"ticks\":\"\"}}],\"scatter\":[{\"fillpattern\":{\"fillmode\":\"overlay\",\"size\":10,\"solidity\":0.2},\"type\":\"scatter\"}],\"parcoords\":[{\"type\":\"parcoords\",\"line\":{\"colorbar\":{\"outlinewidth\":0,\"ticks\":\"\"}}}],\"scatterpolargl\":[{\"type\":\"scatterpolargl\",\"marker\":{\"colorbar\":{\"outlinewidth\":0,\"ticks\":\"\"}}}],\"bar\":[{\"error_x\":{\"color\":\"#2a3f5f\"},\"error_y\":{\"color\":\"#2a3f5f\"},\"marker\":{\"line\":{\"color\":\"#E5ECF6\",\"width\":0.5},\"pattern\":{\"fillmode\":\"overlay\",\"size\":10,\"solidity\":0.2}},\"type\":\"bar\"}],\"scattergeo\":[{\"type\":\"scattergeo\",\"marker\":{\"colorbar\":{\"outlinewidth\":0,\"ticks\":\"\"}}}],\"scatterpolar\":[{\"type\":\"scatterpolar\",\"marker\":{\"colorbar\":{\"outlinewidth\":0,\"ticks\":\"\"}}}],\"histogram\":[{\"marker\":{\"pattern\":{\"fillmode\":\"overlay\",\"size\":10,\"solidity\":0.2}},\"type\":\"histogram\"}],\"scattergl\":[{\"type\":\"scattergl\",\"marker\":{\"colorbar\":{\"outlinewidth\":0,\"ticks\":\"\"}}}],\"scatter3d\":[{\"type\":\"scatter3d\",\"line\":{\"colorbar\":{\"outlinewidth\":0,\"ticks\":\"\"}},\"marker\":{\"colorbar\":{\"outlinewidth\":0,\"ticks\":\"\"}}}],\"scattermapbox\":[{\"type\":\"scattermapbox\",\"marker\":{\"colorbar\":{\"outlinewidth\":0,\"ticks\":\"\"}}}],\"scatterternary\":[{\"type\":\"scatterternary\",\"marker\":{\"colorbar\":{\"outlinewidth\":0,\"ticks\":\"\"}}}],\"scattercarpet\":[{\"type\":\"scattercarpet\",\"marker\":{\"colorbar\":{\"outlinewidth\":0,\"ticks\":\"\"}}}],\"carpet\":[{\"aaxis\":{\"endlinecolor\":\"#2a3f5f\",\"gridcolor\":\"white\",\"linecolor\":\"white\",\"minorgridcolor\":\"white\",\"startlinecolor\":\"#2a3f5f\"},\"baxis\":{\"endlinecolor\":\"#2a3f5f\",\"gridcolor\":\"white\",\"linecolor\":\"white\",\"minorgridcolor\":\"white\",\"startlinecolor\":\"#2a3f5f\"},\"type\":\"carpet\"}],\"table\":[{\"cells\":{\"fill\":{\"color\":\"#EBF0F8\"},\"line\":{\"color\":\"white\"}},\"header\":{\"fill\":{\"color\":\"#C8D4E3\"},\"line\":{\"color\":\"white\"}},\"type\":\"table\"}],\"barpolar\":[{\"marker\":{\"line\":{\"color\":\"#E5ECF6\",\"width\":0.5},\"pattern\":{\"fillmode\":\"overlay\",\"size\":10,\"solidity\":0.2}},\"type\":\"barpolar\"}],\"pie\":[{\"automargin\":true,\"type\":\"pie\"}]},\"layout\":{\"autotypenumbers\":\"strict\",\"colorway\":[\"#636efa\",\"#EF553B\",\"#00cc96\",\"#ab63fa\",\"#FFA15A\",\"#19d3f3\",\"#FF6692\",\"#B6E880\",\"#FF97FF\",\"#FECB52\"],\"font\":{\"color\":\"#2a3f5f\"},\"hovermode\":\"closest\",\"hoverlabel\":{\"align\":\"left\"},\"paper_bgcolor\":\"white\",\"plot_bgcolor\":\"#E5ECF6\",\"polar\":{\"bgcolor\":\"#E5ECF6\",\"angularaxis\":{\"gridcolor\":\"white\",\"linecolor\":\"white\",\"ticks\":\"\"},\"radialaxis\":{\"gridcolor\":\"white\",\"linecolor\":\"white\",\"ticks\":\"\"}},\"ternary\":{\"bgcolor\":\"#E5ECF6\",\"aaxis\":{\"gridcolor\":\"white\",\"linecolor\":\"white\",\"ticks\":\"\"},\"baxis\":{\"gridcolor\":\"white\",\"linecolor\":\"white\",\"ticks\":\"\"},\"caxis\":{\"gridcolor\":\"white\",\"linecolor\":\"white\",\"ticks\":\"\"}},\"coloraxis\":{\"colorbar\":{\"outlinewidth\":0,\"ticks\":\"\"}},\"colorscale\":{\"sequential\":[[0.0,\"#0d0887\"],[0.1111111111111111,\"#46039f\"],[0.2222222222222222,\"#7201a8\"],[0.3333333333333333,\"#9c179e\"],[0.4444444444444444,\"#bd3786\"],[0.5555555555555556,\"#d8576b\"],[0.6666666666666666,\"#ed7953\"],[0.7777777777777778,\"#fb9f3a\"],[0.8888888888888888,\"#fdca26\"],[1.0,\"#f0f921\"]],\"sequentialminus\":[[0.0,\"#0d0887\"],[0.1111111111111111,\"#46039f\"],[0.2222222222222222,\"#7201a8\"],[0.3333333333333333,\"#9c179e\"],[0.4444444444444444,\"#bd3786\"],[0.5555555555555556,\"#d8576b\"],[0.6666666666666666,\"#ed7953\"],[0.7777777777777778,\"#fb9f3a\"],[0.8888888888888888,\"#fdca26\"],[1.0,\"#f0f921\"]],\"diverging\":[[0,\"#8e0152\"],[0.1,\"#c51b7d\"],[0.2,\"#de77ae\"],[0.3,\"#f1b6da\"],[0.4,\"#fde0ef\"],[0.5,\"#f7f7f7\"],[0.6,\"#e6f5d0\"],[0.7,\"#b8e186\"],[0.8,\"#7fbc41\"],[0.9,\"#4d9221\"],[1,\"#276419\"]]},\"xaxis\":{\"gridcolor\":\"white\",\"linecolor\":\"white\",\"ticks\":\"\",\"title\":{\"standoff\":15},\"zerolinecolor\":\"white\",\"automargin\":true,\"zerolinewidth\":2},\"yaxis\":{\"gridcolor\":\"white\",\"linecolor\":\"white\",\"ticks\":\"\",\"title\":{\"standoff\":15},\"zerolinecolor\":\"white\",\"automargin\":true,\"zerolinewidth\":2},\"scene\":{\"xaxis\":{\"backgroundcolor\":\"#E5ECF6\",\"gridcolor\":\"white\",\"linecolor\":\"white\",\"showbackground\":true,\"ticks\":\"\",\"zerolinecolor\":\"white\",\"gridwidth\":2},\"yaxis\":{\"backgroundcolor\":\"#E5ECF6\",\"gridcolor\":\"white\",\"linecolor\":\"white\",\"showbackground\":true,\"ticks\":\"\",\"zerolinecolor\":\"white\",\"gridwidth\":2},\"zaxis\":{\"backgroundcolor\":\"#E5ECF6\",\"gridcolor\":\"white\",\"linecolor\":\"white\",\"showbackground\":true,\"ticks\":\"\",\"zerolinecolor\":\"white\",\"gridwidth\":2}},\"shapedefaults\":{\"line\":{\"color\":\"#2a3f5f\"}},\"annotationdefaults\":{\"arrowcolor\":\"#2a3f5f\",\"arrowhead\":0,\"arrowwidth\":1},\"geo\":{\"bgcolor\":\"white\",\"landcolor\":\"#E5ECF6\",\"subunitcolor\":\"white\",\"showland\":true,\"showlakes\":true,\"lakecolor\":\"white\"},\"title\":{\"x\":0.05},\"mapbox\":{\"style\":\"light\"}}},\"xaxis\":{\"anchor\":\"y\",\"domain\":[0.0,1.0],\"title\":{\"text\":\"Age (Years)\"}},\"yaxis\":{\"anchor\":\"x\",\"domain\":[0.0,1.0],\"title\":{\"text\":\"count\"}},\"legend\":{\"tracegroupgap\":0},\"title\":{\"text\":\"Patient Age Distribution \"},\"barmode\":\"relative\"},                        {\"responsive\": true}                    ).then(function(){\n",
              "                            \n",
              "var gd = document.getElementById('5ebadea4-ddc1-44c4-bd89-1ea8750390b9');\n",
              "var x = new MutationObserver(function (mutations, observer) {{\n",
              "        var display = window.getComputedStyle(gd).display;\n",
              "        if (!display || display === 'none') {{\n",
              "            console.log([gd, 'removed!']);\n",
              "            Plotly.purge(gd);\n",
              "            observer.disconnect();\n",
              "        }}\n",
              "}});\n",
              "\n",
              "// Listen for the removal of the full notebook cells\n",
              "var notebookContainer = gd.closest('#notebook-container');\n",
              "if (notebookContainer) {{\n",
              "    x.observe(notebookContainer, {childList: true});\n",
              "}}\n",
              "\n",
              "// Listen for the clearing of the current output cell\n",
              "var outputEl = gd.closest('.output');\n",
              "if (outputEl) {{\n",
              "    x.observe(outputEl, {childList: true});\n",
              "}}\n",
              "\n",
              "                        })                };                            </script>        </div>\n",
              "</body>\n",
              "</html>"
            ]
          },
          "metadata": {}
        }
      ]
    },
    {
      "cell_type": "markdown",
      "source": [
        "**Why choose this plot?**\n",
        "\n",
        "Histogram is ideal for understanding the continuous distribution of patient ages, revealing demographic spread, age-related health patterns, and potential data skewness that could impact risk modeling.\n",
        "\n",
        "**Insight:**\n",
        "\n",
        "The distribution shows a broad age range (0-100+ years) with notable concentrations in middle-aged adults (40-70 years) and elderly patients (60+ years), providing ideal representation for studying age-related  patterns in the synthetic healthcare dataset.\n",
        "\n",
        "--------------------------"
      ],
      "metadata": {
        "id": "BJGoVo0rHsvC"
      }
    },
    {
      "cell_type": "markdown",
      "source": [
        "## **3. Gender Distribution**"
      ],
      "metadata": {
        "id": "XaP4Aem-IFk1"
      }
    },
    {
      "cell_type": "code",
      "source": [
        "gender_counts = df_final['gender'].value_counts().reset_index()\n",
        "gender_counts.columns = ['gender', 'count']\n",
        "\n",
        "fig = px.bar(\n",
        "    gender_counts,\n",
        "    x='gender', y='count',\n",
        "    color='gender',\n",
        "    title='Gender Distribution ',\n",
        "    labels={'gender': 'Gender', 'count': 'Count'}\n",
        ")\n",
        "fig.show()\n"
      ],
      "metadata": {
        "colab": {
          "base_uri": "https://localhost:8080/",
          "height": 542
        },
        "id": "ZQ6RTrws6p0I",
        "outputId": "3b38ddee-280d-48ab-a39e-5ca67b49731f"
      },
      "execution_count": 23,
      "outputs": [
        {
          "output_type": "display_data",
          "data": {
            "text/html": [
              "<html>\n",
              "<head><meta charset=\"utf-8\" /></head>\n",
              "<body>\n",
              "    <div>            <script src=\"https://cdnjs.cloudflare.com/ajax/libs/mathjax/2.7.5/MathJax.js?config=TeX-AMS-MML_SVG\"></script><script type=\"text/javascript\">if (window.MathJax && window.MathJax.Hub && window.MathJax.Hub.Config) {window.MathJax.Hub.Config({SVG: {font: \"STIX-Web\"}});}</script>                <script type=\"text/javascript\">window.PlotlyConfig = {MathJaxConfig: 'local'};</script>\n",
              "        <script charset=\"utf-8\" src=\"https://cdn.plot.ly/plotly-2.35.2.min.js\"></script>                <div id=\"381e28ef-25b8-4b82-8d7f-401ceb0541d0\" class=\"plotly-graph-div\" style=\"height:525px; width:100%;\"></div>            <script type=\"text/javascript\">                                    window.PLOTLYENV=window.PLOTLYENV || {};                                    if (document.getElementById(\"381e28ef-25b8-4b82-8d7f-401ceb0541d0\")) {                    Plotly.newPlot(                        \"381e28ef-25b8-4b82-8d7f-401ceb0541d0\",                        [{\"alignmentgroup\":\"True\",\"hovertemplate\":\"Gender=%{marker.color}\\u003cbr\\u003eCount=%{y}\\u003cextra\\u003e\\u003c\\u002fextra\\u003e\",\"legendgroup\":\"\",\"marker\":{\"color\":[1,0],\"coloraxis\":\"coloraxis\",\"pattern\":{\"shape\":\"\"}},\"name\":\"\",\"offsetgroup\":\"\",\"orientation\":\"v\",\"showlegend\":false,\"textposition\":\"auto\",\"x\":[1,0],\"xaxis\":\"x\",\"y\":[741,721],\"yaxis\":\"y\",\"type\":\"bar\"}],                        {\"template\":{\"data\":{\"histogram2dcontour\":[{\"type\":\"histogram2dcontour\",\"colorbar\":{\"outlinewidth\":0,\"ticks\":\"\"},\"colorscale\":[[0.0,\"#0d0887\"],[0.1111111111111111,\"#46039f\"],[0.2222222222222222,\"#7201a8\"],[0.3333333333333333,\"#9c179e\"],[0.4444444444444444,\"#bd3786\"],[0.5555555555555556,\"#d8576b\"],[0.6666666666666666,\"#ed7953\"],[0.7777777777777778,\"#fb9f3a\"],[0.8888888888888888,\"#fdca26\"],[1.0,\"#f0f921\"]]}],\"choropleth\":[{\"type\":\"choropleth\",\"colorbar\":{\"outlinewidth\":0,\"ticks\":\"\"}}],\"histogram2d\":[{\"type\":\"histogram2d\",\"colorbar\":{\"outlinewidth\":0,\"ticks\":\"\"},\"colorscale\":[[0.0,\"#0d0887\"],[0.1111111111111111,\"#46039f\"],[0.2222222222222222,\"#7201a8\"],[0.3333333333333333,\"#9c179e\"],[0.4444444444444444,\"#bd3786\"],[0.5555555555555556,\"#d8576b\"],[0.6666666666666666,\"#ed7953\"],[0.7777777777777778,\"#fb9f3a\"],[0.8888888888888888,\"#fdca26\"],[1.0,\"#f0f921\"]]}],\"heatmap\":[{\"type\":\"heatmap\",\"colorbar\":{\"outlinewidth\":0,\"ticks\":\"\"},\"colorscale\":[[0.0,\"#0d0887\"],[0.1111111111111111,\"#46039f\"],[0.2222222222222222,\"#7201a8\"],[0.3333333333333333,\"#9c179e\"],[0.4444444444444444,\"#bd3786\"],[0.5555555555555556,\"#d8576b\"],[0.6666666666666666,\"#ed7953\"],[0.7777777777777778,\"#fb9f3a\"],[0.8888888888888888,\"#fdca26\"],[1.0,\"#f0f921\"]]}],\"heatmapgl\":[{\"type\":\"heatmapgl\",\"colorbar\":{\"outlinewidth\":0,\"ticks\":\"\"},\"colorscale\":[[0.0,\"#0d0887\"],[0.1111111111111111,\"#46039f\"],[0.2222222222222222,\"#7201a8\"],[0.3333333333333333,\"#9c179e\"],[0.4444444444444444,\"#bd3786\"],[0.5555555555555556,\"#d8576b\"],[0.6666666666666666,\"#ed7953\"],[0.7777777777777778,\"#fb9f3a\"],[0.8888888888888888,\"#fdca26\"],[1.0,\"#f0f921\"]]}],\"contourcarpet\":[{\"type\":\"contourcarpet\",\"colorbar\":{\"outlinewidth\":0,\"ticks\":\"\"}}],\"contour\":[{\"type\":\"contour\",\"colorbar\":{\"outlinewidth\":0,\"ticks\":\"\"},\"colorscale\":[[0.0,\"#0d0887\"],[0.1111111111111111,\"#46039f\"],[0.2222222222222222,\"#7201a8\"],[0.3333333333333333,\"#9c179e\"],[0.4444444444444444,\"#bd3786\"],[0.5555555555555556,\"#d8576b\"],[0.6666666666666666,\"#ed7953\"],[0.7777777777777778,\"#fb9f3a\"],[0.8888888888888888,\"#fdca26\"],[1.0,\"#f0f921\"]]}],\"surface\":[{\"type\":\"surface\",\"colorbar\":{\"outlinewidth\":0,\"ticks\":\"\"},\"colorscale\":[[0.0,\"#0d0887\"],[0.1111111111111111,\"#46039f\"],[0.2222222222222222,\"#7201a8\"],[0.3333333333333333,\"#9c179e\"],[0.4444444444444444,\"#bd3786\"],[0.5555555555555556,\"#d8576b\"],[0.6666666666666666,\"#ed7953\"],[0.7777777777777778,\"#fb9f3a\"],[0.8888888888888888,\"#fdca26\"],[1.0,\"#f0f921\"]]}],\"mesh3d\":[{\"type\":\"mesh3d\",\"colorbar\":{\"outlinewidth\":0,\"ticks\":\"\"}}],\"scatter\":[{\"fillpattern\":{\"fillmode\":\"overlay\",\"size\":10,\"solidity\":0.2},\"type\":\"scatter\"}],\"parcoords\":[{\"type\":\"parcoords\",\"line\":{\"colorbar\":{\"outlinewidth\":0,\"ticks\":\"\"}}}],\"scatterpolargl\":[{\"type\":\"scatterpolargl\",\"marker\":{\"colorbar\":{\"outlinewidth\":0,\"ticks\":\"\"}}}],\"bar\":[{\"error_x\":{\"color\":\"#2a3f5f\"},\"error_y\":{\"color\":\"#2a3f5f\"},\"marker\":{\"line\":{\"color\":\"#E5ECF6\",\"width\":0.5},\"pattern\":{\"fillmode\":\"overlay\",\"size\":10,\"solidity\":0.2}},\"type\":\"bar\"}],\"scattergeo\":[{\"type\":\"scattergeo\",\"marker\":{\"colorbar\":{\"outlinewidth\":0,\"ticks\":\"\"}}}],\"scatterpolar\":[{\"type\":\"scatterpolar\",\"marker\":{\"colorbar\":{\"outlinewidth\":0,\"ticks\":\"\"}}}],\"histogram\":[{\"marker\":{\"pattern\":{\"fillmode\":\"overlay\",\"size\":10,\"solidity\":0.2}},\"type\":\"histogram\"}],\"scattergl\":[{\"type\":\"scattergl\",\"marker\":{\"colorbar\":{\"outlinewidth\":0,\"ticks\":\"\"}}}],\"scatter3d\":[{\"type\":\"scatter3d\",\"line\":{\"colorbar\":{\"outlinewidth\":0,\"ticks\":\"\"}},\"marker\":{\"colorbar\":{\"outlinewidth\":0,\"ticks\":\"\"}}}],\"scattermapbox\":[{\"type\":\"scattermapbox\",\"marker\":{\"colorbar\":{\"outlinewidth\":0,\"ticks\":\"\"}}}],\"scatterternary\":[{\"type\":\"scatterternary\",\"marker\":{\"colorbar\":{\"outlinewidth\":0,\"ticks\":\"\"}}}],\"scattercarpet\":[{\"type\":\"scattercarpet\",\"marker\":{\"colorbar\":{\"outlinewidth\":0,\"ticks\":\"\"}}}],\"carpet\":[{\"aaxis\":{\"endlinecolor\":\"#2a3f5f\",\"gridcolor\":\"white\",\"linecolor\":\"white\",\"minorgridcolor\":\"white\",\"startlinecolor\":\"#2a3f5f\"},\"baxis\":{\"endlinecolor\":\"#2a3f5f\",\"gridcolor\":\"white\",\"linecolor\":\"white\",\"minorgridcolor\":\"white\",\"startlinecolor\":\"#2a3f5f\"},\"type\":\"carpet\"}],\"table\":[{\"cells\":{\"fill\":{\"color\":\"#EBF0F8\"},\"line\":{\"color\":\"white\"}},\"header\":{\"fill\":{\"color\":\"#C8D4E3\"},\"line\":{\"color\":\"white\"}},\"type\":\"table\"}],\"barpolar\":[{\"marker\":{\"line\":{\"color\":\"#E5ECF6\",\"width\":0.5},\"pattern\":{\"fillmode\":\"overlay\",\"size\":10,\"solidity\":0.2}},\"type\":\"barpolar\"}],\"pie\":[{\"automargin\":true,\"type\":\"pie\"}]},\"layout\":{\"autotypenumbers\":\"strict\",\"colorway\":[\"#636efa\",\"#EF553B\",\"#00cc96\",\"#ab63fa\",\"#FFA15A\",\"#19d3f3\",\"#FF6692\",\"#B6E880\",\"#FF97FF\",\"#FECB52\"],\"font\":{\"color\":\"#2a3f5f\"},\"hovermode\":\"closest\",\"hoverlabel\":{\"align\":\"left\"},\"paper_bgcolor\":\"white\",\"plot_bgcolor\":\"#E5ECF6\",\"polar\":{\"bgcolor\":\"#E5ECF6\",\"angularaxis\":{\"gridcolor\":\"white\",\"linecolor\":\"white\",\"ticks\":\"\"},\"radialaxis\":{\"gridcolor\":\"white\",\"linecolor\":\"white\",\"ticks\":\"\"}},\"ternary\":{\"bgcolor\":\"#E5ECF6\",\"aaxis\":{\"gridcolor\":\"white\",\"linecolor\":\"white\",\"ticks\":\"\"},\"baxis\":{\"gridcolor\":\"white\",\"linecolor\":\"white\",\"ticks\":\"\"},\"caxis\":{\"gridcolor\":\"white\",\"linecolor\":\"white\",\"ticks\":\"\"}},\"coloraxis\":{\"colorbar\":{\"outlinewidth\":0,\"ticks\":\"\"}},\"colorscale\":{\"sequential\":[[0.0,\"#0d0887\"],[0.1111111111111111,\"#46039f\"],[0.2222222222222222,\"#7201a8\"],[0.3333333333333333,\"#9c179e\"],[0.4444444444444444,\"#bd3786\"],[0.5555555555555556,\"#d8576b\"],[0.6666666666666666,\"#ed7953\"],[0.7777777777777778,\"#fb9f3a\"],[0.8888888888888888,\"#fdca26\"],[1.0,\"#f0f921\"]],\"sequentialminus\":[[0.0,\"#0d0887\"],[0.1111111111111111,\"#46039f\"],[0.2222222222222222,\"#7201a8\"],[0.3333333333333333,\"#9c179e\"],[0.4444444444444444,\"#bd3786\"],[0.5555555555555556,\"#d8576b\"],[0.6666666666666666,\"#ed7953\"],[0.7777777777777778,\"#fb9f3a\"],[0.8888888888888888,\"#fdca26\"],[1.0,\"#f0f921\"]],\"diverging\":[[0,\"#8e0152\"],[0.1,\"#c51b7d\"],[0.2,\"#de77ae\"],[0.3,\"#f1b6da\"],[0.4,\"#fde0ef\"],[0.5,\"#f7f7f7\"],[0.6,\"#e6f5d0\"],[0.7,\"#b8e186\"],[0.8,\"#7fbc41\"],[0.9,\"#4d9221\"],[1,\"#276419\"]]},\"xaxis\":{\"gridcolor\":\"white\",\"linecolor\":\"white\",\"ticks\":\"\",\"title\":{\"standoff\":15},\"zerolinecolor\":\"white\",\"automargin\":true,\"zerolinewidth\":2},\"yaxis\":{\"gridcolor\":\"white\",\"linecolor\":\"white\",\"ticks\":\"\",\"title\":{\"standoff\":15},\"zerolinecolor\":\"white\",\"automargin\":true,\"zerolinewidth\":2},\"scene\":{\"xaxis\":{\"backgroundcolor\":\"#E5ECF6\",\"gridcolor\":\"white\",\"linecolor\":\"white\",\"showbackground\":true,\"ticks\":\"\",\"zerolinecolor\":\"white\",\"gridwidth\":2},\"yaxis\":{\"backgroundcolor\":\"#E5ECF6\",\"gridcolor\":\"white\",\"linecolor\":\"white\",\"showbackground\":true,\"ticks\":\"\",\"zerolinecolor\":\"white\",\"gridwidth\":2},\"zaxis\":{\"backgroundcolor\":\"#E5ECF6\",\"gridcolor\":\"white\",\"linecolor\":\"white\",\"showbackground\":true,\"ticks\":\"\",\"zerolinecolor\":\"white\",\"gridwidth\":2}},\"shapedefaults\":{\"line\":{\"color\":\"#2a3f5f\"}},\"annotationdefaults\":{\"arrowcolor\":\"#2a3f5f\",\"arrowhead\":0,\"arrowwidth\":1},\"geo\":{\"bgcolor\":\"white\",\"landcolor\":\"#E5ECF6\",\"subunitcolor\":\"white\",\"showland\":true,\"showlakes\":true,\"lakecolor\":\"white\"},\"title\":{\"x\":0.05},\"mapbox\":{\"style\":\"light\"}}},\"xaxis\":{\"anchor\":\"y\",\"domain\":[0.0,1.0],\"title\":{\"text\":\"Gender\"}},\"yaxis\":{\"anchor\":\"x\",\"domain\":[0.0,1.0],\"title\":{\"text\":\"Count\"}},\"coloraxis\":{\"colorbar\":{\"title\":{\"text\":\"Gender\"}},\"colorscale\":[[0.0,\"#0d0887\"],[0.1111111111111111,\"#46039f\"],[0.2222222222222222,\"#7201a8\"],[0.3333333333333333,\"#9c179e\"],[0.4444444444444444,\"#bd3786\"],[0.5555555555555556,\"#d8576b\"],[0.6666666666666666,\"#ed7953\"],[0.7777777777777778,\"#fb9f3a\"],[0.8888888888888888,\"#fdca26\"],[1.0,\"#f0f921\"]]},\"legend\":{\"tracegroupgap\":0},\"title\":{\"text\":\"Gender Distribution \"},\"barmode\":\"relative\"},                        {\"responsive\": true}                    ).then(function(){\n",
              "                            \n",
              "var gd = document.getElementById('381e28ef-25b8-4b82-8d7f-401ceb0541d0');\n",
              "var x = new MutationObserver(function (mutations, observer) {{\n",
              "        var display = window.getComputedStyle(gd).display;\n",
              "        if (!display || display === 'none') {{\n",
              "            console.log([gd, 'removed!']);\n",
              "            Plotly.purge(gd);\n",
              "            observer.disconnect();\n",
              "        }}\n",
              "}});\n",
              "\n",
              "// Listen for the removal of the full notebook cells\n",
              "var notebookContainer = gd.closest('#notebook-container');\n",
              "if (notebookContainer) {{\n",
              "    x.observe(notebookContainer, {childList: true});\n",
              "}}\n",
              "\n",
              "// Listen for the clearing of the current output cell\n",
              "var outputEl = gd.closest('.output');\n",
              "if (outputEl) {{\n",
              "    x.observe(outputEl, {childList: true});\n",
              "}}\n",
              "\n",
              "                        })                };                            </script>        </div>\n",
              "</body>\n",
              "</html>"
            ]
          },
          "metadata": {}
        }
      ]
    },
    {
      "cell_type": "markdown",
      "source": [
        "**Why choose this plot?**\n",
        "\n",
        "Bar chart is ideal for visualizing categorical distribution of gender, revealing demographic balance and identifying potential gender bias that could affect prediction model performance.\n",
        "\n",
        "**Insight:**\n",
        "\n",
        "Shows balanced gender representation with approximately equal counts between males (0) and females (1), ensuring fair representation for gender-based health pattern analysis and reducing potential model bias in multimorbidity predictions."
      ],
      "metadata": {
        "id": "7gn4WKMeJGYk"
      }
    },
    {
      "cell_type": "markdown",
      "source": [
        "--------------------------------------\n",
        "\n",
        "## **4. Race Distribution**"
      ],
      "metadata": {
        "id": "nW2y4mtwJLhH"
      }
    },
    {
      "cell_type": "code",
      "source": [
        "# 3. Race distribution\n",
        "px.bar(df_plot['race'].value_counts().reset_index(name=\"count\"),\n",
        "       x=\"race\", y=\"count\",\n",
        "       color='race',\n",
        "       title=\"Race Distribution\")\n",
        "\n"
      ],
      "metadata": {
        "colab": {
          "base_uri": "https://localhost:8080/",
          "height": 542
        },
        "id": "NLblMpXC6pwm",
        "outputId": "d4c1f51a-56ad-454e-b1e1-bda0e4e1a632"
      },
      "execution_count": 24,
      "outputs": [
        {
          "output_type": "display_data",
          "data": {
            "text/html": [
              "<html>\n",
              "<head><meta charset=\"utf-8\" /></head>\n",
              "<body>\n",
              "    <div>            <script src=\"https://cdnjs.cloudflare.com/ajax/libs/mathjax/2.7.5/MathJax.js?config=TeX-AMS-MML_SVG\"></script><script type=\"text/javascript\">if (window.MathJax && window.MathJax.Hub && window.MathJax.Hub.Config) {window.MathJax.Hub.Config({SVG: {font: \"STIX-Web\"}});}</script>                <script type=\"text/javascript\">window.PlotlyConfig = {MathJaxConfig: 'local'};</script>\n",
              "        <script charset=\"utf-8\" src=\"https://cdn.plot.ly/plotly-2.35.2.min.js\"></script>                <div id=\"de1d550a-f032-420b-97fc-b58cbf4bcc47\" class=\"plotly-graph-div\" style=\"height:525px; width:100%;\"></div>            <script type=\"text/javascript\">                                    window.PLOTLYENV=window.PLOTLYENV || {};                                    if (document.getElementById(\"de1d550a-f032-420b-97fc-b58cbf4bcc47\")) {                    Plotly.newPlot(                        \"de1d550a-f032-420b-97fc-b58cbf4bcc47\",                        [{\"alignmentgroup\":\"True\",\"hovertemplate\":\"race=%{marker.color}\\u003cbr\\u003ecount=%{y}\\u003cextra\\u003e\\u003c\\u002fextra\\u003e\",\"legendgroup\":\"\",\"marker\":{\"color\":[3.0,2.0,1.0,0.5],\"coloraxis\":\"coloraxis\",\"pattern\":{\"shape\":\"\"}},\"name\":\"\",\"offsetgroup\":\"\",\"orientation\":\"v\",\"showlegend\":false,\"textposition\":\"auto\",\"x\":[3.0,2.0,1.0,0.5],\"xaxis\":\"x\",\"y\":[1085,155,129,93],\"yaxis\":\"y\",\"type\":\"bar\"}],                        {\"template\":{\"data\":{\"histogram2dcontour\":[{\"type\":\"histogram2dcontour\",\"colorbar\":{\"outlinewidth\":0,\"ticks\":\"\"},\"colorscale\":[[0.0,\"#0d0887\"],[0.1111111111111111,\"#46039f\"],[0.2222222222222222,\"#7201a8\"],[0.3333333333333333,\"#9c179e\"],[0.4444444444444444,\"#bd3786\"],[0.5555555555555556,\"#d8576b\"],[0.6666666666666666,\"#ed7953\"],[0.7777777777777778,\"#fb9f3a\"],[0.8888888888888888,\"#fdca26\"],[1.0,\"#f0f921\"]]}],\"choropleth\":[{\"type\":\"choropleth\",\"colorbar\":{\"outlinewidth\":0,\"ticks\":\"\"}}],\"histogram2d\":[{\"type\":\"histogram2d\",\"colorbar\":{\"outlinewidth\":0,\"ticks\":\"\"},\"colorscale\":[[0.0,\"#0d0887\"],[0.1111111111111111,\"#46039f\"],[0.2222222222222222,\"#7201a8\"],[0.3333333333333333,\"#9c179e\"],[0.4444444444444444,\"#bd3786\"],[0.5555555555555556,\"#d8576b\"],[0.6666666666666666,\"#ed7953\"],[0.7777777777777778,\"#fb9f3a\"],[0.8888888888888888,\"#fdca26\"],[1.0,\"#f0f921\"]]}],\"heatmap\":[{\"type\":\"heatmap\",\"colorbar\":{\"outlinewidth\":0,\"ticks\":\"\"},\"colorscale\":[[0.0,\"#0d0887\"],[0.1111111111111111,\"#46039f\"],[0.2222222222222222,\"#7201a8\"],[0.3333333333333333,\"#9c179e\"],[0.4444444444444444,\"#bd3786\"],[0.5555555555555556,\"#d8576b\"],[0.6666666666666666,\"#ed7953\"],[0.7777777777777778,\"#fb9f3a\"],[0.8888888888888888,\"#fdca26\"],[1.0,\"#f0f921\"]]}],\"heatmapgl\":[{\"type\":\"heatmapgl\",\"colorbar\":{\"outlinewidth\":0,\"ticks\":\"\"},\"colorscale\":[[0.0,\"#0d0887\"],[0.1111111111111111,\"#46039f\"],[0.2222222222222222,\"#7201a8\"],[0.3333333333333333,\"#9c179e\"],[0.4444444444444444,\"#bd3786\"],[0.5555555555555556,\"#d8576b\"],[0.6666666666666666,\"#ed7953\"],[0.7777777777777778,\"#fb9f3a\"],[0.8888888888888888,\"#fdca26\"],[1.0,\"#f0f921\"]]}],\"contourcarpet\":[{\"type\":\"contourcarpet\",\"colorbar\":{\"outlinewidth\":0,\"ticks\":\"\"}}],\"contour\":[{\"type\":\"contour\",\"colorbar\":{\"outlinewidth\":0,\"ticks\":\"\"},\"colorscale\":[[0.0,\"#0d0887\"],[0.1111111111111111,\"#46039f\"],[0.2222222222222222,\"#7201a8\"],[0.3333333333333333,\"#9c179e\"],[0.4444444444444444,\"#bd3786\"],[0.5555555555555556,\"#d8576b\"],[0.6666666666666666,\"#ed7953\"],[0.7777777777777778,\"#fb9f3a\"],[0.8888888888888888,\"#fdca26\"],[1.0,\"#f0f921\"]]}],\"surface\":[{\"type\":\"surface\",\"colorbar\":{\"outlinewidth\":0,\"ticks\":\"\"},\"colorscale\":[[0.0,\"#0d0887\"],[0.1111111111111111,\"#46039f\"],[0.2222222222222222,\"#7201a8\"],[0.3333333333333333,\"#9c179e\"],[0.4444444444444444,\"#bd3786\"],[0.5555555555555556,\"#d8576b\"],[0.6666666666666666,\"#ed7953\"],[0.7777777777777778,\"#fb9f3a\"],[0.8888888888888888,\"#fdca26\"],[1.0,\"#f0f921\"]]}],\"mesh3d\":[{\"type\":\"mesh3d\",\"colorbar\":{\"outlinewidth\":0,\"ticks\":\"\"}}],\"scatter\":[{\"fillpattern\":{\"fillmode\":\"overlay\",\"size\":10,\"solidity\":0.2},\"type\":\"scatter\"}],\"parcoords\":[{\"type\":\"parcoords\",\"line\":{\"colorbar\":{\"outlinewidth\":0,\"ticks\":\"\"}}}],\"scatterpolargl\":[{\"type\":\"scatterpolargl\",\"marker\":{\"colorbar\":{\"outlinewidth\":0,\"ticks\":\"\"}}}],\"bar\":[{\"error_x\":{\"color\":\"#2a3f5f\"},\"error_y\":{\"color\":\"#2a3f5f\"},\"marker\":{\"line\":{\"color\":\"#E5ECF6\",\"width\":0.5},\"pattern\":{\"fillmode\":\"overlay\",\"size\":10,\"solidity\":0.2}},\"type\":\"bar\"}],\"scattergeo\":[{\"type\":\"scattergeo\",\"marker\":{\"colorbar\":{\"outlinewidth\":0,\"ticks\":\"\"}}}],\"scatterpolar\":[{\"type\":\"scatterpolar\",\"marker\":{\"colorbar\":{\"outlinewidth\":0,\"ticks\":\"\"}}}],\"histogram\":[{\"marker\":{\"pattern\":{\"fillmode\":\"overlay\",\"size\":10,\"solidity\":0.2}},\"type\":\"histogram\"}],\"scattergl\":[{\"type\":\"scattergl\",\"marker\":{\"colorbar\":{\"outlinewidth\":0,\"ticks\":\"\"}}}],\"scatter3d\":[{\"type\":\"scatter3d\",\"line\":{\"colorbar\":{\"outlinewidth\":0,\"ticks\":\"\"}},\"marker\":{\"colorbar\":{\"outlinewidth\":0,\"ticks\":\"\"}}}],\"scattermapbox\":[{\"type\":\"scattermapbox\",\"marker\":{\"colorbar\":{\"outlinewidth\":0,\"ticks\":\"\"}}}],\"scatterternary\":[{\"type\":\"scatterternary\",\"marker\":{\"colorbar\":{\"outlinewidth\":0,\"ticks\":\"\"}}}],\"scattercarpet\":[{\"type\":\"scattercarpet\",\"marker\":{\"colorbar\":{\"outlinewidth\":0,\"ticks\":\"\"}}}],\"carpet\":[{\"aaxis\":{\"endlinecolor\":\"#2a3f5f\",\"gridcolor\":\"white\",\"linecolor\":\"white\",\"minorgridcolor\":\"white\",\"startlinecolor\":\"#2a3f5f\"},\"baxis\":{\"endlinecolor\":\"#2a3f5f\",\"gridcolor\":\"white\",\"linecolor\":\"white\",\"minorgridcolor\":\"white\",\"startlinecolor\":\"#2a3f5f\"},\"type\":\"carpet\"}],\"table\":[{\"cells\":{\"fill\":{\"color\":\"#EBF0F8\"},\"line\":{\"color\":\"white\"}},\"header\":{\"fill\":{\"color\":\"#C8D4E3\"},\"line\":{\"color\":\"white\"}},\"type\":\"table\"}],\"barpolar\":[{\"marker\":{\"line\":{\"color\":\"#E5ECF6\",\"width\":0.5},\"pattern\":{\"fillmode\":\"overlay\",\"size\":10,\"solidity\":0.2}},\"type\":\"barpolar\"}],\"pie\":[{\"automargin\":true,\"type\":\"pie\"}]},\"layout\":{\"autotypenumbers\":\"strict\",\"colorway\":[\"#636efa\",\"#EF553B\",\"#00cc96\",\"#ab63fa\",\"#FFA15A\",\"#19d3f3\",\"#FF6692\",\"#B6E880\",\"#FF97FF\",\"#FECB52\"],\"font\":{\"color\":\"#2a3f5f\"},\"hovermode\":\"closest\",\"hoverlabel\":{\"align\":\"left\"},\"paper_bgcolor\":\"white\",\"plot_bgcolor\":\"#E5ECF6\",\"polar\":{\"bgcolor\":\"#E5ECF6\",\"angularaxis\":{\"gridcolor\":\"white\",\"linecolor\":\"white\",\"ticks\":\"\"},\"radialaxis\":{\"gridcolor\":\"white\",\"linecolor\":\"white\",\"ticks\":\"\"}},\"ternary\":{\"bgcolor\":\"#E5ECF6\",\"aaxis\":{\"gridcolor\":\"white\",\"linecolor\":\"white\",\"ticks\":\"\"},\"baxis\":{\"gridcolor\":\"white\",\"linecolor\":\"white\",\"ticks\":\"\"},\"caxis\":{\"gridcolor\":\"white\",\"linecolor\":\"white\",\"ticks\":\"\"}},\"coloraxis\":{\"colorbar\":{\"outlinewidth\":0,\"ticks\":\"\"}},\"colorscale\":{\"sequential\":[[0.0,\"#0d0887\"],[0.1111111111111111,\"#46039f\"],[0.2222222222222222,\"#7201a8\"],[0.3333333333333333,\"#9c179e\"],[0.4444444444444444,\"#bd3786\"],[0.5555555555555556,\"#d8576b\"],[0.6666666666666666,\"#ed7953\"],[0.7777777777777778,\"#fb9f3a\"],[0.8888888888888888,\"#fdca26\"],[1.0,\"#f0f921\"]],\"sequentialminus\":[[0.0,\"#0d0887\"],[0.1111111111111111,\"#46039f\"],[0.2222222222222222,\"#7201a8\"],[0.3333333333333333,\"#9c179e\"],[0.4444444444444444,\"#bd3786\"],[0.5555555555555556,\"#d8576b\"],[0.6666666666666666,\"#ed7953\"],[0.7777777777777778,\"#fb9f3a\"],[0.8888888888888888,\"#fdca26\"],[1.0,\"#f0f921\"]],\"diverging\":[[0,\"#8e0152\"],[0.1,\"#c51b7d\"],[0.2,\"#de77ae\"],[0.3,\"#f1b6da\"],[0.4,\"#fde0ef\"],[0.5,\"#f7f7f7\"],[0.6,\"#e6f5d0\"],[0.7,\"#b8e186\"],[0.8,\"#7fbc41\"],[0.9,\"#4d9221\"],[1,\"#276419\"]]},\"xaxis\":{\"gridcolor\":\"white\",\"linecolor\":\"white\",\"ticks\":\"\",\"title\":{\"standoff\":15},\"zerolinecolor\":\"white\",\"automargin\":true,\"zerolinewidth\":2},\"yaxis\":{\"gridcolor\":\"white\",\"linecolor\":\"white\",\"ticks\":\"\",\"title\":{\"standoff\":15},\"zerolinecolor\":\"white\",\"automargin\":true,\"zerolinewidth\":2},\"scene\":{\"xaxis\":{\"backgroundcolor\":\"#E5ECF6\",\"gridcolor\":\"white\",\"linecolor\":\"white\",\"showbackground\":true,\"ticks\":\"\",\"zerolinecolor\":\"white\",\"gridwidth\":2},\"yaxis\":{\"backgroundcolor\":\"#E5ECF6\",\"gridcolor\":\"white\",\"linecolor\":\"white\",\"showbackground\":true,\"ticks\":\"\",\"zerolinecolor\":\"white\",\"gridwidth\":2},\"zaxis\":{\"backgroundcolor\":\"#E5ECF6\",\"gridcolor\":\"white\",\"linecolor\":\"white\",\"showbackground\":true,\"ticks\":\"\",\"zerolinecolor\":\"white\",\"gridwidth\":2}},\"shapedefaults\":{\"line\":{\"color\":\"#2a3f5f\"}},\"annotationdefaults\":{\"arrowcolor\":\"#2a3f5f\",\"arrowhead\":0,\"arrowwidth\":1},\"geo\":{\"bgcolor\":\"white\",\"landcolor\":\"#E5ECF6\",\"subunitcolor\":\"white\",\"showland\":true,\"showlakes\":true,\"lakecolor\":\"white\"},\"title\":{\"x\":0.05},\"mapbox\":{\"style\":\"light\"}}},\"xaxis\":{\"anchor\":\"y\",\"domain\":[0.0,1.0],\"title\":{\"text\":\"race\"}},\"yaxis\":{\"anchor\":\"x\",\"domain\":[0.0,1.0],\"title\":{\"text\":\"count\"}},\"coloraxis\":{\"colorbar\":{\"title\":{\"text\":\"race\"}},\"colorscale\":[[0.0,\"#0d0887\"],[0.1111111111111111,\"#46039f\"],[0.2222222222222222,\"#7201a8\"],[0.3333333333333333,\"#9c179e\"],[0.4444444444444444,\"#bd3786\"],[0.5555555555555556,\"#d8576b\"],[0.6666666666666666,\"#ed7953\"],[0.7777777777777778,\"#fb9f3a\"],[0.8888888888888888,\"#fdca26\"],[1.0,\"#f0f921\"]]},\"legend\":{\"tracegroupgap\":0},\"title\":{\"text\":\"Race Distribution\"},\"barmode\":\"relative\"},                        {\"responsive\": true}                    ).then(function(){\n",
              "                            \n",
              "var gd = document.getElementById('de1d550a-f032-420b-97fc-b58cbf4bcc47');\n",
              "var x = new MutationObserver(function (mutations, observer) {{\n",
              "        var display = window.getComputedStyle(gd).display;\n",
              "        if (!display || display === 'none') {{\n",
              "            console.log([gd, 'removed!']);\n",
              "            Plotly.purge(gd);\n",
              "            observer.disconnect();\n",
              "        }}\n",
              "}});\n",
              "\n",
              "// Listen for the removal of the full notebook cells\n",
              "var notebookContainer = gd.closest('#notebook-container');\n",
              "if (notebookContainer) {{\n",
              "    x.observe(notebookContainer, {childList: true});\n",
              "}}\n",
              "\n",
              "// Listen for the clearing of the current output cell\n",
              "var outputEl = gd.closest('.output');\n",
              "if (outputEl) {{\n",
              "    x.observe(outputEl, {childList: true});\n",
              "}}\n",
              "\n",
              "                        })                };                            </script>        </div>\n",
              "</body>\n",
              "</html>"
            ]
          },
          "metadata": {}
        }
      ]
    },
    {
      "cell_type": "markdown",
      "source": [
        "**Why choose this plot?**\n",
        "\n",
        "Bar chart clearly displays the categorical distribution of race, highlighting any demographic imbalances that could influence model fairness.\n",
        "\n",
        "**Insight:**\n",
        "\n",
        "One race category dominates the dataset while others are sparsely represented, indicating potential bias and the need for careful handling or synthetic augmentation to ensure equitable  predictions.\n",
        "\n",
        "------------------------------"
      ],
      "metadata": {
        "id": "SvwXXfejKqOL"
      }
    },
    {
      "cell_type": "markdown",
      "source": [
        "## **5. Ethnicity vs Gender**"
      ],
      "metadata": {
        "id": "VnpcvVOjK51j"
      }
    },
    {
      "cell_type": "code",
      "source": [
        "\n",
        "\n",
        "px.sunburst(df_plot, path=['ethnicity','gender'], values='num_conditions', title=\"Ethnicity & Gender Breakdown\")\n",
        "\n"
      ],
      "metadata": {
        "colab": {
          "base_uri": "https://localhost:8080/",
          "height": 542
        },
        "id": "3Ay0auJ16psT",
        "outputId": "2d138b07-fcd4-40f3-9e31-bd9de2b9e798"
      },
      "execution_count": 25,
      "outputs": [
        {
          "output_type": "display_data",
          "data": {
            "text/html": [
              "<html>\n",
              "<head><meta charset=\"utf-8\" /></head>\n",
              "<body>\n",
              "    <div>            <script src=\"https://cdnjs.cloudflare.com/ajax/libs/mathjax/2.7.5/MathJax.js?config=TeX-AMS-MML_SVG\"></script><script type=\"text/javascript\">if (window.MathJax && window.MathJax.Hub && window.MathJax.Hub.Config) {window.MathJax.Hub.Config({SVG: {font: \"STIX-Web\"}});}</script>                <script type=\"text/javascript\">window.PlotlyConfig = {MathJaxConfig: 'local'};</script>\n",
              "        <script charset=\"utf-8\" src=\"https://cdn.plot.ly/plotly-2.35.2.min.js\"></script>                <div id=\"13244634-be36-4482-8491-3d61508e1114\" class=\"plotly-graph-div\" style=\"height:525px; width:100%;\"></div>            <script type=\"text/javascript\">                                    window.PLOTLYENV=window.PLOTLYENV || {};                                    if (document.getElementById(\"13244634-be36-4482-8491-3d61508e1114\")) {                    Plotly.newPlot(                        \"13244634-be36-4482-8491-3d61508e1114\",                        [{\"branchvalues\":\"total\",\"domain\":{\"x\":[0.0,1.0],\"y\":[0.0,1.0]},\"hovertemplate\":\"labels=%{label}\\u003cbr\\u003enum_conditions=%{value}\\u003cbr\\u003eparent=%{parent}\\u003cbr\\u003eid=%{id}\\u003cextra\\u003e\\u003c\\u002fextra\\u003e\",\"ids\":[\"0.0\\u002f0.0\",\"1.0\\u002f0.0\",\"2.0\\u002f0.0\",\"3.0\\u002f0.0\",\"4.0\\u002f0.0\",\"5.0\\u002f0.0\",\"6.0\\u002f0.0\",\"7.0\\u002f0.0\",\"8.0\\u002f0.0\",\"9.0\\u002f0.0\",\"10.0\\u002f0.0\",\"11.0\\u002f0.0\",\"12.0\\u002f0.0\",\"13.0\\u002f0.0\",\"14.0\\u002f0.0\",\"15.0\\u002f0.0\",\"16.0\\u002f0.0\",\"17.0\\u002f0.0\",\"18.0\\u002f0.0\",\"18.5\\u002f0.0\",\"0.0\\u002f1.0\",\"1.0\\u002f1.0\",\"2.0\\u002f1.0\",\"3.0\\u002f1.0\",\"4.0\\u002f1.0\",\"5.0\\u002f1.0\",\"6.0\\u002f1.0\",\"7.0\\u002f1.0\",\"8.0\\u002f1.0\",\"9.0\\u002f1.0\",\"10.0\\u002f1.0\",\"11.0\\u002f1.0\",\"12.0\\u002f1.0\",\"13.0\\u002f1.0\",\"14.0\\u002f1.0\",\"15.0\\u002f1.0\",\"16.0\\u002f1.0\",\"17.0\\u002f1.0\",\"18.0\\u002f1.0\",\"18.5\\u002f1.0\",\"0.0\",\"1.0\",\"2.0\",\"3.0\",\"4.0\",\"5.0\",\"6.0\",\"7.0\",\"8.0\",\"9.0\",\"10.0\",\"11.0\",\"12.0\",\"13.0\",\"14.0\",\"15.0\",\"16.0\",\"17.0\",\"18.0\",\"18.5\"],\"labels\":[\"0.0\",\"0.0\",\"0.0\",\"0.0\",\"0.0\",\"0.0\",\"0.0\",\"0.0\",\"0.0\",\"0.0\",\"0.0\",\"0.0\",\"0.0\",\"0.0\",\"0.0\",\"0.0\",\"0.0\",\"0.0\",\"0.0\",\"0.0\",\"1.0\",\"1.0\",\"1.0\",\"1.0\",\"1.0\",\"1.0\",\"1.0\",\"1.0\",\"1.0\",\"1.0\",\"1.0\",\"1.0\",\"1.0\",\"1.0\",\"1.0\",\"1.0\",\"1.0\",\"1.0\",\"1.0\",\"1.0\",\"0.0\",\"1.0\",\"2.0\",\"3.0\",\"4.0\",\"5.0\",\"6.0\",\"7.0\",\"8.0\",\"9.0\",\"10.0\",\"11.0\",\"12.0\",\"13.0\",\"14.0\",\"15.0\",\"16.0\",\"17.0\",\"18.0\",\"18.5\"],\"name\":\"\",\"parents\":[\"0.0\",\"1.0\",\"2.0\",\"3.0\",\"4.0\",\"5.0\",\"6.0\",\"7.0\",\"8.0\",\"9.0\",\"10.0\",\"11.0\",\"12.0\",\"13.0\",\"14.0\",\"15.0\",\"16.0\",\"17.0\",\"18.0\",\"18.5\",\"0.0\",\"1.0\",\"2.0\",\"3.0\",\"4.0\",\"5.0\",\"6.0\",\"7.0\",\"8.0\",\"9.0\",\"10.0\",\"11.0\",\"12.0\",\"13.0\",\"14.0\",\"15.0\",\"16.0\",\"17.0\",\"18.0\",\"18.5\",\"\",\"\",\"\",\"\",\"\",\"\",\"\",\"\",\"\",\"\",\"\",\"\",\"\",\"\",\"\",\"\",\"\",\"\",\"\",\"\"],\"values\":[176.0,112.0,127.0,87.0,188.0,164.0,358.0,198.0,147.0,176.0,740.0,385.0,59.0,160.0,122.0,280.0,61.0,55.0,48.0,66.0,107.0,122.0,52.0,26.0,113.0,104.0,317.0,169.0,92.0,209.0,683.0,406.0,34.0,183.0,110.0,285.0,85.0,73.0,60.0,51.0,283.0,234.0,179.0,113.0,301.0,268.0,675.0,367.0,239.0,385.0,1423.0,791.0,93.0,343.0,232.0,565.0,146.0,128.0,108.0,117.0],\"type\":\"sunburst\"}],                        {\"template\":{\"data\":{\"histogram2dcontour\":[{\"type\":\"histogram2dcontour\",\"colorbar\":{\"outlinewidth\":0,\"ticks\":\"\"},\"colorscale\":[[0.0,\"#0d0887\"],[0.1111111111111111,\"#46039f\"],[0.2222222222222222,\"#7201a8\"],[0.3333333333333333,\"#9c179e\"],[0.4444444444444444,\"#bd3786\"],[0.5555555555555556,\"#d8576b\"],[0.6666666666666666,\"#ed7953\"],[0.7777777777777778,\"#fb9f3a\"],[0.8888888888888888,\"#fdca26\"],[1.0,\"#f0f921\"]]}],\"choropleth\":[{\"type\":\"choropleth\",\"colorbar\":{\"outlinewidth\":0,\"ticks\":\"\"}}],\"histogram2d\":[{\"type\":\"histogram2d\",\"colorbar\":{\"outlinewidth\":0,\"ticks\":\"\"},\"colorscale\":[[0.0,\"#0d0887\"],[0.1111111111111111,\"#46039f\"],[0.2222222222222222,\"#7201a8\"],[0.3333333333333333,\"#9c179e\"],[0.4444444444444444,\"#bd3786\"],[0.5555555555555556,\"#d8576b\"],[0.6666666666666666,\"#ed7953\"],[0.7777777777777778,\"#fb9f3a\"],[0.8888888888888888,\"#fdca26\"],[1.0,\"#f0f921\"]]}],\"heatmap\":[{\"type\":\"heatmap\",\"colorbar\":{\"outlinewidth\":0,\"ticks\":\"\"},\"colorscale\":[[0.0,\"#0d0887\"],[0.1111111111111111,\"#46039f\"],[0.2222222222222222,\"#7201a8\"],[0.3333333333333333,\"#9c179e\"],[0.4444444444444444,\"#bd3786\"],[0.5555555555555556,\"#d8576b\"],[0.6666666666666666,\"#ed7953\"],[0.7777777777777778,\"#fb9f3a\"],[0.8888888888888888,\"#fdca26\"],[1.0,\"#f0f921\"]]}],\"heatmapgl\":[{\"type\":\"heatmapgl\",\"colorbar\":{\"outlinewidth\":0,\"ticks\":\"\"},\"colorscale\":[[0.0,\"#0d0887\"],[0.1111111111111111,\"#46039f\"],[0.2222222222222222,\"#7201a8\"],[0.3333333333333333,\"#9c179e\"],[0.4444444444444444,\"#bd3786\"],[0.5555555555555556,\"#d8576b\"],[0.6666666666666666,\"#ed7953\"],[0.7777777777777778,\"#fb9f3a\"],[0.8888888888888888,\"#fdca26\"],[1.0,\"#f0f921\"]]}],\"contourcarpet\":[{\"type\":\"contourcarpet\",\"colorbar\":{\"outlinewidth\":0,\"ticks\":\"\"}}],\"contour\":[{\"type\":\"contour\",\"colorbar\":{\"outlinewidth\":0,\"ticks\":\"\"},\"colorscale\":[[0.0,\"#0d0887\"],[0.1111111111111111,\"#46039f\"],[0.2222222222222222,\"#7201a8\"],[0.3333333333333333,\"#9c179e\"],[0.4444444444444444,\"#bd3786\"],[0.5555555555555556,\"#d8576b\"],[0.6666666666666666,\"#ed7953\"],[0.7777777777777778,\"#fb9f3a\"],[0.8888888888888888,\"#fdca26\"],[1.0,\"#f0f921\"]]}],\"surface\":[{\"type\":\"surface\",\"colorbar\":{\"outlinewidth\":0,\"ticks\":\"\"},\"colorscale\":[[0.0,\"#0d0887\"],[0.1111111111111111,\"#46039f\"],[0.2222222222222222,\"#7201a8\"],[0.3333333333333333,\"#9c179e\"],[0.4444444444444444,\"#bd3786\"],[0.5555555555555556,\"#d8576b\"],[0.6666666666666666,\"#ed7953\"],[0.7777777777777778,\"#fb9f3a\"],[0.8888888888888888,\"#fdca26\"],[1.0,\"#f0f921\"]]}],\"mesh3d\":[{\"type\":\"mesh3d\",\"colorbar\":{\"outlinewidth\":0,\"ticks\":\"\"}}],\"scatter\":[{\"fillpattern\":{\"fillmode\":\"overlay\",\"size\":10,\"solidity\":0.2},\"type\":\"scatter\"}],\"parcoords\":[{\"type\":\"parcoords\",\"line\":{\"colorbar\":{\"outlinewidth\":0,\"ticks\":\"\"}}}],\"scatterpolargl\":[{\"type\":\"scatterpolargl\",\"marker\":{\"colorbar\":{\"outlinewidth\":0,\"ticks\":\"\"}}}],\"bar\":[{\"error_x\":{\"color\":\"#2a3f5f\"},\"error_y\":{\"color\":\"#2a3f5f\"},\"marker\":{\"line\":{\"color\":\"#E5ECF6\",\"width\":0.5},\"pattern\":{\"fillmode\":\"overlay\",\"size\":10,\"solidity\":0.2}},\"type\":\"bar\"}],\"scattergeo\":[{\"type\":\"scattergeo\",\"marker\":{\"colorbar\":{\"outlinewidth\":0,\"ticks\":\"\"}}}],\"scatterpolar\":[{\"type\":\"scatterpolar\",\"marker\":{\"colorbar\":{\"outlinewidth\":0,\"ticks\":\"\"}}}],\"histogram\":[{\"marker\":{\"pattern\":{\"fillmode\":\"overlay\",\"size\":10,\"solidity\":0.2}},\"type\":\"histogram\"}],\"scattergl\":[{\"type\":\"scattergl\",\"marker\":{\"colorbar\":{\"outlinewidth\":0,\"ticks\":\"\"}}}],\"scatter3d\":[{\"type\":\"scatter3d\",\"line\":{\"colorbar\":{\"outlinewidth\":0,\"ticks\":\"\"}},\"marker\":{\"colorbar\":{\"outlinewidth\":0,\"ticks\":\"\"}}}],\"scattermapbox\":[{\"type\":\"scattermapbox\",\"marker\":{\"colorbar\":{\"outlinewidth\":0,\"ticks\":\"\"}}}],\"scatterternary\":[{\"type\":\"scatterternary\",\"marker\":{\"colorbar\":{\"outlinewidth\":0,\"ticks\":\"\"}}}],\"scattercarpet\":[{\"type\":\"scattercarpet\",\"marker\":{\"colorbar\":{\"outlinewidth\":0,\"ticks\":\"\"}}}],\"carpet\":[{\"aaxis\":{\"endlinecolor\":\"#2a3f5f\",\"gridcolor\":\"white\",\"linecolor\":\"white\",\"minorgridcolor\":\"white\",\"startlinecolor\":\"#2a3f5f\"},\"baxis\":{\"endlinecolor\":\"#2a3f5f\",\"gridcolor\":\"white\",\"linecolor\":\"white\",\"minorgridcolor\":\"white\",\"startlinecolor\":\"#2a3f5f\"},\"type\":\"carpet\"}],\"table\":[{\"cells\":{\"fill\":{\"color\":\"#EBF0F8\"},\"line\":{\"color\":\"white\"}},\"header\":{\"fill\":{\"color\":\"#C8D4E3\"},\"line\":{\"color\":\"white\"}},\"type\":\"table\"}],\"barpolar\":[{\"marker\":{\"line\":{\"color\":\"#E5ECF6\",\"width\":0.5},\"pattern\":{\"fillmode\":\"overlay\",\"size\":10,\"solidity\":0.2}},\"type\":\"barpolar\"}],\"pie\":[{\"automargin\":true,\"type\":\"pie\"}]},\"layout\":{\"autotypenumbers\":\"strict\",\"colorway\":[\"#636efa\",\"#EF553B\",\"#00cc96\",\"#ab63fa\",\"#FFA15A\",\"#19d3f3\",\"#FF6692\",\"#B6E880\",\"#FF97FF\",\"#FECB52\"],\"font\":{\"color\":\"#2a3f5f\"},\"hovermode\":\"closest\",\"hoverlabel\":{\"align\":\"left\"},\"paper_bgcolor\":\"white\",\"plot_bgcolor\":\"#E5ECF6\",\"polar\":{\"bgcolor\":\"#E5ECF6\",\"angularaxis\":{\"gridcolor\":\"white\",\"linecolor\":\"white\",\"ticks\":\"\"},\"radialaxis\":{\"gridcolor\":\"white\",\"linecolor\":\"white\",\"ticks\":\"\"}},\"ternary\":{\"bgcolor\":\"#E5ECF6\",\"aaxis\":{\"gridcolor\":\"white\",\"linecolor\":\"white\",\"ticks\":\"\"},\"baxis\":{\"gridcolor\":\"white\",\"linecolor\":\"white\",\"ticks\":\"\"},\"caxis\":{\"gridcolor\":\"white\",\"linecolor\":\"white\",\"ticks\":\"\"}},\"coloraxis\":{\"colorbar\":{\"outlinewidth\":0,\"ticks\":\"\"}},\"colorscale\":{\"sequential\":[[0.0,\"#0d0887\"],[0.1111111111111111,\"#46039f\"],[0.2222222222222222,\"#7201a8\"],[0.3333333333333333,\"#9c179e\"],[0.4444444444444444,\"#bd3786\"],[0.5555555555555556,\"#d8576b\"],[0.6666666666666666,\"#ed7953\"],[0.7777777777777778,\"#fb9f3a\"],[0.8888888888888888,\"#fdca26\"],[1.0,\"#f0f921\"]],\"sequentialminus\":[[0.0,\"#0d0887\"],[0.1111111111111111,\"#46039f\"],[0.2222222222222222,\"#7201a8\"],[0.3333333333333333,\"#9c179e\"],[0.4444444444444444,\"#bd3786\"],[0.5555555555555556,\"#d8576b\"],[0.6666666666666666,\"#ed7953\"],[0.7777777777777778,\"#fb9f3a\"],[0.8888888888888888,\"#fdca26\"],[1.0,\"#f0f921\"]],\"diverging\":[[0,\"#8e0152\"],[0.1,\"#c51b7d\"],[0.2,\"#de77ae\"],[0.3,\"#f1b6da\"],[0.4,\"#fde0ef\"],[0.5,\"#f7f7f7\"],[0.6,\"#e6f5d0\"],[0.7,\"#b8e186\"],[0.8,\"#7fbc41\"],[0.9,\"#4d9221\"],[1,\"#276419\"]]},\"xaxis\":{\"gridcolor\":\"white\",\"linecolor\":\"white\",\"ticks\":\"\",\"title\":{\"standoff\":15},\"zerolinecolor\":\"white\",\"automargin\":true,\"zerolinewidth\":2},\"yaxis\":{\"gridcolor\":\"white\",\"linecolor\":\"white\",\"ticks\":\"\",\"title\":{\"standoff\":15},\"zerolinecolor\":\"white\",\"automargin\":true,\"zerolinewidth\":2},\"scene\":{\"xaxis\":{\"backgroundcolor\":\"#E5ECF6\",\"gridcolor\":\"white\",\"linecolor\":\"white\",\"showbackground\":true,\"ticks\":\"\",\"zerolinecolor\":\"white\",\"gridwidth\":2},\"yaxis\":{\"backgroundcolor\":\"#E5ECF6\",\"gridcolor\":\"white\",\"linecolor\":\"white\",\"showbackground\":true,\"ticks\":\"\",\"zerolinecolor\":\"white\",\"gridwidth\":2},\"zaxis\":{\"backgroundcolor\":\"#E5ECF6\",\"gridcolor\":\"white\",\"linecolor\":\"white\",\"showbackground\":true,\"ticks\":\"\",\"zerolinecolor\":\"white\",\"gridwidth\":2}},\"shapedefaults\":{\"line\":{\"color\":\"#2a3f5f\"}},\"annotationdefaults\":{\"arrowcolor\":\"#2a3f5f\",\"arrowhead\":0,\"arrowwidth\":1},\"geo\":{\"bgcolor\":\"white\",\"landcolor\":\"#E5ECF6\",\"subunitcolor\":\"white\",\"showland\":true,\"showlakes\":true,\"lakecolor\":\"white\"},\"title\":{\"x\":0.05},\"mapbox\":{\"style\":\"light\"}}},\"legend\":{\"tracegroupgap\":0},\"title\":{\"text\":\"Ethnicity & Gender Breakdown\"}},                        {\"responsive\": true}                    ).then(function(){\n",
              "                            \n",
              "var gd = document.getElementById('13244634-be36-4482-8491-3d61508e1114');\n",
              "var x = new MutationObserver(function (mutations, observer) {{\n",
              "        var display = window.getComputedStyle(gd).display;\n",
              "        if (!display || display === 'none') {{\n",
              "            console.log([gd, 'removed!']);\n",
              "            Plotly.purge(gd);\n",
              "            observer.disconnect();\n",
              "        }}\n",
              "}});\n",
              "\n",
              "// Listen for the removal of the full notebook cells\n",
              "var notebookContainer = gd.closest('#notebook-container');\n",
              "if (notebookContainer) {{\n",
              "    x.observe(notebookContainer, {childList: true});\n",
              "}}\n",
              "\n",
              "// Listen for the clearing of the current output cell\n",
              "var outputEl = gd.closest('.output');\n",
              "if (outputEl) {{\n",
              "    x.observe(outputEl, {childList: true});\n",
              "}}\n",
              "\n",
              "                        })                };                            </script>        </div>\n",
              "</body>\n",
              "</html>"
            ]
          },
          "metadata": {}
        }
      ]
    },
    {
      "cell_type": "markdown",
      "source": [
        "**Why choose this plot?**\n",
        "\n",
        "Sunburst chart effectively visualizes hierarchical relationships between ethnicity and gender while simultaneously showing the aggregated number of conditions.\n",
        "\n",
        "**Insight**:\n",
        "\n",
        "Reveals which ethnicity–gender groups contribute most to multimorbidity: for example, Ethnicity A females account for the largest share of total conditions, highlighting key demographic segments driving disease burden."
      ],
      "metadata": {
        "id": "JK1mEBbYLS6P"
      }
    },
    {
      "cell_type": "markdown",
      "source": [
        "---------------------------\n",
        "\n",
        "## **6. Top 10 Most Common Conditions**"
      ],
      "metadata": {
        "id": "Zs3YIU5yLh6H"
      }
    },
    {
      "cell_type": "code",
      "source": [
        "condition_counts = conditions['description'].value_counts().head(10).reset_index()\n",
        "condition_counts.columns = ['condition', 'count']\n",
        "\n",
        "fig = px.bar(\n",
        "    condition_counts,\n",
        "    x='condition', y='count',\n",
        "    color='condition',\n",
        "    title='Top 10 Most Common Conditions ',\n",
        "    labels={'condition': 'Condition', 'count': 'Count'}\n",
        ")\n",
        "fig.update_xaxes(tickangle=45)\n",
        "fig.show()\n"
      ],
      "metadata": {
        "colab": {
          "base_uri": "https://localhost:8080/",
          "height": 542
        },
        "id": "y6Qw5sTCdeua",
        "outputId": "c5e7db22-0098-42c2-b029-4fb9f5875109"
      },
      "execution_count": 26,
      "outputs": [
        {
          "output_type": "display_data",
          "data": {
            "text/html": [
              "<html>\n",
              "<head><meta charset=\"utf-8\" /></head>\n",
              "<body>\n",
              "    <div>            <script src=\"https://cdnjs.cloudflare.com/ajax/libs/mathjax/2.7.5/MathJax.js?config=TeX-AMS-MML_SVG\"></script><script type=\"text/javascript\">if (window.MathJax && window.MathJax.Hub && window.MathJax.Hub.Config) {window.MathJax.Hub.Config({SVG: {font: \"STIX-Web\"}});}</script>                <script type=\"text/javascript\">window.PlotlyConfig = {MathJaxConfig: 'local'};</script>\n",
              "        <script charset=\"utf-8\" src=\"https://cdn.plot.ly/plotly-2.35.2.min.js\"></script>                <div id=\"fd94f6dd-fb62-499d-b9f3-3a1bf0169f90\" class=\"plotly-graph-div\" style=\"height:525px; width:100%;\"></div>            <script type=\"text/javascript\">                                    window.PLOTLYENV=window.PLOTLYENV || {};                                    if (document.getElementById(\"fd94f6dd-fb62-499d-b9f3-3a1bf0169f90\")) {                    Plotly.newPlot(                        \"fd94f6dd-fb62-499d-b9f3-3a1bf0169f90\",                        [{\"alignmentgroup\":\"True\",\"hovertemplate\":\"Condition=%{x}\\u003cbr\\u003eCount=%{y}\\u003cextra\\u003e\\u003c\\u002fextra\\u003e\",\"legendgroup\":\"Viral sinusitis (disorder)\",\"marker\":{\"color\":\"#636efa\",\"pattern\":{\"shape\":\"\"}},\"name\":\"Viral sinusitis (disorder)\",\"offsetgroup\":\"Viral sinusitis (disorder)\",\"orientation\":\"v\",\"showlegend\":true,\"textposition\":\"auto\",\"x\":[\"Viral sinusitis (disorder)\"],\"xaxis\":\"x\",\"y\":[1125],\"yaxis\":\"y\",\"type\":\"bar\"},{\"alignmentgroup\":\"True\",\"hovertemplate\":\"Condition=%{x}\\u003cbr\\u003eCount=%{y}\\u003cextra\\u003e\\u003c\\u002fextra\\u003e\",\"legendgroup\":\"Acute viral pharyngitis (disorder)\",\"marker\":{\"color\":\"#EF553B\",\"pattern\":{\"shape\":\"\"}},\"name\":\"Acute viral pharyngitis (disorder)\",\"offsetgroup\":\"Acute viral pharyngitis (disorder)\",\"orientation\":\"v\",\"showlegend\":true,\"textposition\":\"auto\",\"x\":[\"Acute viral pharyngitis (disorder)\"],\"xaxis\":\"x\",\"y\":[602],\"yaxis\":\"y\",\"type\":\"bar\"},{\"alignmentgroup\":\"True\",\"hovertemplate\":\"Condition=%{x}\\u003cbr\\u003eCount=%{y}\\u003cextra\\u003e\\u003c\\u002fextra\\u003e\",\"legendgroup\":\"Acute bronchitis (disorder)\",\"marker\":{\"color\":\"#00cc96\",\"pattern\":{\"shape\":\"\"}},\"name\":\"Acute bronchitis (disorder)\",\"offsetgroup\":\"Acute bronchitis (disorder)\",\"orientation\":\"v\",\"showlegend\":true,\"textposition\":\"auto\",\"x\":[\"Acute bronchitis (disorder)\"],\"xaxis\":\"x\",\"y\":[508],\"yaxis\":\"y\",\"type\":\"bar\"},{\"alignmentgroup\":\"True\",\"hovertemplate\":\"Condition=%{x}\\u003cbr\\u003eCount=%{y}\\u003cextra\\u003e\\u003c\\u002fextra\\u003e\",\"legendgroup\":\"Prediabetes\",\"marker\":{\"color\":\"#ab63fa\",\"pattern\":{\"shape\":\"\"}},\"name\":\"Prediabetes\",\"offsetgroup\":\"Prediabetes\",\"orientation\":\"v\",\"showlegend\":true,\"textposition\":\"auto\",\"x\":[\"Prediabetes\"],\"xaxis\":\"x\",\"y\":[458],\"yaxis\":\"y\",\"type\":\"bar\"},{\"alignmentgroup\":\"True\",\"hovertemplate\":\"Condition=%{x}\\u003cbr\\u003eCount=%{y}\\u003cextra\\u003e\\u003c\\u002fextra\\u003e\",\"legendgroup\":\"Hypertension\",\"marker\":{\"color\":\"#FFA15A\",\"pattern\":{\"shape\":\"\"}},\"name\":\"Hypertension\",\"offsetgroup\":\"Hypertension\",\"orientation\":\"v\",\"showlegend\":true,\"textposition\":\"auto\",\"x\":[\"Hypertension\"],\"xaxis\":\"x\",\"y\":[373],\"yaxis\":\"y\",\"type\":\"bar\"},{\"alignmentgroup\":\"True\",\"hovertemplate\":\"Condition=%{x}\\u003cbr\\u003eCount=%{y}\\u003cextra\\u003e\\u003c\\u002fextra\\u003e\",\"legendgroup\":\"Normal pregnancy\",\"marker\":{\"color\":\"#19d3f3\",\"pattern\":{\"shape\":\"\"}},\"name\":\"Normal pregnancy\",\"offsetgroup\":\"Normal pregnancy\",\"orientation\":\"v\",\"showlegend\":true,\"textposition\":\"auto\",\"x\":[\"Normal pregnancy\"],\"xaxis\":\"x\",\"y\":[339],\"yaxis\":\"y\",\"type\":\"bar\"},{\"alignmentgroup\":\"True\",\"hovertemplate\":\"Condition=%{x}\\u003cbr\\u003eCount=%{y}\\u003cextra\\u003e\\u003c\\u002fextra\\u003e\",\"legendgroup\":\"Chronic sinusitis (disorder)\",\"marker\":{\"color\":\"#FF6692\",\"pattern\":{\"shape\":\"\"}},\"name\":\"Chronic sinusitis (disorder)\",\"offsetgroup\":\"Chronic sinusitis (disorder)\",\"orientation\":\"v\",\"showlegend\":true,\"textposition\":\"auto\",\"x\":[\"Chronic sinusitis (disorder)\"],\"xaxis\":\"x\",\"y\":[329],\"yaxis\":\"y\",\"type\":\"bar\"},{\"alignmentgroup\":\"True\",\"hovertemplate\":\"Condition=%{x}\\u003cbr\\u003eCount=%{y}\\u003cextra\\u003e\\u003c\\u002fextra\\u003e\",\"legendgroup\":\"Otitis media\",\"marker\":{\"color\":\"#B6E880\",\"pattern\":{\"shape\":\"\"}},\"name\":\"Otitis media\",\"offsetgroup\":\"Otitis media\",\"orientation\":\"v\",\"showlegend\":true,\"textposition\":\"auto\",\"x\":[\"Otitis media\"],\"xaxis\":\"x\",\"y\":[202],\"yaxis\":\"y\",\"type\":\"bar\"},{\"alignmentgroup\":\"True\",\"hovertemplate\":\"Condition=%{x}\\u003cbr\\u003eCount=%{y}\\u003cextra\\u003e\\u003c\\u002fextra\\u003e\",\"legendgroup\":\"Streptococcal sore throat (disorder)\",\"marker\":{\"color\":\"#FF97FF\",\"pattern\":{\"shape\":\"\"}},\"name\":\"Streptococcal sore throat (disorder)\",\"offsetgroup\":\"Streptococcal sore throat (disorder)\",\"orientation\":\"v\",\"showlegend\":true,\"textposition\":\"auto\",\"x\":[\"Streptococcal sore throat (disorder)\"],\"xaxis\":\"x\",\"y\":[146],\"yaxis\":\"y\",\"type\":\"bar\"},{\"alignmentgroup\":\"True\",\"hovertemplate\":\"Condition=%{x}\\u003cbr\\u003eCount=%{y}\\u003cextra\\u003e\\u003c\\u002fextra\\u003e\",\"legendgroup\":\"Sprain of ankle\",\"marker\":{\"color\":\"#FECB52\",\"pattern\":{\"shape\":\"\"}},\"name\":\"Sprain of ankle\",\"offsetgroup\":\"Sprain of ankle\",\"orientation\":\"v\",\"showlegend\":true,\"textposition\":\"auto\",\"x\":[\"Sprain of ankle\"],\"xaxis\":\"x\",\"y\":[108],\"yaxis\":\"y\",\"type\":\"bar\"}],                        {\"template\":{\"data\":{\"histogram2dcontour\":[{\"type\":\"histogram2dcontour\",\"colorbar\":{\"outlinewidth\":0,\"ticks\":\"\"},\"colorscale\":[[0.0,\"#0d0887\"],[0.1111111111111111,\"#46039f\"],[0.2222222222222222,\"#7201a8\"],[0.3333333333333333,\"#9c179e\"],[0.4444444444444444,\"#bd3786\"],[0.5555555555555556,\"#d8576b\"],[0.6666666666666666,\"#ed7953\"],[0.7777777777777778,\"#fb9f3a\"],[0.8888888888888888,\"#fdca26\"],[1.0,\"#f0f921\"]]}],\"choropleth\":[{\"type\":\"choropleth\",\"colorbar\":{\"outlinewidth\":0,\"ticks\":\"\"}}],\"histogram2d\":[{\"type\":\"histogram2d\",\"colorbar\":{\"outlinewidth\":0,\"ticks\":\"\"},\"colorscale\":[[0.0,\"#0d0887\"],[0.1111111111111111,\"#46039f\"],[0.2222222222222222,\"#7201a8\"],[0.3333333333333333,\"#9c179e\"],[0.4444444444444444,\"#bd3786\"],[0.5555555555555556,\"#d8576b\"],[0.6666666666666666,\"#ed7953\"],[0.7777777777777778,\"#fb9f3a\"],[0.8888888888888888,\"#fdca26\"],[1.0,\"#f0f921\"]]}],\"heatmap\":[{\"type\":\"heatmap\",\"colorbar\":{\"outlinewidth\":0,\"ticks\":\"\"},\"colorscale\":[[0.0,\"#0d0887\"],[0.1111111111111111,\"#46039f\"],[0.2222222222222222,\"#7201a8\"],[0.3333333333333333,\"#9c179e\"],[0.4444444444444444,\"#bd3786\"],[0.5555555555555556,\"#d8576b\"],[0.6666666666666666,\"#ed7953\"],[0.7777777777777778,\"#fb9f3a\"],[0.8888888888888888,\"#fdca26\"],[1.0,\"#f0f921\"]]}],\"heatmapgl\":[{\"type\":\"heatmapgl\",\"colorbar\":{\"outlinewidth\":0,\"ticks\":\"\"},\"colorscale\":[[0.0,\"#0d0887\"],[0.1111111111111111,\"#46039f\"],[0.2222222222222222,\"#7201a8\"],[0.3333333333333333,\"#9c179e\"],[0.4444444444444444,\"#bd3786\"],[0.5555555555555556,\"#d8576b\"],[0.6666666666666666,\"#ed7953\"],[0.7777777777777778,\"#fb9f3a\"],[0.8888888888888888,\"#fdca26\"],[1.0,\"#f0f921\"]]}],\"contourcarpet\":[{\"type\":\"contourcarpet\",\"colorbar\":{\"outlinewidth\":0,\"ticks\":\"\"}}],\"contour\":[{\"type\":\"contour\",\"colorbar\":{\"outlinewidth\":0,\"ticks\":\"\"},\"colorscale\":[[0.0,\"#0d0887\"],[0.1111111111111111,\"#46039f\"],[0.2222222222222222,\"#7201a8\"],[0.3333333333333333,\"#9c179e\"],[0.4444444444444444,\"#bd3786\"],[0.5555555555555556,\"#d8576b\"],[0.6666666666666666,\"#ed7953\"],[0.7777777777777778,\"#fb9f3a\"],[0.8888888888888888,\"#fdca26\"],[1.0,\"#f0f921\"]]}],\"surface\":[{\"type\":\"surface\",\"colorbar\":{\"outlinewidth\":0,\"ticks\":\"\"},\"colorscale\":[[0.0,\"#0d0887\"],[0.1111111111111111,\"#46039f\"],[0.2222222222222222,\"#7201a8\"],[0.3333333333333333,\"#9c179e\"],[0.4444444444444444,\"#bd3786\"],[0.5555555555555556,\"#d8576b\"],[0.6666666666666666,\"#ed7953\"],[0.7777777777777778,\"#fb9f3a\"],[0.8888888888888888,\"#fdca26\"],[1.0,\"#f0f921\"]]}],\"mesh3d\":[{\"type\":\"mesh3d\",\"colorbar\":{\"outlinewidth\":0,\"ticks\":\"\"}}],\"scatter\":[{\"fillpattern\":{\"fillmode\":\"overlay\",\"size\":10,\"solidity\":0.2},\"type\":\"scatter\"}],\"parcoords\":[{\"type\":\"parcoords\",\"line\":{\"colorbar\":{\"outlinewidth\":0,\"ticks\":\"\"}}}],\"scatterpolargl\":[{\"type\":\"scatterpolargl\",\"marker\":{\"colorbar\":{\"outlinewidth\":0,\"ticks\":\"\"}}}],\"bar\":[{\"error_x\":{\"color\":\"#2a3f5f\"},\"error_y\":{\"color\":\"#2a3f5f\"},\"marker\":{\"line\":{\"color\":\"#E5ECF6\",\"width\":0.5},\"pattern\":{\"fillmode\":\"overlay\",\"size\":10,\"solidity\":0.2}},\"type\":\"bar\"}],\"scattergeo\":[{\"type\":\"scattergeo\",\"marker\":{\"colorbar\":{\"outlinewidth\":0,\"ticks\":\"\"}}}],\"scatterpolar\":[{\"type\":\"scatterpolar\",\"marker\":{\"colorbar\":{\"outlinewidth\":0,\"ticks\":\"\"}}}],\"histogram\":[{\"marker\":{\"pattern\":{\"fillmode\":\"overlay\",\"size\":10,\"solidity\":0.2}},\"type\":\"histogram\"}],\"scattergl\":[{\"type\":\"scattergl\",\"marker\":{\"colorbar\":{\"outlinewidth\":0,\"ticks\":\"\"}}}],\"scatter3d\":[{\"type\":\"scatter3d\",\"line\":{\"colorbar\":{\"outlinewidth\":0,\"ticks\":\"\"}},\"marker\":{\"colorbar\":{\"outlinewidth\":0,\"ticks\":\"\"}}}],\"scattermapbox\":[{\"type\":\"scattermapbox\",\"marker\":{\"colorbar\":{\"outlinewidth\":0,\"ticks\":\"\"}}}],\"scatterternary\":[{\"type\":\"scatterternary\",\"marker\":{\"colorbar\":{\"outlinewidth\":0,\"ticks\":\"\"}}}],\"scattercarpet\":[{\"type\":\"scattercarpet\",\"marker\":{\"colorbar\":{\"outlinewidth\":0,\"ticks\":\"\"}}}],\"carpet\":[{\"aaxis\":{\"endlinecolor\":\"#2a3f5f\",\"gridcolor\":\"white\",\"linecolor\":\"white\",\"minorgridcolor\":\"white\",\"startlinecolor\":\"#2a3f5f\"},\"baxis\":{\"endlinecolor\":\"#2a3f5f\",\"gridcolor\":\"white\",\"linecolor\":\"white\",\"minorgridcolor\":\"white\",\"startlinecolor\":\"#2a3f5f\"},\"type\":\"carpet\"}],\"table\":[{\"cells\":{\"fill\":{\"color\":\"#EBF0F8\"},\"line\":{\"color\":\"white\"}},\"header\":{\"fill\":{\"color\":\"#C8D4E3\"},\"line\":{\"color\":\"white\"}},\"type\":\"table\"}],\"barpolar\":[{\"marker\":{\"line\":{\"color\":\"#E5ECF6\",\"width\":0.5},\"pattern\":{\"fillmode\":\"overlay\",\"size\":10,\"solidity\":0.2}},\"type\":\"barpolar\"}],\"pie\":[{\"automargin\":true,\"type\":\"pie\"}]},\"layout\":{\"autotypenumbers\":\"strict\",\"colorway\":[\"#636efa\",\"#EF553B\",\"#00cc96\",\"#ab63fa\",\"#FFA15A\",\"#19d3f3\",\"#FF6692\",\"#B6E880\",\"#FF97FF\",\"#FECB52\"],\"font\":{\"color\":\"#2a3f5f\"},\"hovermode\":\"closest\",\"hoverlabel\":{\"align\":\"left\"},\"paper_bgcolor\":\"white\",\"plot_bgcolor\":\"#E5ECF6\",\"polar\":{\"bgcolor\":\"#E5ECF6\",\"angularaxis\":{\"gridcolor\":\"white\",\"linecolor\":\"white\",\"ticks\":\"\"},\"radialaxis\":{\"gridcolor\":\"white\",\"linecolor\":\"white\",\"ticks\":\"\"}},\"ternary\":{\"bgcolor\":\"#E5ECF6\",\"aaxis\":{\"gridcolor\":\"white\",\"linecolor\":\"white\",\"ticks\":\"\"},\"baxis\":{\"gridcolor\":\"white\",\"linecolor\":\"white\",\"ticks\":\"\"},\"caxis\":{\"gridcolor\":\"white\",\"linecolor\":\"white\",\"ticks\":\"\"}},\"coloraxis\":{\"colorbar\":{\"outlinewidth\":0,\"ticks\":\"\"}},\"colorscale\":{\"sequential\":[[0.0,\"#0d0887\"],[0.1111111111111111,\"#46039f\"],[0.2222222222222222,\"#7201a8\"],[0.3333333333333333,\"#9c179e\"],[0.4444444444444444,\"#bd3786\"],[0.5555555555555556,\"#d8576b\"],[0.6666666666666666,\"#ed7953\"],[0.7777777777777778,\"#fb9f3a\"],[0.8888888888888888,\"#fdca26\"],[1.0,\"#f0f921\"]],\"sequentialminus\":[[0.0,\"#0d0887\"],[0.1111111111111111,\"#46039f\"],[0.2222222222222222,\"#7201a8\"],[0.3333333333333333,\"#9c179e\"],[0.4444444444444444,\"#bd3786\"],[0.5555555555555556,\"#d8576b\"],[0.6666666666666666,\"#ed7953\"],[0.7777777777777778,\"#fb9f3a\"],[0.8888888888888888,\"#fdca26\"],[1.0,\"#f0f921\"]],\"diverging\":[[0,\"#8e0152\"],[0.1,\"#c51b7d\"],[0.2,\"#de77ae\"],[0.3,\"#f1b6da\"],[0.4,\"#fde0ef\"],[0.5,\"#f7f7f7\"],[0.6,\"#e6f5d0\"],[0.7,\"#b8e186\"],[0.8,\"#7fbc41\"],[0.9,\"#4d9221\"],[1,\"#276419\"]]},\"xaxis\":{\"gridcolor\":\"white\",\"linecolor\":\"white\",\"ticks\":\"\",\"title\":{\"standoff\":15},\"zerolinecolor\":\"white\",\"automargin\":true,\"zerolinewidth\":2},\"yaxis\":{\"gridcolor\":\"white\",\"linecolor\":\"white\",\"ticks\":\"\",\"title\":{\"standoff\":15},\"zerolinecolor\":\"white\",\"automargin\":true,\"zerolinewidth\":2},\"scene\":{\"xaxis\":{\"backgroundcolor\":\"#E5ECF6\",\"gridcolor\":\"white\",\"linecolor\":\"white\",\"showbackground\":true,\"ticks\":\"\",\"zerolinecolor\":\"white\",\"gridwidth\":2},\"yaxis\":{\"backgroundcolor\":\"#E5ECF6\",\"gridcolor\":\"white\",\"linecolor\":\"white\",\"showbackground\":true,\"ticks\":\"\",\"zerolinecolor\":\"white\",\"gridwidth\":2},\"zaxis\":{\"backgroundcolor\":\"#E5ECF6\",\"gridcolor\":\"white\",\"linecolor\":\"white\",\"showbackground\":true,\"ticks\":\"\",\"zerolinecolor\":\"white\",\"gridwidth\":2}},\"shapedefaults\":{\"line\":{\"color\":\"#2a3f5f\"}},\"annotationdefaults\":{\"arrowcolor\":\"#2a3f5f\",\"arrowhead\":0,\"arrowwidth\":1},\"geo\":{\"bgcolor\":\"white\",\"landcolor\":\"#E5ECF6\",\"subunitcolor\":\"white\",\"showland\":true,\"showlakes\":true,\"lakecolor\":\"white\"},\"title\":{\"x\":0.05},\"mapbox\":{\"style\":\"light\"}}},\"xaxis\":{\"anchor\":\"y\",\"domain\":[0.0,1.0],\"title\":{\"text\":\"Condition\"},\"categoryorder\":\"array\",\"categoryarray\":[\"Viral sinusitis (disorder)\",\"Acute viral pharyngitis (disorder)\",\"Acute bronchitis (disorder)\",\"Prediabetes\",\"Hypertension\",\"Normal pregnancy\",\"Chronic sinusitis (disorder)\",\"Otitis media\",\"Streptococcal sore throat (disorder)\",\"Sprain of ankle\"],\"tickangle\":45},\"yaxis\":{\"anchor\":\"x\",\"domain\":[0.0,1.0],\"title\":{\"text\":\"Count\"}},\"legend\":{\"title\":{\"text\":\"Condition\"},\"tracegroupgap\":0},\"title\":{\"text\":\"Top 10 Most Common Conditions \"},\"barmode\":\"relative\"},                        {\"responsive\": true}                    ).then(function(){\n",
              "                            \n",
              "var gd = document.getElementById('fd94f6dd-fb62-499d-b9f3-3a1bf0169f90');\n",
              "var x = new MutationObserver(function (mutations, observer) {{\n",
              "        var display = window.getComputedStyle(gd).display;\n",
              "        if (!display || display === 'none') {{\n",
              "            console.log([gd, 'removed!']);\n",
              "            Plotly.purge(gd);\n",
              "            observer.disconnect();\n",
              "        }}\n",
              "}});\n",
              "\n",
              "// Listen for the removal of the full notebook cells\n",
              "var notebookContainer = gd.closest('#notebook-container');\n",
              "if (notebookContainer) {{\n",
              "    x.observe(notebookContainer, {childList: true});\n",
              "}}\n",
              "\n",
              "// Listen for the clearing of the current output cell\n",
              "var outputEl = gd.closest('.output');\n",
              "if (outputEl) {{\n",
              "    x.observe(outputEl, {childList: true});\n",
              "}}\n",
              "\n",
              "                        })                };                            </script>        </div>\n",
              "</body>\n",
              "</html>"
            ]
          },
          "metadata": {}
        }
      ]
    },
    {
      "cell_type": "markdown",
      "source": [
        "**Why choose this plot?**\n",
        "\n",
        "Bar chart succinctly highlights the most frequent medical conditions, enabling quick comparison of prevalence across diagnoses.\n",
        "\n",
        "**Insight:**\n",
        "\n",
        "Viral sinusitis, acute viral pharyngitis, and acute bronchitis are the top three conditions, indicating acute respiratory issues dominate the patient population and should be prioritized in healthcare resource planning.\n",
        "\n",
        "------------------"
      ],
      "metadata": {
        "id": "y9zhXJ4kMN-s"
      }
    },
    {
      "cell_type": "markdown",
      "source": [
        "## **7. Claims cost distribution**"
      ],
      "metadata": {
        "id": "56IOJ1_DMZKI"
      }
    },
    {
      "cell_type": "code",
      "source": [
        "\n",
        "\n",
        "px.box(df_plot, y=\"total_claims\", title=\"Total Claims Distribution\")\n",
        "\n"
      ],
      "metadata": {
        "colab": {
          "base_uri": "https://localhost:8080/",
          "height": 542
        },
        "id": "CI-4v3U46pp2",
        "outputId": "2c32b99c-741b-408a-b1e5-34e7b0ebe843"
      },
      "execution_count": 27,
      "outputs": [
        {
          "output_type": "display_data",
          "data": {
            "text/html": [
              "<html>\n",
              "<head><meta charset=\"utf-8\" /></head>\n",
              "<body>\n",
              "    <div>            <script src=\"https://cdnjs.cloudflare.com/ajax/libs/mathjax/2.7.5/MathJax.js?config=TeX-AMS-MML_SVG\"></script><script type=\"text/javascript\">if (window.MathJax && window.MathJax.Hub && window.MathJax.Hub.Config) {window.MathJax.Hub.Config({SVG: {font: \"STIX-Web\"}});}</script>                <script type=\"text/javascript\">window.PlotlyConfig = {MathJaxConfig: 'local'};</script>\n",
              "        <script charset=\"utf-8\" src=\"https://cdn.plot.ly/plotly-2.35.2.min.js\"></script>                <div id=\"766d7e5c-78e8-4d14-ab6d-bddef0d69363\" class=\"plotly-graph-div\" style=\"height:525px; width:100%;\"></div>            <script type=\"text/javascript\">                                    window.PLOTLYENV=window.PLOTLYENV || {};                                    if (document.getElementById(\"766d7e5c-78e8-4d14-ab6d-bddef0d69363\")) {                    Plotly.newPlot(                        \"766d7e5c-78e8-4d14-ab6d-bddef0d69363\",                        [{\"alignmentgroup\":\"True\",\"hovertemplate\":\"total_claims=%{y}\\u003cextra\\u003e\\u003c\\u002fextra\\u003e\",\"legendgroup\":\"\",\"marker\":{\"color\":\"#636efa\"},\"name\":\"\",\"notched\":false,\"offsetgroup\":\"\",\"orientation\":\"v\",\"showlegend\":false,\"x0\":\" \",\"xaxis\":\"x\",\"y\":[100.0,100.0,2000.0,1600.0,1700.0,1300.0,1700.0,2100.0,2200.0,2100.0,1700.0,1800.0,1500.0,3900.0,2900.0,1700.0,1400.0,1700.0,800.0,3900.0,2000.0,1400.0,1800.0,1700.0,1100.0,1300.0,2100.0,3900.0,1400.0,3200.0,900.0,1100.0,1600.0,1400.0,2000.0,1000.0,1200.0,2000.0,800.0,1400.0,1200.0,1400.0,1100.0,1700.0,3900.0,3900.0,700.0,1900.0,1100.0,1300.0,3600.0,1000.0,800.0,1200.0,1200.0,400.0,1300.0,900.0,1700.0,1000.0,2000.0,800.0,1100.0,800.0,1000.0,2600.0,1000.0,800.0,900.0,1300.0,300.0,1000.0,1000.0,800.0,700.0,1400.0,900.0,800.0,800.0,800.0,700.0,600.0,1100.0,2500.0,3200.0,500.0,900.0,1000.0,800.0,700.0,300.0,600.0,500.0,700.0,600.0,400.0,600.0,500.0,600.0,500.0,400.0,1600.0,400.0,800.0,1300.0,300.0,400.0,500.0,600.0,500.0,1700.0,300.0,400.0,700.0,400.0,2500.0,200.0,300.0,200.0,300.0,300.0,500.0,1700.0,300.0,300.0,300.0,200.0,400.0,400.0,300.0,300.0,200.0,300.0,400.0,100.0,200.0,200.0,300.0,700.0,400.0,200.0,100.0,100.0,100.0,100.0,100.0,100.0,100.0,100.0,100.0,100.0,100.0,100.0,100.0,100.0,100.0,100.0,100.0,100.0,100.0,100.0,100.0,100.0,100.0,100.0,100.0,100.0,100.0,100.0,100.0,100.0,100.0,100.0,100.0,100.0,100.0,100.0,100.0,100.0,100.0,100.0,100.0,100.0,100.0,100.0,100.0,100.0,100.0,100.0,100.0,100.0,100.0,100.0,100.0,100.0,100.0,100.0,100.0,100.0,100.0,100.0,100.0,100.0,100.0,100.0,100.0,100.0,100.0,100.0,100.0,100.0,100.0,100.0,100.0,100.0,100.0,100.0,100.0,100.0,100.0,100.0,100.0,100.0,100.0,100.0,100.0,100.0,100.0,100.0,100.0,100.0,100.0,100.0,100.0,100.0,100.0,100.0,100.0,100.0,100.0,100.0,100.0,100.0,100.0,100.0,100.0,100.0,100.0,100.0,100.0,100.0,100.0,100.0,100.0,100.0,100.0,100.0,100.0,100.0,100.0,100.0,100.0,100.0,100.0,100.0,100.0,100.0,100.0,100.0,100.0,100.0,100.0,100.0,100.0,100.0,100.0,100.0,100.0,100.0,100.0,100.0,100.0,200.0,100.0,100.0,100.0,100.0,100.0,100.0,100.0,100.0,100.0,100.0,100.0,100.0,100.0,100.0,100.0,100.0,100.0,100.0,100.0,100.0,100.0,100.0,100.0,100.0,100.0,100.0,100.0,100.0,100.0,100.0,100.0,100.0,100.0,100.0,100.0,100.0,100.0,100.0,100.0,100.0,100.0,100.0,100.0,100.0,100.0,100.0,100.0,100.0,100.0,100.0,100.0,100.0,100.0,100.0,100.0,100.0,100.0,100.0,100.0,100.0,100.0,100.0,100.0,100.0,100.0,100.0,100.0,100.0,100.0,100.0,100.0,100.0,100.0,100.0,100.0,100.0,100.0,100.0,100.0,100.0,100.0,100.0,100.0,100.0,100.0,100.0,100.0,100.0,100.0,100.0,100.0,100.0,100.0,100.0,200.0,100.0,100.0,100.0,100.0,100.0,100.0,100.0,100.0,100.0,100.0,100.0,100.0,100.0,100.0,100.0,100.0,100.0,100.0,100.0,100.0,100.0,100.0,100.0,100.0,100.0,100.0,100.0,100.0,100.0,100.0,100.0,100.0,100.0,100.0,100.0,100.0,100.0,100.0,100.0,100.0,100.0,100.0,100.0,100.0,100.0,100.0,100.0,100.0,100.0,100.0,100.0,100.0,100.0,100.0,100.0,100.0,100.0,100.0,100.0,100.0,100.0,100.0,100.0,100.0,100.0,100.0,100.0,100.0,100.0,100.0,100.0,100.0,100.0,100.0,100.0,100.0,100.0,100.0,100.0,1700.0,1200.0,1000.0,1200.0,1400.0,1400.0,1100.0,1200.0,1700.0,1100.0,1400.0,1700.0,1200.0,0.0,100.0,200.0,200.0,200.0,300.0,300.0,300.0,300.0,300.0,400.0,400.0,500.0,500.0,500.0,500.0,500.0,800.0,600.0,600.0,600.0,700.0,600.0,800.0,600.0,1000.0,800.0,800.0,800.0,800.0,1200.0,800.0,1100.0,900.0,1200.0,1200.0,1200.0,1000.0,1300.0,1100.0,1000.0,1300.0,900.0,1200.0,1100.0,1100.0,1200.0,1100.0,1000.0,1400.0,1500.0,1300.0,1200.0,1700.0,1200.0,1300.0,1500.0,1200.0,1200.0,1800.0,1400.0,1500.0,1600.0,1200.0,1900.0,1400.0,1500.0,1300.0,1500.0,2800.0,2100.0,1700.0,1400.0,1600.0,1800.0,2100.0,1600.0,1500.0,2000.0,1600.0,2000.0,1700.0,1900.0,1800.0,2000.0,1700.0,1500.0,1600.0,1700.0,2100.0,2200.0,1600.0,1500.0,1700.0,1900.0,1900.0,1800.0,2600.0,1600.0,2300.0,1800.0,1800.0,2100.0,2500.0,2300.0,1700.0,2500.0,2500.0,2500.0,2100.0,1900.0,2000.0,1800.0,1700.0,2300.0,2000.0,1800.0,1900.0,2000.0,2400.0,2400.0,1800.0,2300.0,2300.0,2500.0,2300.0,1900.0,2200.0,2200.0,2800.0,2000.0,2400.0,2400.0,2200.0,2500.0,2300.0,2700.0,2100.0,2300.0,2300.0,2400.0,2700.0,2300.0,2100.0,2200.0,2500.0,2800.0,2800.0,2200.0,2400.0,2100.0,2200.0,2500.0,2000.0,3700.0,2000.0,2200.0,2400.0,2500.0,1700.0,1900.0,1800.0,1800.0,2000.0,1800.0,1700.0,1700.0,1700.0,1500.0,1700.0,1900.0,2000.0,1300.0,1700.0,2400.0,1600.0,1800.0,1800.0,1400.0,1800.0,1700.0,2200.0,1400.0,1800.0,3600.0,1800.0,2300.0,1800.0,2100.0,2000.0,1800.0,1900.0,1400.0,2000.0,2500.0,1200.0,1300.0,1200.0,1500.0,1100.0,1400.0,1900.0,1100.0,1100.0,1300.0,1700.0,1900.0,1700.0,1500.0,1300.0,1400.0,3900.0,2200.0,2100.0,1200.0,1400.0,3900.0,1200.0,2100.0,1800.0,1800.0,1200.0,1500.0,1600.0,1700.0,3900.0,1200.0,2300.0,2300.0,1100.0,1600.0,1300.0,1100.0,2200.0,3900.0,1500.0,1200.0,1200.0,1400.0,1200.0,2000.0,1500.0,1300.0,1600.0,2200.0,1400.0,1300.0,1300.0,1200.0,2300.0,1500.0,3900.0,3900.0,1700.0,1600.0,1200.0,1700.0,2100.0,1500.0,1600.0,3000.0,1200.0,1300.0,1400.0,1600.0,1700.0,3900.0,1800.0,1200.0,1500.0,1400.0,1100.0,1400.0,2800.0,2500.0,1400.0,1500.0,1200.0,1400.0,1200.0,1300.0,1600.0,3500.0,1200.0,1300.0,2200.0,2000.0,3100.0,3900.0,2300.0,3900.0,2400.0,1800.0,1300.0,3300.0,1100.0,1200.0,1400.0,2700.0,1800.0,3900.0,1200.0,3900.0,2100.0,1300.0,1400.0,1100.0,1500.0,1500.0,2000.0,2400.0,1400.0,1900.0,1900.0,3900.0,1200.0,1000.0,3900.0,1400.0,3900.0,1300.0,1800.0,1500.0,3900.0,3900.0,1600.0,1300.0,1100.0,1600.0,1100.0,3900.0,2000.0,3900.0,1800.0,1300.0,2900.0,900.0,2700.0,1400.0,2100.0,900.0,1400.0,2200.0,3500.0,3900.0,3900.0,2500.0,3900.0,3000.0,3900.0,3900.0,900.0,3900.0,2700.0,3600.0,1300.0,2500.0,3900.0,3900.0,900.0,1200.0,1800.0,1100.0,900.0,3900.0,800.0,900.0,1000.0,1100.0,2000.0,1100.0,3200.0,1600.0,3900.0,800.0,800.0,2700.0,1900.0,3200.0,1500.0,1900.0,3200.0,3900.0,2300.0,3900.0,900.0,1400.0,700.0,1000.0,900.0,3300.0,3100.0,1200.0,700.0,900.0,700.0,3000.0,1800.0,3500.0,1500.0,2000.0,3800.0,900.0,2200.0,1200.0,3000.0,2600.0,600.0,3900.0,700.0,700.0,900.0,3700.0,1000.0,700.0,3300.0,3900.0,3400.0,1900.0,500.0,400.0,1100.0,600.0,1000.0,800.0,400.0,3900.0,1900.0,3300.0,700.0,400.0,500.0,2700.0,2400.0,1100.0,600.0,3100.0,3900.0,1300.0,1100.0,700.0,500.0,700.0,3700.0,1600.0,3100.0,700.0,600.0,2300.0,1200.0,3200.0,900.0,3900.0,500.0,900.0,2500.0,500.0,3900.0,500.0,1100.0,900.0,800.0,1900.0,700.0,3900.0,600.0,800.0,900.0,500.0,300.0,3900.0,3900.0,1400.0,3900.0,3900.0,500.0,1000.0,3900.0,900.0,500.0,700.0,1600.0,1100.0,900.0,1200.0,3900.0,400.0,900.0,3900.0,3700.0,1300.0,800.0,3900.0,3900.0,700.0,300.0,400.0,3900.0,900.0,1200.0,3900.0,600.0,700.0,400.0,2400.0,3900.0,700.0,3000.0,900.0,3200.0,800.0,800.0,500.0,3900.0,600.0,1300.0,300.0,500.0,1000.0,1600.0,400.0,700.0,700.0,3900.0,700.0,500.0,600.0,800.0,800.0,3700.0,1100.0,3900.0,400.0,500.0,3000.0,3900.0,1900.0,800.0,3900.0,900.0,3900.0,600.0,3900.0,1200.0,800.0,2000.0,3900.0,3900.0,700.0,3000.0,3100.0,3300.0,900.0,500.0,3400.0,3900.0,3900.0,3800.0,700.0,1600.0,3000.0,3200.0,600.0,1300.0,600.0,800.0,700.0,600.0,800.0,600.0,3900.0,500.0,600.0,3100.0,1200.0,3900.0,1100.0,400.0,700.0,2400.0,3900.0,500.0,600.0,1400.0,800.0,500.0,600.0,3900.0,500.0,500.0,800.0,1600.0,1400.0,1000.0,900.0,600.0,1800.0,600.0,2400.0,3900.0,800.0,600.0,3100.0,1000.0,500.0,1800.0,3900.0,800.0,1700.0,1700.0,900.0,3900.0,800.0,500.0,900.0,400.0,400.0,600.0,800.0,3900.0,600.0,3900.0,1200.0,1600.0,700.0,2200.0,800.0,800.0,500.0,3900.0,2500.0,600.0,1000.0,1900.0,3900.0,2400.0,800.0,600.0,600.0,600.0,3900.0,500.0,700.0,3600.0,600.0,2100.0,700.0,2900.0,700.0,1500.0,600.0,600.0,600.0,500.0,1900.0,1600.0,1400.0,500.0,1200.0,700.0,700.0,700.0,1600.0,1000.0,800.0,1400.0,600.0,1300.0,1000.0,1100.0,600.0,3900.0,1000.0,3900.0,700.0,900.0,1500.0,900.0,1000.0,700.0,3900.0,1200.0,3900.0,3900.0,700.0,3900.0,3500.0,3900.0,1100.0,1800.0,800.0,600.0,600.0,700.0,1000.0,2400.0,800.0,1400.0,800.0,1700.0,2400.0,800.0,3900.0,900.0,700.0,1400.0,600.0,1000.0,1600.0,1300.0,3900.0,700.0,1300.0,1400.0,1600.0,700.0,800.0,700.0,1300.0,1100.0,1100.0,1000.0,2000.0,600.0,1200.0,1700.0,900.0,1100.0,2200.0,1000.0,1800.0,1200.0,1000.0,800.0,1900.0,900.0,1600.0,1100.0,1600.0,2800.0,1600.0,1400.0,1200.0,1300.0,900.0,900.0,1200.0,1500.0,1400.0,1200.0,1100.0,1100.0,3900.0,1500.0,1600.0,1200.0,1300.0,1400.0,1700.0,1200.0,1900.0,1700.0,1600.0,1500.0,900.0,1700.0,1800.0,1400.0,1300.0,900.0,1100.0,1000.0,2000.0,1000.0,1700.0,1700.0,1600.0,800.0,1000.0,1000.0,1100.0,3900.0,1700.0,1400.0,1100.0,1000.0,2200.0,1200.0,1100.0,1700.0,1300.0,3000.0,1600.0,1300.0,1700.0,1200.0,1400.0,1600.0,1400.0,1500.0,1800.0,1100.0,1500.0,1900.0,3400.0,3000.0,1300.0,1000.0,1500.0,1500.0,1400.0,1600.0,1400.0,1400.0,2000.0,1300.0,1400.0,1400.0,1500.0,1500.0,1700.0,2100.0,1300.0,1300.0,2200.0,1400.0,1400.0,1800.0,2000.0,1100.0,1300.0,1800.0,1300.0,1600.0,1400.0,1400.0,1400.0,1500.0,1500.0,1400.0,2500.0,1700.0,1600.0,1500.0,1400.0,1500.0,1400.0,1100.0,1800.0,2000.0,1800.0,1600.0,1700.0,1300.0,1300.0,1600.0,1800.0,1300.0,1700.0,1700.0,1300.0,1500.0,1500.0,1300.0,1900.0,1400.0,1800.0,1200.0,1500.0,1100.0,1300.0,1100.0,2300.0,1900.0,1600.0,1500.0,1500.0,1200.0,1400.0,2200.0,1700.0,1400.0,1500.0,1400.0,2200.0,1300.0,1700.0,1500.0,1400.0,1500.0,1600.0,3900.0,1500.0,1200.0,1400.0,1700.0,1500.0,1400.0,1300.0,1900.0,1900.0,1900.0,1300.0,1300.0,1700.0,1200.0,2000.0,1500.0,3900.0,1600.0,1800.0,1500.0,1200.0,2300.0,1600.0,1600.0,2100.0,1500.0,1200.0,2200.0,1700.0,1900.0,1600.0,2400.0,1400.0,1500.0,2300.0,1500.0,2200.0,1600.0,1600.0,2200.0,1200.0,2900.0,1900.0,1600.0,1300.0,1300.0,1800.0,1600.0,1500.0,1300.0,1400.0,1400.0,1500.0,3900.0,1700.0,1100.0,1300.0,1600.0,1600.0,1800.0,2100.0,1300.0,2100.0,1200.0,1200.0,1600.0,3900.0,1500.0,1500.0,2400.0,1400.0,1900.0,2300.0,1500.0,1800.0,1500.0,1500.0,1700.0,1800.0,1500.0,1100.0,1300.0,1800.0,1300.0,1400.0,1500.0,1100.0,1700.0,1600.0,1300.0,1600.0,1900.0,1300.0,1800.0,1900.0,1600.0,1500.0,1500.0,1600.0,1400.0],\"y0\":\" \",\"yaxis\":\"y\",\"type\":\"box\"}],                        {\"template\":{\"data\":{\"histogram2dcontour\":[{\"type\":\"histogram2dcontour\",\"colorbar\":{\"outlinewidth\":0,\"ticks\":\"\"},\"colorscale\":[[0.0,\"#0d0887\"],[0.1111111111111111,\"#46039f\"],[0.2222222222222222,\"#7201a8\"],[0.3333333333333333,\"#9c179e\"],[0.4444444444444444,\"#bd3786\"],[0.5555555555555556,\"#d8576b\"],[0.6666666666666666,\"#ed7953\"],[0.7777777777777778,\"#fb9f3a\"],[0.8888888888888888,\"#fdca26\"],[1.0,\"#f0f921\"]]}],\"choropleth\":[{\"type\":\"choropleth\",\"colorbar\":{\"outlinewidth\":0,\"ticks\":\"\"}}],\"histogram2d\":[{\"type\":\"histogram2d\",\"colorbar\":{\"outlinewidth\":0,\"ticks\":\"\"},\"colorscale\":[[0.0,\"#0d0887\"],[0.1111111111111111,\"#46039f\"],[0.2222222222222222,\"#7201a8\"],[0.3333333333333333,\"#9c179e\"],[0.4444444444444444,\"#bd3786\"],[0.5555555555555556,\"#d8576b\"],[0.6666666666666666,\"#ed7953\"],[0.7777777777777778,\"#fb9f3a\"],[0.8888888888888888,\"#fdca26\"],[1.0,\"#f0f921\"]]}],\"heatmap\":[{\"type\":\"heatmap\",\"colorbar\":{\"outlinewidth\":0,\"ticks\":\"\"},\"colorscale\":[[0.0,\"#0d0887\"],[0.1111111111111111,\"#46039f\"],[0.2222222222222222,\"#7201a8\"],[0.3333333333333333,\"#9c179e\"],[0.4444444444444444,\"#bd3786\"],[0.5555555555555556,\"#d8576b\"],[0.6666666666666666,\"#ed7953\"],[0.7777777777777778,\"#fb9f3a\"],[0.8888888888888888,\"#fdca26\"],[1.0,\"#f0f921\"]]}],\"heatmapgl\":[{\"type\":\"heatmapgl\",\"colorbar\":{\"outlinewidth\":0,\"ticks\":\"\"},\"colorscale\":[[0.0,\"#0d0887\"],[0.1111111111111111,\"#46039f\"],[0.2222222222222222,\"#7201a8\"],[0.3333333333333333,\"#9c179e\"],[0.4444444444444444,\"#bd3786\"],[0.5555555555555556,\"#d8576b\"],[0.6666666666666666,\"#ed7953\"],[0.7777777777777778,\"#fb9f3a\"],[0.8888888888888888,\"#fdca26\"],[1.0,\"#f0f921\"]]}],\"contourcarpet\":[{\"type\":\"contourcarpet\",\"colorbar\":{\"outlinewidth\":0,\"ticks\":\"\"}}],\"contour\":[{\"type\":\"contour\",\"colorbar\":{\"outlinewidth\":0,\"ticks\":\"\"},\"colorscale\":[[0.0,\"#0d0887\"],[0.1111111111111111,\"#46039f\"],[0.2222222222222222,\"#7201a8\"],[0.3333333333333333,\"#9c179e\"],[0.4444444444444444,\"#bd3786\"],[0.5555555555555556,\"#d8576b\"],[0.6666666666666666,\"#ed7953\"],[0.7777777777777778,\"#fb9f3a\"],[0.8888888888888888,\"#fdca26\"],[1.0,\"#f0f921\"]]}],\"surface\":[{\"type\":\"surface\",\"colorbar\":{\"outlinewidth\":0,\"ticks\":\"\"},\"colorscale\":[[0.0,\"#0d0887\"],[0.1111111111111111,\"#46039f\"],[0.2222222222222222,\"#7201a8\"],[0.3333333333333333,\"#9c179e\"],[0.4444444444444444,\"#bd3786\"],[0.5555555555555556,\"#d8576b\"],[0.6666666666666666,\"#ed7953\"],[0.7777777777777778,\"#fb9f3a\"],[0.8888888888888888,\"#fdca26\"],[1.0,\"#f0f921\"]]}],\"mesh3d\":[{\"type\":\"mesh3d\",\"colorbar\":{\"outlinewidth\":0,\"ticks\":\"\"}}],\"scatter\":[{\"fillpattern\":{\"fillmode\":\"overlay\",\"size\":10,\"solidity\":0.2},\"type\":\"scatter\"}],\"parcoords\":[{\"type\":\"parcoords\",\"line\":{\"colorbar\":{\"outlinewidth\":0,\"ticks\":\"\"}}}],\"scatterpolargl\":[{\"type\":\"scatterpolargl\",\"marker\":{\"colorbar\":{\"outlinewidth\":0,\"ticks\":\"\"}}}],\"bar\":[{\"error_x\":{\"color\":\"#2a3f5f\"},\"error_y\":{\"color\":\"#2a3f5f\"},\"marker\":{\"line\":{\"color\":\"#E5ECF6\",\"width\":0.5},\"pattern\":{\"fillmode\":\"overlay\",\"size\":10,\"solidity\":0.2}},\"type\":\"bar\"}],\"scattergeo\":[{\"type\":\"scattergeo\",\"marker\":{\"colorbar\":{\"outlinewidth\":0,\"ticks\":\"\"}}}],\"scatterpolar\":[{\"type\":\"scatterpolar\",\"marker\":{\"colorbar\":{\"outlinewidth\":0,\"ticks\":\"\"}}}],\"histogram\":[{\"marker\":{\"pattern\":{\"fillmode\":\"overlay\",\"size\":10,\"solidity\":0.2}},\"type\":\"histogram\"}],\"scattergl\":[{\"type\":\"scattergl\",\"marker\":{\"colorbar\":{\"outlinewidth\":0,\"ticks\":\"\"}}}],\"scatter3d\":[{\"type\":\"scatter3d\",\"line\":{\"colorbar\":{\"outlinewidth\":0,\"ticks\":\"\"}},\"marker\":{\"colorbar\":{\"outlinewidth\":0,\"ticks\":\"\"}}}],\"scattermapbox\":[{\"type\":\"scattermapbox\",\"marker\":{\"colorbar\":{\"outlinewidth\":0,\"ticks\":\"\"}}}],\"scatterternary\":[{\"type\":\"scatterternary\",\"marker\":{\"colorbar\":{\"outlinewidth\":0,\"ticks\":\"\"}}}],\"scattercarpet\":[{\"type\":\"scattercarpet\",\"marker\":{\"colorbar\":{\"outlinewidth\":0,\"ticks\":\"\"}}}],\"carpet\":[{\"aaxis\":{\"endlinecolor\":\"#2a3f5f\",\"gridcolor\":\"white\",\"linecolor\":\"white\",\"minorgridcolor\":\"white\",\"startlinecolor\":\"#2a3f5f\"},\"baxis\":{\"endlinecolor\":\"#2a3f5f\",\"gridcolor\":\"white\",\"linecolor\":\"white\",\"minorgridcolor\":\"white\",\"startlinecolor\":\"#2a3f5f\"},\"type\":\"carpet\"}],\"table\":[{\"cells\":{\"fill\":{\"color\":\"#EBF0F8\"},\"line\":{\"color\":\"white\"}},\"header\":{\"fill\":{\"color\":\"#C8D4E3\"},\"line\":{\"color\":\"white\"}},\"type\":\"table\"}],\"barpolar\":[{\"marker\":{\"line\":{\"color\":\"#E5ECF6\",\"width\":0.5},\"pattern\":{\"fillmode\":\"overlay\",\"size\":10,\"solidity\":0.2}},\"type\":\"barpolar\"}],\"pie\":[{\"automargin\":true,\"type\":\"pie\"}]},\"layout\":{\"autotypenumbers\":\"strict\",\"colorway\":[\"#636efa\",\"#EF553B\",\"#00cc96\",\"#ab63fa\",\"#FFA15A\",\"#19d3f3\",\"#FF6692\",\"#B6E880\",\"#FF97FF\",\"#FECB52\"],\"font\":{\"color\":\"#2a3f5f\"},\"hovermode\":\"closest\",\"hoverlabel\":{\"align\":\"left\"},\"paper_bgcolor\":\"white\",\"plot_bgcolor\":\"#E5ECF6\",\"polar\":{\"bgcolor\":\"#E5ECF6\",\"angularaxis\":{\"gridcolor\":\"white\",\"linecolor\":\"white\",\"ticks\":\"\"},\"radialaxis\":{\"gridcolor\":\"white\",\"linecolor\":\"white\",\"ticks\":\"\"}},\"ternary\":{\"bgcolor\":\"#E5ECF6\",\"aaxis\":{\"gridcolor\":\"white\",\"linecolor\":\"white\",\"ticks\":\"\"},\"baxis\":{\"gridcolor\":\"white\",\"linecolor\":\"white\",\"ticks\":\"\"},\"caxis\":{\"gridcolor\":\"white\",\"linecolor\":\"white\",\"ticks\":\"\"}},\"coloraxis\":{\"colorbar\":{\"outlinewidth\":0,\"ticks\":\"\"}},\"colorscale\":{\"sequential\":[[0.0,\"#0d0887\"],[0.1111111111111111,\"#46039f\"],[0.2222222222222222,\"#7201a8\"],[0.3333333333333333,\"#9c179e\"],[0.4444444444444444,\"#bd3786\"],[0.5555555555555556,\"#d8576b\"],[0.6666666666666666,\"#ed7953\"],[0.7777777777777778,\"#fb9f3a\"],[0.8888888888888888,\"#fdca26\"],[1.0,\"#f0f921\"]],\"sequentialminus\":[[0.0,\"#0d0887\"],[0.1111111111111111,\"#46039f\"],[0.2222222222222222,\"#7201a8\"],[0.3333333333333333,\"#9c179e\"],[0.4444444444444444,\"#bd3786\"],[0.5555555555555556,\"#d8576b\"],[0.6666666666666666,\"#ed7953\"],[0.7777777777777778,\"#fb9f3a\"],[0.8888888888888888,\"#fdca26\"],[1.0,\"#f0f921\"]],\"diverging\":[[0,\"#8e0152\"],[0.1,\"#c51b7d\"],[0.2,\"#de77ae\"],[0.3,\"#f1b6da\"],[0.4,\"#fde0ef\"],[0.5,\"#f7f7f7\"],[0.6,\"#e6f5d0\"],[0.7,\"#b8e186\"],[0.8,\"#7fbc41\"],[0.9,\"#4d9221\"],[1,\"#276419\"]]},\"xaxis\":{\"gridcolor\":\"white\",\"linecolor\":\"white\",\"ticks\":\"\",\"title\":{\"standoff\":15},\"zerolinecolor\":\"white\",\"automargin\":true,\"zerolinewidth\":2},\"yaxis\":{\"gridcolor\":\"white\",\"linecolor\":\"white\",\"ticks\":\"\",\"title\":{\"standoff\":15},\"zerolinecolor\":\"white\",\"automargin\":true,\"zerolinewidth\":2},\"scene\":{\"xaxis\":{\"backgroundcolor\":\"#E5ECF6\",\"gridcolor\":\"white\",\"linecolor\":\"white\",\"showbackground\":true,\"ticks\":\"\",\"zerolinecolor\":\"white\",\"gridwidth\":2},\"yaxis\":{\"backgroundcolor\":\"#E5ECF6\",\"gridcolor\":\"white\",\"linecolor\":\"white\",\"showbackground\":true,\"ticks\":\"\",\"zerolinecolor\":\"white\",\"gridwidth\":2},\"zaxis\":{\"backgroundcolor\":\"#E5ECF6\",\"gridcolor\":\"white\",\"linecolor\":\"white\",\"showbackground\":true,\"ticks\":\"\",\"zerolinecolor\":\"white\",\"gridwidth\":2}},\"shapedefaults\":{\"line\":{\"color\":\"#2a3f5f\"}},\"annotationdefaults\":{\"arrowcolor\":\"#2a3f5f\",\"arrowhead\":0,\"arrowwidth\":1},\"geo\":{\"bgcolor\":\"white\",\"landcolor\":\"#E5ECF6\",\"subunitcolor\":\"white\",\"showland\":true,\"showlakes\":true,\"lakecolor\":\"white\"},\"title\":{\"x\":0.05},\"mapbox\":{\"style\":\"light\"}}},\"xaxis\":{\"anchor\":\"y\",\"domain\":[0.0,1.0]},\"yaxis\":{\"anchor\":\"x\",\"domain\":[0.0,1.0],\"title\":{\"text\":\"total_claims\"}},\"legend\":{\"tracegroupgap\":0},\"title\":{\"text\":\"Total Claims Distribution\"},\"boxmode\":\"group\"},                        {\"responsive\": true}                    ).then(function(){\n",
              "                            \n",
              "var gd = document.getElementById('766d7e5c-78e8-4d14-ab6d-bddef0d69363');\n",
              "var x = new MutationObserver(function (mutations, observer) {{\n",
              "        var display = window.getComputedStyle(gd).display;\n",
              "        if (!display || display === 'none') {{\n",
              "            console.log([gd, 'removed!']);\n",
              "            Plotly.purge(gd);\n",
              "            observer.disconnect();\n",
              "        }}\n",
              "}});\n",
              "\n",
              "// Listen for the removal of the full notebook cells\n",
              "var notebookContainer = gd.closest('#notebook-container');\n",
              "if (notebookContainer) {{\n",
              "    x.observe(notebookContainer, {childList: true});\n",
              "}}\n",
              "\n",
              "// Listen for the clearing of the current output cell\n",
              "var outputEl = gd.closest('.output');\n",
              "if (outputEl) {{\n",
              "    x.observe(outputEl, {childList: true});\n",
              "}}\n",
              "\n",
              "                        })                };                            </script>        </div>\n",
              "</body>\n",
              "</html>"
            ]
          },
          "metadata": {}
        }
      ]
    },
    {
      "cell_type": "markdown",
      "source": [
        "**Why choose this plot?**\n",
        "\n",
        "Box plot succinctly summarizes the distribution of total claims—showing central tendency, spread, and outliers in a single view.\n",
        "\n",
        "**Insight:**\n",
        "\n",
        "Median total claims is 1,200 with an IQR from 400 to 1,800, and capped at 3,900; this highlights moderate variability in patient costs and identifies extreme high-cost cases for targeted analysis.\n",
        "\n",
        "---------------------------------"
      ],
      "metadata": {
        "id": "Pza-HowgMxfS"
      }
    },
    {
      "cell_type": "markdown",
      "source": [
        "## **8.  Conditions per patient**"
      ],
      "metadata": {
        "id": "7ewJhDamM3Z9"
      }
    },
    {
      "cell_type": "code",
      "source": [
        "\n",
        "px.histogram(df_plot, x=\"num_conditions\", title=\"Number of Conditions per Patient\")\n",
        "\n"
      ],
      "metadata": {
        "colab": {
          "base_uri": "https://localhost:8080/",
          "height": 542
        },
        "id": "AC9nbPr56pmn",
        "outputId": "01fd80c8-fcd5-4043-abc9-f5480126cf09"
      },
      "execution_count": 28,
      "outputs": [
        {
          "output_type": "display_data",
          "data": {
            "text/html": [
              "<html>\n",
              "<head><meta charset=\"utf-8\" /></head>\n",
              "<body>\n",
              "    <div>            <script src=\"https://cdnjs.cloudflare.com/ajax/libs/mathjax/2.7.5/MathJax.js?config=TeX-AMS-MML_SVG\"></script><script type=\"text/javascript\">if (window.MathJax && window.MathJax.Hub && window.MathJax.Hub.Config) {window.MathJax.Hub.Config({SVG: {font: \"STIX-Web\"}});}</script>                <script type=\"text/javascript\">window.PlotlyConfig = {MathJaxConfig: 'local'};</script>\n",
              "        <script charset=\"utf-8\" src=\"https://cdn.plot.ly/plotly-2.35.2.min.js\"></script>                <div id=\"eadb93f9-0c4d-467b-8f28-47813f45d5ef\" class=\"plotly-graph-div\" style=\"height:525px; width:100%;\"></div>            <script type=\"text/javascript\">                                    window.PLOTLYENV=window.PLOTLYENV || {};                                    if (document.getElementById(\"eadb93f9-0c4d-467b-8f28-47813f45d5ef\")) {                    Plotly.newPlot(                        \"eadb93f9-0c4d-467b-8f28-47813f45d5ef\",                        [{\"alignmentgroup\":\"True\",\"bingroup\":\"x\",\"hovertemplate\":\"num_conditions=%{x}\\u003cbr\\u003ecount=%{y}\\u003cextra\\u003e\\u003c\\u002fextra\\u003e\",\"legendgroup\":\"\",\"marker\":{\"color\":\"#636efa\",\"pattern\":{\"shape\":\"\"}},\"name\":\"\",\"offsetgroup\":\"\",\"orientation\":\"v\",\"showlegend\":false,\"x\":[0.0,1.0,9.0,10.0,9.0,4.0,11.0,8.0,11.0,5.0,9.0,5.0,4.0,8.0,10.0,7.0,7.0,4.0,2.0,9.0,8.0,6.0,9.0,9.0,3.0,13.0,11.0,6.0,3.0,10.0,2.0,11.0,10.0,12.0,9.0,8.0,4.0,11.0,6.0,2.0,3.0,7.0,5.0,9.0,12.0,7.0,0.0,12.0,4.0,4.0,7.0,5.0,4.0,0.0,7.0,1.0,4.0,3.0,9.0,5.0,5.0,4.0,5.0,2.0,6.0,5.0,9.0,8.0,2.0,6.0,0.0,4.0,4.0,2.0,2.0,2.0,13.0,2.0,7.0,7.0,6.0,2.0,8.0,5.0,10.0,4.0,8.0,5.0,5.0,7.0,2.0,3.0,4.0,3.0,13.0,1.0,5.0,3.0,10.0,3.0,3.0,8.0,2.0,4.0,4.0,3.0,4.0,3.0,3.0,1.0,5.0,3.0,5.0,3.0,3.0,5.0,4.0,0.0,2.0,4.0,3.0,5.0,4.0,1.0,3.0,2.0,2.0,7.0,4.0,1.0,6.0,5.0,0.0,8.0,8.0,4.0,0.0,1.0,4.0,3.0,3.0,1.0,6.0,5.0,5.0,9.0,2.0,4.0,4.0,6.0,1.0,2.0,1.0,2.0,2.0,6.0,4.0,4.0,4.0,4.0,2.0,3.0,2.0,2.0,1.0,3.0,2.0,1.0,8.0,3.0,3.0,1.0,3.0,1.0,4.0,1.0,2.0,9.0,3.0,7.0,4.0,3.0,3.0,7.0,3.0,1.0,4.0,3.0,3.0,2.0,4.0,7.0,7.0,3.0,1.0,3.0,0.0,6.0,5.0,7.0,4.0,8.0,6.0,8.0,4.0,6.0,4.0,6.0,5.0,1.0,6.0,4.0,2.0,6.0,2.0,2.0,2.0,4.0,7.0,8.0,6.0,3.0,6.0,3.0,6.0,2.0,12.0,1.0,0.0,6.0,8.0,6.0,3.0,2.0,0.0,6.0,5.0,1.0,2.0,4.0,6.0,11.0,3.0,1.0,11.0,7.0,5.0,3.0,6.0,1.0,1.0,1.0,1.0,5.0,1.0,6.0,6.0,5.0,7.0,6.0,5.0,5.0,10.0,3.0,2.0,2.0,2.0,4.0,3.0,5.0,2.0,3.0,5.0,6.0,3.0,3.0,2.0,4.0,5.0,6.0,3.0,6.0,8.0,7.0,3.0,3.0,5.0,11.0,1.0,3.0,4.0,5.0,3.0,8.0,4.0,7.0,3.0,2.0,0.0,5.0,2.0,5.0,4.0,2.0,7.0,0.0,6.0,5.0,0.0,2.0,2.0,3.0,5.0,2.0,5.0,5.0,0.0,2.0,1.0,2.0,2.0,3.0,2.0,1.0,3.0,3.0,1.0,5.0,5.0,2.0,0.0,3.0,3.0,1.0,6.0,4.0,4.0,11.0,3.0,3.0,7.0,0.0,2.0,1.0,2.0,13.0,3.0,0.0,0.0,6.0,6.0,6.0,4.0,4.0,1.0,2.0,0.0,1.0,3.0,4.0,5.0,1.0,7.0,1.0,4.0,5.0,2.0,9.0,4.0,13.0,1.0,7.0,5.0,1.0,2.0,3.0,2.0,4.0,1.0,3.0,0.0,4.0,4.0,2.0,2.0,8.0,5.0,1.0,3.0,2.0,4.0,4.0,2.0,5.0,3.0,0.0,4.0,2.0,7.0,4.0,8.0,3.0,3.0,0.0,4.0,2.0,5.0,1.0,3.0,1.0,4.0,0.0,3.0,3.0,2.0,2.0,2.0,6.0,6.0,2.0,5.0,2.0,2.0,2.0,0.0,6.0,3.0,3.0,3.0,3.0,1.0,1.0,3.0,3.0,5.0,2.0,4.0,3.0,0.0,1.0,4.0,1.0,1.0,5.0,0.0,1.0,6.0,2.0,2.0,3.0,3.0,3.0,5.0,3.0,4.0,2.0,0.0,9.0,6.0,4.0,6.0,4.0,7.0,4.0,4.0,13.0,5.0,7.0,10.0,7.0,0.0,0.0,0.0,0.0,0.0,0.0,0.0,0.0,0.0,0.0,0.0,0.0,0.0,0.0,0.0,0.0,0.0,0.0,0.0,0.0,0.0,0.0,0.0,1.0,0.0,3.0,1.0,1.0,0.0,0.0,2.0,0.0,4.0,1.0,3.0,2.0,2.0,1.0,2.0,1.0,1.0,1.0,0.0,2.0,1.0,2.0,2.0,1.0,0.0,3.0,3.0,3.0,1.0,1.0,1.0,2.0,3.0,0.0,1.0,4.0,2.0,3.0,4.0,0.0,4.0,2.0,5.0,2.0,2.0,1.0,2.0,4.0,1.0,1.0,3.0,5.0,4.0,3.0,5.0,3.0,4.0,4.0,3.0,4.0,3.0,3.0,1.0,3.0,2.0,6.0,5.0,1.0,1.0,4.0,3.0,5.0,4.0,7.0,1.0,6.0,3.0,1.0,4.0,7.0,7.0,2.0,6.0,2.0,5.0,5.0,4.0,4.0,3.0,1.0,7.0,4.0,3.0,4.0,3.0,3.0,6.0,2.0,5.0,7.0,6.0,4.0,2.0,5.0,5.0,6.0,3.0,7.0,6.0,4.0,7.0,6.0,3.0,4.0,6.0,4.0,7.0,7.0,6.0,4.0,4.0,4.0,8.0,6.0,5.0,3.0,5.0,4.0,6.0,3.0,11.0,3.0,6.0,10.0,3.0,3.0,3.0,4.0,4.0,6.0,4.0,3.0,4.0,3.0,2.0,3.0,6.0,6.0,1.0,4.0,7.0,4.0,5.0,5.0,3.0,5.0,5.0,9.0,3.0,7.0,10.0,5.0,8.0,7.0,7.0,9.0,5.0,9.0,2.0,8.0,6.0,3.0,3.0,2.0,4.0,1.0,4.0,6.0,2.0,2.0,3.0,6.0,4.0,7.0,4.0,4.0,3.0,3.0,10.0,4.0,3.0,5.0,7.0,2.0,5.0,4.0,7.0,2.0,5.0,5.0,3.0,3.0,2.0,11.0,4.0,2.0,5.0,2.0,2.0,9.0,9.0,5.0,2.0,3.0,2.0,2.0,7.0,5.0,6.0,4.0,4.0,4.0,3.0,2.0,1.0,5.0,4.0,4.0,4.0,6.0,6.0,5.0,5.0,5.0,2.0,6.0,7.0,3.0,4.0,4.0,6.0,3.0,3.0,6.0,3.0,2.0,3.0,1.0,4.0,5.0,3.0,4.0,5.0,2.0,1.0,3.0,3.0,6.0,6.0,2.0,3.0,9.0,6.0,9.0,7.0,8.0,10.0,6.0,7.0,4.0,6.0,3.0,2.0,5.0,7.0,3.0,4.0,2.0,5.0,2.0,4.0,3.0,3.0,4.0,2.0,5.0,2.0,3.0,5.0,4.0,5.0,3.0,1.0,5.0,4.0,7.0,3.0,7.0,3.0,10.0,6.0,3.0,4.0,3.0,6.0,2.0,9.0,6.0,3.0,6.0,3.0,5.0,1.0,11.0,8.0,6.0,2.0,7.0,4.0,8.0,2.0,7.0,5.0,6.0,5.0,7.0,13.0,1.0,9.0,6.0,7.0,5.0,6.0,3.0,7.0,5.0,5.0,5.0,4.0,3.0,7.0,2.0,3.0,4.0,5.0,8.0,5.0,13.0,8.0,2.0,3.0,3.0,4.0,5.0,10.0,8.0,10.0,7.0,11.0,3.0,11.0,4.0,1.0,3.0,5.0,5.0,7.0,7.0,8.0,2.0,3.0,5.0,6.0,7.0,9.0,4.0,6.0,4.0,6.0,11.0,3.0,6.0,10.0,2.0,9.0,3.0,3.0,5.0,6.0,5.0,4.0,8.0,8.0,5.0,6.0,2.0,1.0,5.0,2.0,6.0,4.0,1.0,11.0,6.0,12.0,6.0,1.0,1.0,3.0,8.0,8.0,3.0,11.0,8.0,3.0,11.0,4.0,2.0,4.0,9.0,5.0,5.0,6.0,3.0,3.0,9.0,7.0,5.0,11.0,3.0,5.0,6.0,3.0,11.0,5.0,8.0,6.0,5.0,6.0,3.0,8.0,3.0,4.0,5.0,3.0,1.0,12.0,10.0,7.0,6.0,13.0,3.0,3.0,7.0,3.0,2.0,5.0,5.0,5.0,5.0,5.0,12.0,1.0,9.0,12.0,11.0,4.0,8.0,13.0,9.0,6.0,1.0,3.0,8.0,6.0,6.0,9.0,2.0,6.0,1.0,8.0,6.0,5.0,6.0,2.0,8.0,5.0,7.0,1.0,13.0,3.0,6.0,1.0,2.0,5.0,5.0,2.0,5.0,5.0,4.0,5.0,2.0,4.0,5.0,4.0,8.0,6.0,7.0,3.0,3.0,13.0,9.0,6.0,4.0,9.0,4.0,13.0,3.0,11.0,2.0,3.0,10.0,2.0,4.0,4.0,5.0,6.0,7.0,4.0,3.0,8.0,8.0,6.0,4.0,4.0,6.0,9.0,8.0,4.0,4.0,5.0,8.0,3.0,2.0,4.0,6.0,9.0,3.0,3.0,5.0,3.0,3.0,6.0,1.0,3.0,8.0,9.0,3.0,4.0,11.0,4.0,4.0,1.0,5.0,2.0,4.0,5.0,3.0,5.0,7.0,7.0,3.0,2.0,3.0,9.0,3.0,4.0,2.0,10.0,3.0,3.0,9.0,3.0,5.0,6.0,1.0,4.0,11.0,4.0,3.0,1.0,2.0,4.0,4.0,4.0,10.0,3.0,6.0,6.0,7.0,4.0,8.0,8.0,8.0,3.0,13.0,9.0,3.0,5.0,9.0,3.0,11.0,5.0,4.0,7.0,3.0,5.0,1.0,4.0,5.0,6.0,6.0,7.0,7.0,7.0,5.0,4.0,2.0,3.0,2.0,6.0,5.0,13.0,4.0,9.0,3.0,4.0,6.0,9.0,7.0,3.0,3.0,5.0,2.0,6.0,5.0,2.0,4.0,3.0,9.0,4.0,6.0,3.0,7.0,7.0,6.0,2.0,8.0,5.0,5.0,7.0,6.0,7.0,5.0,7.0,8.0,3.0,2.0,3.0,3.0,9.0,3.0,3.0,8.0,4.0,3.0,7.0,2.0,10.0,7.0,3.0,6.0,2.0,7.0,4.0,5.0,6.0,1.0,9.0,10.0,9.0,1.0,4.0,3.0,8.0,7.0,5.0,4.0,4.0,3.0,6.0,7.0,2.0,4.0,5.0,4.0,6.0,5.0,4.0,1.0,3.0,3.0,8.0,7.0,8.0,13.0,7.0,7.0,5.0,6.0,3.0,4.0,6.0,6.0,2.0,5.0,4.0,6.0,8.0,3.0,8.0,9.0,6.0,6.0,5.0,6.0,6.0,10.0,3.0,4.0,3.0,10.0,6.0,7.0,6.0,2.0,3.0,2.0,9.0,2.0,11.0,8.0,7.0,3.0,2.0,4.0,4.0,6.0,8.0,7.0,1.0,4.0,12.0,10.0,3.0,3.0,6.0,11.0,6.0,6.0,5.0,4.0,6.0,8.0,9.0,4.0,4.0,7.0,4.0,10.0,5.0,7.0,5.0,5.0,7.0,7.0,5.0,5.0,5.0,3.0,7.0,3.0,4.0,4.0,5.0,4.0,13.0,8.0,4.0,3.0,5.0,5.0,4.0,5.0,7.0,2.0,5.0,8.0,7.0,6.0,4.0,5.0,4.0,5.0,5.0,3.0,10.0,7.0,2.0,4.0,8.0,4.0,3.0,2.0,6.0,7.0,4.0,7.0,7.0,5.0,8.0,7.0,7.0,2.0,7.0,8.0,7.0,3.0,5.0,2.0,5.0,7.0,11.0,2.0,3.0,3.0,1.0,4.0,11.0,9.0,7.0,3.0,8.0,3.0,6.0,12.0,7.0,3.0,3.0,3.0,10.0,2.0,6.0,7.0,7.0,4.0,9.0,13.0,4.0,8.0,7.0,9.0,2.0,5.0,4.0,6.0,4.0,9.0,7.0,3.0,7.0,3.0,10.0,6.0,9.0,7.0,7.0,9.0,3.0,13.0,6.0,5.0,11.0,4.0,5.0,13.0,7.0,7.0,7.0,8.0,4.0,6.0,6.0,13.0,10.0,9.0,7.0,9.0,6.0,13.0,13.0,7.0,2.0,7.0,8.0,6.0,8.0,3.0,9.0,4.0,5.0,13.0,7.0,3.0,7.0,10.0,10.0,10.0,10.0,3.0,9.0,4.0,8.0,7.0,7.0,6.0,4.0,12.0,6.0,7.0,11.0,6.0,7.0,4.0,10.0,8.0,8.0,7.0,5.0,7.0,6.0,3.0,4.0,6.0,3.0,10.0,5.0,2.0,7.0,12.0,6.0,10.0,9.0,8.0,10.0,9.0,9.0,4.0],\"xaxis\":\"x\",\"yaxis\":\"y\",\"type\":\"histogram\"}],                        {\"template\":{\"data\":{\"histogram2dcontour\":[{\"type\":\"histogram2dcontour\",\"colorbar\":{\"outlinewidth\":0,\"ticks\":\"\"},\"colorscale\":[[0.0,\"#0d0887\"],[0.1111111111111111,\"#46039f\"],[0.2222222222222222,\"#7201a8\"],[0.3333333333333333,\"#9c179e\"],[0.4444444444444444,\"#bd3786\"],[0.5555555555555556,\"#d8576b\"],[0.6666666666666666,\"#ed7953\"],[0.7777777777777778,\"#fb9f3a\"],[0.8888888888888888,\"#fdca26\"],[1.0,\"#f0f921\"]]}],\"choropleth\":[{\"type\":\"choropleth\",\"colorbar\":{\"outlinewidth\":0,\"ticks\":\"\"}}],\"histogram2d\":[{\"type\":\"histogram2d\",\"colorbar\":{\"outlinewidth\":0,\"ticks\":\"\"},\"colorscale\":[[0.0,\"#0d0887\"],[0.1111111111111111,\"#46039f\"],[0.2222222222222222,\"#7201a8\"],[0.3333333333333333,\"#9c179e\"],[0.4444444444444444,\"#bd3786\"],[0.5555555555555556,\"#d8576b\"],[0.6666666666666666,\"#ed7953\"],[0.7777777777777778,\"#fb9f3a\"],[0.8888888888888888,\"#fdca26\"],[1.0,\"#f0f921\"]]}],\"heatmap\":[{\"type\":\"heatmap\",\"colorbar\":{\"outlinewidth\":0,\"ticks\":\"\"},\"colorscale\":[[0.0,\"#0d0887\"],[0.1111111111111111,\"#46039f\"],[0.2222222222222222,\"#7201a8\"],[0.3333333333333333,\"#9c179e\"],[0.4444444444444444,\"#bd3786\"],[0.5555555555555556,\"#d8576b\"],[0.6666666666666666,\"#ed7953\"],[0.7777777777777778,\"#fb9f3a\"],[0.8888888888888888,\"#fdca26\"],[1.0,\"#f0f921\"]]}],\"heatmapgl\":[{\"type\":\"heatmapgl\",\"colorbar\":{\"outlinewidth\":0,\"ticks\":\"\"},\"colorscale\":[[0.0,\"#0d0887\"],[0.1111111111111111,\"#46039f\"],[0.2222222222222222,\"#7201a8\"],[0.3333333333333333,\"#9c179e\"],[0.4444444444444444,\"#bd3786\"],[0.5555555555555556,\"#d8576b\"],[0.6666666666666666,\"#ed7953\"],[0.7777777777777778,\"#fb9f3a\"],[0.8888888888888888,\"#fdca26\"],[1.0,\"#f0f921\"]]}],\"contourcarpet\":[{\"type\":\"contourcarpet\",\"colorbar\":{\"outlinewidth\":0,\"ticks\":\"\"}}],\"contour\":[{\"type\":\"contour\",\"colorbar\":{\"outlinewidth\":0,\"ticks\":\"\"},\"colorscale\":[[0.0,\"#0d0887\"],[0.1111111111111111,\"#46039f\"],[0.2222222222222222,\"#7201a8\"],[0.3333333333333333,\"#9c179e\"],[0.4444444444444444,\"#bd3786\"],[0.5555555555555556,\"#d8576b\"],[0.6666666666666666,\"#ed7953\"],[0.7777777777777778,\"#fb9f3a\"],[0.8888888888888888,\"#fdca26\"],[1.0,\"#f0f921\"]]}],\"surface\":[{\"type\":\"surface\",\"colorbar\":{\"outlinewidth\":0,\"ticks\":\"\"},\"colorscale\":[[0.0,\"#0d0887\"],[0.1111111111111111,\"#46039f\"],[0.2222222222222222,\"#7201a8\"],[0.3333333333333333,\"#9c179e\"],[0.4444444444444444,\"#bd3786\"],[0.5555555555555556,\"#d8576b\"],[0.6666666666666666,\"#ed7953\"],[0.7777777777777778,\"#fb9f3a\"],[0.8888888888888888,\"#fdca26\"],[1.0,\"#f0f921\"]]}],\"mesh3d\":[{\"type\":\"mesh3d\",\"colorbar\":{\"outlinewidth\":0,\"ticks\":\"\"}}],\"scatter\":[{\"fillpattern\":{\"fillmode\":\"overlay\",\"size\":10,\"solidity\":0.2},\"type\":\"scatter\"}],\"parcoords\":[{\"type\":\"parcoords\",\"line\":{\"colorbar\":{\"outlinewidth\":0,\"ticks\":\"\"}}}],\"scatterpolargl\":[{\"type\":\"scatterpolargl\",\"marker\":{\"colorbar\":{\"outlinewidth\":0,\"ticks\":\"\"}}}],\"bar\":[{\"error_x\":{\"color\":\"#2a3f5f\"},\"error_y\":{\"color\":\"#2a3f5f\"},\"marker\":{\"line\":{\"color\":\"#E5ECF6\",\"width\":0.5},\"pattern\":{\"fillmode\":\"overlay\",\"size\":10,\"solidity\":0.2}},\"type\":\"bar\"}],\"scattergeo\":[{\"type\":\"scattergeo\",\"marker\":{\"colorbar\":{\"outlinewidth\":0,\"ticks\":\"\"}}}],\"scatterpolar\":[{\"type\":\"scatterpolar\",\"marker\":{\"colorbar\":{\"outlinewidth\":0,\"ticks\":\"\"}}}],\"histogram\":[{\"marker\":{\"pattern\":{\"fillmode\":\"overlay\",\"size\":10,\"solidity\":0.2}},\"type\":\"histogram\"}],\"scattergl\":[{\"type\":\"scattergl\",\"marker\":{\"colorbar\":{\"outlinewidth\":0,\"ticks\":\"\"}}}],\"scatter3d\":[{\"type\":\"scatter3d\",\"line\":{\"colorbar\":{\"outlinewidth\":0,\"ticks\":\"\"}},\"marker\":{\"colorbar\":{\"outlinewidth\":0,\"ticks\":\"\"}}}],\"scattermapbox\":[{\"type\":\"scattermapbox\",\"marker\":{\"colorbar\":{\"outlinewidth\":0,\"ticks\":\"\"}}}],\"scatterternary\":[{\"type\":\"scatterternary\",\"marker\":{\"colorbar\":{\"outlinewidth\":0,\"ticks\":\"\"}}}],\"scattercarpet\":[{\"type\":\"scattercarpet\",\"marker\":{\"colorbar\":{\"outlinewidth\":0,\"ticks\":\"\"}}}],\"carpet\":[{\"aaxis\":{\"endlinecolor\":\"#2a3f5f\",\"gridcolor\":\"white\",\"linecolor\":\"white\",\"minorgridcolor\":\"white\",\"startlinecolor\":\"#2a3f5f\"},\"baxis\":{\"endlinecolor\":\"#2a3f5f\",\"gridcolor\":\"white\",\"linecolor\":\"white\",\"minorgridcolor\":\"white\",\"startlinecolor\":\"#2a3f5f\"},\"type\":\"carpet\"}],\"table\":[{\"cells\":{\"fill\":{\"color\":\"#EBF0F8\"},\"line\":{\"color\":\"white\"}},\"header\":{\"fill\":{\"color\":\"#C8D4E3\"},\"line\":{\"color\":\"white\"}},\"type\":\"table\"}],\"barpolar\":[{\"marker\":{\"line\":{\"color\":\"#E5ECF6\",\"width\":0.5},\"pattern\":{\"fillmode\":\"overlay\",\"size\":10,\"solidity\":0.2}},\"type\":\"barpolar\"}],\"pie\":[{\"automargin\":true,\"type\":\"pie\"}]},\"layout\":{\"autotypenumbers\":\"strict\",\"colorway\":[\"#636efa\",\"#EF553B\",\"#00cc96\",\"#ab63fa\",\"#FFA15A\",\"#19d3f3\",\"#FF6692\",\"#B6E880\",\"#FF97FF\",\"#FECB52\"],\"font\":{\"color\":\"#2a3f5f\"},\"hovermode\":\"closest\",\"hoverlabel\":{\"align\":\"left\"},\"paper_bgcolor\":\"white\",\"plot_bgcolor\":\"#E5ECF6\",\"polar\":{\"bgcolor\":\"#E5ECF6\",\"angularaxis\":{\"gridcolor\":\"white\",\"linecolor\":\"white\",\"ticks\":\"\"},\"radialaxis\":{\"gridcolor\":\"white\",\"linecolor\":\"white\",\"ticks\":\"\"}},\"ternary\":{\"bgcolor\":\"#E5ECF6\",\"aaxis\":{\"gridcolor\":\"white\",\"linecolor\":\"white\",\"ticks\":\"\"},\"baxis\":{\"gridcolor\":\"white\",\"linecolor\":\"white\",\"ticks\":\"\"},\"caxis\":{\"gridcolor\":\"white\",\"linecolor\":\"white\",\"ticks\":\"\"}},\"coloraxis\":{\"colorbar\":{\"outlinewidth\":0,\"ticks\":\"\"}},\"colorscale\":{\"sequential\":[[0.0,\"#0d0887\"],[0.1111111111111111,\"#46039f\"],[0.2222222222222222,\"#7201a8\"],[0.3333333333333333,\"#9c179e\"],[0.4444444444444444,\"#bd3786\"],[0.5555555555555556,\"#d8576b\"],[0.6666666666666666,\"#ed7953\"],[0.7777777777777778,\"#fb9f3a\"],[0.8888888888888888,\"#fdca26\"],[1.0,\"#f0f921\"]],\"sequentialminus\":[[0.0,\"#0d0887\"],[0.1111111111111111,\"#46039f\"],[0.2222222222222222,\"#7201a8\"],[0.3333333333333333,\"#9c179e\"],[0.4444444444444444,\"#bd3786\"],[0.5555555555555556,\"#d8576b\"],[0.6666666666666666,\"#ed7953\"],[0.7777777777777778,\"#fb9f3a\"],[0.8888888888888888,\"#fdca26\"],[1.0,\"#f0f921\"]],\"diverging\":[[0,\"#8e0152\"],[0.1,\"#c51b7d\"],[0.2,\"#de77ae\"],[0.3,\"#f1b6da\"],[0.4,\"#fde0ef\"],[0.5,\"#f7f7f7\"],[0.6,\"#e6f5d0\"],[0.7,\"#b8e186\"],[0.8,\"#7fbc41\"],[0.9,\"#4d9221\"],[1,\"#276419\"]]},\"xaxis\":{\"gridcolor\":\"white\",\"linecolor\":\"white\",\"ticks\":\"\",\"title\":{\"standoff\":15},\"zerolinecolor\":\"white\",\"automargin\":true,\"zerolinewidth\":2},\"yaxis\":{\"gridcolor\":\"white\",\"linecolor\":\"white\",\"ticks\":\"\",\"title\":{\"standoff\":15},\"zerolinecolor\":\"white\",\"automargin\":true,\"zerolinewidth\":2},\"scene\":{\"xaxis\":{\"backgroundcolor\":\"#E5ECF6\",\"gridcolor\":\"white\",\"linecolor\":\"white\",\"showbackground\":true,\"ticks\":\"\",\"zerolinecolor\":\"white\",\"gridwidth\":2},\"yaxis\":{\"backgroundcolor\":\"#E5ECF6\",\"gridcolor\":\"white\",\"linecolor\":\"white\",\"showbackground\":true,\"ticks\":\"\",\"zerolinecolor\":\"white\",\"gridwidth\":2},\"zaxis\":{\"backgroundcolor\":\"#E5ECF6\",\"gridcolor\":\"white\",\"linecolor\":\"white\",\"showbackground\":true,\"ticks\":\"\",\"zerolinecolor\":\"white\",\"gridwidth\":2}},\"shapedefaults\":{\"line\":{\"color\":\"#2a3f5f\"}},\"annotationdefaults\":{\"arrowcolor\":\"#2a3f5f\",\"arrowhead\":0,\"arrowwidth\":1},\"geo\":{\"bgcolor\":\"white\",\"landcolor\":\"#E5ECF6\",\"subunitcolor\":\"white\",\"showland\":true,\"showlakes\":true,\"lakecolor\":\"white\"},\"title\":{\"x\":0.05},\"mapbox\":{\"style\":\"light\"}}},\"xaxis\":{\"anchor\":\"y\",\"domain\":[0.0,1.0],\"title\":{\"text\":\"num_conditions\"}},\"yaxis\":{\"anchor\":\"x\",\"domain\":[0.0,1.0],\"title\":{\"text\":\"count\"}},\"legend\":{\"tracegroupgap\":0},\"title\":{\"text\":\"Number of Conditions per Patient\"},\"barmode\":\"relative\"},                        {\"responsive\": true}                    ).then(function(){\n",
              "                            \n",
              "var gd = document.getElementById('eadb93f9-0c4d-467b-8f28-47813f45d5ef');\n",
              "var x = new MutationObserver(function (mutations, observer) {{\n",
              "        var display = window.getComputedStyle(gd).display;\n",
              "        if (!display || display === 'none') {{\n",
              "            console.log([gd, 'removed!']);\n",
              "            Plotly.purge(gd);\n",
              "            observer.disconnect();\n",
              "        }}\n",
              "}});\n",
              "\n",
              "// Listen for the removal of the full notebook cells\n",
              "var notebookContainer = gd.closest('#notebook-container');\n",
              "if (notebookContainer) {{\n",
              "    x.observe(notebookContainer, {childList: true});\n",
              "}}\n",
              "\n",
              "// Listen for the clearing of the current output cell\n",
              "var outputEl = gd.closest('.output');\n",
              "if (outputEl) {{\n",
              "    x.observe(outputEl, {childList: true});\n",
              "}}\n",
              "\n",
              "                        })                };                            </script>        </div>\n",
              "</body>\n",
              "</html>"
            ]
          },
          "metadata": {}
        }
      ]
    },
    {
      "cell_type": "markdown",
      "source": [
        "**Why choose this plot?**\n",
        "\n",
        "Histogram is ideal for visualizing the distribution of condition counts per patient, revealing the common range and tail of multimorbidity.\n",
        "\n",
        "**Insight:**\n",
        "\n",
        "Most patients have 2–5 conditions, peaking at three conditions, while a smaller subset exhibits high multimorbidity (8+ conditions), highlighting the extreme complexity cases that may require specialized care.\n",
        "\n",
        "--------------------------"
      ],
      "metadata": {
        "id": "9sG8lYf4NKVe"
      }
    },
    {
      "cell_type": "markdown",
      "source": [
        "## **9. Most Common Allergies**"
      ],
      "metadata": {
        "id": "Vqv66HW0NPWb"
      }
    },
    {
      "cell_type": "code",
      "source": [
        "allergy_counts = allergies['description'].value_counts().head(10).reset_index()\n",
        "allergy_counts.columns = ['allergy', 'count']\n",
        "\n",
        "fig = px.bar(\n",
        "    allergy_counts,\n",
        "    x='allergy', y='count',\n",
        "    color='allergy',\n",
        "    title='Most Common Allergies ',\n",
        "    labels={'allergy': 'Allergy Type', 'count': 'Count'}\n",
        ")\n",
        "fig.update_xaxes(tickangle=45)\n",
        "fig.show()\n"
      ],
      "metadata": {
        "colab": {
          "base_uri": "https://localhost:8080/",
          "height": 542
        },
        "id": "0cvxRq2_e4e1",
        "outputId": "6a6d22a7-8edd-4998-a69f-6a3eb0d8de62"
      },
      "execution_count": 29,
      "outputs": [
        {
          "output_type": "display_data",
          "data": {
            "text/html": [
              "<html>\n",
              "<head><meta charset=\"utf-8\" /></head>\n",
              "<body>\n",
              "    <div>            <script src=\"https://cdnjs.cloudflare.com/ajax/libs/mathjax/2.7.5/MathJax.js?config=TeX-AMS-MML_SVG\"></script><script type=\"text/javascript\">if (window.MathJax && window.MathJax.Hub && window.MathJax.Hub.Config) {window.MathJax.Hub.Config({SVG: {font: \"STIX-Web\"}});}</script>                <script type=\"text/javascript\">window.PlotlyConfig = {MathJaxConfig: 'local'};</script>\n",
              "        <script charset=\"utf-8\" src=\"https://cdn.plot.ly/plotly-2.35.2.min.js\"></script>                <div id=\"f7f4e655-66bb-4e93-b18b-272f7fb1e88e\" class=\"plotly-graph-div\" style=\"height:525px; width:100%;\"></div>            <script type=\"text/javascript\">                                    window.PLOTLYENV=window.PLOTLYENV || {};                                    if (document.getElementById(\"f7f4e655-66bb-4e93-b18b-272f7fb1e88e\")) {                    Plotly.newPlot(                        \"f7f4e655-66bb-4e93-b18b-272f7fb1e88e\",                        [{\"alignmentgroup\":\"True\",\"hovertemplate\":\"Allergy Type=%{x}\\u003cbr\\u003eCount=%{y}\\u003cextra\\u003e\\u003c\\u002fextra\\u003e\",\"legendgroup\":\"Allergy to mould\",\"marker\":{\"color\":\"#636efa\",\"pattern\":{\"shape\":\"\"}},\"name\":\"Allergy to mould\",\"offsetgroup\":\"Allergy to mould\",\"orientation\":\"v\",\"showlegend\":true,\"textposition\":\"auto\",\"x\":[\"Allergy to mould\"],\"xaxis\":\"x\",\"y\":[85],\"yaxis\":\"y\",\"type\":\"bar\"},{\"alignmentgroup\":\"True\",\"hovertemplate\":\"Allergy Type=%{x}\\u003cbr\\u003eCount=%{y}\\u003cextra\\u003e\\u003c\\u002fextra\\u003e\",\"legendgroup\":\"Dander (animal) allergy\",\"marker\":{\"color\":\"#EF553B\",\"pattern\":{\"shape\":\"\"}},\"name\":\"Dander (animal) allergy\",\"offsetgroup\":\"Dander (animal) allergy\",\"orientation\":\"v\",\"showlegend\":true,\"textposition\":\"auto\",\"x\":[\"Dander (animal) allergy\"],\"xaxis\":\"x\",\"y\":[79],\"yaxis\":\"y\",\"type\":\"bar\"},{\"alignmentgroup\":\"True\",\"hovertemplate\":\"Allergy Type=%{x}\\u003cbr\\u003eCount=%{y}\\u003cextra\\u003e\\u003c\\u002fextra\\u003e\",\"legendgroup\":\"House dust mite allergy\",\"marker\":{\"color\":\"#00cc96\",\"pattern\":{\"shape\":\"\"}},\"name\":\"House dust mite allergy\",\"offsetgroup\":\"House dust mite allergy\",\"orientation\":\"v\",\"showlegend\":true,\"textposition\":\"auto\",\"x\":[\"House dust mite allergy\"],\"xaxis\":\"x\",\"y\":[63],\"yaxis\":\"y\",\"type\":\"bar\"},{\"alignmentgroup\":\"True\",\"hovertemplate\":\"Allergy Type=%{x}\\u003cbr\\u003eCount=%{y}\\u003cextra\\u003e\\u003c\\u002fextra\\u003e\",\"legendgroup\":\"Allergy to grass pollen\",\"marker\":{\"color\":\"#ab63fa\",\"pattern\":{\"shape\":\"\"}},\"name\":\"Allergy to grass pollen\",\"offsetgroup\":\"Allergy to grass pollen\",\"orientation\":\"v\",\"showlegend\":true,\"textposition\":\"auto\",\"x\":[\"Allergy to grass pollen\"],\"xaxis\":\"x\",\"y\":[61],\"yaxis\":\"y\",\"type\":\"bar\"},{\"alignmentgroup\":\"True\",\"hovertemplate\":\"Allergy Type=%{x}\\u003cbr\\u003eCount=%{y}\\u003cextra\\u003e\\u003c\\u002fextra\\u003e\",\"legendgroup\":\"Allergy to tree pollen\",\"marker\":{\"color\":\"#FFA15A\",\"pattern\":{\"shape\":\"\"}},\"name\":\"Allergy to tree pollen\",\"offsetgroup\":\"Allergy to tree pollen\",\"orientation\":\"v\",\"showlegend\":true,\"textposition\":\"auto\",\"x\":[\"Allergy to tree pollen\"],\"xaxis\":\"x\",\"y\":[54],\"yaxis\":\"y\",\"type\":\"bar\"},{\"alignmentgroup\":\"True\",\"hovertemplate\":\"Allergy Type=%{x}\\u003cbr\\u003eCount=%{y}\\u003cextra\\u003e\\u003c\\u002fextra\\u003e\",\"legendgroup\":\"Shellfish allergy\",\"marker\":{\"color\":\"#19d3f3\",\"pattern\":{\"shape\":\"\"}},\"name\":\"Shellfish allergy\",\"offsetgroup\":\"Shellfish allergy\",\"orientation\":\"v\",\"showlegend\":true,\"textposition\":\"auto\",\"x\":[\"Shellfish allergy\"],\"xaxis\":\"x\",\"y\":[43],\"yaxis\":\"y\",\"type\":\"bar\"},{\"alignmentgroup\":\"True\",\"hovertemplate\":\"Allergy Type=%{x}\\u003cbr\\u003eCount=%{y}\\u003cextra\\u003e\\u003c\\u002fextra\\u003e\",\"legendgroup\":\"Allergy to bee venom\",\"marker\":{\"color\":\"#FF6692\",\"pattern\":{\"shape\":\"\"}},\"name\":\"Allergy to bee venom\",\"offsetgroup\":\"Allergy to bee venom\",\"orientation\":\"v\",\"showlegend\":true,\"textposition\":\"auto\",\"x\":[\"Allergy to bee venom\"],\"xaxis\":\"x\",\"y\":[32],\"yaxis\":\"y\",\"type\":\"bar\"},{\"alignmentgroup\":\"True\",\"hovertemplate\":\"Allergy Type=%{x}\\u003cbr\\u003eCount=%{y}\\u003cextra\\u003e\\u003c\\u002fextra\\u003e\",\"legendgroup\":\"Allergy to fish\",\"marker\":{\"color\":\"#B6E880\",\"pattern\":{\"shape\":\"\"}},\"name\":\"Allergy to fish\",\"offsetgroup\":\"Allergy to fish\",\"orientation\":\"v\",\"showlegend\":true,\"textposition\":\"auto\",\"x\":[\"Allergy to fish\"],\"xaxis\":\"x\",\"y\":[27],\"yaxis\":\"y\",\"type\":\"bar\"},{\"alignmentgroup\":\"True\",\"hovertemplate\":\"Allergy Type=%{x}\\u003cbr\\u003eCount=%{y}\\u003cextra\\u003e\\u003c\\u002fextra\\u003e\",\"legendgroup\":\"Allergy to peanuts\",\"marker\":{\"color\":\"#FF97FF\",\"pattern\":{\"shape\":\"\"}},\"name\":\"Allergy to peanuts\",\"offsetgroup\":\"Allergy to peanuts\",\"orientation\":\"v\",\"showlegend\":true,\"textposition\":\"auto\",\"x\":[\"Allergy to peanuts\"],\"xaxis\":\"x\",\"y\":[24],\"yaxis\":\"y\",\"type\":\"bar\"},{\"alignmentgroup\":\"True\",\"hovertemplate\":\"Allergy Type=%{x}\\u003cbr\\u003eCount=%{y}\\u003cextra\\u003e\\u003c\\u002fextra\\u003e\",\"legendgroup\":\"Allergy to nut\",\"marker\":{\"color\":\"#FECB52\",\"pattern\":{\"shape\":\"\"}},\"name\":\"Allergy to nut\",\"offsetgroup\":\"Allergy to nut\",\"orientation\":\"v\",\"showlegend\":true,\"textposition\":\"auto\",\"x\":[\"Allergy to nut\"],\"xaxis\":\"x\",\"y\":[24],\"yaxis\":\"y\",\"type\":\"bar\"}],                        {\"template\":{\"data\":{\"histogram2dcontour\":[{\"type\":\"histogram2dcontour\",\"colorbar\":{\"outlinewidth\":0,\"ticks\":\"\"},\"colorscale\":[[0.0,\"#0d0887\"],[0.1111111111111111,\"#46039f\"],[0.2222222222222222,\"#7201a8\"],[0.3333333333333333,\"#9c179e\"],[0.4444444444444444,\"#bd3786\"],[0.5555555555555556,\"#d8576b\"],[0.6666666666666666,\"#ed7953\"],[0.7777777777777778,\"#fb9f3a\"],[0.8888888888888888,\"#fdca26\"],[1.0,\"#f0f921\"]]}],\"choropleth\":[{\"type\":\"choropleth\",\"colorbar\":{\"outlinewidth\":0,\"ticks\":\"\"}}],\"histogram2d\":[{\"type\":\"histogram2d\",\"colorbar\":{\"outlinewidth\":0,\"ticks\":\"\"},\"colorscale\":[[0.0,\"#0d0887\"],[0.1111111111111111,\"#46039f\"],[0.2222222222222222,\"#7201a8\"],[0.3333333333333333,\"#9c179e\"],[0.4444444444444444,\"#bd3786\"],[0.5555555555555556,\"#d8576b\"],[0.6666666666666666,\"#ed7953\"],[0.7777777777777778,\"#fb9f3a\"],[0.8888888888888888,\"#fdca26\"],[1.0,\"#f0f921\"]]}],\"heatmap\":[{\"type\":\"heatmap\",\"colorbar\":{\"outlinewidth\":0,\"ticks\":\"\"},\"colorscale\":[[0.0,\"#0d0887\"],[0.1111111111111111,\"#46039f\"],[0.2222222222222222,\"#7201a8\"],[0.3333333333333333,\"#9c179e\"],[0.4444444444444444,\"#bd3786\"],[0.5555555555555556,\"#d8576b\"],[0.6666666666666666,\"#ed7953\"],[0.7777777777777778,\"#fb9f3a\"],[0.8888888888888888,\"#fdca26\"],[1.0,\"#f0f921\"]]}],\"heatmapgl\":[{\"type\":\"heatmapgl\",\"colorbar\":{\"outlinewidth\":0,\"ticks\":\"\"},\"colorscale\":[[0.0,\"#0d0887\"],[0.1111111111111111,\"#46039f\"],[0.2222222222222222,\"#7201a8\"],[0.3333333333333333,\"#9c179e\"],[0.4444444444444444,\"#bd3786\"],[0.5555555555555556,\"#d8576b\"],[0.6666666666666666,\"#ed7953\"],[0.7777777777777778,\"#fb9f3a\"],[0.8888888888888888,\"#fdca26\"],[1.0,\"#f0f921\"]]}],\"contourcarpet\":[{\"type\":\"contourcarpet\",\"colorbar\":{\"outlinewidth\":0,\"ticks\":\"\"}}],\"contour\":[{\"type\":\"contour\",\"colorbar\":{\"outlinewidth\":0,\"ticks\":\"\"},\"colorscale\":[[0.0,\"#0d0887\"],[0.1111111111111111,\"#46039f\"],[0.2222222222222222,\"#7201a8\"],[0.3333333333333333,\"#9c179e\"],[0.4444444444444444,\"#bd3786\"],[0.5555555555555556,\"#d8576b\"],[0.6666666666666666,\"#ed7953\"],[0.7777777777777778,\"#fb9f3a\"],[0.8888888888888888,\"#fdca26\"],[1.0,\"#f0f921\"]]}],\"surface\":[{\"type\":\"surface\",\"colorbar\":{\"outlinewidth\":0,\"ticks\":\"\"},\"colorscale\":[[0.0,\"#0d0887\"],[0.1111111111111111,\"#46039f\"],[0.2222222222222222,\"#7201a8\"],[0.3333333333333333,\"#9c179e\"],[0.4444444444444444,\"#bd3786\"],[0.5555555555555556,\"#d8576b\"],[0.6666666666666666,\"#ed7953\"],[0.7777777777777778,\"#fb9f3a\"],[0.8888888888888888,\"#fdca26\"],[1.0,\"#f0f921\"]]}],\"mesh3d\":[{\"type\":\"mesh3d\",\"colorbar\":{\"outlinewidth\":0,\"ticks\":\"\"}}],\"scatter\":[{\"fillpattern\":{\"fillmode\":\"overlay\",\"size\":10,\"solidity\":0.2},\"type\":\"scatter\"}],\"parcoords\":[{\"type\":\"parcoords\",\"line\":{\"colorbar\":{\"outlinewidth\":0,\"ticks\":\"\"}}}],\"scatterpolargl\":[{\"type\":\"scatterpolargl\",\"marker\":{\"colorbar\":{\"outlinewidth\":0,\"ticks\":\"\"}}}],\"bar\":[{\"error_x\":{\"color\":\"#2a3f5f\"},\"error_y\":{\"color\":\"#2a3f5f\"},\"marker\":{\"line\":{\"color\":\"#E5ECF6\",\"width\":0.5},\"pattern\":{\"fillmode\":\"overlay\",\"size\":10,\"solidity\":0.2}},\"type\":\"bar\"}],\"scattergeo\":[{\"type\":\"scattergeo\",\"marker\":{\"colorbar\":{\"outlinewidth\":0,\"ticks\":\"\"}}}],\"scatterpolar\":[{\"type\":\"scatterpolar\",\"marker\":{\"colorbar\":{\"outlinewidth\":0,\"ticks\":\"\"}}}],\"histogram\":[{\"marker\":{\"pattern\":{\"fillmode\":\"overlay\",\"size\":10,\"solidity\":0.2}},\"type\":\"histogram\"}],\"scattergl\":[{\"type\":\"scattergl\",\"marker\":{\"colorbar\":{\"outlinewidth\":0,\"ticks\":\"\"}}}],\"scatter3d\":[{\"type\":\"scatter3d\",\"line\":{\"colorbar\":{\"outlinewidth\":0,\"ticks\":\"\"}},\"marker\":{\"colorbar\":{\"outlinewidth\":0,\"ticks\":\"\"}}}],\"scattermapbox\":[{\"type\":\"scattermapbox\",\"marker\":{\"colorbar\":{\"outlinewidth\":0,\"ticks\":\"\"}}}],\"scatterternary\":[{\"type\":\"scatterternary\",\"marker\":{\"colorbar\":{\"outlinewidth\":0,\"ticks\":\"\"}}}],\"scattercarpet\":[{\"type\":\"scattercarpet\",\"marker\":{\"colorbar\":{\"outlinewidth\":0,\"ticks\":\"\"}}}],\"carpet\":[{\"aaxis\":{\"endlinecolor\":\"#2a3f5f\",\"gridcolor\":\"white\",\"linecolor\":\"white\",\"minorgridcolor\":\"white\",\"startlinecolor\":\"#2a3f5f\"},\"baxis\":{\"endlinecolor\":\"#2a3f5f\",\"gridcolor\":\"white\",\"linecolor\":\"white\",\"minorgridcolor\":\"white\",\"startlinecolor\":\"#2a3f5f\"},\"type\":\"carpet\"}],\"table\":[{\"cells\":{\"fill\":{\"color\":\"#EBF0F8\"},\"line\":{\"color\":\"white\"}},\"header\":{\"fill\":{\"color\":\"#C8D4E3\"},\"line\":{\"color\":\"white\"}},\"type\":\"table\"}],\"barpolar\":[{\"marker\":{\"line\":{\"color\":\"#E5ECF6\",\"width\":0.5},\"pattern\":{\"fillmode\":\"overlay\",\"size\":10,\"solidity\":0.2}},\"type\":\"barpolar\"}],\"pie\":[{\"automargin\":true,\"type\":\"pie\"}]},\"layout\":{\"autotypenumbers\":\"strict\",\"colorway\":[\"#636efa\",\"#EF553B\",\"#00cc96\",\"#ab63fa\",\"#FFA15A\",\"#19d3f3\",\"#FF6692\",\"#B6E880\",\"#FF97FF\",\"#FECB52\"],\"font\":{\"color\":\"#2a3f5f\"},\"hovermode\":\"closest\",\"hoverlabel\":{\"align\":\"left\"},\"paper_bgcolor\":\"white\",\"plot_bgcolor\":\"#E5ECF6\",\"polar\":{\"bgcolor\":\"#E5ECF6\",\"angularaxis\":{\"gridcolor\":\"white\",\"linecolor\":\"white\",\"ticks\":\"\"},\"radialaxis\":{\"gridcolor\":\"white\",\"linecolor\":\"white\",\"ticks\":\"\"}},\"ternary\":{\"bgcolor\":\"#E5ECF6\",\"aaxis\":{\"gridcolor\":\"white\",\"linecolor\":\"white\",\"ticks\":\"\"},\"baxis\":{\"gridcolor\":\"white\",\"linecolor\":\"white\",\"ticks\":\"\"},\"caxis\":{\"gridcolor\":\"white\",\"linecolor\":\"white\",\"ticks\":\"\"}},\"coloraxis\":{\"colorbar\":{\"outlinewidth\":0,\"ticks\":\"\"}},\"colorscale\":{\"sequential\":[[0.0,\"#0d0887\"],[0.1111111111111111,\"#46039f\"],[0.2222222222222222,\"#7201a8\"],[0.3333333333333333,\"#9c179e\"],[0.4444444444444444,\"#bd3786\"],[0.5555555555555556,\"#d8576b\"],[0.6666666666666666,\"#ed7953\"],[0.7777777777777778,\"#fb9f3a\"],[0.8888888888888888,\"#fdca26\"],[1.0,\"#f0f921\"]],\"sequentialminus\":[[0.0,\"#0d0887\"],[0.1111111111111111,\"#46039f\"],[0.2222222222222222,\"#7201a8\"],[0.3333333333333333,\"#9c179e\"],[0.4444444444444444,\"#bd3786\"],[0.5555555555555556,\"#d8576b\"],[0.6666666666666666,\"#ed7953\"],[0.7777777777777778,\"#fb9f3a\"],[0.8888888888888888,\"#fdca26\"],[1.0,\"#f0f921\"]],\"diverging\":[[0,\"#8e0152\"],[0.1,\"#c51b7d\"],[0.2,\"#de77ae\"],[0.3,\"#f1b6da\"],[0.4,\"#fde0ef\"],[0.5,\"#f7f7f7\"],[0.6,\"#e6f5d0\"],[0.7,\"#b8e186\"],[0.8,\"#7fbc41\"],[0.9,\"#4d9221\"],[1,\"#276419\"]]},\"xaxis\":{\"gridcolor\":\"white\",\"linecolor\":\"white\",\"ticks\":\"\",\"title\":{\"standoff\":15},\"zerolinecolor\":\"white\",\"automargin\":true,\"zerolinewidth\":2},\"yaxis\":{\"gridcolor\":\"white\",\"linecolor\":\"white\",\"ticks\":\"\",\"title\":{\"standoff\":15},\"zerolinecolor\":\"white\",\"automargin\":true,\"zerolinewidth\":2},\"scene\":{\"xaxis\":{\"backgroundcolor\":\"#E5ECF6\",\"gridcolor\":\"white\",\"linecolor\":\"white\",\"showbackground\":true,\"ticks\":\"\",\"zerolinecolor\":\"white\",\"gridwidth\":2},\"yaxis\":{\"backgroundcolor\":\"#E5ECF6\",\"gridcolor\":\"white\",\"linecolor\":\"white\",\"showbackground\":true,\"ticks\":\"\",\"zerolinecolor\":\"white\",\"gridwidth\":2},\"zaxis\":{\"backgroundcolor\":\"#E5ECF6\",\"gridcolor\":\"white\",\"linecolor\":\"white\",\"showbackground\":true,\"ticks\":\"\",\"zerolinecolor\":\"white\",\"gridwidth\":2}},\"shapedefaults\":{\"line\":{\"color\":\"#2a3f5f\"}},\"annotationdefaults\":{\"arrowcolor\":\"#2a3f5f\",\"arrowhead\":0,\"arrowwidth\":1},\"geo\":{\"bgcolor\":\"white\",\"landcolor\":\"#E5ECF6\",\"subunitcolor\":\"white\",\"showland\":true,\"showlakes\":true,\"lakecolor\":\"white\"},\"title\":{\"x\":0.05},\"mapbox\":{\"style\":\"light\"}}},\"xaxis\":{\"anchor\":\"y\",\"domain\":[0.0,1.0],\"title\":{\"text\":\"Allergy Type\"},\"categoryorder\":\"array\",\"categoryarray\":[\"Allergy to mould\",\"Dander (animal) allergy\",\"House dust mite allergy\",\"Allergy to grass pollen\",\"Allergy to tree pollen\",\"Shellfish allergy\",\"Allergy to bee venom\",\"Allergy to fish\",\"Allergy to peanuts\",\"Allergy to nut\"],\"tickangle\":45},\"yaxis\":{\"anchor\":\"x\",\"domain\":[0.0,1.0],\"title\":{\"text\":\"Count\"}},\"legend\":{\"title\":{\"text\":\"Allergy Type\"},\"tracegroupgap\":0},\"title\":{\"text\":\"Most Common Allergies \"},\"barmode\":\"relative\"},                        {\"responsive\": true}                    ).then(function(){\n",
              "                            \n",
              "var gd = document.getElementById('f7f4e655-66bb-4e93-b18b-272f7fb1e88e');\n",
              "var x = new MutationObserver(function (mutations, observer) {{\n",
              "        var display = window.getComputedStyle(gd).display;\n",
              "        if (!display || display === 'none') {{\n",
              "            console.log([gd, 'removed!']);\n",
              "            Plotly.purge(gd);\n",
              "            observer.disconnect();\n",
              "        }}\n",
              "}});\n",
              "\n",
              "// Listen for the removal of the full notebook cells\n",
              "var notebookContainer = gd.closest('#notebook-container');\n",
              "if (notebookContainer) {{\n",
              "    x.observe(notebookContainer, {childList: true});\n",
              "}}\n",
              "\n",
              "// Listen for the clearing of the current output cell\n",
              "var outputEl = gd.closest('.output');\n",
              "if (outputEl) {{\n",
              "    x.observe(outputEl, {childList: true});\n",
              "}}\n",
              "\n",
              "                        })                };                            </script>        </div>\n",
              "</body>\n",
              "</html>"
            ]
          },
          "metadata": {}
        }
      ]
    },
    {
      "cell_type": "markdown",
      "source": [
        "**Why choose this plot?**\n",
        "\n",
        "Bar chart is ideal for ranking categorical data, clearly showing the prevalence of each allergy type.\n",
        "\n",
        "**Insight:**\n",
        "\n",
        "Allergy to mould, animal dander, and house dust mite are the top three allergies, highlighting common environmental triggers in the synthetic population and guiding focus for allergy management strategies.\n",
        "\n",
        "--------------------------------"
      ],
      "metadata": {
        "id": "SaJJIk39NiBA"
      }
    },
    {
      "cell_type": "markdown",
      "source": [
        "## **10. Distribution of Medical Conditions per Patient**"
      ],
      "metadata": {
        "id": "KG86p2b6Nq8a"
      }
    },
    {
      "cell_type": "code",
      "source": [
        "\n",
        "fig = px.histogram(\n",
        "    df_plot,\n",
        "    x=\"num_conditions\",\n",
        "    nbins=20,\n",
        "    title=\" Distribution of Medical Conditions per Patient\",\n",
        "    labels={\n",
        "        \"num_conditions\": \"Number of Medical Conditions\",\n",
        "        \"count\": \"Number of Patients\"\n",
        "    },\n",
        "    color_discrete_sequence=['#3497db'],\n",
        "    opacity=0.8\n",
        ")\n",
        "\n",
        "# Add mean line\n",
        "mean_conditions = df_plot['num_conditions'].mean()\n",
        "fig.add_vline(\n",
        "    x=mean_conditions,\n",
        "    line_dash=\"dash\",\n",
        "    line_color=\"red\",\n",
        "    annotation_text=f\"Mean: {mean_conditions:.1f}\",\n",
        "    annotation_position=\"top\"\n",
        ")\n",
        "\n",
        "# Styling improvements\n",
        "fig.update_layout(\n",
        "    template='plotly_white',\n",
        "    title_font_size=18,\n",
        "    title_x=0.5,\n",
        "    xaxis_title_font_size=14,\n",
        "    yaxis_title_font_size=14,\n",
        "    showlegend=False,\n",
        "    hovermode='x unified',\n",
        "    plot_bgcolor='rgba(1,1,1,1)',\n",
        "    paper_bgcolor='rgba(1,1,1,1)'\n",
        ")\n",
        "\n",
        "# Add hover information\n",
        "fig.update_traces(\n",
        "    hovertemplate='</b>Conditions: %{x}</b><br></b>Patients: %{y}</b>'\n",
        ")\n",
        "\n",
        "fig.show()\n",
        "\n",
        "print(f\"💡 INSIGHT: Average patient has {mean_conditions:.1f} conditions\")\n",
        "print(f\"   Multi-morbid patients (≥2 conditions): {(df_plot['num_conditions'] >= 2).mean()*100:.1f}%\")\n"
      ],
      "metadata": {
        "colab": {
          "base_uri": "https://localhost:8080/",
          "height": 577
        },
        "id": "G7XWKLy_6ph7",
        "outputId": "ec5eaced-fba9-444f-81bb-ea0e9acece29"
      },
      "execution_count": 30,
      "outputs": [
        {
          "output_type": "display_data",
          "data": {
            "text/html": [
              "<html>\n",
              "<head><meta charset=\"utf-8\" /></head>\n",
              "<body>\n",
              "    <div>            <script src=\"https://cdnjs.cloudflare.com/ajax/libs/mathjax/2.7.5/MathJax.js?config=TeX-AMS-MML_SVG\"></script><script type=\"text/javascript\">if (window.MathJax && window.MathJax.Hub && window.MathJax.Hub.Config) {window.MathJax.Hub.Config({SVG: {font: \"STIX-Web\"}});}</script>                <script type=\"text/javascript\">window.PlotlyConfig = {MathJaxConfig: 'local'};</script>\n",
              "        <script charset=\"utf-8\" src=\"https://cdn.plot.ly/plotly-2.35.2.min.js\"></script>                <div id=\"d8e6d39f-f191-4b30-b743-e4fc8fd609a4\" class=\"plotly-graph-div\" style=\"height:525px; width:100%;\"></div>            <script type=\"text/javascript\">                                    window.PLOTLYENV=window.PLOTLYENV || {};                                    if (document.getElementById(\"d8e6d39f-f191-4b30-b743-e4fc8fd609a4\")) {                    Plotly.newPlot(                        \"d8e6d39f-f191-4b30-b743-e4fc8fd609a4\",                        [{\"alignmentgroup\":\"True\",\"bingroup\":\"x\",\"hovertemplate\":\"\\u003c\\u002fb\\u003eConditions: %{x}\\u003c\\u002fb\\u003e\\u003cbr\\u003e\\u003c\\u002fb\\u003ePatients: %{y}\\u003c\\u002fb\\u003e\",\"legendgroup\":\"\",\"marker\":{\"color\":\"#3497db\",\"opacity\":0.8,\"pattern\":{\"shape\":\"\"}},\"name\":\"\",\"nbinsx\":20,\"offsetgroup\":\"\",\"orientation\":\"v\",\"showlegend\":false,\"x\":[0.0,1.0,9.0,10.0,9.0,4.0,11.0,8.0,11.0,5.0,9.0,5.0,4.0,8.0,10.0,7.0,7.0,4.0,2.0,9.0,8.0,6.0,9.0,9.0,3.0,13.0,11.0,6.0,3.0,10.0,2.0,11.0,10.0,12.0,9.0,8.0,4.0,11.0,6.0,2.0,3.0,7.0,5.0,9.0,12.0,7.0,0.0,12.0,4.0,4.0,7.0,5.0,4.0,0.0,7.0,1.0,4.0,3.0,9.0,5.0,5.0,4.0,5.0,2.0,6.0,5.0,9.0,8.0,2.0,6.0,0.0,4.0,4.0,2.0,2.0,2.0,13.0,2.0,7.0,7.0,6.0,2.0,8.0,5.0,10.0,4.0,8.0,5.0,5.0,7.0,2.0,3.0,4.0,3.0,13.0,1.0,5.0,3.0,10.0,3.0,3.0,8.0,2.0,4.0,4.0,3.0,4.0,3.0,3.0,1.0,5.0,3.0,5.0,3.0,3.0,5.0,4.0,0.0,2.0,4.0,3.0,5.0,4.0,1.0,3.0,2.0,2.0,7.0,4.0,1.0,6.0,5.0,0.0,8.0,8.0,4.0,0.0,1.0,4.0,3.0,3.0,1.0,6.0,5.0,5.0,9.0,2.0,4.0,4.0,6.0,1.0,2.0,1.0,2.0,2.0,6.0,4.0,4.0,4.0,4.0,2.0,3.0,2.0,2.0,1.0,3.0,2.0,1.0,8.0,3.0,3.0,1.0,3.0,1.0,4.0,1.0,2.0,9.0,3.0,7.0,4.0,3.0,3.0,7.0,3.0,1.0,4.0,3.0,3.0,2.0,4.0,7.0,7.0,3.0,1.0,3.0,0.0,6.0,5.0,7.0,4.0,8.0,6.0,8.0,4.0,6.0,4.0,6.0,5.0,1.0,6.0,4.0,2.0,6.0,2.0,2.0,2.0,4.0,7.0,8.0,6.0,3.0,6.0,3.0,6.0,2.0,12.0,1.0,0.0,6.0,8.0,6.0,3.0,2.0,0.0,6.0,5.0,1.0,2.0,4.0,6.0,11.0,3.0,1.0,11.0,7.0,5.0,3.0,6.0,1.0,1.0,1.0,1.0,5.0,1.0,6.0,6.0,5.0,7.0,6.0,5.0,5.0,10.0,3.0,2.0,2.0,2.0,4.0,3.0,5.0,2.0,3.0,5.0,6.0,3.0,3.0,2.0,4.0,5.0,6.0,3.0,6.0,8.0,7.0,3.0,3.0,5.0,11.0,1.0,3.0,4.0,5.0,3.0,8.0,4.0,7.0,3.0,2.0,0.0,5.0,2.0,5.0,4.0,2.0,7.0,0.0,6.0,5.0,0.0,2.0,2.0,3.0,5.0,2.0,5.0,5.0,0.0,2.0,1.0,2.0,2.0,3.0,2.0,1.0,3.0,3.0,1.0,5.0,5.0,2.0,0.0,3.0,3.0,1.0,6.0,4.0,4.0,11.0,3.0,3.0,7.0,0.0,2.0,1.0,2.0,13.0,3.0,0.0,0.0,6.0,6.0,6.0,4.0,4.0,1.0,2.0,0.0,1.0,3.0,4.0,5.0,1.0,7.0,1.0,4.0,5.0,2.0,9.0,4.0,13.0,1.0,7.0,5.0,1.0,2.0,3.0,2.0,4.0,1.0,3.0,0.0,4.0,4.0,2.0,2.0,8.0,5.0,1.0,3.0,2.0,4.0,4.0,2.0,5.0,3.0,0.0,4.0,2.0,7.0,4.0,8.0,3.0,3.0,0.0,4.0,2.0,5.0,1.0,3.0,1.0,4.0,0.0,3.0,3.0,2.0,2.0,2.0,6.0,6.0,2.0,5.0,2.0,2.0,2.0,0.0,6.0,3.0,3.0,3.0,3.0,1.0,1.0,3.0,3.0,5.0,2.0,4.0,3.0,0.0,1.0,4.0,1.0,1.0,5.0,0.0,1.0,6.0,2.0,2.0,3.0,3.0,3.0,5.0,3.0,4.0,2.0,0.0,9.0,6.0,4.0,6.0,4.0,7.0,4.0,4.0,13.0,5.0,7.0,10.0,7.0,0.0,0.0,0.0,0.0,0.0,0.0,0.0,0.0,0.0,0.0,0.0,0.0,0.0,0.0,0.0,0.0,0.0,0.0,0.0,0.0,0.0,0.0,0.0,1.0,0.0,3.0,1.0,1.0,0.0,0.0,2.0,0.0,4.0,1.0,3.0,2.0,2.0,1.0,2.0,1.0,1.0,1.0,0.0,2.0,1.0,2.0,2.0,1.0,0.0,3.0,3.0,3.0,1.0,1.0,1.0,2.0,3.0,0.0,1.0,4.0,2.0,3.0,4.0,0.0,4.0,2.0,5.0,2.0,2.0,1.0,2.0,4.0,1.0,1.0,3.0,5.0,4.0,3.0,5.0,3.0,4.0,4.0,3.0,4.0,3.0,3.0,1.0,3.0,2.0,6.0,5.0,1.0,1.0,4.0,3.0,5.0,4.0,7.0,1.0,6.0,3.0,1.0,4.0,7.0,7.0,2.0,6.0,2.0,5.0,5.0,4.0,4.0,3.0,1.0,7.0,4.0,3.0,4.0,3.0,3.0,6.0,2.0,5.0,7.0,6.0,4.0,2.0,5.0,5.0,6.0,3.0,7.0,6.0,4.0,7.0,6.0,3.0,4.0,6.0,4.0,7.0,7.0,6.0,4.0,4.0,4.0,8.0,6.0,5.0,3.0,5.0,4.0,6.0,3.0,11.0,3.0,6.0,10.0,3.0,3.0,3.0,4.0,4.0,6.0,4.0,3.0,4.0,3.0,2.0,3.0,6.0,6.0,1.0,4.0,7.0,4.0,5.0,5.0,3.0,5.0,5.0,9.0,3.0,7.0,10.0,5.0,8.0,7.0,7.0,9.0,5.0,9.0,2.0,8.0,6.0,3.0,3.0,2.0,4.0,1.0,4.0,6.0,2.0,2.0,3.0,6.0,4.0,7.0,4.0,4.0,3.0,3.0,10.0,4.0,3.0,5.0,7.0,2.0,5.0,4.0,7.0,2.0,5.0,5.0,3.0,3.0,2.0,11.0,4.0,2.0,5.0,2.0,2.0,9.0,9.0,5.0,2.0,3.0,2.0,2.0,7.0,5.0,6.0,4.0,4.0,4.0,3.0,2.0,1.0,5.0,4.0,4.0,4.0,6.0,6.0,5.0,5.0,5.0,2.0,6.0,7.0,3.0,4.0,4.0,6.0,3.0,3.0,6.0,3.0,2.0,3.0,1.0,4.0,5.0,3.0,4.0,5.0,2.0,1.0,3.0,3.0,6.0,6.0,2.0,3.0,9.0,6.0,9.0,7.0,8.0,10.0,6.0,7.0,4.0,6.0,3.0,2.0,5.0,7.0,3.0,4.0,2.0,5.0,2.0,4.0,3.0,3.0,4.0,2.0,5.0,2.0,3.0,5.0,4.0,5.0,3.0,1.0,5.0,4.0,7.0,3.0,7.0,3.0,10.0,6.0,3.0,4.0,3.0,6.0,2.0,9.0,6.0,3.0,6.0,3.0,5.0,1.0,11.0,8.0,6.0,2.0,7.0,4.0,8.0,2.0,7.0,5.0,6.0,5.0,7.0,13.0,1.0,9.0,6.0,7.0,5.0,6.0,3.0,7.0,5.0,5.0,5.0,4.0,3.0,7.0,2.0,3.0,4.0,5.0,8.0,5.0,13.0,8.0,2.0,3.0,3.0,4.0,5.0,10.0,8.0,10.0,7.0,11.0,3.0,11.0,4.0,1.0,3.0,5.0,5.0,7.0,7.0,8.0,2.0,3.0,5.0,6.0,7.0,9.0,4.0,6.0,4.0,6.0,11.0,3.0,6.0,10.0,2.0,9.0,3.0,3.0,5.0,6.0,5.0,4.0,8.0,8.0,5.0,6.0,2.0,1.0,5.0,2.0,6.0,4.0,1.0,11.0,6.0,12.0,6.0,1.0,1.0,3.0,8.0,8.0,3.0,11.0,8.0,3.0,11.0,4.0,2.0,4.0,9.0,5.0,5.0,6.0,3.0,3.0,9.0,7.0,5.0,11.0,3.0,5.0,6.0,3.0,11.0,5.0,8.0,6.0,5.0,6.0,3.0,8.0,3.0,4.0,5.0,3.0,1.0,12.0,10.0,7.0,6.0,13.0,3.0,3.0,7.0,3.0,2.0,5.0,5.0,5.0,5.0,5.0,12.0,1.0,9.0,12.0,11.0,4.0,8.0,13.0,9.0,6.0,1.0,3.0,8.0,6.0,6.0,9.0,2.0,6.0,1.0,8.0,6.0,5.0,6.0,2.0,8.0,5.0,7.0,1.0,13.0,3.0,6.0,1.0,2.0,5.0,5.0,2.0,5.0,5.0,4.0,5.0,2.0,4.0,5.0,4.0,8.0,6.0,7.0,3.0,3.0,13.0,9.0,6.0,4.0,9.0,4.0,13.0,3.0,11.0,2.0,3.0,10.0,2.0,4.0,4.0,5.0,6.0,7.0,4.0,3.0,8.0,8.0,6.0,4.0,4.0,6.0,9.0,8.0,4.0,4.0,5.0,8.0,3.0,2.0,4.0,6.0,9.0,3.0,3.0,5.0,3.0,3.0,6.0,1.0,3.0,8.0,9.0,3.0,4.0,11.0,4.0,4.0,1.0,5.0,2.0,4.0,5.0,3.0,5.0,7.0,7.0,3.0,2.0,3.0,9.0,3.0,4.0,2.0,10.0,3.0,3.0,9.0,3.0,5.0,6.0,1.0,4.0,11.0,4.0,3.0,1.0,2.0,4.0,4.0,4.0,10.0,3.0,6.0,6.0,7.0,4.0,8.0,8.0,8.0,3.0,13.0,9.0,3.0,5.0,9.0,3.0,11.0,5.0,4.0,7.0,3.0,5.0,1.0,4.0,5.0,6.0,6.0,7.0,7.0,7.0,5.0,4.0,2.0,3.0,2.0,6.0,5.0,13.0,4.0,9.0,3.0,4.0,6.0,9.0,7.0,3.0,3.0,5.0,2.0,6.0,5.0,2.0,4.0,3.0,9.0,4.0,6.0,3.0,7.0,7.0,6.0,2.0,8.0,5.0,5.0,7.0,6.0,7.0,5.0,7.0,8.0,3.0,2.0,3.0,3.0,9.0,3.0,3.0,8.0,4.0,3.0,7.0,2.0,10.0,7.0,3.0,6.0,2.0,7.0,4.0,5.0,6.0,1.0,9.0,10.0,9.0,1.0,4.0,3.0,8.0,7.0,5.0,4.0,4.0,3.0,6.0,7.0,2.0,4.0,5.0,4.0,6.0,5.0,4.0,1.0,3.0,3.0,8.0,7.0,8.0,13.0,7.0,7.0,5.0,6.0,3.0,4.0,6.0,6.0,2.0,5.0,4.0,6.0,8.0,3.0,8.0,9.0,6.0,6.0,5.0,6.0,6.0,10.0,3.0,4.0,3.0,10.0,6.0,7.0,6.0,2.0,3.0,2.0,9.0,2.0,11.0,8.0,7.0,3.0,2.0,4.0,4.0,6.0,8.0,7.0,1.0,4.0,12.0,10.0,3.0,3.0,6.0,11.0,6.0,6.0,5.0,4.0,6.0,8.0,9.0,4.0,4.0,7.0,4.0,10.0,5.0,7.0,5.0,5.0,7.0,7.0,5.0,5.0,5.0,3.0,7.0,3.0,4.0,4.0,5.0,4.0,13.0,8.0,4.0,3.0,5.0,5.0,4.0,5.0,7.0,2.0,5.0,8.0,7.0,6.0,4.0,5.0,4.0,5.0,5.0,3.0,10.0,7.0,2.0,4.0,8.0,4.0,3.0,2.0,6.0,7.0,4.0,7.0,7.0,5.0,8.0,7.0,7.0,2.0,7.0,8.0,7.0,3.0,5.0,2.0,5.0,7.0,11.0,2.0,3.0,3.0,1.0,4.0,11.0,9.0,7.0,3.0,8.0,3.0,6.0,12.0,7.0,3.0,3.0,3.0,10.0,2.0,6.0,7.0,7.0,4.0,9.0,13.0,4.0,8.0,7.0,9.0,2.0,5.0,4.0,6.0,4.0,9.0,7.0,3.0,7.0,3.0,10.0,6.0,9.0,7.0,7.0,9.0,3.0,13.0,6.0,5.0,11.0,4.0,5.0,13.0,7.0,7.0,7.0,8.0,4.0,6.0,6.0,13.0,10.0,9.0,7.0,9.0,6.0,13.0,13.0,7.0,2.0,7.0,8.0,6.0,8.0,3.0,9.0,4.0,5.0,13.0,7.0,3.0,7.0,10.0,10.0,10.0,10.0,3.0,9.0,4.0,8.0,7.0,7.0,6.0,4.0,12.0,6.0,7.0,11.0,6.0,7.0,4.0,10.0,8.0,8.0,7.0,5.0,7.0,6.0,3.0,4.0,6.0,3.0,10.0,5.0,2.0,7.0,12.0,6.0,10.0,9.0,8.0,10.0,9.0,9.0,4.0],\"xaxis\":\"x\",\"yaxis\":\"y\",\"type\":\"histogram\"}],                        {\"template\":{\"data\":{\"barpolar\":[{\"marker\":{\"line\":{\"color\":\"white\",\"width\":0.5},\"pattern\":{\"fillmode\":\"overlay\",\"size\":10,\"solidity\":0.2}},\"type\":\"barpolar\"}],\"bar\":[{\"error_x\":{\"color\":\"#2a3f5f\"},\"error_y\":{\"color\":\"#2a3f5f\"},\"marker\":{\"line\":{\"color\":\"white\",\"width\":0.5},\"pattern\":{\"fillmode\":\"overlay\",\"size\":10,\"solidity\":0.2}},\"type\":\"bar\"}],\"carpet\":[{\"aaxis\":{\"endlinecolor\":\"#2a3f5f\",\"gridcolor\":\"#C8D4E3\",\"linecolor\":\"#C8D4E3\",\"minorgridcolor\":\"#C8D4E3\",\"startlinecolor\":\"#2a3f5f\"},\"baxis\":{\"endlinecolor\":\"#2a3f5f\",\"gridcolor\":\"#C8D4E3\",\"linecolor\":\"#C8D4E3\",\"minorgridcolor\":\"#C8D4E3\",\"startlinecolor\":\"#2a3f5f\"},\"type\":\"carpet\"}],\"choropleth\":[{\"colorbar\":{\"outlinewidth\":0,\"ticks\":\"\"},\"type\":\"choropleth\"}],\"contourcarpet\":[{\"colorbar\":{\"outlinewidth\":0,\"ticks\":\"\"},\"type\":\"contourcarpet\"}],\"contour\":[{\"colorbar\":{\"outlinewidth\":0,\"ticks\":\"\"},\"colorscale\":[[0.0,\"#0d0887\"],[0.1111111111111111,\"#46039f\"],[0.2222222222222222,\"#7201a8\"],[0.3333333333333333,\"#9c179e\"],[0.4444444444444444,\"#bd3786\"],[0.5555555555555556,\"#d8576b\"],[0.6666666666666666,\"#ed7953\"],[0.7777777777777778,\"#fb9f3a\"],[0.8888888888888888,\"#fdca26\"],[1.0,\"#f0f921\"]],\"type\":\"contour\"}],\"heatmapgl\":[{\"colorbar\":{\"outlinewidth\":0,\"ticks\":\"\"},\"colorscale\":[[0.0,\"#0d0887\"],[0.1111111111111111,\"#46039f\"],[0.2222222222222222,\"#7201a8\"],[0.3333333333333333,\"#9c179e\"],[0.4444444444444444,\"#bd3786\"],[0.5555555555555556,\"#d8576b\"],[0.6666666666666666,\"#ed7953\"],[0.7777777777777778,\"#fb9f3a\"],[0.8888888888888888,\"#fdca26\"],[1.0,\"#f0f921\"]],\"type\":\"heatmapgl\"}],\"heatmap\":[{\"colorbar\":{\"outlinewidth\":0,\"ticks\":\"\"},\"colorscale\":[[0.0,\"#0d0887\"],[0.1111111111111111,\"#46039f\"],[0.2222222222222222,\"#7201a8\"],[0.3333333333333333,\"#9c179e\"],[0.4444444444444444,\"#bd3786\"],[0.5555555555555556,\"#d8576b\"],[0.6666666666666666,\"#ed7953\"],[0.7777777777777778,\"#fb9f3a\"],[0.8888888888888888,\"#fdca26\"],[1.0,\"#f0f921\"]],\"type\":\"heatmap\"}],\"histogram2dcontour\":[{\"colorbar\":{\"outlinewidth\":0,\"ticks\":\"\"},\"colorscale\":[[0.0,\"#0d0887\"],[0.1111111111111111,\"#46039f\"],[0.2222222222222222,\"#7201a8\"],[0.3333333333333333,\"#9c179e\"],[0.4444444444444444,\"#bd3786\"],[0.5555555555555556,\"#d8576b\"],[0.6666666666666666,\"#ed7953\"],[0.7777777777777778,\"#fb9f3a\"],[0.8888888888888888,\"#fdca26\"],[1.0,\"#f0f921\"]],\"type\":\"histogram2dcontour\"}],\"histogram2d\":[{\"colorbar\":{\"outlinewidth\":0,\"ticks\":\"\"},\"colorscale\":[[0.0,\"#0d0887\"],[0.1111111111111111,\"#46039f\"],[0.2222222222222222,\"#7201a8\"],[0.3333333333333333,\"#9c179e\"],[0.4444444444444444,\"#bd3786\"],[0.5555555555555556,\"#d8576b\"],[0.6666666666666666,\"#ed7953\"],[0.7777777777777778,\"#fb9f3a\"],[0.8888888888888888,\"#fdca26\"],[1.0,\"#f0f921\"]],\"type\":\"histogram2d\"}],\"histogram\":[{\"marker\":{\"pattern\":{\"fillmode\":\"overlay\",\"size\":10,\"solidity\":0.2}},\"type\":\"histogram\"}],\"mesh3d\":[{\"colorbar\":{\"outlinewidth\":0,\"ticks\":\"\"},\"type\":\"mesh3d\"}],\"parcoords\":[{\"line\":{\"colorbar\":{\"outlinewidth\":0,\"ticks\":\"\"}},\"type\":\"parcoords\"}],\"pie\":[{\"automargin\":true,\"type\":\"pie\"}],\"scatter3d\":[{\"line\":{\"colorbar\":{\"outlinewidth\":0,\"ticks\":\"\"}},\"marker\":{\"colorbar\":{\"outlinewidth\":0,\"ticks\":\"\"}},\"type\":\"scatter3d\"}],\"scattercarpet\":[{\"marker\":{\"colorbar\":{\"outlinewidth\":0,\"ticks\":\"\"}},\"type\":\"scattercarpet\"}],\"scattergeo\":[{\"marker\":{\"colorbar\":{\"outlinewidth\":0,\"ticks\":\"\"}},\"type\":\"scattergeo\"}],\"scattergl\":[{\"marker\":{\"colorbar\":{\"outlinewidth\":0,\"ticks\":\"\"}},\"type\":\"scattergl\"}],\"scattermapbox\":[{\"marker\":{\"colorbar\":{\"outlinewidth\":0,\"ticks\":\"\"}},\"type\":\"scattermapbox\"}],\"scatterpolargl\":[{\"marker\":{\"colorbar\":{\"outlinewidth\":0,\"ticks\":\"\"}},\"type\":\"scatterpolargl\"}],\"scatterpolar\":[{\"marker\":{\"colorbar\":{\"outlinewidth\":0,\"ticks\":\"\"}},\"type\":\"scatterpolar\"}],\"scatter\":[{\"fillpattern\":{\"fillmode\":\"overlay\",\"size\":10,\"solidity\":0.2},\"type\":\"scatter\"}],\"scatterternary\":[{\"marker\":{\"colorbar\":{\"outlinewidth\":0,\"ticks\":\"\"}},\"type\":\"scatterternary\"}],\"surface\":[{\"colorbar\":{\"outlinewidth\":0,\"ticks\":\"\"},\"colorscale\":[[0.0,\"#0d0887\"],[0.1111111111111111,\"#46039f\"],[0.2222222222222222,\"#7201a8\"],[0.3333333333333333,\"#9c179e\"],[0.4444444444444444,\"#bd3786\"],[0.5555555555555556,\"#d8576b\"],[0.6666666666666666,\"#ed7953\"],[0.7777777777777778,\"#fb9f3a\"],[0.8888888888888888,\"#fdca26\"],[1.0,\"#f0f921\"]],\"type\":\"surface\"}],\"table\":[{\"cells\":{\"fill\":{\"color\":\"#EBF0F8\"},\"line\":{\"color\":\"white\"}},\"header\":{\"fill\":{\"color\":\"#C8D4E3\"},\"line\":{\"color\":\"white\"}},\"type\":\"table\"}]},\"layout\":{\"annotationdefaults\":{\"arrowcolor\":\"#2a3f5f\",\"arrowhead\":0,\"arrowwidth\":1},\"autotypenumbers\":\"strict\",\"coloraxis\":{\"colorbar\":{\"outlinewidth\":0,\"ticks\":\"\"}},\"colorscale\":{\"diverging\":[[0,\"#8e0152\"],[0.1,\"#c51b7d\"],[0.2,\"#de77ae\"],[0.3,\"#f1b6da\"],[0.4,\"#fde0ef\"],[0.5,\"#f7f7f7\"],[0.6,\"#e6f5d0\"],[0.7,\"#b8e186\"],[0.8,\"#7fbc41\"],[0.9,\"#4d9221\"],[1,\"#276419\"]],\"sequential\":[[0.0,\"#0d0887\"],[0.1111111111111111,\"#46039f\"],[0.2222222222222222,\"#7201a8\"],[0.3333333333333333,\"#9c179e\"],[0.4444444444444444,\"#bd3786\"],[0.5555555555555556,\"#d8576b\"],[0.6666666666666666,\"#ed7953\"],[0.7777777777777778,\"#fb9f3a\"],[0.8888888888888888,\"#fdca26\"],[1.0,\"#f0f921\"]],\"sequentialminus\":[[0.0,\"#0d0887\"],[0.1111111111111111,\"#46039f\"],[0.2222222222222222,\"#7201a8\"],[0.3333333333333333,\"#9c179e\"],[0.4444444444444444,\"#bd3786\"],[0.5555555555555556,\"#d8576b\"],[0.6666666666666666,\"#ed7953\"],[0.7777777777777778,\"#fb9f3a\"],[0.8888888888888888,\"#fdca26\"],[1.0,\"#f0f921\"]]},\"colorway\":[\"#636efa\",\"#EF553B\",\"#00cc96\",\"#ab63fa\",\"#FFA15A\",\"#19d3f3\",\"#FF6692\",\"#B6E880\",\"#FF97FF\",\"#FECB52\"],\"font\":{\"color\":\"#2a3f5f\"},\"geo\":{\"bgcolor\":\"white\",\"lakecolor\":\"white\",\"landcolor\":\"white\",\"showlakes\":true,\"showland\":true,\"subunitcolor\":\"#C8D4E3\"},\"hoverlabel\":{\"align\":\"left\"},\"hovermode\":\"closest\",\"mapbox\":{\"style\":\"light\"},\"paper_bgcolor\":\"white\",\"plot_bgcolor\":\"white\",\"polar\":{\"angularaxis\":{\"gridcolor\":\"#EBF0F8\",\"linecolor\":\"#EBF0F8\",\"ticks\":\"\"},\"bgcolor\":\"white\",\"radialaxis\":{\"gridcolor\":\"#EBF0F8\",\"linecolor\":\"#EBF0F8\",\"ticks\":\"\"}},\"scene\":{\"xaxis\":{\"backgroundcolor\":\"white\",\"gridcolor\":\"#DFE8F3\",\"gridwidth\":2,\"linecolor\":\"#EBF0F8\",\"showbackground\":true,\"ticks\":\"\",\"zerolinecolor\":\"#EBF0F8\"},\"yaxis\":{\"backgroundcolor\":\"white\",\"gridcolor\":\"#DFE8F3\",\"gridwidth\":2,\"linecolor\":\"#EBF0F8\",\"showbackground\":true,\"ticks\":\"\",\"zerolinecolor\":\"#EBF0F8\"},\"zaxis\":{\"backgroundcolor\":\"white\",\"gridcolor\":\"#DFE8F3\",\"gridwidth\":2,\"linecolor\":\"#EBF0F8\",\"showbackground\":true,\"ticks\":\"\",\"zerolinecolor\":\"#EBF0F8\"}},\"shapedefaults\":{\"line\":{\"color\":\"#2a3f5f\"}},\"ternary\":{\"aaxis\":{\"gridcolor\":\"#DFE8F3\",\"linecolor\":\"#A2B1C6\",\"ticks\":\"\"},\"baxis\":{\"gridcolor\":\"#DFE8F3\",\"linecolor\":\"#A2B1C6\",\"ticks\":\"\"},\"bgcolor\":\"white\",\"caxis\":{\"gridcolor\":\"#DFE8F3\",\"linecolor\":\"#A2B1C6\",\"ticks\":\"\"}},\"title\":{\"x\":0.05},\"xaxis\":{\"automargin\":true,\"gridcolor\":\"#EBF0F8\",\"linecolor\":\"#EBF0F8\",\"ticks\":\"\",\"title\":{\"standoff\":15},\"zerolinecolor\":\"#EBF0F8\",\"zerolinewidth\":2},\"yaxis\":{\"automargin\":true,\"gridcolor\":\"#EBF0F8\",\"linecolor\":\"#EBF0F8\",\"ticks\":\"\",\"title\":{\"standoff\":15},\"zerolinecolor\":\"#EBF0F8\",\"zerolinewidth\":2}}},\"xaxis\":{\"anchor\":\"y\",\"domain\":[0.0,1.0],\"title\":{\"text\":\"Number of Medical Conditions\",\"font\":{\"size\":14}}},\"yaxis\":{\"anchor\":\"x\",\"domain\":[0.0,1.0],\"title\":{\"text\":\"count\",\"font\":{\"size\":14}}},\"legend\":{\"tracegroupgap\":0},\"title\":{\"text\":\" Distribution of Medical Conditions per Patient\",\"font\":{\"size\":18},\"x\":0.5},\"barmode\":\"relative\",\"shapes\":[{\"line\":{\"color\":\"red\",\"dash\":\"dash\"},\"type\":\"line\",\"x0\":4.781121751025991,\"x1\":4.781121751025991,\"xref\":\"x\",\"y0\":0,\"y1\":1,\"yref\":\"y domain\"}],\"annotations\":[{\"showarrow\":false,\"text\":\"Mean: 4.8\",\"x\":4.781121751025991,\"xanchor\":\"center\",\"xref\":\"x\",\"y\":1,\"yanchor\":\"bottom\",\"yref\":\"y domain\"}],\"showlegend\":false,\"hovermode\":\"x unified\",\"plot_bgcolor\":\"rgba(1,1,1,1)\",\"paper_bgcolor\":\"rgba(1,1,1,1)\"},                        {\"responsive\": true}                    ).then(function(){\n",
              "                            \n",
              "var gd = document.getElementById('d8e6d39f-f191-4b30-b743-e4fc8fd609a4');\n",
              "var x = new MutationObserver(function (mutations, observer) {{\n",
              "        var display = window.getComputedStyle(gd).display;\n",
              "        if (!display || display === 'none') {{\n",
              "            console.log([gd, 'removed!']);\n",
              "            Plotly.purge(gd);\n",
              "            observer.disconnect();\n",
              "        }}\n",
              "}});\n",
              "\n",
              "// Listen for the removal of the full notebook cells\n",
              "var notebookContainer = gd.closest('#notebook-container');\n",
              "if (notebookContainer) {{\n",
              "    x.observe(notebookContainer, {childList: true});\n",
              "}}\n",
              "\n",
              "// Listen for the clearing of the current output cell\n",
              "var outputEl = gd.closest('.output');\n",
              "if (outputEl) {{\n",
              "    x.observe(outputEl, {childList: true});\n",
              "}}\n",
              "\n",
              "                        })                };                            </script>        </div>\n",
              "</body>\n",
              "</html>"
            ]
          },
          "metadata": {}
        },
        {
          "output_type": "stream",
          "name": "stdout",
          "text": [
            "💡 INSIGHT: Average patient has 4.8 conditions\n",
            "   Multi-morbid patients (≥2 conditions): 89.2%\n"
          ]
        }
      ]
    },
    {
      "cell_type": "markdown",
      "source": [
        "Why choose this plot?\n",
        "**bold text**\n",
        "Histogram with mean line highlights the central tendency and distribution of condition counts, making it easy to spot where most patients lie relative to the average.\n",
        "\n",
        "**Insight:**\n",
        "\n",
        "Average multimorbidity is 4.8 conditions, with most patients clustered around 3–6 conditions, revealing a moderate disease burden and identifying those above average for targeted intervention.\n",
        "\n",
        "--------------------------------"
      ],
      "metadata": {
        "id": "EAnxOPa2OVUh"
      }
    },
    {
      "cell_type": "markdown",
      "source": [
        "## **11. Number of Medications per Patient**"
      ],
      "metadata": {
        "id": "0S_JJFzcOdE6"
      }
    },
    {
      "cell_type": "code",
      "source": [
        "fig = px.histogram(\n",
        "    df_plot,\n",
        "    x=\"num_meds\",\n",
        "    color_discrete_sequence=[\"#EF553B\"],\n",
        "    title=\"Number of Medications per Patient\",\n",
        "    labels={\"num_meds\": \"Medications\", \"count\": \"Patients\"}\n",
        ")\n",
        "fig.show()\n"
      ],
      "metadata": {
        "colab": {
          "base_uri": "https://localhost:8080/",
          "height": 542
        },
        "id": "kkPnPrZ1gmW3",
        "outputId": "90d50246-efaf-4b19-fe8c-d30b2c132ea1"
      },
      "execution_count": 31,
      "outputs": [
        {
          "output_type": "display_data",
          "data": {
            "text/html": [
              "<html>\n",
              "<head><meta charset=\"utf-8\" /></head>\n",
              "<body>\n",
              "    <div>            <script src=\"https://cdnjs.cloudflare.com/ajax/libs/mathjax/2.7.5/MathJax.js?config=TeX-AMS-MML_SVG\"></script><script type=\"text/javascript\">if (window.MathJax && window.MathJax.Hub && window.MathJax.Hub.Config) {window.MathJax.Hub.Config({SVG: {font: \"STIX-Web\"}});}</script>                <script type=\"text/javascript\">window.PlotlyConfig = {MathJaxConfig: 'local'};</script>\n",
              "        <script charset=\"utf-8\" src=\"https://cdn.plot.ly/plotly-2.35.2.min.js\"></script>                <div id=\"08c56f0a-5998-4066-bc2b-585e84470797\" class=\"plotly-graph-div\" style=\"height:525px; width:100%;\"></div>            <script type=\"text/javascript\">                                    window.PLOTLYENV=window.PLOTLYENV || {};                                    if (document.getElementById(\"08c56f0a-5998-4066-bc2b-585e84470797\")) {                    Plotly.newPlot(                        \"08c56f0a-5998-4066-bc2b-585e84470797\",                        [{\"alignmentgroup\":\"True\",\"bingroup\":\"x\",\"hovertemplate\":\"Medications=%{x}\\u003cbr\\u003ecount=%{y}\\u003cextra\\u003e\\u003c\\u002fextra\\u003e\",\"legendgroup\":\"\",\"marker\":{\"color\":\"#EF553B\",\"pattern\":{\"shape\":\"\"}},\"name\":\"\",\"offsetgroup\":\"\",\"orientation\":\"v\",\"showlegend\":false,\"x\":[0.0,0.0,6.0,12.0,7.0,4.0,8.0,8.0,6.0,4.0,3.0,0.0,3.0,7.0,12.0,9.0,12.0,5.0,4.0,12.0,4.0,5.0,8.0,12.0,2.0,4.0,8.0,8.0,6.0,12.0,3.0,10.0,7.0,12.0,3.0,9.0,1.0,5.0,4.0,2.0,2.0,10.0,4.0,5.0,12.0,12.0,1.0,8.0,2.0,4.0,8.0,4.0,2.0,0.0,12.0,2.0,4.0,1.0,3.0,3.0,12.0,2.0,4.0,0.0,1.0,9.0,3.0,2.0,4.0,4.0,0.0,2.0,4.0,3.0,1.0,3.0,5.0,3.0,5.0,3.0,11.0,3.0,3.0,1.0,12.0,2.0,12.0,4.0,3.0,7.0,2.0,2.0,4.0,2.0,1.0,2.0,3.0,6.0,7.0,2.0,6.0,8.0,2.0,5.0,12.0,2.0,2.0,4.0,1.0,2.0,12.0,1.0,8.0,2.0,6.0,12.0,2.0,2.0,0.0,9.0,1.0,7.0,12.0,3.0,1.0,0.0,4.0,1.0,1.0,5.0,12.0,1.0,0.0,9.0,0.0,4.0,0.0,0.0,12.0,3.0,0.0,1.0,4.0,2.0,8.0,10.0,2.0,2.0,7.0,12.0,1.0,3.0,1.0,4.0,0.0,12.0,3.0,1.0,2.0,0.0,3.0,2.0,1.0,3.0,2.0,0.0,2.0,0.0,12.0,0.0,2.0,2.0,2.0,3.0,3.0,1.0,0.0,3.0,2.0,9.0,7.0,0.0,0.0,5.0,1.0,2.0,3.0,3.0,4.0,0.0,1.0,4.0,4.0,1.0,1.0,2.0,0.0,0.0,12.0,2.0,1.0,4.0,4.0,0.0,6.0,11.0,3.0,5.0,3.0,0.0,3.0,3.0,2.0,2.0,2.0,0.0,12.0,4.0,7.0,2.0,4.0,2.0,1.0,3.0,0.0,1.0,12.0,3.0,3.0,5.0,3.0,2.0,5.0,1.0,3.0,7.0,1.0,2.0,0.0,3.0,3.0,3.0,4.0,0.0,4.0,4.0,0.0,6.0,12.0,3.0,3.0,2.0,1.0,8.0,0.0,12.0,5.0,2.0,2.0,3.0,1.0,1.0,3.0,0.0,1.0,2.0,1.0,1.0,5.0,1.0,0.0,5.0,12.0,5.0,3.0,12.0,0.0,1.0,3.0,5.0,1.0,1.0,12.0,3.0,0.0,2.0,5.0,3.0,1.0,2.0,1.0,1.0,2.0,4.0,1.0,1.0,0.0,1.0,0.0,3.0,1.0,2.0,1.0,1.0,5.0,0.0,2.0,2.0,0.0,3.0,4.0,1.0,0.0,0.0,5.0,4.0,2.0,1.0,2.0,0.0,2.0,0.0,0.0,3.0,2.0,0.0,1.0,3.0,1.0,1.0,0.0,1.0,4.0,0.0,1.0,3.0,0.0,2.0,2.0,4.0,2.0,3.0,12.0,2.0,1.0,3.0,1.0,1.0,0.0,2.0,5.0,12.0,0.0,3.0,0.0,3.0,0.0,2.0,2.0,3.0,2.0,2.0,1.0,1.0,2.0,2.0,0.0,3.0,3.0,6.0,1.0,2.0,1.0,1.0,2.0,0.0,2.0,0.0,2.0,2.0,0.0,2.0,2.0,10.0,1.0,3.0,4.0,2.0,0.0,1.0,2.0,2.0,2.0,6.0,3.0,0.0,2.0,1.0,6.0,0.0,4.0,2.0,3.0,1.0,1.0,4.0,3.0,6.0,1.0,1.0,0.0,2.0,1.0,3.0,2.0,2.0,1.0,4.0,4.0,3.0,1.0,1.0,2.0,2.0,0.0,2.0,2.0,3.0,0.0,4.0,1.0,1.0,3.0,3.0,3.0,2.0,2.0,2.0,1.0,1.0,4.0,0.0,0.0,3.0,1.0,1.0,0.0,3.0,0.0,6.0,2.0,3.0,6.0,2.0,2.0,2.0,0.0,5.0,4.0,3.0,3.0,4.0,4.0,2.0,5.0,12.0,5.0,4.0,8.0,2.0,0.0,0.0,0.0,0.0,0.0,0.0,0.0,0.0,0.0,0.0,0.0,0.0,0.0,0.0,0.0,0.0,0.0,2.0,0.0,0.0,0.0,0.0,0.0,0.0,0.0,3.0,1.0,1.0,0.0,0.0,4.0,0.0,2.0,1.0,1.0,2.0,0.0,1.0,3.0,1.0,0.0,3.0,0.0,1.0,0.0,2.0,1.0,2.0,0.0,4.0,6.0,5.0,1.0,2.0,2.0,2.0,4.0,0.0,2.0,7.0,3.0,2.0,2.0,0.0,5.0,2.0,7.0,1.0,2.0,2.0,2.0,4.0,0.0,2.0,5.0,5.0,4.0,1.0,5.0,0.0,5.0,2.0,4.0,6.0,0.0,4.0,1.0,2.0,5.0,8.0,6.0,1.0,2.0,2.0,4.0,4.0,5.0,6.0,2.0,8.0,2.0,2.0,2.0,8.0,6.0,4.0,8.0,3.0,4.0,3.0,6.0,4.0,3.0,2.0,4.0,4.0,3.0,4.0,3.0,5.0,4.0,1.0,3.0,4.0,9.0,2.0,4.0,2.0,4.0,10.0,3.0,7.0,5.0,1.0,7.0,5.0,2.0,3.0,3.0,5.0,5.0,6.0,10.0,2.0,2.0,2.0,8.0,5.0,6.0,5.0,6.0,4.0,3.0,2.0,12.0,1.0,3.0,8.0,5.0,2.0,4.0,2.0,1.0,5.0,3.0,4.0,3.0,5.0,2.0,1.0,8.0,5.0,0.0,1.0,5.0,2.0,4.0,5.0,2.0,3.0,6.0,5.0,0.0,6.0,7.0,7.0,11.0,4.0,9.0,6.0,5.0,6.0,2.0,11.0,4.0,3.0,2.0,3.0,4.0,0.0,4.0,4.0,2.0,2.0,2.0,3.0,2.0,6.0,2.0,2.0,5.0,5.0,5.0,2.0,1.0,4.0,8.0,0.0,2.0,6.0,4.0,1.0,1.0,2.0,3.0,5.0,2.0,7.0,0.0,1.0,2.0,2.0,1.0,9.0,9.0,2.0,1.0,0.0,4.0,1.0,5.0,2.0,2.0,3.0,3.0,3.0,0.0,1.0,1.0,7.0,3.0,3.0,6.0,3.0,3.0,2.0,6.0,7.0,6.0,6.0,8.0,3.0,2.0,1.0,5.0,7.0,5.0,7.0,3.0,4.0,1.0,0.0,1.0,7.0,5.0,4.0,2.0,2.0,2.0,3.0,1.0,3.0,8.0,2.0,2.0,7.0,9.0,12.0,2.0,8.0,10.0,2.0,2.0,2.0,2.0,3.0,1.0,1.0,7.0,2.0,7.0,3.0,6.0,3.0,3.0,3.0,1.0,3.0,3.0,8.0,5.0,5.0,5.0,10.0,9.0,1.0,1.0,6.0,3.0,8.0,4.0,2.0,5.0,5.0,7.0,5.0,4.0,3.0,3.0,1.0,6.0,8.0,5.0,5.0,1.0,9.0,3.0,7.0,2.0,9.0,2.0,2.0,6.0,9.0,2.0,10.0,6.0,7.0,6.0,8.0,10.0,1.0,12.0,4.0,4.0,5.0,7.0,7.0,12.0,7.0,3.0,4.0,3.0,6.0,3.0,1.0,3.0,2.0,5.0,3.0,3.0,5.0,12.0,9.0,1.0,2.0,4.0,8.0,5.0,6.0,7.0,7.0,9.0,4.0,8.0,2.0,2.0,1.0,3.0,3.0,9.0,1.0,2.0,0.0,3.0,6.0,5.0,7.0,7.0,6.0,7.0,9.0,5.0,8.0,2.0,8.0,12.0,1.0,8.0,0.0,2.0,2.0,5.0,5.0,0.0,9.0,4.0,9.0,11.0,1.0,0.0,3.0,4.0,2.0,3.0,0.0,9.0,11.0,7.0,5.0,2.0,1.0,7.0,11.0,4.0,3.0,12.0,12.0,6.0,4.0,2.0,1.0,5.0,11.0,8.0,7.0,4.0,3.0,8.0,6.0,9.0,1.0,8.0,2.0,1.0,5.0,2.0,10.0,3.0,4.0,3.0,3.0,12.0,2.0,8.0,2.0,3.0,2.0,0.0,2.0,7.0,2.0,7.0,6.0,10.0,3.0,6.0,6.0,1.0,1.0,1.0,7.0,5.0,1.0,7.0,6.0,1.0,5.0,9.0,12.0,8.0,1.0,8.0,7.0,1.0,3.0,1.0,5.0,4.0,4.0,7.0,0.0,3.0,0.0,10.0,3.0,2.0,9.0,6.0,3.0,4.0,5.0,4.0,8.0,1.0,4.0,3.0,3.0,3.0,12.0,1.0,4.0,2.0,11.0,4.0,2.0,3.0,2.0,2.0,6.0,7.0,8.0,3.0,1.0,2.0,11.0,8.0,1.0,5.0,7.0,12.0,1.0,6.0,4.0,1.0,9.0,9.0,7.0,3.0,2.0,9.0,6.0,5.0,1.0,5.0,5.0,12.0,8.0,3.0,5.0,6.0,8.0,2.0,7.0,5.0,6.0,3.0,3.0,2.0,2.0,8.0,0.0,1.0,10.0,3.0,10.0,6.0,1.0,2.0,7.0,12.0,1.0,1.0,9.0,3.0,3.0,2.0,2.0,1.0,2.0,2.0,9.0,4.0,4.0,6.0,2.0,10.0,0.0,11.0,10.0,6.0,3.0,6.0,5.0,0.0,7.0,3.0,2.0,9.0,5.0,2.0,12.0,5.0,4.0,2.0,0.0,1.0,1.0,3.0,12.0,2.0,4.0,4.0,6.0,2.0,10.0,4.0,2.0,2.0,9.0,7.0,2.0,10.0,10.0,8.0,12.0,4.0,2.0,2.0,4.0,3.0,0.0,4.0,5.0,5.0,8.0,7.0,9.0,4.0,10.0,2.0,2.0,5.0,2.0,11.0,6.0,8.0,1.0,3.0,0.0,4.0,4.0,4.0,5.0,1.0,5.0,0.0,9.0,6.0,6.0,2.0,4.0,4.0,12.0,1.0,3.0,8.0,6.0,3.0,4.0,4.0,3.0,1.0,4.0,6.0,2.0,9.0,2.0,4.0,7.0,3.0,1.0,1.0,1.0,4.0,10.0,1.0,4.0,3.0,9.0,6.0,2.0,12.0,9.0,0.0,3.0,0.0,3.0,6.0,1.0,11.0,0.0,4.0,4.0,5.0,2.0,1.0,0.0,5.0,8.0,3.0,3.0,12.0,2.0,2.0,7.0,4.0,5.0,7.0,1.0,10.0,3.0,2.0,2.0,8.0,0.0,2.0,3.0,7.0,12.0,5.0,6.0,3.0,4.0,2.0,2.0,6.0,3.0,4.0,3.0,4.0,6.0,6.0,5.0,8.0,0.0,2.0,3.0,8.0,4.0,10.0,8.0,7.0,2.0,1.0,5.0,7.0,5.0,3.0,0.0,2.0,1.0,5.0,3.0,4.0,3.0,6.0,1.0,1.0,3.0,2.0,3.0,7.0,1.0,1.0,2.0,9.0,3.0,1.0,3.0,2.0,11.0,8.0,2.0,5.0,4.0,2.0,5.0,8.0,7.0,5.0,6.0,5.0,4.0,0.0,3.0,0.0,1.0,4.0,5.0,4.0,4.0,3.0,3.0,3.0,6.0,0.0,2.0,2.0,1.0,9.0,9.0,0.0,2.0,2.0,8.0,4.0,4.0,4.0,2.0,4.0,5.0,8.0,2.0,2.0,1.0,3.0,4.0,4.0,5.0,4.0,6.0,5.0,3.0,2.0,3.0,2.0,0.0,9.0,6.0,6.0,10.0,7.0,2.0,3.0,2.0,6.0,2.0,2.0,8.0,7.0,2.0,3.0,2.0,2.0,2.0,7.0,1.0,3.0,2.0,1.0,3.0,9.0,5.0,2.0,3.0,5.0,0.0,5.0,11.0,3.0,1.0,5.0,7.0,3.0,7.0,3.0,3.0,1.0,1.0,5.0,5.0,3.0,3.0,7.0,4.0,3.0,4.0,3.0,4.0,5.0,6.0,5.0,3.0,9.0,3.0,2.0,4.0,3.0,5.0,3.0,2.0,0.0,12.0,4.0,3.0,2.0,2.0,6.0,7.0,5.0,10.0,4.0,7.0,1.0,3.0,12.0,10.0,5.0,12.0,3.0,12.0,2.0,12.0,5.0,2.0,4.0,5.0,6.0,2.0,4.0,6.0,12.0,1.0,2.0,8.0,7.0,1.0,4.0,12.0,6.0,2.0,9.0,0.0,5.0,3.0,5.0,5.0,3.0,5.0,3.0,6.0,5.0,3.0,6.0,6.0,3.0,4.0,5.0,9.0,7.0,4.0,4.0,2.0,5.0,5.0,3.0,5.0,4.0,7.0,0.0,2.0,6.0,7.0,3.0,7.0,8.0,4.0,4.0,5.0,4.0,1.0],\"xaxis\":\"x\",\"yaxis\":\"y\",\"type\":\"histogram\"}],                        {\"template\":{\"data\":{\"histogram2dcontour\":[{\"type\":\"histogram2dcontour\",\"colorbar\":{\"outlinewidth\":0,\"ticks\":\"\"},\"colorscale\":[[0.0,\"#0d0887\"],[0.1111111111111111,\"#46039f\"],[0.2222222222222222,\"#7201a8\"],[0.3333333333333333,\"#9c179e\"],[0.4444444444444444,\"#bd3786\"],[0.5555555555555556,\"#d8576b\"],[0.6666666666666666,\"#ed7953\"],[0.7777777777777778,\"#fb9f3a\"],[0.8888888888888888,\"#fdca26\"],[1.0,\"#f0f921\"]]}],\"choropleth\":[{\"type\":\"choropleth\",\"colorbar\":{\"outlinewidth\":0,\"ticks\":\"\"}}],\"histogram2d\":[{\"type\":\"histogram2d\",\"colorbar\":{\"outlinewidth\":0,\"ticks\":\"\"},\"colorscale\":[[0.0,\"#0d0887\"],[0.1111111111111111,\"#46039f\"],[0.2222222222222222,\"#7201a8\"],[0.3333333333333333,\"#9c179e\"],[0.4444444444444444,\"#bd3786\"],[0.5555555555555556,\"#d8576b\"],[0.6666666666666666,\"#ed7953\"],[0.7777777777777778,\"#fb9f3a\"],[0.8888888888888888,\"#fdca26\"],[1.0,\"#f0f921\"]]}],\"heatmap\":[{\"type\":\"heatmap\",\"colorbar\":{\"outlinewidth\":0,\"ticks\":\"\"},\"colorscale\":[[0.0,\"#0d0887\"],[0.1111111111111111,\"#46039f\"],[0.2222222222222222,\"#7201a8\"],[0.3333333333333333,\"#9c179e\"],[0.4444444444444444,\"#bd3786\"],[0.5555555555555556,\"#d8576b\"],[0.6666666666666666,\"#ed7953\"],[0.7777777777777778,\"#fb9f3a\"],[0.8888888888888888,\"#fdca26\"],[1.0,\"#f0f921\"]]}],\"heatmapgl\":[{\"type\":\"heatmapgl\",\"colorbar\":{\"outlinewidth\":0,\"ticks\":\"\"},\"colorscale\":[[0.0,\"#0d0887\"],[0.1111111111111111,\"#46039f\"],[0.2222222222222222,\"#7201a8\"],[0.3333333333333333,\"#9c179e\"],[0.4444444444444444,\"#bd3786\"],[0.5555555555555556,\"#d8576b\"],[0.6666666666666666,\"#ed7953\"],[0.7777777777777778,\"#fb9f3a\"],[0.8888888888888888,\"#fdca26\"],[1.0,\"#f0f921\"]]}],\"contourcarpet\":[{\"type\":\"contourcarpet\",\"colorbar\":{\"outlinewidth\":0,\"ticks\":\"\"}}],\"contour\":[{\"type\":\"contour\",\"colorbar\":{\"outlinewidth\":0,\"ticks\":\"\"},\"colorscale\":[[0.0,\"#0d0887\"],[0.1111111111111111,\"#46039f\"],[0.2222222222222222,\"#7201a8\"],[0.3333333333333333,\"#9c179e\"],[0.4444444444444444,\"#bd3786\"],[0.5555555555555556,\"#d8576b\"],[0.6666666666666666,\"#ed7953\"],[0.7777777777777778,\"#fb9f3a\"],[0.8888888888888888,\"#fdca26\"],[1.0,\"#f0f921\"]]}],\"surface\":[{\"type\":\"surface\",\"colorbar\":{\"outlinewidth\":0,\"ticks\":\"\"},\"colorscale\":[[0.0,\"#0d0887\"],[0.1111111111111111,\"#46039f\"],[0.2222222222222222,\"#7201a8\"],[0.3333333333333333,\"#9c179e\"],[0.4444444444444444,\"#bd3786\"],[0.5555555555555556,\"#d8576b\"],[0.6666666666666666,\"#ed7953\"],[0.7777777777777778,\"#fb9f3a\"],[0.8888888888888888,\"#fdca26\"],[1.0,\"#f0f921\"]]}],\"mesh3d\":[{\"type\":\"mesh3d\",\"colorbar\":{\"outlinewidth\":0,\"ticks\":\"\"}}],\"scatter\":[{\"fillpattern\":{\"fillmode\":\"overlay\",\"size\":10,\"solidity\":0.2},\"type\":\"scatter\"}],\"parcoords\":[{\"type\":\"parcoords\",\"line\":{\"colorbar\":{\"outlinewidth\":0,\"ticks\":\"\"}}}],\"scatterpolargl\":[{\"type\":\"scatterpolargl\",\"marker\":{\"colorbar\":{\"outlinewidth\":0,\"ticks\":\"\"}}}],\"bar\":[{\"error_x\":{\"color\":\"#2a3f5f\"},\"error_y\":{\"color\":\"#2a3f5f\"},\"marker\":{\"line\":{\"color\":\"#E5ECF6\",\"width\":0.5},\"pattern\":{\"fillmode\":\"overlay\",\"size\":10,\"solidity\":0.2}},\"type\":\"bar\"}],\"scattergeo\":[{\"type\":\"scattergeo\",\"marker\":{\"colorbar\":{\"outlinewidth\":0,\"ticks\":\"\"}}}],\"scatterpolar\":[{\"type\":\"scatterpolar\",\"marker\":{\"colorbar\":{\"outlinewidth\":0,\"ticks\":\"\"}}}],\"histogram\":[{\"marker\":{\"pattern\":{\"fillmode\":\"overlay\",\"size\":10,\"solidity\":0.2}},\"type\":\"histogram\"}],\"scattergl\":[{\"type\":\"scattergl\",\"marker\":{\"colorbar\":{\"outlinewidth\":0,\"ticks\":\"\"}}}],\"scatter3d\":[{\"type\":\"scatter3d\",\"line\":{\"colorbar\":{\"outlinewidth\":0,\"ticks\":\"\"}},\"marker\":{\"colorbar\":{\"outlinewidth\":0,\"ticks\":\"\"}}}],\"scattermapbox\":[{\"type\":\"scattermapbox\",\"marker\":{\"colorbar\":{\"outlinewidth\":0,\"ticks\":\"\"}}}],\"scatterternary\":[{\"type\":\"scatterternary\",\"marker\":{\"colorbar\":{\"outlinewidth\":0,\"ticks\":\"\"}}}],\"scattercarpet\":[{\"type\":\"scattercarpet\",\"marker\":{\"colorbar\":{\"outlinewidth\":0,\"ticks\":\"\"}}}],\"carpet\":[{\"aaxis\":{\"endlinecolor\":\"#2a3f5f\",\"gridcolor\":\"white\",\"linecolor\":\"white\",\"minorgridcolor\":\"white\",\"startlinecolor\":\"#2a3f5f\"},\"baxis\":{\"endlinecolor\":\"#2a3f5f\",\"gridcolor\":\"white\",\"linecolor\":\"white\",\"minorgridcolor\":\"white\",\"startlinecolor\":\"#2a3f5f\"},\"type\":\"carpet\"}],\"table\":[{\"cells\":{\"fill\":{\"color\":\"#EBF0F8\"},\"line\":{\"color\":\"white\"}},\"header\":{\"fill\":{\"color\":\"#C8D4E3\"},\"line\":{\"color\":\"white\"}},\"type\":\"table\"}],\"barpolar\":[{\"marker\":{\"line\":{\"color\":\"#E5ECF6\",\"width\":0.5},\"pattern\":{\"fillmode\":\"overlay\",\"size\":10,\"solidity\":0.2}},\"type\":\"barpolar\"}],\"pie\":[{\"automargin\":true,\"type\":\"pie\"}]},\"layout\":{\"autotypenumbers\":\"strict\",\"colorway\":[\"#636efa\",\"#EF553B\",\"#00cc96\",\"#ab63fa\",\"#FFA15A\",\"#19d3f3\",\"#FF6692\",\"#B6E880\",\"#FF97FF\",\"#FECB52\"],\"font\":{\"color\":\"#2a3f5f\"},\"hovermode\":\"closest\",\"hoverlabel\":{\"align\":\"left\"},\"paper_bgcolor\":\"white\",\"plot_bgcolor\":\"#E5ECF6\",\"polar\":{\"bgcolor\":\"#E5ECF6\",\"angularaxis\":{\"gridcolor\":\"white\",\"linecolor\":\"white\",\"ticks\":\"\"},\"radialaxis\":{\"gridcolor\":\"white\",\"linecolor\":\"white\",\"ticks\":\"\"}},\"ternary\":{\"bgcolor\":\"#E5ECF6\",\"aaxis\":{\"gridcolor\":\"white\",\"linecolor\":\"white\",\"ticks\":\"\"},\"baxis\":{\"gridcolor\":\"white\",\"linecolor\":\"white\",\"ticks\":\"\"},\"caxis\":{\"gridcolor\":\"white\",\"linecolor\":\"white\",\"ticks\":\"\"}},\"coloraxis\":{\"colorbar\":{\"outlinewidth\":0,\"ticks\":\"\"}},\"colorscale\":{\"sequential\":[[0.0,\"#0d0887\"],[0.1111111111111111,\"#46039f\"],[0.2222222222222222,\"#7201a8\"],[0.3333333333333333,\"#9c179e\"],[0.4444444444444444,\"#bd3786\"],[0.5555555555555556,\"#d8576b\"],[0.6666666666666666,\"#ed7953\"],[0.7777777777777778,\"#fb9f3a\"],[0.8888888888888888,\"#fdca26\"],[1.0,\"#f0f921\"]],\"sequentialminus\":[[0.0,\"#0d0887\"],[0.1111111111111111,\"#46039f\"],[0.2222222222222222,\"#7201a8\"],[0.3333333333333333,\"#9c179e\"],[0.4444444444444444,\"#bd3786\"],[0.5555555555555556,\"#d8576b\"],[0.6666666666666666,\"#ed7953\"],[0.7777777777777778,\"#fb9f3a\"],[0.8888888888888888,\"#fdca26\"],[1.0,\"#f0f921\"]],\"diverging\":[[0,\"#8e0152\"],[0.1,\"#c51b7d\"],[0.2,\"#de77ae\"],[0.3,\"#f1b6da\"],[0.4,\"#fde0ef\"],[0.5,\"#f7f7f7\"],[0.6,\"#e6f5d0\"],[0.7,\"#b8e186\"],[0.8,\"#7fbc41\"],[0.9,\"#4d9221\"],[1,\"#276419\"]]},\"xaxis\":{\"gridcolor\":\"white\",\"linecolor\":\"white\",\"ticks\":\"\",\"title\":{\"standoff\":15},\"zerolinecolor\":\"white\",\"automargin\":true,\"zerolinewidth\":2},\"yaxis\":{\"gridcolor\":\"white\",\"linecolor\":\"white\",\"ticks\":\"\",\"title\":{\"standoff\":15},\"zerolinecolor\":\"white\",\"automargin\":true,\"zerolinewidth\":2},\"scene\":{\"xaxis\":{\"backgroundcolor\":\"#E5ECF6\",\"gridcolor\":\"white\",\"linecolor\":\"white\",\"showbackground\":true,\"ticks\":\"\",\"zerolinecolor\":\"white\",\"gridwidth\":2},\"yaxis\":{\"backgroundcolor\":\"#E5ECF6\",\"gridcolor\":\"white\",\"linecolor\":\"white\",\"showbackground\":true,\"ticks\":\"\",\"zerolinecolor\":\"white\",\"gridwidth\":2},\"zaxis\":{\"backgroundcolor\":\"#E5ECF6\",\"gridcolor\":\"white\",\"linecolor\":\"white\",\"showbackground\":true,\"ticks\":\"\",\"zerolinecolor\":\"white\",\"gridwidth\":2}},\"shapedefaults\":{\"line\":{\"color\":\"#2a3f5f\"}},\"annotationdefaults\":{\"arrowcolor\":\"#2a3f5f\",\"arrowhead\":0,\"arrowwidth\":1},\"geo\":{\"bgcolor\":\"white\",\"landcolor\":\"#E5ECF6\",\"subunitcolor\":\"white\",\"showland\":true,\"showlakes\":true,\"lakecolor\":\"white\"},\"title\":{\"x\":0.05},\"mapbox\":{\"style\":\"light\"}}},\"xaxis\":{\"anchor\":\"y\",\"domain\":[0.0,1.0],\"title\":{\"text\":\"Medications\"}},\"yaxis\":{\"anchor\":\"x\",\"domain\":[0.0,1.0],\"title\":{\"text\":\"count\"}},\"legend\":{\"tracegroupgap\":0},\"title\":{\"text\":\"Number of Medications per Patient\"},\"barmode\":\"relative\"},                        {\"responsive\": true}                    ).then(function(){\n",
              "                            \n",
              "var gd = document.getElementById('08c56f0a-5998-4066-bc2b-585e84470797');\n",
              "var x = new MutationObserver(function (mutations, observer) {{\n",
              "        var display = window.getComputedStyle(gd).display;\n",
              "        if (!display || display === 'none') {{\n",
              "            console.log([gd, 'removed!']);\n",
              "            Plotly.purge(gd);\n",
              "            observer.disconnect();\n",
              "        }}\n",
              "}});\n",
              "\n",
              "// Listen for the removal of the full notebook cells\n",
              "var notebookContainer = gd.closest('#notebook-container');\n",
              "if (notebookContainer) {{\n",
              "    x.observe(notebookContainer, {childList: true});\n",
              "}}\n",
              "\n",
              "// Listen for the clearing of the current output cell\n",
              "var outputEl = gd.closest('.output');\n",
              "if (outputEl) {{\n",
              "    x.observe(outputEl, {childList: true});\n",
              "}}\n",
              "\n",
              "                        })                };                            </script>        </div>\n",
              "</body>\n",
              "</html>"
            ]
          },
          "metadata": {}
        }
      ]
    },
    {
      "cell_type": "markdown",
      "source": [
        "**Why choose this plot?**\n",
        "\n",
        "Histogram is ideal for visualizing the distribution of medication counts, revealing prescribing patterns and highlighting common treatment loads.\n",
        "\n",
        "**Insight:**\n",
        "\n",
        "Most patients take 1–3 medications, peaking at 2, while a smaller group on 8+ drugs indicates high polypharmacy risk and need for medication review.\n",
        "\n"
      ],
      "metadata": {
        "id": "IPuotWsLPXgp"
      }
    },
    {
      "cell_type": "markdown",
      "source": [
        "--------------------\n",
        "\n",
        "## **12. Encounters vs Conditions**"
      ],
      "metadata": {
        "id": "zVJJLPuuPgZa"
      }
    },
    {
      "cell_type": "code",
      "source": [
        "\n",
        "px.density_heatmap(df_plot, x=\"num_encounters\", y=\"num_conditions\", title=\"Encounters vs Conditions\")\n",
        "\n"
      ],
      "metadata": {
        "colab": {
          "base_uri": "https://localhost:8080/",
          "height": 542
        },
        "id": "MY5hcDmQ7-mG",
        "outputId": "1da43131-5a84-4b0a-9fb1-d79c2acdcb41"
      },
      "execution_count": 32,
      "outputs": [
        {
          "output_type": "display_data",
          "data": {
            "text/html": [
              "<html>\n",
              "<head><meta charset=\"utf-8\" /></head>\n",
              "<body>\n",
              "    <div>            <script src=\"https://cdnjs.cloudflare.com/ajax/libs/mathjax/2.7.5/MathJax.js?config=TeX-AMS-MML_SVG\"></script><script type=\"text/javascript\">if (window.MathJax && window.MathJax.Hub && window.MathJax.Hub.Config) {window.MathJax.Hub.Config({SVG: {font: \"STIX-Web\"}});}</script>                <script type=\"text/javascript\">window.PlotlyConfig = {MathJaxConfig: 'local'};</script>\n",
              "        <script charset=\"utf-8\" src=\"https://cdn.plot.ly/plotly-2.35.2.min.js\"></script>                <div id=\"1551a8bb-dd8c-4076-898f-ff67db81cad4\" class=\"plotly-graph-div\" style=\"height:525px; width:100%;\"></div>            <script type=\"text/javascript\">                                    window.PLOTLYENV=window.PLOTLYENV || {};                                    if (document.getElementById(\"1551a8bb-dd8c-4076-898f-ff67db81cad4\")) {                    Plotly.newPlot(                        \"1551a8bb-dd8c-4076-898f-ff67db81cad4\",                        [{\"coloraxis\":\"coloraxis\",\"hovertemplate\":\"num_encounters=%{x}\\u003cbr\\u003enum_conditions=%{y}\\u003cbr\\u003ecount=%{z}\\u003cextra\\u003e\\u003c\\u002fextra\\u003e\",\"name\":\"\",\"x\":[1.0,1.0,20.0,16.0,17.0,13.0,17.0,21.0,22.0,21.0,17.0,18.0,15.0,39.0,29.0,17.0,14.0,17.0,8.0,39.0,20.0,14.0,18.0,17.0,11.0,13.0,21.0,39.0,14.0,32.0,9.0,11.0,16.0,14.0,20.0,10.0,12.0,20.0,8.0,14.0,12.0,14.0,11.0,17.0,39.0,39.0,7.0,19.0,11.0,13.0,36.0,10.0,8.0,12.0,12.0,4.0,13.0,9.0,17.0,10.0,20.0,8.0,11.0,8.0,10.0,26.0,10.0,8.0,9.0,13.0,3.0,10.0,10.0,8.0,7.0,14.0,9.0,8.0,8.0,8.0,7.0,6.0,11.0,25.0,32.0,5.0,9.0,10.0,8.0,7.0,3.0,6.0,5.0,7.0,6.0,4.0,6.0,5.0,6.0,5.0,4.0,16.0,4.0,8.0,13.0,3.0,4.0,5.0,6.0,5.0,17.0,3.0,4.0,7.0,4.0,25.0,2.0,3.0,2.0,3.0,3.0,5.0,17.0,3.0,3.0,3.0,2.0,4.0,4.0,3.0,3.0,2.0,3.0,4.0,1.0,2.0,2.0,3.0,7.0,4.0,2.0,1.0,1.0,1.0,1.0,1.0,1.0,1.0,1.0,1.0,1.0,1.0,1.0,1.0,1.0,1.0,1.0,1.0,1.0,1.0,1.0,1.0,1.0,1.0,1.0,1.0,1.0,1.0,1.0,1.0,1.0,1.0,1.0,1.0,1.0,1.0,1.0,1.0,1.0,1.0,1.0,1.0,1.0,1.0,1.0,1.0,1.0,1.0,1.0,1.0,1.0,1.0,1.0,1.0,1.0,1.0,1.0,1.0,1.0,1.0,1.0,1.0,1.0,1.0,1.0,1.0,1.0,1.0,1.0,1.0,1.0,1.0,1.0,1.0,1.0,1.0,1.0,1.0,1.0,1.0,1.0,1.0,1.0,1.0,1.0,1.0,1.0,1.0,1.0,1.0,1.0,1.0,1.0,1.0,1.0,1.0,1.0,1.0,1.0,1.0,1.0,1.0,1.0,1.0,1.0,1.0,1.0,1.0,1.0,1.0,1.0,1.0,1.0,1.0,1.0,1.0,1.0,1.0,1.0,1.0,1.0,1.0,1.0,1.0,1.0,1.0,1.0,1.0,1.0,1.0,1.0,1.0,1.0,1.0,1.0,1.0,1.0,1.0,1.0,1.0,1.0,1.0,2.0,1.0,1.0,1.0,1.0,1.0,1.0,1.0,1.0,1.0,1.0,1.0,1.0,1.0,1.0,1.0,1.0,1.0,1.0,1.0,1.0,1.0,1.0,1.0,1.0,1.0,1.0,1.0,1.0,1.0,1.0,1.0,1.0,1.0,1.0,1.0,1.0,1.0,1.0,1.0,1.0,1.0,1.0,1.0,1.0,1.0,1.0,1.0,1.0,1.0,1.0,1.0,1.0,1.0,1.0,1.0,1.0,1.0,1.0,1.0,1.0,1.0,1.0,1.0,1.0,1.0,1.0,1.0,1.0,1.0,1.0,1.0,1.0,1.0,1.0,1.0,1.0,1.0,1.0,1.0,1.0,1.0,1.0,1.0,1.0,1.0,1.0,1.0,1.0,1.0,1.0,1.0,1.0,1.0,1.0,2.0,1.0,1.0,1.0,1.0,1.0,1.0,1.0,1.0,1.0,1.0,1.0,1.0,1.0,1.0,1.0,1.0,1.0,1.0,1.0,1.0,1.0,1.0,1.0,1.0,1.0,1.0,1.0,1.0,1.0,1.0,1.0,1.0,1.0,1.0,1.0,1.0,1.0,1.0,1.0,1.0,1.0,1.0,1.0,1.0,1.0,1.0,1.0,1.0,1.0,1.0,1.0,1.0,1.0,1.0,1.0,1.0,1.0,1.0,1.0,1.0,1.0,1.0,1.0,1.0,1.0,1.0,1.0,1.0,1.0,1.0,1.0,1.0,1.0,1.0,1.0,1.0,1.0,1.0,1.0,17.0,12.0,10.0,12.0,14.0,14.0,11.0,12.0,17.0,11.0,14.0,17.0,12.0,0.0,1.0,2.0,2.0,2.0,3.0,3.0,3.0,3.0,3.0,4.0,4.0,5.0,5.0,5.0,5.0,5.0,8.0,6.0,6.0,6.0,7.0,6.0,8.0,6.0,10.0,8.0,8.0,8.0,8.0,12.0,8.0,11.0,9.0,12.0,12.0,12.0,10.0,13.0,11.0,10.0,13.0,9.0,12.0,11.0,11.0,12.0,11.0,10.0,14.0,15.0,13.0,12.0,17.0,12.0,13.0,15.0,12.0,12.0,18.0,14.0,15.0,16.0,12.0,19.0,14.0,15.0,13.0,15.0,28.0,21.0,17.0,14.0,16.0,18.0,21.0,16.0,15.0,20.0,16.0,20.0,17.0,19.0,18.0,20.0,17.0,15.0,16.0,17.0,21.0,22.0,16.0,15.0,17.0,19.0,19.0,18.0,26.0,16.0,23.0,18.0,18.0,21.0,25.0,23.0,17.0,25.0,25.0,25.0,21.0,19.0,20.0,18.0,17.0,23.0,20.0,18.0,19.0,20.0,24.0,24.0,18.0,23.0,23.0,25.0,23.0,19.0,22.0,22.0,28.0,20.0,24.0,24.0,22.0,25.0,23.0,27.0,21.0,23.0,23.0,24.0,27.0,23.0,21.0,22.0,25.0,28.0,28.0,22.0,24.0,21.0,22.0,25.0,20.0,37.0,20.0,22.0,24.0,25.0,17.0,19.0,18.0,18.0,20.0,18.0,17.0,17.0,17.0,15.0,17.0,19.0,20.0,13.0,17.0,24.0,16.0,18.0,18.0,14.0,18.0,17.0,22.0,14.0,18.0,36.0,18.0,23.0,18.0,21.0,20.0,18.0,19.0,14.0,20.0,25.0,12.0,13.0,12.0,15.0,11.0,14.0,19.0,11.0,11.0,13.0,17.0,19.0,17.0,15.0,13.0,14.0,39.0,22.0,21.0,12.0,14.0,39.0,12.0,21.0,18.0,18.0,12.0,15.0,16.0,17.0,39.0,12.0,23.0,23.0,11.0,16.0,13.0,11.0,22.0,39.0,15.0,12.0,12.0,14.0,12.0,20.0,15.0,13.0,16.0,22.0,14.0,13.0,13.0,12.0,23.0,15.0,39.0,39.0,17.0,16.0,12.0,17.0,21.0,15.0,16.0,30.0,12.0,13.0,14.0,16.0,17.0,39.0,18.0,12.0,15.0,14.0,11.0,14.0,28.0,25.0,14.0,15.0,12.0,14.0,12.0,13.0,16.0,35.0,12.0,13.0,22.0,20.0,31.0,39.0,23.0,39.0,24.0,18.0,13.0,33.0,11.0,12.0,14.0,27.0,18.0,39.0,12.0,39.0,21.0,13.0,14.0,11.0,15.0,15.0,20.0,24.0,14.0,19.0,19.0,39.0,12.0,10.0,39.0,14.0,39.0,13.0,18.0,15.0,39.0,39.0,16.0,13.0,11.0,16.0,11.0,39.0,20.0,39.0,18.0,13.0,29.0,9.0,27.0,14.0,21.0,9.0,14.0,22.0,35.0,39.0,39.0,25.0,39.0,30.0,39.0,39.0,9.0,39.0,27.0,36.0,13.0,25.0,39.0,39.0,9.0,12.0,18.0,11.0,9.0,39.0,8.0,9.0,10.0,11.0,20.0,11.0,32.0,16.0,39.0,8.0,8.0,27.0,19.0,32.0,15.0,19.0,32.0,39.0,23.0,39.0,9.0,14.0,7.0,10.0,9.0,33.0,31.0,12.0,7.0,9.0,7.0,30.0,18.0,35.0,15.0,20.0,38.0,9.0,22.0,12.0,30.0,26.0,6.0,39.0,7.0,7.0,9.0,37.0,10.0,7.0,33.0,39.0,34.0,20.0,5.0,4.0,11.0,6.0,10.0,8.0,4.0,39.0,19.0,33.0,7.0,4.0,5.0,27.0,24.0,11.0,6.0,31.0,39.0,13.0,11.0,7.0,5.0,7.0,37.0,16.0,31.0,7.0,6.0,23.0,12.0,32.0,9.0,39.0,5.0,9.0,25.0,5.0,39.0,5.0,11.0,9.0,8.0,19.0,7.0,39.0,6.0,8.0,9.0,5.0,3.0,39.0,39.0,14.0,39.0,39.0,5.0,10.0,39.0,9.0,5.0,7.0,16.0,11.0,9.0,12.0,39.0,4.0,9.0,39.0,37.0,13.0,8.0,39.0,39.0,7.0,3.0,4.0,39.0,9.0,12.0,39.0,6.0,7.0,4.0,24.0,39.0,7.0,30.0,9.0,32.0,8.0,8.0,5.0,39.0,6.0,13.0,3.0,5.0,10.0,16.0,4.0,7.0,7.0,39.0,7.0,5.0,6.0,8.0,8.0,37.0,11.0,39.0,4.0,5.0,30.0,39.0,19.0,8.0,39.0,9.0,39.0,6.0,39.0,12.0,8.0,20.0,39.0,39.0,7.0,30.0,31.0,33.0,9.0,5.0,34.0,39.0,39.0,38.0,7.0,16.0,30.0,32.0,6.0,13.0,6.0,8.0,7.0,6.0,8.0,6.0,39.0,5.0,6.0,31.0,12.0,39.0,11.0,4.0,7.0,24.0,39.0,5.0,6.0,14.0,8.0,5.0,6.0,39.0,5.0,5.0,8.0,16.0,14.0,10.0,9.0,6.0,18.0,6.0,24.0,39.0,8.0,6.0,31.0,10.0,5.0,18.0,39.0,8.0,17.0,17.0,9.0,39.0,8.0,5.0,9.0,4.0,4.0,6.0,8.0,39.0,6.0,39.0,12.0,16.0,7.0,22.0,8.0,8.0,5.0,39.0,25.0,6.0,10.0,19.0,39.0,24.0,8.0,6.0,6.0,6.0,39.0,5.0,7.0,36.0,6.0,21.0,7.0,29.0,7.0,15.0,6.0,6.0,6.0,5.0,19.0,16.0,14.0,5.0,12.0,7.0,7.0,7.0,16.0,10.0,8.0,14.0,6.0,13.0,10.0,11.0,6.0,39.0,10.0,39.0,7.0,9.0,15.0,9.0,10.0,7.0,39.0,12.0,39.0,39.0,7.0,39.0,35.0,39.0,11.0,18.0,8.0,6.0,6.0,7.0,10.0,24.0,8.0,14.0,8.0,17.0,24.0,8.0,39.0,9.0,7.0,14.0,6.0,10.0,16.0,13.0,39.0,7.0,13.0,14.0,16.0,7.0,8.0,7.0,13.0,11.0,11.0,10.0,20.0,6.0,12.0,17.0,9.0,11.0,22.0,10.0,18.0,12.0,10.0,8.0,19.0,9.0,16.0,11.0,16.0,28.0,16.0,14.0,12.0,13.0,9.0,9.0,12.0,15.0,14.0,12.0,11.0,11.0,39.0,15.0,16.0,12.0,13.0,14.0,17.0,12.0,19.0,17.0,16.0,15.0,9.0,17.0,18.0,14.0,13.0,9.0,11.0,10.0,20.0,10.0,17.0,17.0,16.0,8.0,10.0,10.0,11.0,39.0,17.0,14.0,11.0,10.0,22.0,12.0,11.0,17.0,13.0,30.0,16.0,13.0,17.0,12.0,14.0,16.0,14.0,15.0,18.0,11.0,15.0,19.0,34.0,30.0,13.0,10.0,15.0,15.0,14.0,16.0,14.0,14.0,20.0,13.0,14.0,14.0,15.0,15.0,17.0,21.0,13.0,13.0,22.0,14.0,14.0,18.0,20.0,11.0,13.0,18.0,13.0,16.0,14.0,14.0,14.0,15.0,15.0,14.0,25.0,17.0,16.0,15.0,14.0,15.0,14.0,11.0,18.0,20.0,18.0,16.0,17.0,13.0,13.0,16.0,18.0,13.0,17.0,17.0,13.0,15.0,15.0,13.0,19.0,14.0,18.0,12.0,15.0,11.0,13.0,11.0,23.0,19.0,16.0,15.0,15.0,12.0,14.0,22.0,17.0,14.0,15.0,14.0,22.0,13.0,17.0,15.0,14.0,15.0,16.0,39.0,15.0,12.0,14.0,17.0,15.0,14.0,13.0,19.0,19.0,19.0,13.0,13.0,17.0,12.0,20.0,15.0,39.0,16.0,18.0,15.0,12.0,23.0,16.0,16.0,21.0,15.0,12.0,22.0,17.0,19.0,16.0,24.0,14.0,15.0,23.0,15.0,22.0,16.0,16.0,22.0,12.0,29.0,19.0,16.0,13.0,13.0,18.0,16.0,15.0,13.0,14.0,14.0,15.0,39.0,17.0,11.0,13.0,16.0,16.0,18.0,21.0,13.0,21.0,12.0,12.0,16.0,39.0,15.0,15.0,24.0,14.0,19.0,23.0,15.0,18.0,15.0,15.0,17.0,18.0,15.0,11.0,13.0,18.0,13.0,14.0,15.0,11.0,17.0,16.0,13.0,16.0,19.0,13.0,18.0,19.0,16.0,15.0,15.0,16.0,14.0],\"xaxis\":\"x\",\"xbingroup\":\"x\",\"y\":[0.0,1.0,9.0,10.0,9.0,4.0,11.0,8.0,11.0,5.0,9.0,5.0,4.0,8.0,10.0,7.0,7.0,4.0,2.0,9.0,8.0,6.0,9.0,9.0,3.0,13.0,11.0,6.0,3.0,10.0,2.0,11.0,10.0,12.0,9.0,8.0,4.0,11.0,6.0,2.0,3.0,7.0,5.0,9.0,12.0,7.0,0.0,12.0,4.0,4.0,7.0,5.0,4.0,0.0,7.0,1.0,4.0,3.0,9.0,5.0,5.0,4.0,5.0,2.0,6.0,5.0,9.0,8.0,2.0,6.0,0.0,4.0,4.0,2.0,2.0,2.0,13.0,2.0,7.0,7.0,6.0,2.0,8.0,5.0,10.0,4.0,8.0,5.0,5.0,7.0,2.0,3.0,4.0,3.0,13.0,1.0,5.0,3.0,10.0,3.0,3.0,8.0,2.0,4.0,4.0,3.0,4.0,3.0,3.0,1.0,5.0,3.0,5.0,3.0,3.0,5.0,4.0,0.0,2.0,4.0,3.0,5.0,4.0,1.0,3.0,2.0,2.0,7.0,4.0,1.0,6.0,5.0,0.0,8.0,8.0,4.0,0.0,1.0,4.0,3.0,3.0,1.0,6.0,5.0,5.0,9.0,2.0,4.0,4.0,6.0,1.0,2.0,1.0,2.0,2.0,6.0,4.0,4.0,4.0,4.0,2.0,3.0,2.0,2.0,1.0,3.0,2.0,1.0,8.0,3.0,3.0,1.0,3.0,1.0,4.0,1.0,2.0,9.0,3.0,7.0,4.0,3.0,3.0,7.0,3.0,1.0,4.0,3.0,3.0,2.0,4.0,7.0,7.0,3.0,1.0,3.0,0.0,6.0,5.0,7.0,4.0,8.0,6.0,8.0,4.0,6.0,4.0,6.0,5.0,1.0,6.0,4.0,2.0,6.0,2.0,2.0,2.0,4.0,7.0,8.0,6.0,3.0,6.0,3.0,6.0,2.0,12.0,1.0,0.0,6.0,8.0,6.0,3.0,2.0,0.0,6.0,5.0,1.0,2.0,4.0,6.0,11.0,3.0,1.0,11.0,7.0,5.0,3.0,6.0,1.0,1.0,1.0,1.0,5.0,1.0,6.0,6.0,5.0,7.0,6.0,5.0,5.0,10.0,3.0,2.0,2.0,2.0,4.0,3.0,5.0,2.0,3.0,5.0,6.0,3.0,3.0,2.0,4.0,5.0,6.0,3.0,6.0,8.0,7.0,3.0,3.0,5.0,11.0,1.0,3.0,4.0,5.0,3.0,8.0,4.0,7.0,3.0,2.0,0.0,5.0,2.0,5.0,4.0,2.0,7.0,0.0,6.0,5.0,0.0,2.0,2.0,3.0,5.0,2.0,5.0,5.0,0.0,2.0,1.0,2.0,2.0,3.0,2.0,1.0,3.0,3.0,1.0,5.0,5.0,2.0,0.0,3.0,3.0,1.0,6.0,4.0,4.0,11.0,3.0,3.0,7.0,0.0,2.0,1.0,2.0,13.0,3.0,0.0,0.0,6.0,6.0,6.0,4.0,4.0,1.0,2.0,0.0,1.0,3.0,4.0,5.0,1.0,7.0,1.0,4.0,5.0,2.0,9.0,4.0,13.0,1.0,7.0,5.0,1.0,2.0,3.0,2.0,4.0,1.0,3.0,0.0,4.0,4.0,2.0,2.0,8.0,5.0,1.0,3.0,2.0,4.0,4.0,2.0,5.0,3.0,0.0,4.0,2.0,7.0,4.0,8.0,3.0,3.0,0.0,4.0,2.0,5.0,1.0,3.0,1.0,4.0,0.0,3.0,3.0,2.0,2.0,2.0,6.0,6.0,2.0,5.0,2.0,2.0,2.0,0.0,6.0,3.0,3.0,3.0,3.0,1.0,1.0,3.0,3.0,5.0,2.0,4.0,3.0,0.0,1.0,4.0,1.0,1.0,5.0,0.0,1.0,6.0,2.0,2.0,3.0,3.0,3.0,5.0,3.0,4.0,2.0,0.0,9.0,6.0,4.0,6.0,4.0,7.0,4.0,4.0,13.0,5.0,7.0,10.0,7.0,0.0,0.0,0.0,0.0,0.0,0.0,0.0,0.0,0.0,0.0,0.0,0.0,0.0,0.0,0.0,0.0,0.0,0.0,0.0,0.0,0.0,0.0,0.0,1.0,0.0,3.0,1.0,1.0,0.0,0.0,2.0,0.0,4.0,1.0,3.0,2.0,2.0,1.0,2.0,1.0,1.0,1.0,0.0,2.0,1.0,2.0,2.0,1.0,0.0,3.0,3.0,3.0,1.0,1.0,1.0,2.0,3.0,0.0,1.0,4.0,2.0,3.0,4.0,0.0,4.0,2.0,5.0,2.0,2.0,1.0,2.0,4.0,1.0,1.0,3.0,5.0,4.0,3.0,5.0,3.0,4.0,4.0,3.0,4.0,3.0,3.0,1.0,3.0,2.0,6.0,5.0,1.0,1.0,4.0,3.0,5.0,4.0,7.0,1.0,6.0,3.0,1.0,4.0,7.0,7.0,2.0,6.0,2.0,5.0,5.0,4.0,4.0,3.0,1.0,7.0,4.0,3.0,4.0,3.0,3.0,6.0,2.0,5.0,7.0,6.0,4.0,2.0,5.0,5.0,6.0,3.0,7.0,6.0,4.0,7.0,6.0,3.0,4.0,6.0,4.0,7.0,7.0,6.0,4.0,4.0,4.0,8.0,6.0,5.0,3.0,5.0,4.0,6.0,3.0,11.0,3.0,6.0,10.0,3.0,3.0,3.0,4.0,4.0,6.0,4.0,3.0,4.0,3.0,2.0,3.0,6.0,6.0,1.0,4.0,7.0,4.0,5.0,5.0,3.0,5.0,5.0,9.0,3.0,7.0,10.0,5.0,8.0,7.0,7.0,9.0,5.0,9.0,2.0,8.0,6.0,3.0,3.0,2.0,4.0,1.0,4.0,6.0,2.0,2.0,3.0,6.0,4.0,7.0,4.0,4.0,3.0,3.0,10.0,4.0,3.0,5.0,7.0,2.0,5.0,4.0,7.0,2.0,5.0,5.0,3.0,3.0,2.0,11.0,4.0,2.0,5.0,2.0,2.0,9.0,9.0,5.0,2.0,3.0,2.0,2.0,7.0,5.0,6.0,4.0,4.0,4.0,3.0,2.0,1.0,5.0,4.0,4.0,4.0,6.0,6.0,5.0,5.0,5.0,2.0,6.0,7.0,3.0,4.0,4.0,6.0,3.0,3.0,6.0,3.0,2.0,3.0,1.0,4.0,5.0,3.0,4.0,5.0,2.0,1.0,3.0,3.0,6.0,6.0,2.0,3.0,9.0,6.0,9.0,7.0,8.0,10.0,6.0,7.0,4.0,6.0,3.0,2.0,5.0,7.0,3.0,4.0,2.0,5.0,2.0,4.0,3.0,3.0,4.0,2.0,5.0,2.0,3.0,5.0,4.0,5.0,3.0,1.0,5.0,4.0,7.0,3.0,7.0,3.0,10.0,6.0,3.0,4.0,3.0,6.0,2.0,9.0,6.0,3.0,6.0,3.0,5.0,1.0,11.0,8.0,6.0,2.0,7.0,4.0,8.0,2.0,7.0,5.0,6.0,5.0,7.0,13.0,1.0,9.0,6.0,7.0,5.0,6.0,3.0,7.0,5.0,5.0,5.0,4.0,3.0,7.0,2.0,3.0,4.0,5.0,8.0,5.0,13.0,8.0,2.0,3.0,3.0,4.0,5.0,10.0,8.0,10.0,7.0,11.0,3.0,11.0,4.0,1.0,3.0,5.0,5.0,7.0,7.0,8.0,2.0,3.0,5.0,6.0,7.0,9.0,4.0,6.0,4.0,6.0,11.0,3.0,6.0,10.0,2.0,9.0,3.0,3.0,5.0,6.0,5.0,4.0,8.0,8.0,5.0,6.0,2.0,1.0,5.0,2.0,6.0,4.0,1.0,11.0,6.0,12.0,6.0,1.0,1.0,3.0,8.0,8.0,3.0,11.0,8.0,3.0,11.0,4.0,2.0,4.0,9.0,5.0,5.0,6.0,3.0,3.0,9.0,7.0,5.0,11.0,3.0,5.0,6.0,3.0,11.0,5.0,8.0,6.0,5.0,6.0,3.0,8.0,3.0,4.0,5.0,3.0,1.0,12.0,10.0,7.0,6.0,13.0,3.0,3.0,7.0,3.0,2.0,5.0,5.0,5.0,5.0,5.0,12.0,1.0,9.0,12.0,11.0,4.0,8.0,13.0,9.0,6.0,1.0,3.0,8.0,6.0,6.0,9.0,2.0,6.0,1.0,8.0,6.0,5.0,6.0,2.0,8.0,5.0,7.0,1.0,13.0,3.0,6.0,1.0,2.0,5.0,5.0,2.0,5.0,5.0,4.0,5.0,2.0,4.0,5.0,4.0,8.0,6.0,7.0,3.0,3.0,13.0,9.0,6.0,4.0,9.0,4.0,13.0,3.0,11.0,2.0,3.0,10.0,2.0,4.0,4.0,5.0,6.0,7.0,4.0,3.0,8.0,8.0,6.0,4.0,4.0,6.0,9.0,8.0,4.0,4.0,5.0,8.0,3.0,2.0,4.0,6.0,9.0,3.0,3.0,5.0,3.0,3.0,6.0,1.0,3.0,8.0,9.0,3.0,4.0,11.0,4.0,4.0,1.0,5.0,2.0,4.0,5.0,3.0,5.0,7.0,7.0,3.0,2.0,3.0,9.0,3.0,4.0,2.0,10.0,3.0,3.0,9.0,3.0,5.0,6.0,1.0,4.0,11.0,4.0,3.0,1.0,2.0,4.0,4.0,4.0,10.0,3.0,6.0,6.0,7.0,4.0,8.0,8.0,8.0,3.0,13.0,9.0,3.0,5.0,9.0,3.0,11.0,5.0,4.0,7.0,3.0,5.0,1.0,4.0,5.0,6.0,6.0,7.0,7.0,7.0,5.0,4.0,2.0,3.0,2.0,6.0,5.0,13.0,4.0,9.0,3.0,4.0,6.0,9.0,7.0,3.0,3.0,5.0,2.0,6.0,5.0,2.0,4.0,3.0,9.0,4.0,6.0,3.0,7.0,7.0,6.0,2.0,8.0,5.0,5.0,7.0,6.0,7.0,5.0,7.0,8.0,3.0,2.0,3.0,3.0,9.0,3.0,3.0,8.0,4.0,3.0,7.0,2.0,10.0,7.0,3.0,6.0,2.0,7.0,4.0,5.0,6.0,1.0,9.0,10.0,9.0,1.0,4.0,3.0,8.0,7.0,5.0,4.0,4.0,3.0,6.0,7.0,2.0,4.0,5.0,4.0,6.0,5.0,4.0,1.0,3.0,3.0,8.0,7.0,8.0,13.0,7.0,7.0,5.0,6.0,3.0,4.0,6.0,6.0,2.0,5.0,4.0,6.0,8.0,3.0,8.0,9.0,6.0,6.0,5.0,6.0,6.0,10.0,3.0,4.0,3.0,10.0,6.0,7.0,6.0,2.0,3.0,2.0,9.0,2.0,11.0,8.0,7.0,3.0,2.0,4.0,4.0,6.0,8.0,7.0,1.0,4.0,12.0,10.0,3.0,3.0,6.0,11.0,6.0,6.0,5.0,4.0,6.0,8.0,9.0,4.0,4.0,7.0,4.0,10.0,5.0,7.0,5.0,5.0,7.0,7.0,5.0,5.0,5.0,3.0,7.0,3.0,4.0,4.0,5.0,4.0,13.0,8.0,4.0,3.0,5.0,5.0,4.0,5.0,7.0,2.0,5.0,8.0,7.0,6.0,4.0,5.0,4.0,5.0,5.0,3.0,10.0,7.0,2.0,4.0,8.0,4.0,3.0,2.0,6.0,7.0,4.0,7.0,7.0,5.0,8.0,7.0,7.0,2.0,7.0,8.0,7.0,3.0,5.0,2.0,5.0,7.0,11.0,2.0,3.0,3.0,1.0,4.0,11.0,9.0,7.0,3.0,8.0,3.0,6.0,12.0,7.0,3.0,3.0,3.0,10.0,2.0,6.0,7.0,7.0,4.0,9.0,13.0,4.0,8.0,7.0,9.0,2.0,5.0,4.0,6.0,4.0,9.0,7.0,3.0,7.0,3.0,10.0,6.0,9.0,7.0,7.0,9.0,3.0,13.0,6.0,5.0,11.0,4.0,5.0,13.0,7.0,7.0,7.0,8.0,4.0,6.0,6.0,13.0,10.0,9.0,7.0,9.0,6.0,13.0,13.0,7.0,2.0,7.0,8.0,6.0,8.0,3.0,9.0,4.0,5.0,13.0,7.0,3.0,7.0,10.0,10.0,10.0,10.0,3.0,9.0,4.0,8.0,7.0,7.0,6.0,4.0,12.0,6.0,7.0,11.0,6.0,7.0,4.0,10.0,8.0,8.0,7.0,5.0,7.0,6.0,3.0,4.0,6.0,3.0,10.0,5.0,2.0,7.0,12.0,6.0,10.0,9.0,8.0,10.0,9.0,9.0,4.0],\"yaxis\":\"y\",\"ybingroup\":\"y\",\"type\":\"histogram2d\"}],                        {\"template\":{\"data\":{\"histogram2dcontour\":[{\"type\":\"histogram2dcontour\",\"colorbar\":{\"outlinewidth\":0,\"ticks\":\"\"},\"colorscale\":[[0.0,\"#0d0887\"],[0.1111111111111111,\"#46039f\"],[0.2222222222222222,\"#7201a8\"],[0.3333333333333333,\"#9c179e\"],[0.4444444444444444,\"#bd3786\"],[0.5555555555555556,\"#d8576b\"],[0.6666666666666666,\"#ed7953\"],[0.7777777777777778,\"#fb9f3a\"],[0.8888888888888888,\"#fdca26\"],[1.0,\"#f0f921\"]]}],\"choropleth\":[{\"type\":\"choropleth\",\"colorbar\":{\"outlinewidth\":0,\"ticks\":\"\"}}],\"histogram2d\":[{\"type\":\"histogram2d\",\"colorbar\":{\"outlinewidth\":0,\"ticks\":\"\"},\"colorscale\":[[0.0,\"#0d0887\"],[0.1111111111111111,\"#46039f\"],[0.2222222222222222,\"#7201a8\"],[0.3333333333333333,\"#9c179e\"],[0.4444444444444444,\"#bd3786\"],[0.5555555555555556,\"#d8576b\"],[0.6666666666666666,\"#ed7953\"],[0.7777777777777778,\"#fb9f3a\"],[0.8888888888888888,\"#fdca26\"],[1.0,\"#f0f921\"]]}],\"heatmap\":[{\"type\":\"heatmap\",\"colorbar\":{\"outlinewidth\":0,\"ticks\":\"\"},\"colorscale\":[[0.0,\"#0d0887\"],[0.1111111111111111,\"#46039f\"],[0.2222222222222222,\"#7201a8\"],[0.3333333333333333,\"#9c179e\"],[0.4444444444444444,\"#bd3786\"],[0.5555555555555556,\"#d8576b\"],[0.6666666666666666,\"#ed7953\"],[0.7777777777777778,\"#fb9f3a\"],[0.8888888888888888,\"#fdca26\"],[1.0,\"#f0f921\"]]}],\"heatmapgl\":[{\"type\":\"heatmapgl\",\"colorbar\":{\"outlinewidth\":0,\"ticks\":\"\"},\"colorscale\":[[0.0,\"#0d0887\"],[0.1111111111111111,\"#46039f\"],[0.2222222222222222,\"#7201a8\"],[0.3333333333333333,\"#9c179e\"],[0.4444444444444444,\"#bd3786\"],[0.5555555555555556,\"#d8576b\"],[0.6666666666666666,\"#ed7953\"],[0.7777777777777778,\"#fb9f3a\"],[0.8888888888888888,\"#fdca26\"],[1.0,\"#f0f921\"]]}],\"contourcarpet\":[{\"type\":\"contourcarpet\",\"colorbar\":{\"outlinewidth\":0,\"ticks\":\"\"}}],\"contour\":[{\"type\":\"contour\",\"colorbar\":{\"outlinewidth\":0,\"ticks\":\"\"},\"colorscale\":[[0.0,\"#0d0887\"],[0.1111111111111111,\"#46039f\"],[0.2222222222222222,\"#7201a8\"],[0.3333333333333333,\"#9c179e\"],[0.4444444444444444,\"#bd3786\"],[0.5555555555555556,\"#d8576b\"],[0.6666666666666666,\"#ed7953\"],[0.7777777777777778,\"#fb9f3a\"],[0.8888888888888888,\"#fdca26\"],[1.0,\"#f0f921\"]]}],\"surface\":[{\"type\":\"surface\",\"colorbar\":{\"outlinewidth\":0,\"ticks\":\"\"},\"colorscale\":[[0.0,\"#0d0887\"],[0.1111111111111111,\"#46039f\"],[0.2222222222222222,\"#7201a8\"],[0.3333333333333333,\"#9c179e\"],[0.4444444444444444,\"#bd3786\"],[0.5555555555555556,\"#d8576b\"],[0.6666666666666666,\"#ed7953\"],[0.7777777777777778,\"#fb9f3a\"],[0.8888888888888888,\"#fdca26\"],[1.0,\"#f0f921\"]]}],\"mesh3d\":[{\"type\":\"mesh3d\",\"colorbar\":{\"outlinewidth\":0,\"ticks\":\"\"}}],\"scatter\":[{\"fillpattern\":{\"fillmode\":\"overlay\",\"size\":10,\"solidity\":0.2},\"type\":\"scatter\"}],\"parcoords\":[{\"type\":\"parcoords\",\"line\":{\"colorbar\":{\"outlinewidth\":0,\"ticks\":\"\"}}}],\"scatterpolargl\":[{\"type\":\"scatterpolargl\",\"marker\":{\"colorbar\":{\"outlinewidth\":0,\"ticks\":\"\"}}}],\"bar\":[{\"error_x\":{\"color\":\"#2a3f5f\"},\"error_y\":{\"color\":\"#2a3f5f\"},\"marker\":{\"line\":{\"color\":\"#E5ECF6\",\"width\":0.5},\"pattern\":{\"fillmode\":\"overlay\",\"size\":10,\"solidity\":0.2}},\"type\":\"bar\"}],\"scattergeo\":[{\"type\":\"scattergeo\",\"marker\":{\"colorbar\":{\"outlinewidth\":0,\"ticks\":\"\"}}}],\"scatterpolar\":[{\"type\":\"scatterpolar\",\"marker\":{\"colorbar\":{\"outlinewidth\":0,\"ticks\":\"\"}}}],\"histogram\":[{\"marker\":{\"pattern\":{\"fillmode\":\"overlay\",\"size\":10,\"solidity\":0.2}},\"type\":\"histogram\"}],\"scattergl\":[{\"type\":\"scattergl\",\"marker\":{\"colorbar\":{\"outlinewidth\":0,\"ticks\":\"\"}}}],\"scatter3d\":[{\"type\":\"scatter3d\",\"line\":{\"colorbar\":{\"outlinewidth\":0,\"ticks\":\"\"}},\"marker\":{\"colorbar\":{\"outlinewidth\":0,\"ticks\":\"\"}}}],\"scattermapbox\":[{\"type\":\"scattermapbox\",\"marker\":{\"colorbar\":{\"outlinewidth\":0,\"ticks\":\"\"}}}],\"scatterternary\":[{\"type\":\"scatterternary\",\"marker\":{\"colorbar\":{\"outlinewidth\":0,\"ticks\":\"\"}}}],\"scattercarpet\":[{\"type\":\"scattercarpet\",\"marker\":{\"colorbar\":{\"outlinewidth\":0,\"ticks\":\"\"}}}],\"carpet\":[{\"aaxis\":{\"endlinecolor\":\"#2a3f5f\",\"gridcolor\":\"white\",\"linecolor\":\"white\",\"minorgridcolor\":\"white\",\"startlinecolor\":\"#2a3f5f\"},\"baxis\":{\"endlinecolor\":\"#2a3f5f\",\"gridcolor\":\"white\",\"linecolor\":\"white\",\"minorgridcolor\":\"white\",\"startlinecolor\":\"#2a3f5f\"},\"type\":\"carpet\"}],\"table\":[{\"cells\":{\"fill\":{\"color\":\"#EBF0F8\"},\"line\":{\"color\":\"white\"}},\"header\":{\"fill\":{\"color\":\"#C8D4E3\"},\"line\":{\"color\":\"white\"}},\"type\":\"table\"}],\"barpolar\":[{\"marker\":{\"line\":{\"color\":\"#E5ECF6\",\"width\":0.5},\"pattern\":{\"fillmode\":\"overlay\",\"size\":10,\"solidity\":0.2}},\"type\":\"barpolar\"}],\"pie\":[{\"automargin\":true,\"type\":\"pie\"}]},\"layout\":{\"autotypenumbers\":\"strict\",\"colorway\":[\"#636efa\",\"#EF553B\",\"#00cc96\",\"#ab63fa\",\"#FFA15A\",\"#19d3f3\",\"#FF6692\",\"#B6E880\",\"#FF97FF\",\"#FECB52\"],\"font\":{\"color\":\"#2a3f5f\"},\"hovermode\":\"closest\",\"hoverlabel\":{\"align\":\"left\"},\"paper_bgcolor\":\"white\",\"plot_bgcolor\":\"#E5ECF6\",\"polar\":{\"bgcolor\":\"#E5ECF6\",\"angularaxis\":{\"gridcolor\":\"white\",\"linecolor\":\"white\",\"ticks\":\"\"},\"radialaxis\":{\"gridcolor\":\"white\",\"linecolor\":\"white\",\"ticks\":\"\"}},\"ternary\":{\"bgcolor\":\"#E5ECF6\",\"aaxis\":{\"gridcolor\":\"white\",\"linecolor\":\"white\",\"ticks\":\"\"},\"baxis\":{\"gridcolor\":\"white\",\"linecolor\":\"white\",\"ticks\":\"\"},\"caxis\":{\"gridcolor\":\"white\",\"linecolor\":\"white\",\"ticks\":\"\"}},\"coloraxis\":{\"colorbar\":{\"outlinewidth\":0,\"ticks\":\"\"}},\"colorscale\":{\"sequential\":[[0.0,\"#0d0887\"],[0.1111111111111111,\"#46039f\"],[0.2222222222222222,\"#7201a8\"],[0.3333333333333333,\"#9c179e\"],[0.4444444444444444,\"#bd3786\"],[0.5555555555555556,\"#d8576b\"],[0.6666666666666666,\"#ed7953\"],[0.7777777777777778,\"#fb9f3a\"],[0.8888888888888888,\"#fdca26\"],[1.0,\"#f0f921\"]],\"sequentialminus\":[[0.0,\"#0d0887\"],[0.1111111111111111,\"#46039f\"],[0.2222222222222222,\"#7201a8\"],[0.3333333333333333,\"#9c179e\"],[0.4444444444444444,\"#bd3786\"],[0.5555555555555556,\"#d8576b\"],[0.6666666666666666,\"#ed7953\"],[0.7777777777777778,\"#fb9f3a\"],[0.8888888888888888,\"#fdca26\"],[1.0,\"#f0f921\"]],\"diverging\":[[0,\"#8e0152\"],[0.1,\"#c51b7d\"],[0.2,\"#de77ae\"],[0.3,\"#f1b6da\"],[0.4,\"#fde0ef\"],[0.5,\"#f7f7f7\"],[0.6,\"#e6f5d0\"],[0.7,\"#b8e186\"],[0.8,\"#7fbc41\"],[0.9,\"#4d9221\"],[1,\"#276419\"]]},\"xaxis\":{\"gridcolor\":\"white\",\"linecolor\":\"white\",\"ticks\":\"\",\"title\":{\"standoff\":15},\"zerolinecolor\":\"white\",\"automargin\":true,\"zerolinewidth\":2},\"yaxis\":{\"gridcolor\":\"white\",\"linecolor\":\"white\",\"ticks\":\"\",\"title\":{\"standoff\":15},\"zerolinecolor\":\"white\",\"automargin\":true,\"zerolinewidth\":2},\"scene\":{\"xaxis\":{\"backgroundcolor\":\"#E5ECF6\",\"gridcolor\":\"white\",\"linecolor\":\"white\",\"showbackground\":true,\"ticks\":\"\",\"zerolinecolor\":\"white\",\"gridwidth\":2},\"yaxis\":{\"backgroundcolor\":\"#E5ECF6\",\"gridcolor\":\"white\",\"linecolor\":\"white\",\"showbackground\":true,\"ticks\":\"\",\"zerolinecolor\":\"white\",\"gridwidth\":2},\"zaxis\":{\"backgroundcolor\":\"#E5ECF6\",\"gridcolor\":\"white\",\"linecolor\":\"white\",\"showbackground\":true,\"ticks\":\"\",\"zerolinecolor\":\"white\",\"gridwidth\":2}},\"shapedefaults\":{\"line\":{\"color\":\"#2a3f5f\"}},\"annotationdefaults\":{\"arrowcolor\":\"#2a3f5f\",\"arrowhead\":0,\"arrowwidth\":1},\"geo\":{\"bgcolor\":\"white\",\"landcolor\":\"#E5ECF6\",\"subunitcolor\":\"white\",\"showland\":true,\"showlakes\":true,\"lakecolor\":\"white\"},\"title\":{\"x\":0.05},\"mapbox\":{\"style\":\"light\"}}},\"xaxis\":{\"anchor\":\"y\",\"domain\":[0.0,1.0],\"title\":{\"text\":\"num_encounters\"}},\"yaxis\":{\"anchor\":\"x\",\"domain\":[0.0,1.0],\"title\":{\"text\":\"num_conditions\"}},\"coloraxis\":{\"colorbar\":{\"title\":{\"text\":\"count\"}},\"colorscale\":[[0.0,\"#0d0887\"],[0.1111111111111111,\"#46039f\"],[0.2222222222222222,\"#7201a8\"],[0.3333333333333333,\"#9c179e\"],[0.4444444444444444,\"#bd3786\"],[0.5555555555555556,\"#d8576b\"],[0.6666666666666666,\"#ed7953\"],[0.7777777777777778,\"#fb9f3a\"],[0.8888888888888888,\"#fdca26\"],[1.0,\"#f0f921\"]]},\"legend\":{\"tracegroupgap\":0},\"title\":{\"text\":\"Encounters vs Conditions\"}},                        {\"responsive\": true}                    ).then(function(){\n",
              "                            \n",
              "var gd = document.getElementById('1551a8bb-dd8c-4076-898f-ff67db81cad4');\n",
              "var x = new MutationObserver(function (mutations, observer) {{\n",
              "        var display = window.getComputedStyle(gd).display;\n",
              "        if (!display || display === 'none') {{\n",
              "            console.log([gd, 'removed!']);\n",
              "            Plotly.purge(gd);\n",
              "            observer.disconnect();\n",
              "        }}\n",
              "}});\n",
              "\n",
              "// Listen for the removal of the full notebook cells\n",
              "var notebookContainer = gd.closest('#notebook-container');\n",
              "if (notebookContainer) {{\n",
              "    x.observe(notebookContainer, {childList: true});\n",
              "}}\n",
              "\n",
              "// Listen for the clearing of the current output cell\n",
              "var outputEl = gd.closest('.output');\n",
              "if (outputEl) {{\n",
              "    x.observe(outputEl, {childList: true});\n",
              "}}\n",
              "\n",
              "                        })                };                            </script>        </div>\n",
              "</body>\n",
              "</html>"
            ]
          },
          "metadata": {}
        }
      ]
    },
    {
      "cell_type": "markdown",
      "source": [
        "**Why choose this plot**?\n",
        "\n",
        "Heatmap effectively displays the joint frequency of encounters and conditions, revealing how healthcare utilization correlates with disease burden across patient subgroups.\n",
        "\n",
        "**Insight:**\n",
        "\n",
        "Patients with 2–5 conditions most commonly have 5–15 encounters, indicating moderate multimorbidity drives average utilization; extremely high encounter counts (>25) align with both low and high condition counts, suggesting frequent visits are not solely driven by multimorbidity but possibly by acute events or complex care needs."
      ],
      "metadata": {
        "id": "EkeREFP0P7HZ"
      }
    },
    {
      "cell_type": "markdown",
      "source": [
        "------------------\n",
        "\n",
        "## **13. Claims vs Age**"
      ],
      "metadata": {
        "id": "fe5-_CwNQCpp"
      }
    },
    {
      "cell_type": "code",
      "source": [
        "\n",
        "px.scatter(df_plot, x=\"age\", y=\"total_claims\", size=\"num_conditions\", color=\"gender\", title=\"Claims vs Age\")\n",
        "\n"
      ],
      "metadata": {
        "colab": {
          "base_uri": "https://localhost:8080/",
          "height": 542
        },
        "id": "jkX2DH9_7-ip",
        "outputId": "aa4ca347-7d03-4ab3-cf8b-d6f45dbe3ee6"
      },
      "execution_count": 33,
      "outputs": [
        {
          "output_type": "display_data",
          "data": {
            "text/html": [
              "<html>\n",
              "<head><meta charset=\"utf-8\" /></head>\n",
              "<body>\n",
              "    <div>            <script src=\"https://cdnjs.cloudflare.com/ajax/libs/mathjax/2.7.5/MathJax.js?config=TeX-AMS-MML_SVG\"></script><script type=\"text/javascript\">if (window.MathJax && window.MathJax.Hub && window.MathJax.Hub.Config) {window.MathJax.Hub.Config({SVG: {font: \"STIX-Web\"}});}</script>                <script type=\"text/javascript\">window.PlotlyConfig = {MathJaxConfig: 'local'};</script>\n",
              "        <script charset=\"utf-8\" src=\"https://cdn.plot.ly/plotly-2.35.2.min.js\"></script>                <div id=\"9936235f-ee88-4450-baf2-001d5fe51c7c\" class=\"plotly-graph-div\" style=\"height:525px; width:100%;\"></div>            <script type=\"text/javascript\">                                    window.PLOTLYENV=window.PLOTLYENV || {};                                    if (document.getElementById(\"9936235f-ee88-4450-baf2-001d5fe51c7c\")) {                    Plotly.newPlot(                        \"9936235f-ee88-4450-baf2-001d5fe51c7c\",                        [{\"hovertemplate\":\"age=%{x}\\u003cbr\\u003etotal_claims=%{y}\\u003cbr\\u003enum_conditions=%{marker.size}\\u003cbr\\u003egender=%{marker.color}\\u003cextra\\u003e\\u003c\\u002fextra\\u003e\",\"legendgroup\":\"\",\"marker\":{\"color\":[0.0,0.0,1.0,0.0,1.0,1.0,1.0,0.0,1.0,1.0,1.0,1.0,0.0,1.0,0.0,1.0,1.0,1.0,1.0,0.0,1.0,1.0,0.0,0.0,0.0,1.0,0.0,0.0,0.0,1.0,0.0,1.0,0.0,1.0,0.0,1.0,1.0,0.0,0.0,1.0,1.0,1.0,0.0,0.0,0.0,1.0,1.0,0.0,0.0,1.0,1.0,0.0,0.0,0.0,1.0,1.0,0.0,1.0,1.0,0.0,1.0,0.0,1.0,0.0,1.0,0.0,0.0,0.0,1.0,0.0,0.0,0.0,0.0,1.0,1.0,0.0,0.0,0.0,1.0,1.0,1.0,0.0,1.0,0.0,0.0,0.0,1.0,0.0,1.0,1.0,0.0,0.0,0.0,0.0,1.0,0.0,0.0,0.0,1.0,1.0,1.0,0.0,0.0,0.0,1.0,0.0,1.0,1.0,1.0,1.0,0.0,1.0,1.0,0.0,0.0,0.0,0.0,1.0,1.0,1.0,0.0,0.0,0.0,1.0,1.0,1.0,0.0,0.0,1.0,1.0,0.0,0.0,1.0,1.0,1.0,0.0,0.0,0.0,1.0,0.0,1.0,0.0,0.0,0.0,1.0,0.0,0.0,0.0,1.0,1.0,1.0,0.0,0.0,1.0,0.0,1.0,0.0,1.0,1.0,1.0,1.0,0.0,0.0,0.0,1.0,1.0,0.0,1.0,0.0,0.0,0.0,0.0,1.0,0.0,0.0,1.0,1.0,1.0,0.0,1.0,1.0,0.0,1.0,0.0,0.0,0.0,0.0,0.0,0.0,1.0,0.0,0.0,0.0,1.0,1.0,1.0,0.0,1.0,0.0,1.0,1.0,1.0,1.0,1.0,0.0,1.0,0.0,1.0,1.0,0.0,0.0,0.0,0.0,1.0,1.0,1.0,1.0,0.0,1.0,0.0,0.0,1.0,0.0,0.0,1.0,0.0,1.0,0.0,0.0,1.0,1.0,1.0,0.0,1.0,1.0,0.0,1.0,1.0,1.0,0.0,0.0,0.0,0.0,1.0,0.0,1.0,1.0,1.0,1.0,0.0,1.0,0.0,0.0,0.0,0.0,0.0,0.0,1.0,1.0,0.0,1.0,0.0,1.0,1.0,0.0,0.0,0.0,1.0,1.0,0.0,0.0,1.0,0.0,1.0,0.0,1.0,0.0,1.0,1.0,1.0,1.0,0.0,1.0,1.0,1.0,1.0,1.0,1.0,0.0,1.0,1.0,1.0,0.0,1.0,1.0,1.0,0.0,1.0,0.0,0.0,1.0,0.0,1.0,1.0,1.0,0.0,0.0,1.0,1.0,1.0,0.0,0.0,1.0,1.0,0.0,1.0,1.0,0.0,0.0,0.0,1.0,0.0,0.0,0.0,0.0,1.0,0.0,0.0,1.0,1.0,0.0,1.0,0.0,0.0,0.0,1.0,1.0,1.0,1.0,0.0,0.0,0.0,1.0,1.0,1.0,0.0,1.0,1.0,1.0,1.0,1.0,1.0,0.0,1.0,1.0,1.0,0.0,1.0,1.0,1.0,1.0,1.0,1.0,1.0,1.0,1.0,1.0,0.0,1.0,0.0,0.0,1.0,1.0,1.0,1.0,0.0,1.0,0.0,1.0,1.0,0.0,0.0,1.0,0.0,1.0,1.0,1.0,0.0,0.0,1.0,0.0,1.0,1.0,0.0,0.0,0.0,1.0,0.0,1.0,1.0,1.0,1.0,0.0,0.0,0.0,0.0,1.0,0.0,1.0,1.0,1.0,0.0,0.0,1.0,1.0,0.0,1.0,1.0,0.0,1.0,1.0,1.0,1.0,1.0,0.0,0.0,1.0,0.0,1.0,1.0,0.0,0.0,0.0,1.0,1.0,0.0,1.0,0.0,0.0,1.0,1.0,0.0,1.0,1.0,0.0,0.0,0.0,0.0,1.0,1.0,1.0,1.0,0.0,0.0,1.0,0.0,0.0,0.0,1.0,0.0,1.0,1.0,0.0,0.0,1.0,0.0,1.0,0.0,1.0,0.0,0.0,0.0,0.0,1.0,1.0,1.0,1.0,1.0,1.0,1.0,0.0,1.0,0.0,1.0,0.0,0.0,0.0,0.0,1.0,1.0,1.0,0.0,0.0,0.0,1.0,0.0,1.0,1.0,0.0,1.0,1.0,0.0,1.0,0.0,0.0,0.0,1.0,0.0,1.0,0.0,0.0,0.0,0.0,1.0,1.0,0.0,1.0,1.0,1.0,0.0,0.0,1.0,1.0,1.0,1.0,1.0,1.0,1.0,0.0,0.0,1.0,1.0,0.0,1.0,0.0,0.0,0.0,0.0,1.0,1.0,0.0,1.0,0.0,1.0,1.0,1.0,0.0,1.0,0.0,1.0,1.0,0.0,1.0,0.0,1.0,0.0,1.0,1.0,1.0,1.0,1.0,1.0,0.0,0.0,0.0,1.0,0.0,0.0,0.0,0.0,1.0,1.0,1.0,1.0,0.0,1.0,0.0,1.0,1.0,1.0,0.0,0.0,1.0,1.0,0.0,0.0,0.0,1.0,0.0,1.0,1.0,0.0,1.0,1.0,0.0,1.0,1.0,0.0,1.0,1.0,1.0,0.0,1.0,1.0,0.0,1.0,1.0,1.0,0.0,1.0,0.0,0.0,1.0,1.0,0.0,0.0,1.0,0.0,1.0,0.0,0.0,0.0,0.0,0.0,0.0,0.0,0.0,1.0,0.0,0.0,0.0,0.0,1.0,1.0,1.0,0.0,1.0,0.0,0.0,0.0,1.0,0.0,0.0,0.0,0.0,0.0,0.0,0.0,0.0,1.0,1.0,0.0,0.0,1.0,0.0,1.0,0.0,0.0,1.0,0.0,1.0,1.0,0.0,0.0,0.0,1.0,0.0,0.0,0.0,0.0,0.0,0.0,1.0,1.0,1.0,1.0,0.0,0.0,1.0,1.0,0.0,1.0,0.0,1.0,1.0,0.0,0.0,0.0,1.0,0.0,1.0,1.0,0.0,0.0,0.0,0.0,0.0,0.0,1.0,1.0,1.0,0.0,1.0,0.0,1.0,1.0,1.0,1.0,0.0,0.0,0.0,1.0,1.0,0.0,0.0,1.0,1.0,0.0,0.0,1.0,0.0,1.0,0.0,1.0,1.0,1.0,1.0,0.0,0.0,0.0,0.0,1.0,1.0,1.0,1.0,0.0,1.0,1.0,1.0,0.0,1.0,1.0,0.0,0.0,0.0,1.0,1.0,1.0,0.0,1.0,1.0,0.0,0.0,1.0,1.0,0.0,0.0,0.0,1.0,0.0,1.0,0.0,1.0,1.0,0.0,1.0,1.0,1.0,0.0,0.0,0.0,1.0,0.0,0.0,1.0,1.0,1.0,1.0,0.0,0.0,0.0,1.0,0.0,0.0,0.0,1.0,1.0,1.0,1.0,0.0,1.0,1.0,0.0,0.0,0.0,0.0,1.0,1.0,1.0,1.0,0.0,0.0,1.0,0.0,1.0,0.0,1.0,0.0,1.0,0.0,1.0,1.0,0.0,0.0,1.0,0.0,0.0,0.0,0.0,0.0,0.0,1.0,0.0,0.0,0.0,1.0,0.0,0.0,0.0,1.0,1.0,0.0,1.0,1.0,1.0,1.0,1.0,1.0,1.0,1.0,1.0,0.0,0.0,0.0,1.0,1.0,1.0,0.0,0.0,1.0,0.0,0.0,0.0,0.0,0.0,1.0,1.0,1.0,1.0,1.0,0.0,0.0,1.0,1.0,1.0,1.0,0.0,0.0,0.0,0.0,0.0,0.0,1.0,0.0,0.0,0.0,0.0,1.0,0.0,1.0,1.0,1.0,0.0,1.0,1.0,0.0,0.0,0.0,0.0,1.0,1.0,1.0,1.0,1.0,1.0,1.0,0.0,0.0,0.0,1.0,1.0,1.0,0.0,0.0,1.0,1.0,0.0,0.0,0.0,1.0,1.0,1.0,1.0,0.0,0.0,1.0,1.0,1.0,0.0,1.0,0.0,1.0,0.0,1.0,1.0,0.0,1.0,0.0,1.0,1.0,1.0,1.0,0.0,1.0,0.0,1.0,1.0,1.0,1.0,1.0,0.0,0.0,1.0,1.0,0.0,1.0,0.0,0.0,0.0,1.0,1.0,0.0,0.0,1.0,0.0,0.0,1.0,1.0,0.0,0.0,0.0,1.0,0.0,0.0,1.0,1.0,1.0,0.0,1.0,0.0,0.0,1.0,1.0,1.0,0.0,1.0,1.0,0.0,0.0,0.0,1.0,1.0,1.0,0.0,1.0,1.0,1.0,1.0,1.0,0.0,1.0,1.0,1.0,0.0,1.0,1.0,1.0,1.0,1.0,0.0,0.0,0.0,0.0,0.0,0.0,0.0,0.0,1.0,0.0,0.0,0.0,1.0,0.0,0.0,1.0,0.0,0.0,0.0,0.0,0.0,0.0,0.0,1.0,1.0,0.0,0.0,0.0,0.0,1.0,0.0,0.0,0.0,1.0,0.0,1.0,1.0,1.0,1.0,1.0,1.0,0.0,1.0,1.0,0.0,0.0,0.0,1.0,1.0,1.0,0.0,0.0,1.0,1.0,1.0,1.0,1.0,1.0,0.0,1.0,0.0,1.0,0.0,0.0,1.0,1.0,1.0,0.0,1.0,0.0,0.0,0.0,1.0,0.0,0.0,1.0,0.0,0.0,1.0,0.0,0.0,1.0,0.0,1.0,1.0,0.0,1.0,1.0,1.0,1.0,0.0,1.0,0.0,1.0,0.0,1.0,0.0,1.0,1.0,0.0,0.0,0.0,1.0,1.0,0.0,0.0,0.0,0.0,1.0,1.0,1.0,0.0,0.0,0.0,0.0,1.0,0.0,1.0,1.0,0.0,0.0,0.0,1.0,1.0,1.0,0.0,0.0,0.0,1.0,1.0,1.0,1.0,1.0,0.0,1.0,0.0,0.0,1.0,0.0,0.0,0.0,1.0,0.0,0.0,0.0,1.0,1.0,0.0,1.0,0.0,0.0,0.0,1.0,0.0,0.0,0.0,0.0,0.0,0.0,1.0,0.0,1.0,1.0,1.0,1.0,0.0,0.0,0.0,0.0,1.0,0.0,0.0,1.0,0.0,1.0,1.0,1.0,1.0,1.0,0.0,0.0,0.0,1.0,1.0,0.0,1.0,0.0,1.0,1.0,0.0,1.0,1.0,0.0,0.0,1.0,0.0,1.0,0.0,1.0,0.0,1.0,0.0,1.0,1.0,1.0,0.0,1.0,1.0,1.0,0.0,1.0,0.0,0.0,1.0,0.0,0.0,0.0,1.0,1.0,0.0,1.0,1.0,1.0,0.0,0.0,1.0,1.0,0.0,1.0,0.0,1.0,0.0,1.0,0.0,0.0,1.0,1.0,0.0,1.0,1.0,1.0,1.0,1.0,0.0,0.0,1.0,0.0,0.0,1.0,1.0,1.0,0.0,0.0,1.0,1.0,1.0,1.0,1.0,1.0,1.0,0.0,1.0,0.0,0.0,1.0,0.0,1.0,1.0,0.0,1.0,1.0,0.0,1.0,1.0,1.0,0.0,1.0,1.0,1.0,0.0,0.0,1.0,1.0,0.0,1.0,1.0,1.0,1.0,1.0,1.0,0.0,0.0,1.0,0.0,0.0,1.0,0.0,1.0,0.0,0.0,1.0,0.0,1.0,0.0,1.0,0.0,0.0,0.0,0.0,0.0,0.0,0.0,0.0,0.0,1.0,1.0,0.0,0.0,0.0,0.0,1.0,1.0,0.0,1.0,0.0,0.0,1.0,0.0,0.0,0.0,0.0,1.0,0.0,0.0,1.0,0.0,0.0,1.0,0.0,0.0,1.0,0.0,1.0,0.0,0.0,0.0,0.0,1.0,1.0,1.0,0.0,1.0,1.0,1.0,1.0,1.0,1.0,1.0,0.0,0.0,0.0,1.0,1.0,0.0,0.0,1.0,0.0,1.0,1.0,1.0,0.0,1.0,0.0,1.0,1.0,1.0,1.0,0.0,0.0,1.0,0.0,0.0,1.0,0.0,1.0,1.0,0.0,0.0,0.0,1.0,1.0,1.0,1.0,0.0,0.0,0.0,0.0,1.0,1.0,0.0,0.0,0.0,0.0,0.0,0.0,0.0,0.0,1.0,0.0,0.0,0.0,1.0,1.0,1.0,1.0,0.0,0.0,0.0,1.0,1.0,1.0,1.0,0.0,0.0,0.0,0.0,0.0,0.0,1.0,1.0,1.0,1.0,0.0,0.0,0.0,1.0,0.0,1.0,0.0,0.0,0.0,1.0,1.0,0.0,1.0,0.0,1.0,0.0,1.0,1.0,0.0,0.0,1.0,0.0,0.0,1.0,0.0,0.0,0.0,0.0,1.0,0.0,1.0],\"coloraxis\":\"coloraxis\",\"size\":[0.0,1.0,9.0,10.0,9.0,4.0,11.0,8.0,11.0,5.0,9.0,5.0,4.0,8.0,10.0,7.0,7.0,4.0,2.0,9.0,8.0,6.0,9.0,9.0,3.0,13.0,11.0,6.0,3.0,10.0,2.0,11.0,10.0,12.0,9.0,8.0,4.0,11.0,6.0,2.0,3.0,7.0,5.0,9.0,12.0,7.0,0.0,12.0,4.0,4.0,7.0,5.0,4.0,0.0,7.0,1.0,4.0,3.0,9.0,5.0,5.0,4.0,5.0,2.0,6.0,5.0,9.0,8.0,2.0,6.0,0.0,4.0,4.0,2.0,2.0,2.0,13.0,2.0,7.0,7.0,6.0,2.0,8.0,5.0,10.0,4.0,8.0,5.0,5.0,7.0,2.0,3.0,4.0,3.0,13.0,1.0,5.0,3.0,10.0,3.0,3.0,8.0,2.0,4.0,4.0,3.0,4.0,3.0,3.0,1.0,5.0,3.0,5.0,3.0,3.0,5.0,4.0,0.0,2.0,4.0,3.0,5.0,4.0,1.0,3.0,2.0,2.0,7.0,4.0,1.0,6.0,5.0,0.0,8.0,8.0,4.0,0.0,1.0,4.0,3.0,3.0,1.0,6.0,5.0,5.0,9.0,2.0,4.0,4.0,6.0,1.0,2.0,1.0,2.0,2.0,6.0,4.0,4.0,4.0,4.0,2.0,3.0,2.0,2.0,1.0,3.0,2.0,1.0,8.0,3.0,3.0,1.0,3.0,1.0,4.0,1.0,2.0,9.0,3.0,7.0,4.0,3.0,3.0,7.0,3.0,1.0,4.0,3.0,3.0,2.0,4.0,7.0,7.0,3.0,1.0,3.0,0.0,6.0,5.0,7.0,4.0,8.0,6.0,8.0,4.0,6.0,4.0,6.0,5.0,1.0,6.0,4.0,2.0,6.0,2.0,2.0,2.0,4.0,7.0,8.0,6.0,3.0,6.0,3.0,6.0,2.0,12.0,1.0,0.0,6.0,8.0,6.0,3.0,2.0,0.0,6.0,5.0,1.0,2.0,4.0,6.0,11.0,3.0,1.0,11.0,7.0,5.0,3.0,6.0,1.0,1.0,1.0,1.0,5.0,1.0,6.0,6.0,5.0,7.0,6.0,5.0,5.0,10.0,3.0,2.0,2.0,2.0,4.0,3.0,5.0,2.0,3.0,5.0,6.0,3.0,3.0,2.0,4.0,5.0,6.0,3.0,6.0,8.0,7.0,3.0,3.0,5.0,11.0,1.0,3.0,4.0,5.0,3.0,8.0,4.0,7.0,3.0,2.0,0.0,5.0,2.0,5.0,4.0,2.0,7.0,0.0,6.0,5.0,0.0,2.0,2.0,3.0,5.0,2.0,5.0,5.0,0.0,2.0,1.0,2.0,2.0,3.0,2.0,1.0,3.0,3.0,1.0,5.0,5.0,2.0,0.0,3.0,3.0,1.0,6.0,4.0,4.0,11.0,3.0,3.0,7.0,0.0,2.0,1.0,2.0,13.0,3.0,0.0,0.0,6.0,6.0,6.0,4.0,4.0,1.0,2.0,0.0,1.0,3.0,4.0,5.0,1.0,7.0,1.0,4.0,5.0,2.0,9.0,4.0,13.0,1.0,7.0,5.0,1.0,2.0,3.0,2.0,4.0,1.0,3.0,0.0,4.0,4.0,2.0,2.0,8.0,5.0,1.0,3.0,2.0,4.0,4.0,2.0,5.0,3.0,0.0,4.0,2.0,7.0,4.0,8.0,3.0,3.0,0.0,4.0,2.0,5.0,1.0,3.0,1.0,4.0,0.0,3.0,3.0,2.0,2.0,2.0,6.0,6.0,2.0,5.0,2.0,2.0,2.0,0.0,6.0,3.0,3.0,3.0,3.0,1.0,1.0,3.0,3.0,5.0,2.0,4.0,3.0,0.0,1.0,4.0,1.0,1.0,5.0,0.0,1.0,6.0,2.0,2.0,3.0,3.0,3.0,5.0,3.0,4.0,2.0,0.0,9.0,6.0,4.0,6.0,4.0,7.0,4.0,4.0,13.0,5.0,7.0,10.0,7.0,0.0,0.0,0.0,0.0,0.0,0.0,0.0,0.0,0.0,0.0,0.0,0.0,0.0,0.0,0.0,0.0,0.0,0.0,0.0,0.0,0.0,0.0,0.0,1.0,0.0,3.0,1.0,1.0,0.0,0.0,2.0,0.0,4.0,1.0,3.0,2.0,2.0,1.0,2.0,1.0,1.0,1.0,0.0,2.0,1.0,2.0,2.0,1.0,0.0,3.0,3.0,3.0,1.0,1.0,1.0,2.0,3.0,0.0,1.0,4.0,2.0,3.0,4.0,0.0,4.0,2.0,5.0,2.0,2.0,1.0,2.0,4.0,1.0,1.0,3.0,5.0,4.0,3.0,5.0,3.0,4.0,4.0,3.0,4.0,3.0,3.0,1.0,3.0,2.0,6.0,5.0,1.0,1.0,4.0,3.0,5.0,4.0,7.0,1.0,6.0,3.0,1.0,4.0,7.0,7.0,2.0,6.0,2.0,5.0,5.0,4.0,4.0,3.0,1.0,7.0,4.0,3.0,4.0,3.0,3.0,6.0,2.0,5.0,7.0,6.0,4.0,2.0,5.0,5.0,6.0,3.0,7.0,6.0,4.0,7.0,6.0,3.0,4.0,6.0,4.0,7.0,7.0,6.0,4.0,4.0,4.0,8.0,6.0,5.0,3.0,5.0,4.0,6.0,3.0,11.0,3.0,6.0,10.0,3.0,3.0,3.0,4.0,4.0,6.0,4.0,3.0,4.0,3.0,2.0,3.0,6.0,6.0,1.0,4.0,7.0,4.0,5.0,5.0,3.0,5.0,5.0,9.0,3.0,7.0,10.0,5.0,8.0,7.0,7.0,9.0,5.0,9.0,2.0,8.0,6.0,3.0,3.0,2.0,4.0,1.0,4.0,6.0,2.0,2.0,3.0,6.0,4.0,7.0,4.0,4.0,3.0,3.0,10.0,4.0,3.0,5.0,7.0,2.0,5.0,4.0,7.0,2.0,5.0,5.0,3.0,3.0,2.0,11.0,4.0,2.0,5.0,2.0,2.0,9.0,9.0,5.0,2.0,3.0,2.0,2.0,7.0,5.0,6.0,4.0,4.0,4.0,3.0,2.0,1.0,5.0,4.0,4.0,4.0,6.0,6.0,5.0,5.0,5.0,2.0,6.0,7.0,3.0,4.0,4.0,6.0,3.0,3.0,6.0,3.0,2.0,3.0,1.0,4.0,5.0,3.0,4.0,5.0,2.0,1.0,3.0,3.0,6.0,6.0,2.0,3.0,9.0,6.0,9.0,7.0,8.0,10.0,6.0,7.0,4.0,6.0,3.0,2.0,5.0,7.0,3.0,4.0,2.0,5.0,2.0,4.0,3.0,3.0,4.0,2.0,5.0,2.0,3.0,5.0,4.0,5.0,3.0,1.0,5.0,4.0,7.0,3.0,7.0,3.0,10.0,6.0,3.0,4.0,3.0,6.0,2.0,9.0,6.0,3.0,6.0,3.0,5.0,1.0,11.0,8.0,6.0,2.0,7.0,4.0,8.0,2.0,7.0,5.0,6.0,5.0,7.0,13.0,1.0,9.0,6.0,7.0,5.0,6.0,3.0,7.0,5.0,5.0,5.0,4.0,3.0,7.0,2.0,3.0,4.0,5.0,8.0,5.0,13.0,8.0,2.0,3.0,3.0,4.0,5.0,10.0,8.0,10.0,7.0,11.0,3.0,11.0,4.0,1.0,3.0,5.0,5.0,7.0,7.0,8.0,2.0,3.0,5.0,6.0,7.0,9.0,4.0,6.0,4.0,6.0,11.0,3.0,6.0,10.0,2.0,9.0,3.0,3.0,5.0,6.0,5.0,4.0,8.0,8.0,5.0,6.0,2.0,1.0,5.0,2.0,6.0,4.0,1.0,11.0,6.0,12.0,6.0,1.0,1.0,3.0,8.0,8.0,3.0,11.0,8.0,3.0,11.0,4.0,2.0,4.0,9.0,5.0,5.0,6.0,3.0,3.0,9.0,7.0,5.0,11.0,3.0,5.0,6.0,3.0,11.0,5.0,8.0,6.0,5.0,6.0,3.0,8.0,3.0,4.0,5.0,3.0,1.0,12.0,10.0,7.0,6.0,13.0,3.0,3.0,7.0,3.0,2.0,5.0,5.0,5.0,5.0,5.0,12.0,1.0,9.0,12.0,11.0,4.0,8.0,13.0,9.0,6.0,1.0,3.0,8.0,6.0,6.0,9.0,2.0,6.0,1.0,8.0,6.0,5.0,6.0,2.0,8.0,5.0,7.0,1.0,13.0,3.0,6.0,1.0,2.0,5.0,5.0,2.0,5.0,5.0,4.0,5.0,2.0,4.0,5.0,4.0,8.0,6.0,7.0,3.0,3.0,13.0,9.0,6.0,4.0,9.0,4.0,13.0,3.0,11.0,2.0,3.0,10.0,2.0,4.0,4.0,5.0,6.0,7.0,4.0,3.0,8.0,8.0,6.0,4.0,4.0,6.0,9.0,8.0,4.0,4.0,5.0,8.0,3.0,2.0,4.0,6.0,9.0,3.0,3.0,5.0,3.0,3.0,6.0,1.0,3.0,8.0,9.0,3.0,4.0,11.0,4.0,4.0,1.0,5.0,2.0,4.0,5.0,3.0,5.0,7.0,7.0,3.0,2.0,3.0,9.0,3.0,4.0,2.0,10.0,3.0,3.0,9.0,3.0,5.0,6.0,1.0,4.0,11.0,4.0,3.0,1.0,2.0,4.0,4.0,4.0,10.0,3.0,6.0,6.0,7.0,4.0,8.0,8.0,8.0,3.0,13.0,9.0,3.0,5.0,9.0,3.0,11.0,5.0,4.0,7.0,3.0,5.0,1.0,4.0,5.0,6.0,6.0,7.0,7.0,7.0,5.0,4.0,2.0,3.0,2.0,6.0,5.0,13.0,4.0,9.0,3.0,4.0,6.0,9.0,7.0,3.0,3.0,5.0,2.0,6.0,5.0,2.0,4.0,3.0,9.0,4.0,6.0,3.0,7.0,7.0,6.0,2.0,8.0,5.0,5.0,7.0,6.0,7.0,5.0,7.0,8.0,3.0,2.0,3.0,3.0,9.0,3.0,3.0,8.0,4.0,3.0,7.0,2.0,10.0,7.0,3.0,6.0,2.0,7.0,4.0,5.0,6.0,1.0,9.0,10.0,9.0,1.0,4.0,3.0,8.0,7.0,5.0,4.0,4.0,3.0,6.0,7.0,2.0,4.0,5.0,4.0,6.0,5.0,4.0,1.0,3.0,3.0,8.0,7.0,8.0,13.0,7.0,7.0,5.0,6.0,3.0,4.0,6.0,6.0,2.0,5.0,4.0,6.0,8.0,3.0,8.0,9.0,6.0,6.0,5.0,6.0,6.0,10.0,3.0,4.0,3.0,10.0,6.0,7.0,6.0,2.0,3.0,2.0,9.0,2.0,11.0,8.0,7.0,3.0,2.0,4.0,4.0,6.0,8.0,7.0,1.0,4.0,12.0,10.0,3.0,3.0,6.0,11.0,6.0,6.0,5.0,4.0,6.0,8.0,9.0,4.0,4.0,7.0,4.0,10.0,5.0,7.0,5.0,5.0,7.0,7.0,5.0,5.0,5.0,3.0,7.0,3.0,4.0,4.0,5.0,4.0,13.0,8.0,4.0,3.0,5.0,5.0,4.0,5.0,7.0,2.0,5.0,8.0,7.0,6.0,4.0,5.0,4.0,5.0,5.0,3.0,10.0,7.0,2.0,4.0,8.0,4.0,3.0,2.0,6.0,7.0,4.0,7.0,7.0,5.0,8.0,7.0,7.0,2.0,7.0,8.0,7.0,3.0,5.0,2.0,5.0,7.0,11.0,2.0,3.0,3.0,1.0,4.0,11.0,9.0,7.0,3.0,8.0,3.0,6.0,12.0,7.0,3.0,3.0,3.0,10.0,2.0,6.0,7.0,7.0,4.0,9.0,13.0,4.0,8.0,7.0,9.0,2.0,5.0,4.0,6.0,4.0,9.0,7.0,3.0,7.0,3.0,10.0,6.0,9.0,7.0,7.0,9.0,3.0,13.0,6.0,5.0,11.0,4.0,5.0,13.0,7.0,7.0,7.0,8.0,4.0,6.0,6.0,13.0,10.0,9.0,7.0,9.0,6.0,13.0,13.0,7.0,2.0,7.0,8.0,6.0,8.0,3.0,9.0,4.0,5.0,13.0,7.0,3.0,7.0,10.0,10.0,10.0,10.0,3.0,9.0,4.0,8.0,7.0,7.0,6.0,4.0,12.0,6.0,7.0,11.0,6.0,7.0,4.0,10.0,8.0,8.0,7.0,5.0,7.0,6.0,3.0,4.0,6.0,3.0,10.0,5.0,2.0,7.0,12.0,6.0,10.0,9.0,8.0,10.0,9.0,9.0,4.0],\"sizemode\":\"area\",\"sizeref\":0.0325,\"symbol\":\"circle\"},\"mode\":\"markers\",\"name\":\"\",\"showlegend\":false,\"x\":[100.0,3.0,73.0,62.0,82.0,81.0,79.0,80.0,77.0,61.0,78.0,66.0,75.0,19.0,62.0,60.0,93.0,67.0,51.0,53.0,89.0,92.0,90.0,95.0,75.0,83.0,79.0,49.0,84.0,57.0,54.0,96.0,95.0,69.0,77.0,81.0,96.0,68.0,38.0,82.0,11.0,74.0,79.0,94.0,53.0,55.0,52.0,75.0,68.0,72.0,62.0,72.0,81.0,7.0,42.0,44.0,81.0,93.0,53.0,50.0,54.0,93.0,88.0,85.0,84.0,44.0,95.0,92.0,68.0,86.0,0.0,60.0,62.0,59.0,74.0,18.0,86.0,86.0,84.0,89.0,85.0,88.0,66.0,64.0,63.0,90.0,75.0,87.0,80.0,90.0,46.0,40.0,84.0,81.0,93.0,78.0,81.0,81.0,61.0,83.0,63.0,51.0,38.0,90.0,49.0,73.0,89.0,59.0,80.0,68.0,51.0,40.0,69.0,76.0,81.0,48.0,84.0,63.0,54.0,48.0,80.0,67.0,65.0,58.0,57.0,86.0,88.0,79.0,79.0,86.0,82.0,88.0,2.0,75.0,85.0,45.0,75.0,72.0,50.0,42.0,70.0,80.0,56.0,76.0,82.0,75.0,57.0,86.0,88.0,60.0,35.0,76.0,83.0,88.0,75.0,53.0,87.0,84.0,87.0,46.0,73.0,75.0,89.0,43.0,49.0,86.0,47.0,76.0,78.0,48.0,65.0,75.0,13.0,41.0,69.0,73.0,60.0,84.0,76.0,85.0,85.0,56.0,75.0,86.0,86.0,67.0,49.0,49.0,70.0,77.0,50.0,73.0,83.0,83.0,56.0,68.0,80.0,66.0,52.0,66.0,53.0,73.0,81.0,50.0,73.0,63.0,84.0,77.0,81.0,66.0,75.0,77.0,57.0,75.0,2.0,85.0,7.0,81.0,51.0,85.0,76.0,85.0,58.0,81.0,75.0,76.0,73.0,46.0,16.0,73.0,84.0,60.0,78.0,77.0,63.0,73.0,79.0,68.0,80.0,76.0,80.0,74.0,73.0,38.0,79.0,47.0,79.0,32.0,60.0,55.0,77.0,38.0,68.0,65.0,80.0,65.0,64.0,73.0,60.0,62.0,58.0,63.0,77.0,58.0,68.0,44.0,76.0,77.0,80.0,73.0,48.0,64.0,36.0,43.0,72.0,53.0,54.0,47.0,62.0,59.0,60.0,75.0,64.0,72.0,67.0,78.0,71.0,65.0,78.0,77.0,76.0,55.0,49.0,51.0,59.0,65.0,78.0,67.0,46.0,55.0,60.0,54.0,58.0,35.0,72.0,58.0,46.0,60.0,77.0,64.0,58.0,67.0,50.0,71.0,39.0,54.0,12.0,68.0,65.0,65.0,59.0,73.0,68.0,19.0,49.0,61.0,75.0,59.0,64.0,62.0,66.0,61.0,58.0,10.0,65.0,53.0,47.0,59.0,48.0,67.0,61.0,70.0,65.0,51.0,54.0,47.0,62.0,65.0,42.0,57.0,59.0,60.0,53.0,51.0,69.0,52.0,1.0,47.0,32.0,69.0,49.0,66.0,53.0,32.0,59.0,51.0,57.0,60.0,60.0,68.0,62.0,63.0,58.0,46.0,59.0,56.0,54.0,51.0,53.0,62.0,0.0,55.0,63.0,41.0,45.0,50.0,43.0,57.0,31.0,60.0,52.0,47.0,3.0,55.0,55.0,33.0,59.0,59.0,58.0,49.0,46.0,47.0,48.0,40.0,56.0,32.0,26.0,46.0,55.0,33.0,49.0,38.0,53.0,49.0,35.0,36.0,37.0,49.0,30.0,19.0,52.0,52.0,0.0,48.0,0.0,48.0,24.0,35.0,40.0,27.0,39.0,22.0,2.0,29.0,28.0,13.0,2.0,10.0,19.0,20.0,28.0,34.0,1.0,11.0,12.0,29.0,27.0,2.0,16.0,5.0,27.0,22.0,17.0,1.0,20.0,1.0,0.0,106.0,107.0,107.0,99.0,99.0,99.0,100.0,100.0,100.0,101.0,103.0,104.0,106.0,7.0,7.0,8.0,8.0,8.0,8.0,8.0,8.0,8.0,8.0,8.0,8.0,8.0,8.0,8.0,8.0,8.0,8.0,8.0,8.0,9.0,9.0,9.0,9.0,9.0,9.0,9.0,9.0,9.0,9.0,9.0,9.0,9.0,9.0,9.0,9.0,9.0,9.0,9.0,10.0,10.0,10.0,10.0,10.0,10.0,10.0,10.0,10.0,10.0,10.0,10.0,10.0,10.0,10.0,11.0,11.0,11.0,11.0,11.0,11.0,11.0,11.0,11.0,11.0,11.0,11.0,12.0,12.0,12.0,12.0,12.0,12.0,12.0,12.0,12.0,12.0,12.0,12.0,12.0,12.0,12.0,13.0,13.0,13.0,13.0,13.0,13.0,13.0,13.0,13.0,13.0,13.0,13.0,14.0,14.0,14.0,14.0,14.0,14.0,14.0,14.0,14.0,14.0,14.0,15.0,15.0,15.0,15.0,15.0,15.0,15.0,15.0,15.0,15.0,15.0,15.0,15.0,15.0,15.0,16.0,16.0,16.0,16.0,16.0,16.0,16.0,16.0,16.0,16.0,16.0,16.0,16.0,16.0,16.0,16.0,16.0,17.0,17.0,17.0,17.0,17.0,17.0,17.0,17.0,17.0,17.0,17.0,17.0,17.0,17.0,17.0,17.0,17.0,17.0,17.0,18.0,18.0,18.0,18.0,18.0,18.0,18.0,18.0,18.0,18.0,18.0,18.0,18.0,18.0,18.0,19.0,19.0,19.0,19.0,19.0,19.0,19.0,19.0,19.0,19.0,19.0,19.0,19.0,19.0,19.0,20.0,20.0,20.0,20.0,20.0,20.0,20.0,20.0,20.0,20.0,20.0,20.0,21.0,21.0,21.0,21.0,21.0,21.0,21.0,21.0,21.0,21.0,21.0,21.0,22.0,22.0,22.0,22.0,22.0,22.0,22.0,22.0,22.0,22.0,22.0,22.0,22.0,23.0,23.0,23.0,23.0,23.0,23.0,23.0,23.0,23.0,23.0,23.0,23.0,23.0,23.0,23.0,23.0,24.0,24.0,24.0,24.0,24.0,24.0,24.0,24.0,24.0,24.0,24.0,24.0,24.0,24.0,24.0,24.0,24.0,24.0,25.0,25.0,25.0,25.0,25.0,25.0,25.0,25.0,25.0,26.0,26.0,26.0,26.0,26.0,26.0,26.0,26.0,26.0,26.0,26.0,26.0,26.0,26.0,26.0,26.0,26.0,27.0,27.0,27.0,27.0,27.0,27.0,27.0,27.0,27.0,27.0,27.0,27.0,27.0,27.0,27.0,27.0,27.0,27.0,27.0,27.0,27.0,27.0,27.0,28.0,28.0,28.0,28.0,28.0,28.0,29.0,29.0,29.0,29.0,29.0,29.0,29.0,29.0,29.0,29.0,29.0,29.0,29.0,29.0,29.0,29.0,29.0,30.0,30.0,30.0,30.0,30.0,30.0,30.0,30.0,30.0,30.0,30.0,31.0,31.0,31.0,31.0,31.0,31.0,31.0,31.0,31.0,31.0,31.0,31.0,31.0,31.0,31.0,31.0,31.0,32.0,32.0,32.0,32.0,32.0,32.0,32.0,32.0,32.0,32.0,32.0,32.0,32.0,33.0,33.0,33.0,33.0,33.0,33.0,33.0,33.0,33.0,33.0,34.0,34.0,34.0,34.0,34.0,34.0,34.0,34.0,34.0,34.0,35.0,35.0,35.0,35.0,35.0,35.0,35.0,35.0,35.0,35.0,35.0,35.0,35.0,35.0,35.0,36.0,36.0,36.0,36.0,36.0,36.0,36.0,36.0,36.0,36.0,37.0,37.0,37.0,37.0,37.0,37.0,37.0,37.0,37.0,37.0,37.0,38.0,38.0,38.0,38.0,38.0,38.0,38.0,38.0,38.0,38.0,38.0,38.0,38.0,38.0,38.0,38.0,38.0,38.0,38.0,39.0,39.0,39.0,39.0,39.0,39.0,39.0,39.0,39.0,39.0,39.0,39.0,39.0,39.0,39.0,39.0,40.0,40.0,40.0,40.0,40.0,40.0,40.0,40.0,40.0,40.0,40.0,40.0,40.0,40.0,40.0,40.0,41.0,41.0,41.0,41.0,41.0,41.0,41.0,41.0,41.0,42.0,42.0,42.0,42.0,42.0,42.0,42.0,42.0,42.0,42.0,42.0,42.0,42.0,42.0,42.0,42.0,42.0,42.0,42.0,42.0,43.0,43.0,43.0,43.0,43.0,43.0,43.0,43.0,43.0,44.0,44.0,44.0,44.0,44.0,44.0,44.0,44.0,44.0,44.0,44.0,44.0,44.0,45.0,45.0,45.0,45.0,45.0,45.0,45.0,46.0,46.0,46.0,46.0,46.0,46.0,46.0,46.0,46.0,46.0,46.0,46.0,46.0,46.0,46.0,46.0,47.0,47.0,47.0,47.0,47.0,47.0,47.0,47.0,47.0,47.0,47.0,48.0,48.0,48.0,48.0,48.0,48.0,48.0,48.0,48.0,48.0,48.0,48.0,48.0,48.0,49.0,49.0,49.0,49.0,49.0,49.0,49.0,49.0,49.0,49.0,49.0,49.0,49.0,50.0,50.0,50.0,50.0,50.0,50.0,50.0,51.0,51.0,51.0,51.0,51.0,51.0,51.0,51.0,51.0,51.0,52.0,52.0,52.0,52.0,52.0,52.0,52.0,52.0,52.0,52.0,52.0,52.0,52.0,52.0,52.0,52.0,53.0,53.0,53.0,53.0,53.0,53.0,53.0,53.0,53.0,53.0,54.0,54.0,54.0,54.0,54.0,54.0,54.0,54.0,54.0,54.0,54.0,54.0,54.0,54.0,55.0,55.0,55.0,55.0,55.0,55.0,55.0,55.0,55.0,55.0,55.0,55.0,55.0,55.0,55.0,56.0,56.0,56.0,56.0,56.0,56.0,56.0,56.0,56.0,56.0,56.0,56.0,56.0,57.0,57.0,57.0,57.0,57.0,57.0,57.0,57.0,57.0,57.0,57.0,57.0,57.0,57.0,57.0,57.0,57.0,57.0,57.0,57.0,58.0,58.0,58.0,58.0,58.0,58.0,58.0,58.0,59.0,59.0,59.0,59.0,59.0,59.0,59.0,59.0,59.0,59.0,59.0,59.0,59.0,60.0,60.0,60.0,60.0,60.0,60.0,60.0,60.0,60.0,60.0,60.0,61.0,61.0,61.0,61.0,61.0,61.0,61.0,61.0,61.0,61.0,61.0,61.0,61.0,61.0,61.0,61.0,61.0,61.0,61.0,62.0,62.0,62.0,62.0,62.0,62.0,62.0,62.0,62.0,62.0,62.0,62.0,62.0,62.0,62.0,63.0,63.0,63.0,63.0,63.0,63.0,63.0,63.0,63.0,63.0,63.0,63.0,63.0,63.0,63.0,64.0,64.0,64.0,64.0,64.0,64.0,64.0,64.0,64.0,64.0,64.0,64.0,64.0,64.0,65.0,65.0,65.0,65.0,65.0,65.0,65.0,65.0,65.0,65.0,65.0,65.0,66.0,66.0,66.0,66.0,66.0,66.0,66.0,66.0,66.0,67.0,67.0,67.0,67.0,67.0,67.0,67.0,68.0,68.0,68.0,68.0,68.0,68.0,68.0,68.0,68.0,68.0,69.0,69.0,69.0,69.0,69.0,69.0,69.0,69.0,69.0,69.0,69.0,70.0,70.0,70.0,70.0,70.0,70.0,70.0,70.0,70.0,71.0,71.0,71.0,71.0,71.0,71.0,71.0,71.0,71.0,71.0,71.0,71.0,72.0,72.0,72.0,72.0,72.0,72.0,72.0,72.0,73.0,73.0,73.0,73.0,73.0,73.0,73.0,73.0,73.0,73.0,73.0,73.0,73.0,73.0,74.0,74.0,74.0,74.0,74.0,74.0,74.0,74.0,75.0,75.0,75.0,75.0,75.0,75.0,75.0,75.0,76.0,76.0,76.0,77.0,77.0,77.0,77.0,78.0,78.0,78.0,78.0,78.0,78.0,78.0,78.0,78.0,78.0,79.0,79.0,79.0,79.0,80.0,80.0,80.0,80.0,80.0,80.0,81.0,81.0,81.0,81.0,81.0,81.0,81.0,81.0,81.0,81.0,81.0,82.0,82.0,82.0,82.0,82.0,82.0,82.0,83.0,83.0,83.0,83.0,83.0,83.0,84.0,84.0,84.0,84.0,85.0,85.0,85.0,86.0,86.0,86.0,86.0,86.0,86.0,87.0,87.0,87.0,87.0,87.0,87.0,87.0,88.0,88.0,88.0,88.0,88.0,88.0,88.0,89.0,89.0,89.0,90.0,90.0,90.0,92.0,92.0,92.0,93.0,93.0,93.0,93.0,93.0,93.0,94.0,94.0,94.0],\"xaxis\":\"x\",\"y\":[100.0,100.0,2000.0,1600.0,1700.0,1300.0,1700.0,2100.0,2200.0,2100.0,1700.0,1800.0,1500.0,3900.0,2900.0,1700.0,1400.0,1700.0,800.0,3900.0,2000.0,1400.0,1800.0,1700.0,1100.0,1300.0,2100.0,3900.0,1400.0,3200.0,900.0,1100.0,1600.0,1400.0,2000.0,1000.0,1200.0,2000.0,800.0,1400.0,1200.0,1400.0,1100.0,1700.0,3900.0,3900.0,700.0,1900.0,1100.0,1300.0,3600.0,1000.0,800.0,1200.0,1200.0,400.0,1300.0,900.0,1700.0,1000.0,2000.0,800.0,1100.0,800.0,1000.0,2600.0,1000.0,800.0,900.0,1300.0,300.0,1000.0,1000.0,800.0,700.0,1400.0,900.0,800.0,800.0,800.0,700.0,600.0,1100.0,2500.0,3200.0,500.0,900.0,1000.0,800.0,700.0,300.0,600.0,500.0,700.0,600.0,400.0,600.0,500.0,600.0,500.0,400.0,1600.0,400.0,800.0,1300.0,300.0,400.0,500.0,600.0,500.0,1700.0,300.0,400.0,700.0,400.0,2500.0,200.0,300.0,200.0,300.0,300.0,500.0,1700.0,300.0,300.0,300.0,200.0,400.0,400.0,300.0,300.0,200.0,300.0,400.0,100.0,200.0,200.0,300.0,700.0,400.0,200.0,100.0,100.0,100.0,100.0,100.0,100.0,100.0,100.0,100.0,100.0,100.0,100.0,100.0,100.0,100.0,100.0,100.0,100.0,100.0,100.0,100.0,100.0,100.0,100.0,100.0,100.0,100.0,100.0,100.0,100.0,100.0,100.0,100.0,100.0,100.0,100.0,100.0,100.0,100.0,100.0,100.0,100.0,100.0,100.0,100.0,100.0,100.0,100.0,100.0,100.0,100.0,100.0,100.0,100.0,100.0,100.0,100.0,100.0,100.0,100.0,100.0,100.0,100.0,100.0,100.0,100.0,100.0,100.0,100.0,100.0,100.0,100.0,100.0,100.0,100.0,100.0,100.0,100.0,100.0,100.0,100.0,100.0,100.0,100.0,100.0,100.0,100.0,100.0,100.0,100.0,100.0,100.0,100.0,100.0,100.0,100.0,100.0,100.0,100.0,100.0,100.0,100.0,100.0,100.0,100.0,100.0,100.0,100.0,100.0,100.0,100.0,100.0,100.0,100.0,100.0,100.0,100.0,100.0,100.0,100.0,100.0,100.0,100.0,100.0,100.0,100.0,100.0,100.0,100.0,100.0,100.0,100.0,100.0,100.0,100.0,100.0,100.0,100.0,100.0,100.0,100.0,200.0,100.0,100.0,100.0,100.0,100.0,100.0,100.0,100.0,100.0,100.0,100.0,100.0,100.0,100.0,100.0,100.0,100.0,100.0,100.0,100.0,100.0,100.0,100.0,100.0,100.0,100.0,100.0,100.0,100.0,100.0,100.0,100.0,100.0,100.0,100.0,100.0,100.0,100.0,100.0,100.0,100.0,100.0,100.0,100.0,100.0,100.0,100.0,100.0,100.0,100.0,100.0,100.0,100.0,100.0,100.0,100.0,100.0,100.0,100.0,100.0,100.0,100.0,100.0,100.0,100.0,100.0,100.0,100.0,100.0,100.0,100.0,100.0,100.0,100.0,100.0,100.0,100.0,100.0,100.0,100.0,100.0,100.0,100.0,100.0,100.0,100.0,100.0,100.0,100.0,100.0,100.0,100.0,100.0,100.0,200.0,100.0,100.0,100.0,100.0,100.0,100.0,100.0,100.0,100.0,100.0,100.0,100.0,100.0,100.0,100.0,100.0,100.0,100.0,100.0,100.0,100.0,100.0,100.0,100.0,100.0,100.0,100.0,100.0,100.0,100.0,100.0,100.0,100.0,100.0,100.0,100.0,100.0,100.0,100.0,100.0,100.0,100.0,100.0,100.0,100.0,100.0,100.0,100.0,100.0,100.0,100.0,100.0,100.0,100.0,100.0,100.0,100.0,100.0,100.0,100.0,100.0,100.0,100.0,100.0,100.0,100.0,100.0,100.0,100.0,100.0,100.0,100.0,100.0,100.0,100.0,100.0,100.0,100.0,100.0,1700.0,1200.0,1000.0,1200.0,1400.0,1400.0,1100.0,1200.0,1700.0,1100.0,1400.0,1700.0,1200.0,0.0,100.0,200.0,200.0,200.0,300.0,300.0,300.0,300.0,300.0,400.0,400.0,500.0,500.0,500.0,500.0,500.0,800.0,600.0,600.0,600.0,700.0,600.0,800.0,600.0,1000.0,800.0,800.0,800.0,800.0,1200.0,800.0,1100.0,900.0,1200.0,1200.0,1200.0,1000.0,1300.0,1100.0,1000.0,1300.0,900.0,1200.0,1100.0,1100.0,1200.0,1100.0,1000.0,1400.0,1500.0,1300.0,1200.0,1700.0,1200.0,1300.0,1500.0,1200.0,1200.0,1800.0,1400.0,1500.0,1600.0,1200.0,1900.0,1400.0,1500.0,1300.0,1500.0,2800.0,2100.0,1700.0,1400.0,1600.0,1800.0,2100.0,1600.0,1500.0,2000.0,1600.0,2000.0,1700.0,1900.0,1800.0,2000.0,1700.0,1500.0,1600.0,1700.0,2100.0,2200.0,1600.0,1500.0,1700.0,1900.0,1900.0,1800.0,2600.0,1600.0,2300.0,1800.0,1800.0,2100.0,2500.0,2300.0,1700.0,2500.0,2500.0,2500.0,2100.0,1900.0,2000.0,1800.0,1700.0,2300.0,2000.0,1800.0,1900.0,2000.0,2400.0,2400.0,1800.0,2300.0,2300.0,2500.0,2300.0,1900.0,2200.0,2200.0,2800.0,2000.0,2400.0,2400.0,2200.0,2500.0,2300.0,2700.0,2100.0,2300.0,2300.0,2400.0,2700.0,2300.0,2100.0,2200.0,2500.0,2800.0,2800.0,2200.0,2400.0,2100.0,2200.0,2500.0,2000.0,3700.0,2000.0,2200.0,2400.0,2500.0,1700.0,1900.0,1800.0,1800.0,2000.0,1800.0,1700.0,1700.0,1700.0,1500.0,1700.0,1900.0,2000.0,1300.0,1700.0,2400.0,1600.0,1800.0,1800.0,1400.0,1800.0,1700.0,2200.0,1400.0,1800.0,3600.0,1800.0,2300.0,1800.0,2100.0,2000.0,1800.0,1900.0,1400.0,2000.0,2500.0,1200.0,1300.0,1200.0,1500.0,1100.0,1400.0,1900.0,1100.0,1100.0,1300.0,1700.0,1900.0,1700.0,1500.0,1300.0,1400.0,3900.0,2200.0,2100.0,1200.0,1400.0,3900.0,1200.0,2100.0,1800.0,1800.0,1200.0,1500.0,1600.0,1700.0,3900.0,1200.0,2300.0,2300.0,1100.0,1600.0,1300.0,1100.0,2200.0,3900.0,1500.0,1200.0,1200.0,1400.0,1200.0,2000.0,1500.0,1300.0,1600.0,2200.0,1400.0,1300.0,1300.0,1200.0,2300.0,1500.0,3900.0,3900.0,1700.0,1600.0,1200.0,1700.0,2100.0,1500.0,1600.0,3000.0,1200.0,1300.0,1400.0,1600.0,1700.0,3900.0,1800.0,1200.0,1500.0,1400.0,1100.0,1400.0,2800.0,2500.0,1400.0,1500.0,1200.0,1400.0,1200.0,1300.0,1600.0,3500.0,1200.0,1300.0,2200.0,2000.0,3100.0,3900.0,2300.0,3900.0,2400.0,1800.0,1300.0,3300.0,1100.0,1200.0,1400.0,2700.0,1800.0,3900.0,1200.0,3900.0,2100.0,1300.0,1400.0,1100.0,1500.0,1500.0,2000.0,2400.0,1400.0,1900.0,1900.0,3900.0,1200.0,1000.0,3900.0,1400.0,3900.0,1300.0,1800.0,1500.0,3900.0,3900.0,1600.0,1300.0,1100.0,1600.0,1100.0,3900.0,2000.0,3900.0,1800.0,1300.0,2900.0,900.0,2700.0,1400.0,2100.0,900.0,1400.0,2200.0,3500.0,3900.0,3900.0,2500.0,3900.0,3000.0,3900.0,3900.0,900.0,3900.0,2700.0,3600.0,1300.0,2500.0,3900.0,3900.0,900.0,1200.0,1800.0,1100.0,900.0,3900.0,800.0,900.0,1000.0,1100.0,2000.0,1100.0,3200.0,1600.0,3900.0,800.0,800.0,2700.0,1900.0,3200.0,1500.0,1900.0,3200.0,3900.0,2300.0,3900.0,900.0,1400.0,700.0,1000.0,900.0,3300.0,3100.0,1200.0,700.0,900.0,700.0,3000.0,1800.0,3500.0,1500.0,2000.0,3800.0,900.0,2200.0,1200.0,3000.0,2600.0,600.0,3900.0,700.0,700.0,900.0,3700.0,1000.0,700.0,3300.0,3900.0,3400.0,1900.0,500.0,400.0,1100.0,600.0,1000.0,800.0,400.0,3900.0,1900.0,3300.0,700.0,400.0,500.0,2700.0,2400.0,1100.0,600.0,3100.0,3900.0,1300.0,1100.0,700.0,500.0,700.0,3700.0,1600.0,3100.0,700.0,600.0,2300.0,1200.0,3200.0,900.0,3900.0,500.0,900.0,2500.0,500.0,3900.0,500.0,1100.0,900.0,800.0,1900.0,700.0,3900.0,600.0,800.0,900.0,500.0,300.0,3900.0,3900.0,1400.0,3900.0,3900.0,500.0,1000.0,3900.0,900.0,500.0,700.0,1600.0,1100.0,900.0,1200.0,3900.0,400.0,900.0,3900.0,3700.0,1300.0,800.0,3900.0,3900.0,700.0,300.0,400.0,3900.0,900.0,1200.0,3900.0,600.0,700.0,400.0,2400.0,3900.0,700.0,3000.0,900.0,3200.0,800.0,800.0,500.0,3900.0,600.0,1300.0,300.0,500.0,1000.0,1600.0,400.0,700.0,700.0,3900.0,700.0,500.0,600.0,800.0,800.0,3700.0,1100.0,3900.0,400.0,500.0,3000.0,3900.0,1900.0,800.0,3900.0,900.0,3900.0,600.0,3900.0,1200.0,800.0,2000.0,3900.0,3900.0,700.0,3000.0,3100.0,3300.0,900.0,500.0,3400.0,3900.0,3900.0,3800.0,700.0,1600.0,3000.0,3200.0,600.0,1300.0,600.0,800.0,700.0,600.0,800.0,600.0,3900.0,500.0,600.0,3100.0,1200.0,3900.0,1100.0,400.0,700.0,2400.0,3900.0,500.0,600.0,1400.0,800.0,500.0,600.0,3900.0,500.0,500.0,800.0,1600.0,1400.0,1000.0,900.0,600.0,1800.0,600.0,2400.0,3900.0,800.0,600.0,3100.0,1000.0,500.0,1800.0,3900.0,800.0,1700.0,1700.0,900.0,3900.0,800.0,500.0,900.0,400.0,400.0,600.0,800.0,3900.0,600.0,3900.0,1200.0,1600.0,700.0,2200.0,800.0,800.0,500.0,3900.0,2500.0,600.0,1000.0,1900.0,3900.0,2400.0,800.0,600.0,600.0,600.0,3900.0,500.0,700.0,3600.0,600.0,2100.0,700.0,2900.0,700.0,1500.0,600.0,600.0,600.0,500.0,1900.0,1600.0,1400.0,500.0,1200.0,700.0,700.0,700.0,1600.0,1000.0,800.0,1400.0,600.0,1300.0,1000.0,1100.0,600.0,3900.0,1000.0,3900.0,700.0,900.0,1500.0,900.0,1000.0,700.0,3900.0,1200.0,3900.0,3900.0,700.0,3900.0,3500.0,3900.0,1100.0,1800.0,800.0,600.0,600.0,700.0,1000.0,2400.0,800.0,1400.0,800.0,1700.0,2400.0,800.0,3900.0,900.0,700.0,1400.0,600.0,1000.0,1600.0,1300.0,3900.0,700.0,1300.0,1400.0,1600.0,700.0,800.0,700.0,1300.0,1100.0,1100.0,1000.0,2000.0,600.0,1200.0,1700.0,900.0,1100.0,2200.0,1000.0,1800.0,1200.0,1000.0,800.0,1900.0,900.0,1600.0,1100.0,1600.0,2800.0,1600.0,1400.0,1200.0,1300.0,900.0,900.0,1200.0,1500.0,1400.0,1200.0,1100.0,1100.0,3900.0,1500.0,1600.0,1200.0,1300.0,1400.0,1700.0,1200.0,1900.0,1700.0,1600.0,1500.0,900.0,1700.0,1800.0,1400.0,1300.0,900.0,1100.0,1000.0,2000.0,1000.0,1700.0,1700.0,1600.0,800.0,1000.0,1000.0,1100.0,3900.0,1700.0,1400.0,1100.0,1000.0,2200.0,1200.0,1100.0,1700.0,1300.0,3000.0,1600.0,1300.0,1700.0,1200.0,1400.0,1600.0,1400.0,1500.0,1800.0,1100.0,1500.0,1900.0,3400.0,3000.0,1300.0,1000.0,1500.0,1500.0,1400.0,1600.0,1400.0,1400.0,2000.0,1300.0,1400.0,1400.0,1500.0,1500.0,1700.0,2100.0,1300.0,1300.0,2200.0,1400.0,1400.0,1800.0,2000.0,1100.0,1300.0,1800.0,1300.0,1600.0,1400.0,1400.0,1400.0,1500.0,1500.0,1400.0,2500.0,1700.0,1600.0,1500.0,1400.0,1500.0,1400.0,1100.0,1800.0,2000.0,1800.0,1600.0,1700.0,1300.0,1300.0,1600.0,1800.0,1300.0,1700.0,1700.0,1300.0,1500.0,1500.0,1300.0,1900.0,1400.0,1800.0,1200.0,1500.0,1100.0,1300.0,1100.0,2300.0,1900.0,1600.0,1500.0,1500.0,1200.0,1400.0,2200.0,1700.0,1400.0,1500.0,1400.0,2200.0,1300.0,1700.0,1500.0,1400.0,1500.0,1600.0,3900.0,1500.0,1200.0,1400.0,1700.0,1500.0,1400.0,1300.0,1900.0,1900.0,1900.0,1300.0,1300.0,1700.0,1200.0,2000.0,1500.0,3900.0,1600.0,1800.0,1500.0,1200.0,2300.0,1600.0,1600.0,2100.0,1500.0,1200.0,2200.0,1700.0,1900.0,1600.0,2400.0,1400.0,1500.0,2300.0,1500.0,2200.0,1600.0,1600.0,2200.0,1200.0,2900.0,1900.0,1600.0,1300.0,1300.0,1800.0,1600.0,1500.0,1300.0,1400.0,1400.0,1500.0,3900.0,1700.0,1100.0,1300.0,1600.0,1600.0,1800.0,2100.0,1300.0,2100.0,1200.0,1200.0,1600.0,3900.0,1500.0,1500.0,2400.0,1400.0,1900.0,2300.0,1500.0,1800.0,1500.0,1500.0,1700.0,1800.0,1500.0,1100.0,1300.0,1800.0,1300.0,1400.0,1500.0,1100.0,1700.0,1600.0,1300.0,1600.0,1900.0,1300.0,1800.0,1900.0,1600.0,1500.0,1500.0,1600.0,1400.0],\"yaxis\":\"y\",\"type\":\"scattergl\"}],                        {\"template\":{\"data\":{\"histogram2dcontour\":[{\"type\":\"histogram2dcontour\",\"colorbar\":{\"outlinewidth\":0,\"ticks\":\"\"},\"colorscale\":[[0.0,\"#0d0887\"],[0.1111111111111111,\"#46039f\"],[0.2222222222222222,\"#7201a8\"],[0.3333333333333333,\"#9c179e\"],[0.4444444444444444,\"#bd3786\"],[0.5555555555555556,\"#d8576b\"],[0.6666666666666666,\"#ed7953\"],[0.7777777777777778,\"#fb9f3a\"],[0.8888888888888888,\"#fdca26\"],[1.0,\"#f0f921\"]]}],\"choropleth\":[{\"type\":\"choropleth\",\"colorbar\":{\"outlinewidth\":0,\"ticks\":\"\"}}],\"histogram2d\":[{\"type\":\"histogram2d\",\"colorbar\":{\"outlinewidth\":0,\"ticks\":\"\"},\"colorscale\":[[0.0,\"#0d0887\"],[0.1111111111111111,\"#46039f\"],[0.2222222222222222,\"#7201a8\"],[0.3333333333333333,\"#9c179e\"],[0.4444444444444444,\"#bd3786\"],[0.5555555555555556,\"#d8576b\"],[0.6666666666666666,\"#ed7953\"],[0.7777777777777778,\"#fb9f3a\"],[0.8888888888888888,\"#fdca26\"],[1.0,\"#f0f921\"]]}],\"heatmap\":[{\"type\":\"heatmap\",\"colorbar\":{\"outlinewidth\":0,\"ticks\":\"\"},\"colorscale\":[[0.0,\"#0d0887\"],[0.1111111111111111,\"#46039f\"],[0.2222222222222222,\"#7201a8\"],[0.3333333333333333,\"#9c179e\"],[0.4444444444444444,\"#bd3786\"],[0.5555555555555556,\"#d8576b\"],[0.6666666666666666,\"#ed7953\"],[0.7777777777777778,\"#fb9f3a\"],[0.8888888888888888,\"#fdca26\"],[1.0,\"#f0f921\"]]}],\"heatmapgl\":[{\"type\":\"heatmapgl\",\"colorbar\":{\"outlinewidth\":0,\"ticks\":\"\"},\"colorscale\":[[0.0,\"#0d0887\"],[0.1111111111111111,\"#46039f\"],[0.2222222222222222,\"#7201a8\"],[0.3333333333333333,\"#9c179e\"],[0.4444444444444444,\"#bd3786\"],[0.5555555555555556,\"#d8576b\"],[0.6666666666666666,\"#ed7953\"],[0.7777777777777778,\"#fb9f3a\"],[0.8888888888888888,\"#fdca26\"],[1.0,\"#f0f921\"]]}],\"contourcarpet\":[{\"type\":\"contourcarpet\",\"colorbar\":{\"outlinewidth\":0,\"ticks\":\"\"}}],\"contour\":[{\"type\":\"contour\",\"colorbar\":{\"outlinewidth\":0,\"ticks\":\"\"},\"colorscale\":[[0.0,\"#0d0887\"],[0.1111111111111111,\"#46039f\"],[0.2222222222222222,\"#7201a8\"],[0.3333333333333333,\"#9c179e\"],[0.4444444444444444,\"#bd3786\"],[0.5555555555555556,\"#d8576b\"],[0.6666666666666666,\"#ed7953\"],[0.7777777777777778,\"#fb9f3a\"],[0.8888888888888888,\"#fdca26\"],[1.0,\"#f0f921\"]]}],\"surface\":[{\"type\":\"surface\",\"colorbar\":{\"outlinewidth\":0,\"ticks\":\"\"},\"colorscale\":[[0.0,\"#0d0887\"],[0.1111111111111111,\"#46039f\"],[0.2222222222222222,\"#7201a8\"],[0.3333333333333333,\"#9c179e\"],[0.4444444444444444,\"#bd3786\"],[0.5555555555555556,\"#d8576b\"],[0.6666666666666666,\"#ed7953\"],[0.7777777777777778,\"#fb9f3a\"],[0.8888888888888888,\"#fdca26\"],[1.0,\"#f0f921\"]]}],\"mesh3d\":[{\"type\":\"mesh3d\",\"colorbar\":{\"outlinewidth\":0,\"ticks\":\"\"}}],\"scatter\":[{\"fillpattern\":{\"fillmode\":\"overlay\",\"size\":10,\"solidity\":0.2},\"type\":\"scatter\"}],\"parcoords\":[{\"type\":\"parcoords\",\"line\":{\"colorbar\":{\"outlinewidth\":0,\"ticks\":\"\"}}}],\"scatterpolargl\":[{\"type\":\"scatterpolargl\",\"marker\":{\"colorbar\":{\"outlinewidth\":0,\"ticks\":\"\"}}}],\"bar\":[{\"error_x\":{\"color\":\"#2a3f5f\"},\"error_y\":{\"color\":\"#2a3f5f\"},\"marker\":{\"line\":{\"color\":\"#E5ECF6\",\"width\":0.5},\"pattern\":{\"fillmode\":\"overlay\",\"size\":10,\"solidity\":0.2}},\"type\":\"bar\"}],\"scattergeo\":[{\"type\":\"scattergeo\",\"marker\":{\"colorbar\":{\"outlinewidth\":0,\"ticks\":\"\"}}}],\"scatterpolar\":[{\"type\":\"scatterpolar\",\"marker\":{\"colorbar\":{\"outlinewidth\":0,\"ticks\":\"\"}}}],\"histogram\":[{\"marker\":{\"pattern\":{\"fillmode\":\"overlay\",\"size\":10,\"solidity\":0.2}},\"type\":\"histogram\"}],\"scattergl\":[{\"type\":\"scattergl\",\"marker\":{\"colorbar\":{\"outlinewidth\":0,\"ticks\":\"\"}}}],\"scatter3d\":[{\"type\":\"scatter3d\",\"line\":{\"colorbar\":{\"outlinewidth\":0,\"ticks\":\"\"}},\"marker\":{\"colorbar\":{\"outlinewidth\":0,\"ticks\":\"\"}}}],\"scattermapbox\":[{\"type\":\"scattermapbox\",\"marker\":{\"colorbar\":{\"outlinewidth\":0,\"ticks\":\"\"}}}],\"scatterternary\":[{\"type\":\"scatterternary\",\"marker\":{\"colorbar\":{\"outlinewidth\":0,\"ticks\":\"\"}}}],\"scattercarpet\":[{\"type\":\"scattercarpet\",\"marker\":{\"colorbar\":{\"outlinewidth\":0,\"ticks\":\"\"}}}],\"carpet\":[{\"aaxis\":{\"endlinecolor\":\"#2a3f5f\",\"gridcolor\":\"white\",\"linecolor\":\"white\",\"minorgridcolor\":\"white\",\"startlinecolor\":\"#2a3f5f\"},\"baxis\":{\"endlinecolor\":\"#2a3f5f\",\"gridcolor\":\"white\",\"linecolor\":\"white\",\"minorgridcolor\":\"white\",\"startlinecolor\":\"#2a3f5f\"},\"type\":\"carpet\"}],\"table\":[{\"cells\":{\"fill\":{\"color\":\"#EBF0F8\"},\"line\":{\"color\":\"white\"}},\"header\":{\"fill\":{\"color\":\"#C8D4E3\"},\"line\":{\"color\":\"white\"}},\"type\":\"table\"}],\"barpolar\":[{\"marker\":{\"line\":{\"color\":\"#E5ECF6\",\"width\":0.5},\"pattern\":{\"fillmode\":\"overlay\",\"size\":10,\"solidity\":0.2}},\"type\":\"barpolar\"}],\"pie\":[{\"automargin\":true,\"type\":\"pie\"}]},\"layout\":{\"autotypenumbers\":\"strict\",\"colorway\":[\"#636efa\",\"#EF553B\",\"#00cc96\",\"#ab63fa\",\"#FFA15A\",\"#19d3f3\",\"#FF6692\",\"#B6E880\",\"#FF97FF\",\"#FECB52\"],\"font\":{\"color\":\"#2a3f5f\"},\"hovermode\":\"closest\",\"hoverlabel\":{\"align\":\"left\"},\"paper_bgcolor\":\"white\",\"plot_bgcolor\":\"#E5ECF6\",\"polar\":{\"bgcolor\":\"#E5ECF6\",\"angularaxis\":{\"gridcolor\":\"white\",\"linecolor\":\"white\",\"ticks\":\"\"},\"radialaxis\":{\"gridcolor\":\"white\",\"linecolor\":\"white\",\"ticks\":\"\"}},\"ternary\":{\"bgcolor\":\"#E5ECF6\",\"aaxis\":{\"gridcolor\":\"white\",\"linecolor\":\"white\",\"ticks\":\"\"},\"baxis\":{\"gridcolor\":\"white\",\"linecolor\":\"white\",\"ticks\":\"\"},\"caxis\":{\"gridcolor\":\"white\",\"linecolor\":\"white\",\"ticks\":\"\"}},\"coloraxis\":{\"colorbar\":{\"outlinewidth\":0,\"ticks\":\"\"}},\"colorscale\":{\"sequential\":[[0.0,\"#0d0887\"],[0.1111111111111111,\"#46039f\"],[0.2222222222222222,\"#7201a8\"],[0.3333333333333333,\"#9c179e\"],[0.4444444444444444,\"#bd3786\"],[0.5555555555555556,\"#d8576b\"],[0.6666666666666666,\"#ed7953\"],[0.7777777777777778,\"#fb9f3a\"],[0.8888888888888888,\"#fdca26\"],[1.0,\"#f0f921\"]],\"sequentialminus\":[[0.0,\"#0d0887\"],[0.1111111111111111,\"#46039f\"],[0.2222222222222222,\"#7201a8\"],[0.3333333333333333,\"#9c179e\"],[0.4444444444444444,\"#bd3786\"],[0.5555555555555556,\"#d8576b\"],[0.6666666666666666,\"#ed7953\"],[0.7777777777777778,\"#fb9f3a\"],[0.8888888888888888,\"#fdca26\"],[1.0,\"#f0f921\"]],\"diverging\":[[0,\"#8e0152\"],[0.1,\"#c51b7d\"],[0.2,\"#de77ae\"],[0.3,\"#f1b6da\"],[0.4,\"#fde0ef\"],[0.5,\"#f7f7f7\"],[0.6,\"#e6f5d0\"],[0.7,\"#b8e186\"],[0.8,\"#7fbc41\"],[0.9,\"#4d9221\"],[1,\"#276419\"]]},\"xaxis\":{\"gridcolor\":\"white\",\"linecolor\":\"white\",\"ticks\":\"\",\"title\":{\"standoff\":15},\"zerolinecolor\":\"white\",\"automargin\":true,\"zerolinewidth\":2},\"yaxis\":{\"gridcolor\":\"white\",\"linecolor\":\"white\",\"ticks\":\"\",\"title\":{\"standoff\":15},\"zerolinecolor\":\"white\",\"automargin\":true,\"zerolinewidth\":2},\"scene\":{\"xaxis\":{\"backgroundcolor\":\"#E5ECF6\",\"gridcolor\":\"white\",\"linecolor\":\"white\",\"showbackground\":true,\"ticks\":\"\",\"zerolinecolor\":\"white\",\"gridwidth\":2},\"yaxis\":{\"backgroundcolor\":\"#E5ECF6\",\"gridcolor\":\"white\",\"linecolor\":\"white\",\"showbackground\":true,\"ticks\":\"\",\"zerolinecolor\":\"white\",\"gridwidth\":2},\"zaxis\":{\"backgroundcolor\":\"#E5ECF6\",\"gridcolor\":\"white\",\"linecolor\":\"white\",\"showbackground\":true,\"ticks\":\"\",\"zerolinecolor\":\"white\",\"gridwidth\":2}},\"shapedefaults\":{\"line\":{\"color\":\"#2a3f5f\"}},\"annotationdefaults\":{\"arrowcolor\":\"#2a3f5f\",\"arrowhead\":0,\"arrowwidth\":1},\"geo\":{\"bgcolor\":\"white\",\"landcolor\":\"#E5ECF6\",\"subunitcolor\":\"white\",\"showland\":true,\"showlakes\":true,\"lakecolor\":\"white\"},\"title\":{\"x\":0.05},\"mapbox\":{\"style\":\"light\"}}},\"xaxis\":{\"anchor\":\"y\",\"domain\":[0.0,1.0],\"title\":{\"text\":\"age\"}},\"yaxis\":{\"anchor\":\"x\",\"domain\":[0.0,1.0],\"title\":{\"text\":\"total_claims\"}},\"coloraxis\":{\"colorbar\":{\"title\":{\"text\":\"gender\"}},\"colorscale\":[[0.0,\"#0d0887\"],[0.1111111111111111,\"#46039f\"],[0.2222222222222222,\"#7201a8\"],[0.3333333333333333,\"#9c179e\"],[0.4444444444444444,\"#bd3786\"],[0.5555555555555556,\"#d8576b\"],[0.6666666666666666,\"#ed7953\"],[0.7777777777777778,\"#fb9f3a\"],[0.8888888888888888,\"#fdca26\"],[1.0,\"#f0f921\"]]},\"legend\":{\"tracegroupgap\":0,\"itemsizing\":\"constant\"},\"title\":{\"text\":\"Claims vs Age\"}},                        {\"responsive\": true}                    ).then(function(){\n",
              "                            \n",
              "var gd = document.getElementById('9936235f-ee88-4450-baf2-001d5fe51c7c');\n",
              "var x = new MutationObserver(function (mutations, observer) {{\n",
              "        var display = window.getComputedStyle(gd).display;\n",
              "        if (!display || display === 'none') {{\n",
              "            console.log([gd, 'removed!']);\n",
              "            Plotly.purge(gd);\n",
              "            observer.disconnect();\n",
              "        }}\n",
              "}});\n",
              "\n",
              "// Listen for the removal of the full notebook cells\n",
              "var notebookContainer = gd.closest('#notebook-container');\n",
              "if (notebookContainer) {{\n",
              "    x.observe(notebookContainer, {childList: true});\n",
              "}}\n",
              "\n",
              "// Listen for the clearing of the current output cell\n",
              "var outputEl = gd.closest('.output');\n",
              "if (outputEl) {{\n",
              "    x.observe(outputEl, {childList: true});\n",
              "}}\n",
              "\n",
              "                        })                };                            </script>        </div>\n",
              "</body>\n",
              "</html>"
            ]
          },
          "metadata": {}
        }
      ]
    },
    {
      "cell_type": "markdown",
      "source": [
        "**Why choose this plot?**\n",
        "\n",
        "Scatter plot effectively shows the relationship between patient age and total claims, with color encoding gender to reveal any demographic cost patterns.\n",
        "\n",
        "**Insight:**\n",
        "\n",
        "Older patients (60+) tend to have higher claim totals, while younger patients cluster at lower costs.\n",
        "\n",
        " No major gender-specific cost differences appear, confirming age as the primary driver of healthcare spending in this cohort."
      ],
      "metadata": {
        "id": "UUBToImOQppx"
      }
    },
    {
      "cell_type": "markdown",
      "source": [
        "-----------\n",
        "\n",
        "## **14. Age vs Conditions**"
      ],
      "metadata": {
        "id": "CYkqitHjQ-28"
      }
    },
    {
      "cell_type": "code",
      "source": [
        "\n",
        "\n",
        "px.box(df_plot, x=\"num_conditions\", y=\"age\",color='num_conditions', title=\"Age vs Number of Conditions\")\n",
        "\n"
      ],
      "metadata": {
        "colab": {
          "base_uri": "https://localhost:8080/",
          "height": 542
        },
        "id": "1vY3rQKG7-Zp",
        "outputId": "ec4d789f-8b87-4c34-d166-3642203b3762"
      },
      "execution_count": 34,
      "outputs": [
        {
          "output_type": "display_data",
          "data": {
            "text/html": [
              "<html>\n",
              "<head><meta charset=\"utf-8\" /></head>\n",
              "<body>\n",
              "    <div>            <script src=\"https://cdnjs.cloudflare.com/ajax/libs/mathjax/2.7.5/MathJax.js?config=TeX-AMS-MML_SVG\"></script><script type=\"text/javascript\">if (window.MathJax && window.MathJax.Hub && window.MathJax.Hub.Config) {window.MathJax.Hub.Config({SVG: {font: \"STIX-Web\"}});}</script>                <script type=\"text/javascript\">window.PlotlyConfig = {MathJaxConfig: 'local'};</script>\n",
              "        <script charset=\"utf-8\" src=\"https://cdn.plot.ly/plotly-2.35.2.min.js\"></script>                <div id=\"7cf85151-c4f0-45b1-98e6-5e4ea63def72\" class=\"plotly-graph-div\" style=\"height:525px; width:100%;\"></div>            <script type=\"text/javascript\">                                    window.PLOTLYENV=window.PLOTLYENV || {};                                    if (document.getElementById(\"7cf85151-c4f0-45b1-98e6-5e4ea63def72\")) {                    Plotly.newPlot(                        \"7cf85151-c4f0-45b1-98e6-5e4ea63def72\",                        [{\"alignmentgroup\":\"True\",\"hovertemplate\":\"num_conditions=%{x}\\u003cbr\\u003eage=%{y}\\u003cextra\\u003e\\u003c\\u002fextra\\u003e\",\"legendgroup\":\"0.0\",\"marker\":{\"color\":\"#636efa\"},\"name\":\"0.0\",\"notched\":false,\"offsetgroup\":\"0.0\",\"orientation\":\"v\",\"showlegend\":true,\"x\":[0.0,0.0,0.0,0.0,0.0,0.0,0.0,0.0,0.0,0.0,0.0,0.0,0.0,0.0,0.0,0.0,0.0,0.0,0.0,0.0,0.0,0.0,0.0,0.0,0.0,0.0,0.0,0.0,0.0,0.0,0.0,0.0,0.0,0.0,0.0,0.0,0.0,0.0,0.0,0.0,0.0,0.0,0.0,0.0,0.0,0.0,0.0,0.0,0.0,0.0,0.0,0.0,0.0,0.0,0.0,0.0,0.0,0.0],\"x0\":\" \",\"xaxis\":\"x\",\"y\":[100.0,52.0,7.0,0.0,63.0,2.0,75.0,80.0,16.0,63.0,46.0,58.0,77.0,12.0,66.0,70.0,65.0,42.0,1.0,0.0,33.0,40.0,38.0,0.0,19.0,12.0,0.0,7.0,7.0,8.0,8.0,8.0,8.0,8.0,8.0,8.0,8.0,8.0,8.0,8.0,8.0,8.0,8.0,8.0,8.0,8.0,8.0,9.0,9.0,9.0,9.0,9.0,9.0,9.0,10.0,10.0,11.0,11.0],\"y0\":\" \",\"yaxis\":\"y\",\"type\":\"box\"},{\"alignmentgroup\":\"True\",\"hovertemplate\":\"num_conditions=%{x}\\u003cbr\\u003eage=%{y}\\u003cextra\\u003e\\u003c\\u002fextra\\u003e\",\"legendgroup\":\"1.0\",\"marker\":{\"color\":\"#EF553B\"},\"name\":\"1.0\",\"notched\":false,\"offsetgroup\":\"1.0\",\"orientation\":\"v\",\"showlegend\":true,\"x\":[1.0,1.0,1.0,1.0,1.0,1.0,1.0,1.0,1.0,1.0,1.0,1.0,1.0,1.0,1.0,1.0,1.0,1.0,1.0,1.0,1.0,1.0,1.0,1.0,1.0,1.0,1.0,1.0,1.0,1.0,1.0,1.0,1.0,1.0,1.0,1.0,1.0,1.0,1.0,1.0,1.0,1.0,1.0,1.0,1.0,1.0,1.0,1.0,1.0,1.0,1.0,1.0,1.0,1.0,1.0,1.0,1.0,1.0,1.0,1.0,1.0,1.0,1.0,1.0,1.0,1.0,1.0,1.0,1.0,1.0,1.0,1.0,1.0,1.0,1.0,1.0,1.0,1.0,1.0,1.0,1.0,1.0,1.0,1.0,1.0,1.0,1.0,1.0,1.0,1.0,1.0,1.0,1.0,1.0,1.0,1.0,1.0,1.0,1.0,1.0],\"x0\":\" \",\"xaxis\":\"x\",\"y\":[3.0,44.0,78.0,68.0,58.0,86.0,72.0,80.0,35.0,83.0,49.0,76.0,75.0,41.0,73.0,67.0,56.0,66.0,46.0,68.0,38.0,55.0,77.0,38.0,68.0,80.0,78.0,65.0,19.0,75.0,10.0,51.0,69.0,47.0,66.0,32.0,62.0,46.0,53.0,57.0,46.0,33.0,39.0,22.0,20.0,34.0,1.0,29.0,9.0,9.0,9.0,9.0,9.0,10.0,10.0,10.0,10.0,10.0,10.0,10.0,11.0,11.0,12.0,12.0,12.0,13.0,13.0,13.0,14.0,14.0,15.0,19.0,21.0,24.0,26.0,26.0,29.0,30.0,31.0,34.0,37.0,38.0,38.0,38.0,40.0,42.0,42.0,42.0,43.0,44.0,49.0,49.0,52.0,52.0,54.0,59.0,60.0,61.0,64.0,73.0],\"y0\":\" \",\"yaxis\":\"y\",\"type\":\"box\"},{\"alignmentgroup\":\"True\",\"hovertemplate\":\"num_conditions=%{x}\\u003cbr\\u003eage=%{y}\\u003cextra\\u003e\\u003c\\u002fextra\\u003e\",\"legendgroup\":\"9.0\",\"marker\":{\"color\":\"#00cc96\"},\"name\":\"9.0\",\"notched\":false,\"offsetgroup\":\"9.0\",\"orientation\":\"v\",\"showlegend\":true,\"x\":[9.0,9.0,9.0,9.0,9.0,9.0,9.0,9.0,9.0,9.0,9.0,9.0,9.0,9.0,9.0,9.0,9.0,9.0,9.0,9.0,9.0,9.0,9.0,9.0,9.0,9.0,9.0,9.0,9.0,9.0,9.0,9.0,9.0,9.0,9.0,9.0,9.0,9.0,9.0,9.0,9.0,9.0,9.0,9.0,9.0,9.0,9.0,9.0,9.0,9.0,9.0,9.0,9.0,9.0,9.0,9.0,9.0,9.0,9.0,9.0,9.0],\"x0\":\" \",\"xaxis\":\"x\",\"y\":[73.0,82.0,78.0,53.0,90.0,95.0,77.0,94.0,53.0,95.0,75.0,84.0,60.0,106.0,19.0,20.0,20.0,23.0,23.0,27.0,27.0,30.0,31.0,35.0,36.0,38.0,39.0,42.0,42.0,42.0,46.0,46.0,47.0,48.0,49.0,51.0,52.0,53.0,54.0,55.0,56.0,57.0,58.0,59.0,60.0,62.0,63.0,65.0,73.0,75.0,75.0,77.0,78.0,78.0,81.0,81.0,83.0,86.0,93.0,94.0,94.0],\"y0\":\" \",\"yaxis\":\"y\",\"type\":\"box\"},{\"alignmentgroup\":\"True\",\"hovertemplate\":\"num_conditions=%{x}\\u003cbr\\u003eage=%{y}\\u003cextra\\u003e\\u003c\\u002fextra\\u003e\",\"legendgroup\":\"10.0\",\"marker\":{\"color\":\"#ab63fa\"},\"name\":\"10.0\",\"notched\":false,\"offsetgroup\":\"10.0\",\"orientation\":\"v\",\"showlegend\":true,\"x\":[10.0,10.0,10.0,10.0,10.0,10.0,10.0,10.0,10.0,10.0,10.0,10.0,10.0,10.0,10.0,10.0,10.0,10.0,10.0,10.0,10.0,10.0,10.0,10.0,10.0,10.0,10.0,10.0,10.0,10.0,10.0,10.0,10.0,10.0,10.0,10.0,10.0,10.0],\"x0\":\" \",\"xaxis\":\"x\",\"y\":[62.0,62.0,57.0,95.0,63.0,61.0,77.0,104.0,18.0,19.0,22.0,27.0,29.0,33.0,34.0,36.0,40.0,46.0,51.0,52.0,59.0,59.0,63.0,63.0,64.0,66.0,70.0,74.0,78.0,81.0,84.0,84.0,85.0,85.0,88.0,90.0,93.0,93.0],\"y0\":\" \",\"yaxis\":\"y\",\"type\":\"box\"},{\"alignmentgroup\":\"True\",\"hovertemplate\":\"num_conditions=%{x}\\u003cbr\\u003eage=%{y}\\u003cextra\\u003e\\u003c\\u002fextra\\u003e\",\"legendgroup\":\"4.0\",\"marker\":{\"color\":\"#FFA15A\"},\"name\":\"4.0\",\"notched\":false,\"offsetgroup\":\"4.0\",\"orientation\":\"v\",\"showlegend\":true,\"x\":[4.0,4.0,4.0,4.0,4.0,4.0,4.0,4.0,4.0,4.0,4.0,4.0,4.0,4.0,4.0,4.0,4.0,4.0,4.0,4.0,4.0,4.0,4.0,4.0,4.0,4.0,4.0,4.0,4.0,4.0,4.0,4.0,4.0,4.0,4.0,4.0,4.0,4.0,4.0,4.0,4.0,4.0,4.0,4.0,4.0,4.0,4.0,4.0,4.0,4.0,4.0,4.0,4.0,4.0,4.0,4.0,4.0,4.0,4.0,4.0,4.0,4.0,4.0,4.0,4.0,4.0,4.0,4.0,4.0,4.0,4.0,4.0,4.0,4.0,4.0,4.0,4.0,4.0,4.0,4.0,4.0,4.0,4.0,4.0,4.0,4.0,4.0,4.0,4.0,4.0,4.0,4.0,4.0,4.0,4.0,4.0,4.0,4.0,4.0,4.0,4.0,4.0,4.0,4.0,4.0,4.0,4.0,4.0,4.0,4.0,4.0,4.0,4.0,4.0,4.0,4.0,4.0,4.0,4.0,4.0,4.0,4.0,4.0,4.0,4.0,4.0,4.0,4.0,4.0,4.0,4.0,4.0,4.0,4.0,4.0,4.0,4.0,4.0,4.0,4.0,4.0,4.0,4.0,4.0,4.0,4.0,4.0,4.0,4.0,4.0,4.0,4.0,4.0,4.0,4.0,4.0,4.0,4.0,4.0,4.0,4.0,4.0,4.0,4.0,4.0,4.0,4.0,4.0,4.0,4.0,4.0,4.0,4.0,4.0,4.0,4.0,4.0,4.0,4.0,4.0,4.0,4.0,4.0,4.0,4.0,4.0,4.0,4.0,4.0,4.0,4.0,4.0,4.0,4.0,4.0,4.0,4.0,4.0,4.0,4.0,4.0,4.0,4.0,4.0,4.0,4.0],\"x0\":\" \",\"xaxis\":\"x\",\"y\":[81.0,75.0,67.0,96.0,68.0,72.0,81.0,81.0,93.0,60.0,62.0,90.0,84.0,90.0,49.0,89.0,84.0,48.0,65.0,79.0,45.0,50.0,86.0,88.0,87.0,84.0,87.0,46.0,69.0,85.0,49.0,50.0,53.0,73.0,84.0,77.0,81.0,76.0,77.0,47.0,76.0,59.0,58.0,53.0,47.0,53.0,51.0,69.0,59.0,60.0,51.0,55.0,63.0,52.0,47.0,59.0,49.0,56.0,49.0,2.0,28.0,20.0,107.0,99.0,100.0,100.0,9.0,11.0,11.0,11.0,12.0,12.0,12.0,13.0,13.0,14.0,14.0,14.0,15.0,15.0,15.0,15.0,16.0,16.0,17.0,17.0,17.0,17.0,17.0,17.0,18.0,18.0,18.0,18.0,19.0,19.0,21.0,21.0,21.0,21.0,22.0,22.0,22.0,23.0,24.0,24.0,24.0,24.0,24.0,24.0,25.0,25.0,26.0,26.0,27.0,27.0,27.0,28.0,29.0,29.0,29.0,31.0,32.0,32.0,33.0,34.0,35.0,35.0,37.0,37.0,38.0,38.0,40.0,42.0,44.0,44.0,45.0,46.0,46.0,46.0,46.0,47.0,47.0,47.0,48.0,48.0,48.0,49.0,49.0,49.0,50.0,51.0,52.0,52.0,52.0,52.0,52.0,53.0,54.0,54.0,55.0,55.0,56.0,56.0,57.0,58.0,59.0,60.0,60.0,60.0,61.0,61.0,61.0,62.0,62.0,63.0,64.0,64.0,64.0,65.0,65.0,66.0,66.0,68.0,68.0,68.0,68.0,69.0,69.0,69.0,70.0,70.0,71.0,73.0,75.0,75.0,76.0,77.0,80.0,81.0,83.0,86.0,87.0,88.0,89.0,94.0],\"y0\":\" \",\"yaxis\":\"y\",\"type\":\"box\"},{\"alignmentgroup\":\"True\",\"hovertemplate\":\"num_conditions=%{x}\\u003cbr\\u003eage=%{y}\\u003cextra\\u003e\\u003c\\u002fextra\\u003e\",\"legendgroup\":\"11.0\",\"marker\":{\"color\":\"#19d3f3\"},\"name\":\"11.0\",\"notched\":false,\"offsetgroup\":\"11.0\",\"orientation\":\"v\",\"showlegend\":true,\"x\":[11.0,11.0,11.0,11.0,11.0,11.0,11.0,11.0,11.0,11.0,11.0,11.0,11.0,11.0,11.0,11.0,11.0,11.0,11.0,11.0,11.0,11.0,11.0,11.0,11.0,11.0,11.0,11.0,11.0,11.0,11.0],\"x0\":\" \",\"xaxis\":\"x\",\"y\":[79.0,77.0,79.0,96.0,68.0,74.0,79.0,65.0,59.0,17.0,23.0,30.0,34.0,34.0,35.0,38.0,38.0,38.0,39.0,39.0,42.0,46.0,49.0,52.0,54.0,64.0,65.0,73.0,73.0,79.0,87.0],\"y0\":\" \",\"yaxis\":\"y\",\"type\":\"box\"},{\"alignmentgroup\":\"True\",\"hovertemplate\":\"num_conditions=%{x}\\u003cbr\\u003eage=%{y}\\u003cextra\\u003e\\u003c\\u002fextra\\u003e\",\"legendgroup\":\"8.0\",\"marker\":{\"color\":\"#FF6692\"},\"name\":\"8.0\",\"notched\":false,\"offsetgroup\":\"8.0\",\"orientation\":\"v\",\"showlegend\":true,\"x\":[8.0,8.0,8.0,8.0,8.0,8.0,8.0,8.0,8.0,8.0,8.0,8.0,8.0,8.0,8.0,8.0,8.0,8.0,8.0,8.0,8.0,8.0,8.0,8.0,8.0,8.0,8.0,8.0,8.0,8.0,8.0,8.0,8.0,8.0,8.0,8.0,8.0,8.0,8.0,8.0,8.0,8.0,8.0,8.0,8.0,8.0,8.0,8.0,8.0,8.0,8.0,8.0,8.0,8.0,8.0,8.0,8.0,8.0,8.0,8.0,8.0,8.0,8.0,8.0,8.0,8.0,8.0,8.0,8.0,8.0,8.0,8.0,8.0,8.0],\"x0\":\" \",\"xaxis\":\"x\",\"y\":[80.0,19.0,89.0,81.0,92.0,66.0,75.0,51.0,75.0,85.0,78.0,73.0,50.0,85.0,84.0,64.0,51.0,50.0,46.0,17.0,20.0,20.0,27.0,30.0,31.0,33.0,33.0,34.0,35.0,37.0,37.0,38.0,38.0,38.0,39.0,40.0,42.0,42.0,42.0,43.0,45.0,47.0,47.0,48.0,48.0,49.0,53.0,53.0,53.0,57.0,57.0,58.0,60.0,61.0,61.0,62.0,62.0,64.0,64.0,65.0,68.0,69.0,70.0,71.0,72.0,73.0,75.0,81.0,82.0,82.0,86.0,88.0,88.0,93.0],\"y0\":\" \",\"yaxis\":\"y\",\"type\":\"box\"},{\"alignmentgroup\":\"True\",\"hovertemplate\":\"num_conditions=%{x}\\u003cbr\\u003eage=%{y}\\u003cextra\\u003e\\u003c\\u002fextra\\u003e\",\"legendgroup\":\"5.0\",\"marker\":{\"color\":\"#B6E880\"},\"name\":\"5.0\",\"notched\":false,\"offsetgroup\":\"5.0\",\"orientation\":\"v\",\"showlegend\":true,\"x\":[5.0,5.0,5.0,5.0,5.0,5.0,5.0,5.0,5.0,5.0,5.0,5.0,5.0,5.0,5.0,5.0,5.0,5.0,5.0,5.0,5.0,5.0,5.0,5.0,5.0,5.0,5.0,5.0,5.0,5.0,5.0,5.0,5.0,5.0,5.0,5.0,5.0,5.0,5.0,5.0,5.0,5.0,5.0,5.0,5.0,5.0,5.0,5.0,5.0,5.0,5.0,5.0,5.0,5.0,5.0,5.0,5.0,5.0,5.0,5.0,5.0,5.0,5.0,5.0,5.0,5.0,5.0,5.0,5.0,5.0,5.0,5.0,5.0,5.0,5.0,5.0,5.0,5.0,5.0,5.0,5.0,5.0,5.0,5.0,5.0,5.0,5.0,5.0,5.0,5.0,5.0,5.0,5.0,5.0,5.0,5.0,5.0,5.0,5.0,5.0,5.0,5.0,5.0,5.0,5.0,5.0,5.0,5.0,5.0,5.0,5.0,5.0,5.0,5.0,5.0,5.0,5.0,5.0,5.0,5.0,5.0,5.0,5.0,5.0,5.0,5.0,5.0,5.0,5.0,5.0,5.0,5.0,5.0,5.0,5.0,5.0,5.0,5.0,5.0,5.0,5.0,5.0,5.0,5.0,5.0,5.0,5.0,5.0,5.0,5.0,5.0,5.0,5.0,5.0,5.0,5.0,5.0,5.0,5.0,5.0,5.0,5.0,5.0,5.0,5.0,5.0,5.0,5.0,5.0,5.0,5.0,5.0,5.0,5.0],\"x0\":\" \",\"xaxis\":\"x\",\"y\":[61.0,66.0,79.0,72.0,50.0,54.0,88.0,44.0,64.0,87.0,80.0,81.0,51.0,69.0,48.0,67.0,88.0,76.0,82.0,52.0,81.0,79.0,79.0,65.0,73.0,58.0,63.0,73.0,36.0,62.0,71.0,55.0,55.0,54.0,60.0,50.0,39.0,54.0,59.0,64.0,49.0,51.0,58.0,43.0,55.0,26.0,52.0,28.0,11.0,17.0,101.0,12.0,12.0,12.0,13.0,14.0,15.0,15.0,16.0,16.0,16.0,17.0,17.0,19.0,19.0,19.0,19.0,20.0,20.0,22.0,22.0,23.0,23.0,23.0,23.0,24.0,24.0,24.0,25.0,25.0,26.0,26.0,27.0,27.0,28.0,29.0,29.0,29.0,30.0,31.0,31.0,31.0,32.0,32.0,32.0,32.0,33.0,33.0,34.0,35.0,35.0,36.0,36.0,37.0,37.0,39.0,39.0,39.0,39.0,39.0,40.0,40.0,41.0,41.0,41.0,41.0,41.0,43.0,43.0,44.0,44.0,44.0,44.0,44.0,45.0,46.0,48.0,48.0,49.0,50.0,50.0,52.0,54.0,54.0,54.0,54.0,55.0,55.0,56.0,56.0,57.0,57.0,57.0,59.0,60.0,61.0,61.0,61.0,62.0,62.0,65.0,66.0,66.0,66.0,67.0,67.0,67.0,68.0,68.0,68.0,69.0,69.0,69.0,70.0,70.0,71.0,72.0,72.0,76.0,79.0,80.0,83.0,88.0,92.0],\"y0\":\" \",\"yaxis\":\"y\",\"type\":\"box\"},{\"alignmentgroup\":\"True\",\"hovertemplate\":\"num_conditions=%{x}\\u003cbr\\u003eage=%{y}\\u003cextra\\u003e\\u003c\\u002fextra\\u003e\",\"legendgroup\":\"7.0\",\"marker\":{\"color\":\"#FF97FF\"},\"name\":\"7.0\",\"notched\":false,\"offsetgroup\":\"7.0\",\"orientation\":\"v\",\"showlegend\":true,\"x\":[7.0,7.0,7.0,7.0,7.0,7.0,7.0,7.0,7.0,7.0,7.0,7.0,7.0,7.0,7.0,7.0,7.0,7.0,7.0,7.0,7.0,7.0,7.0,7.0,7.0,7.0,7.0,7.0,7.0,7.0,7.0,7.0,7.0,7.0,7.0,7.0,7.0,7.0,7.0,7.0,7.0,7.0,7.0,7.0,7.0,7.0,7.0,7.0,7.0,7.0,7.0,7.0,7.0,7.0,7.0,7.0,7.0,7.0,7.0,7.0,7.0,7.0,7.0,7.0,7.0,7.0,7.0,7.0,7.0,7.0,7.0,7.0,7.0,7.0,7.0,7.0,7.0,7.0,7.0,7.0,7.0,7.0,7.0,7.0,7.0,7.0,7.0,7.0,7.0,7.0,7.0,7.0,7.0,7.0,7.0,7.0,7.0,7.0,7.0,7.0,7.0,7.0,7.0,7.0,7.0,7.0,7.0,7.0,7.0,7.0,7.0,7.0,7.0,7.0,7.0,7.0,7.0,7.0,7.0,7.0,7.0,7.0,7.0,7.0,7.0,7.0,7.0,7.0,7.0,7.0,7.0],\"x0\":\" \",\"xaxis\":\"x\",\"y\":[60.0,93.0,74.0,55.0,62.0,42.0,84.0,89.0,90.0,79.0,85.0,86.0,73.0,83.0,66.0,51.0,47.0,60.0,72.0,65.0,72.0,61.0,53.0,63.0,58.0,99.0,103.0,106.0,14.0,14.0,15.0,15.0,16.0,16.0,16.0,17.0,17.0,19.0,19.0,20.0,20.0,21.0,22.0,22.0,24.0,25.0,27.0,27.0,27.0,29.0,29.0,31.0,31.0,31.0,31.0,32.0,32.0,34.0,35.0,35.0,35.0,39.0,40.0,41.0,43.0,45.0,47.0,50.0,50.0,53.0,54.0,55.0,55.0,55.0,56.0,57.0,57.0,57.0,57.0,57.0,58.0,59.0,59.0,60.0,61.0,61.0,61.0,61.0,63.0,64.0,64.0,66.0,66.0,66.0,67.0,67.0,69.0,69.0,70.0,71.0,71.0,71.0,71.0,71.0,72.0,72.0,72.0,73.0,74.0,74.0,75.0,75.0,77.0,78.0,78.0,78.0,80.0,80.0,80.0,81.0,82.0,82.0,83.0,84.0,86.0,86.0,87.0,87.0,88.0,88.0,92.0],\"y0\":\" \",\"yaxis\":\"y\",\"type\":\"box\"},{\"alignmentgroup\":\"True\",\"hovertemplate\":\"num_conditions=%{x}\\u003cbr\\u003eage=%{y}\\u003cextra\\u003e\\u003c\\u002fextra\\u003e\",\"legendgroup\":\"2.0\",\"marker\":{\"color\":\"#FECB52\"},\"name\":\"2.0\",\"notched\":false,\"offsetgroup\":\"2.0\",\"orientation\":\"v\",\"showlegend\":true,\"x\":[2.0,2.0,2.0,2.0,2.0,2.0,2.0,2.0,2.0,2.0,2.0,2.0,2.0,2.0,2.0,2.0,2.0,2.0,2.0,2.0,2.0,2.0,2.0,2.0,2.0,2.0,2.0,2.0,2.0,2.0,2.0,2.0,2.0,2.0,2.0,2.0,2.0,2.0,2.0,2.0,2.0,2.0,2.0,2.0,2.0,2.0,2.0,2.0,2.0,2.0,2.0,2.0,2.0,2.0,2.0,2.0,2.0,2.0,2.0,2.0,2.0,2.0,2.0,2.0,2.0,2.0,2.0,2.0,2.0,2.0,2.0,2.0,2.0,2.0,2.0,2.0,2.0,2.0,2.0,2.0,2.0,2.0,2.0,2.0,2.0,2.0,2.0,2.0,2.0,2.0,2.0,2.0,2.0,2.0,2.0,2.0,2.0,2.0,2.0,2.0,2.0,2.0,2.0,2.0,2.0,2.0,2.0,2.0,2.0,2.0,2.0,2.0,2.0,2.0,2.0,2.0,2.0,2.0,2.0,2.0,2.0,2.0,2.0,2.0,2.0,2.0,2.0,2.0,2.0,2.0,2.0,2.0,2.0,2.0,2.0,2.0,2.0,2.0,2.0,2.0,2.0,2.0,2.0,2.0,2.0,2.0,2.0,2.0,2.0,2.0,2.0,2.0,2.0,2.0,2.0,2.0,2.0,2.0,2.0,2.0],\"x0\":\" \",\"xaxis\":\"x\",\"y\":[51.0,54.0,82.0,85.0,68.0,59.0,74.0,18.0,86.0,88.0,46.0,38.0,54.0,86.0,88.0,57.0,76.0,88.0,75.0,73.0,89.0,43.0,47.0,60.0,77.0,57.0,2.0,85.0,7.0,76.0,77.0,80.0,68.0,44.0,76.0,48.0,54.0,67.0,60.0,35.0,64.0,58.0,71.0,68.0,65.0,59.0,68.0,62.0,65.0,54.0,52.0,57.0,59.0,54.0,41.0,45.0,60.0,3.0,59.0,32.0,35.0,36.0,37.0,19.0,52.0,0.0,48.0,13.0,2.0,16.0,1.0,9.0,9.0,9.0,9.0,10.0,10.0,10.0,11.0,11.0,11.0,12.0,12.0,12.0,13.0,15.0,15.0,16.0,16.0,18.0,20.0,21.0,21.0,21.0,22.0,22.0,23.0,23.0,23.0,23.0,23.0,24.0,24.0,24.0,25.0,26.0,26.0,27.0,27.0,27.0,27.0,28.0,28.0,30.0,31.0,31.0,32.0,33.0,35.0,36.0,37.0,37.0,38.0,41.0,42.0,43.0,44.0,44.0,44.0,46.0,46.0,48.0,50.0,51.0,51.0,52.0,55.0,55.0,56.0,56.0,57.0,57.0,59.0,59.0,61.0,62.0,63.0,63.0,63.0,64.0,69.0,70.0,71.0,71.0,72.0,73.0,74.0,76.0,82.0,92.0],\"y0\":\" \",\"yaxis\":\"y\",\"type\":\"box\"},{\"alignmentgroup\":\"True\",\"hovertemplate\":\"num_conditions=%{x}\\u003cbr\\u003eage=%{y}\\u003cextra\\u003e\\u003c\\u002fextra\\u003e\",\"legendgroup\":\"6.0\",\"marker\":{\"color\":\"#636efa\"},\"name\":\"6.0\",\"notched\":false,\"offsetgroup\":\"6.0\",\"orientation\":\"v\",\"showlegend\":true,\"x\":[6.0,6.0,6.0,6.0,6.0,6.0,6.0,6.0,6.0,6.0,6.0,6.0,6.0,6.0,6.0,6.0,6.0,6.0,6.0,6.0,6.0,6.0,6.0,6.0,6.0,6.0,6.0,6.0,6.0,6.0,6.0,6.0,6.0,6.0,6.0,6.0,6.0,6.0,6.0,6.0,6.0,6.0,6.0,6.0,6.0,6.0,6.0,6.0,6.0,6.0,6.0,6.0,6.0,6.0,6.0,6.0,6.0,6.0,6.0,6.0,6.0,6.0,6.0,6.0,6.0,6.0,6.0,6.0,6.0,6.0,6.0,6.0,6.0,6.0,6.0,6.0,6.0,6.0,6.0,6.0,6.0,6.0,6.0,6.0,6.0,6.0,6.0,6.0,6.0,6.0,6.0,6.0,6.0,6.0,6.0,6.0,6.0,6.0,6.0,6.0,6.0,6.0,6.0,6.0,6.0,6.0,6.0,6.0,6.0,6.0,6.0,6.0,6.0,6.0,6.0,6.0,6.0,6.0,6.0,6.0,6.0,6.0,6.0,6.0,6.0,6.0,6.0,6.0,6.0,6.0,6.0,6.0,6.0,6.0,6.0,6.0,6.0,6.0,6.0,6.0,6.0,6.0,6.0,6.0,6.0,6.0,6.0,6.0,6.0,6.0,6.0,6.0,6.0,6.0],\"x0\":\" \",\"xaxis\":\"x\",\"y\":[92.0,49.0,38.0,84.0,86.0,85.0,82.0,56.0,60.0,53.0,66.0,81.0,63.0,77.0,75.0,75.0,76.0,58.0,75.0,73.0,60.0,73.0,80.0,60.0,65.0,64.0,62.0,43.0,59.0,75.0,46.0,65.0,57.0,59.0,60.0,49.0,30.0,48.0,27.0,107.0,99.0,13.0,14.0,15.0,16.0,16.0,16.0,16.0,16.0,17.0,17.0,17.0,17.0,18.0,18.0,19.0,19.0,20.0,21.0,21.0,24.0,24.0,24.0,25.0,25.0,26.0,26.0,27.0,27.0,27.0,27.0,29.0,30.0,30.0,30.0,31.0,31.0,31.0,32.0,35.0,35.0,35.0,36.0,36.0,37.0,37.0,38.0,38.0,39.0,39.0,40.0,40.0,40.0,42.0,42.0,42.0,42.0,43.0,43.0,44.0,45.0,46.0,47.0,47.0,47.0,48.0,49.0,52.0,53.0,53.0,54.0,55.0,55.0,56.0,56.0,57.0,57.0,57.0,59.0,59.0,60.0,61.0,61.0,62.0,62.0,62.0,62.0,62.0,63.0,63.0,63.0,63.0,64.0,65.0,65.0,65.0,65.0,69.0,71.0,73.0,74.0,77.0,78.0,79.0,81.0,81.0,81.0,82.0,86.0,87.0,87.0,89.0,90.0,93.0],\"y0\":\" \",\"yaxis\":\"y\",\"type\":\"box\"},{\"alignmentgroup\":\"True\",\"hovertemplate\":\"num_conditions=%{x}\\u003cbr\\u003eage=%{y}\\u003cextra\\u003e\\u003c\\u002fextra\\u003e\",\"legendgroup\":\"3.0\",\"marker\":{\"color\":\"#EF553B\"},\"name\":\"3.0\",\"notched\":false,\"offsetgroup\":\"3.0\",\"orientation\":\"v\",\"showlegend\":true,\"x\":[3.0,3.0,3.0,3.0,3.0,3.0,3.0,3.0,3.0,3.0,3.0,3.0,3.0,3.0,3.0,3.0,3.0,3.0,3.0,3.0,3.0,3.0,3.0,3.0,3.0,3.0,3.0,3.0,3.0,3.0,3.0,3.0,3.0,3.0,3.0,3.0,3.0,3.0,3.0,3.0,3.0,3.0,3.0,3.0,3.0,3.0,3.0,3.0,3.0,3.0,3.0,3.0,3.0,3.0,3.0,3.0,3.0,3.0,3.0,3.0,3.0,3.0,3.0,3.0,3.0,3.0,3.0,3.0,3.0,3.0,3.0,3.0,3.0,3.0,3.0,3.0,3.0,3.0,3.0,3.0,3.0,3.0,3.0,3.0,3.0,3.0,3.0,3.0,3.0,3.0,3.0,3.0,3.0,3.0,3.0,3.0,3.0,3.0,3.0,3.0,3.0,3.0,3.0,3.0,3.0,3.0,3.0,3.0,3.0,3.0,3.0,3.0,3.0,3.0,3.0,3.0,3.0,3.0,3.0,3.0,3.0,3.0,3.0,3.0,3.0,3.0,3.0,3.0,3.0,3.0,3.0,3.0,3.0,3.0,3.0,3.0,3.0,3.0,3.0,3.0,3.0,3.0,3.0,3.0,3.0,3.0,3.0,3.0,3.0,3.0,3.0,3.0,3.0,3.0,3.0,3.0,3.0,3.0,3.0,3.0,3.0,3.0,3.0,3.0,3.0,3.0,3.0,3.0,3.0,3.0,3.0,3.0,3.0,3.0,3.0,3.0,3.0,3.0,3.0,3.0,3.0,3.0,3.0,3.0,3.0,3.0,3.0,3.0,3.0,3.0,3.0,3.0,3.0,3.0,3.0,3.0,3.0,3.0,3.0,3.0,3.0,3.0,3.0,3.0,3.0,3.0,3.0,3.0,3.0,3.0,3.0,3.0,3.0,3.0,3.0,3.0,3.0,3.0,3.0,3.0,3.0,3.0,3.0,3.0,3.0,3.0,3.0,3.0,3.0,3.0,3.0,3.0,3.0,3.0,3.0,3.0,3.0,3.0,3.0],\"x0\":\" \",\"xaxis\":\"x\",\"y\":[75.0,84.0,11.0,93.0,40.0,81.0,81.0,83.0,63.0,73.0,59.0,80.0,40.0,76.0,81.0,80.0,57.0,42.0,70.0,75.0,86.0,48.0,65.0,13.0,76.0,56.0,75.0,86.0,49.0,70.0,83.0,68.0,85.0,81.0,78.0,73.0,32.0,58.0,80.0,64.0,72.0,53.0,60.0,67.0,78.0,77.0,49.0,78.0,67.0,73.0,49.0,61.0,61.0,58.0,48.0,67.0,62.0,32.0,56.0,62.0,31.0,55.0,47.0,48.0,55.0,53.0,49.0,24.0,35.0,40.0,27.0,2.0,29.0,10.0,5.0,27.0,22.0,1.0,9.0,9.0,10.0,10.0,10.0,11.0,11.0,12.0,12.0,12.0,13.0,13.0,13.0,13.0,14.0,14.0,15.0,15.0,15.0,16.0,16.0,17.0,17.0,17.0,18.0,18.0,18.0,18.0,18.0,18.0,18.0,19.0,19.0,20.0,20.0,21.0,22.0,22.0,22.0,23.0,23.0,23.0,24.0,25.0,26.0,26.0,26.0,26.0,26.0,26.0,26.0,27.0,27.0,27.0,28.0,28.0,29.0,29.0,29.0,29.0,29.0,29.0,30.0,30.0,32.0,32.0,32.0,33.0,33.0,34.0,34.0,35.0,36.0,36.0,36.0,38.0,38.0,38.0,39.0,39.0,39.0,39.0,40.0,40.0,40.0,40.0,41.0,41.0,42.0,44.0,45.0,45.0,46.0,46.0,47.0,48.0,48.0,48.0,48.0,49.0,49.0,49.0,50.0,51.0,51.0,51.0,51.0,51.0,52.0,52.0,52.0,53.0,54.0,54.0,54.0,55.0,55.0,56.0,56.0,56.0,57.0,57.0,57.0,58.0,58.0,58.0,58.0,59.0,60.0,60.0,61.0,61.0,62.0,62.0,63.0,63.0,63.0,64.0,65.0,65.0,67.0,67.0,68.0,70.0,71.0,72.0,73.0,73.0,73.0,73.0,74.0,74.0,74.0,78.0,78.0,78.0,83.0,84.0,85.0,89.0,90.0],\"y0\":\" \",\"yaxis\":\"y\",\"type\":\"box\"},{\"alignmentgroup\":\"True\",\"hovertemplate\":\"num_conditions=%{x}\\u003cbr\\u003eage=%{y}\\u003cextra\\u003e\\u003c\\u002fextra\\u003e\",\"legendgroup\":\"13.0\",\"marker\":{\"color\":\"#00cc96\"},\"name\":\"13.0\",\"notched\":false,\"offsetgroup\":\"13.0\",\"orientation\":\"v\",\"showlegend\":true,\"x\":[13.0,13.0,13.0,13.0,13.0,13.0,13.0,13.0,13.0,13.0,13.0,13.0,13.0,13.0,13.0,13.0,13.0,13.0,13.0,13.0,13.0,13.0,13.0,13.0],\"x0\":\" \",\"xaxis\":\"x\",\"y\":[83.0,86.0,93.0,47.0,68.0,100.0,31.0,33.0,40.0,42.0,43.0,46.0,46.0,53.0,55.0,61.0,68.0,75.0,79.0,80.0,81.0,81.0,82.0,83.0],\"y0\":\" \",\"yaxis\":\"y\",\"type\":\"box\"},{\"alignmentgroup\":\"True\",\"hovertemplate\":\"num_conditions=%{x}\\u003cbr\\u003eage=%{y}\\u003cextra\\u003e\\u003c\\u002fextra\\u003e\",\"legendgroup\":\"12.0\",\"marker\":{\"color\":\"#ab63fa\"},\"name\":\"12.0\",\"notched\":false,\"offsetgroup\":\"12.0\",\"orientation\":\"v\",\"showlegend\":true,\"x\":[12.0,12.0,12.0,12.0,12.0,12.0,12.0,12.0,12.0,12.0,12.0,12.0],\"x0\":\" \",\"xaxis\":\"x\",\"y\":[69.0,53.0,75.0,73.0,38.0,40.0,42.0,42.0,64.0,73.0,87.0,93.0],\"y0\":\" \",\"yaxis\":\"y\",\"type\":\"box\"}],                        {\"template\":{\"data\":{\"histogram2dcontour\":[{\"type\":\"histogram2dcontour\",\"colorbar\":{\"outlinewidth\":0,\"ticks\":\"\"},\"colorscale\":[[0.0,\"#0d0887\"],[0.1111111111111111,\"#46039f\"],[0.2222222222222222,\"#7201a8\"],[0.3333333333333333,\"#9c179e\"],[0.4444444444444444,\"#bd3786\"],[0.5555555555555556,\"#d8576b\"],[0.6666666666666666,\"#ed7953\"],[0.7777777777777778,\"#fb9f3a\"],[0.8888888888888888,\"#fdca26\"],[1.0,\"#f0f921\"]]}],\"choropleth\":[{\"type\":\"choropleth\",\"colorbar\":{\"outlinewidth\":0,\"ticks\":\"\"}}],\"histogram2d\":[{\"type\":\"histogram2d\",\"colorbar\":{\"outlinewidth\":0,\"ticks\":\"\"},\"colorscale\":[[0.0,\"#0d0887\"],[0.1111111111111111,\"#46039f\"],[0.2222222222222222,\"#7201a8\"],[0.3333333333333333,\"#9c179e\"],[0.4444444444444444,\"#bd3786\"],[0.5555555555555556,\"#d8576b\"],[0.6666666666666666,\"#ed7953\"],[0.7777777777777778,\"#fb9f3a\"],[0.8888888888888888,\"#fdca26\"],[1.0,\"#f0f921\"]]}],\"heatmap\":[{\"type\":\"heatmap\",\"colorbar\":{\"outlinewidth\":0,\"ticks\":\"\"},\"colorscale\":[[0.0,\"#0d0887\"],[0.1111111111111111,\"#46039f\"],[0.2222222222222222,\"#7201a8\"],[0.3333333333333333,\"#9c179e\"],[0.4444444444444444,\"#bd3786\"],[0.5555555555555556,\"#d8576b\"],[0.6666666666666666,\"#ed7953\"],[0.7777777777777778,\"#fb9f3a\"],[0.8888888888888888,\"#fdca26\"],[1.0,\"#f0f921\"]]}],\"heatmapgl\":[{\"type\":\"heatmapgl\",\"colorbar\":{\"outlinewidth\":0,\"ticks\":\"\"},\"colorscale\":[[0.0,\"#0d0887\"],[0.1111111111111111,\"#46039f\"],[0.2222222222222222,\"#7201a8\"],[0.3333333333333333,\"#9c179e\"],[0.4444444444444444,\"#bd3786\"],[0.5555555555555556,\"#d8576b\"],[0.6666666666666666,\"#ed7953\"],[0.7777777777777778,\"#fb9f3a\"],[0.8888888888888888,\"#fdca26\"],[1.0,\"#f0f921\"]]}],\"contourcarpet\":[{\"type\":\"contourcarpet\",\"colorbar\":{\"outlinewidth\":0,\"ticks\":\"\"}}],\"contour\":[{\"type\":\"contour\",\"colorbar\":{\"outlinewidth\":0,\"ticks\":\"\"},\"colorscale\":[[0.0,\"#0d0887\"],[0.1111111111111111,\"#46039f\"],[0.2222222222222222,\"#7201a8\"],[0.3333333333333333,\"#9c179e\"],[0.4444444444444444,\"#bd3786\"],[0.5555555555555556,\"#d8576b\"],[0.6666666666666666,\"#ed7953\"],[0.7777777777777778,\"#fb9f3a\"],[0.8888888888888888,\"#fdca26\"],[1.0,\"#f0f921\"]]}],\"surface\":[{\"type\":\"surface\",\"colorbar\":{\"outlinewidth\":0,\"ticks\":\"\"},\"colorscale\":[[0.0,\"#0d0887\"],[0.1111111111111111,\"#46039f\"],[0.2222222222222222,\"#7201a8\"],[0.3333333333333333,\"#9c179e\"],[0.4444444444444444,\"#bd3786\"],[0.5555555555555556,\"#d8576b\"],[0.6666666666666666,\"#ed7953\"],[0.7777777777777778,\"#fb9f3a\"],[0.8888888888888888,\"#fdca26\"],[1.0,\"#f0f921\"]]}],\"mesh3d\":[{\"type\":\"mesh3d\",\"colorbar\":{\"outlinewidth\":0,\"ticks\":\"\"}}],\"scatter\":[{\"fillpattern\":{\"fillmode\":\"overlay\",\"size\":10,\"solidity\":0.2},\"type\":\"scatter\"}],\"parcoords\":[{\"type\":\"parcoords\",\"line\":{\"colorbar\":{\"outlinewidth\":0,\"ticks\":\"\"}}}],\"scatterpolargl\":[{\"type\":\"scatterpolargl\",\"marker\":{\"colorbar\":{\"outlinewidth\":0,\"ticks\":\"\"}}}],\"bar\":[{\"error_x\":{\"color\":\"#2a3f5f\"},\"error_y\":{\"color\":\"#2a3f5f\"},\"marker\":{\"line\":{\"color\":\"#E5ECF6\",\"width\":0.5},\"pattern\":{\"fillmode\":\"overlay\",\"size\":10,\"solidity\":0.2}},\"type\":\"bar\"}],\"scattergeo\":[{\"type\":\"scattergeo\",\"marker\":{\"colorbar\":{\"outlinewidth\":0,\"ticks\":\"\"}}}],\"scatterpolar\":[{\"type\":\"scatterpolar\",\"marker\":{\"colorbar\":{\"outlinewidth\":0,\"ticks\":\"\"}}}],\"histogram\":[{\"marker\":{\"pattern\":{\"fillmode\":\"overlay\",\"size\":10,\"solidity\":0.2}},\"type\":\"histogram\"}],\"scattergl\":[{\"type\":\"scattergl\",\"marker\":{\"colorbar\":{\"outlinewidth\":0,\"ticks\":\"\"}}}],\"scatter3d\":[{\"type\":\"scatter3d\",\"line\":{\"colorbar\":{\"outlinewidth\":0,\"ticks\":\"\"}},\"marker\":{\"colorbar\":{\"outlinewidth\":0,\"ticks\":\"\"}}}],\"scattermapbox\":[{\"type\":\"scattermapbox\",\"marker\":{\"colorbar\":{\"outlinewidth\":0,\"ticks\":\"\"}}}],\"scatterternary\":[{\"type\":\"scatterternary\",\"marker\":{\"colorbar\":{\"outlinewidth\":0,\"ticks\":\"\"}}}],\"scattercarpet\":[{\"type\":\"scattercarpet\",\"marker\":{\"colorbar\":{\"outlinewidth\":0,\"ticks\":\"\"}}}],\"carpet\":[{\"aaxis\":{\"endlinecolor\":\"#2a3f5f\",\"gridcolor\":\"white\",\"linecolor\":\"white\",\"minorgridcolor\":\"white\",\"startlinecolor\":\"#2a3f5f\"},\"baxis\":{\"endlinecolor\":\"#2a3f5f\",\"gridcolor\":\"white\",\"linecolor\":\"white\",\"minorgridcolor\":\"white\",\"startlinecolor\":\"#2a3f5f\"},\"type\":\"carpet\"}],\"table\":[{\"cells\":{\"fill\":{\"color\":\"#EBF0F8\"},\"line\":{\"color\":\"white\"}},\"header\":{\"fill\":{\"color\":\"#C8D4E3\"},\"line\":{\"color\":\"white\"}},\"type\":\"table\"}],\"barpolar\":[{\"marker\":{\"line\":{\"color\":\"#E5ECF6\",\"width\":0.5},\"pattern\":{\"fillmode\":\"overlay\",\"size\":10,\"solidity\":0.2}},\"type\":\"barpolar\"}],\"pie\":[{\"automargin\":true,\"type\":\"pie\"}]},\"layout\":{\"autotypenumbers\":\"strict\",\"colorway\":[\"#636efa\",\"#EF553B\",\"#00cc96\",\"#ab63fa\",\"#FFA15A\",\"#19d3f3\",\"#FF6692\",\"#B6E880\",\"#FF97FF\",\"#FECB52\"],\"font\":{\"color\":\"#2a3f5f\"},\"hovermode\":\"closest\",\"hoverlabel\":{\"align\":\"left\"},\"paper_bgcolor\":\"white\",\"plot_bgcolor\":\"#E5ECF6\",\"polar\":{\"bgcolor\":\"#E5ECF6\",\"angularaxis\":{\"gridcolor\":\"white\",\"linecolor\":\"white\",\"ticks\":\"\"},\"radialaxis\":{\"gridcolor\":\"white\",\"linecolor\":\"white\",\"ticks\":\"\"}},\"ternary\":{\"bgcolor\":\"#E5ECF6\",\"aaxis\":{\"gridcolor\":\"white\",\"linecolor\":\"white\",\"ticks\":\"\"},\"baxis\":{\"gridcolor\":\"white\",\"linecolor\":\"white\",\"ticks\":\"\"},\"caxis\":{\"gridcolor\":\"white\",\"linecolor\":\"white\",\"ticks\":\"\"}},\"coloraxis\":{\"colorbar\":{\"outlinewidth\":0,\"ticks\":\"\"}},\"colorscale\":{\"sequential\":[[0.0,\"#0d0887\"],[0.1111111111111111,\"#46039f\"],[0.2222222222222222,\"#7201a8\"],[0.3333333333333333,\"#9c179e\"],[0.4444444444444444,\"#bd3786\"],[0.5555555555555556,\"#d8576b\"],[0.6666666666666666,\"#ed7953\"],[0.7777777777777778,\"#fb9f3a\"],[0.8888888888888888,\"#fdca26\"],[1.0,\"#f0f921\"]],\"sequentialminus\":[[0.0,\"#0d0887\"],[0.1111111111111111,\"#46039f\"],[0.2222222222222222,\"#7201a8\"],[0.3333333333333333,\"#9c179e\"],[0.4444444444444444,\"#bd3786\"],[0.5555555555555556,\"#d8576b\"],[0.6666666666666666,\"#ed7953\"],[0.7777777777777778,\"#fb9f3a\"],[0.8888888888888888,\"#fdca26\"],[1.0,\"#f0f921\"]],\"diverging\":[[0,\"#8e0152\"],[0.1,\"#c51b7d\"],[0.2,\"#de77ae\"],[0.3,\"#f1b6da\"],[0.4,\"#fde0ef\"],[0.5,\"#f7f7f7\"],[0.6,\"#e6f5d0\"],[0.7,\"#b8e186\"],[0.8,\"#7fbc41\"],[0.9,\"#4d9221\"],[1,\"#276419\"]]},\"xaxis\":{\"gridcolor\":\"white\",\"linecolor\":\"white\",\"ticks\":\"\",\"title\":{\"standoff\":15},\"zerolinecolor\":\"white\",\"automargin\":true,\"zerolinewidth\":2},\"yaxis\":{\"gridcolor\":\"white\",\"linecolor\":\"white\",\"ticks\":\"\",\"title\":{\"standoff\":15},\"zerolinecolor\":\"white\",\"automargin\":true,\"zerolinewidth\":2},\"scene\":{\"xaxis\":{\"backgroundcolor\":\"#E5ECF6\",\"gridcolor\":\"white\",\"linecolor\":\"white\",\"showbackground\":true,\"ticks\":\"\",\"zerolinecolor\":\"white\",\"gridwidth\":2},\"yaxis\":{\"backgroundcolor\":\"#E5ECF6\",\"gridcolor\":\"white\",\"linecolor\":\"white\",\"showbackground\":true,\"ticks\":\"\",\"zerolinecolor\":\"white\",\"gridwidth\":2},\"zaxis\":{\"backgroundcolor\":\"#E5ECF6\",\"gridcolor\":\"white\",\"linecolor\":\"white\",\"showbackground\":true,\"ticks\":\"\",\"zerolinecolor\":\"white\",\"gridwidth\":2}},\"shapedefaults\":{\"line\":{\"color\":\"#2a3f5f\"}},\"annotationdefaults\":{\"arrowcolor\":\"#2a3f5f\",\"arrowhead\":0,\"arrowwidth\":1},\"geo\":{\"bgcolor\":\"white\",\"landcolor\":\"#E5ECF6\",\"subunitcolor\":\"white\",\"showland\":true,\"showlakes\":true,\"lakecolor\":\"white\"},\"title\":{\"x\":0.05},\"mapbox\":{\"style\":\"light\"}}},\"xaxis\":{\"anchor\":\"y\",\"domain\":[0.0,1.0],\"title\":{\"text\":\"num_conditions\"},\"categoryorder\":\"array\",\"categoryarray\":[0.0,1.0,9.0,10.0,4.0,11.0,8.0,5.0,7.0,2.0,6.0,3.0,13.0,12.0]},\"yaxis\":{\"anchor\":\"x\",\"domain\":[0.0,1.0],\"title\":{\"text\":\"age\"}},\"legend\":{\"title\":{\"text\":\"num_conditions\"},\"tracegroupgap\":0},\"title\":{\"text\":\"Age vs Number of Conditions\"},\"boxmode\":\"overlay\"},                        {\"responsive\": true}                    ).then(function(){\n",
              "                            \n",
              "var gd = document.getElementById('7cf85151-c4f0-45b1-98e6-5e4ea63def72');\n",
              "var x = new MutationObserver(function (mutations, observer) {{\n",
              "        var display = window.getComputedStyle(gd).display;\n",
              "        if (!display || display === 'none') {{\n",
              "            console.log([gd, 'removed!']);\n",
              "            Plotly.purge(gd);\n",
              "            observer.disconnect();\n",
              "        }}\n",
              "}});\n",
              "\n",
              "// Listen for the removal of the full notebook cells\n",
              "var notebookContainer = gd.closest('#notebook-container');\n",
              "if (notebookContainer) {{\n",
              "    x.observe(notebookContainer, {childList: true});\n",
              "}}\n",
              "\n",
              "// Listen for the clearing of the current output cell\n",
              "var outputEl = gd.closest('.output');\n",
              "if (outputEl) {{\n",
              "    x.observe(outputEl, {childList: true});\n",
              "}}\n",
              "\n",
              "                        })                };                            </script>        </div>\n",
              "</body>\n",
              "</html>"
            ]
          },
          "metadata": {}
        }
      ]
    },
    {
      "cell_type": "markdown",
      "source": [
        "**Why choose this plot?**\n",
        "\n",
        "Box plots succinctly compare age distributions across different condition counts, highlighting medians, variability, and outliers in one view.\n",
        "\n",
        "**Insight:**\n",
        "\n",
        "As condition count increases, median age rises and spread widens—patients with more conditions are generally older and more variable in age, confirming age as a key driver of multimorbidity."
      ],
      "metadata": {
        "id": "grpq34lvRTUe"
      }
    },
    {
      "cell_type": "markdown",
      "source": [
        "--------------------\n",
        "\n",
        "## **15. Gender vs Claims**"
      ],
      "metadata": {
        "id": "4CoOV0eBRYLz"
      }
    },
    {
      "cell_type": "code",
      "source": [
        "\n",
        "px.violin(df_plot, x=\"gender\", y=\"total_claims\",color='gender' ,box=True, points=\"all\", title=\"Gender vs Claims\")\n",
        "\n"
      ],
      "metadata": {
        "colab": {
          "base_uri": "https://localhost:8080/",
          "height": 542
        },
        "id": "DGV89lNK7-V5",
        "outputId": "b0d36224-ed13-48bd-9546-d9ca3b358a25"
      },
      "execution_count": 35,
      "outputs": [
        {
          "output_type": "display_data",
          "data": {
            "text/html": [
              "<html>\n",
              "<head><meta charset=\"utf-8\" /></head>\n",
              "<body>\n",
              "    <div>            <script src=\"https://cdnjs.cloudflare.com/ajax/libs/mathjax/2.7.5/MathJax.js?config=TeX-AMS-MML_SVG\"></script><script type=\"text/javascript\">if (window.MathJax && window.MathJax.Hub && window.MathJax.Hub.Config) {window.MathJax.Hub.Config({SVG: {font: \"STIX-Web\"}});}</script>                <script type=\"text/javascript\">window.PlotlyConfig = {MathJaxConfig: 'local'};</script>\n",
              "        <script charset=\"utf-8\" src=\"https://cdn.plot.ly/plotly-2.35.2.min.js\"></script>                <div id=\"69e5d1bf-48f6-4a09-9c7f-c5266ed47a41\" class=\"plotly-graph-div\" style=\"height:525px; width:100%;\"></div>            <script type=\"text/javascript\">                                    window.PLOTLYENV=window.PLOTLYENV || {};                                    if (document.getElementById(\"69e5d1bf-48f6-4a09-9c7f-c5266ed47a41\")) {                    Plotly.newPlot(                        \"69e5d1bf-48f6-4a09-9c7f-c5266ed47a41\",                        [{\"alignmentgroup\":\"True\",\"box\":{\"visible\":true},\"hovertemplate\":\"gender=%{x}\\u003cbr\\u003etotal_claims=%{y}\\u003cextra\\u003e\\u003c\\u002fextra\\u003e\",\"legendgroup\":\"0.0\",\"marker\":{\"color\":\"#636efa\"},\"name\":\"0.0\",\"offsetgroup\":\"0.0\",\"orientation\":\"v\",\"points\":\"all\",\"scalegroup\":\"True\",\"showlegend\":true,\"x\":[0.0,0.0,0.0,0.0,0.0,0.0,0.0,0.0,0.0,0.0,0.0,0.0,0.0,0.0,0.0,0.0,0.0,0.0,0.0,0.0,0.0,0.0,0.0,0.0,0.0,0.0,0.0,0.0,0.0,0.0,0.0,0.0,0.0,0.0,0.0,0.0,0.0,0.0,0.0,0.0,0.0,0.0,0.0,0.0,0.0,0.0,0.0,0.0,0.0,0.0,0.0,0.0,0.0,0.0,0.0,0.0,0.0,0.0,0.0,0.0,0.0,0.0,0.0,0.0,0.0,0.0,0.0,0.0,0.0,0.0,0.0,0.0,0.0,0.0,0.0,0.0,0.0,0.0,0.0,0.0,0.0,0.0,0.0,0.0,0.0,0.0,0.0,0.0,0.0,0.0,0.0,0.0,0.0,0.0,0.0,0.0,0.0,0.0,0.0,0.0,0.0,0.0,0.0,0.0,0.0,0.0,0.0,0.0,0.0,0.0,0.0,0.0,0.0,0.0,0.0,0.0,0.0,0.0,0.0,0.0,0.0,0.0,0.0,0.0,0.0,0.0,0.0,0.0,0.0,0.0,0.0,0.0,0.0,0.0,0.0,0.0,0.0,0.0,0.0,0.0,0.0,0.0,0.0,0.0,0.0,0.0,0.0,0.0,0.0,0.0,0.0,0.0,0.0,0.0,0.0,0.0,0.0,0.0,0.0,0.0,0.0,0.0,0.0,0.0,0.0,0.0,0.0,0.0,0.0,0.0,0.0,0.0,0.0,0.0,0.0,0.0,0.0,0.0,0.0,0.0,0.0,0.0,0.0,0.0,0.0,0.0,0.0,0.0,0.0,0.0,0.0,0.0,0.0,0.0,0.0,0.0,0.0,0.0,0.0,0.0,0.0,0.0,0.0,0.0,0.0,0.0,0.0,0.0,0.0,0.0,0.0,0.0,0.0,0.0,0.0,0.0,0.0,0.0,0.0,0.0,0.0,0.0,0.0,0.0,0.0,0.0,0.0,0.0,0.0,0.0,0.0,0.0,0.0,0.0,0.0,0.0,0.0,0.0,0.0,0.0,0.0,0.0,0.0,0.0,0.0,0.0,0.0,0.0,0.0,0.0,0.0,0.0,0.0,0.0,0.0,0.0,0.0,0.0,0.0,0.0,0.0,0.0,0.0,0.0,0.0,0.0,0.0,0.0,0.0,0.0,0.0,0.0,0.0,0.0,0.0,0.0,0.0,0.0,0.0,0.0,0.0,0.0,0.0,0.0,0.0,0.0,0.0,0.0,0.0,0.0,0.0,0.0,0.0,0.0,0.0,0.0,0.0,0.0,0.0,0.0,0.0,0.0,0.0,0.0,0.0,0.0,0.0,0.0,0.0,0.0,0.0,0.0,0.0,0.0,0.0,0.0,0.0,0.0,0.0,0.0,0.0,0.0,0.0,0.0,0.0,0.0,0.0,0.0,0.0,0.0,0.0,0.0,0.0,0.0,0.0,0.0,0.0,0.0,0.0,0.0,0.0,0.0,0.0,0.0,0.0,0.0,0.0,0.0,0.0,0.0,0.0,0.0,0.0,0.0,0.0,0.0,0.0,0.0,0.0,0.0,0.0,0.0,0.0,0.0,0.0,0.0,0.0,0.0,0.0,0.0,0.0,0.0,0.0,0.0,0.0,0.0,0.0,0.0,0.0,0.0,0.0,0.0,0.0,0.0,0.0,0.0,0.0,0.0,0.0,0.0,0.0,0.0,0.0,0.0,0.0,0.0,0.0,0.0,0.0,0.0,0.0,0.0,0.0,0.0,0.0,0.0,0.0,0.0,0.0,0.0,0.0,0.0,0.0,0.0,0.0,0.0,0.0,0.0,0.0,0.0,0.0,0.0,0.0,0.0,0.0,0.0,0.0,0.0,0.0,0.0,0.0,0.0,0.0,0.0,0.0,0.0,0.0,0.0,0.0,0.0,0.0,0.0,0.0,0.0,0.0,0.0,0.0,0.0,0.0,0.0,0.0,0.0,0.0,0.0,0.0,0.0,0.0,0.0,0.0,0.0,0.0,0.0,0.0,0.0,0.0,0.0,0.0,0.0,0.0,0.0,0.0,0.0,0.0,0.0,0.0,0.0,0.0,0.0,0.0,0.0,0.0,0.0,0.0,0.0,0.0,0.0,0.0,0.0,0.0,0.0,0.0,0.0,0.0,0.0,0.0,0.0,0.0,0.0,0.0,0.0,0.0,0.0,0.0,0.0,0.0,0.0,0.0,0.0,0.0,0.0,0.0,0.0,0.0,0.0,0.0,0.0,0.0,0.0,0.0,0.0,0.0,0.0,0.0,0.0,0.0,0.0,0.0,0.0,0.0,0.0,0.0,0.0,0.0,0.0,0.0,0.0,0.0,0.0,0.0,0.0,0.0,0.0,0.0,0.0,0.0,0.0,0.0,0.0,0.0,0.0,0.0,0.0,0.0,0.0,0.0,0.0,0.0,0.0,0.0,0.0,0.0,0.0,0.0,0.0,0.0,0.0,0.0,0.0,0.0,0.0,0.0,0.0,0.0,0.0,0.0,0.0,0.0,0.0,0.0,0.0,0.0,0.0,0.0,0.0,0.0,0.0,0.0,0.0,0.0,0.0,0.0,0.0,0.0,0.0,0.0,0.0,0.0,0.0,0.0,0.0,0.0,0.0,0.0,0.0,0.0,0.0,0.0,0.0,0.0,0.0,0.0,0.0,0.0,0.0,0.0,0.0,0.0,0.0,0.0,0.0,0.0,0.0,0.0,0.0,0.0,0.0,0.0,0.0,0.0,0.0,0.0,0.0,0.0,0.0,0.0,0.0,0.0,0.0,0.0,0.0,0.0,0.0,0.0,0.0,0.0,0.0,0.0,0.0,0.0,0.0,0.0,0.0,0.0,0.0,0.0,0.0,0.0,0.0,0.0,0.0,0.0,0.0,0.0,0.0,0.0,0.0,0.0,0.0,0.0,0.0,0.0,0.0,0.0,0.0,0.0,0.0,0.0,0.0,0.0,0.0,0.0,0.0,0.0,0.0,0.0,0.0,0.0,0.0,0.0,0.0,0.0,0.0,0.0,0.0,0.0,0.0,0.0,0.0,0.0,0.0,0.0,0.0,0.0,0.0,0.0,0.0,0.0,0.0,0.0,0.0,0.0,0.0,0.0,0.0,0.0,0.0,0.0,0.0,0.0,0.0,0.0],\"x0\":\" \",\"xaxis\":\"x\",\"y\":[100.0,100.0,1600.0,2100.0,1500.0,2900.0,3900.0,1800.0,1700.0,1100.0,2100.0,3900.0,1400.0,900.0,1600.0,2000.0,2000.0,800.0,1100.0,1700.0,3900.0,1900.0,1100.0,1000.0,800.0,1200.0,1300.0,1000.0,800.0,800.0,2600.0,1000.0,800.0,1300.0,300.0,1000.0,1000.0,1400.0,900.0,800.0,600.0,2500.0,3200.0,500.0,1000.0,300.0,600.0,500.0,700.0,400.0,600.0,500.0,1600.0,400.0,800.0,300.0,1700.0,700.0,400.0,2500.0,200.0,300.0,500.0,1700.0,200.0,400.0,300.0,200.0,200.0,200.0,300.0,400.0,100.0,100.0,100.0,100.0,100.0,100.0,100.0,100.0,100.0,100.0,100.0,100.0,100.0,100.0,100.0,100.0,100.0,100.0,100.0,100.0,100.0,100.0,100.0,100.0,100.0,100.0,100.0,100.0,100.0,100.0,100.0,100.0,100.0,100.0,100.0,100.0,100.0,100.0,100.0,100.0,100.0,100.0,100.0,100.0,100.0,100.0,100.0,100.0,100.0,100.0,100.0,100.0,100.0,100.0,100.0,100.0,100.0,100.0,100.0,100.0,100.0,100.0,100.0,100.0,100.0,100.0,100.0,100.0,100.0,100.0,100.0,100.0,100.0,100.0,100.0,100.0,100.0,100.0,100.0,100.0,100.0,100.0,100.0,100.0,100.0,100.0,100.0,100.0,100.0,100.0,100.0,100.0,100.0,100.0,100.0,100.0,100.0,100.0,100.0,100.0,100.0,100.0,100.0,100.0,100.0,100.0,200.0,100.0,100.0,100.0,100.0,100.0,100.0,100.0,100.0,100.0,100.0,100.0,100.0,100.0,100.0,100.0,100.0,100.0,100.0,100.0,100.0,100.0,100.0,100.0,100.0,100.0,100.0,100.0,100.0,100.0,100.0,100.0,100.0,100.0,100.0,100.0,100.0,100.0,1700.0,1000.0,1400.0,1100.0,1700.0,1400.0,1200.0,0.0,100.0,200.0,400.0,500.0,500.0,500.0,500.0,800.0,700.0,600.0,800.0,1000.0,800.0,800.0,900.0,1200.0,1200.0,1000.0,1100.0,1000.0,1300.0,900.0,1100.0,1400.0,1500.0,1200.0,1800.0,1600.0,1900.0,1400.0,1500.0,1300.0,2100.0,1400.0,1600.0,2000.0,1700.0,1800.0,1700.0,1500.0,1700.0,1900.0,1800.0,2600.0,1600.0,2300.0,2300.0,2500.0,1900.0,2000.0,2300.0,2000.0,1800.0,2000.0,1800.0,2500.0,2200.0,2400.0,2500.0,2300.0,2400.0,2700.0,2200.0,2500.0,2800.0,2400.0,2100.0,2200.0,2500.0,2000.0,3700.0,2000.0,2200.0,2500.0,1700.0,1900.0,1800.0,1700.0,1700.0,1500.0,1700.0,2000.0,1300.0,1700.0,2400.0,1600.0,1800.0,1800.0,1400.0,2200.0,1400.0,3600.0,2300.0,1800.0,2000.0,1400.0,2000.0,2500.0,1300.0,1200.0,1500.0,1100.0,1400.0,1900.0,1900.0,1700.0,1400.0,2200.0,1400.0,3900.0,1200.0,1800.0,1500.0,1600.0,1700.0,3900.0,1200.0,2300.0,1300.0,2200.0,1400.0,1200.0,2000.0,1600.0,2200.0,1300.0,1200.0,1500.0,3900.0,2100.0,1500.0,1600.0,3000.0,1700.0,1500.0,1400.0,2800.0,2500.0,1400.0,1600.0,3500.0,2200.0,2000.0,3100.0,2300.0,2400.0,3300.0,2700.0,1800.0,3900.0,3900.0,2100.0,1500.0,2000.0,2400.0,1900.0,1900.0,3900.0,3900.0,1500.0,3900.0,3900.0,1600.0,3900.0,2000.0,1800.0,2900.0,2700.0,2100.0,2200.0,3500.0,3900.0,2500.0,3900.0,3000.0,3900.0,3900.0,3900.0,2700.0,3600.0,2500.0,3900.0,3900.0,1800.0,3200.0,1600.0,3900.0,1900.0,3200.0,1900.0,3200.0,3900.0,2300.0,3900.0,3300.0,3100.0,3000.0,1800.0,3500.0,1500.0,2000.0,3800.0,2200.0,1200.0,3000.0,2600.0,3900.0,3700.0,3300.0,3900.0,3400.0,1900.0,3900.0,1900.0,3300.0,2700.0,2400.0,3100.0,3900.0,1300.0,3700.0,1600.0,2300.0,3200.0,3900.0,2500.0,3900.0,1900.0,3900.0,3900.0,3900.0,3900.0,1000.0,3900.0,900.0,1600.0,1100.0,1200.0,3900.0,3900.0,3700.0,1300.0,3900.0,3900.0,3900.0,1200.0,3900.0,2400.0,3000.0,900.0,3200.0,3900.0,1600.0,3900.0,3700.0,1100.0,3900.0,400.0,500.0,3000.0,3900.0,1900.0,3900.0,900.0,3900.0,3900.0,1200.0,2000.0,3900.0,3900.0,700.0,3000.0,3100.0,3300.0,3400.0,3900.0,3900.0,3800.0,1600.0,3000.0,3200.0,1300.0,3900.0,3100.0,1200.0,3900.0,2400.0,3900.0,3900.0,500.0,1600.0,1400.0,1800.0,2400.0,3900.0,800.0,3100.0,1000.0,1800.0,3900.0,1700.0,1700.0,3900.0,900.0,3900.0,3900.0,1600.0,2200.0,500.0,3900.0,2500.0,1900.0,3900.0,2400.0,800.0,3900.0,500.0,700.0,3600.0,2100.0,700.0,1500.0,600.0,1900.0,1600.0,1400.0,1600.0,800.0,1400.0,1300.0,1000.0,1100.0,3900.0,1000.0,3900.0,1500.0,1000.0,700.0,3900.0,3900.0,3900.0,700.0,3900.0,3500.0,3900.0,1800.0,1000.0,2400.0,800.0,1400.0,1700.0,2400.0,3900.0,1600.0,1300.0,3900.0,1400.0,700.0,1300.0,1000.0,2000.0,1200.0,900.0,2200.0,1800.0,1900.0,1600.0,1600.0,1400.0,1300.0,900.0,900.0,1400.0,3900.0,1500.0,1300.0,1700.0,1900.0,1600.0,1500.0,1800.0,2000.0,1000.0,1700.0,1600.0,1100.0,3900.0,1700.0,3000.0,1600.0,1700.0,1600.0,1800.0,3400.0,1500.0,1500.0,1400.0,1500.0,1700.0,1300.0,1300.0,1400.0,1800.0,2000.0,1300.0,1300.0,1400.0,1400.0,1400.0,1500.0,1500.0,1400.0,2500.0,1700.0,1600.0,1500.0,1400.0,1100.0,1800.0,1600.0,1300.0,1300.0,1800.0,1300.0,1700.0,1700.0,1500.0,1500.0,1900.0,1400.0,1200.0,1500.0,1300.0,2300.0,1900.0,1600.0,1500.0,2200.0,1500.0,1400.0,1500.0,1500.0,1200.0,1700.0,1900.0,1900.0,2000.0,1500.0,1600.0,1800.0,1200.0,1600.0,2100.0,1500.0,1600.0,2400.0,1400.0,1500.0,2200.0,1600.0,1600.0,2200.0,1200.0,2900.0,1900.0,1600.0,1300.0,1800.0,1600.0,1500.0,3900.0,1700.0,1800.0,2100.0,1300.0,2100.0,1200.0,1200.0,2400.0,1400.0,1900.0,1500.0,1500.0,1500.0,1700.0,1100.0,1800.0,1400.0,1700.0,1600.0,1600.0,1900.0,1800.0,1900.0,1600.0,1500.0,1600.0],\"y0\":\" \",\"yaxis\":\"y\",\"type\":\"violin\"},{\"alignmentgroup\":\"True\",\"box\":{\"visible\":true},\"hovertemplate\":\"gender=%{x}\\u003cbr\\u003etotal_claims=%{y}\\u003cextra\\u003e\\u003c\\u002fextra\\u003e\",\"legendgroup\":\"1.0\",\"marker\":{\"color\":\"#EF553B\"},\"name\":\"1.0\",\"offsetgroup\":\"1.0\",\"orientation\":\"v\",\"points\":\"all\",\"scalegroup\":\"True\",\"showlegend\":true,\"x\":[1.0,1.0,1.0,1.0,1.0,1.0,1.0,1.0,1.0,1.0,1.0,1.0,1.0,1.0,1.0,1.0,1.0,1.0,1.0,1.0,1.0,1.0,1.0,1.0,1.0,1.0,1.0,1.0,1.0,1.0,1.0,1.0,1.0,1.0,1.0,1.0,1.0,1.0,1.0,1.0,1.0,1.0,1.0,1.0,1.0,1.0,1.0,1.0,1.0,1.0,1.0,1.0,1.0,1.0,1.0,1.0,1.0,1.0,1.0,1.0,1.0,1.0,1.0,1.0,1.0,1.0,1.0,1.0,1.0,1.0,1.0,1.0,1.0,1.0,1.0,1.0,1.0,1.0,1.0,1.0,1.0,1.0,1.0,1.0,1.0,1.0,1.0,1.0,1.0,1.0,1.0,1.0,1.0,1.0,1.0,1.0,1.0,1.0,1.0,1.0,1.0,1.0,1.0,1.0,1.0,1.0,1.0,1.0,1.0,1.0,1.0,1.0,1.0,1.0,1.0,1.0,1.0,1.0,1.0,1.0,1.0,1.0,1.0,1.0,1.0,1.0,1.0,1.0,1.0,1.0,1.0,1.0,1.0,1.0,1.0,1.0,1.0,1.0,1.0,1.0,1.0,1.0,1.0,1.0,1.0,1.0,1.0,1.0,1.0,1.0,1.0,1.0,1.0,1.0,1.0,1.0,1.0,1.0,1.0,1.0,1.0,1.0,1.0,1.0,1.0,1.0,1.0,1.0,1.0,1.0,1.0,1.0,1.0,1.0,1.0,1.0,1.0,1.0,1.0,1.0,1.0,1.0,1.0,1.0,1.0,1.0,1.0,1.0,1.0,1.0,1.0,1.0,1.0,1.0,1.0,1.0,1.0,1.0,1.0,1.0,1.0,1.0,1.0,1.0,1.0,1.0,1.0,1.0,1.0,1.0,1.0,1.0,1.0,1.0,1.0,1.0,1.0,1.0,1.0,1.0,1.0,1.0,1.0,1.0,1.0,1.0,1.0,1.0,1.0,1.0,1.0,1.0,1.0,1.0,1.0,1.0,1.0,1.0,1.0,1.0,1.0,1.0,1.0,1.0,1.0,1.0,1.0,1.0,1.0,1.0,1.0,1.0,1.0,1.0,1.0,1.0,1.0,1.0,1.0,1.0,1.0,1.0,1.0,1.0,1.0,1.0,1.0,1.0,1.0,1.0,1.0,1.0,1.0,1.0,1.0,1.0,1.0,1.0,1.0,1.0,1.0,1.0,1.0,1.0,1.0,1.0,1.0,1.0,1.0,1.0,1.0,1.0,1.0,1.0,1.0,1.0,1.0,1.0,1.0,1.0,1.0,1.0,1.0,1.0,1.0,1.0,1.0,1.0,1.0,1.0,1.0,1.0,1.0,1.0,1.0,1.0,1.0,1.0,1.0,1.0,1.0,1.0,1.0,1.0,1.0,1.0,1.0,1.0,1.0,1.0,1.0,1.0,1.0,1.0,1.0,1.0,1.0,1.0,1.0,1.0,1.0,1.0,1.0,1.0,1.0,1.0,1.0,1.0,1.0,1.0,1.0,1.0,1.0,1.0,1.0,1.0,1.0,1.0,1.0,1.0,1.0,1.0,1.0,1.0,1.0,1.0,1.0,1.0,1.0,1.0,1.0,1.0,1.0,1.0,1.0,1.0,1.0,1.0,1.0,1.0,1.0,1.0,1.0,1.0,1.0,1.0,1.0,1.0,1.0,1.0,1.0,1.0,1.0,1.0,1.0,1.0,1.0,1.0,1.0,1.0,1.0,1.0,1.0,1.0,1.0,1.0,1.0,1.0,1.0,1.0,1.0,1.0,1.0,1.0,1.0,1.0,1.0,1.0,1.0,1.0,1.0,1.0,1.0,1.0,1.0,1.0,1.0,1.0,1.0,1.0,1.0,1.0,1.0,1.0,1.0,1.0,1.0,1.0,1.0,1.0,1.0,1.0,1.0,1.0,1.0,1.0,1.0,1.0,1.0,1.0,1.0,1.0,1.0,1.0,1.0,1.0,1.0,1.0,1.0,1.0,1.0,1.0,1.0,1.0,1.0,1.0,1.0,1.0,1.0,1.0,1.0,1.0,1.0,1.0,1.0,1.0,1.0,1.0,1.0,1.0,1.0,1.0,1.0,1.0,1.0,1.0,1.0,1.0,1.0,1.0,1.0,1.0,1.0,1.0,1.0,1.0,1.0,1.0,1.0,1.0,1.0,1.0,1.0,1.0,1.0,1.0,1.0,1.0,1.0,1.0,1.0,1.0,1.0,1.0,1.0,1.0,1.0,1.0,1.0,1.0,1.0,1.0,1.0,1.0,1.0,1.0,1.0,1.0,1.0,1.0,1.0,1.0,1.0,1.0,1.0,1.0,1.0,1.0,1.0,1.0,1.0,1.0,1.0,1.0,1.0,1.0,1.0,1.0,1.0,1.0,1.0,1.0,1.0,1.0,1.0,1.0,1.0,1.0,1.0,1.0,1.0,1.0,1.0,1.0,1.0,1.0,1.0,1.0,1.0,1.0,1.0,1.0,1.0,1.0,1.0,1.0,1.0,1.0,1.0,1.0,1.0,1.0,1.0,1.0,1.0,1.0,1.0,1.0,1.0,1.0,1.0,1.0,1.0,1.0,1.0,1.0,1.0,1.0,1.0,1.0,1.0,1.0,1.0,1.0,1.0,1.0,1.0,1.0,1.0,1.0,1.0,1.0,1.0,1.0,1.0,1.0,1.0,1.0,1.0,1.0,1.0,1.0,1.0,1.0,1.0,1.0,1.0,1.0,1.0,1.0,1.0,1.0,1.0,1.0,1.0,1.0,1.0,1.0,1.0,1.0,1.0,1.0,1.0,1.0,1.0,1.0,1.0,1.0,1.0,1.0,1.0,1.0,1.0,1.0,1.0,1.0,1.0,1.0,1.0,1.0,1.0,1.0,1.0,1.0,1.0,1.0,1.0,1.0,1.0,1.0,1.0,1.0,1.0,1.0,1.0,1.0,1.0,1.0,1.0,1.0,1.0,1.0,1.0,1.0,1.0,1.0,1.0,1.0,1.0,1.0,1.0,1.0,1.0,1.0,1.0,1.0,1.0,1.0,1.0,1.0,1.0,1.0,1.0,1.0,1.0,1.0,1.0,1.0,1.0,1.0,1.0,1.0,1.0,1.0,1.0,1.0,1.0,1.0,1.0,1.0,1.0,1.0,1.0,1.0,1.0,1.0,1.0,1.0,1.0,1.0,1.0,1.0,1.0,1.0,1.0,1.0,1.0,1.0,1.0,1.0,1.0],\"x0\":\" \",\"xaxis\":\"x\",\"y\":[2000.0,1700.0,1300.0,1700.0,2200.0,2100.0,1700.0,1800.0,3900.0,1700.0,1400.0,1700.0,800.0,2000.0,1400.0,1300.0,3200.0,1100.0,1400.0,1000.0,1200.0,1400.0,1200.0,1400.0,3900.0,700.0,1300.0,3600.0,1200.0,400.0,900.0,1700.0,2000.0,1100.0,1000.0,900.0,800.0,700.0,800.0,800.0,700.0,1100.0,900.0,800.0,700.0,600.0,600.0,500.0,400.0,1300.0,400.0,500.0,600.0,500.0,300.0,400.0,300.0,200.0,300.0,300.0,300.0,300.0,400.0,300.0,300.0,400.0,100.0,700.0,200.0,100.0,100.0,100.0,100.0,100.0,100.0,100.0,100.0,100.0,100.0,100.0,100.0,100.0,100.0,100.0,100.0,100.0,100.0,100.0,100.0,100.0,100.0,100.0,100.0,100.0,100.0,100.0,100.0,100.0,100.0,100.0,100.0,100.0,100.0,100.0,100.0,100.0,100.0,100.0,100.0,100.0,100.0,100.0,100.0,100.0,100.0,100.0,100.0,100.0,100.0,100.0,100.0,100.0,100.0,100.0,100.0,100.0,100.0,100.0,100.0,100.0,100.0,100.0,100.0,100.0,100.0,100.0,100.0,100.0,200.0,100.0,100.0,100.0,100.0,100.0,100.0,100.0,100.0,100.0,100.0,100.0,100.0,100.0,100.0,100.0,100.0,100.0,100.0,100.0,100.0,100.0,100.0,100.0,100.0,100.0,100.0,100.0,100.0,100.0,100.0,100.0,100.0,100.0,100.0,100.0,100.0,100.0,100.0,100.0,100.0,100.0,100.0,100.0,100.0,100.0,100.0,100.0,100.0,100.0,100.0,100.0,100.0,100.0,100.0,100.0,100.0,100.0,100.0,100.0,100.0,100.0,100.0,100.0,100.0,100.0,100.0,100.0,100.0,100.0,100.0,100.0,100.0,100.0,100.0,100.0,100.0,100.0,100.0,100.0,100.0,100.0,100.0,100.0,100.0,100.0,100.0,100.0,100.0,100.0,100.0,100.0,100.0,100.0,100.0,100.0,100.0,100.0,100.0,100.0,100.0,100.0,100.0,1200.0,1200.0,1400.0,1200.0,1100.0,1700.0,200.0,200.0,300.0,300.0,300.0,300.0,300.0,400.0,500.0,600.0,600.0,600.0,600.0,800.0,800.0,800.0,1200.0,1100.0,1200.0,1300.0,1200.0,1100.0,1200.0,1100.0,1000.0,1300.0,1200.0,1700.0,1200.0,1300.0,1500.0,1200.0,1400.0,1500.0,1200.0,1500.0,2800.0,1700.0,1600.0,1800.0,2100.0,1500.0,1600.0,2000.0,1900.0,2000.0,1500.0,1600.0,1700.0,2100.0,2200.0,1600.0,1900.0,1800.0,1800.0,2100.0,2500.0,1700.0,2500.0,2500.0,2100.0,1800.0,1700.0,1900.0,2400.0,2400.0,2300.0,2300.0,2300.0,1900.0,2200.0,2800.0,2000.0,2400.0,2200.0,2300.0,2700.0,2100.0,2300.0,2300.0,2100.0,2800.0,2200.0,2400.0,1800.0,2000.0,1800.0,1700.0,1900.0,1800.0,1700.0,1800.0,1800.0,2100.0,1800.0,1900.0,1200.0,1100.0,1100.0,1300.0,1700.0,1500.0,1300.0,3900.0,2100.0,1200.0,2100.0,1800.0,1200.0,2300.0,1100.0,1600.0,1100.0,3900.0,1500.0,1200.0,1200.0,1500.0,1300.0,1400.0,1300.0,2300.0,3900.0,1700.0,1600.0,1200.0,1700.0,1200.0,1300.0,1400.0,1600.0,3900.0,1800.0,1200.0,1400.0,1100.0,1400.0,1500.0,1200.0,1200.0,1300.0,1200.0,1300.0,3900.0,3900.0,1800.0,1300.0,1100.0,1200.0,1400.0,1200.0,1300.0,1400.0,1100.0,1500.0,1400.0,1200.0,1000.0,3900.0,1400.0,1300.0,1800.0,1300.0,1100.0,1600.0,1100.0,3900.0,1300.0,900.0,1400.0,900.0,1400.0,3900.0,900.0,1300.0,900.0,1200.0,1100.0,900.0,3900.0,800.0,900.0,1000.0,1100.0,2000.0,1100.0,800.0,800.0,2700.0,1500.0,900.0,1400.0,700.0,1000.0,900.0,1200.0,700.0,900.0,700.0,900.0,600.0,700.0,700.0,900.0,1000.0,700.0,500.0,400.0,1100.0,600.0,1000.0,800.0,400.0,700.0,400.0,500.0,1100.0,600.0,1100.0,700.0,500.0,700.0,3100.0,700.0,600.0,1200.0,900.0,500.0,900.0,500.0,500.0,1100.0,900.0,800.0,700.0,600.0,800.0,900.0,500.0,300.0,1400.0,3900.0,500.0,500.0,700.0,900.0,400.0,900.0,800.0,700.0,300.0,400.0,900.0,600.0,700.0,400.0,3900.0,700.0,800.0,800.0,500.0,600.0,1300.0,300.0,500.0,1000.0,400.0,700.0,700.0,700.0,500.0,600.0,800.0,800.0,800.0,600.0,800.0,900.0,500.0,700.0,600.0,600.0,800.0,700.0,600.0,800.0,600.0,500.0,600.0,1100.0,400.0,700.0,500.0,600.0,1400.0,800.0,500.0,600.0,500.0,800.0,1000.0,900.0,600.0,600.0,600.0,500.0,800.0,900.0,800.0,500.0,400.0,400.0,600.0,800.0,600.0,1200.0,700.0,800.0,800.0,600.0,1000.0,600.0,600.0,600.0,600.0,700.0,2900.0,600.0,600.0,500.0,500.0,1200.0,700.0,700.0,700.0,1000.0,600.0,600.0,700.0,900.0,900.0,1200.0,1100.0,800.0,600.0,600.0,700.0,800.0,800.0,900.0,700.0,1400.0,600.0,1000.0,700.0,1300.0,1600.0,800.0,700.0,1100.0,1100.0,600.0,1700.0,1100.0,1000.0,1200.0,1000.0,800.0,900.0,1600.0,1100.0,2800.0,1200.0,1200.0,1500.0,1200.0,1100.0,1100.0,1600.0,1200.0,1400.0,1200.0,1700.0,900.0,1700.0,1400.0,1300.0,900.0,1100.0,1000.0,1700.0,800.0,1000.0,1000.0,1700.0,1400.0,1100.0,1000.0,2200.0,1200.0,1100.0,1300.0,1300.0,1200.0,1400.0,1400.0,1500.0,1100.0,1500.0,1900.0,3000.0,1300.0,1000.0,1400.0,1600.0,1400.0,2000.0,1300.0,1400.0,1400.0,1500.0,2100.0,2200.0,1400.0,1100.0,1800.0,1600.0,1500.0,1400.0,2000.0,1800.0,1700.0,1600.0,1300.0,1300.0,1800.0,1100.0,1100.0,1500.0,1200.0,1400.0,1700.0,1400.0,1500.0,1400.0,2200.0,1300.0,1700.0,1600.0,3900.0,1400.0,1500.0,1400.0,1300.0,1900.0,1300.0,1300.0,1700.0,1200.0,3900.0,1500.0,2300.0,1600.0,1200.0,2200.0,1700.0,1900.0,2300.0,1500.0,1300.0,1500.0,1300.0,1400.0,1400.0,1100.0,1300.0,1600.0,1600.0,1600.0,3900.0,1500.0,1500.0,2300.0,1800.0,1800.0,1500.0,1300.0,1300.0,1500.0,1100.0,1300.0,1300.0,1500.0,1400.0],\"y0\":\" \",\"yaxis\":\"y\",\"type\":\"violin\"}],                        {\"template\":{\"data\":{\"histogram2dcontour\":[{\"type\":\"histogram2dcontour\",\"colorbar\":{\"outlinewidth\":0,\"ticks\":\"\"},\"colorscale\":[[0.0,\"#0d0887\"],[0.1111111111111111,\"#46039f\"],[0.2222222222222222,\"#7201a8\"],[0.3333333333333333,\"#9c179e\"],[0.4444444444444444,\"#bd3786\"],[0.5555555555555556,\"#d8576b\"],[0.6666666666666666,\"#ed7953\"],[0.7777777777777778,\"#fb9f3a\"],[0.8888888888888888,\"#fdca26\"],[1.0,\"#f0f921\"]]}],\"choropleth\":[{\"type\":\"choropleth\",\"colorbar\":{\"outlinewidth\":0,\"ticks\":\"\"}}],\"histogram2d\":[{\"type\":\"histogram2d\",\"colorbar\":{\"outlinewidth\":0,\"ticks\":\"\"},\"colorscale\":[[0.0,\"#0d0887\"],[0.1111111111111111,\"#46039f\"],[0.2222222222222222,\"#7201a8\"],[0.3333333333333333,\"#9c179e\"],[0.4444444444444444,\"#bd3786\"],[0.5555555555555556,\"#d8576b\"],[0.6666666666666666,\"#ed7953\"],[0.7777777777777778,\"#fb9f3a\"],[0.8888888888888888,\"#fdca26\"],[1.0,\"#f0f921\"]]}],\"heatmap\":[{\"type\":\"heatmap\",\"colorbar\":{\"outlinewidth\":0,\"ticks\":\"\"},\"colorscale\":[[0.0,\"#0d0887\"],[0.1111111111111111,\"#46039f\"],[0.2222222222222222,\"#7201a8\"],[0.3333333333333333,\"#9c179e\"],[0.4444444444444444,\"#bd3786\"],[0.5555555555555556,\"#d8576b\"],[0.6666666666666666,\"#ed7953\"],[0.7777777777777778,\"#fb9f3a\"],[0.8888888888888888,\"#fdca26\"],[1.0,\"#f0f921\"]]}],\"heatmapgl\":[{\"type\":\"heatmapgl\",\"colorbar\":{\"outlinewidth\":0,\"ticks\":\"\"},\"colorscale\":[[0.0,\"#0d0887\"],[0.1111111111111111,\"#46039f\"],[0.2222222222222222,\"#7201a8\"],[0.3333333333333333,\"#9c179e\"],[0.4444444444444444,\"#bd3786\"],[0.5555555555555556,\"#d8576b\"],[0.6666666666666666,\"#ed7953\"],[0.7777777777777778,\"#fb9f3a\"],[0.8888888888888888,\"#fdca26\"],[1.0,\"#f0f921\"]]}],\"contourcarpet\":[{\"type\":\"contourcarpet\",\"colorbar\":{\"outlinewidth\":0,\"ticks\":\"\"}}],\"contour\":[{\"type\":\"contour\",\"colorbar\":{\"outlinewidth\":0,\"ticks\":\"\"},\"colorscale\":[[0.0,\"#0d0887\"],[0.1111111111111111,\"#46039f\"],[0.2222222222222222,\"#7201a8\"],[0.3333333333333333,\"#9c179e\"],[0.4444444444444444,\"#bd3786\"],[0.5555555555555556,\"#d8576b\"],[0.6666666666666666,\"#ed7953\"],[0.7777777777777778,\"#fb9f3a\"],[0.8888888888888888,\"#fdca26\"],[1.0,\"#f0f921\"]]}],\"surface\":[{\"type\":\"surface\",\"colorbar\":{\"outlinewidth\":0,\"ticks\":\"\"},\"colorscale\":[[0.0,\"#0d0887\"],[0.1111111111111111,\"#46039f\"],[0.2222222222222222,\"#7201a8\"],[0.3333333333333333,\"#9c179e\"],[0.4444444444444444,\"#bd3786\"],[0.5555555555555556,\"#d8576b\"],[0.6666666666666666,\"#ed7953\"],[0.7777777777777778,\"#fb9f3a\"],[0.8888888888888888,\"#fdca26\"],[1.0,\"#f0f921\"]]}],\"mesh3d\":[{\"type\":\"mesh3d\",\"colorbar\":{\"outlinewidth\":0,\"ticks\":\"\"}}],\"scatter\":[{\"fillpattern\":{\"fillmode\":\"overlay\",\"size\":10,\"solidity\":0.2},\"type\":\"scatter\"}],\"parcoords\":[{\"type\":\"parcoords\",\"line\":{\"colorbar\":{\"outlinewidth\":0,\"ticks\":\"\"}}}],\"scatterpolargl\":[{\"type\":\"scatterpolargl\",\"marker\":{\"colorbar\":{\"outlinewidth\":0,\"ticks\":\"\"}}}],\"bar\":[{\"error_x\":{\"color\":\"#2a3f5f\"},\"error_y\":{\"color\":\"#2a3f5f\"},\"marker\":{\"line\":{\"color\":\"#E5ECF6\",\"width\":0.5},\"pattern\":{\"fillmode\":\"overlay\",\"size\":10,\"solidity\":0.2}},\"type\":\"bar\"}],\"scattergeo\":[{\"type\":\"scattergeo\",\"marker\":{\"colorbar\":{\"outlinewidth\":0,\"ticks\":\"\"}}}],\"scatterpolar\":[{\"type\":\"scatterpolar\",\"marker\":{\"colorbar\":{\"outlinewidth\":0,\"ticks\":\"\"}}}],\"histogram\":[{\"marker\":{\"pattern\":{\"fillmode\":\"overlay\",\"size\":10,\"solidity\":0.2}},\"type\":\"histogram\"}],\"scattergl\":[{\"type\":\"scattergl\",\"marker\":{\"colorbar\":{\"outlinewidth\":0,\"ticks\":\"\"}}}],\"scatter3d\":[{\"type\":\"scatter3d\",\"line\":{\"colorbar\":{\"outlinewidth\":0,\"ticks\":\"\"}},\"marker\":{\"colorbar\":{\"outlinewidth\":0,\"ticks\":\"\"}}}],\"scattermapbox\":[{\"type\":\"scattermapbox\",\"marker\":{\"colorbar\":{\"outlinewidth\":0,\"ticks\":\"\"}}}],\"scatterternary\":[{\"type\":\"scatterternary\",\"marker\":{\"colorbar\":{\"outlinewidth\":0,\"ticks\":\"\"}}}],\"scattercarpet\":[{\"type\":\"scattercarpet\",\"marker\":{\"colorbar\":{\"outlinewidth\":0,\"ticks\":\"\"}}}],\"carpet\":[{\"aaxis\":{\"endlinecolor\":\"#2a3f5f\",\"gridcolor\":\"white\",\"linecolor\":\"white\",\"minorgridcolor\":\"white\",\"startlinecolor\":\"#2a3f5f\"},\"baxis\":{\"endlinecolor\":\"#2a3f5f\",\"gridcolor\":\"white\",\"linecolor\":\"white\",\"minorgridcolor\":\"white\",\"startlinecolor\":\"#2a3f5f\"},\"type\":\"carpet\"}],\"table\":[{\"cells\":{\"fill\":{\"color\":\"#EBF0F8\"},\"line\":{\"color\":\"white\"}},\"header\":{\"fill\":{\"color\":\"#C8D4E3\"},\"line\":{\"color\":\"white\"}},\"type\":\"table\"}],\"barpolar\":[{\"marker\":{\"line\":{\"color\":\"#E5ECF6\",\"width\":0.5},\"pattern\":{\"fillmode\":\"overlay\",\"size\":10,\"solidity\":0.2}},\"type\":\"barpolar\"}],\"pie\":[{\"automargin\":true,\"type\":\"pie\"}]},\"layout\":{\"autotypenumbers\":\"strict\",\"colorway\":[\"#636efa\",\"#EF553B\",\"#00cc96\",\"#ab63fa\",\"#FFA15A\",\"#19d3f3\",\"#FF6692\",\"#B6E880\",\"#FF97FF\",\"#FECB52\"],\"font\":{\"color\":\"#2a3f5f\"},\"hovermode\":\"closest\",\"hoverlabel\":{\"align\":\"left\"},\"paper_bgcolor\":\"white\",\"plot_bgcolor\":\"#E5ECF6\",\"polar\":{\"bgcolor\":\"#E5ECF6\",\"angularaxis\":{\"gridcolor\":\"white\",\"linecolor\":\"white\",\"ticks\":\"\"},\"radialaxis\":{\"gridcolor\":\"white\",\"linecolor\":\"white\",\"ticks\":\"\"}},\"ternary\":{\"bgcolor\":\"#E5ECF6\",\"aaxis\":{\"gridcolor\":\"white\",\"linecolor\":\"white\",\"ticks\":\"\"},\"baxis\":{\"gridcolor\":\"white\",\"linecolor\":\"white\",\"ticks\":\"\"},\"caxis\":{\"gridcolor\":\"white\",\"linecolor\":\"white\",\"ticks\":\"\"}},\"coloraxis\":{\"colorbar\":{\"outlinewidth\":0,\"ticks\":\"\"}},\"colorscale\":{\"sequential\":[[0.0,\"#0d0887\"],[0.1111111111111111,\"#46039f\"],[0.2222222222222222,\"#7201a8\"],[0.3333333333333333,\"#9c179e\"],[0.4444444444444444,\"#bd3786\"],[0.5555555555555556,\"#d8576b\"],[0.6666666666666666,\"#ed7953\"],[0.7777777777777778,\"#fb9f3a\"],[0.8888888888888888,\"#fdca26\"],[1.0,\"#f0f921\"]],\"sequentialminus\":[[0.0,\"#0d0887\"],[0.1111111111111111,\"#46039f\"],[0.2222222222222222,\"#7201a8\"],[0.3333333333333333,\"#9c179e\"],[0.4444444444444444,\"#bd3786\"],[0.5555555555555556,\"#d8576b\"],[0.6666666666666666,\"#ed7953\"],[0.7777777777777778,\"#fb9f3a\"],[0.8888888888888888,\"#fdca26\"],[1.0,\"#f0f921\"]],\"diverging\":[[0,\"#8e0152\"],[0.1,\"#c51b7d\"],[0.2,\"#de77ae\"],[0.3,\"#f1b6da\"],[0.4,\"#fde0ef\"],[0.5,\"#f7f7f7\"],[0.6,\"#e6f5d0\"],[0.7,\"#b8e186\"],[0.8,\"#7fbc41\"],[0.9,\"#4d9221\"],[1,\"#276419\"]]},\"xaxis\":{\"gridcolor\":\"white\",\"linecolor\":\"white\",\"ticks\":\"\",\"title\":{\"standoff\":15},\"zerolinecolor\":\"white\",\"automargin\":true,\"zerolinewidth\":2},\"yaxis\":{\"gridcolor\":\"white\",\"linecolor\":\"white\",\"ticks\":\"\",\"title\":{\"standoff\":15},\"zerolinecolor\":\"white\",\"automargin\":true,\"zerolinewidth\":2},\"scene\":{\"xaxis\":{\"backgroundcolor\":\"#E5ECF6\",\"gridcolor\":\"white\",\"linecolor\":\"white\",\"showbackground\":true,\"ticks\":\"\",\"zerolinecolor\":\"white\",\"gridwidth\":2},\"yaxis\":{\"backgroundcolor\":\"#E5ECF6\",\"gridcolor\":\"white\",\"linecolor\":\"white\",\"showbackground\":true,\"ticks\":\"\",\"zerolinecolor\":\"white\",\"gridwidth\":2},\"zaxis\":{\"backgroundcolor\":\"#E5ECF6\",\"gridcolor\":\"white\",\"linecolor\":\"white\",\"showbackground\":true,\"ticks\":\"\",\"zerolinecolor\":\"white\",\"gridwidth\":2}},\"shapedefaults\":{\"line\":{\"color\":\"#2a3f5f\"}},\"annotationdefaults\":{\"arrowcolor\":\"#2a3f5f\",\"arrowhead\":0,\"arrowwidth\":1},\"geo\":{\"bgcolor\":\"white\",\"landcolor\":\"#E5ECF6\",\"subunitcolor\":\"white\",\"showland\":true,\"showlakes\":true,\"lakecolor\":\"white\"},\"title\":{\"x\":0.05},\"mapbox\":{\"style\":\"light\"}}},\"xaxis\":{\"anchor\":\"y\",\"domain\":[0.0,1.0],\"title\":{\"text\":\"gender\"},\"categoryorder\":\"array\",\"categoryarray\":[0.0,1.0]},\"yaxis\":{\"anchor\":\"x\",\"domain\":[0.0,1.0],\"title\":{\"text\":\"total_claims\"}},\"legend\":{\"title\":{\"text\":\"gender\"},\"tracegroupgap\":0},\"title\":{\"text\":\"Gender vs Claims\"},\"violinmode\":\"overlay\"},                        {\"responsive\": true}                    ).then(function(){\n",
              "                            \n",
              "var gd = document.getElementById('69e5d1bf-48f6-4a09-9c7f-c5266ed47a41');\n",
              "var x = new MutationObserver(function (mutations, observer) {{\n",
              "        var display = window.getComputedStyle(gd).display;\n",
              "        if (!display || display === 'none') {{\n",
              "            console.log([gd, 'removed!']);\n",
              "            Plotly.purge(gd);\n",
              "            observer.disconnect();\n",
              "        }}\n",
              "}});\n",
              "\n",
              "// Listen for the removal of the full notebook cells\n",
              "var notebookContainer = gd.closest('#notebook-container');\n",
              "if (notebookContainer) {{\n",
              "    x.observe(notebookContainer, {childList: true});\n",
              "}}\n",
              "\n",
              "// Listen for the clearing of the current output cell\n",
              "var outputEl = gd.closest('.output');\n",
              "if (outputEl) {{\n",
              "    x.observe(outputEl, {childList: true});\n",
              "}}\n",
              "\n",
              "                        })                };                            </script>        </div>\n",
              "</body>\n",
              "</html>"
            ]
          },
          "metadata": {}
        }
      ]
    },
    {
      "cell_type": "markdown",
      "source": [
        "**Why choose this plot?**\n",
        "\n",
        "Violin plot combines density and summary statistics to compare claim distributions by gender, revealing both central tendency and variability.\n",
        "\n",
        "\n",
        "\n",
        "**Insight:**\n",
        "\n",
        "Both genders show similar median claim totals, but males (0) exhibit a wider spread and more extreme high-cost cases, suggesting slightly higher variability in healthcare spending among male patients."
      ],
      "metadata": {
        "id": "g9akP7LrRveG"
      }
    },
    {
      "cell_type": "markdown",
      "source": [
        "----------------------\n",
        "\n",
        "## **16. Avg conditions by race**"
      ],
      "metadata": {
        "id": "J-KqqcfXR02E"
      }
    },
    {
      "cell_type": "code",
      "source": [
        "\n",
        "px.bar(df_plot.groupby(\"race\")[\"num_conditions\"].mean().reset_index(),\n",
        "       x=\"race\", y=\"num_conditions\",color='race', title=\"Average Conditions by Race\")\n",
        "\n"
      ],
      "metadata": {
        "colab": {
          "base_uri": "https://localhost:8080/",
          "height": 542
        },
        "id": "rYM98ZUo8KI1",
        "outputId": "925d7798-2651-4b0a-a523-3d09eaca75b1"
      },
      "execution_count": 36,
      "outputs": [
        {
          "output_type": "display_data",
          "data": {
            "text/html": [
              "<html>\n",
              "<head><meta charset=\"utf-8\" /></head>\n",
              "<body>\n",
              "    <div>            <script src=\"https://cdnjs.cloudflare.com/ajax/libs/mathjax/2.7.5/MathJax.js?config=TeX-AMS-MML_SVG\"></script><script type=\"text/javascript\">if (window.MathJax && window.MathJax.Hub && window.MathJax.Hub.Config) {window.MathJax.Hub.Config({SVG: {font: \"STIX-Web\"}});}</script>                <script type=\"text/javascript\">window.PlotlyConfig = {MathJaxConfig: 'local'};</script>\n",
              "        <script charset=\"utf-8\" src=\"https://cdn.plot.ly/plotly-2.35.2.min.js\"></script>                <div id=\"4b6b60b8-8ae6-4ed2-8c7d-4bb3863bcb6e\" class=\"plotly-graph-div\" style=\"height:525px; width:100%;\"></div>            <script type=\"text/javascript\">                                    window.PLOTLYENV=window.PLOTLYENV || {};                                    if (document.getElementById(\"4b6b60b8-8ae6-4ed2-8c7d-4bb3863bcb6e\")) {                    Plotly.newPlot(                        \"4b6b60b8-8ae6-4ed2-8c7d-4bb3863bcb6e\",                        [{\"alignmentgroup\":\"True\",\"hovertemplate\":\"race=%{marker.color}\\u003cbr\\u003enum_conditions=%{y}\\u003cextra\\u003e\\u003c\\u002fextra\\u003e\",\"legendgroup\":\"\",\"marker\":{\"color\":[0.5,1.0,2.0,3.0],\"coloraxis\":\"coloraxis\",\"pattern\":{\"shape\":\"\"}},\"name\":\"\",\"offsetgroup\":\"\",\"orientation\":\"v\",\"showlegend\":false,\"textposition\":\"auto\",\"x\":[0.5,1.0,2.0,3.0],\"xaxis\":\"x\",\"y\":[5.161290322580645,5.178294573643411,4.974193548387097,4.673732718894009],\"yaxis\":\"y\",\"type\":\"bar\"}],                        {\"template\":{\"data\":{\"histogram2dcontour\":[{\"type\":\"histogram2dcontour\",\"colorbar\":{\"outlinewidth\":0,\"ticks\":\"\"},\"colorscale\":[[0.0,\"#0d0887\"],[0.1111111111111111,\"#46039f\"],[0.2222222222222222,\"#7201a8\"],[0.3333333333333333,\"#9c179e\"],[0.4444444444444444,\"#bd3786\"],[0.5555555555555556,\"#d8576b\"],[0.6666666666666666,\"#ed7953\"],[0.7777777777777778,\"#fb9f3a\"],[0.8888888888888888,\"#fdca26\"],[1.0,\"#f0f921\"]]}],\"choropleth\":[{\"type\":\"choropleth\",\"colorbar\":{\"outlinewidth\":0,\"ticks\":\"\"}}],\"histogram2d\":[{\"type\":\"histogram2d\",\"colorbar\":{\"outlinewidth\":0,\"ticks\":\"\"},\"colorscale\":[[0.0,\"#0d0887\"],[0.1111111111111111,\"#46039f\"],[0.2222222222222222,\"#7201a8\"],[0.3333333333333333,\"#9c179e\"],[0.4444444444444444,\"#bd3786\"],[0.5555555555555556,\"#d8576b\"],[0.6666666666666666,\"#ed7953\"],[0.7777777777777778,\"#fb9f3a\"],[0.8888888888888888,\"#fdca26\"],[1.0,\"#f0f921\"]]}],\"heatmap\":[{\"type\":\"heatmap\",\"colorbar\":{\"outlinewidth\":0,\"ticks\":\"\"},\"colorscale\":[[0.0,\"#0d0887\"],[0.1111111111111111,\"#46039f\"],[0.2222222222222222,\"#7201a8\"],[0.3333333333333333,\"#9c179e\"],[0.4444444444444444,\"#bd3786\"],[0.5555555555555556,\"#d8576b\"],[0.6666666666666666,\"#ed7953\"],[0.7777777777777778,\"#fb9f3a\"],[0.8888888888888888,\"#fdca26\"],[1.0,\"#f0f921\"]]}],\"heatmapgl\":[{\"type\":\"heatmapgl\",\"colorbar\":{\"outlinewidth\":0,\"ticks\":\"\"},\"colorscale\":[[0.0,\"#0d0887\"],[0.1111111111111111,\"#46039f\"],[0.2222222222222222,\"#7201a8\"],[0.3333333333333333,\"#9c179e\"],[0.4444444444444444,\"#bd3786\"],[0.5555555555555556,\"#d8576b\"],[0.6666666666666666,\"#ed7953\"],[0.7777777777777778,\"#fb9f3a\"],[0.8888888888888888,\"#fdca26\"],[1.0,\"#f0f921\"]]}],\"contourcarpet\":[{\"type\":\"contourcarpet\",\"colorbar\":{\"outlinewidth\":0,\"ticks\":\"\"}}],\"contour\":[{\"type\":\"contour\",\"colorbar\":{\"outlinewidth\":0,\"ticks\":\"\"},\"colorscale\":[[0.0,\"#0d0887\"],[0.1111111111111111,\"#46039f\"],[0.2222222222222222,\"#7201a8\"],[0.3333333333333333,\"#9c179e\"],[0.4444444444444444,\"#bd3786\"],[0.5555555555555556,\"#d8576b\"],[0.6666666666666666,\"#ed7953\"],[0.7777777777777778,\"#fb9f3a\"],[0.8888888888888888,\"#fdca26\"],[1.0,\"#f0f921\"]]}],\"surface\":[{\"type\":\"surface\",\"colorbar\":{\"outlinewidth\":0,\"ticks\":\"\"},\"colorscale\":[[0.0,\"#0d0887\"],[0.1111111111111111,\"#46039f\"],[0.2222222222222222,\"#7201a8\"],[0.3333333333333333,\"#9c179e\"],[0.4444444444444444,\"#bd3786\"],[0.5555555555555556,\"#d8576b\"],[0.6666666666666666,\"#ed7953\"],[0.7777777777777778,\"#fb9f3a\"],[0.8888888888888888,\"#fdca26\"],[1.0,\"#f0f921\"]]}],\"mesh3d\":[{\"type\":\"mesh3d\",\"colorbar\":{\"outlinewidth\":0,\"ticks\":\"\"}}],\"scatter\":[{\"fillpattern\":{\"fillmode\":\"overlay\",\"size\":10,\"solidity\":0.2},\"type\":\"scatter\"}],\"parcoords\":[{\"type\":\"parcoords\",\"line\":{\"colorbar\":{\"outlinewidth\":0,\"ticks\":\"\"}}}],\"scatterpolargl\":[{\"type\":\"scatterpolargl\",\"marker\":{\"colorbar\":{\"outlinewidth\":0,\"ticks\":\"\"}}}],\"bar\":[{\"error_x\":{\"color\":\"#2a3f5f\"},\"error_y\":{\"color\":\"#2a3f5f\"},\"marker\":{\"line\":{\"color\":\"#E5ECF6\",\"width\":0.5},\"pattern\":{\"fillmode\":\"overlay\",\"size\":10,\"solidity\":0.2}},\"type\":\"bar\"}],\"scattergeo\":[{\"type\":\"scattergeo\",\"marker\":{\"colorbar\":{\"outlinewidth\":0,\"ticks\":\"\"}}}],\"scatterpolar\":[{\"type\":\"scatterpolar\",\"marker\":{\"colorbar\":{\"outlinewidth\":0,\"ticks\":\"\"}}}],\"histogram\":[{\"marker\":{\"pattern\":{\"fillmode\":\"overlay\",\"size\":10,\"solidity\":0.2}},\"type\":\"histogram\"}],\"scattergl\":[{\"type\":\"scattergl\",\"marker\":{\"colorbar\":{\"outlinewidth\":0,\"ticks\":\"\"}}}],\"scatter3d\":[{\"type\":\"scatter3d\",\"line\":{\"colorbar\":{\"outlinewidth\":0,\"ticks\":\"\"}},\"marker\":{\"colorbar\":{\"outlinewidth\":0,\"ticks\":\"\"}}}],\"scattermapbox\":[{\"type\":\"scattermapbox\",\"marker\":{\"colorbar\":{\"outlinewidth\":0,\"ticks\":\"\"}}}],\"scatterternary\":[{\"type\":\"scatterternary\",\"marker\":{\"colorbar\":{\"outlinewidth\":0,\"ticks\":\"\"}}}],\"scattercarpet\":[{\"type\":\"scattercarpet\",\"marker\":{\"colorbar\":{\"outlinewidth\":0,\"ticks\":\"\"}}}],\"carpet\":[{\"aaxis\":{\"endlinecolor\":\"#2a3f5f\",\"gridcolor\":\"white\",\"linecolor\":\"white\",\"minorgridcolor\":\"white\",\"startlinecolor\":\"#2a3f5f\"},\"baxis\":{\"endlinecolor\":\"#2a3f5f\",\"gridcolor\":\"white\",\"linecolor\":\"white\",\"minorgridcolor\":\"white\",\"startlinecolor\":\"#2a3f5f\"},\"type\":\"carpet\"}],\"table\":[{\"cells\":{\"fill\":{\"color\":\"#EBF0F8\"},\"line\":{\"color\":\"white\"}},\"header\":{\"fill\":{\"color\":\"#C8D4E3\"},\"line\":{\"color\":\"white\"}},\"type\":\"table\"}],\"barpolar\":[{\"marker\":{\"line\":{\"color\":\"#E5ECF6\",\"width\":0.5},\"pattern\":{\"fillmode\":\"overlay\",\"size\":10,\"solidity\":0.2}},\"type\":\"barpolar\"}],\"pie\":[{\"automargin\":true,\"type\":\"pie\"}]},\"layout\":{\"autotypenumbers\":\"strict\",\"colorway\":[\"#636efa\",\"#EF553B\",\"#00cc96\",\"#ab63fa\",\"#FFA15A\",\"#19d3f3\",\"#FF6692\",\"#B6E880\",\"#FF97FF\",\"#FECB52\"],\"font\":{\"color\":\"#2a3f5f\"},\"hovermode\":\"closest\",\"hoverlabel\":{\"align\":\"left\"},\"paper_bgcolor\":\"white\",\"plot_bgcolor\":\"#E5ECF6\",\"polar\":{\"bgcolor\":\"#E5ECF6\",\"angularaxis\":{\"gridcolor\":\"white\",\"linecolor\":\"white\",\"ticks\":\"\"},\"radialaxis\":{\"gridcolor\":\"white\",\"linecolor\":\"white\",\"ticks\":\"\"}},\"ternary\":{\"bgcolor\":\"#E5ECF6\",\"aaxis\":{\"gridcolor\":\"white\",\"linecolor\":\"white\",\"ticks\":\"\"},\"baxis\":{\"gridcolor\":\"white\",\"linecolor\":\"white\",\"ticks\":\"\"},\"caxis\":{\"gridcolor\":\"white\",\"linecolor\":\"white\",\"ticks\":\"\"}},\"coloraxis\":{\"colorbar\":{\"outlinewidth\":0,\"ticks\":\"\"}},\"colorscale\":{\"sequential\":[[0.0,\"#0d0887\"],[0.1111111111111111,\"#46039f\"],[0.2222222222222222,\"#7201a8\"],[0.3333333333333333,\"#9c179e\"],[0.4444444444444444,\"#bd3786\"],[0.5555555555555556,\"#d8576b\"],[0.6666666666666666,\"#ed7953\"],[0.7777777777777778,\"#fb9f3a\"],[0.8888888888888888,\"#fdca26\"],[1.0,\"#f0f921\"]],\"sequentialminus\":[[0.0,\"#0d0887\"],[0.1111111111111111,\"#46039f\"],[0.2222222222222222,\"#7201a8\"],[0.3333333333333333,\"#9c179e\"],[0.4444444444444444,\"#bd3786\"],[0.5555555555555556,\"#d8576b\"],[0.6666666666666666,\"#ed7953\"],[0.7777777777777778,\"#fb9f3a\"],[0.8888888888888888,\"#fdca26\"],[1.0,\"#f0f921\"]],\"diverging\":[[0,\"#8e0152\"],[0.1,\"#c51b7d\"],[0.2,\"#de77ae\"],[0.3,\"#f1b6da\"],[0.4,\"#fde0ef\"],[0.5,\"#f7f7f7\"],[0.6,\"#e6f5d0\"],[0.7,\"#b8e186\"],[0.8,\"#7fbc41\"],[0.9,\"#4d9221\"],[1,\"#276419\"]]},\"xaxis\":{\"gridcolor\":\"white\",\"linecolor\":\"white\",\"ticks\":\"\",\"title\":{\"standoff\":15},\"zerolinecolor\":\"white\",\"automargin\":true,\"zerolinewidth\":2},\"yaxis\":{\"gridcolor\":\"white\",\"linecolor\":\"white\",\"ticks\":\"\",\"title\":{\"standoff\":15},\"zerolinecolor\":\"white\",\"automargin\":true,\"zerolinewidth\":2},\"scene\":{\"xaxis\":{\"backgroundcolor\":\"#E5ECF6\",\"gridcolor\":\"white\",\"linecolor\":\"white\",\"showbackground\":true,\"ticks\":\"\",\"zerolinecolor\":\"white\",\"gridwidth\":2},\"yaxis\":{\"backgroundcolor\":\"#E5ECF6\",\"gridcolor\":\"white\",\"linecolor\":\"white\",\"showbackground\":true,\"ticks\":\"\",\"zerolinecolor\":\"white\",\"gridwidth\":2},\"zaxis\":{\"backgroundcolor\":\"#E5ECF6\",\"gridcolor\":\"white\",\"linecolor\":\"white\",\"showbackground\":true,\"ticks\":\"\",\"zerolinecolor\":\"white\",\"gridwidth\":2}},\"shapedefaults\":{\"line\":{\"color\":\"#2a3f5f\"}},\"annotationdefaults\":{\"arrowcolor\":\"#2a3f5f\",\"arrowhead\":0,\"arrowwidth\":1},\"geo\":{\"bgcolor\":\"white\",\"landcolor\":\"#E5ECF6\",\"subunitcolor\":\"white\",\"showland\":true,\"showlakes\":true,\"lakecolor\":\"white\"},\"title\":{\"x\":0.05},\"mapbox\":{\"style\":\"light\"}}},\"xaxis\":{\"anchor\":\"y\",\"domain\":[0.0,1.0],\"title\":{\"text\":\"race\"}},\"yaxis\":{\"anchor\":\"x\",\"domain\":[0.0,1.0],\"title\":{\"text\":\"num_conditions\"}},\"coloraxis\":{\"colorbar\":{\"title\":{\"text\":\"race\"}},\"colorscale\":[[0.0,\"#0d0887\"],[0.1111111111111111,\"#46039f\"],[0.2222222222222222,\"#7201a8\"],[0.3333333333333333,\"#9c179e\"],[0.4444444444444444,\"#bd3786\"],[0.5555555555555556,\"#d8576b\"],[0.6666666666666666,\"#ed7953\"],[0.7777777777777778,\"#fb9f3a\"],[0.8888888888888888,\"#fdca26\"],[1.0,\"#f0f921\"]]},\"legend\":{\"tracegroupgap\":0},\"title\":{\"text\":\"Average Conditions by Race\"},\"barmode\":\"relative\"},                        {\"responsive\": true}                    ).then(function(){\n",
              "                            \n",
              "var gd = document.getElementById('4b6b60b8-8ae6-4ed2-8c7d-4bb3863bcb6e');\n",
              "var x = new MutationObserver(function (mutations, observer) {{\n",
              "        var display = window.getComputedStyle(gd).display;\n",
              "        if (!display || display === 'none') {{\n",
              "            console.log([gd, 'removed!']);\n",
              "            Plotly.purge(gd);\n",
              "            observer.disconnect();\n",
              "        }}\n",
              "}});\n",
              "\n",
              "// Listen for the removal of the full notebook cells\n",
              "var notebookContainer = gd.closest('#notebook-container');\n",
              "if (notebookContainer) {{\n",
              "    x.observe(notebookContainer, {childList: true});\n",
              "}}\n",
              "\n",
              "// Listen for the clearing of the current output cell\n",
              "var outputEl = gd.closest('.output');\n",
              "if (outputEl) {{\n",
              "    x.observe(outputEl, {childList: true});\n",
              "}}\n",
              "\n",
              "                        })                };                            </script>        </div>\n",
              "</body>\n",
              "</html>"
            ]
          },
          "metadata": {}
        }
      ]
    },
    {
      "cell_type": "markdown",
      "source": [
        "**Why choose this plot?**\n",
        "\n",
        "Bar chart clearly compares average number of conditions across racial groups, highlighting disparities in disease burden.\n",
        "\n",
        "**Insight:**\n",
        "\n",
        "Two race categories exhibit the highest mean conditions (5.2), while another shows the lowest (4.7), indicating meaningful variation in multimorbidity by race that may warrant targeted interventions.\n",
        "\n",
        "------------------------"
      ],
      "metadata": {
        "id": "Vp06fvo_SX2x"
      }
    },
    {
      "cell_type": "markdown",
      "source": [
        "## **17. Conditions vs Medications**"
      ],
      "metadata": {
        "id": "Qtw-o8epSiE4"
      }
    },
    {
      "cell_type": "code",
      "source": [
        "\n",
        "px.scatter(df_plot, x=\"num_conditions\", y=\"num_meds\", size=\"total_claims\", color=\"age\", title=\"Conditions vs Medications\")\n",
        "\n"
      ],
      "metadata": {
        "colab": {
          "base_uri": "https://localhost:8080/",
          "height": 542
        },
        "id": "E8fx-1aP8KFW",
        "outputId": "31d2a430-6409-4ed1-832b-a7dcc55b67f1"
      },
      "execution_count": 37,
      "outputs": [
        {
          "output_type": "display_data",
          "data": {
            "text/html": [
              "<html>\n",
              "<head><meta charset=\"utf-8\" /></head>\n",
              "<body>\n",
              "    <div>            <script src=\"https://cdnjs.cloudflare.com/ajax/libs/mathjax/2.7.5/MathJax.js?config=TeX-AMS-MML_SVG\"></script><script type=\"text/javascript\">if (window.MathJax && window.MathJax.Hub && window.MathJax.Hub.Config) {window.MathJax.Hub.Config({SVG: {font: \"STIX-Web\"}});}</script>                <script type=\"text/javascript\">window.PlotlyConfig = {MathJaxConfig: 'local'};</script>\n",
              "        <script charset=\"utf-8\" src=\"https://cdn.plot.ly/plotly-2.35.2.min.js\"></script>                <div id=\"597c62f7-4cd4-4d8a-8c05-4f1bf9cbe6ec\" class=\"plotly-graph-div\" style=\"height:525px; width:100%;\"></div>            <script type=\"text/javascript\">                                    window.PLOTLYENV=window.PLOTLYENV || {};                                    if (document.getElementById(\"597c62f7-4cd4-4d8a-8c05-4f1bf9cbe6ec\")) {                    Plotly.newPlot(                        \"597c62f7-4cd4-4d8a-8c05-4f1bf9cbe6ec\",                        [{\"hovertemplate\":\"num_conditions=%{x}\\u003cbr\\u003enum_meds=%{y}\\u003cbr\\u003etotal_claims=%{marker.size}\\u003cbr\\u003eage=%{marker.color}\\u003cextra\\u003e\\u003c\\u002fextra\\u003e\",\"legendgroup\":\"\",\"marker\":{\"color\":[100.0,3.0,73.0,62.0,82.0,81.0,79.0,80.0,77.0,61.0,78.0,66.0,75.0,19.0,62.0,60.0,93.0,67.0,51.0,53.0,89.0,92.0,90.0,95.0,75.0,83.0,79.0,49.0,84.0,57.0,54.0,96.0,95.0,69.0,77.0,81.0,96.0,68.0,38.0,82.0,11.0,74.0,79.0,94.0,53.0,55.0,52.0,75.0,68.0,72.0,62.0,72.0,81.0,7.0,42.0,44.0,81.0,93.0,53.0,50.0,54.0,93.0,88.0,85.0,84.0,44.0,95.0,92.0,68.0,86.0,0.0,60.0,62.0,59.0,74.0,18.0,86.0,86.0,84.0,89.0,85.0,88.0,66.0,64.0,63.0,90.0,75.0,87.0,80.0,90.0,46.0,40.0,84.0,81.0,93.0,78.0,81.0,81.0,61.0,83.0,63.0,51.0,38.0,90.0,49.0,73.0,89.0,59.0,80.0,68.0,51.0,40.0,69.0,76.0,81.0,48.0,84.0,63.0,54.0,48.0,80.0,67.0,65.0,58.0,57.0,86.0,88.0,79.0,79.0,86.0,82.0,88.0,2.0,75.0,85.0,45.0,75.0,72.0,50.0,42.0,70.0,80.0,56.0,76.0,82.0,75.0,57.0,86.0,88.0,60.0,35.0,76.0,83.0,88.0,75.0,53.0,87.0,84.0,87.0,46.0,73.0,75.0,89.0,43.0,49.0,86.0,47.0,76.0,78.0,48.0,65.0,75.0,13.0,41.0,69.0,73.0,60.0,84.0,76.0,85.0,85.0,56.0,75.0,86.0,86.0,67.0,49.0,49.0,70.0,77.0,50.0,73.0,83.0,83.0,56.0,68.0,80.0,66.0,52.0,66.0,53.0,73.0,81.0,50.0,73.0,63.0,84.0,77.0,81.0,66.0,75.0,77.0,57.0,75.0,2.0,85.0,7.0,81.0,51.0,85.0,76.0,85.0,58.0,81.0,75.0,76.0,73.0,46.0,16.0,73.0,84.0,60.0,78.0,77.0,63.0,73.0,79.0,68.0,80.0,76.0,80.0,74.0,73.0,38.0,79.0,47.0,79.0,32.0,60.0,55.0,77.0,38.0,68.0,65.0,80.0,65.0,64.0,73.0,60.0,62.0,58.0,63.0,77.0,58.0,68.0,44.0,76.0,77.0,80.0,73.0,48.0,64.0,36.0,43.0,72.0,53.0,54.0,47.0,62.0,59.0,60.0,75.0,64.0,72.0,67.0,78.0,71.0,65.0,78.0,77.0,76.0,55.0,49.0,51.0,59.0,65.0,78.0,67.0,46.0,55.0,60.0,54.0,58.0,35.0,72.0,58.0,46.0,60.0,77.0,64.0,58.0,67.0,50.0,71.0,39.0,54.0,12.0,68.0,65.0,65.0,59.0,73.0,68.0,19.0,49.0,61.0,75.0,59.0,64.0,62.0,66.0,61.0,58.0,10.0,65.0,53.0,47.0,59.0,48.0,67.0,61.0,70.0,65.0,51.0,54.0,47.0,62.0,65.0,42.0,57.0,59.0,60.0,53.0,51.0,69.0,52.0,1.0,47.0,32.0,69.0,49.0,66.0,53.0,32.0,59.0,51.0,57.0,60.0,60.0,68.0,62.0,63.0,58.0,46.0,59.0,56.0,54.0,51.0,53.0,62.0,0.0,55.0,63.0,41.0,45.0,50.0,43.0,57.0,31.0,60.0,52.0,47.0,3.0,55.0,55.0,33.0,59.0,59.0,58.0,49.0,46.0,47.0,48.0,40.0,56.0,32.0,26.0,46.0,55.0,33.0,49.0,38.0,53.0,49.0,35.0,36.0,37.0,49.0,30.0,19.0,52.0,52.0,0.0,48.0,0.0,48.0,24.0,35.0,40.0,27.0,39.0,22.0,2.0,29.0,28.0,13.0,2.0,10.0,19.0,20.0,28.0,34.0,1.0,11.0,12.0,29.0,27.0,2.0,16.0,5.0,27.0,22.0,17.0,1.0,20.0,1.0,0.0,106.0,107.0,107.0,99.0,99.0,99.0,100.0,100.0,100.0,101.0,103.0,104.0,106.0,7.0,7.0,8.0,8.0,8.0,8.0,8.0,8.0,8.0,8.0,8.0,8.0,8.0,8.0,8.0,8.0,8.0,8.0,8.0,8.0,9.0,9.0,9.0,9.0,9.0,9.0,9.0,9.0,9.0,9.0,9.0,9.0,9.0,9.0,9.0,9.0,9.0,9.0,9.0,10.0,10.0,10.0,10.0,10.0,10.0,10.0,10.0,10.0,10.0,10.0,10.0,10.0,10.0,10.0,11.0,11.0,11.0,11.0,11.0,11.0,11.0,11.0,11.0,11.0,11.0,11.0,12.0,12.0,12.0,12.0,12.0,12.0,12.0,12.0,12.0,12.0,12.0,12.0,12.0,12.0,12.0,13.0,13.0,13.0,13.0,13.0,13.0,13.0,13.0,13.0,13.0,13.0,13.0,14.0,14.0,14.0,14.0,14.0,14.0,14.0,14.0,14.0,14.0,14.0,15.0,15.0,15.0,15.0,15.0,15.0,15.0,15.0,15.0,15.0,15.0,15.0,15.0,15.0,15.0,16.0,16.0,16.0,16.0,16.0,16.0,16.0,16.0,16.0,16.0,16.0,16.0,16.0,16.0,16.0,16.0,16.0,17.0,17.0,17.0,17.0,17.0,17.0,17.0,17.0,17.0,17.0,17.0,17.0,17.0,17.0,17.0,17.0,17.0,17.0,17.0,18.0,18.0,18.0,18.0,18.0,18.0,18.0,18.0,18.0,18.0,18.0,18.0,18.0,18.0,18.0,19.0,19.0,19.0,19.0,19.0,19.0,19.0,19.0,19.0,19.0,19.0,19.0,19.0,19.0,19.0,20.0,20.0,20.0,20.0,20.0,20.0,20.0,20.0,20.0,20.0,20.0,20.0,21.0,21.0,21.0,21.0,21.0,21.0,21.0,21.0,21.0,21.0,21.0,21.0,22.0,22.0,22.0,22.0,22.0,22.0,22.0,22.0,22.0,22.0,22.0,22.0,22.0,23.0,23.0,23.0,23.0,23.0,23.0,23.0,23.0,23.0,23.0,23.0,23.0,23.0,23.0,23.0,23.0,24.0,24.0,24.0,24.0,24.0,24.0,24.0,24.0,24.0,24.0,24.0,24.0,24.0,24.0,24.0,24.0,24.0,24.0,25.0,25.0,25.0,25.0,25.0,25.0,25.0,25.0,25.0,26.0,26.0,26.0,26.0,26.0,26.0,26.0,26.0,26.0,26.0,26.0,26.0,26.0,26.0,26.0,26.0,26.0,27.0,27.0,27.0,27.0,27.0,27.0,27.0,27.0,27.0,27.0,27.0,27.0,27.0,27.0,27.0,27.0,27.0,27.0,27.0,27.0,27.0,27.0,27.0,28.0,28.0,28.0,28.0,28.0,28.0,29.0,29.0,29.0,29.0,29.0,29.0,29.0,29.0,29.0,29.0,29.0,29.0,29.0,29.0,29.0,29.0,29.0,30.0,30.0,30.0,30.0,30.0,30.0,30.0,30.0,30.0,30.0,30.0,31.0,31.0,31.0,31.0,31.0,31.0,31.0,31.0,31.0,31.0,31.0,31.0,31.0,31.0,31.0,31.0,31.0,32.0,32.0,32.0,32.0,32.0,32.0,32.0,32.0,32.0,32.0,32.0,32.0,32.0,33.0,33.0,33.0,33.0,33.0,33.0,33.0,33.0,33.0,33.0,34.0,34.0,34.0,34.0,34.0,34.0,34.0,34.0,34.0,34.0,35.0,35.0,35.0,35.0,35.0,35.0,35.0,35.0,35.0,35.0,35.0,35.0,35.0,35.0,35.0,36.0,36.0,36.0,36.0,36.0,36.0,36.0,36.0,36.0,36.0,37.0,37.0,37.0,37.0,37.0,37.0,37.0,37.0,37.0,37.0,37.0,38.0,38.0,38.0,38.0,38.0,38.0,38.0,38.0,38.0,38.0,38.0,38.0,38.0,38.0,38.0,38.0,38.0,38.0,38.0,39.0,39.0,39.0,39.0,39.0,39.0,39.0,39.0,39.0,39.0,39.0,39.0,39.0,39.0,39.0,39.0,40.0,40.0,40.0,40.0,40.0,40.0,40.0,40.0,40.0,40.0,40.0,40.0,40.0,40.0,40.0,40.0,41.0,41.0,41.0,41.0,41.0,41.0,41.0,41.0,41.0,42.0,42.0,42.0,42.0,42.0,42.0,42.0,42.0,42.0,42.0,42.0,42.0,42.0,42.0,42.0,42.0,42.0,42.0,42.0,42.0,43.0,43.0,43.0,43.0,43.0,43.0,43.0,43.0,43.0,44.0,44.0,44.0,44.0,44.0,44.0,44.0,44.0,44.0,44.0,44.0,44.0,44.0,45.0,45.0,45.0,45.0,45.0,45.0,45.0,46.0,46.0,46.0,46.0,46.0,46.0,46.0,46.0,46.0,46.0,46.0,46.0,46.0,46.0,46.0,46.0,47.0,47.0,47.0,47.0,47.0,47.0,47.0,47.0,47.0,47.0,47.0,48.0,48.0,48.0,48.0,48.0,48.0,48.0,48.0,48.0,48.0,48.0,48.0,48.0,48.0,49.0,49.0,49.0,49.0,49.0,49.0,49.0,49.0,49.0,49.0,49.0,49.0,49.0,50.0,50.0,50.0,50.0,50.0,50.0,50.0,51.0,51.0,51.0,51.0,51.0,51.0,51.0,51.0,51.0,51.0,52.0,52.0,52.0,52.0,52.0,52.0,52.0,52.0,52.0,52.0,52.0,52.0,52.0,52.0,52.0,52.0,53.0,53.0,53.0,53.0,53.0,53.0,53.0,53.0,53.0,53.0,54.0,54.0,54.0,54.0,54.0,54.0,54.0,54.0,54.0,54.0,54.0,54.0,54.0,54.0,55.0,55.0,55.0,55.0,55.0,55.0,55.0,55.0,55.0,55.0,55.0,55.0,55.0,55.0,55.0,56.0,56.0,56.0,56.0,56.0,56.0,56.0,56.0,56.0,56.0,56.0,56.0,56.0,57.0,57.0,57.0,57.0,57.0,57.0,57.0,57.0,57.0,57.0,57.0,57.0,57.0,57.0,57.0,57.0,57.0,57.0,57.0,57.0,58.0,58.0,58.0,58.0,58.0,58.0,58.0,58.0,59.0,59.0,59.0,59.0,59.0,59.0,59.0,59.0,59.0,59.0,59.0,59.0,59.0,60.0,60.0,60.0,60.0,60.0,60.0,60.0,60.0,60.0,60.0,60.0,61.0,61.0,61.0,61.0,61.0,61.0,61.0,61.0,61.0,61.0,61.0,61.0,61.0,61.0,61.0,61.0,61.0,61.0,61.0,62.0,62.0,62.0,62.0,62.0,62.0,62.0,62.0,62.0,62.0,62.0,62.0,62.0,62.0,62.0,63.0,63.0,63.0,63.0,63.0,63.0,63.0,63.0,63.0,63.0,63.0,63.0,63.0,63.0,63.0,64.0,64.0,64.0,64.0,64.0,64.0,64.0,64.0,64.0,64.0,64.0,64.0,64.0,64.0,65.0,65.0,65.0,65.0,65.0,65.0,65.0,65.0,65.0,65.0,65.0,65.0,66.0,66.0,66.0,66.0,66.0,66.0,66.0,66.0,66.0,67.0,67.0,67.0,67.0,67.0,67.0,67.0,68.0,68.0,68.0,68.0,68.0,68.0,68.0,68.0,68.0,68.0,69.0,69.0,69.0,69.0,69.0,69.0,69.0,69.0,69.0,69.0,69.0,70.0,70.0,70.0,70.0,70.0,70.0,70.0,70.0,70.0,71.0,71.0,71.0,71.0,71.0,71.0,71.0,71.0,71.0,71.0,71.0,71.0,72.0,72.0,72.0,72.0,72.0,72.0,72.0,72.0,73.0,73.0,73.0,73.0,73.0,73.0,73.0,73.0,73.0,73.0,73.0,73.0,73.0,73.0,74.0,74.0,74.0,74.0,74.0,74.0,74.0,74.0,75.0,75.0,75.0,75.0,75.0,75.0,75.0,75.0,76.0,76.0,76.0,77.0,77.0,77.0,77.0,78.0,78.0,78.0,78.0,78.0,78.0,78.0,78.0,78.0,78.0,79.0,79.0,79.0,79.0,80.0,80.0,80.0,80.0,80.0,80.0,81.0,81.0,81.0,81.0,81.0,81.0,81.0,81.0,81.0,81.0,81.0,82.0,82.0,82.0,82.0,82.0,82.0,82.0,83.0,83.0,83.0,83.0,83.0,83.0,84.0,84.0,84.0,84.0,85.0,85.0,85.0,86.0,86.0,86.0,86.0,86.0,86.0,87.0,87.0,87.0,87.0,87.0,87.0,87.0,88.0,88.0,88.0,88.0,88.0,88.0,88.0,89.0,89.0,89.0,90.0,90.0,90.0,92.0,92.0,92.0,93.0,93.0,93.0,93.0,93.0,93.0,94.0,94.0,94.0],\"coloraxis\":\"coloraxis\",\"size\":[100.0,100.0,2000.0,1600.0,1700.0,1300.0,1700.0,2100.0,2200.0,2100.0,1700.0,1800.0,1500.0,3900.0,2900.0,1700.0,1400.0,1700.0,800.0,3900.0,2000.0,1400.0,1800.0,1700.0,1100.0,1300.0,2100.0,3900.0,1400.0,3200.0,900.0,1100.0,1600.0,1400.0,2000.0,1000.0,1200.0,2000.0,800.0,1400.0,1200.0,1400.0,1100.0,1700.0,3900.0,3900.0,700.0,1900.0,1100.0,1300.0,3600.0,1000.0,800.0,1200.0,1200.0,400.0,1300.0,900.0,1700.0,1000.0,2000.0,800.0,1100.0,800.0,1000.0,2600.0,1000.0,800.0,900.0,1300.0,300.0,1000.0,1000.0,800.0,700.0,1400.0,900.0,800.0,800.0,800.0,700.0,600.0,1100.0,2500.0,3200.0,500.0,900.0,1000.0,800.0,700.0,300.0,600.0,500.0,700.0,600.0,400.0,600.0,500.0,600.0,500.0,400.0,1600.0,400.0,800.0,1300.0,300.0,400.0,500.0,600.0,500.0,1700.0,300.0,400.0,700.0,400.0,2500.0,200.0,300.0,200.0,300.0,300.0,500.0,1700.0,300.0,300.0,300.0,200.0,400.0,400.0,300.0,300.0,200.0,300.0,400.0,100.0,200.0,200.0,300.0,700.0,400.0,200.0,100.0,100.0,100.0,100.0,100.0,100.0,100.0,100.0,100.0,100.0,100.0,100.0,100.0,100.0,100.0,100.0,100.0,100.0,100.0,100.0,100.0,100.0,100.0,100.0,100.0,100.0,100.0,100.0,100.0,100.0,100.0,100.0,100.0,100.0,100.0,100.0,100.0,100.0,100.0,100.0,100.0,100.0,100.0,100.0,100.0,100.0,100.0,100.0,100.0,100.0,100.0,100.0,100.0,100.0,100.0,100.0,100.0,100.0,100.0,100.0,100.0,100.0,100.0,100.0,100.0,100.0,100.0,100.0,100.0,100.0,100.0,100.0,100.0,100.0,100.0,100.0,100.0,100.0,100.0,100.0,100.0,100.0,100.0,100.0,100.0,100.0,100.0,100.0,100.0,100.0,100.0,100.0,100.0,100.0,100.0,100.0,100.0,100.0,100.0,100.0,100.0,100.0,100.0,100.0,100.0,100.0,100.0,100.0,100.0,100.0,100.0,100.0,100.0,100.0,100.0,100.0,100.0,100.0,100.0,100.0,100.0,100.0,100.0,100.0,100.0,100.0,100.0,100.0,100.0,100.0,100.0,100.0,100.0,100.0,100.0,100.0,100.0,100.0,100.0,100.0,100.0,200.0,100.0,100.0,100.0,100.0,100.0,100.0,100.0,100.0,100.0,100.0,100.0,100.0,100.0,100.0,100.0,100.0,100.0,100.0,100.0,100.0,100.0,100.0,100.0,100.0,100.0,100.0,100.0,100.0,100.0,100.0,100.0,100.0,100.0,100.0,100.0,100.0,100.0,100.0,100.0,100.0,100.0,100.0,100.0,100.0,100.0,100.0,100.0,100.0,100.0,100.0,100.0,100.0,100.0,100.0,100.0,100.0,100.0,100.0,100.0,100.0,100.0,100.0,100.0,100.0,100.0,100.0,100.0,100.0,100.0,100.0,100.0,100.0,100.0,100.0,100.0,100.0,100.0,100.0,100.0,100.0,100.0,100.0,100.0,100.0,100.0,100.0,100.0,100.0,100.0,100.0,100.0,100.0,100.0,100.0,200.0,100.0,100.0,100.0,100.0,100.0,100.0,100.0,100.0,100.0,100.0,100.0,100.0,100.0,100.0,100.0,100.0,100.0,100.0,100.0,100.0,100.0,100.0,100.0,100.0,100.0,100.0,100.0,100.0,100.0,100.0,100.0,100.0,100.0,100.0,100.0,100.0,100.0,100.0,100.0,100.0,100.0,100.0,100.0,100.0,100.0,100.0,100.0,100.0,100.0,100.0,100.0,100.0,100.0,100.0,100.0,100.0,100.0,100.0,100.0,100.0,100.0,100.0,100.0,100.0,100.0,100.0,100.0,100.0,100.0,100.0,100.0,100.0,100.0,100.0,100.0,100.0,100.0,100.0,100.0,1700.0,1200.0,1000.0,1200.0,1400.0,1400.0,1100.0,1200.0,1700.0,1100.0,1400.0,1700.0,1200.0,0.0,100.0,200.0,200.0,200.0,300.0,300.0,300.0,300.0,300.0,400.0,400.0,500.0,500.0,500.0,500.0,500.0,800.0,600.0,600.0,600.0,700.0,600.0,800.0,600.0,1000.0,800.0,800.0,800.0,800.0,1200.0,800.0,1100.0,900.0,1200.0,1200.0,1200.0,1000.0,1300.0,1100.0,1000.0,1300.0,900.0,1200.0,1100.0,1100.0,1200.0,1100.0,1000.0,1400.0,1500.0,1300.0,1200.0,1700.0,1200.0,1300.0,1500.0,1200.0,1200.0,1800.0,1400.0,1500.0,1600.0,1200.0,1900.0,1400.0,1500.0,1300.0,1500.0,2800.0,2100.0,1700.0,1400.0,1600.0,1800.0,2100.0,1600.0,1500.0,2000.0,1600.0,2000.0,1700.0,1900.0,1800.0,2000.0,1700.0,1500.0,1600.0,1700.0,2100.0,2200.0,1600.0,1500.0,1700.0,1900.0,1900.0,1800.0,2600.0,1600.0,2300.0,1800.0,1800.0,2100.0,2500.0,2300.0,1700.0,2500.0,2500.0,2500.0,2100.0,1900.0,2000.0,1800.0,1700.0,2300.0,2000.0,1800.0,1900.0,2000.0,2400.0,2400.0,1800.0,2300.0,2300.0,2500.0,2300.0,1900.0,2200.0,2200.0,2800.0,2000.0,2400.0,2400.0,2200.0,2500.0,2300.0,2700.0,2100.0,2300.0,2300.0,2400.0,2700.0,2300.0,2100.0,2200.0,2500.0,2800.0,2800.0,2200.0,2400.0,2100.0,2200.0,2500.0,2000.0,3700.0,2000.0,2200.0,2400.0,2500.0,1700.0,1900.0,1800.0,1800.0,2000.0,1800.0,1700.0,1700.0,1700.0,1500.0,1700.0,1900.0,2000.0,1300.0,1700.0,2400.0,1600.0,1800.0,1800.0,1400.0,1800.0,1700.0,2200.0,1400.0,1800.0,3600.0,1800.0,2300.0,1800.0,2100.0,2000.0,1800.0,1900.0,1400.0,2000.0,2500.0,1200.0,1300.0,1200.0,1500.0,1100.0,1400.0,1900.0,1100.0,1100.0,1300.0,1700.0,1900.0,1700.0,1500.0,1300.0,1400.0,3900.0,2200.0,2100.0,1200.0,1400.0,3900.0,1200.0,2100.0,1800.0,1800.0,1200.0,1500.0,1600.0,1700.0,3900.0,1200.0,2300.0,2300.0,1100.0,1600.0,1300.0,1100.0,2200.0,3900.0,1500.0,1200.0,1200.0,1400.0,1200.0,2000.0,1500.0,1300.0,1600.0,2200.0,1400.0,1300.0,1300.0,1200.0,2300.0,1500.0,3900.0,3900.0,1700.0,1600.0,1200.0,1700.0,2100.0,1500.0,1600.0,3000.0,1200.0,1300.0,1400.0,1600.0,1700.0,3900.0,1800.0,1200.0,1500.0,1400.0,1100.0,1400.0,2800.0,2500.0,1400.0,1500.0,1200.0,1400.0,1200.0,1300.0,1600.0,3500.0,1200.0,1300.0,2200.0,2000.0,3100.0,3900.0,2300.0,3900.0,2400.0,1800.0,1300.0,3300.0,1100.0,1200.0,1400.0,2700.0,1800.0,3900.0,1200.0,3900.0,2100.0,1300.0,1400.0,1100.0,1500.0,1500.0,2000.0,2400.0,1400.0,1900.0,1900.0,3900.0,1200.0,1000.0,3900.0,1400.0,3900.0,1300.0,1800.0,1500.0,3900.0,3900.0,1600.0,1300.0,1100.0,1600.0,1100.0,3900.0,2000.0,3900.0,1800.0,1300.0,2900.0,900.0,2700.0,1400.0,2100.0,900.0,1400.0,2200.0,3500.0,3900.0,3900.0,2500.0,3900.0,3000.0,3900.0,3900.0,900.0,3900.0,2700.0,3600.0,1300.0,2500.0,3900.0,3900.0,900.0,1200.0,1800.0,1100.0,900.0,3900.0,800.0,900.0,1000.0,1100.0,2000.0,1100.0,3200.0,1600.0,3900.0,800.0,800.0,2700.0,1900.0,3200.0,1500.0,1900.0,3200.0,3900.0,2300.0,3900.0,900.0,1400.0,700.0,1000.0,900.0,3300.0,3100.0,1200.0,700.0,900.0,700.0,3000.0,1800.0,3500.0,1500.0,2000.0,3800.0,900.0,2200.0,1200.0,3000.0,2600.0,600.0,3900.0,700.0,700.0,900.0,3700.0,1000.0,700.0,3300.0,3900.0,3400.0,1900.0,500.0,400.0,1100.0,600.0,1000.0,800.0,400.0,3900.0,1900.0,3300.0,700.0,400.0,500.0,2700.0,2400.0,1100.0,600.0,3100.0,3900.0,1300.0,1100.0,700.0,500.0,700.0,3700.0,1600.0,3100.0,700.0,600.0,2300.0,1200.0,3200.0,900.0,3900.0,500.0,900.0,2500.0,500.0,3900.0,500.0,1100.0,900.0,800.0,1900.0,700.0,3900.0,600.0,800.0,900.0,500.0,300.0,3900.0,3900.0,1400.0,3900.0,3900.0,500.0,1000.0,3900.0,900.0,500.0,700.0,1600.0,1100.0,900.0,1200.0,3900.0,400.0,900.0,3900.0,3700.0,1300.0,800.0,3900.0,3900.0,700.0,300.0,400.0,3900.0,900.0,1200.0,3900.0,600.0,700.0,400.0,2400.0,3900.0,700.0,3000.0,900.0,3200.0,800.0,800.0,500.0,3900.0,600.0,1300.0,300.0,500.0,1000.0,1600.0,400.0,700.0,700.0,3900.0,700.0,500.0,600.0,800.0,800.0,3700.0,1100.0,3900.0,400.0,500.0,3000.0,3900.0,1900.0,800.0,3900.0,900.0,3900.0,600.0,3900.0,1200.0,800.0,2000.0,3900.0,3900.0,700.0,3000.0,3100.0,3300.0,900.0,500.0,3400.0,3900.0,3900.0,3800.0,700.0,1600.0,3000.0,3200.0,600.0,1300.0,600.0,800.0,700.0,600.0,800.0,600.0,3900.0,500.0,600.0,3100.0,1200.0,3900.0,1100.0,400.0,700.0,2400.0,3900.0,500.0,600.0,1400.0,800.0,500.0,600.0,3900.0,500.0,500.0,800.0,1600.0,1400.0,1000.0,900.0,600.0,1800.0,600.0,2400.0,3900.0,800.0,600.0,3100.0,1000.0,500.0,1800.0,3900.0,800.0,1700.0,1700.0,900.0,3900.0,800.0,500.0,900.0,400.0,400.0,600.0,800.0,3900.0,600.0,3900.0,1200.0,1600.0,700.0,2200.0,800.0,800.0,500.0,3900.0,2500.0,600.0,1000.0,1900.0,3900.0,2400.0,800.0,600.0,600.0,600.0,3900.0,500.0,700.0,3600.0,600.0,2100.0,700.0,2900.0,700.0,1500.0,600.0,600.0,600.0,500.0,1900.0,1600.0,1400.0,500.0,1200.0,700.0,700.0,700.0,1600.0,1000.0,800.0,1400.0,600.0,1300.0,1000.0,1100.0,600.0,3900.0,1000.0,3900.0,700.0,900.0,1500.0,900.0,1000.0,700.0,3900.0,1200.0,3900.0,3900.0,700.0,3900.0,3500.0,3900.0,1100.0,1800.0,800.0,600.0,600.0,700.0,1000.0,2400.0,800.0,1400.0,800.0,1700.0,2400.0,800.0,3900.0,900.0,700.0,1400.0,600.0,1000.0,1600.0,1300.0,3900.0,700.0,1300.0,1400.0,1600.0,700.0,800.0,700.0,1300.0,1100.0,1100.0,1000.0,2000.0,600.0,1200.0,1700.0,900.0,1100.0,2200.0,1000.0,1800.0,1200.0,1000.0,800.0,1900.0,900.0,1600.0,1100.0,1600.0,2800.0,1600.0,1400.0,1200.0,1300.0,900.0,900.0,1200.0,1500.0,1400.0,1200.0,1100.0,1100.0,3900.0,1500.0,1600.0,1200.0,1300.0,1400.0,1700.0,1200.0,1900.0,1700.0,1600.0,1500.0,900.0,1700.0,1800.0,1400.0,1300.0,900.0,1100.0,1000.0,2000.0,1000.0,1700.0,1700.0,1600.0,800.0,1000.0,1000.0,1100.0,3900.0,1700.0,1400.0,1100.0,1000.0,2200.0,1200.0,1100.0,1700.0,1300.0,3000.0,1600.0,1300.0,1700.0,1200.0,1400.0,1600.0,1400.0,1500.0,1800.0,1100.0,1500.0,1900.0,3400.0,3000.0,1300.0,1000.0,1500.0,1500.0,1400.0,1600.0,1400.0,1400.0,2000.0,1300.0,1400.0,1400.0,1500.0,1500.0,1700.0,2100.0,1300.0,1300.0,2200.0,1400.0,1400.0,1800.0,2000.0,1100.0,1300.0,1800.0,1300.0,1600.0,1400.0,1400.0,1400.0,1500.0,1500.0,1400.0,2500.0,1700.0,1600.0,1500.0,1400.0,1500.0,1400.0,1100.0,1800.0,2000.0,1800.0,1600.0,1700.0,1300.0,1300.0,1600.0,1800.0,1300.0,1700.0,1700.0,1300.0,1500.0,1500.0,1300.0,1900.0,1400.0,1800.0,1200.0,1500.0,1100.0,1300.0,1100.0,2300.0,1900.0,1600.0,1500.0,1500.0,1200.0,1400.0,2200.0,1700.0,1400.0,1500.0,1400.0,2200.0,1300.0,1700.0,1500.0,1400.0,1500.0,1600.0,3900.0,1500.0,1200.0,1400.0,1700.0,1500.0,1400.0,1300.0,1900.0,1900.0,1900.0,1300.0,1300.0,1700.0,1200.0,2000.0,1500.0,3900.0,1600.0,1800.0,1500.0,1200.0,2300.0,1600.0,1600.0,2100.0,1500.0,1200.0,2200.0,1700.0,1900.0,1600.0,2400.0,1400.0,1500.0,2300.0,1500.0,2200.0,1600.0,1600.0,2200.0,1200.0,2900.0,1900.0,1600.0,1300.0,1300.0,1800.0,1600.0,1500.0,1300.0,1400.0,1400.0,1500.0,3900.0,1700.0,1100.0,1300.0,1600.0,1600.0,1800.0,2100.0,1300.0,2100.0,1200.0,1200.0,1600.0,3900.0,1500.0,1500.0,2400.0,1400.0,1900.0,2300.0,1500.0,1800.0,1500.0,1500.0,1700.0,1800.0,1500.0,1100.0,1300.0,1800.0,1300.0,1400.0,1500.0,1100.0,1700.0,1600.0,1300.0,1600.0,1900.0,1300.0,1800.0,1900.0,1600.0,1500.0,1500.0,1600.0,1400.0],\"sizemode\":\"area\",\"sizeref\":9.75,\"symbol\":\"circle\"},\"mode\":\"markers\",\"name\":\"\",\"showlegend\":false,\"x\":[0.0,1.0,9.0,10.0,9.0,4.0,11.0,8.0,11.0,5.0,9.0,5.0,4.0,8.0,10.0,7.0,7.0,4.0,2.0,9.0,8.0,6.0,9.0,9.0,3.0,13.0,11.0,6.0,3.0,10.0,2.0,11.0,10.0,12.0,9.0,8.0,4.0,11.0,6.0,2.0,3.0,7.0,5.0,9.0,12.0,7.0,0.0,12.0,4.0,4.0,7.0,5.0,4.0,0.0,7.0,1.0,4.0,3.0,9.0,5.0,5.0,4.0,5.0,2.0,6.0,5.0,9.0,8.0,2.0,6.0,0.0,4.0,4.0,2.0,2.0,2.0,13.0,2.0,7.0,7.0,6.0,2.0,8.0,5.0,10.0,4.0,8.0,5.0,5.0,7.0,2.0,3.0,4.0,3.0,13.0,1.0,5.0,3.0,10.0,3.0,3.0,8.0,2.0,4.0,4.0,3.0,4.0,3.0,3.0,1.0,5.0,3.0,5.0,3.0,3.0,5.0,4.0,0.0,2.0,4.0,3.0,5.0,4.0,1.0,3.0,2.0,2.0,7.0,4.0,1.0,6.0,5.0,0.0,8.0,8.0,4.0,0.0,1.0,4.0,3.0,3.0,1.0,6.0,5.0,5.0,9.0,2.0,4.0,4.0,6.0,1.0,2.0,1.0,2.0,2.0,6.0,4.0,4.0,4.0,4.0,2.0,3.0,2.0,2.0,1.0,3.0,2.0,1.0,8.0,3.0,3.0,1.0,3.0,1.0,4.0,1.0,2.0,9.0,3.0,7.0,4.0,3.0,3.0,7.0,3.0,1.0,4.0,3.0,3.0,2.0,4.0,7.0,7.0,3.0,1.0,3.0,0.0,6.0,5.0,7.0,4.0,8.0,6.0,8.0,4.0,6.0,4.0,6.0,5.0,1.0,6.0,4.0,2.0,6.0,2.0,2.0,2.0,4.0,7.0,8.0,6.0,3.0,6.0,3.0,6.0,2.0,12.0,1.0,0.0,6.0,8.0,6.0,3.0,2.0,0.0,6.0,5.0,1.0,2.0,4.0,6.0,11.0,3.0,1.0,11.0,7.0,5.0,3.0,6.0,1.0,1.0,1.0,1.0,5.0,1.0,6.0,6.0,5.0,7.0,6.0,5.0,5.0,10.0,3.0,2.0,2.0,2.0,4.0,3.0,5.0,2.0,3.0,5.0,6.0,3.0,3.0,2.0,4.0,5.0,6.0,3.0,6.0,8.0,7.0,3.0,3.0,5.0,11.0,1.0,3.0,4.0,5.0,3.0,8.0,4.0,7.0,3.0,2.0,0.0,5.0,2.0,5.0,4.0,2.0,7.0,0.0,6.0,5.0,0.0,2.0,2.0,3.0,5.0,2.0,5.0,5.0,0.0,2.0,1.0,2.0,2.0,3.0,2.0,1.0,3.0,3.0,1.0,5.0,5.0,2.0,0.0,3.0,3.0,1.0,6.0,4.0,4.0,11.0,3.0,3.0,7.0,0.0,2.0,1.0,2.0,13.0,3.0,0.0,0.0,6.0,6.0,6.0,4.0,4.0,1.0,2.0,0.0,1.0,3.0,4.0,5.0,1.0,7.0,1.0,4.0,5.0,2.0,9.0,4.0,13.0,1.0,7.0,5.0,1.0,2.0,3.0,2.0,4.0,1.0,3.0,0.0,4.0,4.0,2.0,2.0,8.0,5.0,1.0,3.0,2.0,4.0,4.0,2.0,5.0,3.0,0.0,4.0,2.0,7.0,4.0,8.0,3.0,3.0,0.0,4.0,2.0,5.0,1.0,3.0,1.0,4.0,0.0,3.0,3.0,2.0,2.0,2.0,6.0,6.0,2.0,5.0,2.0,2.0,2.0,0.0,6.0,3.0,3.0,3.0,3.0,1.0,1.0,3.0,3.0,5.0,2.0,4.0,3.0,0.0,1.0,4.0,1.0,1.0,5.0,0.0,1.0,6.0,2.0,2.0,3.0,3.0,3.0,5.0,3.0,4.0,2.0,0.0,9.0,6.0,4.0,6.0,4.0,7.0,4.0,4.0,13.0,5.0,7.0,10.0,7.0,0.0,0.0,0.0,0.0,0.0,0.0,0.0,0.0,0.0,0.0,0.0,0.0,0.0,0.0,0.0,0.0,0.0,0.0,0.0,0.0,0.0,0.0,0.0,1.0,0.0,3.0,1.0,1.0,0.0,0.0,2.0,0.0,4.0,1.0,3.0,2.0,2.0,1.0,2.0,1.0,1.0,1.0,0.0,2.0,1.0,2.0,2.0,1.0,0.0,3.0,3.0,3.0,1.0,1.0,1.0,2.0,3.0,0.0,1.0,4.0,2.0,3.0,4.0,0.0,4.0,2.0,5.0,2.0,2.0,1.0,2.0,4.0,1.0,1.0,3.0,5.0,4.0,3.0,5.0,3.0,4.0,4.0,3.0,4.0,3.0,3.0,1.0,3.0,2.0,6.0,5.0,1.0,1.0,4.0,3.0,5.0,4.0,7.0,1.0,6.0,3.0,1.0,4.0,7.0,7.0,2.0,6.0,2.0,5.0,5.0,4.0,4.0,3.0,1.0,7.0,4.0,3.0,4.0,3.0,3.0,6.0,2.0,5.0,7.0,6.0,4.0,2.0,5.0,5.0,6.0,3.0,7.0,6.0,4.0,7.0,6.0,3.0,4.0,6.0,4.0,7.0,7.0,6.0,4.0,4.0,4.0,8.0,6.0,5.0,3.0,5.0,4.0,6.0,3.0,11.0,3.0,6.0,10.0,3.0,3.0,3.0,4.0,4.0,6.0,4.0,3.0,4.0,3.0,2.0,3.0,6.0,6.0,1.0,4.0,7.0,4.0,5.0,5.0,3.0,5.0,5.0,9.0,3.0,7.0,10.0,5.0,8.0,7.0,7.0,9.0,5.0,9.0,2.0,8.0,6.0,3.0,3.0,2.0,4.0,1.0,4.0,6.0,2.0,2.0,3.0,6.0,4.0,7.0,4.0,4.0,3.0,3.0,10.0,4.0,3.0,5.0,7.0,2.0,5.0,4.0,7.0,2.0,5.0,5.0,3.0,3.0,2.0,11.0,4.0,2.0,5.0,2.0,2.0,9.0,9.0,5.0,2.0,3.0,2.0,2.0,7.0,5.0,6.0,4.0,4.0,4.0,3.0,2.0,1.0,5.0,4.0,4.0,4.0,6.0,6.0,5.0,5.0,5.0,2.0,6.0,7.0,3.0,4.0,4.0,6.0,3.0,3.0,6.0,3.0,2.0,3.0,1.0,4.0,5.0,3.0,4.0,5.0,2.0,1.0,3.0,3.0,6.0,6.0,2.0,3.0,9.0,6.0,9.0,7.0,8.0,10.0,6.0,7.0,4.0,6.0,3.0,2.0,5.0,7.0,3.0,4.0,2.0,5.0,2.0,4.0,3.0,3.0,4.0,2.0,5.0,2.0,3.0,5.0,4.0,5.0,3.0,1.0,5.0,4.0,7.0,3.0,7.0,3.0,10.0,6.0,3.0,4.0,3.0,6.0,2.0,9.0,6.0,3.0,6.0,3.0,5.0,1.0,11.0,8.0,6.0,2.0,7.0,4.0,8.0,2.0,7.0,5.0,6.0,5.0,7.0,13.0,1.0,9.0,6.0,7.0,5.0,6.0,3.0,7.0,5.0,5.0,5.0,4.0,3.0,7.0,2.0,3.0,4.0,5.0,8.0,5.0,13.0,8.0,2.0,3.0,3.0,4.0,5.0,10.0,8.0,10.0,7.0,11.0,3.0,11.0,4.0,1.0,3.0,5.0,5.0,7.0,7.0,8.0,2.0,3.0,5.0,6.0,7.0,9.0,4.0,6.0,4.0,6.0,11.0,3.0,6.0,10.0,2.0,9.0,3.0,3.0,5.0,6.0,5.0,4.0,8.0,8.0,5.0,6.0,2.0,1.0,5.0,2.0,6.0,4.0,1.0,11.0,6.0,12.0,6.0,1.0,1.0,3.0,8.0,8.0,3.0,11.0,8.0,3.0,11.0,4.0,2.0,4.0,9.0,5.0,5.0,6.0,3.0,3.0,9.0,7.0,5.0,11.0,3.0,5.0,6.0,3.0,11.0,5.0,8.0,6.0,5.0,6.0,3.0,8.0,3.0,4.0,5.0,3.0,1.0,12.0,10.0,7.0,6.0,13.0,3.0,3.0,7.0,3.0,2.0,5.0,5.0,5.0,5.0,5.0,12.0,1.0,9.0,12.0,11.0,4.0,8.0,13.0,9.0,6.0,1.0,3.0,8.0,6.0,6.0,9.0,2.0,6.0,1.0,8.0,6.0,5.0,6.0,2.0,8.0,5.0,7.0,1.0,13.0,3.0,6.0,1.0,2.0,5.0,5.0,2.0,5.0,5.0,4.0,5.0,2.0,4.0,5.0,4.0,8.0,6.0,7.0,3.0,3.0,13.0,9.0,6.0,4.0,9.0,4.0,13.0,3.0,11.0,2.0,3.0,10.0,2.0,4.0,4.0,5.0,6.0,7.0,4.0,3.0,8.0,8.0,6.0,4.0,4.0,6.0,9.0,8.0,4.0,4.0,5.0,8.0,3.0,2.0,4.0,6.0,9.0,3.0,3.0,5.0,3.0,3.0,6.0,1.0,3.0,8.0,9.0,3.0,4.0,11.0,4.0,4.0,1.0,5.0,2.0,4.0,5.0,3.0,5.0,7.0,7.0,3.0,2.0,3.0,9.0,3.0,4.0,2.0,10.0,3.0,3.0,9.0,3.0,5.0,6.0,1.0,4.0,11.0,4.0,3.0,1.0,2.0,4.0,4.0,4.0,10.0,3.0,6.0,6.0,7.0,4.0,8.0,8.0,8.0,3.0,13.0,9.0,3.0,5.0,9.0,3.0,11.0,5.0,4.0,7.0,3.0,5.0,1.0,4.0,5.0,6.0,6.0,7.0,7.0,7.0,5.0,4.0,2.0,3.0,2.0,6.0,5.0,13.0,4.0,9.0,3.0,4.0,6.0,9.0,7.0,3.0,3.0,5.0,2.0,6.0,5.0,2.0,4.0,3.0,9.0,4.0,6.0,3.0,7.0,7.0,6.0,2.0,8.0,5.0,5.0,7.0,6.0,7.0,5.0,7.0,8.0,3.0,2.0,3.0,3.0,9.0,3.0,3.0,8.0,4.0,3.0,7.0,2.0,10.0,7.0,3.0,6.0,2.0,7.0,4.0,5.0,6.0,1.0,9.0,10.0,9.0,1.0,4.0,3.0,8.0,7.0,5.0,4.0,4.0,3.0,6.0,7.0,2.0,4.0,5.0,4.0,6.0,5.0,4.0,1.0,3.0,3.0,8.0,7.0,8.0,13.0,7.0,7.0,5.0,6.0,3.0,4.0,6.0,6.0,2.0,5.0,4.0,6.0,8.0,3.0,8.0,9.0,6.0,6.0,5.0,6.0,6.0,10.0,3.0,4.0,3.0,10.0,6.0,7.0,6.0,2.0,3.0,2.0,9.0,2.0,11.0,8.0,7.0,3.0,2.0,4.0,4.0,6.0,8.0,7.0,1.0,4.0,12.0,10.0,3.0,3.0,6.0,11.0,6.0,6.0,5.0,4.0,6.0,8.0,9.0,4.0,4.0,7.0,4.0,10.0,5.0,7.0,5.0,5.0,7.0,7.0,5.0,5.0,5.0,3.0,7.0,3.0,4.0,4.0,5.0,4.0,13.0,8.0,4.0,3.0,5.0,5.0,4.0,5.0,7.0,2.0,5.0,8.0,7.0,6.0,4.0,5.0,4.0,5.0,5.0,3.0,10.0,7.0,2.0,4.0,8.0,4.0,3.0,2.0,6.0,7.0,4.0,7.0,7.0,5.0,8.0,7.0,7.0,2.0,7.0,8.0,7.0,3.0,5.0,2.0,5.0,7.0,11.0,2.0,3.0,3.0,1.0,4.0,11.0,9.0,7.0,3.0,8.0,3.0,6.0,12.0,7.0,3.0,3.0,3.0,10.0,2.0,6.0,7.0,7.0,4.0,9.0,13.0,4.0,8.0,7.0,9.0,2.0,5.0,4.0,6.0,4.0,9.0,7.0,3.0,7.0,3.0,10.0,6.0,9.0,7.0,7.0,9.0,3.0,13.0,6.0,5.0,11.0,4.0,5.0,13.0,7.0,7.0,7.0,8.0,4.0,6.0,6.0,13.0,10.0,9.0,7.0,9.0,6.0,13.0,13.0,7.0,2.0,7.0,8.0,6.0,8.0,3.0,9.0,4.0,5.0,13.0,7.0,3.0,7.0,10.0,10.0,10.0,10.0,3.0,9.0,4.0,8.0,7.0,7.0,6.0,4.0,12.0,6.0,7.0,11.0,6.0,7.0,4.0,10.0,8.0,8.0,7.0,5.0,7.0,6.0,3.0,4.0,6.0,3.0,10.0,5.0,2.0,7.0,12.0,6.0,10.0,9.0,8.0,10.0,9.0,9.0,4.0],\"xaxis\":\"x\",\"y\":[0.0,0.0,6.0,12.0,7.0,4.0,8.0,8.0,6.0,4.0,3.0,0.0,3.0,7.0,12.0,9.0,12.0,5.0,4.0,12.0,4.0,5.0,8.0,12.0,2.0,4.0,8.0,8.0,6.0,12.0,3.0,10.0,7.0,12.0,3.0,9.0,1.0,5.0,4.0,2.0,2.0,10.0,4.0,5.0,12.0,12.0,1.0,8.0,2.0,4.0,8.0,4.0,2.0,0.0,12.0,2.0,4.0,1.0,3.0,3.0,12.0,2.0,4.0,0.0,1.0,9.0,3.0,2.0,4.0,4.0,0.0,2.0,4.0,3.0,1.0,3.0,5.0,3.0,5.0,3.0,11.0,3.0,3.0,1.0,12.0,2.0,12.0,4.0,3.0,7.0,2.0,2.0,4.0,2.0,1.0,2.0,3.0,6.0,7.0,2.0,6.0,8.0,2.0,5.0,12.0,2.0,2.0,4.0,1.0,2.0,12.0,1.0,8.0,2.0,6.0,12.0,2.0,2.0,0.0,9.0,1.0,7.0,12.0,3.0,1.0,0.0,4.0,1.0,1.0,5.0,12.0,1.0,0.0,9.0,0.0,4.0,0.0,0.0,12.0,3.0,0.0,1.0,4.0,2.0,8.0,10.0,2.0,2.0,7.0,12.0,1.0,3.0,1.0,4.0,0.0,12.0,3.0,1.0,2.0,0.0,3.0,2.0,1.0,3.0,2.0,0.0,2.0,0.0,12.0,0.0,2.0,2.0,2.0,3.0,3.0,1.0,0.0,3.0,2.0,9.0,7.0,0.0,0.0,5.0,1.0,2.0,3.0,3.0,4.0,0.0,1.0,4.0,4.0,1.0,1.0,2.0,0.0,0.0,12.0,2.0,1.0,4.0,4.0,0.0,6.0,11.0,3.0,5.0,3.0,0.0,3.0,3.0,2.0,2.0,2.0,0.0,12.0,4.0,7.0,2.0,4.0,2.0,1.0,3.0,0.0,1.0,12.0,3.0,3.0,5.0,3.0,2.0,5.0,1.0,3.0,7.0,1.0,2.0,0.0,3.0,3.0,3.0,4.0,0.0,4.0,4.0,0.0,6.0,12.0,3.0,3.0,2.0,1.0,8.0,0.0,12.0,5.0,2.0,2.0,3.0,1.0,1.0,3.0,0.0,1.0,2.0,1.0,1.0,5.0,1.0,0.0,5.0,12.0,5.0,3.0,12.0,0.0,1.0,3.0,5.0,1.0,1.0,12.0,3.0,0.0,2.0,5.0,3.0,1.0,2.0,1.0,1.0,2.0,4.0,1.0,1.0,0.0,1.0,0.0,3.0,1.0,2.0,1.0,1.0,5.0,0.0,2.0,2.0,0.0,3.0,4.0,1.0,0.0,0.0,5.0,4.0,2.0,1.0,2.0,0.0,2.0,0.0,0.0,3.0,2.0,0.0,1.0,3.0,1.0,1.0,0.0,1.0,4.0,0.0,1.0,3.0,0.0,2.0,2.0,4.0,2.0,3.0,12.0,2.0,1.0,3.0,1.0,1.0,0.0,2.0,5.0,12.0,0.0,3.0,0.0,3.0,0.0,2.0,2.0,3.0,2.0,2.0,1.0,1.0,2.0,2.0,0.0,3.0,3.0,6.0,1.0,2.0,1.0,1.0,2.0,0.0,2.0,0.0,2.0,2.0,0.0,2.0,2.0,10.0,1.0,3.0,4.0,2.0,0.0,1.0,2.0,2.0,2.0,6.0,3.0,0.0,2.0,1.0,6.0,0.0,4.0,2.0,3.0,1.0,1.0,4.0,3.0,6.0,1.0,1.0,0.0,2.0,1.0,3.0,2.0,2.0,1.0,4.0,4.0,3.0,1.0,1.0,2.0,2.0,0.0,2.0,2.0,3.0,0.0,4.0,1.0,1.0,3.0,3.0,3.0,2.0,2.0,2.0,1.0,1.0,4.0,0.0,0.0,3.0,1.0,1.0,0.0,3.0,0.0,6.0,2.0,3.0,6.0,2.0,2.0,2.0,0.0,5.0,4.0,3.0,3.0,4.0,4.0,2.0,5.0,12.0,5.0,4.0,8.0,2.0,0.0,0.0,0.0,0.0,0.0,0.0,0.0,0.0,0.0,0.0,0.0,0.0,0.0,0.0,0.0,0.0,0.0,2.0,0.0,0.0,0.0,0.0,0.0,0.0,0.0,3.0,1.0,1.0,0.0,0.0,4.0,0.0,2.0,1.0,1.0,2.0,0.0,1.0,3.0,1.0,0.0,3.0,0.0,1.0,0.0,2.0,1.0,2.0,0.0,4.0,6.0,5.0,1.0,2.0,2.0,2.0,4.0,0.0,2.0,7.0,3.0,2.0,2.0,0.0,5.0,2.0,7.0,1.0,2.0,2.0,2.0,4.0,0.0,2.0,5.0,5.0,4.0,1.0,5.0,0.0,5.0,2.0,4.0,6.0,0.0,4.0,1.0,2.0,5.0,8.0,6.0,1.0,2.0,2.0,4.0,4.0,5.0,6.0,2.0,8.0,2.0,2.0,2.0,8.0,6.0,4.0,8.0,3.0,4.0,3.0,6.0,4.0,3.0,2.0,4.0,4.0,3.0,4.0,3.0,5.0,4.0,1.0,3.0,4.0,9.0,2.0,4.0,2.0,4.0,10.0,3.0,7.0,5.0,1.0,7.0,5.0,2.0,3.0,3.0,5.0,5.0,6.0,10.0,2.0,2.0,2.0,8.0,5.0,6.0,5.0,6.0,4.0,3.0,2.0,12.0,1.0,3.0,8.0,5.0,2.0,4.0,2.0,1.0,5.0,3.0,4.0,3.0,5.0,2.0,1.0,8.0,5.0,0.0,1.0,5.0,2.0,4.0,5.0,2.0,3.0,6.0,5.0,0.0,6.0,7.0,7.0,11.0,4.0,9.0,6.0,5.0,6.0,2.0,11.0,4.0,3.0,2.0,3.0,4.0,0.0,4.0,4.0,2.0,2.0,2.0,3.0,2.0,6.0,2.0,2.0,5.0,5.0,5.0,2.0,1.0,4.0,8.0,0.0,2.0,6.0,4.0,1.0,1.0,2.0,3.0,5.0,2.0,7.0,0.0,1.0,2.0,2.0,1.0,9.0,9.0,2.0,1.0,0.0,4.0,1.0,5.0,2.0,2.0,3.0,3.0,3.0,0.0,1.0,1.0,7.0,3.0,3.0,6.0,3.0,3.0,2.0,6.0,7.0,6.0,6.0,8.0,3.0,2.0,1.0,5.0,7.0,5.0,7.0,3.0,4.0,1.0,0.0,1.0,7.0,5.0,4.0,2.0,2.0,2.0,3.0,1.0,3.0,8.0,2.0,2.0,7.0,9.0,12.0,2.0,8.0,10.0,2.0,2.0,2.0,2.0,3.0,1.0,1.0,7.0,2.0,7.0,3.0,6.0,3.0,3.0,3.0,1.0,3.0,3.0,8.0,5.0,5.0,5.0,10.0,9.0,1.0,1.0,6.0,3.0,8.0,4.0,2.0,5.0,5.0,7.0,5.0,4.0,3.0,3.0,1.0,6.0,8.0,5.0,5.0,1.0,9.0,3.0,7.0,2.0,9.0,2.0,2.0,6.0,9.0,2.0,10.0,6.0,7.0,6.0,8.0,10.0,1.0,12.0,4.0,4.0,5.0,7.0,7.0,12.0,7.0,3.0,4.0,3.0,6.0,3.0,1.0,3.0,2.0,5.0,3.0,3.0,5.0,12.0,9.0,1.0,2.0,4.0,8.0,5.0,6.0,7.0,7.0,9.0,4.0,8.0,2.0,2.0,1.0,3.0,3.0,9.0,1.0,2.0,0.0,3.0,6.0,5.0,7.0,7.0,6.0,7.0,9.0,5.0,8.0,2.0,8.0,12.0,1.0,8.0,0.0,2.0,2.0,5.0,5.0,0.0,9.0,4.0,9.0,11.0,1.0,0.0,3.0,4.0,2.0,3.0,0.0,9.0,11.0,7.0,5.0,2.0,1.0,7.0,11.0,4.0,3.0,12.0,12.0,6.0,4.0,2.0,1.0,5.0,11.0,8.0,7.0,4.0,3.0,8.0,6.0,9.0,1.0,8.0,2.0,1.0,5.0,2.0,10.0,3.0,4.0,3.0,3.0,12.0,2.0,8.0,2.0,3.0,2.0,0.0,2.0,7.0,2.0,7.0,6.0,10.0,3.0,6.0,6.0,1.0,1.0,1.0,7.0,5.0,1.0,7.0,6.0,1.0,5.0,9.0,12.0,8.0,1.0,8.0,7.0,1.0,3.0,1.0,5.0,4.0,4.0,7.0,0.0,3.0,0.0,10.0,3.0,2.0,9.0,6.0,3.0,4.0,5.0,4.0,8.0,1.0,4.0,3.0,3.0,3.0,12.0,1.0,4.0,2.0,11.0,4.0,2.0,3.0,2.0,2.0,6.0,7.0,8.0,3.0,1.0,2.0,11.0,8.0,1.0,5.0,7.0,12.0,1.0,6.0,4.0,1.0,9.0,9.0,7.0,3.0,2.0,9.0,6.0,5.0,1.0,5.0,5.0,12.0,8.0,3.0,5.0,6.0,8.0,2.0,7.0,5.0,6.0,3.0,3.0,2.0,2.0,8.0,0.0,1.0,10.0,3.0,10.0,6.0,1.0,2.0,7.0,12.0,1.0,1.0,9.0,3.0,3.0,2.0,2.0,1.0,2.0,2.0,9.0,4.0,4.0,6.0,2.0,10.0,0.0,11.0,10.0,6.0,3.0,6.0,5.0,0.0,7.0,3.0,2.0,9.0,5.0,2.0,12.0,5.0,4.0,2.0,0.0,1.0,1.0,3.0,12.0,2.0,4.0,4.0,6.0,2.0,10.0,4.0,2.0,2.0,9.0,7.0,2.0,10.0,10.0,8.0,12.0,4.0,2.0,2.0,4.0,3.0,0.0,4.0,5.0,5.0,8.0,7.0,9.0,4.0,10.0,2.0,2.0,5.0,2.0,11.0,6.0,8.0,1.0,3.0,0.0,4.0,4.0,4.0,5.0,1.0,5.0,0.0,9.0,6.0,6.0,2.0,4.0,4.0,12.0,1.0,3.0,8.0,6.0,3.0,4.0,4.0,3.0,1.0,4.0,6.0,2.0,9.0,2.0,4.0,7.0,3.0,1.0,1.0,1.0,4.0,10.0,1.0,4.0,3.0,9.0,6.0,2.0,12.0,9.0,0.0,3.0,0.0,3.0,6.0,1.0,11.0,0.0,4.0,4.0,5.0,2.0,1.0,0.0,5.0,8.0,3.0,3.0,12.0,2.0,2.0,7.0,4.0,5.0,7.0,1.0,10.0,3.0,2.0,2.0,8.0,0.0,2.0,3.0,7.0,12.0,5.0,6.0,3.0,4.0,2.0,2.0,6.0,3.0,4.0,3.0,4.0,6.0,6.0,5.0,8.0,0.0,2.0,3.0,8.0,4.0,10.0,8.0,7.0,2.0,1.0,5.0,7.0,5.0,3.0,0.0,2.0,1.0,5.0,3.0,4.0,3.0,6.0,1.0,1.0,3.0,2.0,3.0,7.0,1.0,1.0,2.0,9.0,3.0,1.0,3.0,2.0,11.0,8.0,2.0,5.0,4.0,2.0,5.0,8.0,7.0,5.0,6.0,5.0,4.0,0.0,3.0,0.0,1.0,4.0,5.0,4.0,4.0,3.0,3.0,3.0,6.0,0.0,2.0,2.0,1.0,9.0,9.0,0.0,2.0,2.0,8.0,4.0,4.0,4.0,2.0,4.0,5.0,8.0,2.0,2.0,1.0,3.0,4.0,4.0,5.0,4.0,6.0,5.0,3.0,2.0,3.0,2.0,0.0,9.0,6.0,6.0,10.0,7.0,2.0,3.0,2.0,6.0,2.0,2.0,8.0,7.0,2.0,3.0,2.0,2.0,2.0,7.0,1.0,3.0,2.0,1.0,3.0,9.0,5.0,2.0,3.0,5.0,0.0,5.0,11.0,3.0,1.0,5.0,7.0,3.0,7.0,3.0,3.0,1.0,1.0,5.0,5.0,3.0,3.0,7.0,4.0,3.0,4.0,3.0,4.0,5.0,6.0,5.0,3.0,9.0,3.0,2.0,4.0,3.0,5.0,3.0,2.0,0.0,12.0,4.0,3.0,2.0,2.0,6.0,7.0,5.0,10.0,4.0,7.0,1.0,3.0,12.0,10.0,5.0,12.0,3.0,12.0,2.0,12.0,5.0,2.0,4.0,5.0,6.0,2.0,4.0,6.0,12.0,1.0,2.0,8.0,7.0,1.0,4.0,12.0,6.0,2.0,9.0,0.0,5.0,3.0,5.0,5.0,3.0,5.0,3.0,6.0,5.0,3.0,6.0,6.0,3.0,4.0,5.0,9.0,7.0,4.0,4.0,2.0,5.0,5.0,3.0,5.0,4.0,7.0,0.0,2.0,6.0,7.0,3.0,7.0,8.0,4.0,4.0,5.0,4.0,1.0],\"yaxis\":\"y\",\"type\":\"scattergl\"}],                        {\"template\":{\"data\":{\"histogram2dcontour\":[{\"type\":\"histogram2dcontour\",\"colorbar\":{\"outlinewidth\":0,\"ticks\":\"\"},\"colorscale\":[[0.0,\"#0d0887\"],[0.1111111111111111,\"#46039f\"],[0.2222222222222222,\"#7201a8\"],[0.3333333333333333,\"#9c179e\"],[0.4444444444444444,\"#bd3786\"],[0.5555555555555556,\"#d8576b\"],[0.6666666666666666,\"#ed7953\"],[0.7777777777777778,\"#fb9f3a\"],[0.8888888888888888,\"#fdca26\"],[1.0,\"#f0f921\"]]}],\"choropleth\":[{\"type\":\"choropleth\",\"colorbar\":{\"outlinewidth\":0,\"ticks\":\"\"}}],\"histogram2d\":[{\"type\":\"histogram2d\",\"colorbar\":{\"outlinewidth\":0,\"ticks\":\"\"},\"colorscale\":[[0.0,\"#0d0887\"],[0.1111111111111111,\"#46039f\"],[0.2222222222222222,\"#7201a8\"],[0.3333333333333333,\"#9c179e\"],[0.4444444444444444,\"#bd3786\"],[0.5555555555555556,\"#d8576b\"],[0.6666666666666666,\"#ed7953\"],[0.7777777777777778,\"#fb9f3a\"],[0.8888888888888888,\"#fdca26\"],[1.0,\"#f0f921\"]]}],\"heatmap\":[{\"type\":\"heatmap\",\"colorbar\":{\"outlinewidth\":0,\"ticks\":\"\"},\"colorscale\":[[0.0,\"#0d0887\"],[0.1111111111111111,\"#46039f\"],[0.2222222222222222,\"#7201a8\"],[0.3333333333333333,\"#9c179e\"],[0.4444444444444444,\"#bd3786\"],[0.5555555555555556,\"#d8576b\"],[0.6666666666666666,\"#ed7953\"],[0.7777777777777778,\"#fb9f3a\"],[0.8888888888888888,\"#fdca26\"],[1.0,\"#f0f921\"]]}],\"heatmapgl\":[{\"type\":\"heatmapgl\",\"colorbar\":{\"outlinewidth\":0,\"ticks\":\"\"},\"colorscale\":[[0.0,\"#0d0887\"],[0.1111111111111111,\"#46039f\"],[0.2222222222222222,\"#7201a8\"],[0.3333333333333333,\"#9c179e\"],[0.4444444444444444,\"#bd3786\"],[0.5555555555555556,\"#d8576b\"],[0.6666666666666666,\"#ed7953\"],[0.7777777777777778,\"#fb9f3a\"],[0.8888888888888888,\"#fdca26\"],[1.0,\"#f0f921\"]]}],\"contourcarpet\":[{\"type\":\"contourcarpet\",\"colorbar\":{\"outlinewidth\":0,\"ticks\":\"\"}}],\"contour\":[{\"type\":\"contour\",\"colorbar\":{\"outlinewidth\":0,\"ticks\":\"\"},\"colorscale\":[[0.0,\"#0d0887\"],[0.1111111111111111,\"#46039f\"],[0.2222222222222222,\"#7201a8\"],[0.3333333333333333,\"#9c179e\"],[0.4444444444444444,\"#bd3786\"],[0.5555555555555556,\"#d8576b\"],[0.6666666666666666,\"#ed7953\"],[0.7777777777777778,\"#fb9f3a\"],[0.8888888888888888,\"#fdca26\"],[1.0,\"#f0f921\"]]}],\"surface\":[{\"type\":\"surface\",\"colorbar\":{\"outlinewidth\":0,\"ticks\":\"\"},\"colorscale\":[[0.0,\"#0d0887\"],[0.1111111111111111,\"#46039f\"],[0.2222222222222222,\"#7201a8\"],[0.3333333333333333,\"#9c179e\"],[0.4444444444444444,\"#bd3786\"],[0.5555555555555556,\"#d8576b\"],[0.6666666666666666,\"#ed7953\"],[0.7777777777777778,\"#fb9f3a\"],[0.8888888888888888,\"#fdca26\"],[1.0,\"#f0f921\"]]}],\"mesh3d\":[{\"type\":\"mesh3d\",\"colorbar\":{\"outlinewidth\":0,\"ticks\":\"\"}}],\"scatter\":[{\"fillpattern\":{\"fillmode\":\"overlay\",\"size\":10,\"solidity\":0.2},\"type\":\"scatter\"}],\"parcoords\":[{\"type\":\"parcoords\",\"line\":{\"colorbar\":{\"outlinewidth\":0,\"ticks\":\"\"}}}],\"scatterpolargl\":[{\"type\":\"scatterpolargl\",\"marker\":{\"colorbar\":{\"outlinewidth\":0,\"ticks\":\"\"}}}],\"bar\":[{\"error_x\":{\"color\":\"#2a3f5f\"},\"error_y\":{\"color\":\"#2a3f5f\"},\"marker\":{\"line\":{\"color\":\"#E5ECF6\",\"width\":0.5},\"pattern\":{\"fillmode\":\"overlay\",\"size\":10,\"solidity\":0.2}},\"type\":\"bar\"}],\"scattergeo\":[{\"type\":\"scattergeo\",\"marker\":{\"colorbar\":{\"outlinewidth\":0,\"ticks\":\"\"}}}],\"scatterpolar\":[{\"type\":\"scatterpolar\",\"marker\":{\"colorbar\":{\"outlinewidth\":0,\"ticks\":\"\"}}}],\"histogram\":[{\"marker\":{\"pattern\":{\"fillmode\":\"overlay\",\"size\":10,\"solidity\":0.2}},\"type\":\"histogram\"}],\"scattergl\":[{\"type\":\"scattergl\",\"marker\":{\"colorbar\":{\"outlinewidth\":0,\"ticks\":\"\"}}}],\"scatter3d\":[{\"type\":\"scatter3d\",\"line\":{\"colorbar\":{\"outlinewidth\":0,\"ticks\":\"\"}},\"marker\":{\"colorbar\":{\"outlinewidth\":0,\"ticks\":\"\"}}}],\"scattermapbox\":[{\"type\":\"scattermapbox\",\"marker\":{\"colorbar\":{\"outlinewidth\":0,\"ticks\":\"\"}}}],\"scatterternary\":[{\"type\":\"scatterternary\",\"marker\":{\"colorbar\":{\"outlinewidth\":0,\"ticks\":\"\"}}}],\"scattercarpet\":[{\"type\":\"scattercarpet\",\"marker\":{\"colorbar\":{\"outlinewidth\":0,\"ticks\":\"\"}}}],\"carpet\":[{\"aaxis\":{\"endlinecolor\":\"#2a3f5f\",\"gridcolor\":\"white\",\"linecolor\":\"white\",\"minorgridcolor\":\"white\",\"startlinecolor\":\"#2a3f5f\"},\"baxis\":{\"endlinecolor\":\"#2a3f5f\",\"gridcolor\":\"white\",\"linecolor\":\"white\",\"minorgridcolor\":\"white\",\"startlinecolor\":\"#2a3f5f\"},\"type\":\"carpet\"}],\"table\":[{\"cells\":{\"fill\":{\"color\":\"#EBF0F8\"},\"line\":{\"color\":\"white\"}},\"header\":{\"fill\":{\"color\":\"#C8D4E3\"},\"line\":{\"color\":\"white\"}},\"type\":\"table\"}],\"barpolar\":[{\"marker\":{\"line\":{\"color\":\"#E5ECF6\",\"width\":0.5},\"pattern\":{\"fillmode\":\"overlay\",\"size\":10,\"solidity\":0.2}},\"type\":\"barpolar\"}],\"pie\":[{\"automargin\":true,\"type\":\"pie\"}]},\"layout\":{\"autotypenumbers\":\"strict\",\"colorway\":[\"#636efa\",\"#EF553B\",\"#00cc96\",\"#ab63fa\",\"#FFA15A\",\"#19d3f3\",\"#FF6692\",\"#B6E880\",\"#FF97FF\",\"#FECB52\"],\"font\":{\"color\":\"#2a3f5f\"},\"hovermode\":\"closest\",\"hoverlabel\":{\"align\":\"left\"},\"paper_bgcolor\":\"white\",\"plot_bgcolor\":\"#E5ECF6\",\"polar\":{\"bgcolor\":\"#E5ECF6\",\"angularaxis\":{\"gridcolor\":\"white\",\"linecolor\":\"white\",\"ticks\":\"\"},\"radialaxis\":{\"gridcolor\":\"white\",\"linecolor\":\"white\",\"ticks\":\"\"}},\"ternary\":{\"bgcolor\":\"#E5ECF6\",\"aaxis\":{\"gridcolor\":\"white\",\"linecolor\":\"white\",\"ticks\":\"\"},\"baxis\":{\"gridcolor\":\"white\",\"linecolor\":\"white\",\"ticks\":\"\"},\"caxis\":{\"gridcolor\":\"white\",\"linecolor\":\"white\",\"ticks\":\"\"}},\"coloraxis\":{\"colorbar\":{\"outlinewidth\":0,\"ticks\":\"\"}},\"colorscale\":{\"sequential\":[[0.0,\"#0d0887\"],[0.1111111111111111,\"#46039f\"],[0.2222222222222222,\"#7201a8\"],[0.3333333333333333,\"#9c179e\"],[0.4444444444444444,\"#bd3786\"],[0.5555555555555556,\"#d8576b\"],[0.6666666666666666,\"#ed7953\"],[0.7777777777777778,\"#fb9f3a\"],[0.8888888888888888,\"#fdca26\"],[1.0,\"#f0f921\"]],\"sequentialminus\":[[0.0,\"#0d0887\"],[0.1111111111111111,\"#46039f\"],[0.2222222222222222,\"#7201a8\"],[0.3333333333333333,\"#9c179e\"],[0.4444444444444444,\"#bd3786\"],[0.5555555555555556,\"#d8576b\"],[0.6666666666666666,\"#ed7953\"],[0.7777777777777778,\"#fb9f3a\"],[0.8888888888888888,\"#fdca26\"],[1.0,\"#f0f921\"]],\"diverging\":[[0,\"#8e0152\"],[0.1,\"#c51b7d\"],[0.2,\"#de77ae\"],[0.3,\"#f1b6da\"],[0.4,\"#fde0ef\"],[0.5,\"#f7f7f7\"],[0.6,\"#e6f5d0\"],[0.7,\"#b8e186\"],[0.8,\"#7fbc41\"],[0.9,\"#4d9221\"],[1,\"#276419\"]]},\"xaxis\":{\"gridcolor\":\"white\",\"linecolor\":\"white\",\"ticks\":\"\",\"title\":{\"standoff\":15},\"zerolinecolor\":\"white\",\"automargin\":true,\"zerolinewidth\":2},\"yaxis\":{\"gridcolor\":\"white\",\"linecolor\":\"white\",\"ticks\":\"\",\"title\":{\"standoff\":15},\"zerolinecolor\":\"white\",\"automargin\":true,\"zerolinewidth\":2},\"scene\":{\"xaxis\":{\"backgroundcolor\":\"#E5ECF6\",\"gridcolor\":\"white\",\"linecolor\":\"white\",\"showbackground\":true,\"ticks\":\"\",\"zerolinecolor\":\"white\",\"gridwidth\":2},\"yaxis\":{\"backgroundcolor\":\"#E5ECF6\",\"gridcolor\":\"white\",\"linecolor\":\"white\",\"showbackground\":true,\"ticks\":\"\",\"zerolinecolor\":\"white\",\"gridwidth\":2},\"zaxis\":{\"backgroundcolor\":\"#E5ECF6\",\"gridcolor\":\"white\",\"linecolor\":\"white\",\"showbackground\":true,\"ticks\":\"\",\"zerolinecolor\":\"white\",\"gridwidth\":2}},\"shapedefaults\":{\"line\":{\"color\":\"#2a3f5f\"}},\"annotationdefaults\":{\"arrowcolor\":\"#2a3f5f\",\"arrowhead\":0,\"arrowwidth\":1},\"geo\":{\"bgcolor\":\"white\",\"landcolor\":\"#E5ECF6\",\"subunitcolor\":\"white\",\"showland\":true,\"showlakes\":true,\"lakecolor\":\"white\"},\"title\":{\"x\":0.05},\"mapbox\":{\"style\":\"light\"}}},\"xaxis\":{\"anchor\":\"y\",\"domain\":[0.0,1.0],\"title\":{\"text\":\"num_conditions\"}},\"yaxis\":{\"anchor\":\"x\",\"domain\":[0.0,1.0],\"title\":{\"text\":\"num_meds\"}},\"coloraxis\":{\"colorbar\":{\"title\":{\"text\":\"age\"}},\"colorscale\":[[0.0,\"#0d0887\"],[0.1111111111111111,\"#46039f\"],[0.2222222222222222,\"#7201a8\"],[0.3333333333333333,\"#9c179e\"],[0.4444444444444444,\"#bd3786\"],[0.5555555555555556,\"#d8576b\"],[0.6666666666666666,\"#ed7953\"],[0.7777777777777778,\"#fb9f3a\"],[0.8888888888888888,\"#fdca26\"],[1.0,\"#f0f921\"]]},\"legend\":{\"tracegroupgap\":0,\"itemsizing\":\"constant\"},\"title\":{\"text\":\"Conditions vs Medications\"}},                        {\"responsive\": true}                    ).then(function(){\n",
              "                            \n",
              "var gd = document.getElementById('597c62f7-4cd4-4d8a-8c05-4f1bf9cbe6ec');\n",
              "var x = new MutationObserver(function (mutations, observer) {{\n",
              "        var display = window.getComputedStyle(gd).display;\n",
              "        if (!display || display === 'none') {{\n",
              "            console.log([gd, 'removed!']);\n",
              "            Plotly.purge(gd);\n",
              "            observer.disconnect();\n",
              "        }}\n",
              "}});\n",
              "\n",
              "// Listen for the removal of the full notebook cells\n",
              "var notebookContainer = gd.closest('#notebook-container');\n",
              "if (notebookContainer) {{\n",
              "    x.observe(notebookContainer, {childList: true});\n",
              "}}\n",
              "\n",
              "// Listen for the clearing of the current output cell\n",
              "var outputEl = gd.closest('.output');\n",
              "if (outputEl) {{\n",
              "    x.observe(outputEl, {childList: true});\n",
              "}}\n",
              "\n",
              "                        })                };                            </script>        </div>\n",
              "</body>\n",
              "</html>"
            ]
          },
          "metadata": {}
        }
      ]
    },
    {
      "cell_type": "markdown",
      "source": [
        "**Why choose this plot?**\n",
        "\n",
        "Bubble chart visualizes the relationship between conditions and medications, with bubble size and color encoding age to highlight how treatment complexity varies across age groups.\n",
        "\n",
        "**Insight:**\n",
        "\n",
        "Older patients (larger, darker bubbles) tend to have more conditions and medications, confirming that polypharmacy correlates strongly with both age and disease burden.\n",
        "\n",
        "----------------------"
      ],
      "metadata": {
        "id": "TWL8_LKVTCqO"
      }
    },
    {
      "cell_type": "markdown",
      "source": [
        "## **18.  Correlation Heatmap**"
      ],
      "metadata": {
        "id": "lkyTuny1TIDA"
      }
    },
    {
      "cell_type": "code",
      "source": [
        "\n",
        "corr = df_plot[['age','total_claims','num_conditions','num_meds','num_encounters','num_procedures','num_observations']].corr()\n",
        "px.imshow(corr, text_auto=True, color_continuous_scale=\"RdBu_r\", title=\"Correlation Heatmap\")"
      ],
      "metadata": {
        "colab": {
          "base_uri": "https://localhost:8080/",
          "height": 542
        },
        "id": "GNFobiW079je",
        "outputId": "e543ba1c-5b7f-4fec-ec13-d161367c6590"
      },
      "execution_count": 38,
      "outputs": [
        {
          "output_type": "display_data",
          "data": {
            "text/html": [
              "<html>\n",
              "<head><meta charset=\"utf-8\" /></head>\n",
              "<body>\n",
              "    <div>            <script src=\"https://cdnjs.cloudflare.com/ajax/libs/mathjax/2.7.5/MathJax.js?config=TeX-AMS-MML_SVG\"></script><script type=\"text/javascript\">if (window.MathJax && window.MathJax.Hub && window.MathJax.Hub.Config) {window.MathJax.Hub.Config({SVG: {font: \"STIX-Web\"}});}</script>                <script type=\"text/javascript\">window.PlotlyConfig = {MathJaxConfig: 'local'};</script>\n",
              "        <script charset=\"utf-8\" src=\"https://cdn.plot.ly/plotly-2.35.2.min.js\"></script>                <div id=\"da1a35bb-979b-46d5-add0-31a1860b958f\" class=\"plotly-graph-div\" style=\"height:525px; width:100%;\"></div>            <script type=\"text/javascript\">                                    window.PLOTLYENV=window.PLOTLYENV || {};                                    if (document.getElementById(\"da1a35bb-979b-46d5-add0-31a1860b958f\")) {                    Plotly.newPlot(                        \"da1a35bb-979b-46d5-add0-31a1860b958f\",                        [{\"coloraxis\":\"coloraxis\",\"name\":\"0\",\"texttemplate\":\"%{z}\",\"x\":[\"age\",\"total_claims\",\"num_conditions\",\"num_meds\",\"num_encounters\",\"num_procedures\",\"num_observations\"],\"y\":[\"age\",\"total_claims\",\"num_conditions\",\"num_meds\",\"num_encounters\",\"num_procedures\",\"num_observations\"],\"z\":[[1.0,-0.1735499343631989,0.289821812212687,0.09172018011829458,-0.17357575806947081,-0.07189532388749513,0.2607248662214166],[-0.1735499343631989,1.0,0.4778724087549971,0.5119998915383607,0.9999969287312651,0.8933284835289945,0.454561775307284],[0.289821812212687,0.4778724087549971,1.0,0.5755704329964632,0.47788077840534865,0.4421703558288565,0.40871515301035266],[0.09172018011829458,0.5119998915383607,0.5755704329964632,1.0,0.5121275483142069,0.4933754239120624,0.25058178812380233],[-0.17357575806947081,0.9999969287312651,0.47788077840534865,0.5121275483142069,1.0,0.8932849106632579,0.454500572736981],[-0.07189532388749513,0.8933284835289945,0.4421703558288565,0.4933754239120624,0.8932849106632579,1.0,0.48716162686323006],[0.2607248662214166,0.454561775307284,0.40871515301035266,0.25058178812380233,0.454500572736981,0.48716162686323006,1.0]],\"type\":\"heatmap\",\"xaxis\":\"x\",\"yaxis\":\"y\",\"hovertemplate\":\"x: %{x}\\u003cbr\\u003ey: %{y}\\u003cbr\\u003ecolor: %{z}\\u003cextra\\u003e\\u003c\\u002fextra\\u003e\"}],                        {\"template\":{\"data\":{\"histogram2dcontour\":[{\"type\":\"histogram2dcontour\",\"colorbar\":{\"outlinewidth\":0,\"ticks\":\"\"},\"colorscale\":[[0.0,\"#0d0887\"],[0.1111111111111111,\"#46039f\"],[0.2222222222222222,\"#7201a8\"],[0.3333333333333333,\"#9c179e\"],[0.4444444444444444,\"#bd3786\"],[0.5555555555555556,\"#d8576b\"],[0.6666666666666666,\"#ed7953\"],[0.7777777777777778,\"#fb9f3a\"],[0.8888888888888888,\"#fdca26\"],[1.0,\"#f0f921\"]]}],\"choropleth\":[{\"type\":\"choropleth\",\"colorbar\":{\"outlinewidth\":0,\"ticks\":\"\"}}],\"histogram2d\":[{\"type\":\"histogram2d\",\"colorbar\":{\"outlinewidth\":0,\"ticks\":\"\"},\"colorscale\":[[0.0,\"#0d0887\"],[0.1111111111111111,\"#46039f\"],[0.2222222222222222,\"#7201a8\"],[0.3333333333333333,\"#9c179e\"],[0.4444444444444444,\"#bd3786\"],[0.5555555555555556,\"#d8576b\"],[0.6666666666666666,\"#ed7953\"],[0.7777777777777778,\"#fb9f3a\"],[0.8888888888888888,\"#fdca26\"],[1.0,\"#f0f921\"]]}],\"heatmap\":[{\"type\":\"heatmap\",\"colorbar\":{\"outlinewidth\":0,\"ticks\":\"\"},\"colorscale\":[[0.0,\"#0d0887\"],[0.1111111111111111,\"#46039f\"],[0.2222222222222222,\"#7201a8\"],[0.3333333333333333,\"#9c179e\"],[0.4444444444444444,\"#bd3786\"],[0.5555555555555556,\"#d8576b\"],[0.6666666666666666,\"#ed7953\"],[0.7777777777777778,\"#fb9f3a\"],[0.8888888888888888,\"#fdca26\"],[1.0,\"#f0f921\"]]}],\"heatmapgl\":[{\"type\":\"heatmapgl\",\"colorbar\":{\"outlinewidth\":0,\"ticks\":\"\"},\"colorscale\":[[0.0,\"#0d0887\"],[0.1111111111111111,\"#46039f\"],[0.2222222222222222,\"#7201a8\"],[0.3333333333333333,\"#9c179e\"],[0.4444444444444444,\"#bd3786\"],[0.5555555555555556,\"#d8576b\"],[0.6666666666666666,\"#ed7953\"],[0.7777777777777778,\"#fb9f3a\"],[0.8888888888888888,\"#fdca26\"],[1.0,\"#f0f921\"]]}],\"contourcarpet\":[{\"type\":\"contourcarpet\",\"colorbar\":{\"outlinewidth\":0,\"ticks\":\"\"}}],\"contour\":[{\"type\":\"contour\",\"colorbar\":{\"outlinewidth\":0,\"ticks\":\"\"},\"colorscale\":[[0.0,\"#0d0887\"],[0.1111111111111111,\"#46039f\"],[0.2222222222222222,\"#7201a8\"],[0.3333333333333333,\"#9c179e\"],[0.4444444444444444,\"#bd3786\"],[0.5555555555555556,\"#d8576b\"],[0.6666666666666666,\"#ed7953\"],[0.7777777777777778,\"#fb9f3a\"],[0.8888888888888888,\"#fdca26\"],[1.0,\"#f0f921\"]]}],\"surface\":[{\"type\":\"surface\",\"colorbar\":{\"outlinewidth\":0,\"ticks\":\"\"},\"colorscale\":[[0.0,\"#0d0887\"],[0.1111111111111111,\"#46039f\"],[0.2222222222222222,\"#7201a8\"],[0.3333333333333333,\"#9c179e\"],[0.4444444444444444,\"#bd3786\"],[0.5555555555555556,\"#d8576b\"],[0.6666666666666666,\"#ed7953\"],[0.7777777777777778,\"#fb9f3a\"],[0.8888888888888888,\"#fdca26\"],[1.0,\"#f0f921\"]]}],\"mesh3d\":[{\"type\":\"mesh3d\",\"colorbar\":{\"outlinewidth\":0,\"ticks\":\"\"}}],\"scatter\":[{\"fillpattern\":{\"fillmode\":\"overlay\",\"size\":10,\"solidity\":0.2},\"type\":\"scatter\"}],\"parcoords\":[{\"type\":\"parcoords\",\"line\":{\"colorbar\":{\"outlinewidth\":0,\"ticks\":\"\"}}}],\"scatterpolargl\":[{\"type\":\"scatterpolargl\",\"marker\":{\"colorbar\":{\"outlinewidth\":0,\"ticks\":\"\"}}}],\"bar\":[{\"error_x\":{\"color\":\"#2a3f5f\"},\"error_y\":{\"color\":\"#2a3f5f\"},\"marker\":{\"line\":{\"color\":\"#E5ECF6\",\"width\":0.5},\"pattern\":{\"fillmode\":\"overlay\",\"size\":10,\"solidity\":0.2}},\"type\":\"bar\"}],\"scattergeo\":[{\"type\":\"scattergeo\",\"marker\":{\"colorbar\":{\"outlinewidth\":0,\"ticks\":\"\"}}}],\"scatterpolar\":[{\"type\":\"scatterpolar\",\"marker\":{\"colorbar\":{\"outlinewidth\":0,\"ticks\":\"\"}}}],\"histogram\":[{\"marker\":{\"pattern\":{\"fillmode\":\"overlay\",\"size\":10,\"solidity\":0.2}},\"type\":\"histogram\"}],\"scattergl\":[{\"type\":\"scattergl\",\"marker\":{\"colorbar\":{\"outlinewidth\":0,\"ticks\":\"\"}}}],\"scatter3d\":[{\"type\":\"scatter3d\",\"line\":{\"colorbar\":{\"outlinewidth\":0,\"ticks\":\"\"}},\"marker\":{\"colorbar\":{\"outlinewidth\":0,\"ticks\":\"\"}}}],\"scattermapbox\":[{\"type\":\"scattermapbox\",\"marker\":{\"colorbar\":{\"outlinewidth\":0,\"ticks\":\"\"}}}],\"scatterternary\":[{\"type\":\"scatterternary\",\"marker\":{\"colorbar\":{\"outlinewidth\":0,\"ticks\":\"\"}}}],\"scattercarpet\":[{\"type\":\"scattercarpet\",\"marker\":{\"colorbar\":{\"outlinewidth\":0,\"ticks\":\"\"}}}],\"carpet\":[{\"aaxis\":{\"endlinecolor\":\"#2a3f5f\",\"gridcolor\":\"white\",\"linecolor\":\"white\",\"minorgridcolor\":\"white\",\"startlinecolor\":\"#2a3f5f\"},\"baxis\":{\"endlinecolor\":\"#2a3f5f\",\"gridcolor\":\"white\",\"linecolor\":\"white\",\"minorgridcolor\":\"white\",\"startlinecolor\":\"#2a3f5f\"},\"type\":\"carpet\"}],\"table\":[{\"cells\":{\"fill\":{\"color\":\"#EBF0F8\"},\"line\":{\"color\":\"white\"}},\"header\":{\"fill\":{\"color\":\"#C8D4E3\"},\"line\":{\"color\":\"white\"}},\"type\":\"table\"}],\"barpolar\":[{\"marker\":{\"line\":{\"color\":\"#E5ECF6\",\"width\":0.5},\"pattern\":{\"fillmode\":\"overlay\",\"size\":10,\"solidity\":0.2}},\"type\":\"barpolar\"}],\"pie\":[{\"automargin\":true,\"type\":\"pie\"}]},\"layout\":{\"autotypenumbers\":\"strict\",\"colorway\":[\"#636efa\",\"#EF553B\",\"#00cc96\",\"#ab63fa\",\"#FFA15A\",\"#19d3f3\",\"#FF6692\",\"#B6E880\",\"#FF97FF\",\"#FECB52\"],\"font\":{\"color\":\"#2a3f5f\"},\"hovermode\":\"closest\",\"hoverlabel\":{\"align\":\"left\"},\"paper_bgcolor\":\"white\",\"plot_bgcolor\":\"#E5ECF6\",\"polar\":{\"bgcolor\":\"#E5ECF6\",\"angularaxis\":{\"gridcolor\":\"white\",\"linecolor\":\"white\",\"ticks\":\"\"},\"radialaxis\":{\"gridcolor\":\"white\",\"linecolor\":\"white\",\"ticks\":\"\"}},\"ternary\":{\"bgcolor\":\"#E5ECF6\",\"aaxis\":{\"gridcolor\":\"white\",\"linecolor\":\"white\",\"ticks\":\"\"},\"baxis\":{\"gridcolor\":\"white\",\"linecolor\":\"white\",\"ticks\":\"\"},\"caxis\":{\"gridcolor\":\"white\",\"linecolor\":\"white\",\"ticks\":\"\"}},\"coloraxis\":{\"colorbar\":{\"outlinewidth\":0,\"ticks\":\"\"}},\"colorscale\":{\"sequential\":[[0.0,\"#0d0887\"],[0.1111111111111111,\"#46039f\"],[0.2222222222222222,\"#7201a8\"],[0.3333333333333333,\"#9c179e\"],[0.4444444444444444,\"#bd3786\"],[0.5555555555555556,\"#d8576b\"],[0.6666666666666666,\"#ed7953\"],[0.7777777777777778,\"#fb9f3a\"],[0.8888888888888888,\"#fdca26\"],[1.0,\"#f0f921\"]],\"sequentialminus\":[[0.0,\"#0d0887\"],[0.1111111111111111,\"#46039f\"],[0.2222222222222222,\"#7201a8\"],[0.3333333333333333,\"#9c179e\"],[0.4444444444444444,\"#bd3786\"],[0.5555555555555556,\"#d8576b\"],[0.6666666666666666,\"#ed7953\"],[0.7777777777777778,\"#fb9f3a\"],[0.8888888888888888,\"#fdca26\"],[1.0,\"#f0f921\"]],\"diverging\":[[0,\"#8e0152\"],[0.1,\"#c51b7d\"],[0.2,\"#de77ae\"],[0.3,\"#f1b6da\"],[0.4,\"#fde0ef\"],[0.5,\"#f7f7f7\"],[0.6,\"#e6f5d0\"],[0.7,\"#b8e186\"],[0.8,\"#7fbc41\"],[0.9,\"#4d9221\"],[1,\"#276419\"]]},\"xaxis\":{\"gridcolor\":\"white\",\"linecolor\":\"white\",\"ticks\":\"\",\"title\":{\"standoff\":15},\"zerolinecolor\":\"white\",\"automargin\":true,\"zerolinewidth\":2},\"yaxis\":{\"gridcolor\":\"white\",\"linecolor\":\"white\",\"ticks\":\"\",\"title\":{\"standoff\":15},\"zerolinecolor\":\"white\",\"automargin\":true,\"zerolinewidth\":2},\"scene\":{\"xaxis\":{\"backgroundcolor\":\"#E5ECF6\",\"gridcolor\":\"white\",\"linecolor\":\"white\",\"showbackground\":true,\"ticks\":\"\",\"zerolinecolor\":\"white\",\"gridwidth\":2},\"yaxis\":{\"backgroundcolor\":\"#E5ECF6\",\"gridcolor\":\"white\",\"linecolor\":\"white\",\"showbackground\":true,\"ticks\":\"\",\"zerolinecolor\":\"white\",\"gridwidth\":2},\"zaxis\":{\"backgroundcolor\":\"#E5ECF6\",\"gridcolor\":\"white\",\"linecolor\":\"white\",\"showbackground\":true,\"ticks\":\"\",\"zerolinecolor\":\"white\",\"gridwidth\":2}},\"shapedefaults\":{\"line\":{\"color\":\"#2a3f5f\"}},\"annotationdefaults\":{\"arrowcolor\":\"#2a3f5f\",\"arrowhead\":0,\"arrowwidth\":1},\"geo\":{\"bgcolor\":\"white\",\"landcolor\":\"#E5ECF6\",\"subunitcolor\":\"white\",\"showland\":true,\"showlakes\":true,\"lakecolor\":\"white\"},\"title\":{\"x\":0.05},\"mapbox\":{\"style\":\"light\"}}},\"xaxis\":{\"anchor\":\"y\",\"domain\":[0.0,1.0],\"scaleanchor\":\"y\",\"constrain\":\"domain\"},\"yaxis\":{\"anchor\":\"x\",\"domain\":[0.0,1.0],\"autorange\":\"reversed\",\"constrain\":\"domain\"},\"coloraxis\":{\"colorscale\":[[0.0,\"rgb(5,48,97)\"],[0.1,\"rgb(33,102,172)\"],[0.2,\"rgb(67,147,195)\"],[0.3,\"rgb(146,197,222)\"],[0.4,\"rgb(209,229,240)\"],[0.5,\"rgb(247,247,247)\"],[0.6,\"rgb(253,219,199)\"],[0.7,\"rgb(244,165,130)\"],[0.8,\"rgb(214,96,77)\"],[0.9,\"rgb(178,24,43)\"],[1.0,\"rgb(103,0,31)\"]]},\"title\":{\"text\":\"Correlation Heatmap\"}},                        {\"responsive\": true}                    ).then(function(){\n",
              "                            \n",
              "var gd = document.getElementById('da1a35bb-979b-46d5-add0-31a1860b958f');\n",
              "var x = new MutationObserver(function (mutations, observer) {{\n",
              "        var display = window.getComputedStyle(gd).display;\n",
              "        if (!display || display === 'none') {{\n",
              "            console.log([gd, 'removed!']);\n",
              "            Plotly.purge(gd);\n",
              "            observer.disconnect();\n",
              "        }}\n",
              "}});\n",
              "\n",
              "// Listen for the removal of the full notebook cells\n",
              "var notebookContainer = gd.closest('#notebook-container');\n",
              "if (notebookContainer) {{\n",
              "    x.observe(notebookContainer, {childList: true});\n",
              "}}\n",
              "\n",
              "// Listen for the clearing of the current output cell\n",
              "var outputEl = gd.closest('.output');\n",
              "if (outputEl) {{\n",
              "    x.observe(outputEl, {childList: true});\n",
              "}}\n",
              "\n",
              "                        })                };                            </script>        </div>\n",
              "</body>\n",
              "</html>"
            ]
          },
          "metadata": {}
        }
      ]
    },
    {
      "cell_type": "markdown",
      "source": [
        "**Why choose this plot?**\n",
        "\n",
        "Correlation heatmap provides a comprehensive overview of pairwise relationships among numeric features, highlighting key associations to guide modelling and feature selection.\n",
        "\n",
        "**Insight:**\n",
        "\n",
        "Total encounters and procedures are almost perfectly correlated (0.99), indicating potential redundancy, while age negatively correlates with encounters and claims, suggesting older patients have fewer but costlier encounters.\n",
        "\n",
        "----------------------"
      ],
      "metadata": {
        "id": "dRDdOEk1UESk"
      }
    },
    {
      "cell_type": "markdown",
      "source": [
        "## **19. Parallel Categories: Conditions, Meds, Encounters, and Claims**"
      ],
      "metadata": {
        "id": "CRSTOgnjUPac"
      }
    },
    {
      "cell_type": "code",
      "source": [
        "import plotly.express as px\n",
        "\n",
        "fig = px.parallel_categories(\n",
        "    df_plot,\n",
        "    dimensions=[\"num_conditions\", \"num_meds\", \"num_encounters\", \"total_claims\"],\n",
        "    color=\"total_claims\",\n",
        "    labels={\n",
        "        \"num_conditions\": \"Conditions\",\n",
        "        \"num_meds\": \"Medications\",\n",
        "        \"num_encounters\": \"Encounters\",\n",
        "        \"total_claims\": \"Total Claims\"\n",
        "    },\n",
        "    title=\"Parallel Categories: Conditions, Meds, Encounters, and Claims\"\n",
        ")\n",
        "fig.show()\n"
      ],
      "metadata": {
        "colab": {
          "base_uri": "https://localhost:8080/",
          "height": 542
        },
        "id": "g_GZ_oOek1sF",
        "outputId": "543783f5-f99b-4991-bad1-a32475fd420f"
      },
      "execution_count": 39,
      "outputs": [
        {
          "output_type": "display_data",
          "data": {
            "text/html": [
              "<html>\n",
              "<head><meta charset=\"utf-8\" /></head>\n",
              "<body>\n",
              "    <div>            <script src=\"https://cdnjs.cloudflare.com/ajax/libs/mathjax/2.7.5/MathJax.js?config=TeX-AMS-MML_SVG\"></script><script type=\"text/javascript\">if (window.MathJax && window.MathJax.Hub && window.MathJax.Hub.Config) {window.MathJax.Hub.Config({SVG: {font: \"STIX-Web\"}});}</script>                <script type=\"text/javascript\">window.PlotlyConfig = {MathJaxConfig: 'local'};</script>\n",
              "        <script charset=\"utf-8\" src=\"https://cdn.plot.ly/plotly-2.35.2.min.js\"></script>                <div id=\"4d33e5e5-e820-4634-a568-d715039502de\" class=\"plotly-graph-div\" style=\"height:525px; width:100%;\"></div>            <script type=\"text/javascript\">                                    window.PLOTLYENV=window.PLOTLYENV || {};                                    if (document.getElementById(\"4d33e5e5-e820-4634-a568-d715039502de\")) {                    Plotly.newPlot(                        \"4d33e5e5-e820-4634-a568-d715039502de\",                        [{\"dimensions\":[{\"label\":\"Conditions\",\"values\":[0.0,1.0,9.0,10.0,9.0,4.0,11.0,8.0,11.0,5.0,9.0,5.0,4.0,8.0,10.0,7.0,7.0,4.0,2.0,9.0,8.0,6.0,9.0,9.0,3.0,13.0,11.0,6.0,3.0,10.0,2.0,11.0,10.0,12.0,9.0,8.0,4.0,11.0,6.0,2.0,3.0,7.0,5.0,9.0,12.0,7.0,0.0,12.0,4.0,4.0,7.0,5.0,4.0,0.0,7.0,1.0,4.0,3.0,9.0,5.0,5.0,4.0,5.0,2.0,6.0,5.0,9.0,8.0,2.0,6.0,0.0,4.0,4.0,2.0,2.0,2.0,13.0,2.0,7.0,7.0,6.0,2.0,8.0,5.0,10.0,4.0,8.0,5.0,5.0,7.0,2.0,3.0,4.0,3.0,13.0,1.0,5.0,3.0,10.0,3.0,3.0,8.0,2.0,4.0,4.0,3.0,4.0,3.0,3.0,1.0,5.0,3.0,5.0,3.0,3.0,5.0,4.0,0.0,2.0,4.0,3.0,5.0,4.0,1.0,3.0,2.0,2.0,7.0,4.0,1.0,6.0,5.0,0.0,8.0,8.0,4.0,0.0,1.0,4.0,3.0,3.0,1.0,6.0,5.0,5.0,9.0,2.0,4.0,4.0,6.0,1.0,2.0,1.0,2.0,2.0,6.0,4.0,4.0,4.0,4.0,2.0,3.0,2.0,2.0,1.0,3.0,2.0,1.0,8.0,3.0,3.0,1.0,3.0,1.0,4.0,1.0,2.0,9.0,3.0,7.0,4.0,3.0,3.0,7.0,3.0,1.0,4.0,3.0,3.0,2.0,4.0,7.0,7.0,3.0,1.0,3.0,0.0,6.0,5.0,7.0,4.0,8.0,6.0,8.0,4.0,6.0,4.0,6.0,5.0,1.0,6.0,4.0,2.0,6.0,2.0,2.0,2.0,4.0,7.0,8.0,6.0,3.0,6.0,3.0,6.0,2.0,12.0,1.0,0.0,6.0,8.0,6.0,3.0,2.0,0.0,6.0,5.0,1.0,2.0,4.0,6.0,11.0,3.0,1.0,11.0,7.0,5.0,3.0,6.0,1.0,1.0,1.0,1.0,5.0,1.0,6.0,6.0,5.0,7.0,6.0,5.0,5.0,10.0,3.0,2.0,2.0,2.0,4.0,3.0,5.0,2.0,3.0,5.0,6.0,3.0,3.0,2.0,4.0,5.0,6.0,3.0,6.0,8.0,7.0,3.0,3.0,5.0,11.0,1.0,3.0,4.0,5.0,3.0,8.0,4.0,7.0,3.0,2.0,0.0,5.0,2.0,5.0,4.0,2.0,7.0,0.0,6.0,5.0,0.0,2.0,2.0,3.0,5.0,2.0,5.0,5.0,0.0,2.0,1.0,2.0,2.0,3.0,2.0,1.0,3.0,3.0,1.0,5.0,5.0,2.0,0.0,3.0,3.0,1.0,6.0,4.0,4.0,11.0,3.0,3.0,7.0,0.0,2.0,1.0,2.0,13.0,3.0,0.0,0.0,6.0,6.0,6.0,4.0,4.0,1.0,2.0,0.0,1.0,3.0,4.0,5.0,1.0,7.0,1.0,4.0,5.0,2.0,9.0,4.0,13.0,1.0,7.0,5.0,1.0,2.0,3.0,2.0,4.0,1.0,3.0,0.0,4.0,4.0,2.0,2.0,8.0,5.0,1.0,3.0,2.0,4.0,4.0,2.0,5.0,3.0,0.0,4.0,2.0,7.0,4.0,8.0,3.0,3.0,0.0,4.0,2.0,5.0,1.0,3.0,1.0,4.0,0.0,3.0,3.0,2.0,2.0,2.0,6.0,6.0,2.0,5.0,2.0,2.0,2.0,0.0,6.0,3.0,3.0,3.0,3.0,1.0,1.0,3.0,3.0,5.0,2.0,4.0,3.0,0.0,1.0,4.0,1.0,1.0,5.0,0.0,1.0,6.0,2.0,2.0,3.0,3.0,3.0,5.0,3.0,4.0,2.0,0.0,9.0,6.0,4.0,6.0,4.0,7.0,4.0,4.0,13.0,5.0,7.0,10.0,7.0,0.0,0.0,0.0,0.0,0.0,0.0,0.0,0.0,0.0,0.0,0.0,0.0,0.0,0.0,0.0,0.0,0.0,0.0,0.0,0.0,0.0,0.0,0.0,1.0,0.0,3.0,1.0,1.0,0.0,0.0,2.0,0.0,4.0,1.0,3.0,2.0,2.0,1.0,2.0,1.0,1.0,1.0,0.0,2.0,1.0,2.0,2.0,1.0,0.0,3.0,3.0,3.0,1.0,1.0,1.0,2.0,3.0,0.0,1.0,4.0,2.0,3.0,4.0,0.0,4.0,2.0,5.0,2.0,2.0,1.0,2.0,4.0,1.0,1.0,3.0,5.0,4.0,3.0,5.0,3.0,4.0,4.0,3.0,4.0,3.0,3.0,1.0,3.0,2.0,6.0,5.0,1.0,1.0,4.0,3.0,5.0,4.0,7.0,1.0,6.0,3.0,1.0,4.0,7.0,7.0,2.0,6.0,2.0,5.0,5.0,4.0,4.0,3.0,1.0,7.0,4.0,3.0,4.0,3.0,3.0,6.0,2.0,5.0,7.0,6.0,4.0,2.0,5.0,5.0,6.0,3.0,7.0,6.0,4.0,7.0,6.0,3.0,4.0,6.0,4.0,7.0,7.0,6.0,4.0,4.0,4.0,8.0,6.0,5.0,3.0,5.0,4.0,6.0,3.0,11.0,3.0,6.0,10.0,3.0,3.0,3.0,4.0,4.0,6.0,4.0,3.0,4.0,3.0,2.0,3.0,6.0,6.0,1.0,4.0,7.0,4.0,5.0,5.0,3.0,5.0,5.0,9.0,3.0,7.0,10.0,5.0,8.0,7.0,7.0,9.0,5.0,9.0,2.0,8.0,6.0,3.0,3.0,2.0,4.0,1.0,4.0,6.0,2.0,2.0,3.0,6.0,4.0,7.0,4.0,4.0,3.0,3.0,10.0,4.0,3.0,5.0,7.0,2.0,5.0,4.0,7.0,2.0,5.0,5.0,3.0,3.0,2.0,11.0,4.0,2.0,5.0,2.0,2.0,9.0,9.0,5.0,2.0,3.0,2.0,2.0,7.0,5.0,6.0,4.0,4.0,4.0,3.0,2.0,1.0,5.0,4.0,4.0,4.0,6.0,6.0,5.0,5.0,5.0,2.0,6.0,7.0,3.0,4.0,4.0,6.0,3.0,3.0,6.0,3.0,2.0,3.0,1.0,4.0,5.0,3.0,4.0,5.0,2.0,1.0,3.0,3.0,6.0,6.0,2.0,3.0,9.0,6.0,9.0,7.0,8.0,10.0,6.0,7.0,4.0,6.0,3.0,2.0,5.0,7.0,3.0,4.0,2.0,5.0,2.0,4.0,3.0,3.0,4.0,2.0,5.0,2.0,3.0,5.0,4.0,5.0,3.0,1.0,5.0,4.0,7.0,3.0,7.0,3.0,10.0,6.0,3.0,4.0,3.0,6.0,2.0,9.0,6.0,3.0,6.0,3.0,5.0,1.0,11.0,8.0,6.0,2.0,7.0,4.0,8.0,2.0,7.0,5.0,6.0,5.0,7.0,13.0,1.0,9.0,6.0,7.0,5.0,6.0,3.0,7.0,5.0,5.0,5.0,4.0,3.0,7.0,2.0,3.0,4.0,5.0,8.0,5.0,13.0,8.0,2.0,3.0,3.0,4.0,5.0,10.0,8.0,10.0,7.0,11.0,3.0,11.0,4.0,1.0,3.0,5.0,5.0,7.0,7.0,8.0,2.0,3.0,5.0,6.0,7.0,9.0,4.0,6.0,4.0,6.0,11.0,3.0,6.0,10.0,2.0,9.0,3.0,3.0,5.0,6.0,5.0,4.0,8.0,8.0,5.0,6.0,2.0,1.0,5.0,2.0,6.0,4.0,1.0,11.0,6.0,12.0,6.0,1.0,1.0,3.0,8.0,8.0,3.0,11.0,8.0,3.0,11.0,4.0,2.0,4.0,9.0,5.0,5.0,6.0,3.0,3.0,9.0,7.0,5.0,11.0,3.0,5.0,6.0,3.0,11.0,5.0,8.0,6.0,5.0,6.0,3.0,8.0,3.0,4.0,5.0,3.0,1.0,12.0,10.0,7.0,6.0,13.0,3.0,3.0,7.0,3.0,2.0,5.0,5.0,5.0,5.0,5.0,12.0,1.0,9.0,12.0,11.0,4.0,8.0,13.0,9.0,6.0,1.0,3.0,8.0,6.0,6.0,9.0,2.0,6.0,1.0,8.0,6.0,5.0,6.0,2.0,8.0,5.0,7.0,1.0,13.0,3.0,6.0,1.0,2.0,5.0,5.0,2.0,5.0,5.0,4.0,5.0,2.0,4.0,5.0,4.0,8.0,6.0,7.0,3.0,3.0,13.0,9.0,6.0,4.0,9.0,4.0,13.0,3.0,11.0,2.0,3.0,10.0,2.0,4.0,4.0,5.0,6.0,7.0,4.0,3.0,8.0,8.0,6.0,4.0,4.0,6.0,9.0,8.0,4.0,4.0,5.0,8.0,3.0,2.0,4.0,6.0,9.0,3.0,3.0,5.0,3.0,3.0,6.0,1.0,3.0,8.0,9.0,3.0,4.0,11.0,4.0,4.0,1.0,5.0,2.0,4.0,5.0,3.0,5.0,7.0,7.0,3.0,2.0,3.0,9.0,3.0,4.0,2.0,10.0,3.0,3.0,9.0,3.0,5.0,6.0,1.0,4.0,11.0,4.0,3.0,1.0,2.0,4.0,4.0,4.0,10.0,3.0,6.0,6.0,7.0,4.0,8.0,8.0,8.0,3.0,13.0,9.0,3.0,5.0,9.0,3.0,11.0,5.0,4.0,7.0,3.0,5.0,1.0,4.0,5.0,6.0,6.0,7.0,7.0,7.0,5.0,4.0,2.0,3.0,2.0,6.0,5.0,13.0,4.0,9.0,3.0,4.0,6.0,9.0,7.0,3.0,3.0,5.0,2.0,6.0,5.0,2.0,4.0,3.0,9.0,4.0,6.0,3.0,7.0,7.0,6.0,2.0,8.0,5.0,5.0,7.0,6.0,7.0,5.0,7.0,8.0,3.0,2.0,3.0,3.0,9.0,3.0,3.0,8.0,4.0,3.0,7.0,2.0,10.0,7.0,3.0,6.0,2.0,7.0,4.0,5.0,6.0,1.0,9.0,10.0,9.0,1.0,4.0,3.0,8.0,7.0,5.0,4.0,4.0,3.0,6.0,7.0,2.0,4.0,5.0,4.0,6.0,5.0,4.0,1.0,3.0,3.0,8.0,7.0,8.0,13.0,7.0,7.0,5.0,6.0,3.0,4.0,6.0,6.0,2.0,5.0,4.0,6.0,8.0,3.0,8.0,9.0,6.0,6.0,5.0,6.0,6.0,10.0,3.0,4.0,3.0,10.0,6.0,7.0,6.0,2.0,3.0,2.0,9.0,2.0,11.0,8.0,7.0,3.0,2.0,4.0,4.0,6.0,8.0,7.0,1.0,4.0,12.0,10.0,3.0,3.0,6.0,11.0,6.0,6.0,5.0,4.0,6.0,8.0,9.0,4.0,4.0,7.0,4.0,10.0,5.0,7.0,5.0,5.0,7.0,7.0,5.0,5.0,5.0,3.0,7.0,3.0,4.0,4.0,5.0,4.0,13.0,8.0,4.0,3.0,5.0,5.0,4.0,5.0,7.0,2.0,5.0,8.0,7.0,6.0,4.0,5.0,4.0,5.0,5.0,3.0,10.0,7.0,2.0,4.0,8.0,4.0,3.0,2.0,6.0,7.0,4.0,7.0,7.0,5.0,8.0,7.0,7.0,2.0,7.0,8.0,7.0,3.0,5.0,2.0,5.0,7.0,11.0,2.0,3.0,3.0,1.0,4.0,11.0,9.0,7.0,3.0,8.0,3.0,6.0,12.0,7.0,3.0,3.0,3.0,10.0,2.0,6.0,7.0,7.0,4.0,9.0,13.0,4.0,8.0,7.0,9.0,2.0,5.0,4.0,6.0,4.0,9.0,7.0,3.0,7.0,3.0,10.0,6.0,9.0,7.0,7.0,9.0,3.0,13.0,6.0,5.0,11.0,4.0,5.0,13.0,7.0,7.0,7.0,8.0,4.0,6.0,6.0,13.0,10.0,9.0,7.0,9.0,6.0,13.0,13.0,7.0,2.0,7.0,8.0,6.0,8.0,3.0,9.0,4.0,5.0,13.0,7.0,3.0,7.0,10.0,10.0,10.0,10.0,3.0,9.0,4.0,8.0,7.0,7.0,6.0,4.0,12.0,6.0,7.0,11.0,6.0,7.0,4.0,10.0,8.0,8.0,7.0,5.0,7.0,6.0,3.0,4.0,6.0,3.0,10.0,5.0,2.0,7.0,12.0,6.0,10.0,9.0,8.0,10.0,9.0,9.0,4.0]},{\"label\":\"Medications\",\"values\":[0.0,0.0,6.0,12.0,7.0,4.0,8.0,8.0,6.0,4.0,3.0,0.0,3.0,7.0,12.0,9.0,12.0,5.0,4.0,12.0,4.0,5.0,8.0,12.0,2.0,4.0,8.0,8.0,6.0,12.0,3.0,10.0,7.0,12.0,3.0,9.0,1.0,5.0,4.0,2.0,2.0,10.0,4.0,5.0,12.0,12.0,1.0,8.0,2.0,4.0,8.0,4.0,2.0,0.0,12.0,2.0,4.0,1.0,3.0,3.0,12.0,2.0,4.0,0.0,1.0,9.0,3.0,2.0,4.0,4.0,0.0,2.0,4.0,3.0,1.0,3.0,5.0,3.0,5.0,3.0,11.0,3.0,3.0,1.0,12.0,2.0,12.0,4.0,3.0,7.0,2.0,2.0,4.0,2.0,1.0,2.0,3.0,6.0,7.0,2.0,6.0,8.0,2.0,5.0,12.0,2.0,2.0,4.0,1.0,2.0,12.0,1.0,8.0,2.0,6.0,12.0,2.0,2.0,0.0,9.0,1.0,7.0,12.0,3.0,1.0,0.0,4.0,1.0,1.0,5.0,12.0,1.0,0.0,9.0,0.0,4.0,0.0,0.0,12.0,3.0,0.0,1.0,4.0,2.0,8.0,10.0,2.0,2.0,7.0,12.0,1.0,3.0,1.0,4.0,0.0,12.0,3.0,1.0,2.0,0.0,3.0,2.0,1.0,3.0,2.0,0.0,2.0,0.0,12.0,0.0,2.0,2.0,2.0,3.0,3.0,1.0,0.0,3.0,2.0,9.0,7.0,0.0,0.0,5.0,1.0,2.0,3.0,3.0,4.0,0.0,1.0,4.0,4.0,1.0,1.0,2.0,0.0,0.0,12.0,2.0,1.0,4.0,4.0,0.0,6.0,11.0,3.0,5.0,3.0,0.0,3.0,3.0,2.0,2.0,2.0,0.0,12.0,4.0,7.0,2.0,4.0,2.0,1.0,3.0,0.0,1.0,12.0,3.0,3.0,5.0,3.0,2.0,5.0,1.0,3.0,7.0,1.0,2.0,0.0,3.0,3.0,3.0,4.0,0.0,4.0,4.0,0.0,6.0,12.0,3.0,3.0,2.0,1.0,8.0,0.0,12.0,5.0,2.0,2.0,3.0,1.0,1.0,3.0,0.0,1.0,2.0,1.0,1.0,5.0,1.0,0.0,5.0,12.0,5.0,3.0,12.0,0.0,1.0,3.0,5.0,1.0,1.0,12.0,3.0,0.0,2.0,5.0,3.0,1.0,2.0,1.0,1.0,2.0,4.0,1.0,1.0,0.0,1.0,0.0,3.0,1.0,2.0,1.0,1.0,5.0,0.0,2.0,2.0,0.0,3.0,4.0,1.0,0.0,0.0,5.0,4.0,2.0,1.0,2.0,0.0,2.0,0.0,0.0,3.0,2.0,0.0,1.0,3.0,1.0,1.0,0.0,1.0,4.0,0.0,1.0,3.0,0.0,2.0,2.0,4.0,2.0,3.0,12.0,2.0,1.0,3.0,1.0,1.0,0.0,2.0,5.0,12.0,0.0,3.0,0.0,3.0,0.0,2.0,2.0,3.0,2.0,2.0,1.0,1.0,2.0,2.0,0.0,3.0,3.0,6.0,1.0,2.0,1.0,1.0,2.0,0.0,2.0,0.0,2.0,2.0,0.0,2.0,2.0,10.0,1.0,3.0,4.0,2.0,0.0,1.0,2.0,2.0,2.0,6.0,3.0,0.0,2.0,1.0,6.0,0.0,4.0,2.0,3.0,1.0,1.0,4.0,3.0,6.0,1.0,1.0,0.0,2.0,1.0,3.0,2.0,2.0,1.0,4.0,4.0,3.0,1.0,1.0,2.0,2.0,0.0,2.0,2.0,3.0,0.0,4.0,1.0,1.0,3.0,3.0,3.0,2.0,2.0,2.0,1.0,1.0,4.0,0.0,0.0,3.0,1.0,1.0,0.0,3.0,0.0,6.0,2.0,3.0,6.0,2.0,2.0,2.0,0.0,5.0,4.0,3.0,3.0,4.0,4.0,2.0,5.0,12.0,5.0,4.0,8.0,2.0,0.0,0.0,0.0,0.0,0.0,0.0,0.0,0.0,0.0,0.0,0.0,0.0,0.0,0.0,0.0,0.0,0.0,2.0,0.0,0.0,0.0,0.0,0.0,0.0,0.0,3.0,1.0,1.0,0.0,0.0,4.0,0.0,2.0,1.0,1.0,2.0,0.0,1.0,3.0,1.0,0.0,3.0,0.0,1.0,0.0,2.0,1.0,2.0,0.0,4.0,6.0,5.0,1.0,2.0,2.0,2.0,4.0,0.0,2.0,7.0,3.0,2.0,2.0,0.0,5.0,2.0,7.0,1.0,2.0,2.0,2.0,4.0,0.0,2.0,5.0,5.0,4.0,1.0,5.0,0.0,5.0,2.0,4.0,6.0,0.0,4.0,1.0,2.0,5.0,8.0,6.0,1.0,2.0,2.0,4.0,4.0,5.0,6.0,2.0,8.0,2.0,2.0,2.0,8.0,6.0,4.0,8.0,3.0,4.0,3.0,6.0,4.0,3.0,2.0,4.0,4.0,3.0,4.0,3.0,5.0,4.0,1.0,3.0,4.0,9.0,2.0,4.0,2.0,4.0,10.0,3.0,7.0,5.0,1.0,7.0,5.0,2.0,3.0,3.0,5.0,5.0,6.0,10.0,2.0,2.0,2.0,8.0,5.0,6.0,5.0,6.0,4.0,3.0,2.0,12.0,1.0,3.0,8.0,5.0,2.0,4.0,2.0,1.0,5.0,3.0,4.0,3.0,5.0,2.0,1.0,8.0,5.0,0.0,1.0,5.0,2.0,4.0,5.0,2.0,3.0,6.0,5.0,0.0,6.0,7.0,7.0,11.0,4.0,9.0,6.0,5.0,6.0,2.0,11.0,4.0,3.0,2.0,3.0,4.0,0.0,4.0,4.0,2.0,2.0,2.0,3.0,2.0,6.0,2.0,2.0,5.0,5.0,5.0,2.0,1.0,4.0,8.0,0.0,2.0,6.0,4.0,1.0,1.0,2.0,3.0,5.0,2.0,7.0,0.0,1.0,2.0,2.0,1.0,9.0,9.0,2.0,1.0,0.0,4.0,1.0,5.0,2.0,2.0,3.0,3.0,3.0,0.0,1.0,1.0,7.0,3.0,3.0,6.0,3.0,3.0,2.0,6.0,7.0,6.0,6.0,8.0,3.0,2.0,1.0,5.0,7.0,5.0,7.0,3.0,4.0,1.0,0.0,1.0,7.0,5.0,4.0,2.0,2.0,2.0,3.0,1.0,3.0,8.0,2.0,2.0,7.0,9.0,12.0,2.0,8.0,10.0,2.0,2.0,2.0,2.0,3.0,1.0,1.0,7.0,2.0,7.0,3.0,6.0,3.0,3.0,3.0,1.0,3.0,3.0,8.0,5.0,5.0,5.0,10.0,9.0,1.0,1.0,6.0,3.0,8.0,4.0,2.0,5.0,5.0,7.0,5.0,4.0,3.0,3.0,1.0,6.0,8.0,5.0,5.0,1.0,9.0,3.0,7.0,2.0,9.0,2.0,2.0,6.0,9.0,2.0,10.0,6.0,7.0,6.0,8.0,10.0,1.0,12.0,4.0,4.0,5.0,7.0,7.0,12.0,7.0,3.0,4.0,3.0,6.0,3.0,1.0,3.0,2.0,5.0,3.0,3.0,5.0,12.0,9.0,1.0,2.0,4.0,8.0,5.0,6.0,7.0,7.0,9.0,4.0,8.0,2.0,2.0,1.0,3.0,3.0,9.0,1.0,2.0,0.0,3.0,6.0,5.0,7.0,7.0,6.0,7.0,9.0,5.0,8.0,2.0,8.0,12.0,1.0,8.0,0.0,2.0,2.0,5.0,5.0,0.0,9.0,4.0,9.0,11.0,1.0,0.0,3.0,4.0,2.0,3.0,0.0,9.0,11.0,7.0,5.0,2.0,1.0,7.0,11.0,4.0,3.0,12.0,12.0,6.0,4.0,2.0,1.0,5.0,11.0,8.0,7.0,4.0,3.0,8.0,6.0,9.0,1.0,8.0,2.0,1.0,5.0,2.0,10.0,3.0,4.0,3.0,3.0,12.0,2.0,8.0,2.0,3.0,2.0,0.0,2.0,7.0,2.0,7.0,6.0,10.0,3.0,6.0,6.0,1.0,1.0,1.0,7.0,5.0,1.0,7.0,6.0,1.0,5.0,9.0,12.0,8.0,1.0,8.0,7.0,1.0,3.0,1.0,5.0,4.0,4.0,7.0,0.0,3.0,0.0,10.0,3.0,2.0,9.0,6.0,3.0,4.0,5.0,4.0,8.0,1.0,4.0,3.0,3.0,3.0,12.0,1.0,4.0,2.0,11.0,4.0,2.0,3.0,2.0,2.0,6.0,7.0,8.0,3.0,1.0,2.0,11.0,8.0,1.0,5.0,7.0,12.0,1.0,6.0,4.0,1.0,9.0,9.0,7.0,3.0,2.0,9.0,6.0,5.0,1.0,5.0,5.0,12.0,8.0,3.0,5.0,6.0,8.0,2.0,7.0,5.0,6.0,3.0,3.0,2.0,2.0,8.0,0.0,1.0,10.0,3.0,10.0,6.0,1.0,2.0,7.0,12.0,1.0,1.0,9.0,3.0,3.0,2.0,2.0,1.0,2.0,2.0,9.0,4.0,4.0,6.0,2.0,10.0,0.0,11.0,10.0,6.0,3.0,6.0,5.0,0.0,7.0,3.0,2.0,9.0,5.0,2.0,12.0,5.0,4.0,2.0,0.0,1.0,1.0,3.0,12.0,2.0,4.0,4.0,6.0,2.0,10.0,4.0,2.0,2.0,9.0,7.0,2.0,10.0,10.0,8.0,12.0,4.0,2.0,2.0,4.0,3.0,0.0,4.0,5.0,5.0,8.0,7.0,9.0,4.0,10.0,2.0,2.0,5.0,2.0,11.0,6.0,8.0,1.0,3.0,0.0,4.0,4.0,4.0,5.0,1.0,5.0,0.0,9.0,6.0,6.0,2.0,4.0,4.0,12.0,1.0,3.0,8.0,6.0,3.0,4.0,4.0,3.0,1.0,4.0,6.0,2.0,9.0,2.0,4.0,7.0,3.0,1.0,1.0,1.0,4.0,10.0,1.0,4.0,3.0,9.0,6.0,2.0,12.0,9.0,0.0,3.0,0.0,3.0,6.0,1.0,11.0,0.0,4.0,4.0,5.0,2.0,1.0,0.0,5.0,8.0,3.0,3.0,12.0,2.0,2.0,7.0,4.0,5.0,7.0,1.0,10.0,3.0,2.0,2.0,8.0,0.0,2.0,3.0,7.0,12.0,5.0,6.0,3.0,4.0,2.0,2.0,6.0,3.0,4.0,3.0,4.0,6.0,6.0,5.0,8.0,0.0,2.0,3.0,8.0,4.0,10.0,8.0,7.0,2.0,1.0,5.0,7.0,5.0,3.0,0.0,2.0,1.0,5.0,3.0,4.0,3.0,6.0,1.0,1.0,3.0,2.0,3.0,7.0,1.0,1.0,2.0,9.0,3.0,1.0,3.0,2.0,11.0,8.0,2.0,5.0,4.0,2.0,5.0,8.0,7.0,5.0,6.0,5.0,4.0,0.0,3.0,0.0,1.0,4.0,5.0,4.0,4.0,3.0,3.0,3.0,6.0,0.0,2.0,2.0,1.0,9.0,9.0,0.0,2.0,2.0,8.0,4.0,4.0,4.0,2.0,4.0,5.0,8.0,2.0,2.0,1.0,3.0,4.0,4.0,5.0,4.0,6.0,5.0,3.0,2.0,3.0,2.0,0.0,9.0,6.0,6.0,10.0,7.0,2.0,3.0,2.0,6.0,2.0,2.0,8.0,7.0,2.0,3.0,2.0,2.0,2.0,7.0,1.0,3.0,2.0,1.0,3.0,9.0,5.0,2.0,3.0,5.0,0.0,5.0,11.0,3.0,1.0,5.0,7.0,3.0,7.0,3.0,3.0,1.0,1.0,5.0,5.0,3.0,3.0,7.0,4.0,3.0,4.0,3.0,4.0,5.0,6.0,5.0,3.0,9.0,3.0,2.0,4.0,3.0,5.0,3.0,2.0,0.0,12.0,4.0,3.0,2.0,2.0,6.0,7.0,5.0,10.0,4.0,7.0,1.0,3.0,12.0,10.0,5.0,12.0,3.0,12.0,2.0,12.0,5.0,2.0,4.0,5.0,6.0,2.0,4.0,6.0,12.0,1.0,2.0,8.0,7.0,1.0,4.0,12.0,6.0,2.0,9.0,0.0,5.0,3.0,5.0,5.0,3.0,5.0,3.0,6.0,5.0,3.0,6.0,6.0,3.0,4.0,5.0,9.0,7.0,4.0,4.0,2.0,5.0,5.0,3.0,5.0,4.0,7.0,0.0,2.0,6.0,7.0,3.0,7.0,8.0,4.0,4.0,5.0,4.0,1.0]},{\"label\":\"Encounters\",\"values\":[1.0,1.0,20.0,16.0,17.0,13.0,17.0,21.0,22.0,21.0,17.0,18.0,15.0,39.0,29.0,17.0,14.0,17.0,8.0,39.0,20.0,14.0,18.0,17.0,11.0,13.0,21.0,39.0,14.0,32.0,9.0,11.0,16.0,14.0,20.0,10.0,12.0,20.0,8.0,14.0,12.0,14.0,11.0,17.0,39.0,39.0,7.0,19.0,11.0,13.0,36.0,10.0,8.0,12.0,12.0,4.0,13.0,9.0,17.0,10.0,20.0,8.0,11.0,8.0,10.0,26.0,10.0,8.0,9.0,13.0,3.0,10.0,10.0,8.0,7.0,14.0,9.0,8.0,8.0,8.0,7.0,6.0,11.0,25.0,32.0,5.0,9.0,10.0,8.0,7.0,3.0,6.0,5.0,7.0,6.0,4.0,6.0,5.0,6.0,5.0,4.0,16.0,4.0,8.0,13.0,3.0,4.0,5.0,6.0,5.0,17.0,3.0,4.0,7.0,4.0,25.0,2.0,3.0,2.0,3.0,3.0,5.0,17.0,3.0,3.0,3.0,2.0,4.0,4.0,3.0,3.0,2.0,3.0,4.0,1.0,2.0,2.0,3.0,7.0,4.0,2.0,1.0,1.0,1.0,1.0,1.0,1.0,1.0,1.0,1.0,1.0,1.0,1.0,1.0,1.0,1.0,1.0,1.0,1.0,1.0,1.0,1.0,1.0,1.0,1.0,1.0,1.0,1.0,1.0,1.0,1.0,1.0,1.0,1.0,1.0,1.0,1.0,1.0,1.0,1.0,1.0,1.0,1.0,1.0,1.0,1.0,1.0,1.0,1.0,1.0,1.0,1.0,1.0,1.0,1.0,1.0,1.0,1.0,1.0,1.0,1.0,1.0,1.0,1.0,1.0,1.0,1.0,1.0,1.0,1.0,1.0,1.0,1.0,1.0,1.0,1.0,1.0,1.0,1.0,1.0,1.0,1.0,1.0,1.0,1.0,1.0,1.0,1.0,1.0,1.0,1.0,1.0,1.0,1.0,1.0,1.0,1.0,1.0,1.0,1.0,1.0,1.0,1.0,1.0,1.0,1.0,1.0,1.0,1.0,1.0,1.0,1.0,1.0,1.0,1.0,1.0,1.0,1.0,1.0,1.0,1.0,1.0,1.0,1.0,1.0,1.0,1.0,1.0,1.0,1.0,1.0,1.0,1.0,1.0,1.0,1.0,1.0,1.0,1.0,1.0,1.0,1.0,2.0,1.0,1.0,1.0,1.0,1.0,1.0,1.0,1.0,1.0,1.0,1.0,1.0,1.0,1.0,1.0,1.0,1.0,1.0,1.0,1.0,1.0,1.0,1.0,1.0,1.0,1.0,1.0,1.0,1.0,1.0,1.0,1.0,1.0,1.0,1.0,1.0,1.0,1.0,1.0,1.0,1.0,1.0,1.0,1.0,1.0,1.0,1.0,1.0,1.0,1.0,1.0,1.0,1.0,1.0,1.0,1.0,1.0,1.0,1.0,1.0,1.0,1.0,1.0,1.0,1.0,1.0,1.0,1.0,1.0,1.0,1.0,1.0,1.0,1.0,1.0,1.0,1.0,1.0,1.0,1.0,1.0,1.0,1.0,1.0,1.0,1.0,1.0,1.0,1.0,1.0,1.0,1.0,1.0,1.0,2.0,1.0,1.0,1.0,1.0,1.0,1.0,1.0,1.0,1.0,1.0,1.0,1.0,1.0,1.0,1.0,1.0,1.0,1.0,1.0,1.0,1.0,1.0,1.0,1.0,1.0,1.0,1.0,1.0,1.0,1.0,1.0,1.0,1.0,1.0,1.0,1.0,1.0,1.0,1.0,1.0,1.0,1.0,1.0,1.0,1.0,1.0,1.0,1.0,1.0,1.0,1.0,1.0,1.0,1.0,1.0,1.0,1.0,1.0,1.0,1.0,1.0,1.0,1.0,1.0,1.0,1.0,1.0,1.0,1.0,1.0,1.0,1.0,1.0,1.0,1.0,1.0,1.0,1.0,1.0,17.0,12.0,10.0,12.0,14.0,14.0,11.0,12.0,17.0,11.0,14.0,17.0,12.0,0.0,1.0,2.0,2.0,2.0,3.0,3.0,3.0,3.0,3.0,4.0,4.0,5.0,5.0,5.0,5.0,5.0,8.0,6.0,6.0,6.0,7.0,6.0,8.0,6.0,10.0,8.0,8.0,8.0,8.0,12.0,8.0,11.0,9.0,12.0,12.0,12.0,10.0,13.0,11.0,10.0,13.0,9.0,12.0,11.0,11.0,12.0,11.0,10.0,14.0,15.0,13.0,12.0,17.0,12.0,13.0,15.0,12.0,12.0,18.0,14.0,15.0,16.0,12.0,19.0,14.0,15.0,13.0,15.0,28.0,21.0,17.0,14.0,16.0,18.0,21.0,16.0,15.0,20.0,16.0,20.0,17.0,19.0,18.0,20.0,17.0,15.0,16.0,17.0,21.0,22.0,16.0,15.0,17.0,19.0,19.0,18.0,26.0,16.0,23.0,18.0,18.0,21.0,25.0,23.0,17.0,25.0,25.0,25.0,21.0,19.0,20.0,18.0,17.0,23.0,20.0,18.0,19.0,20.0,24.0,24.0,18.0,23.0,23.0,25.0,23.0,19.0,22.0,22.0,28.0,20.0,24.0,24.0,22.0,25.0,23.0,27.0,21.0,23.0,23.0,24.0,27.0,23.0,21.0,22.0,25.0,28.0,28.0,22.0,24.0,21.0,22.0,25.0,20.0,37.0,20.0,22.0,24.0,25.0,17.0,19.0,18.0,18.0,20.0,18.0,17.0,17.0,17.0,15.0,17.0,19.0,20.0,13.0,17.0,24.0,16.0,18.0,18.0,14.0,18.0,17.0,22.0,14.0,18.0,36.0,18.0,23.0,18.0,21.0,20.0,18.0,19.0,14.0,20.0,25.0,12.0,13.0,12.0,15.0,11.0,14.0,19.0,11.0,11.0,13.0,17.0,19.0,17.0,15.0,13.0,14.0,39.0,22.0,21.0,12.0,14.0,39.0,12.0,21.0,18.0,18.0,12.0,15.0,16.0,17.0,39.0,12.0,23.0,23.0,11.0,16.0,13.0,11.0,22.0,39.0,15.0,12.0,12.0,14.0,12.0,20.0,15.0,13.0,16.0,22.0,14.0,13.0,13.0,12.0,23.0,15.0,39.0,39.0,17.0,16.0,12.0,17.0,21.0,15.0,16.0,30.0,12.0,13.0,14.0,16.0,17.0,39.0,18.0,12.0,15.0,14.0,11.0,14.0,28.0,25.0,14.0,15.0,12.0,14.0,12.0,13.0,16.0,35.0,12.0,13.0,22.0,20.0,31.0,39.0,23.0,39.0,24.0,18.0,13.0,33.0,11.0,12.0,14.0,27.0,18.0,39.0,12.0,39.0,21.0,13.0,14.0,11.0,15.0,15.0,20.0,24.0,14.0,19.0,19.0,39.0,12.0,10.0,39.0,14.0,39.0,13.0,18.0,15.0,39.0,39.0,16.0,13.0,11.0,16.0,11.0,39.0,20.0,39.0,18.0,13.0,29.0,9.0,27.0,14.0,21.0,9.0,14.0,22.0,35.0,39.0,39.0,25.0,39.0,30.0,39.0,39.0,9.0,39.0,27.0,36.0,13.0,25.0,39.0,39.0,9.0,12.0,18.0,11.0,9.0,39.0,8.0,9.0,10.0,11.0,20.0,11.0,32.0,16.0,39.0,8.0,8.0,27.0,19.0,32.0,15.0,19.0,32.0,39.0,23.0,39.0,9.0,14.0,7.0,10.0,9.0,33.0,31.0,12.0,7.0,9.0,7.0,30.0,18.0,35.0,15.0,20.0,38.0,9.0,22.0,12.0,30.0,26.0,6.0,39.0,7.0,7.0,9.0,37.0,10.0,7.0,33.0,39.0,34.0,20.0,5.0,4.0,11.0,6.0,10.0,8.0,4.0,39.0,19.0,33.0,7.0,4.0,5.0,27.0,24.0,11.0,6.0,31.0,39.0,13.0,11.0,7.0,5.0,7.0,37.0,16.0,31.0,7.0,6.0,23.0,12.0,32.0,9.0,39.0,5.0,9.0,25.0,5.0,39.0,5.0,11.0,9.0,8.0,19.0,7.0,39.0,6.0,8.0,9.0,5.0,3.0,39.0,39.0,14.0,39.0,39.0,5.0,10.0,39.0,9.0,5.0,7.0,16.0,11.0,9.0,12.0,39.0,4.0,9.0,39.0,37.0,13.0,8.0,39.0,39.0,7.0,3.0,4.0,39.0,9.0,12.0,39.0,6.0,7.0,4.0,24.0,39.0,7.0,30.0,9.0,32.0,8.0,8.0,5.0,39.0,6.0,13.0,3.0,5.0,10.0,16.0,4.0,7.0,7.0,39.0,7.0,5.0,6.0,8.0,8.0,37.0,11.0,39.0,4.0,5.0,30.0,39.0,19.0,8.0,39.0,9.0,39.0,6.0,39.0,12.0,8.0,20.0,39.0,39.0,7.0,30.0,31.0,33.0,9.0,5.0,34.0,39.0,39.0,38.0,7.0,16.0,30.0,32.0,6.0,13.0,6.0,8.0,7.0,6.0,8.0,6.0,39.0,5.0,6.0,31.0,12.0,39.0,11.0,4.0,7.0,24.0,39.0,5.0,6.0,14.0,8.0,5.0,6.0,39.0,5.0,5.0,8.0,16.0,14.0,10.0,9.0,6.0,18.0,6.0,24.0,39.0,8.0,6.0,31.0,10.0,5.0,18.0,39.0,8.0,17.0,17.0,9.0,39.0,8.0,5.0,9.0,4.0,4.0,6.0,8.0,39.0,6.0,39.0,12.0,16.0,7.0,22.0,8.0,8.0,5.0,39.0,25.0,6.0,10.0,19.0,39.0,24.0,8.0,6.0,6.0,6.0,39.0,5.0,7.0,36.0,6.0,21.0,7.0,29.0,7.0,15.0,6.0,6.0,6.0,5.0,19.0,16.0,14.0,5.0,12.0,7.0,7.0,7.0,16.0,10.0,8.0,14.0,6.0,13.0,10.0,11.0,6.0,39.0,10.0,39.0,7.0,9.0,15.0,9.0,10.0,7.0,39.0,12.0,39.0,39.0,7.0,39.0,35.0,39.0,11.0,18.0,8.0,6.0,6.0,7.0,10.0,24.0,8.0,14.0,8.0,17.0,24.0,8.0,39.0,9.0,7.0,14.0,6.0,10.0,16.0,13.0,39.0,7.0,13.0,14.0,16.0,7.0,8.0,7.0,13.0,11.0,11.0,10.0,20.0,6.0,12.0,17.0,9.0,11.0,22.0,10.0,18.0,12.0,10.0,8.0,19.0,9.0,16.0,11.0,16.0,28.0,16.0,14.0,12.0,13.0,9.0,9.0,12.0,15.0,14.0,12.0,11.0,11.0,39.0,15.0,16.0,12.0,13.0,14.0,17.0,12.0,19.0,17.0,16.0,15.0,9.0,17.0,18.0,14.0,13.0,9.0,11.0,10.0,20.0,10.0,17.0,17.0,16.0,8.0,10.0,10.0,11.0,39.0,17.0,14.0,11.0,10.0,22.0,12.0,11.0,17.0,13.0,30.0,16.0,13.0,17.0,12.0,14.0,16.0,14.0,15.0,18.0,11.0,15.0,19.0,34.0,30.0,13.0,10.0,15.0,15.0,14.0,16.0,14.0,14.0,20.0,13.0,14.0,14.0,15.0,15.0,17.0,21.0,13.0,13.0,22.0,14.0,14.0,18.0,20.0,11.0,13.0,18.0,13.0,16.0,14.0,14.0,14.0,15.0,15.0,14.0,25.0,17.0,16.0,15.0,14.0,15.0,14.0,11.0,18.0,20.0,18.0,16.0,17.0,13.0,13.0,16.0,18.0,13.0,17.0,17.0,13.0,15.0,15.0,13.0,19.0,14.0,18.0,12.0,15.0,11.0,13.0,11.0,23.0,19.0,16.0,15.0,15.0,12.0,14.0,22.0,17.0,14.0,15.0,14.0,22.0,13.0,17.0,15.0,14.0,15.0,16.0,39.0,15.0,12.0,14.0,17.0,15.0,14.0,13.0,19.0,19.0,19.0,13.0,13.0,17.0,12.0,20.0,15.0,39.0,16.0,18.0,15.0,12.0,23.0,16.0,16.0,21.0,15.0,12.0,22.0,17.0,19.0,16.0,24.0,14.0,15.0,23.0,15.0,22.0,16.0,16.0,22.0,12.0,29.0,19.0,16.0,13.0,13.0,18.0,16.0,15.0,13.0,14.0,14.0,15.0,39.0,17.0,11.0,13.0,16.0,16.0,18.0,21.0,13.0,21.0,12.0,12.0,16.0,39.0,15.0,15.0,24.0,14.0,19.0,23.0,15.0,18.0,15.0,15.0,17.0,18.0,15.0,11.0,13.0,18.0,13.0,14.0,15.0,11.0,17.0,16.0,13.0,16.0,19.0,13.0,18.0,19.0,16.0,15.0,15.0,16.0,14.0]},{\"label\":\"Total Claims\",\"values\":[100.0,100.0,2000.0,1600.0,1700.0,1300.0,1700.0,2100.0,2200.0,2100.0,1700.0,1800.0,1500.0,3900.0,2900.0,1700.0,1400.0,1700.0,800.0,3900.0,2000.0,1400.0,1800.0,1700.0,1100.0,1300.0,2100.0,3900.0,1400.0,3200.0,900.0,1100.0,1600.0,1400.0,2000.0,1000.0,1200.0,2000.0,800.0,1400.0,1200.0,1400.0,1100.0,1700.0,3900.0,3900.0,700.0,1900.0,1100.0,1300.0,3600.0,1000.0,800.0,1200.0,1200.0,400.0,1300.0,900.0,1700.0,1000.0,2000.0,800.0,1100.0,800.0,1000.0,2600.0,1000.0,800.0,900.0,1300.0,300.0,1000.0,1000.0,800.0,700.0,1400.0,900.0,800.0,800.0,800.0,700.0,600.0,1100.0,2500.0,3200.0,500.0,900.0,1000.0,800.0,700.0,300.0,600.0,500.0,700.0,600.0,400.0,600.0,500.0,600.0,500.0,400.0,1600.0,400.0,800.0,1300.0,300.0,400.0,500.0,600.0,500.0,1700.0,300.0,400.0,700.0,400.0,2500.0,200.0,300.0,200.0,300.0,300.0,500.0,1700.0,300.0,300.0,300.0,200.0,400.0,400.0,300.0,300.0,200.0,300.0,400.0,100.0,200.0,200.0,300.0,700.0,400.0,200.0,100.0,100.0,100.0,100.0,100.0,100.0,100.0,100.0,100.0,100.0,100.0,100.0,100.0,100.0,100.0,100.0,100.0,100.0,100.0,100.0,100.0,100.0,100.0,100.0,100.0,100.0,100.0,100.0,100.0,100.0,100.0,100.0,100.0,100.0,100.0,100.0,100.0,100.0,100.0,100.0,100.0,100.0,100.0,100.0,100.0,100.0,100.0,100.0,100.0,100.0,100.0,100.0,100.0,100.0,100.0,100.0,100.0,100.0,100.0,100.0,100.0,100.0,100.0,100.0,100.0,100.0,100.0,100.0,100.0,100.0,100.0,100.0,100.0,100.0,100.0,100.0,100.0,100.0,100.0,100.0,100.0,100.0,100.0,100.0,100.0,100.0,100.0,100.0,100.0,100.0,100.0,100.0,100.0,100.0,100.0,100.0,100.0,100.0,100.0,100.0,100.0,100.0,100.0,100.0,100.0,100.0,100.0,100.0,100.0,100.0,100.0,100.0,100.0,100.0,100.0,100.0,100.0,100.0,100.0,100.0,100.0,100.0,100.0,100.0,100.0,100.0,100.0,100.0,100.0,100.0,100.0,100.0,100.0,100.0,100.0,100.0,100.0,100.0,100.0,100.0,100.0,200.0,100.0,100.0,100.0,100.0,100.0,100.0,100.0,100.0,100.0,100.0,100.0,100.0,100.0,100.0,100.0,100.0,100.0,100.0,100.0,100.0,100.0,100.0,100.0,100.0,100.0,100.0,100.0,100.0,100.0,100.0,100.0,100.0,100.0,100.0,100.0,100.0,100.0,100.0,100.0,100.0,100.0,100.0,100.0,100.0,100.0,100.0,100.0,100.0,100.0,100.0,100.0,100.0,100.0,100.0,100.0,100.0,100.0,100.0,100.0,100.0,100.0,100.0,100.0,100.0,100.0,100.0,100.0,100.0,100.0,100.0,100.0,100.0,100.0,100.0,100.0,100.0,100.0,100.0,100.0,100.0,100.0,100.0,100.0,100.0,100.0,100.0,100.0,100.0,100.0,100.0,100.0,100.0,100.0,100.0,200.0,100.0,100.0,100.0,100.0,100.0,100.0,100.0,100.0,100.0,100.0,100.0,100.0,100.0,100.0,100.0,100.0,100.0,100.0,100.0,100.0,100.0,100.0,100.0,100.0,100.0,100.0,100.0,100.0,100.0,100.0,100.0,100.0,100.0,100.0,100.0,100.0,100.0,100.0,100.0,100.0,100.0,100.0,100.0,100.0,100.0,100.0,100.0,100.0,100.0,100.0,100.0,100.0,100.0,100.0,100.0,100.0,100.0,100.0,100.0,100.0,100.0,100.0,100.0,100.0,100.0,100.0,100.0,100.0,100.0,100.0,100.0,100.0,100.0,100.0,100.0,100.0,100.0,100.0,100.0,1700.0,1200.0,1000.0,1200.0,1400.0,1400.0,1100.0,1200.0,1700.0,1100.0,1400.0,1700.0,1200.0,0.0,100.0,200.0,200.0,200.0,300.0,300.0,300.0,300.0,300.0,400.0,400.0,500.0,500.0,500.0,500.0,500.0,800.0,600.0,600.0,600.0,700.0,600.0,800.0,600.0,1000.0,800.0,800.0,800.0,800.0,1200.0,800.0,1100.0,900.0,1200.0,1200.0,1200.0,1000.0,1300.0,1100.0,1000.0,1300.0,900.0,1200.0,1100.0,1100.0,1200.0,1100.0,1000.0,1400.0,1500.0,1300.0,1200.0,1700.0,1200.0,1300.0,1500.0,1200.0,1200.0,1800.0,1400.0,1500.0,1600.0,1200.0,1900.0,1400.0,1500.0,1300.0,1500.0,2800.0,2100.0,1700.0,1400.0,1600.0,1800.0,2100.0,1600.0,1500.0,2000.0,1600.0,2000.0,1700.0,1900.0,1800.0,2000.0,1700.0,1500.0,1600.0,1700.0,2100.0,2200.0,1600.0,1500.0,1700.0,1900.0,1900.0,1800.0,2600.0,1600.0,2300.0,1800.0,1800.0,2100.0,2500.0,2300.0,1700.0,2500.0,2500.0,2500.0,2100.0,1900.0,2000.0,1800.0,1700.0,2300.0,2000.0,1800.0,1900.0,2000.0,2400.0,2400.0,1800.0,2300.0,2300.0,2500.0,2300.0,1900.0,2200.0,2200.0,2800.0,2000.0,2400.0,2400.0,2200.0,2500.0,2300.0,2700.0,2100.0,2300.0,2300.0,2400.0,2700.0,2300.0,2100.0,2200.0,2500.0,2800.0,2800.0,2200.0,2400.0,2100.0,2200.0,2500.0,2000.0,3700.0,2000.0,2200.0,2400.0,2500.0,1700.0,1900.0,1800.0,1800.0,2000.0,1800.0,1700.0,1700.0,1700.0,1500.0,1700.0,1900.0,2000.0,1300.0,1700.0,2400.0,1600.0,1800.0,1800.0,1400.0,1800.0,1700.0,2200.0,1400.0,1800.0,3600.0,1800.0,2300.0,1800.0,2100.0,2000.0,1800.0,1900.0,1400.0,2000.0,2500.0,1200.0,1300.0,1200.0,1500.0,1100.0,1400.0,1900.0,1100.0,1100.0,1300.0,1700.0,1900.0,1700.0,1500.0,1300.0,1400.0,3900.0,2200.0,2100.0,1200.0,1400.0,3900.0,1200.0,2100.0,1800.0,1800.0,1200.0,1500.0,1600.0,1700.0,3900.0,1200.0,2300.0,2300.0,1100.0,1600.0,1300.0,1100.0,2200.0,3900.0,1500.0,1200.0,1200.0,1400.0,1200.0,2000.0,1500.0,1300.0,1600.0,2200.0,1400.0,1300.0,1300.0,1200.0,2300.0,1500.0,3900.0,3900.0,1700.0,1600.0,1200.0,1700.0,2100.0,1500.0,1600.0,3000.0,1200.0,1300.0,1400.0,1600.0,1700.0,3900.0,1800.0,1200.0,1500.0,1400.0,1100.0,1400.0,2800.0,2500.0,1400.0,1500.0,1200.0,1400.0,1200.0,1300.0,1600.0,3500.0,1200.0,1300.0,2200.0,2000.0,3100.0,3900.0,2300.0,3900.0,2400.0,1800.0,1300.0,3300.0,1100.0,1200.0,1400.0,2700.0,1800.0,3900.0,1200.0,3900.0,2100.0,1300.0,1400.0,1100.0,1500.0,1500.0,2000.0,2400.0,1400.0,1900.0,1900.0,3900.0,1200.0,1000.0,3900.0,1400.0,3900.0,1300.0,1800.0,1500.0,3900.0,3900.0,1600.0,1300.0,1100.0,1600.0,1100.0,3900.0,2000.0,3900.0,1800.0,1300.0,2900.0,900.0,2700.0,1400.0,2100.0,900.0,1400.0,2200.0,3500.0,3900.0,3900.0,2500.0,3900.0,3000.0,3900.0,3900.0,900.0,3900.0,2700.0,3600.0,1300.0,2500.0,3900.0,3900.0,900.0,1200.0,1800.0,1100.0,900.0,3900.0,800.0,900.0,1000.0,1100.0,2000.0,1100.0,3200.0,1600.0,3900.0,800.0,800.0,2700.0,1900.0,3200.0,1500.0,1900.0,3200.0,3900.0,2300.0,3900.0,900.0,1400.0,700.0,1000.0,900.0,3300.0,3100.0,1200.0,700.0,900.0,700.0,3000.0,1800.0,3500.0,1500.0,2000.0,3800.0,900.0,2200.0,1200.0,3000.0,2600.0,600.0,3900.0,700.0,700.0,900.0,3700.0,1000.0,700.0,3300.0,3900.0,3400.0,1900.0,500.0,400.0,1100.0,600.0,1000.0,800.0,400.0,3900.0,1900.0,3300.0,700.0,400.0,500.0,2700.0,2400.0,1100.0,600.0,3100.0,3900.0,1300.0,1100.0,700.0,500.0,700.0,3700.0,1600.0,3100.0,700.0,600.0,2300.0,1200.0,3200.0,900.0,3900.0,500.0,900.0,2500.0,500.0,3900.0,500.0,1100.0,900.0,800.0,1900.0,700.0,3900.0,600.0,800.0,900.0,500.0,300.0,3900.0,3900.0,1400.0,3900.0,3900.0,500.0,1000.0,3900.0,900.0,500.0,700.0,1600.0,1100.0,900.0,1200.0,3900.0,400.0,900.0,3900.0,3700.0,1300.0,800.0,3900.0,3900.0,700.0,300.0,400.0,3900.0,900.0,1200.0,3900.0,600.0,700.0,400.0,2400.0,3900.0,700.0,3000.0,900.0,3200.0,800.0,800.0,500.0,3900.0,600.0,1300.0,300.0,500.0,1000.0,1600.0,400.0,700.0,700.0,3900.0,700.0,500.0,600.0,800.0,800.0,3700.0,1100.0,3900.0,400.0,500.0,3000.0,3900.0,1900.0,800.0,3900.0,900.0,3900.0,600.0,3900.0,1200.0,800.0,2000.0,3900.0,3900.0,700.0,3000.0,3100.0,3300.0,900.0,500.0,3400.0,3900.0,3900.0,3800.0,700.0,1600.0,3000.0,3200.0,600.0,1300.0,600.0,800.0,700.0,600.0,800.0,600.0,3900.0,500.0,600.0,3100.0,1200.0,3900.0,1100.0,400.0,700.0,2400.0,3900.0,500.0,600.0,1400.0,800.0,500.0,600.0,3900.0,500.0,500.0,800.0,1600.0,1400.0,1000.0,900.0,600.0,1800.0,600.0,2400.0,3900.0,800.0,600.0,3100.0,1000.0,500.0,1800.0,3900.0,800.0,1700.0,1700.0,900.0,3900.0,800.0,500.0,900.0,400.0,400.0,600.0,800.0,3900.0,600.0,3900.0,1200.0,1600.0,700.0,2200.0,800.0,800.0,500.0,3900.0,2500.0,600.0,1000.0,1900.0,3900.0,2400.0,800.0,600.0,600.0,600.0,3900.0,500.0,700.0,3600.0,600.0,2100.0,700.0,2900.0,700.0,1500.0,600.0,600.0,600.0,500.0,1900.0,1600.0,1400.0,500.0,1200.0,700.0,700.0,700.0,1600.0,1000.0,800.0,1400.0,600.0,1300.0,1000.0,1100.0,600.0,3900.0,1000.0,3900.0,700.0,900.0,1500.0,900.0,1000.0,700.0,3900.0,1200.0,3900.0,3900.0,700.0,3900.0,3500.0,3900.0,1100.0,1800.0,800.0,600.0,600.0,700.0,1000.0,2400.0,800.0,1400.0,800.0,1700.0,2400.0,800.0,3900.0,900.0,700.0,1400.0,600.0,1000.0,1600.0,1300.0,3900.0,700.0,1300.0,1400.0,1600.0,700.0,800.0,700.0,1300.0,1100.0,1100.0,1000.0,2000.0,600.0,1200.0,1700.0,900.0,1100.0,2200.0,1000.0,1800.0,1200.0,1000.0,800.0,1900.0,900.0,1600.0,1100.0,1600.0,2800.0,1600.0,1400.0,1200.0,1300.0,900.0,900.0,1200.0,1500.0,1400.0,1200.0,1100.0,1100.0,3900.0,1500.0,1600.0,1200.0,1300.0,1400.0,1700.0,1200.0,1900.0,1700.0,1600.0,1500.0,900.0,1700.0,1800.0,1400.0,1300.0,900.0,1100.0,1000.0,2000.0,1000.0,1700.0,1700.0,1600.0,800.0,1000.0,1000.0,1100.0,3900.0,1700.0,1400.0,1100.0,1000.0,2200.0,1200.0,1100.0,1700.0,1300.0,3000.0,1600.0,1300.0,1700.0,1200.0,1400.0,1600.0,1400.0,1500.0,1800.0,1100.0,1500.0,1900.0,3400.0,3000.0,1300.0,1000.0,1500.0,1500.0,1400.0,1600.0,1400.0,1400.0,2000.0,1300.0,1400.0,1400.0,1500.0,1500.0,1700.0,2100.0,1300.0,1300.0,2200.0,1400.0,1400.0,1800.0,2000.0,1100.0,1300.0,1800.0,1300.0,1600.0,1400.0,1400.0,1400.0,1500.0,1500.0,1400.0,2500.0,1700.0,1600.0,1500.0,1400.0,1500.0,1400.0,1100.0,1800.0,2000.0,1800.0,1600.0,1700.0,1300.0,1300.0,1600.0,1800.0,1300.0,1700.0,1700.0,1300.0,1500.0,1500.0,1300.0,1900.0,1400.0,1800.0,1200.0,1500.0,1100.0,1300.0,1100.0,2300.0,1900.0,1600.0,1500.0,1500.0,1200.0,1400.0,2200.0,1700.0,1400.0,1500.0,1400.0,2200.0,1300.0,1700.0,1500.0,1400.0,1500.0,1600.0,3900.0,1500.0,1200.0,1400.0,1700.0,1500.0,1400.0,1300.0,1900.0,1900.0,1900.0,1300.0,1300.0,1700.0,1200.0,2000.0,1500.0,3900.0,1600.0,1800.0,1500.0,1200.0,2300.0,1600.0,1600.0,2100.0,1500.0,1200.0,2200.0,1700.0,1900.0,1600.0,2400.0,1400.0,1500.0,2300.0,1500.0,2200.0,1600.0,1600.0,2200.0,1200.0,2900.0,1900.0,1600.0,1300.0,1300.0,1800.0,1600.0,1500.0,1300.0,1400.0,1400.0,1500.0,3900.0,1700.0,1100.0,1300.0,1600.0,1600.0,1800.0,2100.0,1300.0,2100.0,1200.0,1200.0,1600.0,3900.0,1500.0,1500.0,2400.0,1400.0,1900.0,2300.0,1500.0,1800.0,1500.0,1500.0,1700.0,1800.0,1500.0,1100.0,1300.0,1800.0,1300.0,1400.0,1500.0,1100.0,1700.0,1600.0,1300.0,1600.0,1900.0,1300.0,1800.0,1900.0,1600.0,1500.0,1500.0,1600.0,1400.0]}],\"domain\":{\"x\":[0.0,1.0],\"y\":[0.0,1.0]},\"line\":{\"color\":[100.0,100.0,2000.0,1600.0,1700.0,1300.0,1700.0,2100.0,2200.0,2100.0,1700.0,1800.0,1500.0,3900.0,2900.0,1700.0,1400.0,1700.0,800.0,3900.0,2000.0,1400.0,1800.0,1700.0,1100.0,1300.0,2100.0,3900.0,1400.0,3200.0,900.0,1100.0,1600.0,1400.0,2000.0,1000.0,1200.0,2000.0,800.0,1400.0,1200.0,1400.0,1100.0,1700.0,3900.0,3900.0,700.0,1900.0,1100.0,1300.0,3600.0,1000.0,800.0,1200.0,1200.0,400.0,1300.0,900.0,1700.0,1000.0,2000.0,800.0,1100.0,800.0,1000.0,2600.0,1000.0,800.0,900.0,1300.0,300.0,1000.0,1000.0,800.0,700.0,1400.0,900.0,800.0,800.0,800.0,700.0,600.0,1100.0,2500.0,3200.0,500.0,900.0,1000.0,800.0,700.0,300.0,600.0,500.0,700.0,600.0,400.0,600.0,500.0,600.0,500.0,400.0,1600.0,400.0,800.0,1300.0,300.0,400.0,500.0,600.0,500.0,1700.0,300.0,400.0,700.0,400.0,2500.0,200.0,300.0,200.0,300.0,300.0,500.0,1700.0,300.0,300.0,300.0,200.0,400.0,400.0,300.0,300.0,200.0,300.0,400.0,100.0,200.0,200.0,300.0,700.0,400.0,200.0,100.0,100.0,100.0,100.0,100.0,100.0,100.0,100.0,100.0,100.0,100.0,100.0,100.0,100.0,100.0,100.0,100.0,100.0,100.0,100.0,100.0,100.0,100.0,100.0,100.0,100.0,100.0,100.0,100.0,100.0,100.0,100.0,100.0,100.0,100.0,100.0,100.0,100.0,100.0,100.0,100.0,100.0,100.0,100.0,100.0,100.0,100.0,100.0,100.0,100.0,100.0,100.0,100.0,100.0,100.0,100.0,100.0,100.0,100.0,100.0,100.0,100.0,100.0,100.0,100.0,100.0,100.0,100.0,100.0,100.0,100.0,100.0,100.0,100.0,100.0,100.0,100.0,100.0,100.0,100.0,100.0,100.0,100.0,100.0,100.0,100.0,100.0,100.0,100.0,100.0,100.0,100.0,100.0,100.0,100.0,100.0,100.0,100.0,100.0,100.0,100.0,100.0,100.0,100.0,100.0,100.0,100.0,100.0,100.0,100.0,100.0,100.0,100.0,100.0,100.0,100.0,100.0,100.0,100.0,100.0,100.0,100.0,100.0,100.0,100.0,100.0,100.0,100.0,100.0,100.0,100.0,100.0,100.0,100.0,100.0,100.0,100.0,100.0,100.0,100.0,100.0,200.0,100.0,100.0,100.0,100.0,100.0,100.0,100.0,100.0,100.0,100.0,100.0,100.0,100.0,100.0,100.0,100.0,100.0,100.0,100.0,100.0,100.0,100.0,100.0,100.0,100.0,100.0,100.0,100.0,100.0,100.0,100.0,100.0,100.0,100.0,100.0,100.0,100.0,100.0,100.0,100.0,100.0,100.0,100.0,100.0,100.0,100.0,100.0,100.0,100.0,100.0,100.0,100.0,100.0,100.0,100.0,100.0,100.0,100.0,100.0,100.0,100.0,100.0,100.0,100.0,100.0,100.0,100.0,100.0,100.0,100.0,100.0,100.0,100.0,100.0,100.0,100.0,100.0,100.0,100.0,100.0,100.0,100.0,100.0,100.0,100.0,100.0,100.0,100.0,100.0,100.0,100.0,100.0,100.0,100.0,200.0,100.0,100.0,100.0,100.0,100.0,100.0,100.0,100.0,100.0,100.0,100.0,100.0,100.0,100.0,100.0,100.0,100.0,100.0,100.0,100.0,100.0,100.0,100.0,100.0,100.0,100.0,100.0,100.0,100.0,100.0,100.0,100.0,100.0,100.0,100.0,100.0,100.0,100.0,100.0,100.0,100.0,100.0,100.0,100.0,100.0,100.0,100.0,100.0,100.0,100.0,100.0,100.0,100.0,100.0,100.0,100.0,100.0,100.0,100.0,100.0,100.0,100.0,100.0,100.0,100.0,100.0,100.0,100.0,100.0,100.0,100.0,100.0,100.0,100.0,100.0,100.0,100.0,100.0,100.0,1700.0,1200.0,1000.0,1200.0,1400.0,1400.0,1100.0,1200.0,1700.0,1100.0,1400.0,1700.0,1200.0,0.0,100.0,200.0,200.0,200.0,300.0,300.0,300.0,300.0,300.0,400.0,400.0,500.0,500.0,500.0,500.0,500.0,800.0,600.0,600.0,600.0,700.0,600.0,800.0,600.0,1000.0,800.0,800.0,800.0,800.0,1200.0,800.0,1100.0,900.0,1200.0,1200.0,1200.0,1000.0,1300.0,1100.0,1000.0,1300.0,900.0,1200.0,1100.0,1100.0,1200.0,1100.0,1000.0,1400.0,1500.0,1300.0,1200.0,1700.0,1200.0,1300.0,1500.0,1200.0,1200.0,1800.0,1400.0,1500.0,1600.0,1200.0,1900.0,1400.0,1500.0,1300.0,1500.0,2800.0,2100.0,1700.0,1400.0,1600.0,1800.0,2100.0,1600.0,1500.0,2000.0,1600.0,2000.0,1700.0,1900.0,1800.0,2000.0,1700.0,1500.0,1600.0,1700.0,2100.0,2200.0,1600.0,1500.0,1700.0,1900.0,1900.0,1800.0,2600.0,1600.0,2300.0,1800.0,1800.0,2100.0,2500.0,2300.0,1700.0,2500.0,2500.0,2500.0,2100.0,1900.0,2000.0,1800.0,1700.0,2300.0,2000.0,1800.0,1900.0,2000.0,2400.0,2400.0,1800.0,2300.0,2300.0,2500.0,2300.0,1900.0,2200.0,2200.0,2800.0,2000.0,2400.0,2400.0,2200.0,2500.0,2300.0,2700.0,2100.0,2300.0,2300.0,2400.0,2700.0,2300.0,2100.0,2200.0,2500.0,2800.0,2800.0,2200.0,2400.0,2100.0,2200.0,2500.0,2000.0,3700.0,2000.0,2200.0,2400.0,2500.0,1700.0,1900.0,1800.0,1800.0,2000.0,1800.0,1700.0,1700.0,1700.0,1500.0,1700.0,1900.0,2000.0,1300.0,1700.0,2400.0,1600.0,1800.0,1800.0,1400.0,1800.0,1700.0,2200.0,1400.0,1800.0,3600.0,1800.0,2300.0,1800.0,2100.0,2000.0,1800.0,1900.0,1400.0,2000.0,2500.0,1200.0,1300.0,1200.0,1500.0,1100.0,1400.0,1900.0,1100.0,1100.0,1300.0,1700.0,1900.0,1700.0,1500.0,1300.0,1400.0,3900.0,2200.0,2100.0,1200.0,1400.0,3900.0,1200.0,2100.0,1800.0,1800.0,1200.0,1500.0,1600.0,1700.0,3900.0,1200.0,2300.0,2300.0,1100.0,1600.0,1300.0,1100.0,2200.0,3900.0,1500.0,1200.0,1200.0,1400.0,1200.0,2000.0,1500.0,1300.0,1600.0,2200.0,1400.0,1300.0,1300.0,1200.0,2300.0,1500.0,3900.0,3900.0,1700.0,1600.0,1200.0,1700.0,2100.0,1500.0,1600.0,3000.0,1200.0,1300.0,1400.0,1600.0,1700.0,3900.0,1800.0,1200.0,1500.0,1400.0,1100.0,1400.0,2800.0,2500.0,1400.0,1500.0,1200.0,1400.0,1200.0,1300.0,1600.0,3500.0,1200.0,1300.0,2200.0,2000.0,3100.0,3900.0,2300.0,3900.0,2400.0,1800.0,1300.0,3300.0,1100.0,1200.0,1400.0,2700.0,1800.0,3900.0,1200.0,3900.0,2100.0,1300.0,1400.0,1100.0,1500.0,1500.0,2000.0,2400.0,1400.0,1900.0,1900.0,3900.0,1200.0,1000.0,3900.0,1400.0,3900.0,1300.0,1800.0,1500.0,3900.0,3900.0,1600.0,1300.0,1100.0,1600.0,1100.0,3900.0,2000.0,3900.0,1800.0,1300.0,2900.0,900.0,2700.0,1400.0,2100.0,900.0,1400.0,2200.0,3500.0,3900.0,3900.0,2500.0,3900.0,3000.0,3900.0,3900.0,900.0,3900.0,2700.0,3600.0,1300.0,2500.0,3900.0,3900.0,900.0,1200.0,1800.0,1100.0,900.0,3900.0,800.0,900.0,1000.0,1100.0,2000.0,1100.0,3200.0,1600.0,3900.0,800.0,800.0,2700.0,1900.0,3200.0,1500.0,1900.0,3200.0,3900.0,2300.0,3900.0,900.0,1400.0,700.0,1000.0,900.0,3300.0,3100.0,1200.0,700.0,900.0,700.0,3000.0,1800.0,3500.0,1500.0,2000.0,3800.0,900.0,2200.0,1200.0,3000.0,2600.0,600.0,3900.0,700.0,700.0,900.0,3700.0,1000.0,700.0,3300.0,3900.0,3400.0,1900.0,500.0,400.0,1100.0,600.0,1000.0,800.0,400.0,3900.0,1900.0,3300.0,700.0,400.0,500.0,2700.0,2400.0,1100.0,600.0,3100.0,3900.0,1300.0,1100.0,700.0,500.0,700.0,3700.0,1600.0,3100.0,700.0,600.0,2300.0,1200.0,3200.0,900.0,3900.0,500.0,900.0,2500.0,500.0,3900.0,500.0,1100.0,900.0,800.0,1900.0,700.0,3900.0,600.0,800.0,900.0,500.0,300.0,3900.0,3900.0,1400.0,3900.0,3900.0,500.0,1000.0,3900.0,900.0,500.0,700.0,1600.0,1100.0,900.0,1200.0,3900.0,400.0,900.0,3900.0,3700.0,1300.0,800.0,3900.0,3900.0,700.0,300.0,400.0,3900.0,900.0,1200.0,3900.0,600.0,700.0,400.0,2400.0,3900.0,700.0,3000.0,900.0,3200.0,800.0,800.0,500.0,3900.0,600.0,1300.0,300.0,500.0,1000.0,1600.0,400.0,700.0,700.0,3900.0,700.0,500.0,600.0,800.0,800.0,3700.0,1100.0,3900.0,400.0,500.0,3000.0,3900.0,1900.0,800.0,3900.0,900.0,3900.0,600.0,3900.0,1200.0,800.0,2000.0,3900.0,3900.0,700.0,3000.0,3100.0,3300.0,900.0,500.0,3400.0,3900.0,3900.0,3800.0,700.0,1600.0,3000.0,3200.0,600.0,1300.0,600.0,800.0,700.0,600.0,800.0,600.0,3900.0,500.0,600.0,3100.0,1200.0,3900.0,1100.0,400.0,700.0,2400.0,3900.0,500.0,600.0,1400.0,800.0,500.0,600.0,3900.0,500.0,500.0,800.0,1600.0,1400.0,1000.0,900.0,600.0,1800.0,600.0,2400.0,3900.0,800.0,600.0,3100.0,1000.0,500.0,1800.0,3900.0,800.0,1700.0,1700.0,900.0,3900.0,800.0,500.0,900.0,400.0,400.0,600.0,800.0,3900.0,600.0,3900.0,1200.0,1600.0,700.0,2200.0,800.0,800.0,500.0,3900.0,2500.0,600.0,1000.0,1900.0,3900.0,2400.0,800.0,600.0,600.0,600.0,3900.0,500.0,700.0,3600.0,600.0,2100.0,700.0,2900.0,700.0,1500.0,600.0,600.0,600.0,500.0,1900.0,1600.0,1400.0,500.0,1200.0,700.0,700.0,700.0,1600.0,1000.0,800.0,1400.0,600.0,1300.0,1000.0,1100.0,600.0,3900.0,1000.0,3900.0,700.0,900.0,1500.0,900.0,1000.0,700.0,3900.0,1200.0,3900.0,3900.0,700.0,3900.0,3500.0,3900.0,1100.0,1800.0,800.0,600.0,600.0,700.0,1000.0,2400.0,800.0,1400.0,800.0,1700.0,2400.0,800.0,3900.0,900.0,700.0,1400.0,600.0,1000.0,1600.0,1300.0,3900.0,700.0,1300.0,1400.0,1600.0,700.0,800.0,700.0,1300.0,1100.0,1100.0,1000.0,2000.0,600.0,1200.0,1700.0,900.0,1100.0,2200.0,1000.0,1800.0,1200.0,1000.0,800.0,1900.0,900.0,1600.0,1100.0,1600.0,2800.0,1600.0,1400.0,1200.0,1300.0,900.0,900.0,1200.0,1500.0,1400.0,1200.0,1100.0,1100.0,3900.0,1500.0,1600.0,1200.0,1300.0,1400.0,1700.0,1200.0,1900.0,1700.0,1600.0,1500.0,900.0,1700.0,1800.0,1400.0,1300.0,900.0,1100.0,1000.0,2000.0,1000.0,1700.0,1700.0,1600.0,800.0,1000.0,1000.0,1100.0,3900.0,1700.0,1400.0,1100.0,1000.0,2200.0,1200.0,1100.0,1700.0,1300.0,3000.0,1600.0,1300.0,1700.0,1200.0,1400.0,1600.0,1400.0,1500.0,1800.0,1100.0,1500.0,1900.0,3400.0,3000.0,1300.0,1000.0,1500.0,1500.0,1400.0,1600.0,1400.0,1400.0,2000.0,1300.0,1400.0,1400.0,1500.0,1500.0,1700.0,2100.0,1300.0,1300.0,2200.0,1400.0,1400.0,1800.0,2000.0,1100.0,1300.0,1800.0,1300.0,1600.0,1400.0,1400.0,1400.0,1500.0,1500.0,1400.0,2500.0,1700.0,1600.0,1500.0,1400.0,1500.0,1400.0,1100.0,1800.0,2000.0,1800.0,1600.0,1700.0,1300.0,1300.0,1600.0,1800.0,1300.0,1700.0,1700.0,1300.0,1500.0,1500.0,1300.0,1900.0,1400.0,1800.0,1200.0,1500.0,1100.0,1300.0,1100.0,2300.0,1900.0,1600.0,1500.0,1500.0,1200.0,1400.0,2200.0,1700.0,1400.0,1500.0,1400.0,2200.0,1300.0,1700.0,1500.0,1400.0,1500.0,1600.0,3900.0,1500.0,1200.0,1400.0,1700.0,1500.0,1400.0,1300.0,1900.0,1900.0,1900.0,1300.0,1300.0,1700.0,1200.0,2000.0,1500.0,3900.0,1600.0,1800.0,1500.0,1200.0,2300.0,1600.0,1600.0,2100.0,1500.0,1200.0,2200.0,1700.0,1900.0,1600.0,2400.0,1400.0,1500.0,2300.0,1500.0,2200.0,1600.0,1600.0,2200.0,1200.0,2900.0,1900.0,1600.0,1300.0,1300.0,1800.0,1600.0,1500.0,1300.0,1400.0,1400.0,1500.0,3900.0,1700.0,1100.0,1300.0,1600.0,1600.0,1800.0,2100.0,1300.0,2100.0,1200.0,1200.0,1600.0,3900.0,1500.0,1500.0,2400.0,1400.0,1900.0,2300.0,1500.0,1800.0,1500.0,1500.0,1700.0,1800.0,1500.0,1100.0,1300.0,1800.0,1300.0,1400.0,1500.0,1100.0,1700.0,1600.0,1300.0,1600.0,1900.0,1300.0,1800.0,1900.0,1600.0,1500.0,1500.0,1600.0,1400.0],\"coloraxis\":\"coloraxis\"},\"name\":\"\",\"type\":\"parcats\"}],                        {\"template\":{\"data\":{\"histogram2dcontour\":[{\"type\":\"histogram2dcontour\",\"colorbar\":{\"outlinewidth\":0,\"ticks\":\"\"},\"colorscale\":[[0.0,\"#0d0887\"],[0.1111111111111111,\"#46039f\"],[0.2222222222222222,\"#7201a8\"],[0.3333333333333333,\"#9c179e\"],[0.4444444444444444,\"#bd3786\"],[0.5555555555555556,\"#d8576b\"],[0.6666666666666666,\"#ed7953\"],[0.7777777777777778,\"#fb9f3a\"],[0.8888888888888888,\"#fdca26\"],[1.0,\"#f0f921\"]]}],\"choropleth\":[{\"type\":\"choropleth\",\"colorbar\":{\"outlinewidth\":0,\"ticks\":\"\"}}],\"histogram2d\":[{\"type\":\"histogram2d\",\"colorbar\":{\"outlinewidth\":0,\"ticks\":\"\"},\"colorscale\":[[0.0,\"#0d0887\"],[0.1111111111111111,\"#46039f\"],[0.2222222222222222,\"#7201a8\"],[0.3333333333333333,\"#9c179e\"],[0.4444444444444444,\"#bd3786\"],[0.5555555555555556,\"#d8576b\"],[0.6666666666666666,\"#ed7953\"],[0.7777777777777778,\"#fb9f3a\"],[0.8888888888888888,\"#fdca26\"],[1.0,\"#f0f921\"]]}],\"heatmap\":[{\"type\":\"heatmap\",\"colorbar\":{\"outlinewidth\":0,\"ticks\":\"\"},\"colorscale\":[[0.0,\"#0d0887\"],[0.1111111111111111,\"#46039f\"],[0.2222222222222222,\"#7201a8\"],[0.3333333333333333,\"#9c179e\"],[0.4444444444444444,\"#bd3786\"],[0.5555555555555556,\"#d8576b\"],[0.6666666666666666,\"#ed7953\"],[0.7777777777777778,\"#fb9f3a\"],[0.8888888888888888,\"#fdca26\"],[1.0,\"#f0f921\"]]}],\"heatmapgl\":[{\"type\":\"heatmapgl\",\"colorbar\":{\"outlinewidth\":0,\"ticks\":\"\"},\"colorscale\":[[0.0,\"#0d0887\"],[0.1111111111111111,\"#46039f\"],[0.2222222222222222,\"#7201a8\"],[0.3333333333333333,\"#9c179e\"],[0.4444444444444444,\"#bd3786\"],[0.5555555555555556,\"#d8576b\"],[0.6666666666666666,\"#ed7953\"],[0.7777777777777778,\"#fb9f3a\"],[0.8888888888888888,\"#fdca26\"],[1.0,\"#f0f921\"]]}],\"contourcarpet\":[{\"type\":\"contourcarpet\",\"colorbar\":{\"outlinewidth\":0,\"ticks\":\"\"}}],\"contour\":[{\"type\":\"contour\",\"colorbar\":{\"outlinewidth\":0,\"ticks\":\"\"},\"colorscale\":[[0.0,\"#0d0887\"],[0.1111111111111111,\"#46039f\"],[0.2222222222222222,\"#7201a8\"],[0.3333333333333333,\"#9c179e\"],[0.4444444444444444,\"#bd3786\"],[0.5555555555555556,\"#d8576b\"],[0.6666666666666666,\"#ed7953\"],[0.7777777777777778,\"#fb9f3a\"],[0.8888888888888888,\"#fdca26\"],[1.0,\"#f0f921\"]]}],\"surface\":[{\"type\":\"surface\",\"colorbar\":{\"outlinewidth\":0,\"ticks\":\"\"},\"colorscale\":[[0.0,\"#0d0887\"],[0.1111111111111111,\"#46039f\"],[0.2222222222222222,\"#7201a8\"],[0.3333333333333333,\"#9c179e\"],[0.4444444444444444,\"#bd3786\"],[0.5555555555555556,\"#d8576b\"],[0.6666666666666666,\"#ed7953\"],[0.7777777777777778,\"#fb9f3a\"],[0.8888888888888888,\"#fdca26\"],[1.0,\"#f0f921\"]]}],\"mesh3d\":[{\"type\":\"mesh3d\",\"colorbar\":{\"outlinewidth\":0,\"ticks\":\"\"}}],\"scatter\":[{\"fillpattern\":{\"fillmode\":\"overlay\",\"size\":10,\"solidity\":0.2},\"type\":\"scatter\"}],\"parcoords\":[{\"type\":\"parcoords\",\"line\":{\"colorbar\":{\"outlinewidth\":0,\"ticks\":\"\"}}}],\"scatterpolargl\":[{\"type\":\"scatterpolargl\",\"marker\":{\"colorbar\":{\"outlinewidth\":0,\"ticks\":\"\"}}}],\"bar\":[{\"error_x\":{\"color\":\"#2a3f5f\"},\"error_y\":{\"color\":\"#2a3f5f\"},\"marker\":{\"line\":{\"color\":\"#E5ECF6\",\"width\":0.5},\"pattern\":{\"fillmode\":\"overlay\",\"size\":10,\"solidity\":0.2}},\"type\":\"bar\"}],\"scattergeo\":[{\"type\":\"scattergeo\",\"marker\":{\"colorbar\":{\"outlinewidth\":0,\"ticks\":\"\"}}}],\"scatterpolar\":[{\"type\":\"scatterpolar\",\"marker\":{\"colorbar\":{\"outlinewidth\":0,\"ticks\":\"\"}}}],\"histogram\":[{\"marker\":{\"pattern\":{\"fillmode\":\"overlay\",\"size\":10,\"solidity\":0.2}},\"type\":\"histogram\"}],\"scattergl\":[{\"type\":\"scattergl\",\"marker\":{\"colorbar\":{\"outlinewidth\":0,\"ticks\":\"\"}}}],\"scatter3d\":[{\"type\":\"scatter3d\",\"line\":{\"colorbar\":{\"outlinewidth\":0,\"ticks\":\"\"}},\"marker\":{\"colorbar\":{\"outlinewidth\":0,\"ticks\":\"\"}}}],\"scattermapbox\":[{\"type\":\"scattermapbox\",\"marker\":{\"colorbar\":{\"outlinewidth\":0,\"ticks\":\"\"}}}],\"scatterternary\":[{\"type\":\"scatterternary\",\"marker\":{\"colorbar\":{\"outlinewidth\":0,\"ticks\":\"\"}}}],\"scattercarpet\":[{\"type\":\"scattercarpet\",\"marker\":{\"colorbar\":{\"outlinewidth\":0,\"ticks\":\"\"}}}],\"carpet\":[{\"aaxis\":{\"endlinecolor\":\"#2a3f5f\",\"gridcolor\":\"white\",\"linecolor\":\"white\",\"minorgridcolor\":\"white\",\"startlinecolor\":\"#2a3f5f\"},\"baxis\":{\"endlinecolor\":\"#2a3f5f\",\"gridcolor\":\"white\",\"linecolor\":\"white\",\"minorgridcolor\":\"white\",\"startlinecolor\":\"#2a3f5f\"},\"type\":\"carpet\"}],\"table\":[{\"cells\":{\"fill\":{\"color\":\"#EBF0F8\"},\"line\":{\"color\":\"white\"}},\"header\":{\"fill\":{\"color\":\"#C8D4E3\"},\"line\":{\"color\":\"white\"}},\"type\":\"table\"}],\"barpolar\":[{\"marker\":{\"line\":{\"color\":\"#E5ECF6\",\"width\":0.5},\"pattern\":{\"fillmode\":\"overlay\",\"size\":10,\"solidity\":0.2}},\"type\":\"barpolar\"}],\"pie\":[{\"automargin\":true,\"type\":\"pie\"}]},\"layout\":{\"autotypenumbers\":\"strict\",\"colorway\":[\"#636efa\",\"#EF553B\",\"#00cc96\",\"#ab63fa\",\"#FFA15A\",\"#19d3f3\",\"#FF6692\",\"#B6E880\",\"#FF97FF\",\"#FECB52\"],\"font\":{\"color\":\"#2a3f5f\"},\"hovermode\":\"closest\",\"hoverlabel\":{\"align\":\"left\"},\"paper_bgcolor\":\"white\",\"plot_bgcolor\":\"#E5ECF6\",\"polar\":{\"bgcolor\":\"#E5ECF6\",\"angularaxis\":{\"gridcolor\":\"white\",\"linecolor\":\"white\",\"ticks\":\"\"},\"radialaxis\":{\"gridcolor\":\"white\",\"linecolor\":\"white\",\"ticks\":\"\"}},\"ternary\":{\"bgcolor\":\"#E5ECF6\",\"aaxis\":{\"gridcolor\":\"white\",\"linecolor\":\"white\",\"ticks\":\"\"},\"baxis\":{\"gridcolor\":\"white\",\"linecolor\":\"white\",\"ticks\":\"\"},\"caxis\":{\"gridcolor\":\"white\",\"linecolor\":\"white\",\"ticks\":\"\"}},\"coloraxis\":{\"colorbar\":{\"outlinewidth\":0,\"ticks\":\"\"}},\"colorscale\":{\"sequential\":[[0.0,\"#0d0887\"],[0.1111111111111111,\"#46039f\"],[0.2222222222222222,\"#7201a8\"],[0.3333333333333333,\"#9c179e\"],[0.4444444444444444,\"#bd3786\"],[0.5555555555555556,\"#d8576b\"],[0.6666666666666666,\"#ed7953\"],[0.7777777777777778,\"#fb9f3a\"],[0.8888888888888888,\"#fdca26\"],[1.0,\"#f0f921\"]],\"sequentialminus\":[[0.0,\"#0d0887\"],[0.1111111111111111,\"#46039f\"],[0.2222222222222222,\"#7201a8\"],[0.3333333333333333,\"#9c179e\"],[0.4444444444444444,\"#bd3786\"],[0.5555555555555556,\"#d8576b\"],[0.6666666666666666,\"#ed7953\"],[0.7777777777777778,\"#fb9f3a\"],[0.8888888888888888,\"#fdca26\"],[1.0,\"#f0f921\"]],\"diverging\":[[0,\"#8e0152\"],[0.1,\"#c51b7d\"],[0.2,\"#de77ae\"],[0.3,\"#f1b6da\"],[0.4,\"#fde0ef\"],[0.5,\"#f7f7f7\"],[0.6,\"#e6f5d0\"],[0.7,\"#b8e186\"],[0.8,\"#7fbc41\"],[0.9,\"#4d9221\"],[1,\"#276419\"]]},\"xaxis\":{\"gridcolor\":\"white\",\"linecolor\":\"white\",\"ticks\":\"\",\"title\":{\"standoff\":15},\"zerolinecolor\":\"white\",\"automargin\":true,\"zerolinewidth\":2},\"yaxis\":{\"gridcolor\":\"white\",\"linecolor\":\"white\",\"ticks\":\"\",\"title\":{\"standoff\":15},\"zerolinecolor\":\"white\",\"automargin\":true,\"zerolinewidth\":2},\"scene\":{\"xaxis\":{\"backgroundcolor\":\"#E5ECF6\",\"gridcolor\":\"white\",\"linecolor\":\"white\",\"showbackground\":true,\"ticks\":\"\",\"zerolinecolor\":\"white\",\"gridwidth\":2},\"yaxis\":{\"backgroundcolor\":\"#E5ECF6\",\"gridcolor\":\"white\",\"linecolor\":\"white\",\"showbackground\":true,\"ticks\":\"\",\"zerolinecolor\":\"white\",\"gridwidth\":2},\"zaxis\":{\"backgroundcolor\":\"#E5ECF6\",\"gridcolor\":\"white\",\"linecolor\":\"white\",\"showbackground\":true,\"ticks\":\"\",\"zerolinecolor\":\"white\",\"gridwidth\":2}},\"shapedefaults\":{\"line\":{\"color\":\"#2a3f5f\"}},\"annotationdefaults\":{\"arrowcolor\":\"#2a3f5f\",\"arrowhead\":0,\"arrowwidth\":1},\"geo\":{\"bgcolor\":\"white\",\"landcolor\":\"#E5ECF6\",\"subunitcolor\":\"white\",\"showland\":true,\"showlakes\":true,\"lakecolor\":\"white\"},\"title\":{\"x\":0.05},\"mapbox\":{\"style\":\"light\"}}},\"coloraxis\":{\"colorbar\":{\"title\":{\"text\":\"Total Claims\"}},\"colorscale\":[[0.0,\"#0d0887\"],[0.1111111111111111,\"#46039f\"],[0.2222222222222222,\"#7201a8\"],[0.3333333333333333,\"#9c179e\"],[0.4444444444444444,\"#bd3786\"],[0.5555555555555556,\"#d8576b\"],[0.6666666666666666,\"#ed7953\"],[0.7777777777777778,\"#fb9f3a\"],[0.8888888888888888,\"#fdca26\"],[1.0,\"#f0f921\"]]},\"legend\":{\"tracegroupgap\":0},\"title\":{\"text\":\"Parallel Categories: Conditions, Meds, Encounters, and Claims\"}},                        {\"responsive\": true}                    ).then(function(){\n",
              "                            \n",
              "var gd = document.getElementById('4d33e5e5-e820-4634-a568-d715039502de');\n",
              "var x = new MutationObserver(function (mutations, observer) {{\n",
              "        var display = window.getComputedStyle(gd).display;\n",
              "        if (!display || display === 'none') {{\n",
              "            console.log([gd, 'removed!']);\n",
              "            Plotly.purge(gd);\n",
              "            observer.disconnect();\n",
              "        }}\n",
              "}});\n",
              "\n",
              "// Listen for the removal of the full notebook cells\n",
              "var notebookContainer = gd.closest('#notebook-container');\n",
              "if (notebookContainer) {{\n",
              "    x.observe(notebookContainer, {childList: true});\n",
              "}}\n",
              "\n",
              "// Listen for the clearing of the current output cell\n",
              "var outputEl = gd.closest('.output');\n",
              "if (outputEl) {{\n",
              "    x.observe(outputEl, {childList: true});\n",
              "}}\n",
              "\n",
              "                        })                };                            </script>        </div>\n",
              "</body>\n",
              "</html>"
            ]
          },
          "metadata": {}
        }
      ]
    },
    {
      "cell_type": "markdown",
      "source": [
        "**Why choose this plot?**\n",
        "\n",
        "Parallel categories plot reveals complex, multi-feature interactions between conditions, medications, encounters, and claims—making it easy to trace pathways associated with high-cost patients.\n",
        "\n",
        "**Insight:**\n",
        "\n",
        "Patterns show that patients with high claims often have many encounters, conditions, and medications simultaneously, highlighting the subgroup most likely to drive healthcare costs and multimorbidity burden.\n",
        "\n",
        "-------------------------------------"
      ],
      "metadata": {
        "id": "ieAZt4wXUkQz"
      }
    },
    {
      "cell_type": "markdown",
      "source": [
        "## **Key Insights from the Exploratory Data Analysis**\n",
        "\n",
        "**Class Imbalance Impact:**\n",
        "\n",
        "The dataset shows imbalance , requiring careful handling through CTGAN augmentation and class weighting.\n",
        "\n",
        "**Feature Correlations:**\n",
        "\n",
        " Strong correlations between healthcare utilization metrics (claims, medications, encounters) suggest underlying patient complexity patterns.\n",
        "\n",
        "**Demographic Disparities:**\n",
        "\n",
        " Analysis reveals significant differences in multimorbidity rates across age groups and genders, highlighting potential health equity concerns.\n",
        "\n",
        "**Healthcare Costs:**\n",
        "\n",
        "Multimorbid patients show exponentially higher healthcare costs, with t accounting for total claims.\n",
        "\n",
        "\n",
        "---------------------------------------------------------"
      ],
      "metadata": {
        "id": "27_c50Olp4Tt"
      }
    },
    {
      "cell_type": "markdown",
      "source": [
        "# **EDA Report & Modelling Outlook**\n",
        "\n",
        "### **1. Demographics & Diversity**\n",
        "\n",
        "Patient cohort covers all ages (0–100+), with balanced gender split and multiple races/ethnicities.\n",
        "\n",
        "Age is right-skewed, majority between 40–70, ideal for studying multimorbidity.\n",
        "\n",
        "### **2. Data Quality**\n",
        "\n",
        "Minimal missing values; heatmaps confirm good data integrity.\n",
        "\n",
        "Outlier capping done for key numeric features, ensuring robust input for modeling.\n",
        "\n",
        "### **3. Clinical & Utilization Patterns**\n",
        "\n",
        "Most have 3–6 conditions and take 1–3 medications, but a smaller group has complex multimorbidity & polypharmacy.\n",
        "\n",
        "Conditions/medications and encounters/claims strongly correlate, highlighting the cost of complexity.\n",
        "\n",
        "Respiratory illnesses and common allergies dominate diagnoses.\n",
        "\n",
        "### **4. Inequities**\n",
        "\n",
        "Disease and claim distributions vary by race but are similar across genders, indicating need for bias-mitigation in models.\n",
        "\n",
        "### **5. Feature Engineering**\n",
        "\n",
        "All variables clearly encoded; complex relationships (conditions, meds, encounters, claims) ready for supervised learning.\n",
        "\n",
        "# **Modelling Recommendations**\n",
        "\n",
        "\n",
        "- Data is clean and well-distributed; ready for classification/regression to predict multimorbidity risk or high-cost patients.\n",
        "\n",
        "- Key features: age, number of conditions, medication, encounters, and claims; add interaction terms for enhanced signal.\n",
        "\n",
        "- Generate Synthetic Data to tackle the class imbalance.\n",
        "\n",
        "\n",
        "### **In summary:**\n",
        "\n",
        "High data quality, useful variance in clinical/demographic variables, and well-managed outliers ensure this dataset is primed for robust multimorbidity prediction and healthcare analytics."
      ],
      "metadata": {
        "id": "8Fpg8141WojT"
      }
    }
  ]
}