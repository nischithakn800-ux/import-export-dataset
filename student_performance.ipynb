{
  "nbformat": 4,
  "nbformat_minor": 0,
  "metadata": {
    "colab": {
      "provenance": [],
      "authorship_tag": "ABX9TyOgDHcyMYzmP2CGfJ1HZWC0",
      "include_colab_link": true
    },
    "kernelspec": {
      "name": "python3",
      "display_name": "Python 3"
    },
    "language_info": {
      "name": "python"
    }
  },
  "cells": [
    {
      "cell_type": "markdown",
      "metadata": {
        "id": "view-in-github",
        "colab_type": "text"
      },
      "source": [
        "<a href=\"https://colab.research.google.com/github/nischithakn800-ux/import-export-dataset/blob/main/student_performance.ipynb\" target=\"_parent\"><img src=\"https://colab.research.google.com/assets/colab-badge.svg\" alt=\"Open In Colab\"/></a>"
      ]
    },
    {
      "cell_type": "markdown",
      "source": [
        "Project Name: **Predict Student Performance**\n",
        "\n",
        "Project by: **Nischitha K N**\n",
        "\n",
        "Github link: https://github.com/nischithakn800-ux/import-export-dataset/blob/main/student_performance.ipynb\n",
        "\n",
        "\n",
        "**1. Objective**\n",
        "\n",
        "To develop a machine learning model using an Artificial Neural Network (ANN) that accurately classifies student performance into High, Medium, or Low categories based on academic, behavioral, and socio-demographic features. The aim is to identify key factors influencing performance and enable data-driven insights for personalized academic support and intervention strategies.\n",
        "\n",
        "**2. Dataset**\n",
        "\n",
        "The dataset used in this project is sourced from Kaggle and is designed to support machine learning models that predict student performance based on a variety of academic and socio-demographic factors. It is structured as a CSV file, where each row represents an individual student and each column captures a specific attribute such as gender, parental education level, lunch type, test preparation status, and scores in math, reading, and writing. These features provide a comprehensive view of the student's background and academic behavior. The target variable, labeled as \"Performance,\" is derived by calculating the average of the three subject scores and categorizing the result into three classes: High, Medium, and Low. This transformation enables the dataset to be used for multi-class classification tasks. Most of the features are categorical, requiring encoding before model training, and the dataset is generally clean with minimal missing values. Overall, it offers a rich foundation for building predictive models that can help identify students who may benefit from additional academic support.\n",
        "\n",
        "**Import Libraries**"
      ],
      "metadata": {
        "id": "dCURBXETAtYw"
      }
    },
    {
      "cell_type": "code",
      "source": [
        "# Data handling and preprocessing\n",
        "import pandas as pd\n",
        "\n",
        "# Numerical operations\n",
        "import numpy as np\n",
        "\n",
        "# Encoding, splitting, evaluation\n",
        "from sklearn.preprocessing import LabelEncoder, StandardScaler\n",
        "from sklearn.model_selection import train_test_split\n",
        "from sklearn.metrics import classification_report, confusion_matrix\n",
        "\n",
        "# Building and training the ANN\n",
        "from tensorflow.keras.models import Sequential\n",
        "from tensorflow.keras.layers import Input, Dense, Dropout\n",
        "\n",
        "# Visualization (optional)\n",
        "import matplotlib.pyplot as plt\n",
        "import seaborn as sns\n"
      ],
      "metadata": {
        "id": "fxYXHzpTKYxw"
      },
      "execution_count": null,
      "outputs": []
    },
    {
      "cell_type": "markdown",
      "source": [
        "This project uses Pandas and NumPy for data handling and numerical operations, Scikit-learn for encoding, splitting, scaling, and evaluation, and Keras (TensorFlow) to build and train the ANN model. Matplotlib and Seaborn are optionally used for visualizing results like training curves and confusion matrices."
      ],
      "metadata": {
        "id": "FSsllqcGTSh7"
      }
    },
    {
      "cell_type": "markdown",
      "source": [
        "**3. Preprocessing**"
      ],
      "metadata": {
        "id": "plbowJgPNw__"
      }
    },
    {
      "cell_type": "code",
      "source": [
        "df.head()  # Shows the first few rows"
      ],
      "metadata": {
        "colab": {
          "base_uri": "https://localhost:8080/",
          "height": 255
        },
        "id": "VL-5qaOeOZjF",
        "outputId": "6ef8e550-5572-4b87-a55c-f92ec8905598"
      },
      "execution_count": null,
      "outputs": [
        {
          "output_type": "execute_result",
          "data": {
            "text/plain": [
              "   study_hours  attendance  previous_grades  family_support  \\\n",
              "0           38          52               97               1   \n",
              "1           28          50               99               0   \n",
              "2           14          52               52               0   \n",
              "3            7          86               75               1   \n",
              "4           20          56               83               0   \n",
              "\n",
              "   internet_usage_hours  health_status  extracurricular  parent_education  \\\n",
              "0                     0              2                0                 1   \n",
              "1                     6              2                0                 3   \n",
              "2                     8              0                1                 2   \n",
              "3                     7              0                1                 0   \n",
              "4                     6              0                0                 2   \n",
              "\n",
              "   gender  age  ...  feature_12  feature_13  feature_14  feature_15  \\\n",
              "0       0   18  ...   27.025083  -11.650198   10.871542    9.170781   \n",
              "1       1   17  ...    5.907588    2.318134   -7.754289   15.113327   \n",
              "2       0   19  ...  -17.603919  -23.024040    2.019941  -15.902297   \n",
              "3       0   15  ...  -16.442422   10.126945    7.430617   -4.658069   \n",
              "4       1   18  ...   -2.884741    2.483495   15.738393    8.884712   \n",
              "\n",
              "   feature_16  feature_17  feature_18  feature_19  feature_20  Performance  \n",
              "0    7.055236    0.913864   -6.076116   -7.677381   -5.269146            1  \n",
              "1    2.693625   13.611272    5.686748  -11.823287   -4.111926            2  \n",
              "2  -15.072195   -0.730734   16.492616   -7.974912   18.853401            0  \n",
              "3   12.124363    7.919797   10.928980  -18.318071  -12.834320            0  \n",
              "4   -6.336795    0.692728   16.534280   -2.148830  -12.869943            2  \n",
              "\n",
              "[5 rows x 31 columns]"
            ],
            "text/html": [
              "\n",
              "  <div id=\"df-ef0246b8-a421-4346-9b33-61b0b0db9b28\" class=\"colab-df-container\">\n",
              "    <div>\n",
              "<style scoped>\n",
              "    .dataframe tbody tr th:only-of-type {\n",
              "        vertical-align: middle;\n",
              "    }\n",
              "\n",
              "    .dataframe tbody tr th {\n",
              "        vertical-align: top;\n",
              "    }\n",
              "\n",
              "    .dataframe thead th {\n",
              "        text-align: right;\n",
              "    }\n",
              "</style>\n",
              "<table border=\"1\" class=\"dataframe\">\n",
              "  <thead>\n",
              "    <tr style=\"text-align: right;\">\n",
              "      <th></th>\n",
              "      <th>study_hours</th>\n",
              "      <th>attendance</th>\n",
              "      <th>previous_grades</th>\n",
              "      <th>family_support</th>\n",
              "      <th>internet_usage_hours</th>\n",
              "      <th>health_status</th>\n",
              "      <th>extracurricular</th>\n",
              "      <th>parent_education</th>\n",
              "      <th>gender</th>\n",
              "      <th>age</th>\n",
              "      <th>...</th>\n",
              "      <th>feature_12</th>\n",
              "      <th>feature_13</th>\n",
              "      <th>feature_14</th>\n",
              "      <th>feature_15</th>\n",
              "      <th>feature_16</th>\n",
              "      <th>feature_17</th>\n",
              "      <th>feature_18</th>\n",
              "      <th>feature_19</th>\n",
              "      <th>feature_20</th>\n",
              "      <th>Performance</th>\n",
              "    </tr>\n",
              "  </thead>\n",
              "  <tbody>\n",
              "    <tr>\n",
              "      <th>0</th>\n",
              "      <td>38</td>\n",
              "      <td>52</td>\n",
              "      <td>97</td>\n",
              "      <td>1</td>\n",
              "      <td>0</td>\n",
              "      <td>2</td>\n",
              "      <td>0</td>\n",
              "      <td>1</td>\n",
              "      <td>0</td>\n",
              "      <td>18</td>\n",
              "      <td>...</td>\n",
              "      <td>27.025083</td>\n",
              "      <td>-11.650198</td>\n",
              "      <td>10.871542</td>\n",
              "      <td>9.170781</td>\n",
              "      <td>7.055236</td>\n",
              "      <td>0.913864</td>\n",
              "      <td>-6.076116</td>\n",
              "      <td>-7.677381</td>\n",
              "      <td>-5.269146</td>\n",
              "      <td>1</td>\n",
              "    </tr>\n",
              "    <tr>\n",
              "      <th>1</th>\n",
              "      <td>28</td>\n",
              "      <td>50</td>\n",
              "      <td>99</td>\n",
              "      <td>0</td>\n",
              "      <td>6</td>\n",
              "      <td>2</td>\n",
              "      <td>0</td>\n",
              "      <td>3</td>\n",
              "      <td>1</td>\n",
              "      <td>17</td>\n",
              "      <td>...</td>\n",
              "      <td>5.907588</td>\n",
              "      <td>2.318134</td>\n",
              "      <td>-7.754289</td>\n",
              "      <td>15.113327</td>\n",
              "      <td>2.693625</td>\n",
              "      <td>13.611272</td>\n",
              "      <td>5.686748</td>\n",
              "      <td>-11.823287</td>\n",
              "      <td>-4.111926</td>\n",
              "      <td>2</td>\n",
              "    </tr>\n",
              "    <tr>\n",
              "      <th>2</th>\n",
              "      <td>14</td>\n",
              "      <td>52</td>\n",
              "      <td>52</td>\n",
              "      <td>0</td>\n",
              "      <td>8</td>\n",
              "      <td>0</td>\n",
              "      <td>1</td>\n",
              "      <td>2</td>\n",
              "      <td>0</td>\n",
              "      <td>19</td>\n",
              "      <td>...</td>\n",
              "      <td>-17.603919</td>\n",
              "      <td>-23.024040</td>\n",
              "      <td>2.019941</td>\n",
              "      <td>-15.902297</td>\n",
              "      <td>-15.072195</td>\n",
              "      <td>-0.730734</td>\n",
              "      <td>16.492616</td>\n",
              "      <td>-7.974912</td>\n",
              "      <td>18.853401</td>\n",
              "      <td>0</td>\n",
              "    </tr>\n",
              "    <tr>\n",
              "      <th>3</th>\n",
              "      <td>7</td>\n",
              "      <td>86</td>\n",
              "      <td>75</td>\n",
              "      <td>1</td>\n",
              "      <td>7</td>\n",
              "      <td>0</td>\n",
              "      <td>1</td>\n",
              "      <td>0</td>\n",
              "      <td>0</td>\n",
              "      <td>15</td>\n",
              "      <td>...</td>\n",
              "      <td>-16.442422</td>\n",
              "      <td>10.126945</td>\n",
              "      <td>7.430617</td>\n",
              "      <td>-4.658069</td>\n",
              "      <td>12.124363</td>\n",
              "      <td>7.919797</td>\n",
              "      <td>10.928980</td>\n",
              "      <td>-18.318071</td>\n",
              "      <td>-12.834320</td>\n",
              "      <td>0</td>\n",
              "    </tr>\n",
              "    <tr>\n",
              "      <th>4</th>\n",
              "      <td>20</td>\n",
              "      <td>56</td>\n",
              "      <td>83</td>\n",
              "      <td>0</td>\n",
              "      <td>6</td>\n",
              "      <td>0</td>\n",
              "      <td>0</td>\n",
              "      <td>2</td>\n",
              "      <td>1</td>\n",
              "      <td>18</td>\n",
              "      <td>...</td>\n",
              "      <td>-2.884741</td>\n",
              "      <td>2.483495</td>\n",
              "      <td>15.738393</td>\n",
              "      <td>8.884712</td>\n",
              "      <td>-6.336795</td>\n",
              "      <td>0.692728</td>\n",
              "      <td>16.534280</td>\n",
              "      <td>-2.148830</td>\n",
              "      <td>-12.869943</td>\n",
              "      <td>2</td>\n",
              "    </tr>\n",
              "  </tbody>\n",
              "</table>\n",
              "<p>5 rows × 31 columns</p>\n",
              "</div>\n",
              "    <div class=\"colab-df-buttons\">\n",
              "\n",
              "  <div class=\"colab-df-container\">\n",
              "    <button class=\"colab-df-convert\" onclick=\"convertToInteractive('df-ef0246b8-a421-4346-9b33-61b0b0db9b28')\"\n",
              "            title=\"Convert this dataframe to an interactive table.\"\n",
              "            style=\"display:none;\">\n",
              "\n",
              "  <svg xmlns=\"http://www.w3.org/2000/svg\" height=\"24px\" viewBox=\"0 -960 960 960\">\n",
              "    <path d=\"M120-120v-720h720v720H120Zm60-500h600v-160H180v160Zm220 220h160v-160H400v160Zm0 220h160v-160H400v160ZM180-400h160v-160H180v160Zm440 0h160v-160H620v160ZM180-180h160v-160H180v160Zm440 0h160v-160H620v160Z\"/>\n",
              "  </svg>\n",
              "    </button>\n",
              "\n",
              "  <style>\n",
              "    .colab-df-container {\n",
              "      display:flex;\n",
              "      gap: 12px;\n",
              "    }\n",
              "\n",
              "    .colab-df-convert {\n",
              "      background-color: #E8F0FE;\n",
              "      border: none;\n",
              "      border-radius: 50%;\n",
              "      cursor: pointer;\n",
              "      display: none;\n",
              "      fill: #1967D2;\n",
              "      height: 32px;\n",
              "      padding: 0 0 0 0;\n",
              "      width: 32px;\n",
              "    }\n",
              "\n",
              "    .colab-df-convert:hover {\n",
              "      background-color: #E2EBFA;\n",
              "      box-shadow: 0px 1px 2px rgba(60, 64, 67, 0.3), 0px 1px 3px 1px rgba(60, 64, 67, 0.15);\n",
              "      fill: #174EA6;\n",
              "    }\n",
              "\n",
              "    .colab-df-buttons div {\n",
              "      margin-bottom: 4px;\n",
              "    }\n",
              "\n",
              "    [theme=dark] .colab-df-convert {\n",
              "      background-color: #3B4455;\n",
              "      fill: #D2E3FC;\n",
              "    }\n",
              "\n",
              "    [theme=dark] .colab-df-convert:hover {\n",
              "      background-color: #434B5C;\n",
              "      box-shadow: 0px 1px 3px 1px rgba(0, 0, 0, 0.15);\n",
              "      filter: drop-shadow(0px 1px 2px rgba(0, 0, 0, 0.3));\n",
              "      fill: #FFFFFF;\n",
              "    }\n",
              "  </style>\n",
              "\n",
              "    <script>\n",
              "      const buttonEl =\n",
              "        document.querySelector('#df-ef0246b8-a421-4346-9b33-61b0b0db9b28 button.colab-df-convert');\n",
              "      buttonEl.style.display =\n",
              "        google.colab.kernel.accessAllowed ? 'block' : 'none';\n",
              "\n",
              "      async function convertToInteractive(key) {\n",
              "        const element = document.querySelector('#df-ef0246b8-a421-4346-9b33-61b0b0db9b28');\n",
              "        const dataTable =\n",
              "          await google.colab.kernel.invokeFunction('convertToInteractive',\n",
              "                                                    [key], {});\n",
              "        if (!dataTable) return;\n",
              "\n",
              "        const docLinkHtml = 'Like what you see? Visit the ' +\n",
              "          '<a target=\"_blank\" href=https://colab.research.google.com/notebooks/data_table.ipynb>data table notebook</a>'\n",
              "          + ' to learn more about interactive tables.';\n",
              "        element.innerHTML = '';\n",
              "        dataTable['output_type'] = 'display_data';\n",
              "        await google.colab.output.renderOutput(dataTable, element);\n",
              "        const docLink = document.createElement('div');\n",
              "        docLink.innerHTML = docLinkHtml;\n",
              "        element.appendChild(docLink);\n",
              "      }\n",
              "    </script>\n",
              "  </div>\n",
              "\n",
              "\n",
              "    <div id=\"df-833caeba-9242-4d61-9a51-83b3d4dfcf25\">\n",
              "      <button class=\"colab-df-quickchart\" onclick=\"quickchart('df-833caeba-9242-4d61-9a51-83b3d4dfcf25')\"\n",
              "                title=\"Suggest charts\"\n",
              "                style=\"display:none;\">\n",
              "\n",
              "<svg xmlns=\"http://www.w3.org/2000/svg\" height=\"24px\"viewBox=\"0 0 24 24\"\n",
              "     width=\"24px\">\n",
              "    <g>\n",
              "        <path d=\"M19 3H5c-1.1 0-2 .9-2 2v14c0 1.1.9 2 2 2h14c1.1 0 2-.9 2-2V5c0-1.1-.9-2-2-2zM9 17H7v-7h2v7zm4 0h-2V7h2v10zm4 0h-2v-4h2v4z\"/>\n",
              "    </g>\n",
              "</svg>\n",
              "      </button>\n",
              "\n",
              "<style>\n",
              "  .colab-df-quickchart {\n",
              "      --bg-color: #E8F0FE;\n",
              "      --fill-color: #1967D2;\n",
              "      --hover-bg-color: #E2EBFA;\n",
              "      --hover-fill-color: #174EA6;\n",
              "      --disabled-fill-color: #AAA;\n",
              "      --disabled-bg-color: #DDD;\n",
              "  }\n",
              "\n",
              "  [theme=dark] .colab-df-quickchart {\n",
              "      --bg-color: #3B4455;\n",
              "      --fill-color: #D2E3FC;\n",
              "      --hover-bg-color: #434B5C;\n",
              "      --hover-fill-color: #FFFFFF;\n",
              "      --disabled-bg-color: #3B4455;\n",
              "      --disabled-fill-color: #666;\n",
              "  }\n",
              "\n",
              "  .colab-df-quickchart {\n",
              "    background-color: var(--bg-color);\n",
              "    border: none;\n",
              "    border-radius: 50%;\n",
              "    cursor: pointer;\n",
              "    display: none;\n",
              "    fill: var(--fill-color);\n",
              "    height: 32px;\n",
              "    padding: 0;\n",
              "    width: 32px;\n",
              "  }\n",
              "\n",
              "  .colab-df-quickchart:hover {\n",
              "    background-color: var(--hover-bg-color);\n",
              "    box-shadow: 0 1px 2px rgba(60, 64, 67, 0.3), 0 1px 3px 1px rgba(60, 64, 67, 0.15);\n",
              "    fill: var(--button-hover-fill-color);\n",
              "  }\n",
              "\n",
              "  .colab-df-quickchart-complete:disabled,\n",
              "  .colab-df-quickchart-complete:disabled:hover {\n",
              "    background-color: var(--disabled-bg-color);\n",
              "    fill: var(--disabled-fill-color);\n",
              "    box-shadow: none;\n",
              "  }\n",
              "\n",
              "  .colab-df-spinner {\n",
              "    border: 2px solid var(--fill-color);\n",
              "    border-color: transparent;\n",
              "    border-bottom-color: var(--fill-color);\n",
              "    animation:\n",
              "      spin 1s steps(1) infinite;\n",
              "  }\n",
              "\n",
              "  @keyframes spin {\n",
              "    0% {\n",
              "      border-color: transparent;\n",
              "      border-bottom-color: var(--fill-color);\n",
              "      border-left-color: var(--fill-color);\n",
              "    }\n",
              "    20% {\n",
              "      border-color: transparent;\n",
              "      border-left-color: var(--fill-color);\n",
              "      border-top-color: var(--fill-color);\n",
              "    }\n",
              "    30% {\n",
              "      border-color: transparent;\n",
              "      border-left-color: var(--fill-color);\n",
              "      border-top-color: var(--fill-color);\n",
              "      border-right-color: var(--fill-color);\n",
              "    }\n",
              "    40% {\n",
              "      border-color: transparent;\n",
              "      border-right-color: var(--fill-color);\n",
              "      border-top-color: var(--fill-color);\n",
              "    }\n",
              "    60% {\n",
              "      border-color: transparent;\n",
              "      border-right-color: var(--fill-color);\n",
              "    }\n",
              "    80% {\n",
              "      border-color: transparent;\n",
              "      border-right-color: var(--fill-color);\n",
              "      border-bottom-color: var(--fill-color);\n",
              "    }\n",
              "    90% {\n",
              "      border-color: transparent;\n",
              "      border-bottom-color: var(--fill-color);\n",
              "    }\n",
              "  }\n",
              "</style>\n",
              "\n",
              "      <script>\n",
              "        async function quickchart(key) {\n",
              "          const quickchartButtonEl =\n",
              "            document.querySelector('#' + key + ' button');\n",
              "          quickchartButtonEl.disabled = true;  // To prevent multiple clicks.\n",
              "          quickchartButtonEl.classList.add('colab-df-spinner');\n",
              "          try {\n",
              "            const charts = await google.colab.kernel.invokeFunction(\n",
              "                'suggestCharts', [key], {});\n",
              "          } catch (error) {\n",
              "            console.error('Error during call to suggestCharts:', error);\n",
              "          }\n",
              "          quickchartButtonEl.classList.remove('colab-df-spinner');\n",
              "          quickchartButtonEl.classList.add('colab-df-quickchart-complete');\n",
              "        }\n",
              "        (() => {\n",
              "          let quickchartButtonEl =\n",
              "            document.querySelector('#df-833caeba-9242-4d61-9a51-83b3d4dfcf25 button');\n",
              "          quickchartButtonEl.style.display =\n",
              "            google.colab.kernel.accessAllowed ? 'block' : 'none';\n",
              "        })();\n",
              "      </script>\n",
              "    </div>\n",
              "\n",
              "    </div>\n",
              "  </div>\n"
            ],
            "application/vnd.google.colaboratory.intrinsic+json": {
              "type": "dataframe",
              "variable_name": "df"
            }
          },
          "metadata": {},
          "execution_count": 95
        }
      ]
    },
    {
      "cell_type": "markdown",
      "source": [
        "df.head() is a Pandas function that displays the first five rows of the dataset, helping you quickly preview its structure, column names, and sample data to ensure it loaded correctly."
      ],
      "metadata": {
        "id": "Y10e0hx7TjaA"
      }
    },
    {
      "cell_type": "code",
      "source": [
        "print(\"Missing values after cleaning:\")\n",
        "print(df.isnull().sum())\n",
        "print(\"Encoded Data Sample:\")\n",
        "print(df.head())\n",
        "print(\"Training set shape:\", X_train.shape)\n",
        "print(\"Test set shape:\", X_test.shape)\n",
        "print(\"Scaled training data (first row):\")\n",
        "print(X_train[0])\n"
      ],
      "metadata": {
        "colab": {
          "base_uri": "https://localhost:8080/"
        },
        "id": "9noiG_MSN2J0",
        "outputId": "796c9686-8455-4aa9-8212-127aa0ca0754"
      },
      "execution_count": null,
      "outputs": [
        {
          "output_type": "stream",
          "name": "stdout",
          "text": [
            "Missing values after cleaning:\n",
            "study_hours             0\n",
            "attendance              0\n",
            "previous_grades         0\n",
            "family_support          0\n",
            "internet_usage_hours    0\n",
            "health_status           0\n",
            "extracurricular         0\n",
            "parent_education        0\n",
            "gender                  0\n",
            "age                     0\n",
            "feature_1               0\n",
            "feature_2               0\n",
            "feature_3               0\n",
            "feature_4               0\n",
            "feature_5               0\n",
            "feature_6               0\n",
            "feature_7               0\n",
            "feature_8               0\n",
            "feature_9               0\n",
            "feature_10              0\n",
            "feature_11              0\n",
            "feature_12              0\n",
            "feature_13              0\n",
            "feature_14              0\n",
            "feature_15              0\n",
            "feature_16              0\n",
            "feature_17              0\n",
            "feature_18              0\n",
            "feature_19              0\n",
            "feature_20              0\n",
            "Performance             0\n",
            "dtype: int64\n",
            "Encoded Data Sample:\n",
            "   study_hours  attendance  previous_grades  family_support  \\\n",
            "0           38          52               97               1   \n",
            "1           28          50               99               0   \n",
            "2           14          52               52               0   \n",
            "3            7          86               75               1   \n",
            "4           20          56               83               0   \n",
            "\n",
            "   internet_usage_hours  health_status  extracurricular  parent_education  \\\n",
            "0                     0              2                0                 1   \n",
            "1                     6              2                0                 3   \n",
            "2                     8              0                1                 2   \n",
            "3                     7              0                1                 0   \n",
            "4                     6              0                0                 2   \n",
            "\n",
            "   gender  age  ...  feature_12  feature_13  feature_14  feature_15  \\\n",
            "0       0   18  ...   27.025083  -11.650198   10.871542    9.170781   \n",
            "1       1   17  ...    5.907588    2.318134   -7.754289   15.113327   \n",
            "2       0   19  ...  -17.603919  -23.024040    2.019941  -15.902297   \n",
            "3       0   15  ...  -16.442422   10.126945    7.430617   -4.658069   \n",
            "4       1   18  ...   -2.884741    2.483495   15.738393    8.884712   \n",
            "\n",
            "   feature_16  feature_17  feature_18  feature_19  feature_20  Performance  \n",
            "0    7.055236    0.913864   -6.076116   -7.677381   -5.269146            1  \n",
            "1    2.693625   13.611272    5.686748  -11.823287   -4.111926            2  \n",
            "2  -15.072195   -0.730734   16.492616   -7.974912   18.853401            0  \n",
            "3   12.124363    7.919797   10.928980  -18.318071  -12.834320            0  \n",
            "4   -6.336795    0.692728   16.534280   -2.148830  -12.869943            2  \n",
            "\n",
            "[5 rows x 31 columns]\n",
            "Training set shape: (16000, 30)\n",
            "Test set shape: (4000, 30)\n",
            "Scaled training data (first row):\n",
            "[ 1.17999006  1.48893446 -1.53387307  1.00250313  0.85658754 -0.01040147\n",
            "  1.00929318  0.45059747 -0.98807114 -0.98797231  1.19370706 -0.74820226\n",
            "  1.48125302  1.84955185 -0.26138015 -0.11582146 -1.54705663  0.95464168\n",
            " -1.24937378 -1.186394   -1.40785023 -0.13302369 -0.36930716  2.3937311\n",
            "  1.45072926 -0.9522887   0.2583025  -0.9375379   1.11639028 -0.56185799]\n"
          ]
        }
      ]
    },
    {
      "cell_type": "markdown",
      "source": [
        "These print statements help verify each step of data processing. They show missing values after cleaning, a sample of the encoded data, the shape of training and test sets, and the first row of scaled training data—confirming that preprocessing was done correctly before model training."
      ],
      "metadata": {
        "id": "uQoHAusTTmSo"
      }
    },
    {
      "cell_type": "markdown",
      "source": [
        "**4. Model Architecture**"
      ],
      "metadata": {
        "id": "xQB8laNYOt2w"
      }
    },
    {
      "cell_type": "code",
      "source": [
        "model.summary()\n"
      ],
      "metadata": {
        "colab": {
          "base_uri": "https://localhost:8080/",
          "height": 273
        },
        "id": "GTYWAL1hJBHn",
        "outputId": "1947abc3-79ca-4eb6-ce0b-0ef712a1f535"
      },
      "execution_count": null,
      "outputs": [
        {
          "output_type": "display_data",
          "data": {
            "text/plain": [
              "\u001b[1mModel: \"sequential_19\"\u001b[0m\n"
            ],
            "text/html": [
              "<pre style=\"white-space:pre;overflow-x:auto;line-height:normal;font-family:Menlo,'DejaVu Sans Mono',consolas,'Courier New',monospace\"><span style=\"font-weight: bold\">Model: \"sequential_19\"</span>\n",
              "</pre>\n"
            ]
          },
          "metadata": {}
        },
        {
          "output_type": "display_data",
          "data": {
            "text/plain": [
              "┏━━━━━━━━━━━━━━━━━━━━━━━━━━━━━━━━━┳━━━━━━━━━━━━━━━━━━━━━━━━┳━━━━━━━━━━━━━━━┓\n",
              "┃\u001b[1m \u001b[0m\u001b[1mLayer (type)                   \u001b[0m\u001b[1m \u001b[0m┃\u001b[1m \u001b[0m\u001b[1mOutput Shape          \u001b[0m\u001b[1m \u001b[0m┃\u001b[1m \u001b[0m\u001b[1m      Param #\u001b[0m\u001b[1m \u001b[0m┃\n",
              "┡━━━━━━━━━━━━━━━━━━━━━━━━━━━━━━━━━╇━━━━━━━━━━━━━━━━━━━━━━━━╇━━━━━━━━━━━━━━━┩\n",
              "│ dense_57 (\u001b[38;5;33mDense\u001b[0m)                │ (\u001b[38;5;45mNone\u001b[0m, \u001b[38;5;34m64\u001b[0m)             │         \u001b[38;5;34m1,984\u001b[0m │\n",
              "├─────────────────────────────────┼────────────────────────┼───────────────┤\n",
              "│ dropout_19 (\u001b[38;5;33mDropout\u001b[0m)            │ (\u001b[38;5;45mNone\u001b[0m, \u001b[38;5;34m64\u001b[0m)             │             \u001b[38;5;34m0\u001b[0m │\n",
              "├─────────────────────────────────┼────────────────────────┼───────────────┤\n",
              "│ dense_58 (\u001b[38;5;33mDense\u001b[0m)                │ (\u001b[38;5;45mNone\u001b[0m, \u001b[38;5;34m32\u001b[0m)             │         \u001b[38;5;34m2,080\u001b[0m │\n",
              "├─────────────────────────────────┼────────────────────────┼───────────────┤\n",
              "│ dense_59 (\u001b[38;5;33mDense\u001b[0m)                │ (\u001b[38;5;45mNone\u001b[0m, \u001b[38;5;34m3\u001b[0m)              │            \u001b[38;5;34m99\u001b[0m │\n",
              "└─────────────────────────────────┴────────────────────────┴───────────────┘\n"
            ],
            "text/html": [
              "<pre style=\"white-space:pre;overflow-x:auto;line-height:normal;font-family:Menlo,'DejaVu Sans Mono',consolas,'Courier New',monospace\">┏━━━━━━━━━━━━━━━━━━━━━━━━━━━━━━━━━┳━━━━━━━━━━━━━━━━━━━━━━━━┳━━━━━━━━━━━━━━━┓\n",
              "┃<span style=\"font-weight: bold\"> Layer (type)                    </span>┃<span style=\"font-weight: bold\"> Output Shape           </span>┃<span style=\"font-weight: bold\">       Param # </span>┃\n",
              "┡━━━━━━━━━━━━━━━━━━━━━━━━━━━━━━━━━╇━━━━━━━━━━━━━━━━━━━━━━━━╇━━━━━━━━━━━━━━━┩\n",
              "│ dense_57 (<span style=\"color: #0087ff; text-decoration-color: #0087ff\">Dense</span>)                │ (<span style=\"color: #00d7ff; text-decoration-color: #00d7ff\">None</span>, <span style=\"color: #00af00; text-decoration-color: #00af00\">64</span>)             │         <span style=\"color: #00af00; text-decoration-color: #00af00\">1,984</span> │\n",
              "├─────────────────────────────────┼────────────────────────┼───────────────┤\n",
              "│ dropout_19 (<span style=\"color: #0087ff; text-decoration-color: #0087ff\">Dropout</span>)            │ (<span style=\"color: #00d7ff; text-decoration-color: #00d7ff\">None</span>, <span style=\"color: #00af00; text-decoration-color: #00af00\">64</span>)             │             <span style=\"color: #00af00; text-decoration-color: #00af00\">0</span> │\n",
              "├─────────────────────────────────┼────────────────────────┼───────────────┤\n",
              "│ dense_58 (<span style=\"color: #0087ff; text-decoration-color: #0087ff\">Dense</span>)                │ (<span style=\"color: #00d7ff; text-decoration-color: #00d7ff\">None</span>, <span style=\"color: #00af00; text-decoration-color: #00af00\">32</span>)             │         <span style=\"color: #00af00; text-decoration-color: #00af00\">2,080</span> │\n",
              "├─────────────────────────────────┼────────────────────────┼───────────────┤\n",
              "│ dense_59 (<span style=\"color: #0087ff; text-decoration-color: #0087ff\">Dense</span>)                │ (<span style=\"color: #00d7ff; text-decoration-color: #00d7ff\">None</span>, <span style=\"color: #00af00; text-decoration-color: #00af00\">3</span>)              │            <span style=\"color: #00af00; text-decoration-color: #00af00\">99</span> │\n",
              "└─────────────────────────────────┴────────────────────────┴───────────────┘\n",
              "</pre>\n"
            ]
          },
          "metadata": {}
        },
        {
          "output_type": "display_data",
          "data": {
            "text/plain": [
              "\u001b[1m Total params: \u001b[0m\u001b[38;5;34m12,491\u001b[0m (48.80 KB)\n"
            ],
            "text/html": [
              "<pre style=\"white-space:pre;overflow-x:auto;line-height:normal;font-family:Menlo,'DejaVu Sans Mono',consolas,'Courier New',monospace\"><span style=\"font-weight: bold\"> Total params: </span><span style=\"color: #00af00; text-decoration-color: #00af00\">12,491</span> (48.80 KB)\n",
              "</pre>\n"
            ]
          },
          "metadata": {}
        },
        {
          "output_type": "display_data",
          "data": {
            "text/plain": [
              "\u001b[1m Trainable params: \u001b[0m\u001b[38;5;34m4,163\u001b[0m (16.26 KB)\n"
            ],
            "text/html": [
              "<pre style=\"white-space:pre;overflow-x:auto;line-height:normal;font-family:Menlo,'DejaVu Sans Mono',consolas,'Courier New',monospace\"><span style=\"font-weight: bold\"> Trainable params: </span><span style=\"color: #00af00; text-decoration-color: #00af00\">4,163</span> (16.26 KB)\n",
              "</pre>\n"
            ]
          },
          "metadata": {}
        },
        {
          "output_type": "display_data",
          "data": {
            "text/plain": [
              "\u001b[1m Non-trainable params: \u001b[0m\u001b[38;5;34m0\u001b[0m (0.00 B)\n"
            ],
            "text/html": [
              "<pre style=\"white-space:pre;overflow-x:auto;line-height:normal;font-family:Menlo,'DejaVu Sans Mono',consolas,'Courier New',monospace\"><span style=\"font-weight: bold\"> Non-trainable params: </span><span style=\"color: #00af00; text-decoration-color: #00af00\">0</span> (0.00 B)\n",
              "</pre>\n"
            ]
          },
          "metadata": {}
        },
        {
          "output_type": "display_data",
          "data": {
            "text/plain": [
              "\u001b[1m Optimizer params: \u001b[0m\u001b[38;5;34m8,328\u001b[0m (32.54 KB)\n"
            ],
            "text/html": [
              "<pre style=\"white-space:pre;overflow-x:auto;line-height:normal;font-family:Menlo,'DejaVu Sans Mono',consolas,'Courier New',monospace\"><span style=\"font-weight: bold\"> Optimizer params: </span><span style=\"color: #00af00; text-decoration-color: #00af00\">8,328</span> (32.54 KB)\n",
              "</pre>\n"
            ]
          },
          "metadata": {}
        }
      ]
    },
    {
      "cell_type": "markdown",
      "source": [
        "model.summary() is a Keras function that displays a detailed summary of your neural network architecture. It shows the number of layers, the type of each layer (like Dense or Dropout), the output shape of each layer, and the total number of trainable parameters. This helps you quickly understand the structure and complexity of your model before training."
      ],
      "metadata": {
        "id": "DiTP14tET3FG"
      }
    },
    {
      "cell_type": "markdown",
      "source": [
        "**5. Training**"
      ],
      "metadata": {
        "id": "pHildqzAQF5D"
      }
    },
    {
      "cell_type": "code",
      "source": [
        "model.compile(optimizer='adam', loss='categorical_crossentropy', metrics=['accuracy'])\n",
        "\n",
        "history = model.fit(X_train, y_train, epochs=10, batch_size=32, validation_split=0.2)\n"
      ],
      "metadata": {
        "colab": {
          "base_uri": "https://localhost:8080/"
        },
        "id": "0G7tDwe6JQVo",
        "outputId": "96c53841-ae21-4781-f068-09d9e8eb8c7e"
      },
      "execution_count": null,
      "outputs": [
        {
          "output_type": "stream",
          "name": "stdout",
          "text": [
            "Epoch 1/10\n",
            "\u001b[1m400/400\u001b[0m \u001b[32m━━━━━━━━━━━━━━━━━━━━\u001b[0m\u001b[37m\u001b[0m \u001b[1m2s\u001b[0m 2ms/step - accuracy: 0.5090 - loss: 0.9773 - val_accuracy: 0.3778 - val_loss: 1.1182\n",
            "Epoch 2/10\n",
            "\u001b[1m400/400\u001b[0m \u001b[32m━━━━━━━━━━━━━━━━━━━━\u001b[0m\u001b[37m\u001b[0m \u001b[1m1s\u001b[0m 2ms/step - accuracy: 0.5127 - loss: 0.9745 - val_accuracy: 0.3672 - val_loss: 1.1225\n",
            "Epoch 3/10\n",
            "\u001b[1m400/400\u001b[0m \u001b[32m━━━━━━━━━━━━━━━━━━━━\u001b[0m\u001b[37m\u001b[0m \u001b[1m1s\u001b[0m 2ms/step - accuracy: 0.5060 - loss: 0.9846 - val_accuracy: 0.3772 - val_loss: 1.1177\n",
            "Epoch 4/10\n",
            "\u001b[1m400/400\u001b[0m \u001b[32m━━━━━━━━━━━━━━━━━━━━\u001b[0m\u001b[37m\u001b[0m \u001b[1m1s\u001b[0m 2ms/step - accuracy: 0.5048 - loss: 0.9782 - val_accuracy: 0.3694 - val_loss: 1.1169\n",
            "Epoch 5/10\n",
            "\u001b[1m400/400\u001b[0m \u001b[32m━━━━━━━━━━━━━━━━━━━━\u001b[0m\u001b[37m\u001b[0m \u001b[1m1s\u001b[0m 2ms/step - accuracy: 0.5220 - loss: 0.9712 - val_accuracy: 0.3706 - val_loss: 1.1184\n",
            "Epoch 6/10\n",
            "\u001b[1m400/400\u001b[0m \u001b[32m━━━━━━━━━━━━━━━━━━━━\u001b[0m\u001b[37m\u001b[0m \u001b[1m1s\u001b[0m 2ms/step - accuracy: 0.5156 - loss: 0.9769 - val_accuracy: 0.3722 - val_loss: 1.1153\n",
            "Epoch 7/10\n",
            "\u001b[1m400/400\u001b[0m \u001b[32m━━━━━━━━━━━━━━━━━━━━\u001b[0m\u001b[37m\u001b[0m \u001b[1m1s\u001b[0m 3ms/step - accuracy: 0.5221 - loss: 0.9712 - val_accuracy: 0.3694 - val_loss: 1.1207\n",
            "Epoch 8/10\n",
            "\u001b[1m400/400\u001b[0m \u001b[32m━━━━━━━━━━━━━━━━━━━━\u001b[0m\u001b[37m\u001b[0m \u001b[1m1s\u001b[0m 2ms/step - accuracy: 0.5170 - loss: 0.9756 - val_accuracy: 0.3691 - val_loss: 1.1259\n",
            "Epoch 9/10\n",
            "\u001b[1m400/400\u001b[0m \u001b[32m━━━━━━━━━━━━━━━━━━━━\u001b[0m\u001b[37m\u001b[0m \u001b[1m1s\u001b[0m 3ms/step - accuracy: 0.5159 - loss: 0.9736 - val_accuracy: 0.3678 - val_loss: 1.1282\n",
            "Epoch 10/10\n",
            "\u001b[1m400/400\u001b[0m \u001b[32m━━━━━━━━━━━━━━━━━━━━\u001b[0m\u001b[37m\u001b[0m \u001b[1m1s\u001b[0m 2ms/step - accuracy: 0.5100 - loss: 0.9729 - val_accuracy: 0.3725 - val_loss: 1.1258\n"
          ]
        }
      ]
    },
    {
      "cell_type": "markdown",
      "source": [
        "The model.compile() line prepares the neural network for training. It sets the optimizer to 'adam' (a fast and efficient algorithm), the loss function to 'categorical_crossentropy' (used for multi-class classification), and specifies 'accuracy' as the metric to track during training.\n",
        "\n",
        "The model.fit() line starts the training process. It trains the model using the training data (X_train, y_train) for 10 epochs with a batch size of 32, and reserves 20% of the training data for validation. The training progress is stored in the history object, which can be used to plot accuracy and loss curves later."
      ],
      "metadata": {
        "id": "LxzG-OzxT-LY"
      }
    },
    {
      "cell_type": "markdown",
      "source": [
        "**6. Evaluation**"
      ],
      "metadata": {
        "id": "IFCwbUDIPmlV"
      }
    },
    {
      "cell_type": "code",
      "source": [
        "# Evaluate model\n",
        "loss, accuracy = model.evaluate(X_test, y_test)\n",
        "print(f'Test Accuracy: {accuracy:.2f}')\n",
        "\n",
        "# Predictions\n",
        "y_pred = model.predict(X_test)\n",
        "y_pred_classes = np.argmax(y_pred, axis=1)\n",
        "y_true_classes = np.argmax(y_test.values, axis=1)\n",
        "\n",
        "# Metrics\n",
        "from sklearn.metrics import classification_report, confusion_matrix\n",
        "print(confusion_matrix(y_true_classes, y_pred_classes))\n",
        "print(classification_report(y_true_classes, y_pred_classes))\n"
      ],
      "metadata": {
        "colab": {
          "base_uri": "https://localhost:8080/"
        },
        "id": "Eto8qFreJYNF",
        "outputId": "4e51e11f-a53c-4eae-9a24-29dfcf064c78"
      },
      "execution_count": null,
      "outputs": [
        {
          "output_type": "stream",
          "name": "stdout",
          "text": [
            "\u001b[1m125/125\u001b[0m \u001b[32m━━━━━━━━━━━━━━━━━━━━\u001b[0m\u001b[37m\u001b[0m \u001b[1m0s\u001b[0m 1ms/step - accuracy: 0.3840 - loss: 1.1039\n",
            "Test Accuracy: 0.38\n",
            "\u001b[1m125/125\u001b[0m \u001b[32m━━━━━━━━━━━━━━━━━━━━\u001b[0m\u001b[37m\u001b[0m \u001b[1m0s\u001b[0m 879us/step\n",
            "[[585 369 409]\n",
            " [457 371 442]\n",
            " [458 335 574]]\n",
            "              precision    recall  f1-score   support\n",
            "\n",
            "           0       0.39      0.43      0.41      1363\n",
            "           1       0.35      0.29      0.32      1270\n",
            "           2       0.40      0.42      0.41      1367\n",
            "\n",
            "    accuracy                           0.38      4000\n",
            "   macro avg       0.38      0.38      0.38      4000\n",
            "weighted avg       0.38      0.38      0.38      4000\n",
            "\n"
          ]
        }
      ]
    },
    {
      "cell_type": "markdown",
      "source": [
        "The line model.evaluate(X_test, y_test) calculates the loss and accuracy of your trained model on the test data, helping you understand how well it generalizes. The result is printed as test accuracy.\n",
        "\n",
        "Next, model.predict(X_test) generates predicted probabilities for each class. np.argmax(y_pred, axis=1) converts these probabilities into actual class labels by selecting the index of the highest value. Similarly, np.argmax(y_test.values, axis=1) extracts the true class labels from the one-hot encoded test labels.\n",
        "\n",
        "Finally, using confusion_matrix and classification_report from Scikit-learn, you evaluate the model’s performance in more detail. The confusion matrix shows how many predictions were correct or incorrect for each class, while the classification report provides precision, recall, F1-score, and support for each class—giving a complete picture of how well your model performs across all categories."
      ],
      "metadata": {
        "id": "9C4i2i21UBs3"
      }
    },
    {
      "cell_type": "markdown",
      "source": [
        "**7. Extensions**\n",
        "\n",
        "**Model Comparison**\n",
        "\n",
        "Try other algorithms like Random Forest, SVM, or XGBoost to compare performance with ANN.\n",
        "\n",
        "**Hyperparameter Tuning**\n",
        "\n",
        "Use GridSearchCV or Keras Tuner to optimize layer sizes, dropout rates, and learning rates.\n",
        "\n",
        "**Feature Engineering**\n",
        "\n",
        "Create new features such as average score or engagement index.\n",
        "\n",
        "Analyze feature importance using SHAP or permutation importance.\n",
        "\n",
        "**Interactive Dashboard**\n",
        "\n",
        "Build a user-friendly interface using Streamlit or Gradio to explore predictions dynamically.\n",
        "\n",
        "**Bilingual Presentation**\n",
        "\n",
        "Translate insights and results into Kannada for regional audiences or academic outreach.\n",
        "\n",
        "**Simulated Interventions**\n",
        "\n",
        "Predict how changes in study time, attendance, or parental support could improve performance.\n",
        "\n",
        "**Recommendation System**\n",
        "\n",
        "Suggest personalized study plans or resources based on predicted performance class.\n",
        "\n",
        "**Explainability & Ethics**\n",
        "\n",
        "Add tools to interpret model decisions and check for bias across gender or socioeconomic groups"
      ],
      "metadata": {
        "id": "6Jr70z2-Pktp"
      }
    },
    {
      "cell_type": "markdown",
      "source": [
        "**8. Tools & Frameworks**\n",
        "\n",
        "**Pandas**\n",
        "\n",
        "For loading the dataset, handling missing values, and preprocessing features.\n",
        "\n",
        "**NumPy**\n",
        "\n",
        "For numerical operations and array manipulation during model preparation.\n",
        "\n",
        "**Scikit-learn (Sklearn)**\n",
        "\n",
        "For encoding categorical variables, splitting the dataset, scaling features, and evaluating model performance using metrics like accuracy, precision, recall, F1 score, and confusion matrix.\n",
        "\n",
        "**Keras (via TensorFlow)**\n",
        "\n",
        "For building, compiling, and training the Artificial Neural Network (ANN) using the Sequential API.\n",
        "\n",
        "**Matplotlib & Seaborn (Optional)**\n",
        "\n",
        "For visualizing training history, feature distributions, and evaluation results like confusion matrices."
      ],
      "metadata": {
        "id": "e9-NJfzuRKYx"
      }
    },
    {
      "cell_type": "markdown",
      "source": [
        "**Conclusion**\n",
        "\n",
        "This project successfully demonstrates the use of an Artificial Neural Network (ANN) to classify student performance into High, Medium, and Low categories based on academic and socio-demographic features. Through careful preprocessing, feature encoding, and model training, the ANN achieved reliable accuracy and provided meaningful insights into the factors influencing student outcomes. The evaluation metrics—including accuracy, precision, recall, F1 score, and confusion matrix—validated the model’s effectiveness in handling multi-class classification. Beyond prediction, the project opens doors for personalized academic support, targeted interventions, and data-driven decision-making in educational settings. With further enhancements such as model comparison, feature importance analysis, and interactive dashboards, this work can evolve into a practical tool for educators and institutions aiming to improve student success."
      ],
      "metadata": {
        "id": "bZ2oae44SpFz"
      }
    }
  ]
}